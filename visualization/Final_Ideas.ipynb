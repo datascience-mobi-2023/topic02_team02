{
 "cells": [
  {
   "cell_type": "markdown",
   "source": [
    "## IDEAS FOR VISUALIZATION"
   ],
   "metadata": {
    "collapsed": false
   }
  },
  {
   "cell_type": "markdown",
   "source": [
    "-> 1.) Which amino acid caused the largest drops in DMS scores in different datasets?"
   ],
   "metadata": {
    "collapsed": false
   }
  },
  {
   "cell_type": "markdown",
   "source": [
    "-> 2.) Which amino acid was the most resistant across the datasets?"
   ],
   "metadata": {
    "collapsed": false
   }
  },
  {
   "cell_type": "markdown",
   "source": [
    "-> 3.) Can a trend be observed within the best/worst substitution pairs? Could this be represented in a matrix?"
   ],
   "metadata": {
    "collapsed": false
   }
  },
  {
   "cell_type": "code",
   "execution_count": null,
   "outputs": [],
   "source": [
    "import pandas as pd\n",
    "import data_cleanup as dc\n",
    "import matplotlib.pyplot as plt\n",
    "import seaborn as sns\n",
    "import domain_comparison as domc\n",
    "import data_exploration as de"
   ],
   "metadata": {
    "collapsed": false
   }
  },
  {
   "cell_type": "code",
   "execution_count": null,
   "outputs": [],
   "source": [
    "gia_null_eto: pd.DataFrame = pd.read_csv('../DMS_data/P53_HUMAN_Giacomelli_NULL_Etoposide_2018.csv')\n",
    "gia_null_nut: pd.DataFrame = pd.read_csv('../DMS_data/P53_HUMAN_Giacomelli_NULL_Nutlin_2018.csv')\n",
    "gia_wt_nut: pd.DataFrame = pd.read_csv('../DMS_data/P53_HUMAN_Giacomelli_WT_Nutlin_2018.csv')\n",
    "kot_hum: pd.DataFrame = pd.read_csv('../DMS_data/P53_HUMAN_Kotler_2018.csv')"
   ],
   "metadata": {
    "collapsed": false
   }
  },
  {
   "cell_type": "code",
   "execution_count": null,
   "outputs": [],
   "source": [
    "gia_null_eto_amp: pd.DataFrame = dc.aufteilung_mut_pos(gia_null_eto)\n",
    "gia_null_nut_amp: pd.DataFrame = dc.aufteilung_mut_pos(gia_null_eto)\n",
    "gia_wt_nut_amp: pd.DataFrame = dc.aufteilung_mut_pos(gia_wt_nut)\n",
    "kot_hum_amp: pd.DataFrame = dc.aufteilung_mut_pos(kot_hum)"
   ],
   "metadata": {
    "collapsed": false
   }
  },
  {
   "cell_type": "markdown",
   "source": [
    "-> 1.)"
   ],
   "metadata": {
    "collapsed": false
   }
  },
  {
   "cell_type": "code",
   "execution_count": null,
   "outputs": [],
   "source": [
    "def calculate_average_dms_score(df):\n",
    "    grouped = df.groupby('AS_new')\n",
    "    sums = grouped['DMS_score'].sum()\n",
    "    counts = grouped['DMS_score'].count()\n",
    "    averages = sums / counts\n",
    "    return averages"
   ],
   "metadata": {
    "collapsed": false
   }
  },
  {
   "cell_type": "code",
   "execution_count": null,
   "outputs": [],
   "source": [
    "de.calculate_average_dms_score_new(gia_null_eto_amp)"
   ],
   "metadata": {
    "collapsed": false
   }
  },
  {
   "cell_type": "code",
   "execution_count": null,
   "outputs": [],
   "source": [
    "de.calculate_average_dms_score_new(kot_hum_amp)"
   ],
   "metadata": {
    "collapsed": false
   }
  },
  {
   "cell_type": "code",
   "execution_count": null,
   "outputs": [],
   "source": [
    "de.calculate_average_dms_score_new(gia_null_nut_amp)"
   ],
   "metadata": {
    "collapsed": false
   }
  },
  {
   "cell_type": "code",
   "execution_count": null,
   "outputs": [],
   "source": [
    "#DNA Binding Domain\n",
    "dna_start = 102\n",
    "dna_end = 292"
   ],
   "metadata": {
    "collapsed": false
   }
  },
  {
   "cell_type": "code",
   "execution_count": null,
   "outputs": [],
   "source": [
    "dna_list = domc.slice_domain(gia_null_eto_amp, start= dna_start, end= dna_end)"
   ],
   "metadata": {
    "collapsed": false
   }
  },
  {
   "cell_type": "code",
   "execution_count": null,
   "outputs": [],
   "source": [
    "calculate_average_dms_score(dna_list)"
   ],
   "metadata": {
    "collapsed": false
   }
  },
  {
   "cell_type": "markdown",
   "source": [
    "-> 3.)"
   ],
   "metadata": {
    "collapsed": false
   }
  },
  {
   "cell_type": "markdown",
   "source": [
    "## GIA NULL ETO"
   ],
   "metadata": {
    "collapsed": false
   }
  },
  {
   "cell_type": "code",
   "execution_count": null,
   "outputs": [],
   "source": [
    "fpathGNE = '../DMS_data/P53_HUMAN_Giacomelli_NULL_Etoposide_2018.csv'\n",
    "dfGNE = pd.read_csv(fpathGNE)\n",
    "mutations_dfGNE = dc.aufteilung_mut_pos(dfGNE)\n",
    "subs_df = mutations_dfGNE.groupby([\"AS_old\", \"AS_new\"])\n",
    "mean_scoresGNE = subs_df.DMS_score.mean()\n",
    "mean_scores_dfGNE = mean_scoresGNE.reset_index()\n",
    "mean_substitutionsGNE = mean_scores_dfGNE.pivot(index=\"AS_old\", columns=\"AS_new\", values=\"DMS_score\")\n",
    "dc.rmv_na(mean_substitutionsGNE)"
   ],
   "metadata": {
    "collapsed": false
   }
  },
  {
   "cell_type": "markdown",
   "source": [
    "## GIA NULL NUT"
   ],
   "metadata": {
    "collapsed": false
   }
  },
  {
   "cell_type": "code",
   "execution_count": null,
   "outputs": [],
   "source": [
    "fpathGNN = '../DMS_data/P53_HUMAN_Giacomelli_NULL_Nutlin_2018.csv'\n",
    "dfGNN = pd.read_csv(fpathGNN)\n",
    "mutations_dfGNN = dc.aufteilung_mut_pos(dfGNN)\n",
    "subs_df = mutations_dfGNN.groupby([\"AS_old\", \"AS_new\"])\n",
    "mean_scoresGNN = subs_df.DMS_score.mean()\n",
    "mean_scores_dfGNN = mean_scoresGNN.reset_index()\n",
    "mean_substitutionsGNN = mean_scores_dfGNN.pivot(index=\"AS_old\", columns=\"AS_new\", values=\"DMS_score\")\n",
    "dc.rmv_na(mean_substitutionsGNN)"
   ],
   "metadata": {
    "collapsed": false
   }
  },
  {
   "cell_type": "markdown",
   "source": [
    "## GIA WT NUT"
   ],
   "metadata": {
    "collapsed": false
   }
  },
  {
   "cell_type": "code",
   "execution_count": null,
   "outputs": [],
   "source": [
    "fpathGWN = '../DMS_data/P53_HUMAN_Giacomelli_WT_Nutlin_2018.csv'\n",
    "dfGWN = pd.read_csv(fpathGWN)\n",
    "mutations_dfGWN = dc.aufteilung_mut_pos(dfGWN)\n",
    "subs_df = mutations_dfGWN.groupby([\"AS_old\", \"AS_new\"])\n",
    "mean_scoresGWN = subs_df.DMS_score.mean()\n",
    "mean_scores_dfGWN = mean_scoresGWN.reset_index()\n",
    "mean_substitutionsGWN = mean_scores_dfGWN.pivot(index=\"AS_old\", columns=\"AS_new\", values=\"DMS_score\")\n",
    "dc.rmv_na(mean_substitutionsGWN)"
   ],
   "metadata": {
    "collapsed": false
   }
  },
  {
   "cell_type": "markdown",
   "source": [
    "## KOT HUM"
   ],
   "metadata": {
    "collapsed": false
   }
  },
  {
   "cell_type": "code",
   "execution_count": null,
   "outputs": [],
   "source": [
    "fpathKH = '../DMS_data/P53_HUMAN_Giacomelli_WT_Nutlin_2018.csv'\n",
    "dfKH = pd.read_csv(fpathKH)\n",
    "mutations_dfKH = dc.aufteilung_mut_pos(dfKH)\n",
    "subs_df = mutations_dfKH.groupby([\"AS_old\", \"AS_new\"])\n",
    "mean_scoresKH = subs_df.DMS_score.mean()\n",
    "mean_scores_dfKH = mean_scoresKH.reset_index()\n",
    "mean_substitutionsKH = mean_scores_dfKH.pivot(index=\"AS_old\", columns=\"AS_new\", values=\"DMS_score\")\n",
    "dc.rmv_na(mean_substitutionsKH)"
   ],
   "metadata": {
    "collapsed": false
   }
  },
  {
   "cell_type": "code",
   "execution_count": null,
   "outputs": [],
   "source": [
    "def hmap(frame: pd.DataFrame) -> None:\n",
    "    frame_reset = frame.reset_index()  # Reset index to make 'AS_new' a column\n",
    "    hmap_frame = frame_reset.pivot(index='AS_new', columns=['position_mut', 'AS_old'], values='DMS_score')\n",
    "    plt.figure(figsize=(50, 8))\n",
    "    sns.set(font_scale=2)\n",
    "    sns.heatmap(hmap_frame, cmap='seismic')\n",
    "    plt.title('DMS Scores for Mutations')\n",
    "    plt.show()\n",
    "    return None\n",
    "\n"
   ],
   "metadata": {
    "collapsed": false
   }
  },
  {
   "cell_type": "code",
   "execution_count": null,
   "outputs": [],
   "source": [
    "mean_substitutionsGNE.head(20)"
   ],
   "metadata": {
    "collapsed": false
   }
  },
  {
   "cell_type": "code",
   "execution_count": null,
   "outputs": [],
   "source": [
    "df = mean_substitutionsGNE\n",
    "plt.figure(figsize=(50, 10))\n",
    "sns.heatmap(df, cmap='coolwarm', annot=True, fmt=\".2f\", linewidths=0.5)\n",
    "plt.title('Heatmap of AS_new vs AS_old')\n",
    "plt.xlabel('AS_new')\n",
    "plt.ylabel('AS_old')\n",
    "\n",
    "plt.show()"
   ],
   "metadata": {
    "collapsed": false
   }
  },
  {
   "cell_type": "code",
   "execution_count": null,
   "outputs": [],
   "source": [
    "def hmap_mean_variance (df = pd.DataFrame) -> None:\n",
    "    plt.figure(figsize=(50, 10))\n",
    "    sns.heatmap(df, cmap='coolwarm', annot=True, fmt=\".2f\", linewidths=0.5)\n",
    "    plt.title('Heatmap of AS_new vs AS_old')\n",
    "    plt.xlabel('AS_new')\n",
    "    plt.ylabel('AS_old')\n",
    "    plt.show()\n",
    "    return None"
   ],
   "metadata": {
    "collapsed": false
   }
  },
  {
   "cell_type": "code",
   "execution_count": null,
   "outputs": [],
   "source": [
    "hmap_mean_variance(mean_substitutionsGNE)\n",
    "hmap_mean_variance(mean_substitutionsGNN)\n",
    "hmap_mean_variance(mean_substitutionsGWN)\n",
    "hmap_mean_variance(mean_substitutionsKH)"
   ],
   "metadata": {
    "collapsed": false
   }
  },
  {
   "cell_type": "code",
   "execution_count": null,
   "outputs": [],
   "source": [
    "gia_null_eto_amp.head(20)"
   ],
   "metadata": {
    "collapsed": false
   }
  },
  {
   "cell_type": "code",
   "execution_count": null,
   "outputs": [],
   "source": [
    "def calculate_average_dms_score_old(df):\n",
    "    grouped = df.groupby('AS_old')\n",
    "    sums = grouped['DMS_score'].sum()\n",
    "    counts = grouped['DMS_score'].count()\n",
    "    averages = sums / counts\n",
    "    return averages\n"
   ],
   "metadata": {
    "collapsed": false
   }
  },
  {
   "cell_type": "code",
   "execution_count": null,
   "outputs": [],
   "source": [
    "calculate_average_dms_score_old(gia_null_eto_amp)"
   ],
   "metadata": {
    "collapsed": false
   }
  },
  {
   "cell_type": "code",
   "execution_count": null,
   "outputs": [],
   "source": [
    "def calculate_average_dms_score_old(*args):\n",
    "    results = {}\n",
    "\n",
    "    for arg in args:\n",
    "        df_name = arg[0]\n",
    "        df = arg[1]\n",
    "        grouped = df.groupby('AS_old')\n",
    "        sums = grouped['DMS_score'].sum()\n",
    "        counts = grouped['DMS_score'].count()\n",
    "        averages = sums / counts\n",
    "        results[df_name] = averages\n",
    "\n",
    "    result_df = pd.DataFrame(results)\n",
    "    return result_df"
   ],
   "metadata": {
    "collapsed": false
   }
  },
  {
   "cell_type": "code",
   "execution_count": null,
   "outputs": [],
   "source": [
    "calculate_average_dms_score_old(('GNE', gia_null_eto_amp), ('GNN', gia_null_nut_amp), ('GWN', gia_wt_nut_amp), ('KH', kot_hum_amp))\n"
   ],
   "metadata": {
    "collapsed": false
   }
  },
  {
   "cell_type": "code",
   "execution_count": null,
   "outputs": [],
   "source": [
    "#this function shows us the aminoacids that, when mutated into, caused the greatest dropoff/increase of the DMS score"
   ],
   "metadata": {
    "collapsed": false
   }
  }
 ],
 "metadata": {
  "kernelspec": {
   "display_name": "Python 3",
   "language": "python",
   "name": "python3"
  },
  "language_info": {
   "codemirror_mode": {
    "name": "ipython",
    "version": 2
   },
   "file_extension": ".py",
   "mimetype": "text/x-python",
   "name": "python",
   "nbconvert_exporter": "python",
   "pygments_lexer": "ipython2",
   "version": "2.7.6"
  }
 },
 "nbformat": 4,
 "nbformat_minor": 0
}
