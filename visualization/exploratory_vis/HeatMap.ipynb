{
 "cells": [
  {
   "cell_type": "markdown",
   "source": [
    "#### HEATMAPPING\n",
    "In this notebook, I tested methods of heatmapping."
   ],
   "metadata": {
    "collapsed": false
   }
  },
  {
   "cell_type": "code",
   "execution_count": null,
   "metadata": {
    "collapsed": true
   },
   "outputs": [],
   "source": [
    "#Dario testing if he can plot following Dataset: \"P53_HUMAN_Giacomelli_NULL_Etoposide_2018.csv\" in a Heatmap with the DMS scores as a metric"
   ]
  },
  {
   "cell_type": "code",
   "execution_count": null,
   "outputs": [],
   "source": [
    "import pandas as pd\n",
    "import re\n",
    "import seaborn as sns\n",
    "import matplotlib.pyplot as plt"
   ],
   "metadata": {
    "collapsed": false
   }
  },
  {
   "cell_type": "code",
   "execution_count": null,
   "outputs": [],
   "source": [
    "#Here, the new variable 'Dataset1' (of type DataFrame) reads the following file. The 'pd.' indicates that it is a command from the 'pandas' package\n",
    "Datensatz1 = pd.read_csv('../../DMS_data/P53_HUMAN_Giacomelli_NULL_Etoposide_2018.csv')\n",
    "#Now I separate the values of 'mutant' as they are given in the format original amino acid position new amino acid, in order to plot the new amino acids against the corresponding position.\n",
    "#Here, in a new column of 'Datensatz1' called 'PositionDerMutation', the position (i.e., the numerical value) is extracted and saved.\n",
    "Datensatz1['PositionDerMutation'] = Datensatz1[\"mutant\"].apply(lambda x: re.search(r'\\d+', x).group())\n",
    "#Here, in a new column of 'Datensatz1' called 'Alte_AS', the original amino acid is extracted and saved.\n",
    "Datensatz1['Alte_AS'] = Datensatz1[\"mutant\"].apply(lambda x: re.search(r'[A-Z]', x).group())\n",
    "#Here, in a new column of 'Datensatz2' called 'Neue_AS', the new (mutated) amino acid is extracted and saved.\"\n",
    "Datensatz1['Neue_AS'] = Datensatz1[\"mutant\"].apply(lambda x: re.search(r'[A-Z]\\d+([A-Z])', x).group(1))"
   ],
   "metadata": {
    "collapsed": false
   }
  },
  {
   "cell_type": "code",
   "execution_count": null,
   "outputs": [],
   "source": [
    "# The variable \"HeatMapTest\" (of type pandas.core.frame.DataFrame) is created, which will be converted into a heatmap.\n",
    "# The columns of the heatmap are given by \"New_AA\" from \"Dataset1\", and the rows are given by \"MutationPosition\" and \"Old_AA\".\n",
    "HeatMapTest = Datensatz1.pivot(index=['PositionDerMutation', 'Alte_AS'], columns='Neue_AS', values='DMS_score')\n",
    "# Creating a heatmap using the data from \"HeatMapTest\" and the color scheme \"coolwarm\" using the \"seaborn\" package.\n",
    "sns.heatmap(HeatMapTest, cmap='coolwarm')\n",
    "# Setting the title of the heatmap to \"DMS Scores for Mutations\".\n",
    "plt.title('DMS Scores for Mutations')\n",
    "# Displaying the heatmap.\n",
    "plt.show()\n"
   ],
   "metadata": {
    "collapsed": false
   }
  }
 ],
 "metadata": {
  "kernelspec": {
   "display_name": "Python 3",
   "language": "python",
   "name": "python3"
  },
  "language_info": {
   "codemirror_mode": {
    "name": "ipython",
    "version": 2
   },
   "file_extension": ".py",
   "mimetype": "text/x-python",
   "name": "python",
   "nbconvert_exporter": "python",
   "pygments_lexer": "ipython2",
   "version": "2.7.6"
  }
 },
 "nbformat": 4,
 "nbformat_minor": 0
}
