{
 "cells": [
  {
   "cell_type": "markdown",
   "source": [
    "#### FINAL TESTS IN VISUALIZATION OF DATA\n",
    "In this notebook, I tested the final versions of my methods and logistic in terms of visualization."
   ],
   "metadata": {
    "collapsed": false
   }
  },
  {
   "cell_type": "code",
   "execution_count": null,
   "outputs": [],
   "source": [
    "import pandas as pd\n",
    "import data_cleanup as dc\n",
    "import data_exploration as de\n",
    "import Documentation as doc\n",
    "import visualization as vis\n",
    "\n",
    "import severity_score as ss"
   ],
   "metadata": {
    "collapsed": false
   }
  },
  {
   "cell_type": "code",
   "execution_count": null,
   "outputs": [],
   "source": [
    "# RNA SEQUENCE AND SLICING"
   ],
   "metadata": {
    "collapsed": false
   }
  },
  {
   "cell_type": "code",
   "execution_count": null,
   "outputs": [],
   "source": [
    "mutated_p53 = ss.generate_codon_variations(ss.p53_codons_gia)\n",
    "aa = ss.translate_codons_df(mutated_p53)"
   ],
   "metadata": {
    "collapsed": false
   }
  },
  {
   "cell_type": "code",
   "execution_count": null,
   "outputs": [],
   "source": [
    "# 1.1.) IMPORTING THE NATIVE DATASETS"
   ],
   "metadata": {
    "collapsed": false
   }
  },
  {
   "cell_type": "code",
   "execution_count": null,
   "outputs": [],
   "source": [
    "gia_null_eto: pd.DataFrame = pd.read_csv('../DMS_data/P53_HUMAN_Giacomelli_NULL_Etoposide_2018.csv')\n",
    "gia_null_nut: pd.DataFrame = pd.read_csv('../DMS_data/P53_HUMAN_Giacomelli_NULL_Nutlin_2018.csv')\n",
    "gia_wt_nut: pd.DataFrame = pd.read_csv('../DMS_data/P53_HUMAN_Giacomelli_WT_Nutlin_2018.csv')\n",
    "kot_hum: pd.DataFrame = pd.read_csv('../DMS_data/P53_HUMAN_Kotler_2018.csv')"
   ],
   "metadata": {
    "collapsed": false
   }
  },
  {
   "cell_type": "code",
   "execution_count": null,
   "outputs": [],
   "source": [
    "# PART 1 ONLY SINGLE MUTATIONS"
   ],
   "metadata": {
    "collapsed": false
   }
  },
  {
   "cell_type": "code",
   "execution_count": null,
   "outputs": [],
   "source": [
    "# 1.2.) INVERSE DF_TRAFO : NOTE : NO LONGER NEEDED, CHANGED FUNCTION SELECT_SMUT"
   ],
   "metadata": {
    "collapsed": false
   }
  },
  {
   "cell_type": "code",
   "execution_count": null,
   "outputs": [],
   "source": [
    "gia_null_eto_dfi: pd.DataFrame = dc.df_transform(gia_null_eto).T\n",
    "gia_null_nut_dfi: pd.DataFrame = dc.df_transform(gia_null_nut).T\n",
    "gia_wt_nut_dfi: pd.DataFrame = dc.df_transform(gia_wt_nut).T\n",
    "kot_hum_dfi: pd.DataFrame = dc.df_transform(kot_hum).T"
   ],
   "metadata": {
    "collapsed": false
   }
  },
  {
   "cell_type": "code",
   "execution_count": null,
   "outputs": [],
   "source": [
    "# 1.3.) CREATE VARIATION_MATRIX AND CLEAN IT"
   ],
   "metadata": {
    "collapsed": false
   }
  },
  {
   "cell_type": "code",
   "execution_count": null,
   "outputs": [],
   "source": [
    "variation_matrix_gia = ss.translate_codons_df(ss.generate_codon_variations(ss.p53_codons_gia))\n",
    "cleaned_vm_gia = ss.clean_variation_matrix(variation_matrix_gia)\n",
    "cleaned_vm_kot = cleaned_vm_gia.iloc[101:292].copy()"
   ],
   "metadata": {
    "collapsed": false
   }
  },
  {
   "cell_type": "code",
   "execution_count": null,
   "outputs": [],
   "source": [
    "# 1.4.) Removing all Mutations that cannot be reached by a singular Mutation"
   ],
   "metadata": {
    "collapsed": false
   }
  },
  {
   "cell_type": "code",
   "execution_count": null,
   "outputs": [],
   "source": [
    "gia_null_eto_dfi_cvm_aa: pd.DataFrame = ss.select_smut(gia_null_eto_dfi, cleaned_vm_gia)\n",
    "gia_null_nut_cvm_aa: pd.DataFrame = ss.select_smut(gia_null_nut_dfi, cleaned_vm_gia)\n",
    "gia_wt_nut_cvm_aa: pd.DataFrame = ss.select_smut(gia_wt_nut_dfi, cleaned_vm_gia)"
   ],
   "metadata": {
    "collapsed": false
   }
  },
  {
   "cell_type": "code",
   "execution_count": null,
   "outputs": [],
   "source": [
    "# PART 2 ALL"
   ],
   "metadata": {
    "collapsed": false
   }
  },
  {
   "cell_type": "code",
   "execution_count": null,
   "outputs": [],
   "source": [
    "# 2.1.) Z-TRANSFORMATION"
   ],
   "metadata": {
    "collapsed": false
   }
  },
  {
   "cell_type": "code",
   "execution_count": null,
   "outputs": [],
   "source": [
    "gia_null_eto_z: pd.DataFrame = dc.z_transform(gia_null_eto)\n",
    "gia_null_nut_z: pd.DataFrame = dc.z_transform(gia_null_nut)\n",
    "gia_wt_nut_z: pd.DataFrame = dc.z_transform(gia_wt_nut)\n",
    "kot_hum_z: pd.DataFrame = dc.z_transform(kot_hum)"
   ],
   "metadata": {
    "collapsed": false
   }
  },
  {
   "cell_type": "code",
   "execution_count": null,
   "outputs": [],
   "source": [
    "# 2.2.) MIN-MAX-SCALING"
   ],
   "metadata": {
    "collapsed": false
   }
  },
  {
   "cell_type": "code",
   "execution_count": null,
   "outputs": [],
   "source": [
    "gia_null_eto_z_mmn: pd.DataFrame = dc.min_max_norm(gia_null_eto_z)\n",
    "gia_null_nut_z_mmn: pd.DataFrame = dc.min_max_norm(gia_null_nut_z)\n",
    "gia_wt_nut_z_mmn: pd.DataFrame = dc.min_max_norm(gia_wt_nut_z)\n",
    "kot_hum_z_mmn: pd.DataFrame = dc.min_max_norm(kot_hum_z)"
   ],
   "metadata": {
    "collapsed": false
   }
  },
  {
   "cell_type": "code",
   "execution_count": null,
   "outputs": [],
   "source": [
    "# 2.3.) DF_TRANSFORMATION"
   ],
   "metadata": {
    "collapsed": false
   }
  },
  {
   "cell_type": "code",
   "execution_count": null,
   "outputs": [],
   "source": [
    "gia_null_eto_z_mmn_df: pd.DataFrame = dc.df_transform(gia_null_eto_z_mmn)\n",
    "gia_null_nut_z_mmn_df: pd.DataFrame = dc.df_transform(gia_null_nut_z_mmn)\n",
    "gia_wt_nut_z_mmn_df: pd.DataFrame = dc.df_transform(gia_wt_nut_z_mmn)\n",
    "kot_hum_z_mmn_df: pd.DataFrame = dc.df_transform(kot_hum_z_mmn)"
   ],
   "metadata": {
    "collapsed": false
   }
  },
  {
   "cell_type": "code",
   "execution_count": null,
   "outputs": [],
   "source": [
    "# 2.4.) MEAN AT EACH POSITION"
   ],
   "metadata": {
    "collapsed": false
   }
  },
  {
   "cell_type": "code",
   "execution_count": null,
   "outputs": [],
   "source": [
    "gia_null_eto_z_mmn_df_mean: pd.DataFrame = de.df_mean(gia_null_eto_z_mmn_df)\n",
    "gia_null_nut_z_mmn_df_mean: pd.DataFrame = de.df_mean(gia_null_nut_z_mmn_df)\n",
    "gia_wt_nut_z_mmn_df_mean: pd.DataFrame = de.df_mean(gia_wt_nut_z_mmn_df)\n",
    "kot_hum_z_mmn_df_mean: pd.DataFrame = de.df_mean(kot_hum_z_mmn_df)"
   ],
   "metadata": {
    "collapsed": false
   }
  },
  {
   "cell_type": "code",
   "execution_count": null,
   "outputs": [],
   "source": [
    "# LINEGRAPH TESTING"
   ],
   "metadata": {
    "collapsed": false
   }
  },
  {
   "cell_type": "code",
   "execution_count": null,
   "outputs": [],
   "source": [
    "kot_hum_z_mmn_df_mean.name = 'kot_hum_z_mmn_df_mean'\n",
    "gia_null_nut_z_mmn_df_mean.name = 'gia_null_nut_z_mmn_df_mean'\n",
    "gia_wt_nut_z_mmn_df_mean.name = 'gia_wt_nut_z_mmn_df_mean'\n",
    "gia_null_eto_z_mmn_df_mean.name = 'gia_null_eto_z_mmn_df_mean'"
   ],
   "metadata": {
    "collapsed": false
   }
  },
  {
   "cell_type": "code",
   "execution_count": null,
   "outputs": [],
   "source": [
    "dataframes = [gia_wt_nut_z_mmn_df_mean, gia_null_eto_z_mmn_df_mean, gia_null_nut_z_mmn_df_mean, kot_hum_z_mmn_df_mean]"
   ],
   "metadata": {
    "collapsed": false
   }
  },
  {
   "cell_type": "code",
   "execution_count": null,
   "outputs": [],
   "source": [
    "vis.linegraph(dataframes)"
   ],
   "metadata": {
    "collapsed": false
   }
  },
  {
   "cell_type": "code",
   "execution_count": null,
   "outputs": [],
   "source": [
    "dataframes_gia_wt_nut = [gia_wt_nut_z_mmn_df_mean]"
   ],
   "metadata": {
    "collapsed": false
   }
  },
  {
   "cell_type": "code",
   "execution_count": null,
   "outputs": [],
   "source": [
    "dataframes_gia_null_eto = [gia_null_eto_z_mmn_df_mean]"
   ],
   "metadata": {
    "collapsed": false
   }
  },
  {
   "cell_type": "code",
   "execution_count": null,
   "outputs": [],
   "source": [
    "dataframes_gia_null_nut = [gia_null_nut_z_mmn_df_mean]"
   ],
   "metadata": {
    "collapsed": false
   }
  },
  {
   "cell_type": "code",
   "execution_count": null,
   "outputs": [],
   "source": [
    "dataframes_kot_hum = [kot_hum_z_mmn_df_mean]"
   ],
   "metadata": {
    "collapsed": false
   }
  },
  {
   "cell_type": "code",
   "execution_count": null,
   "outputs": [],
   "source": [
    "vis.linegraph(dataframes_gia_null_eto)"
   ],
   "metadata": {
    "collapsed": false
   }
  },
  {
   "cell_type": "code",
   "execution_count": null,
   "outputs": [],
   "source": [
    "vis.linegraph(dataframes_gia_null_nut)"
   ],
   "metadata": {
    "collapsed": false
   }
  },
  {
   "cell_type": "code",
   "execution_count": null,
   "outputs": [],
   "source": [
    "vis.linegraph(dataframes_gia_wt_nut)"
   ],
   "metadata": {
    "collapsed": false
   }
  },
  {
   "cell_type": "code",
   "execution_count": null,
   "outputs": [],
   "source": [
    "vis.linegraph(dataframes_kot_hum)"
   ],
   "metadata": {
    "collapsed": false
   }
  },
  {
   "cell_type": "code",
   "execution_count": null,
   "outputs": [],
   "source": [
    "# MULTIPLE HEATMAP TESTING"
   ],
   "metadata": {
    "collapsed": false
   }
  },
  {
   "cell_type": "code",
   "execution_count": null,
   "outputs": [],
   "source": [
    "vis.mult_hmap(gia_null_nut, gia_null_eto, gia_wt_nut)"
   ],
   "metadata": {
    "collapsed": false
   }
  },
  {
   "cell_type": "code",
   "execution_count": null,
   "outputs": [],
   "source": [
    "vis.mult_hmap(gia_null_nut, gia_null_eto, gia_wt_nut)"
   ],
   "metadata": {
    "collapsed": false
   }
  },
  {
   "cell_type": "code",
   "execution_count": null,
   "outputs": [],
   "source": [
    "vis.mult_hmap(gia_null_eto, gia_wt_nut, gia_null_nut)"
   ],
   "metadata": {
    "collapsed": false
   }
  },
  {
   "cell_type": "code",
   "execution_count": null,
   "outputs": [],
   "source": [
    "# TESTING SOME OF MY FUNCTIONS ON COMPLETElY DIFFERENT DATASETS"
   ],
   "metadata": {
    "collapsed": false
   }
  },
  {
   "cell_type": "code",
   "execution_count": null,
   "outputs": [],
   "source": [
    "ADRB2_hum: pd.DataFrame = pd.read_csv('../DMS_data/ADRB2_HUMAN_Jones_2020.csv')\n",
    "ADRB2_hum_amp: pd.DataFrame = dc.aufteilung_mut_pos(ADRB2_hum)\n",
    "ADRB2_hum_norm: pd.DataFrame = dc.norm(ADRB2_hum)\n",
    "ADRB2_hum_norm_df: pd.DataFrame = dc.df_transform(ADRB2_hum_norm)\n",
    "ADRB2_hum_norm_df_mean: pd.DataFrame = de.df_mean(ADRB2_hum_norm_df)\n",
    "dataframe_ADRB = [ADRB2_hum_norm_df_mean]\n",
    "ADRB2_hum_norm_df_mean.name = 'ADRB2_HUMAN_Jones_2020'"
   ],
   "metadata": {
    "collapsed": false
   }
  },
  {
   "cell_type": "code",
   "execution_count": null,
   "outputs": [],
   "source": [
    "vis.hmap(ADRB2_hum_amp)"
   ],
   "metadata": {
    "collapsed": false
   }
  },
  {
   "cell_type": "code",
   "execution_count": null,
   "outputs": [],
   "source": [
    "vis.linegraph(dataframe_ADRB)"
   ],
   "metadata": {
    "collapsed": false
   }
  },
  {
   "cell_type": "code",
   "execution_count": null,
   "outputs": [],
   "source": [
    "BLAT: pd.DataFrame = pd.read_csv('../DMS_data/BLAT_ECOLX_Stiffler_2015.csv')\n",
    "BLAT_amp: pd.DataFrame = dc.aufteilung_mut_pos(BLAT)\n",
    "BLAT_norm: pd.DataFrame = dc.norm(BLAT)\n",
    "BLAT_norm_df: pd.DataFrame = dc.df_transform(BLAT_norm)\n",
    "BLAT_norm_df_mean: pd.DataFrame = de.df_mean(BLAT_norm_df)\n",
    "dataframe_BLAT = [BLAT_norm_df_mean]\n",
    "BLAT_norm_df_mean.name = 'BLAT_ECOLX_Stiffler_2015.csv'"
   ],
   "metadata": {
    "collapsed": false
   }
  },
  {
   "cell_type": "code",
   "execution_count": null,
   "outputs": [],
   "source": [
    "vis.hmap(BLAT_amp)"
   ],
   "metadata": {
    "collapsed": false
   }
  },
  {
   "cell_type": "code",
   "execution_count": null,
   "outputs": [],
   "source": [
    "vis.linegraph(dataframe_BLAT)"
   ],
   "metadata": {
    "collapsed": false
   }
  },
  {
   "cell_type": "code",
   "execution_count": null,
   "outputs": [],
   "source": [
    "BRCA: pd.DataFrame = pd.read_csv('../DMS_data/BRCA1_HUMAN_Findlay_2018.csv')\n",
    "BRCA_amp: pd.DataFrame = dc.aufteilung_mut_pos(BRCA)\n",
    "BRCA_norm: pd.DataFrame = dc.norm(BRCA)\n",
    "BRCA_norm_df: pd.DataFrame = dc.df_transform(BRCA_norm)\n",
    "BRCA_norm_df_mean: pd.DataFrame = de.df_mean(BRCA_norm_df)\n",
    "dataframe_BRCA = [BRCA_norm_df_mean]\n",
    "BRCA_norm_df_mean.name = 'BRCA1_HUMAN_Findlay_2018.csv'"
   ],
   "metadata": {
    "collapsed": false
   }
  },
  {
   "cell_type": "code",
   "execution_count": null,
   "outputs": [],
   "source": [
    "vis.hmap(doc.kot_hum)"
   ],
   "metadata": {
    "collapsed": false
   }
  },
  {
   "cell_type": "code",
   "execution_count": null,
   "outputs": [],
   "source": [
    "vis.linegraph(dataframe_BRCA)"
   ],
   "metadata": {
    "collapsed": false
   }
  }
 ],
 "metadata": {
  "kernelspec": {
   "display_name": "Python 3",
   "language": "python",
   "name": "python3"
  },
  "language_info": {
   "codemirror_mode": {
    "name": "ipython",
    "version": 2
   },
   "file_extension": ".py",
   "mimetype": "text/x-python",
   "name": "python",
   "nbconvert_exporter": "python",
   "pygments_lexer": "ipython2",
   "version": "2.7.6"
  }
 },
 "nbformat": 4,
 "nbformat_minor": 0
}
