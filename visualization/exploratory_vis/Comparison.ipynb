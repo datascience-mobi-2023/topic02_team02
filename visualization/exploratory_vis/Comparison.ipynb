{
 "cells": [
  {
   "cell_type": "code",
   "execution_count": null,
   "outputs": [],
   "source": [
    "# Can we create a comparability within our datasets?"
   ],
   "metadata": {
    "collapsed": false
   }
  },
  {
   "cell_type": "code",
   "execution_count": null,
   "outputs": [],
   "source": [
    "import pandas as pd\n",
    "import data_cleanup as dc\n",
    "import visualization as vis"
   ],
   "metadata": {
    "collapsed": false
   }
  },
  {
   "cell_type": "code",
   "execution_count": null,
   "outputs": [],
   "source": [
    "fpathKH = '../../DMS_data/P53_HUMAN_Giacomelli_WT_Nutlin_2018.csv'\n",
    "dfKH = pd.read_csv(fpathKH)\n",
    "mutations_dfKH = dc.aufteilung_mut_pos(dfKH)\n",
    "mutations_dfKH_norm: pd.DataFrame = dc.norm(mutations_dfKH)\n",
    "subs_df = mutations_dfKH_norm.groupby([\"AS_old\", \"AS_new\"])\n",
    "mean_scoresKH = subs_df.DMS_score.mean()\n",
    "mean_scores_dfKH = mean_scoresKH.reset_index()\n",
    "mean_substitutionsKH = mean_scores_dfKH.pivot(index=\"AS_old\", columns=\"AS_new\", values=\"DMS_score\")\n",
    "dc.rmv_na(mean_substitutionsKH)"
   ],
   "metadata": {
    "collapsed": false
   }
  },
  {
   "cell_type": "code",
   "execution_count": null,
   "outputs": [],
   "source": [
    "gia_null_eto: pd.DataFrame = pd.read_csv('../../DMS_data/P53_HUMAN_Giacomelli_NULL_Etoposide_2018.csv')\n",
    "gia_null_nut: pd.DataFrame = pd.read_csv('../../DMS_data/P53_HUMAN_Giacomelli_NULL_Nutlin_2018.csv')\n",
    "gia_wt_nut: pd.DataFrame = pd.read_csv('../../DMS_data/P53_HUMAN_Giacomelli_WT_Nutlin_2018.csv')\n",
    "kot_hum: pd.DataFrame = pd.read_csv('../../DMS_data/P53_HUMAN_Kotler_2018.csv')"
   ],
   "metadata": {
    "collapsed": false
   }
  },
  {
   "cell_type": "code",
   "execution_count": null,
   "metadata": {
    "collapsed": true
   },
   "outputs": [],
   "source": [
    "# Heatmapping"
   ]
  },
  {
   "cell_type": "code",
   "execution_count": null,
   "outputs": [],
   "source": [
    "# 1.) (min/max)"
   ],
   "metadata": {
    "collapsed": false
   }
  },
  {
   "cell_type": "code",
   "execution_count": null,
   "outputs": [],
   "source": [
    "gia_null_eto_mmn: pd.DataFrame = dc.min_max_norm(gia_null_eto)\n",
    "gia_null_nut_mmn: pd.DataFrame = dc.min_max_norm(gia_null_nut)\n",
    "gia_wt_nut_mmn: pd.DataFrame = dc.min_max_norm(gia_wt_nut)\n",
    "kot_hum_mmn: pd.DataFrame = dc.min_max_norm(kot_hum)"
   ],
   "metadata": {
    "collapsed": false
   }
  },
  {
   "cell_type": "code",
   "execution_count": null,
   "outputs": [],
   "source": [
    "# 2.) (z_transformation)"
   ],
   "metadata": {
    "collapsed": false
   }
  },
  {
   "cell_type": "code",
   "execution_count": null,
   "outputs": [],
   "source": [
    "gia_null_eto_ztf: pd.DataFrame = dc.z_transform(gia_null_eto)\n",
    "gia_null_nut_ztf: pd.DataFrame = dc.z_transform(gia_null_nut)\n",
    "gia_wt_nut_ztf: pd.DataFrame = dc.z_transform(gia_wt_nut)\n",
    "kot_hum_ztf: pd.DataFrame = dc.z_transform(kot_hum)"
   ],
   "metadata": {
    "collapsed": false
   }
  },
  {
   "cell_type": "code",
   "execution_count": null,
   "outputs": [],
   "source": [
    "# 3.) Splitting up the dataset into position and mutation"
   ],
   "metadata": {
    "collapsed": false
   }
  },
  {
   "cell_type": "code",
   "execution_count": null,
   "outputs": [],
   "source": [
    "# Splitting the data after min/max\n",
    "gia_null_eto_mmn_auf: pd.DataFrame = dc.aufteilung_mut_pos(gia_null_eto)\n",
    "gia_null_nut_mmn_auf: pd.DataFrame = dc.aufteilung_mut_pos(gia_null_nut)\n",
    "gia_wt_nut_mmn_auf: pd.DataFrame = dc.aufteilung_mut_pos(gia_wt_nut)\n",
    "kot_hum_mmn_auf: pd.DataFrame = dc.aufteilung_mut_pos(kot_hum)\n",
    "\n",
    "# Splitting the data after z_transformation\n",
    "gia_null_eto_ztf_auf: pd.DataFrame = dc.aufteilung_mut_pos(gia_null_eto)\n",
    "gia_null_nut_ztf_auf: pd.DataFrame = dc.aufteilung_mut_pos(gia_null_nut)\n",
    "gia_wt_nut_ztf_auf: pd.DataFrame = dc.aufteilung_mut_pos(gia_wt_nut)\n",
    "kot_hum_ztf_auf: pd.DataFrame = dc.aufteilung_mut_pos(kot_hum)"
   ],
   "metadata": {
    "collapsed": false
   }
  },
  {
   "cell_type": "code",
   "execution_count": null,
   "outputs": [],
   "source": [
    "# 4.) Heatmaps"
   ],
   "metadata": {
    "collapsed": false
   }
  },
  {
   "cell_type": "code",
   "execution_count": null,
   "outputs": [],
   "source": [
    "vis.hmap(gia_null_eto_mmn_auf)"
   ],
   "metadata": {
    "collapsed": false
   }
  },
  {
   "cell_type": "code",
   "execution_count": null,
   "outputs": [],
   "source": [
    "vis.hmap(gia_null_eto_ztf_auf)"
   ],
   "metadata": {
    "collapsed": false
   }
  },
  {
   "cell_type": "code",
   "execution_count": null,
   "outputs": [],
   "source": [
    "vis.hmap(gia_wt_nut_mmn_auf)"
   ],
   "metadata": {
    "collapsed": false
   }
  },
  {
   "cell_type": "code",
   "execution_count": null,
   "outputs": [],
   "source": [
    "vis.hmap(gia_wt_nut_ztf_auf)"
   ],
   "metadata": {
    "collapsed": false
   }
  },
  {
   "cell_type": "code",
   "execution_count": null,
   "outputs": [],
   "source": [
    "vis.hmap(gia_null_nut_mmn_auf)"
   ],
   "metadata": {
    "collapsed": false
   }
  },
  {
   "cell_type": "code",
   "execution_count": null,
   "outputs": [],
   "source": [
    "vis.hmap(gia_null_nut_ztf_auf)"
   ],
   "metadata": {
    "collapsed": false
   }
  },
  {
   "cell_type": "code",
   "execution_count": null,
   "outputs": [],
   "source": [
    "vis.hmap(kot_hum_mmn_auf)"
   ],
   "metadata": {
    "collapsed": false
   }
  },
  {
   "cell_type": "code",
   "execution_count": null,
   "outputs": [],
   "source": [
    "vis.hmap(kot_hum_ztf_auf)"
   ],
   "metadata": {
    "collapsed": false
   }
  },
  {
   "cell_type": "code",
   "execution_count": null,
   "outputs": [],
   "source": [
    "#gia_null_eto_amp = dc.aufteilung_mut_pos(gia_null_eto)\n",
    "#gia_null_eto_amp.head(30)\n",
    "gia_null_eto_dft = dc.df_transform(gia_null_eto)\n",
    "gia_null_eto_dft.head(30)"
   ],
   "metadata": {
    "collapsed": false
   }
  },
  {
   "cell_type": "code",
   "execution_count": null,
   "outputs": [],
   "source": [
    "gia_null_eto_dft_narm = gia_null_eto_dft.fillna(0)\n",
    "gia_null_eto_dft_narm.head(30)"
   ],
   "metadata": {
    "collapsed": false
   }
  },
  {
   "cell_type": "code",
   "execution_count": null,
   "outputs": [],
   "source": [
    "sum_df = pd.DataFrame(gia_null_eto_dft_narm.sum(), columns=['Sum'])\n",
    "sum_df.head(30)"
   ],
   "metadata": {
    "collapsed": false
   }
  },
  {
   "cell_type": "code",
   "execution_count": null,
   "outputs": [],
   "source": [
    "# Lowest/Highest Vals"
   ],
   "metadata": {
    "collapsed": false
   }
  },
  {
   "cell_type": "code",
   "execution_count": null,
   "outputs": [],
   "source": [
    "dc.low_val(gia_null_eto, 5)"
   ],
   "metadata": {
    "collapsed": false
   }
  },
  {
   "cell_type": "code",
   "execution_count": null,
   "outputs": [],
   "source": [
    "dc.low_val(gia_null_eto, 15)"
   ],
   "metadata": {
    "collapsed": false
   }
  },
  {
   "cell_type": "code",
   "execution_count": null,
   "outputs": [],
   "source": [
    "dc.low_val(gia_wt_nut, 10)"
   ],
   "metadata": {
    "collapsed": false
   }
  },
  {
   "cell_type": "code",
   "execution_count": null,
   "outputs": [],
   "source": [
    "dc.low_val(gia_null_eto, 10)"
   ],
   "metadata": {
    "collapsed": false
   }
  },
  {
   "cell_type": "code",
   "execution_count": null,
   "outputs": [],
   "source": [
    "dc.low_val(gia_null_nut, 10)"
   ],
   "metadata": {
    "collapsed": false
   }
  },
  {
   "cell_type": "code",
   "execution_count": null,
   "outputs": [],
   "source": [
    "dc.low_val(kot_hum, 10)"
   ],
   "metadata": {
    "collapsed": false
   }
  },
  {
   "cell_type": "code",
   "execution_count": null,
   "outputs": [],
   "source": [
    "dc.low_val(kot_hum, 10)"
   ],
   "metadata": {
    "collapsed": false
   }
  },
  {
   "cell_type": "code",
   "execution_count": null,
   "outputs": [],
   "source": [
    "gia_null_eto_dft.head(30)"
   ],
   "metadata": {
    "collapsed": false
   }
  },
  {
   "cell_type": "code",
   "execution_count": null,
   "outputs": [],
   "source": [
    "gia_null_eto_dft_narm = dc.rmv_na(gia_null_eto_dft)"
   ],
   "metadata": {
    "collapsed": false
   }
  },
  {
   "cell_type": "code",
   "execution_count": null,
   "outputs": [],
   "source": [
    "gia_null_eto_dft_narm.head(30)"
   ],
   "metadata": {
    "collapsed": false
   }
  },
  {
   "cell_type": "code",
   "execution_count": null,
   "outputs": [],
   "source": [
    "gia_null_eto_mmn_auf.head(20)"
   ],
   "metadata": {
    "collapsed": false
   }
  }
 ],
 "metadata": {
  "kernelspec": {
   "display_name": "Python 3",
   "language": "python",
   "name": "python3"
  },
  "language_info": {
   "codemirror_mode": {
    "name": "ipython",
    "version": 2
   },
   "file_extension": ".py",
   "mimetype": "text/x-python",
   "name": "python",
   "nbconvert_exporter": "python",
   "pygments_lexer": "ipython2",
   "version": "2.7.6"
  }
 },
 "nbformat": 4,
 "nbformat_minor": 0
}
