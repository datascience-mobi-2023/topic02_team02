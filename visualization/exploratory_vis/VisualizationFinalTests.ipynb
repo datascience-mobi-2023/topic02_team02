{
 "cells": [
  {
   "cell_type": "code",
   "execution_count": 69,
   "metadata": {
    "collapsed": true
   },
   "outputs": [],
   "source": [
    "import pandas as pd\n",
    "import data_cleanup as dc\n",
    "import data_exploration as de\n",
    "import visualization as vis"
   ]
  },
  {
   "cell_type": "code",
   "execution_count": 70,
   "outputs": [],
   "source": [
    "# 1.1.) IMPORTING THE NATIVE DATASETS"
   ],
   "metadata": {
    "collapsed": false
   }
  },
  {
   "cell_type": "code",
   "execution_count": 71,
   "outputs": [],
   "source": [
    "gia_null_eto: pd.DataFrame = pd.read_csv('../DMS_data/P53_HUMAN_Giacomelli_NULL_Etoposide_2018.csv')\n",
    "gia_null_nut: pd.DataFrame = pd.read_csv('../DMS_data/P53_HUMAN_Giacomelli_NULL_Nutlin_2018.csv')\n",
    "gia_wt_nut: pd.DataFrame = pd.read_csv('../DMS_data/P53_HUMAN_Giacomelli_WT_Nutlin_2018.csv')\n",
    "kot_hum: pd.DataFrame = pd.read_csv('../DMS_data/P53_HUMAN_Kotler_2018.csv')"
   ],
   "metadata": {
    "collapsed": false
   }
  },
  {
   "cell_type": "code",
   "execution_count": 72,
   "outputs": [],
   "source": [
    "# 1.2.) Z-TRANSFORMATION"
   ],
   "metadata": {
    "collapsed": false
   }
  },
  {
   "cell_type": "code",
   "execution_count": 73,
   "outputs": [],
   "source": [
    "gia_null_eto_z: pd.DataFrame = dc.z_transform(gia_null_eto)\n",
    "gia_null_nut_z: pd.DataFrame = dc.z_transform(gia_null_nut)\n",
    "gia_wt_nut_z: pd.DataFrame = dc.z_transform(gia_wt_nut)\n",
    "kot_hum_z: pd.DataFrame = dc.z_transform(kot_hum)"
   ],
   "metadata": {
    "collapsed": false
   }
  },
  {
   "cell_type": "code",
   "execution_count": 74,
   "outputs": [],
   "source": [
    "# 1.3.) (MIN/MAX)"
   ],
   "metadata": {
    "collapsed": false
   }
  },
  {
   "cell_type": "code",
   "execution_count": 75,
   "outputs": [],
   "source": [
    "gia_null_eto_z_mmn: pd.DataFrame = dc.min_max_norm(gia_null_eto_z)\n",
    "gia_null_nut_z_mmn: pd.DataFrame = dc.min_max_norm(gia_null_nut_z)\n",
    "gia_wt_nut_z_mmn: pd.DataFrame = dc.min_max_norm(gia_wt_nut_z)\n",
    "kot_hum_z_mmn: pd.DataFrame = dc.min_max_norm(kot_hum_z)"
   ],
   "metadata": {
    "collapsed": false
   }
  },
  {
   "cell_type": "code",
   "execution_count": 76,
   "outputs": [],
   "source": [
    "# 1.4.) DF_TRANSFORMATION"
   ],
   "metadata": {
    "collapsed": false
   }
  },
  {
   "cell_type": "code",
   "execution_count": 77,
   "outputs": [],
   "source": [
    "gia_null_eto_z_mmn_df: pd.DataFrame = dc.df_transform(gia_null_eto_z_mmn)\n",
    "gia_null_nut_z_mmn_df: pd.DataFrame = dc.df_transform(gia_null_nut_z_mmn)\n",
    "gia_wt_nut_z_mmn_df: pd.DataFrame = dc.df_transform(gia_wt_nut_z_mmn)\n",
    "kot_hum_z_mmn_df: pd.DataFrame = dc.df_transform(kot_hum_z_mmn)"
   ],
   "metadata": {
    "collapsed": false
   }
  },
  {
   "cell_type": "code",
   "execution_count": 78,
   "outputs": [],
   "source": [
    "# 1.5.) MEAN AT EACH POSITION"
   ],
   "metadata": {
    "collapsed": false
   }
  },
  {
   "cell_type": "code",
   "execution_count": 79,
   "outputs": [],
   "source": [
    "gia_null_eto_z_mmn_df_mean: pd.DataFrame = de.df_mean(gia_null_eto_z_mmn_df)\n",
    "gia_null_nut_z_mmn_df_mean: pd.DataFrame = de.df_mean(gia_null_nut_z_mmn_df)\n",
    "gia_wt_nut_z_mmn_df_mean: pd.DataFrame = de.df_mean(gia_wt_nut_z_mmn_df)\n",
    "kot_hum_z_mmn_df_mean: pd.DataFrame = de.df_mean(kot_hum_z_mmn_df)"
   ],
   "metadata": {
    "collapsed": false
   }
  },
  {
   "cell_type": "code",
   "execution_count": 80,
   "outputs": [],
   "source": [
    "# 1.6.) LINEGRAPH"
   ],
   "metadata": {
    "collapsed": false
   }
  },
  {
   "cell_type": "code",
   "execution_count": 81,
   "outputs": [],
   "source": [
    "kot_hum_z_mmn_df_mean.name = 'kot_hum_z_mmn_df_mean'\n",
    "gia_null_nut_z_mmn_df_mean.name = 'gia_null_nut_z_mmn_df_mean'\n",
    "gia_wt_nut_z_mmn_df_mean.name = 'gia_wt_nut_z_mmn_df_mean'\n",
    "gia_null_eto_z_mmn_df_mean.name = 'gia_null_eto_z_mmn_df_mean'"
   ],
   "metadata": {
    "collapsed": false
   }
  },
  {
   "cell_type": "code",
   "execution_count": 82,
   "outputs": [],
   "source": [
    "dataframes = [gia_wt_nut_z_mmn_df_mean, gia_null_eto_z_mmn_df_mean, gia_null_nut_z_mmn_df_mean, kot_hum_z_mmn_df_mean]"
   ],
   "metadata": {
    "collapsed": false
   }
  },
  {
   "cell_type": "code",
   "execution_count": 84,
   "outputs": [],
   "source": [
    "vis.linegraph(dataframes)"
   ],
   "metadata": {
    "collapsed": false
   }
  }
 ],
 "metadata": {
  "kernelspec": {
   "display_name": "Python 3",
   "language": "python",
   "name": "python3"
  },
  "language_info": {
   "codemirror_mode": {
    "name": "ipython",
    "version": 2
   },
   "file_extension": ".py",
   "mimetype": "text/x-python",
   "name": "python",
   "nbconvert_exporter": "python",
   "pygments_lexer": "ipython2",
   "version": "2.7.6"
  }
 },
 "nbformat": 4,
 "nbformat_minor": 0
}
