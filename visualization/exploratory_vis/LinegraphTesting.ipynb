{
 "cells": [
  {
   "cell_type": "code",
   "execution_count": null,
   "outputs": [],
   "source": [
    "# THE PURPOSE OF THIS NOTEBOOK IS TO IMPLEMENT A FUNTCTION THAT DISPLAYS THE MEANS PER POSITION OF DIFFERENT DATASETS IN A LINEGRAPH"
   ],
   "metadata": {
    "collapsed": false
   }
  },
  {
   "cell_type": "code",
   "execution_count": null,
   "metadata": {
    "collapsed": true
   },
   "outputs": [],
   "source": [
    "import pandas as pd\n",
    "import data_cleanup as dc\n",
    "import data_exploration as de\n",
    "import matplotlib.pyplot as plt\n",
    "import Documentation as doc\n",
    "import numpy as np"
   ]
  },
  {
   "cell_type": "code",
   "execution_count": null,
   "outputs": [],
   "source": [
    "gia_null_eto: pd.DataFrame = pd.read_csv('../DMS_data/P53_HUMAN_Giacomelli_NULL_Etoposide_2018.csv')"
   ],
   "metadata": {
    "collapsed": false
   }
  },
  {
   "cell_type": "code",
   "execution_count": null,
   "outputs": [],
   "source": [
    "gia_null_eto_df: pd.DataFrame = (dc.df_transform(gia_null_eto))"
   ],
   "metadata": {
    "collapsed": false
   }
  },
  {
   "cell_type": "code",
   "execution_count": null,
   "outputs": [],
   "source": [
    "kot_hum: pd.DataFrame = pd.read_csv('../DMS_data/P53_HUMAN_Kotler_2018.csv')"
   ],
   "metadata": {
    "collapsed": false
   }
  },
  {
   "cell_type": "code",
   "execution_count": null,
   "outputs": [],
   "source": [
    "kot_hum_df: pd.DataFrame = (dc.df_transform(kot_hum))"
   ],
   "metadata": {
    "collapsed": false
   }
  },
  {
   "cell_type": "code",
   "execution_count": null,
   "outputs": [],
   "source": [
    "kot_hum_df_mean: pd.DataFrame = de.df_mean(kot_hum_df)"
   ],
   "metadata": {
    "collapsed": false
   }
  },
  {
   "cell_type": "code",
   "execution_count": null,
   "outputs": [],
   "source": [
    "gia_null_eto_df_mean: pd.DataFrame = de.df_mean(gia_null_eto_df)"
   ],
   "metadata": {
    "collapsed": false
   }
  },
  {
   "cell_type": "code",
   "execution_count": null,
   "outputs": [],
   "source": [
    "kot_hum_df.name = 'kot_hum_df'\n",
    "gia_null_eto_df.name = 'gia_null_eto'\n",
    "dataframes=[gia_null_eto_df, kot_hum_df]\n",
    "# figsize kann verändert werden je nach Präferenz\n",
    "plt.figure(figsize=(40, 6))\n",
    "# for-loop der jeden Eintrag in der Liste \"Dataframes\" durchgeht\n",
    "for df in dataframes:\n",
    "    # Werte für x-Achse aus 'position_mut' als int extrahiert\n",
    "    x = df.columns.get_level_values('position_mut').astype(int)\n",
    "    # Werte für y-Achse aus erster Zeile von df als float extrahiert\n",
    "    y = df.iloc[0].values.astype(float)\n",
    "    label = df.name\n",
    "    plt.plot(x, y, label=label, marker='o')\n",
    "plt.xlabel('position')\n",
    "plt.ylabel('DMS_score')\n",
    "plt.title('Mean DMS_scores of different datasets throughout each position of tp53')\n",
    "#WARUM ZUR VERDAMMTEN HÖLLE MACHT ER NUR 102 BIS 292 ICH VERSTEHE ES NICHT BITTE BEENDE ES\n",
    "\n",
    "plt.xticks(np.arange(0, 393+1, 10))\n",
    "plt.legend()\n",
    "plt.show()"
   ],
   "metadata": {
    "collapsed": false
   }
  },
  {
   "cell_type": "code",
   "execution_count": null,
   "outputs": [],
   "source": [
    "#plt.plot(x[::10], y[::10], label=label, marker='o')"
   ],
   "metadata": {
    "collapsed": false
   }
  },
  {
   "cell_type": "code",
   "execution_count": null,
   "outputs": [],
   "source": [
    "de.df_mean(gia_null_eto_df)"
   ],
   "metadata": {
    "collapsed": false
   }
  },
  {
   "cell_type": "code",
   "execution_count": null,
   "outputs": [],
   "source": [
    "de.df_mean(kot_hum_df)"
   ],
   "metadata": {
    "collapsed": false
   }
  },
  {
   "cell_type": "code",
   "execution_count": null,
   "outputs": [],
   "source": [
    "gia_null_nut_df: pd.DataFrame = doc.gia_null_nut_df"
   ],
   "metadata": {
    "collapsed": false
   }
  },
  {
   "cell_type": "code",
   "execution_count": null,
   "outputs": [],
   "source": [
    "gia_wt_nut_df: pd.DataFrame = doc.gia_wt_nut_df"
   ],
   "metadata": {
    "collapsed": false
   }
  },
  {
   "cell_type": "code",
   "execution_count": null,
   "outputs": [],
   "source": [
    "gia_null_nut_df_mean: pd.DataFrame = de.df_mean(gia_null_nut_df)"
   ],
   "metadata": {
    "collapsed": false
   }
  },
  {
   "cell_type": "code",
   "execution_count": null,
   "outputs": [],
   "source": [
    "gia_wt_nut_df_mean: pd.DataFrame = de.df_mean(gia_wt_nut_df)"
   ],
   "metadata": {
    "collapsed": false
   }
  },
  {
   "cell_type": "code",
   "execution_count": null,
   "outputs": [],
   "source": [
    "kot_hum_df_mean.name = 'kot_hum_df_mean'\n",
    "gia_null_eto_df_mean.name = 'gia_null_eto'\n",
    "gia_wt_nut_df_mean.name = 'gia_wt_nut_df_mean'\n",
    "gia_null_nut_df_mean.name = 'gia_null_nut_df_mean'\n",
    "\n",
    "dataframes=[gia_null_eto_df_mean, kot_hum_df_mean, gia_null_nut_df_mean,gia_wt_nut_df_mean ]\n",
    "# figsize kann verändert werden je nach Präferenz\n",
    "plt.figure(figsize=(100, 20))\n",
    "# for-loop der jeden Eintrag in der Liste \"Dataframes\" durchgeht\n",
    "for df in dataframes:\n",
    "    # Werte für x-Achse aus 'position_mut' als int extrahiert\n",
    "    x = df.columns.get_level_values('position_mut').astype(int)\n",
    "    # Werte für y-Achse aus erster Zeile von df als float extrahiert\n",
    "    y = df.iloc[0].values.astype(float)\n",
    "    label = df.name\n",
    "    plt.plot(x, y, label=label, marker='o')\n",
    "plt.xlabel('position')\n",
    "plt.ylabel('DMS_score')\n",
    "plt.title('Mean DMS_scores of different datasets throughout each position of tp53')\n",
    "#WARUM ZUR VERDAMMTEN HÖLLE MACHT ER NUR 102 BIS 292 ICH VERSTEHE ES NICHT BITTE BEENDE ES\n",
    "plt.xticks(np.arange(0, 393+1, 10))\n",
    "plt.legend()\n",
    "plt.show()"
   ],
   "metadata": {
    "collapsed": false
   }
  },
  {
   "cell_type": "code",
   "execution_count": null,
   "outputs": [],
   "source": [
    "kot_hum_df_mmn: pd.DataFrame = dc.min_max_norm(kot_hum_df)\n",
    "gia_null_eto_df_mmn: pd.DataFrame= dc.min_max_norm(gia_null_eto_df)\n",
    "gia_null_nut_df_mmn: pd.DataFrame= dc.min_max_norm(gia_null_nut_df)\n",
    "gia_wt_nut_df_mmn: pd.DataFrame= dc.min_max_norm(gia_wt_nut_df)"
   ],
   "metadata": {
    "collapsed": false
   }
  },
  {
   "cell_type": "code",
   "execution_count": null,
   "outputs": [],
   "source": [
    "kot_hum_df_mmn_mean: pd.DataFrame = de.df_mean(kot_hum_df_mmn)\n",
    "gia_null_eto_df_mmn_mean: pd.DataFrame= de.df_mean(gia_null_eto_df_mmn)\n",
    "gia_null_nut_df_mmn_mean: pd.DataFrame= de.df_mean(gia_null_nut_df_mmn)\n",
    "gia_wt_nut_df_mmn_mean: pd.DataFrame= de.df_mean(gia_wt_nut_df_mmn)"
   ],
   "metadata": {
    "collapsed": false
   }
  },
  {
   "cell_type": "code",
   "execution_count": null,
   "outputs": [],
   "source": [
    "kot_hum_df_mmn_mean.name = 'kot_hum_df_mmn_mean'\n",
    "gia_null_eto_df_mmn_mean.name = 'gia_null_mmn_eto'\n",
    "gia_wt_nut_df_mmn_mean.name = 'gia_wt_nut_df_mmn_mean'\n",
    "gia_null_nut_df_mmn_mean.name = 'gia_null_nut_df_mmn_mean'\n",
    "\n",
    "dataframes=[gia_null_eto_df_mmn_mean, kot_hum_df_mmn_mean, gia_null_nut_df_mmn_mean,gia_wt_nut_df_mmn_mean ]\n",
    "# figsize kann verändert werden je nach Präferenz\n",
    "plt.figure(figsize=(100, 20))\n",
    "# for-loop der jeden Eintrag in der Liste \"Dataframes\" durchgeht\n",
    "for df in dataframes:\n",
    "    # Werte für x-Achse aus 'position_mut' als int extrahiert\n",
    "    x = df.columns.get_level_values('position_mut').astype(int)\n",
    "    # Werte für y-Achse aus erster Zeile von df als float extrahiert\n",
    "    y = df.iloc[0].values.astype(float)\n",
    "    label = df.name\n",
    "    plt.plot(x, y, label=label, marker='o')\n",
    "plt.xlabel('position')\n",
    "plt.ylabel('DMS_score')\n",
    "plt.title('Mean DMS_scores of different datasets throughout each position of tp53')\n",
    "#WARUM ZUR VERDAMMTEN HÖLLE MACHT ER NUR 102 BIS 292 ICH VERSTEHE ES NICHT BITTE BEENDE ES\n",
    "plt.xticks(np.arange(0, 393+1, 10))\n",
    "plt.legend()\n",
    "plt.show()"
   ],
   "metadata": {
    "collapsed": false
   }
  },
  {
   "cell_type": "code",
   "execution_count": null,
   "outputs": [],
   "source": [
    "gia_null_eto_df_mmn_mean.name = 'gia_null_eto_df_mmn_mean'\n",
    "dataframes=[gia_null_eto_df_mmn_mean]\n",
    "# figsize kann verändert werden je nach Präferenz\n",
    "plt.figure(figsize=(100, 10))\n",
    "# for-loop der jeden Eintrag in der Liste \"Dataframes\" durchgeht\n",
    "for df in dataframes:\n",
    "    # Werte für x-Achse aus 'position_mut' als int extrahiert\n",
    "    x = df.columns.get_level_values('position_mut').astype(int)\n",
    "    # Werte für y-Achse aus erster Zeile von df als float extrahiert\n",
    "    y = df.iloc[0].values.astype(float)\n",
    "    label = df.name\n",
    "    plt.plot(x, y, label=label, marker='o')\n",
    "plt.xlabel('position')\n",
    "plt.ylabel('DMS_score')\n",
    "plt.title('Mean DMS_scores of different datasets throughout each position of tp53')\n",
    "#WARUM ZUR VERDAMMTEN HÖLLE MACHT ER NUR 102 BIS 292 ICH VERSTEHE ES NICHT BITTE BEENDE ES\n",
    "plt.xticks(np.arange(0, 393+1, 10))\n",
    "plt.legend()\n",
    "plt.show()"
   ],
   "metadata": {
    "collapsed": false
   }
  },
  {
   "cell_type": "code",
   "execution_count": null,
   "outputs": [],
   "source": [
    "gia_null_eto: pd.DataFrame = pd.read_csv('../DMS_data/P53_HUMAN_Giacomelli_NULL_Etoposide_2018.csv')"
   ],
   "metadata": {
    "collapsed": false
   }
  },
  {
   "cell_type": "code",
   "execution_count": null,
   "outputs": [],
   "source": [
    "gia_null_eto_df: pd.DataFrame = (dc.df_transform(gia_null_eto))"
   ],
   "metadata": {
    "collapsed": false
   }
  },
  {
   "cell_type": "code",
   "execution_count": null,
   "outputs": [],
   "source": [
    "gia_null_eto_df_mmn: pd.DataFrame= dc.min_max_norm(gia_null_eto_df)"
   ],
   "metadata": {
    "collapsed": false
   }
  },
  {
   "cell_type": "code",
   "execution_count": null,
   "outputs": [],
   "source": [
    "gia_null_eto_df_mmn_mean: pd.DataFrame= de.df_mean(gia_null_eto_df_mmn)"
   ],
   "metadata": {
    "collapsed": false
   }
  }
 ],
 "metadata": {
  "kernelspec": {
   "display_name": "Python 3",
   "language": "python",
   "name": "python3"
  },
  "language_info": {
   "codemirror_mode": {
    "name": "ipython",
    "version": 2
   },
   "file_extension": ".py",
   "mimetype": "text/x-python",
   "name": "python",
   "nbconvert_exporter": "python",
   "pygments_lexer": "ipython2",
   "version": "2.7.6"
  }
 },
 "nbformat": 4,
 "nbformat_minor": 0
}
