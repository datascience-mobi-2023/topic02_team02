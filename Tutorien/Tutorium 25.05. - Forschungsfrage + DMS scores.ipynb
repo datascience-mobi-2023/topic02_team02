{
 "cells": [
  {
   "cell_type": "markdown",
   "source": [
    "## Forschungsfrage 1: FÜR SPÄTER\n",
    "###### DNA mit heranziehen... Über Codons und Mutationswahrscheinlichkeit DMS scores die Dimension \"Wahrscheinlichkeit\" mit herausfinden"
   ],
   "metadata": {
    "collapsed": false
   }
  },
  {
   "cell_type": "markdown",
   "source": [
    "# Forschungsidee 2:\n",
    "\n",
    "    # Unserer ersten Idee treu bleiben mit der besten Substiution. Solche Arten von Substitution für ganze DNA und Domänen spezifisch: In Kontext bringen mit Diagnose von Krebs\n",
    "\n",
    "\n",
    "    # Kaggle: möglicherweise mit Datensatz für p53"
   ],
   "metadata": {
    "collapsed": false
   }
  },
  {
   "cell_type": "markdown",
   "source": [
    "# Bene: Existierende Erkenntnisse zeigen! Das hier ist der nächste Schritt\n",
    "    # Standardanalysen: Vergleichbarkeit von Datensätzen, DNA Bindedomäne, Leere Werte,"
   ],
   "metadata": {
    "collapsed": false
   }
  },
  {
   "cell_type": "markdown",
   "source": [
    "# ist es überhaupt gut, einen positiven DMS score zu haben? Warum haben wir so viele \"gute Mutationen?\n",
    "# Vermutlich weil diese Region unrelevant ist /// noise\n"
   ],
   "metadata": {
    "collapsed": false
   }
  },
  {
   "cell_type": "markdown",
   "source": [
    "\n",
    "# Ist Normalisierung überhaupt ein guter erster Schritt? Z-Transformation zuerst macht Daten vergleichbar -> Normalisierung macht es einfacher das einzuordnen"
   ],
   "metadata": {
    "collapsed": false
   }
  }
 ],
 "metadata": {
  "kernelspec": {
   "display_name": "Python 3",
   "language": "python",
   "name": "python3"
  },
  "language_info": {
   "codemirror_mode": {
    "name": "ipython",
    "version": 2
   },
   "file_extension": ".py",
   "mimetype": "text/x-python",
   "name": "python",
   "nbconvert_exporter": "python",
   "pygments_lexer": "ipython2",
   "version": "2.7.6"
  }
 },
 "nbformat": 4,
 "nbformat_minor": 0
}
