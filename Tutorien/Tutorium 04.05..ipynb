{
 "cells": [
  {
   "cell_type": "markdown",
   "source": [
    "#Shortcuts bei Jupyter notebook:\n",
    "    #a: erstellt Zelle drüber\n",
    "    #b: zelle drunter\n",
    "    #c: copy\n",
    "    #v: einsetzen\n",
    "    #x: ausschneiden\n",
    "    #m/y: Wechseln zwischen Markdown/code Modus\n",
    "    #shift+return: run code\n",
    "    #erster Buchstabe + Tab: zeigt alle Variablen mit diesem Buchstaben\n",
    "\n"
   ],
   "metadata": {
    "collapsed": false
   }
  },
  {
   "cell_type": "markdown",
   "source": [
    "#mögliche Datentypen: integer (ganze Zahlen, x: int = 5), float (Kommazahlen), Boolean's (bool=True, 0 und 1 für True und False), string (Text in Anführungszeichen, addieren mit \"+\") geht auch mit f'...'\n",
    "#herausfinden des Typs: type(x)"
   ],
   "metadata": {
    "collapsed": false
   }
  },
  {
   "cell_type": "markdown",
   "source": [
    "#.upper: macht alles in Großbuchstaben\n",
    "#anschauen von Funktionen: ? hinter Befehl\n",
    "#.startswith(): Testet wie ein Object anfängt\n",
    "#.split(\"ZEICHEN\"): Trennt Satz an diesem Zeichen / .join macht das Gegenteil"
   ],
   "metadata": {
    "collapsed": false
   }
  },
  {
   "cell_type": "markdown",
   "source": [
    "#Indizes: Python ist 0 based und zweites Element ist exklusiv\n",
    "\n",
    "#Listen\n",
    "    #.pop: rausnehmen und ausgeben von Objekten aus Listen\n",
    "    #.remove: rauslöschen von Objekten aus Listen\n",
    "    #.append: Liste erweitern\n",
    "    #.sort: sortiert Liste nach erstem Buchstaben"
   ],
   "metadata": {
    "collapsed": false
   }
  },
  {
   "cell_type": "markdown",
   "source": [
    "# tuple: feste Liste, es kann nichts hinzugefügt oder geändert werden\n",
    "    #len: gibt Länge\n",
    "    #entpacken über einzelne Variablen"
   ],
   "metadata": {
    "collapsed": false
   }
  },
  {
   "cell_type": "markdown",
   "source": [
    "#erstellen von Dictionaries über \"dict\"\n",
    "#.get: testen von Funktionen, wenn Name nicht drin gibt es kein Ergebnis (aber KEINEN Fehler!)\n",
    "#.enumerate: ordnet Variablen Zahlen zu (in loops ist es schlau zwei Variablen anzugeben: eine für den Index, der andere für die Variable! Sonst gibts nen Tupel, das entpackt werden muss)\n",
    "#.intersection: zeigt Objekte, die in zwei Mengen drin sind\n",
    "#.union: vereint zwei Mengen"
   ],
   "metadata": {
    "collapsed": false
   }
  },
  {
   "cell_type": "markdown",
   "source": [
    "#ungleich: !=\n",
    "#>=\n",
    "#<=\n",
    "#--> Ausgabe: Boolean\n",
    "\n",
    "#is: Überprüft ob Objekte gleich sind, schaut sich die IDs an! Schaut ob Objekte exakt dasselbe sind"
   ],
   "metadata": {
    "collapsed": false
   }
  },
  {
   "cell_type": "markdown",
   "source": [
    "#\"try\" und da drunter \"except\": Erlaubt es Ausnahmen hinzuzufügen"
   ],
   "metadata": {
    "collapsed": false
   }
  },
  {
   "cell_type": "markdown",
   "source": [
    "#def function (word: str, repeats: int=5) -> str:                  --das ist good practice!"
   ],
   "metadata": {
    "collapsed": false
   }
  },
  {
   "cell_type": "markdown",
   "source": [
    "#Klassen: Beispiel in seinem Notebook"
   ],
   "metadata": {
    "collapsed": false
   }
  },
  {
   "cell_type": "markdown",
   "source": [
    "#gezielt Funktionen aus Paketen importieren: \"from package import function as variable\n",
    "\n",
    "#Numpy ist gut für mathematischen Operationen und effizient (schnelle Rechenleistung)\n",
    "#Pandas ist visuell schön und baut auf Numpy auf und ist zum Anschauen/Bearbeiten von z.B. DataFrames geeignet"
   ],
   "metadata": {
    "collapsed": false
   }
  },
  {
   "cell_type": "markdown",
   "source": [
    "#Bei Numpy Arrays ist .append schlecht! Gesamtes Array wird gelöscht und mit dem neuen Zusatz neu gespeichert"
   ],
   "metadata": {
    "collapsed": false
   }
  },
  {
   "cell_type": "markdown",
   "source": [
    "#um in pandas aus dataframe Elemente zu extrahieren: mit \".loc\" oder \".iloc\"\n",
    "\n",
    "#Filtern mit eckigen Klammern\n",
    "\n",
    "#axis: Wechselt von Spalten auf Zeilen, wie 1/2 Angabe in R Code"
   ],
   "metadata": {
    "collapsed": false
   }
  },
  {
   "cell_type": "markdown",
   "source": [
    "#.describe berechnet mehrere Werte für Spalten\n",
    "\n",
    "#Standard Plotting: Matplot Lib -> ist aber ziemlich ass, deswegen benutzt man seaborn, ist einfacher und sieht sehr ähnlich aus--> nachschauen in \"seaborn library\"\n",
    "\n",
    "#Methoden zum Nachschauen: sklearn\n",
    "\n",
    "#in Uniprot nach unserem Protein suchen\n",
    "#--> andere Quellen nach dem Protein durchsuchen: Was möchte ich herausfinden? 3D Struktur des Proteins anschauen...\n",
    "\n",
    "#Jupyter Notebooks benutzen! import Befehle aus .py Dateien sind aber aufgeräumter"
   ],
   "metadata": {
    "collapsed": false
   }
  },
  {
   "cell_type": "code",
   "execution_count": null,
   "outputs": [],
   "source": [
    "3+5\n"
   ],
   "metadata": {
    "collapsed": false,
    "is_executing": true
   }
  }
 ],
 "metadata": {
  "kernelspec": {
   "display_name": "Python 3",
   "language": "python",
   "name": "python3"
  },
  "language_info": {
   "codemirror_mode": {
    "name": "ipython",
    "version": 2
   },
   "file_extension": ".py",
   "mimetype": "text/x-python",
   "name": "python",
   "nbconvert_exporter": "python",
   "pygments_lexer": "ipython2",
   "version": "2.7.6"
  }
 },
 "nbformat": 4,
 "nbformat_minor": 0
}
