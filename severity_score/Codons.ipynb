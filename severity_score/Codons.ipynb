{
 "cells": [
  {
   "cell_type": "code",
   "execution_count": 1,
   "outputs": [],
   "source": [
    "%load_ext autoreload\n",
    "%autoreload 2\n",
    "import pandas as pd\n",
    "import numpy as np\n",
    "import data_cleanup as dc\n",
    "import data_exploration as de\n",
    "from Bio.Seq import Seq\n",
    "import severity_score as ses\n",
    "\n",
    "\n",
    "\n",
    "#codons = ['AAA', 'AAC', 'AAG', 'AAU', 'ACA', 'ACC', 'ACG', 'ACU', 'AGA', 'AGC', 'AGG', 'AGU', 'AUA', 'AUC', 'AUG', 'AUU', 'CAA', 'CAC', 'CAG', 'CAU', 'CCA', 'CCC', 'CCG', 'CCU', 'CGA', 'CGC', 'CGG', 'CGU', 'CUA', 'CUC', 'CUG', 'CUU', 'GAA', 'GAC', 'GAG', 'GAU', 'GCA', 'GCC', 'GCG', 'GCU', 'GGA', 'GGC', 'GGG', 'GGU', 'GUA', 'GUC', 'GUG', 'GUU', 'UAA', 'UAC', 'UAG', 'UAU', 'UCA', 'UCC', 'UCG', 'UCU', 'UGA', 'UGC', 'UGG', 'UGU', 'UUA', 'UUC', 'UUG', 'UUU']\n",
    "\n",
    "# Create an empty dataframe with the custom row and column names\n",
    "#codons_codons = pd.DataFrame(index=codons, columns=codons)\n",
    "\n",
    "# Fill the dataframe\n",
    "#for row_codon in codons:\n",
    "    #for col_codon in codons:\n",
    "        #differing_bases = sum(row_base != col_base for row_base, col_base in zip(row_codon, col_codon))\n",
    "        #codons_codons.loc[row_codon, col_codon] = differing_bases\n",
    "\n",
    "#codons_codons\n",
    "#not used until now (20.6.)"
   ],
   "metadata": {
    "collapsed": false,
    "ExecuteTime": {
     "end_time": "2023-07-05T11:48:36.969784Z",
     "start_time": "2023-07-05T11:48:33.851775400Z"
    }
   }
  },
  {
   "cell_type": "code",
   "execution_count": 2,
   "outputs": [],
   "source": [
    "#aacids = ['K', 'N', 'K', 'N', 'T', 'T', 'T', 'T', 'R', 'S', 'R', 'S', 'I', 'I', 'M', 'I', 'Q', 'H', 'Q', 'H', 'P', 'P', 'P', 'P', 'R', 'R', 'R', 'R', 'L', 'L', 'L', 'L', 'E', 'D', 'E', 'D', 'A', 'A', 'A', 'A', 'G', 'G', 'G', 'G', 'V', 'V', 'V', 'V', 'STOP', 'Y', 'STOP', 'Y', 'S', 'S', 'S', 'S', 'STOP','L', 'F', 'L', 'C', 'W', 'C', 'L']\n",
    "\n",
    "#codons_aacids = pd.DataFrame({'codons': codons, 'aacids': aacids })\n",
    "\n",
    "#codons_aacids\n",
    "#not used until now (20.6.)"
   ],
   "metadata": {
    "collapsed": false,
    "ExecuteTime": {
     "end_time": "2023-07-05T11:48:37.729085200Z",
     "start_time": "2023-07-05T11:48:36.969784Z"
    }
   }
  },
  {
   "cell_type": "code",
   "execution_count": 3,
   "outputs": [],
   "source": [
    "dna_sequence = \"ATGGAGGAGCCGCAGTCAGATCCTAGCGTCGAGCCCCCTCTGAGTCAGGAAACATTTTCAGACCTATGGAAACTACTTCCTGAAAACAACGTTCTGTCCCCCTTGCCGTCCCAAGCAATGGATGATTTGATGCTGTCCCCGGACGATATTGAACAATGGTTCACTGAAGACCCAGGTCCAGATGAAGCTCCCAGAATGCCAGAGGCTGCTCCCCCCGTGGCCCCTGCACCAGCAGCTCCTACACCGGCGGCCCCTGCACCAGCCCCCTCCTGGCCCCTGTCATCTTCTGTCCCTTCCCAGAAAACCTACCAGGGCAGCTACGGTTTCCGTCTGGGCTTCTTGCATTCTGGGACAGCCAAGTCTGTGACTTGCACGTACTCCCCTGCCCTCAACAAGATGTTTTGCCAACTGGCCAAGACCTGCCCTGTGCAGCTGTGGGTTGATTCCACACCCCCGCCCGGCACCCGCGTCCGCGCCATGGCCATCTACAAGCAGTCACAGCACATGACGGAGGTTGTGAGGCGCTGCCCCCACCATGAGCGCTGCTCAGATAGCGATGGTCTGGCCCCTCCTCAGCATCTTATCCGAGTGGAAGGAAATTTGCGTGTGGAGTATTTGGATGACAGAAACACTTTTCGACATAGTGTGGTGGTGCCCTATGAGCCGCCTGAGGTTGGCTCTGACTGTACCACCATCCACTACAACTACATGTGTAACAGTTCCTGCATGGGCGGCATGAACCGGAGGCCCATCCTCACCATCATCACACTGGAAGACTCCAGTGGTAATCTACTGGGACGGAACAGCTTTGAGGTGCGTGTTTGTGCCTGTCCTGGGAGAGACCGGCGCACAGAGGAAGAGAATCTCCGCAAGAAAGGGGAGCCTCACCACGAGCTGCCCCCAGGGAGCACTAAGCGAGCACTGCCCAACAACACCAGCTCCTCTCCCCAGCCAAAGAAGAAACCACTGGATGGAGAATATTTCACCCTTCAGATCCGTGGGCGTGAGCGCTTCGAGATGTTCCGAGAGCTGAATGAGGCCTTGGAACTCAAGGATGCCCAGGCTGGGAAGGAGCCAGGGGGGAGCAGGGCTCACTCCAGCCACCTGAAGTCCAAAAAGGGTCAGTCTACCTCCCGCCATAAAAAACTCATGTTCAAGACAGAAGGGCCTGACTCAGAC\"\n",
    "rna_sequence = dna_sequence.replace(\"T\", \"U\")"
   ],
   "metadata": {
    "collapsed": false,
    "ExecuteTime": {
     "end_time": "2023-07-05T11:48:38.574350700Z",
     "start_time": "2023-07-05T11:48:37.729085200Z"
    }
   }
  },
  {
   "cell_type": "code",
   "execution_count": 4,
   "outputs": [
    {
     "data": {
      "text/plain": "['AUG',\n 'GAG',\n 'GAG',\n 'CCG',\n 'CAG',\n 'UCA',\n 'GAU',\n 'CCU',\n 'AGC',\n 'GUC',\n 'GAG',\n 'CCC',\n 'CCU',\n 'CUG',\n 'AGU',\n 'CAG',\n 'GAA',\n 'ACA',\n 'UUU',\n 'UCA',\n 'GAC',\n 'CUA',\n 'UGG',\n 'AAA',\n 'CUA',\n 'CUU',\n 'CCU',\n 'GAA',\n 'AAC',\n 'AAC',\n 'GUU',\n 'CUG',\n 'UCC',\n 'CCC',\n 'UUG',\n 'CCG',\n 'UCC',\n 'CAA',\n 'GCA',\n 'AUG',\n 'GAU',\n 'GAU',\n 'UUG',\n 'AUG',\n 'CUG',\n 'UCC',\n 'CCG',\n 'GAC',\n 'GAU',\n 'AUU',\n 'GAA',\n 'CAA',\n 'UGG',\n 'UUC',\n 'ACU',\n 'GAA',\n 'GAC',\n 'CCA',\n 'GGU',\n 'CCA',\n 'GAU',\n 'GAA',\n 'GCU',\n 'CCC',\n 'AGA',\n 'AUG',\n 'CCA',\n 'GAG',\n 'GCU',\n 'GCU',\n 'CCC',\n 'CCC',\n 'GUG',\n 'GCC',\n 'CCU',\n 'GCA',\n 'CCA',\n 'GCA',\n 'GCU',\n 'CCU',\n 'ACA',\n 'CCG',\n 'GCG',\n 'GCC',\n 'CCU',\n 'GCA',\n 'CCA',\n 'GCC',\n 'CCC',\n 'UCC',\n 'UGG',\n 'CCC',\n 'CUG',\n 'UCA',\n 'UCU',\n 'UCU',\n 'GUC',\n 'CCU',\n 'UCC',\n 'CAG',\n 'AAA',\n 'ACC',\n 'UAC',\n 'CAG',\n 'GGC',\n 'AGC',\n 'UAC',\n 'GGU',\n 'UUC',\n 'CGU',\n 'CUG',\n 'GGC',\n 'UUC',\n 'UUG',\n 'CAU',\n 'UCU',\n 'GGG',\n 'ACA',\n 'GCC',\n 'AAG',\n 'UCU',\n 'GUG',\n 'ACU',\n 'UGC',\n 'ACG',\n 'UAC',\n 'UCC',\n 'CCU',\n 'GCC',\n 'CUC',\n 'AAC',\n 'AAG',\n 'AUG',\n 'UUU',\n 'UGC',\n 'CAA',\n 'CUG',\n 'GCC',\n 'AAG',\n 'ACC',\n 'UGC',\n 'CCU',\n 'GUG',\n 'CAG',\n 'CUG',\n 'UGG',\n 'GUU',\n 'GAU',\n 'UCC',\n 'ACA',\n 'CCC',\n 'CCG',\n 'CCC',\n 'GGC',\n 'ACC',\n 'CGC',\n 'GUC',\n 'CGC',\n 'GCC',\n 'AUG',\n 'GCC',\n 'AUC',\n 'UAC',\n 'AAG',\n 'CAG',\n 'UCA',\n 'CAG',\n 'CAC',\n 'AUG',\n 'ACG',\n 'GAG',\n 'GUU',\n 'GUG',\n 'AGG',\n 'CGC',\n 'UGC',\n 'CCC',\n 'CAC',\n 'CAU',\n 'GAG',\n 'CGC',\n 'UGC',\n 'UCA',\n 'GAU',\n 'AGC',\n 'GAU',\n 'GGU',\n 'CUG',\n 'GCC',\n 'CCU',\n 'CCU',\n 'CAG',\n 'CAU',\n 'CUU',\n 'AUC',\n 'CGA',\n 'GUG',\n 'GAA',\n 'GGA',\n 'AAU',\n 'UUG',\n 'CGU',\n 'GUG',\n 'GAG',\n 'UAU',\n 'UUG',\n 'GAU',\n 'GAC',\n 'AGA',\n 'AAC',\n 'ACU',\n 'UUU',\n 'CGA',\n 'CAU',\n 'AGU',\n 'GUG',\n 'GUG',\n 'GUG',\n 'CCC',\n 'UAU',\n 'GAG',\n 'CCG',\n 'CCU',\n 'GAG',\n 'GUU',\n 'GGC',\n 'UCU',\n 'GAC',\n 'UGU',\n 'ACC',\n 'ACC',\n 'AUC',\n 'CAC',\n 'UAC',\n 'AAC',\n 'UAC',\n 'AUG',\n 'UGU',\n 'AAC',\n 'AGU',\n 'UCC',\n 'UGC',\n 'AUG',\n 'GGC',\n 'GGC',\n 'AUG',\n 'AAC',\n 'CGG',\n 'AGG',\n 'CCC',\n 'AUC',\n 'CUC',\n 'ACC',\n 'AUC',\n 'AUC',\n 'ACA',\n 'CUG',\n 'GAA',\n 'GAC',\n 'UCC',\n 'AGU',\n 'GGU',\n 'AAU',\n 'CUA',\n 'CUG',\n 'GGA',\n 'CGG',\n 'AAC',\n 'AGC',\n 'UUU',\n 'GAG',\n 'GUG',\n 'CGU',\n 'GUU',\n 'UGU',\n 'GCC',\n 'UGU',\n 'CCU',\n 'GGG',\n 'AGA',\n 'GAC',\n 'CGG',\n 'CGC',\n 'ACA',\n 'GAG',\n 'GAA',\n 'GAG',\n 'AAU',\n 'CUC',\n 'CGC',\n 'AAG',\n 'AAA',\n 'GGG',\n 'GAG',\n 'CCU',\n 'CAC',\n 'CAC',\n 'GAG',\n 'CUG',\n 'CCC',\n 'CCA',\n 'GGG',\n 'AGC',\n 'ACU',\n 'AAG',\n 'CGA',\n 'GCA',\n 'CUG',\n 'CCC',\n 'AAC',\n 'AAC',\n 'ACC',\n 'AGC',\n 'UCC',\n 'UCU',\n 'CCC',\n 'CAG',\n 'CCA',\n 'AAG',\n 'AAG',\n 'AAA',\n 'CCA',\n 'CUG',\n 'GAU',\n 'GGA',\n 'GAA',\n 'UAU',\n 'UUC',\n 'ACC',\n 'CUU',\n 'CAG',\n 'AUC',\n 'CGU',\n 'GGG',\n 'CGU',\n 'GAG',\n 'CGC',\n 'UUC',\n 'GAG',\n 'AUG',\n 'UUC',\n 'CGA',\n 'GAG',\n 'CUG',\n 'AAU',\n 'GAG',\n 'GCC',\n 'UUG',\n 'GAA',\n 'CUC',\n 'AAG',\n 'GAU',\n 'GCC',\n 'CAG',\n 'GCU',\n 'GGG',\n 'AAG',\n 'GAG',\n 'CCA',\n 'GGG',\n 'GGG',\n 'AGC',\n 'AGG',\n 'GCU',\n 'CAC',\n 'UCC',\n 'AGC',\n 'CAC',\n 'CUG',\n 'AAG',\n 'UCC',\n 'AAA',\n 'AAG',\n 'GGU',\n 'CAG',\n 'UCU',\n 'ACC',\n 'UCC',\n 'CGC',\n 'CAU',\n 'AAA',\n 'AAA',\n 'CUC',\n 'AUG',\n 'UUC',\n 'AAG',\n 'ACA',\n 'GAA',\n 'GGG',\n 'CCU',\n 'GAC',\n 'UCA',\n 'GAC']"
     },
     "execution_count": 4,
     "metadata": {},
     "output_type": "execute_result"
    }
   ],
   "source": [
    "p53_codons = [rna_sequence[i:i+3] for i in range(0, len(rna_sequence), 3)]\n",
    "\n",
    "p53_codons"
   ],
   "metadata": {
    "collapsed": false,
    "ExecuteTime": {
     "end_time": "2023-07-05T11:48:39.580674400Z",
     "start_time": "2023-07-05T11:48:38.574350700Z"
    }
   }
  },
  {
   "cell_type": "code",
   "execution_count": 5,
   "outputs": [],
   "source": [
    "#Die RNA Sequenz wird in Codons geslicet und als Liste in p53_codons gespeichert."
   ],
   "metadata": {
    "collapsed": false,
    "ExecuteTime": {
     "end_time": "2023-07-05T11:48:40.352095100Z",
     "start_time": "2023-07-05T11:48:39.580674400Z"
    }
   }
  },
  {
   "cell_type": "code",
   "execution_count": 6,
   "outputs": [
    {
     "data": {
      "text/plain": "    Original Variation 1 Variation 2 Variation 3 Variation 4 Variation 5   \n0        AUG         UUG         GUG         CUG         AAG         AGG  \\\n1        GAG         AAG         UAG         CAG         GUG         GGG   \n2        GAG         AAG         UAG         CAG         GUG         GGG   \n3        CCG         ACG         UCG         GCG         CAG         CUG   \n4        CAG         AAG         UAG         GAG         CUG         CGG   \n..       ...         ...         ...         ...         ...         ...   \n388      GGG         AGG         UGG         CGG         GAG         GUG   \n389      CCU         ACU         UCU         GCU         CAU         CUU   \n390      GAC         AAC         UAC         CAC         GUC         GGC   \n391      UCA         ACA         GCA         CCA         UAA         UUA   \n392      GAC         AAC         UAC         CAC         GUC         GGC   \n\n    Variation 6 Variation 7 Variation 8 Variation 9  \n0           ACG         AUA         AUU         AUC  \n1           GCG         GAA         GAU         GAC  \n2           GCG         GAA         GAU         GAC  \n3           CGG         CCA         CCU         CCC  \n4           CCG         CAA         CAU         CAC  \n..          ...         ...         ...         ...  \n388         GCG         GGA         GGU         GGC  \n389         CGU         CCA         CCG         CCC  \n390         GCC         GAA         GAU         GAG  \n391         UGA         UCU         UCG         UCC  \n392         GCC         GAA         GAU         GAG  \n\n[393 rows x 10 columns]",
      "text/html": "<div>\n<style scoped>\n    .dataframe tbody tr th:only-of-type {\n        vertical-align: middle;\n    }\n\n    .dataframe tbody tr th {\n        vertical-align: top;\n    }\n\n    .dataframe thead th {\n        text-align: right;\n    }\n</style>\n<table border=\"1\" class=\"dataframe\">\n  <thead>\n    <tr style=\"text-align: right;\">\n      <th></th>\n      <th>Original</th>\n      <th>Variation 1</th>\n      <th>Variation 2</th>\n      <th>Variation 3</th>\n      <th>Variation 4</th>\n      <th>Variation 5</th>\n      <th>Variation 6</th>\n      <th>Variation 7</th>\n      <th>Variation 8</th>\n      <th>Variation 9</th>\n    </tr>\n  </thead>\n  <tbody>\n    <tr>\n      <th>0</th>\n      <td>AUG</td>\n      <td>UUG</td>\n      <td>GUG</td>\n      <td>CUG</td>\n      <td>AAG</td>\n      <td>AGG</td>\n      <td>ACG</td>\n      <td>AUA</td>\n      <td>AUU</td>\n      <td>AUC</td>\n    </tr>\n    <tr>\n      <th>1</th>\n      <td>GAG</td>\n      <td>AAG</td>\n      <td>UAG</td>\n      <td>CAG</td>\n      <td>GUG</td>\n      <td>GGG</td>\n      <td>GCG</td>\n      <td>GAA</td>\n      <td>GAU</td>\n      <td>GAC</td>\n    </tr>\n    <tr>\n      <th>2</th>\n      <td>GAG</td>\n      <td>AAG</td>\n      <td>UAG</td>\n      <td>CAG</td>\n      <td>GUG</td>\n      <td>GGG</td>\n      <td>GCG</td>\n      <td>GAA</td>\n      <td>GAU</td>\n      <td>GAC</td>\n    </tr>\n    <tr>\n      <th>3</th>\n      <td>CCG</td>\n      <td>ACG</td>\n      <td>UCG</td>\n      <td>GCG</td>\n      <td>CAG</td>\n      <td>CUG</td>\n      <td>CGG</td>\n      <td>CCA</td>\n      <td>CCU</td>\n      <td>CCC</td>\n    </tr>\n    <tr>\n      <th>4</th>\n      <td>CAG</td>\n      <td>AAG</td>\n      <td>UAG</td>\n      <td>GAG</td>\n      <td>CUG</td>\n      <td>CGG</td>\n      <td>CCG</td>\n      <td>CAA</td>\n      <td>CAU</td>\n      <td>CAC</td>\n    </tr>\n    <tr>\n      <th>...</th>\n      <td>...</td>\n      <td>...</td>\n      <td>...</td>\n      <td>...</td>\n      <td>...</td>\n      <td>...</td>\n      <td>...</td>\n      <td>...</td>\n      <td>...</td>\n      <td>...</td>\n    </tr>\n    <tr>\n      <th>388</th>\n      <td>GGG</td>\n      <td>AGG</td>\n      <td>UGG</td>\n      <td>CGG</td>\n      <td>GAG</td>\n      <td>GUG</td>\n      <td>GCG</td>\n      <td>GGA</td>\n      <td>GGU</td>\n      <td>GGC</td>\n    </tr>\n    <tr>\n      <th>389</th>\n      <td>CCU</td>\n      <td>ACU</td>\n      <td>UCU</td>\n      <td>GCU</td>\n      <td>CAU</td>\n      <td>CUU</td>\n      <td>CGU</td>\n      <td>CCA</td>\n      <td>CCG</td>\n      <td>CCC</td>\n    </tr>\n    <tr>\n      <th>390</th>\n      <td>GAC</td>\n      <td>AAC</td>\n      <td>UAC</td>\n      <td>CAC</td>\n      <td>GUC</td>\n      <td>GGC</td>\n      <td>GCC</td>\n      <td>GAA</td>\n      <td>GAU</td>\n      <td>GAG</td>\n    </tr>\n    <tr>\n      <th>391</th>\n      <td>UCA</td>\n      <td>ACA</td>\n      <td>GCA</td>\n      <td>CCA</td>\n      <td>UAA</td>\n      <td>UUA</td>\n      <td>UGA</td>\n      <td>UCU</td>\n      <td>UCG</td>\n      <td>UCC</td>\n    </tr>\n    <tr>\n      <th>392</th>\n      <td>GAC</td>\n      <td>AAC</td>\n      <td>UAC</td>\n      <td>CAC</td>\n      <td>GUC</td>\n      <td>GGC</td>\n      <td>GCC</td>\n      <td>GAA</td>\n      <td>GAU</td>\n      <td>GAG</td>\n    </tr>\n  </tbody>\n</table>\n<p>393 rows × 10 columns</p>\n</div>"
     },
     "execution_count": 6,
     "metadata": {},
     "output_type": "execute_result"
    }
   ],
   "source": [
    "# Alle möglichen Codons für tp53\n",
    "mutated_p53 = ses.generate_codon_variations(p53_codons)\n",
    "mutated_p53"
   ],
   "metadata": {
    "collapsed": false,
    "ExecuteTime": {
     "end_time": "2023-07-05T11:48:41.415581400Z",
     "start_time": "2023-07-05T11:48:40.365985400Z"
    }
   }
  },
  {
   "cell_type": "code",
   "execution_count": 7,
   "outputs": [
    {
     "data": {
      "text/plain": "0\nI    0.3\nL    0.2\nV    0.1\nK    0.1\nR    0.1\nT    0.1\nName: proportion, dtype: float64"
     },
     "execution_count": 7,
     "metadata": {},
     "output_type": "execute_result"
    }
   ],
   "source": [
    "# Übersetzen aller möglichen Codons\n",
    "aa = ses.translate_codons_df(mutated_p53)\n",
    "ses.prob_aa_position(0, aa)"
   ],
   "metadata": {
    "collapsed": false,
    "ExecuteTime": {
     "end_time": "2023-07-05T11:48:42.577344700Z",
     "start_time": "2023-07-05T11:48:41.419820Z"
    }
   }
  },
  {
   "cell_type": "code",
   "execution_count": 8,
   "outputs": [
    {
     "data": {
      "text/plain": "            A   C         D         E   F         G         H         I   \n0         NaN NaN       NaN       NaN NaN       NaN       NaN -0.445662  \\\n1    0.010515 NaN  0.461640       NaN NaN -0.194648       NaN       NaN   \n2    0.096724 NaN  0.478411       NaN NaN -0.233738       NaN       NaN   \n3   -0.336677 NaN       NaN       NaN NaN       NaN       NaN       NaN   \n4         NaN NaN       NaN  0.050641 NaN       NaN  0.301647       NaN   \n..        ...  ..       ...       ...  ..       ...       ...       ...   \n388  0.681923 NaN       NaN  0.198170 NaN       NaN       NaN       NaN   \n389  0.816095 NaN       NaN       NaN NaN       NaN  0.432709       NaN   \n390  0.624231 NaN       NaN  0.411281 NaN  0.606592  0.537711       NaN   \n391  0.409650 NaN       NaN       NaN NaN       NaN       NaN       NaN   \n392  0.666104 NaN       NaN  0.269181 NaN  0.641101  0.583339       NaN   \n\n            K         L   M         N         P         Q         R         S   \n0    0.339590 -0.896484 NaN       NaN       NaN       NaN -0.479409       NaN  \\\n1    0.530006       NaN NaN       NaN       NaN  0.320817       NaN       NaN   \n2    0.515066       NaN NaN       NaN       NaN  0.350823       NaN       NaN   \n3         NaN  0.298945 NaN       NaN       NaN  0.507619  0.398395  0.358706   \n4    0.628535  0.406995 NaN       NaN  0.142345       NaN  0.175909       NaN   \n..        ...       ...  ..       ...       ...       ...       ...       ...   \n388       NaN       NaN NaN       NaN       NaN       NaN  0.595348       NaN   \n389       NaN  0.598105 NaN       NaN       NaN       NaN  0.777285  0.447437   \n390       NaN       NaN NaN  0.555494       NaN       NaN       NaN       NaN   \n391       NaN  0.507320 NaN       NaN  0.570893       NaN       NaN       NaN   \n392       NaN       NaN NaN  0.504888       NaN       NaN       NaN       NaN   \n\n            T         V         W         Y  \n0    0.143952 -0.236035       NaN       NaN  \n1         NaN  0.291224       NaN       NaN  \n2         NaN -0.029022       NaN       NaN  \n3    0.470961       NaN       NaN       NaN  \n4         NaN       NaN       NaN       NaN  \n..        ...       ...       ...       ...  \n388       NaN  0.464735  0.555301       NaN  \n389  0.752204       NaN       NaN       NaN  \n390       NaN  0.837795       NaN  0.583616  \n391  0.698685       NaN       NaN       NaN  \n392       NaN  0.790607       NaN  0.549047  \n\n[393 rows x 20 columns]",
      "text/html": "<div>\n<style scoped>\n    .dataframe tbody tr th:only-of-type {\n        vertical-align: middle;\n    }\n\n    .dataframe tbody tr th {\n        vertical-align: top;\n    }\n\n    .dataframe thead th {\n        text-align: right;\n    }\n</style>\n<table border=\"1\" class=\"dataframe\">\n  <thead>\n    <tr style=\"text-align: right;\">\n      <th></th>\n      <th>A</th>\n      <th>C</th>\n      <th>D</th>\n      <th>E</th>\n      <th>F</th>\n      <th>G</th>\n      <th>H</th>\n      <th>I</th>\n      <th>K</th>\n      <th>L</th>\n      <th>M</th>\n      <th>N</th>\n      <th>P</th>\n      <th>Q</th>\n      <th>R</th>\n      <th>S</th>\n      <th>T</th>\n      <th>V</th>\n      <th>W</th>\n      <th>Y</th>\n    </tr>\n  </thead>\n  <tbody>\n    <tr>\n      <th>0</th>\n      <td>NaN</td>\n      <td>NaN</td>\n      <td>NaN</td>\n      <td>NaN</td>\n      <td>NaN</td>\n      <td>NaN</td>\n      <td>NaN</td>\n      <td>-0.445662</td>\n      <td>0.339590</td>\n      <td>-0.896484</td>\n      <td>NaN</td>\n      <td>NaN</td>\n      <td>NaN</td>\n      <td>NaN</td>\n      <td>-0.479409</td>\n      <td>NaN</td>\n      <td>0.143952</td>\n      <td>-0.236035</td>\n      <td>NaN</td>\n      <td>NaN</td>\n    </tr>\n    <tr>\n      <th>1</th>\n      <td>0.010515</td>\n      <td>NaN</td>\n      <td>0.461640</td>\n      <td>NaN</td>\n      <td>NaN</td>\n      <td>-0.194648</td>\n      <td>NaN</td>\n      <td>NaN</td>\n      <td>0.530006</td>\n      <td>NaN</td>\n      <td>NaN</td>\n      <td>NaN</td>\n      <td>NaN</td>\n      <td>0.320817</td>\n      <td>NaN</td>\n      <td>NaN</td>\n      <td>NaN</td>\n      <td>0.291224</td>\n      <td>NaN</td>\n      <td>NaN</td>\n    </tr>\n    <tr>\n      <th>2</th>\n      <td>0.096724</td>\n      <td>NaN</td>\n      <td>0.478411</td>\n      <td>NaN</td>\n      <td>NaN</td>\n      <td>-0.233738</td>\n      <td>NaN</td>\n      <td>NaN</td>\n      <td>0.515066</td>\n      <td>NaN</td>\n      <td>NaN</td>\n      <td>NaN</td>\n      <td>NaN</td>\n      <td>0.350823</td>\n      <td>NaN</td>\n      <td>NaN</td>\n      <td>NaN</td>\n      <td>-0.029022</td>\n      <td>NaN</td>\n      <td>NaN</td>\n    </tr>\n    <tr>\n      <th>3</th>\n      <td>-0.336677</td>\n      <td>NaN</td>\n      <td>NaN</td>\n      <td>NaN</td>\n      <td>NaN</td>\n      <td>NaN</td>\n      <td>NaN</td>\n      <td>NaN</td>\n      <td>NaN</td>\n      <td>0.298945</td>\n      <td>NaN</td>\n      <td>NaN</td>\n      <td>NaN</td>\n      <td>0.507619</td>\n      <td>0.398395</td>\n      <td>0.358706</td>\n      <td>0.470961</td>\n      <td>NaN</td>\n      <td>NaN</td>\n      <td>NaN</td>\n    </tr>\n    <tr>\n      <th>4</th>\n      <td>NaN</td>\n      <td>NaN</td>\n      <td>NaN</td>\n      <td>0.050641</td>\n      <td>NaN</td>\n      <td>NaN</td>\n      <td>0.301647</td>\n      <td>NaN</td>\n      <td>0.628535</td>\n      <td>0.406995</td>\n      <td>NaN</td>\n      <td>NaN</td>\n      <td>0.142345</td>\n      <td>NaN</td>\n      <td>0.175909</td>\n      <td>NaN</td>\n      <td>NaN</td>\n      <td>NaN</td>\n      <td>NaN</td>\n      <td>NaN</td>\n    </tr>\n    <tr>\n      <th>...</th>\n      <td>...</td>\n      <td>...</td>\n      <td>...</td>\n      <td>...</td>\n      <td>...</td>\n      <td>...</td>\n      <td>...</td>\n      <td>...</td>\n      <td>...</td>\n      <td>...</td>\n      <td>...</td>\n      <td>...</td>\n      <td>...</td>\n      <td>...</td>\n      <td>...</td>\n      <td>...</td>\n      <td>...</td>\n      <td>...</td>\n      <td>...</td>\n      <td>...</td>\n    </tr>\n    <tr>\n      <th>388</th>\n      <td>0.681923</td>\n      <td>NaN</td>\n      <td>NaN</td>\n      <td>0.198170</td>\n      <td>NaN</td>\n      <td>NaN</td>\n      <td>NaN</td>\n      <td>NaN</td>\n      <td>NaN</td>\n      <td>NaN</td>\n      <td>NaN</td>\n      <td>NaN</td>\n      <td>NaN</td>\n      <td>NaN</td>\n      <td>0.595348</td>\n      <td>NaN</td>\n      <td>NaN</td>\n      <td>0.464735</td>\n      <td>0.555301</td>\n      <td>NaN</td>\n    </tr>\n    <tr>\n      <th>389</th>\n      <td>0.816095</td>\n      <td>NaN</td>\n      <td>NaN</td>\n      <td>NaN</td>\n      <td>NaN</td>\n      <td>NaN</td>\n      <td>0.432709</td>\n      <td>NaN</td>\n      <td>NaN</td>\n      <td>0.598105</td>\n      <td>NaN</td>\n      <td>NaN</td>\n      <td>NaN</td>\n      <td>NaN</td>\n      <td>0.777285</td>\n      <td>0.447437</td>\n      <td>0.752204</td>\n      <td>NaN</td>\n      <td>NaN</td>\n      <td>NaN</td>\n    </tr>\n    <tr>\n      <th>390</th>\n      <td>0.624231</td>\n      <td>NaN</td>\n      <td>NaN</td>\n      <td>0.411281</td>\n      <td>NaN</td>\n      <td>0.606592</td>\n      <td>0.537711</td>\n      <td>NaN</td>\n      <td>NaN</td>\n      <td>NaN</td>\n      <td>NaN</td>\n      <td>0.555494</td>\n      <td>NaN</td>\n      <td>NaN</td>\n      <td>NaN</td>\n      <td>NaN</td>\n      <td>NaN</td>\n      <td>0.837795</td>\n      <td>NaN</td>\n      <td>0.583616</td>\n    </tr>\n    <tr>\n      <th>391</th>\n      <td>0.409650</td>\n      <td>NaN</td>\n      <td>NaN</td>\n      <td>NaN</td>\n      <td>NaN</td>\n      <td>NaN</td>\n      <td>NaN</td>\n      <td>NaN</td>\n      <td>NaN</td>\n      <td>0.507320</td>\n      <td>NaN</td>\n      <td>NaN</td>\n      <td>0.570893</td>\n      <td>NaN</td>\n      <td>NaN</td>\n      <td>NaN</td>\n      <td>0.698685</td>\n      <td>NaN</td>\n      <td>NaN</td>\n      <td>NaN</td>\n    </tr>\n    <tr>\n      <th>392</th>\n      <td>0.666104</td>\n      <td>NaN</td>\n      <td>NaN</td>\n      <td>0.269181</td>\n      <td>NaN</td>\n      <td>0.641101</td>\n      <td>0.583339</td>\n      <td>NaN</td>\n      <td>NaN</td>\n      <td>NaN</td>\n      <td>NaN</td>\n      <td>0.504888</td>\n      <td>NaN</td>\n      <td>NaN</td>\n      <td>NaN</td>\n      <td>NaN</td>\n      <td>NaN</td>\n      <td>0.790607</td>\n      <td>NaN</td>\n      <td>0.549047</td>\n    </tr>\n  </tbody>\n</table>\n<p>393 rows × 20 columns</p>\n</div>"
     },
     "execution_count": 8,
     "metadata": {},
     "output_type": "execute_result"
    }
   ],
   "source": [
    "##### Wichtig\n",
    "## Function was updated on 26.06.23 -> slightly different parameters needed. Usage → see in codon.py\n",
    "# Das DMS_score df soll in ein df umgewandelt werden, indem nur die single mutations drinstehen. In dieser Zelle probiere ich das erst einmal für eine Zeile, bevor ich über alle iteriere.\n",
    "\n",
    "p53_var_frame_raw: pd.DataFrame = ses.translate_codons_df(ses.generate_codon_variations(ses.p53_codons_gia))\n",
    "p53_var_frame = ses.clean_variation_matrix(p53_var_frame_raw)\n",
    "\n",
    "gia_null_eto: pd.DataFrame = pd.read_csv('../DMS_data/P53_HUMAN_Giacomelli_NULL_Etoposide_2018.csv')\n",
    "df = dc.min_max_norm(dc.df_transform(gia_null_eto).T)\n",
    "\n",
    "sel_mut: pd.DataFrame = ses.select_smut(df, p53_var_frame).sort_index(axis=1)\n",
    "\n",
    "sel_mut"
   ],
   "metadata": {
    "collapsed": false,
    "ExecuteTime": {
     "end_time": "2023-07-05T11:48:47.458609700Z",
     "start_time": "2023-07-05T11:48:42.576420600Z"
    }
   }
  },
  {
   "cell_type": "code",
   "execution_count": 9,
   "outputs": [
    {
     "data": {
      "text/plain": "aa_new               A         C         D         E         F         G   \nposition_mut                                                               \n0            -0.168502 -0.866931  0.598737  0.478836  0.415549 -0.160632  \\\n1             0.010515  0.004980  0.461640       NaN  0.302028 -0.194648   \n2             0.096724  0.190582  0.478411       NaN  0.099391 -0.233738   \n3            -0.336677  0.124400  0.558168  0.289187  0.238268  0.472493   \n4             0.023911  0.151089  0.621464  0.050641  0.256079  0.551513   \n...                ...       ...       ...       ...       ...       ...   \n388           0.681923  0.676325  0.761085  0.198170  0.479534       NaN   \n389           0.816095  0.513891  0.804582  0.388492  0.830233  0.499956   \n390           0.624231  0.588468       NaN  0.411281  0.962123  0.606592   \n391           0.409650  0.736250  0.966401  0.624584  0.741360  0.991717   \n392           0.666104  0.246667       NaN  0.269181  0.884705  0.641101   \n\naa_new               H         I         K         L         M         N   \nposition_mut                                                               \n0            -0.852209 -0.445662  0.339590 -0.896484       NaN -0.697852  \\\n1             0.090028  0.282427  0.530006  0.291199  0.184981  0.321704   \n2             0.159003  0.129061  0.515066  0.221501  0.083015  0.325079   \n3             0.242619  0.456262  0.610571  0.298945  0.531355  0.517132   \n4             0.301647  0.361864  0.628535  0.406995  0.312664  0.344991   \n...                ...       ...       ...       ...       ...       ...   \n388           0.572631  0.744037  0.731020  0.798751  0.857457  0.530929   \n389           0.432709  0.847820  0.920170  0.598105  0.704719  0.767221   \n390           0.537711  0.892587  0.854949  0.801254  0.767150  0.555494   \n391           0.651107  0.759764  0.836548  0.507320  0.745848  1.000000   \n392           0.583339  0.992533  0.779423  0.940878  0.706554  0.504888   \n\naa_new               P         Q         R         S         T         V   \nposition_mut                                                               \n0            -0.746822 -0.845914 -0.479409 -1.000000  0.143952 -0.236035  \\\n1             0.428349  0.320817  0.350754  0.165773  0.355083  0.291224   \n2             0.266745  0.350823 -0.158257  0.254825  0.479998 -0.029022   \n3                  NaN  0.507619  0.398395  0.358706  0.470961  0.248474   \n4             0.142345       NaN  0.175909  0.471829  0.559920  0.241726   \n...                ...       ...       ...       ...       ...       ...   \n388           0.756395  0.889002  0.595348  0.562197  0.914707  0.464735   \n389                NaN  0.720545  0.777285  0.447437  0.752204  1.000000   \n390           0.726009  0.635644  0.785052  0.895229  0.781827  0.837795   \n391           0.570893  0.793241  0.813874       NaN  0.698685  0.850098   \n392           1.000000  0.762616  0.914695  1.000000  0.935419  0.790607   \n\naa_new               W         Y  \nposition_mut                      \n0            -0.786962 -0.350732  \n1             0.045728  0.223568  \n2             0.241108  0.346992  \n3             0.316508  0.472928  \n4             0.204634  0.432133  \n...                ...       ...  \n388           0.555301  0.694380  \n389           0.689286  0.416601  \n390           0.913509  0.583616  \n391           0.878250  0.494480  \n392           0.911673  0.549047  \n\n[393 rows x 20 columns]",
      "text/html": "<div>\n<style scoped>\n    .dataframe tbody tr th:only-of-type {\n        vertical-align: middle;\n    }\n\n    .dataframe tbody tr th {\n        vertical-align: top;\n    }\n\n    .dataframe thead th {\n        text-align: right;\n    }\n</style>\n<table border=\"1\" class=\"dataframe\">\n  <thead>\n    <tr style=\"text-align: right;\">\n      <th>aa_new</th>\n      <th>A</th>\n      <th>C</th>\n      <th>D</th>\n      <th>E</th>\n      <th>F</th>\n      <th>G</th>\n      <th>H</th>\n      <th>I</th>\n      <th>K</th>\n      <th>L</th>\n      <th>M</th>\n      <th>N</th>\n      <th>P</th>\n      <th>Q</th>\n      <th>R</th>\n      <th>S</th>\n      <th>T</th>\n      <th>V</th>\n      <th>W</th>\n      <th>Y</th>\n    </tr>\n    <tr>\n      <th>position_mut</th>\n      <th></th>\n      <th></th>\n      <th></th>\n      <th></th>\n      <th></th>\n      <th></th>\n      <th></th>\n      <th></th>\n      <th></th>\n      <th></th>\n      <th></th>\n      <th></th>\n      <th></th>\n      <th></th>\n      <th></th>\n      <th></th>\n      <th></th>\n      <th></th>\n      <th></th>\n      <th></th>\n    </tr>\n  </thead>\n  <tbody>\n    <tr>\n      <th>0</th>\n      <td>-0.168502</td>\n      <td>-0.866931</td>\n      <td>0.598737</td>\n      <td>0.478836</td>\n      <td>0.415549</td>\n      <td>-0.160632</td>\n      <td>-0.852209</td>\n      <td>-0.445662</td>\n      <td>0.339590</td>\n      <td>-0.896484</td>\n      <td>NaN</td>\n      <td>-0.697852</td>\n      <td>-0.746822</td>\n      <td>-0.845914</td>\n      <td>-0.479409</td>\n      <td>-1.000000</td>\n      <td>0.143952</td>\n      <td>-0.236035</td>\n      <td>-0.786962</td>\n      <td>-0.350732</td>\n    </tr>\n    <tr>\n      <th>1</th>\n      <td>0.010515</td>\n      <td>0.004980</td>\n      <td>0.461640</td>\n      <td>NaN</td>\n      <td>0.302028</td>\n      <td>-0.194648</td>\n      <td>0.090028</td>\n      <td>0.282427</td>\n      <td>0.530006</td>\n      <td>0.291199</td>\n      <td>0.184981</td>\n      <td>0.321704</td>\n      <td>0.428349</td>\n      <td>0.320817</td>\n      <td>0.350754</td>\n      <td>0.165773</td>\n      <td>0.355083</td>\n      <td>0.291224</td>\n      <td>0.045728</td>\n      <td>0.223568</td>\n    </tr>\n    <tr>\n      <th>2</th>\n      <td>0.096724</td>\n      <td>0.190582</td>\n      <td>0.478411</td>\n      <td>NaN</td>\n      <td>0.099391</td>\n      <td>-0.233738</td>\n      <td>0.159003</td>\n      <td>0.129061</td>\n      <td>0.515066</td>\n      <td>0.221501</td>\n      <td>0.083015</td>\n      <td>0.325079</td>\n      <td>0.266745</td>\n      <td>0.350823</td>\n      <td>-0.158257</td>\n      <td>0.254825</td>\n      <td>0.479998</td>\n      <td>-0.029022</td>\n      <td>0.241108</td>\n      <td>0.346992</td>\n    </tr>\n    <tr>\n      <th>3</th>\n      <td>-0.336677</td>\n      <td>0.124400</td>\n      <td>0.558168</td>\n      <td>0.289187</td>\n      <td>0.238268</td>\n      <td>0.472493</td>\n      <td>0.242619</td>\n      <td>0.456262</td>\n      <td>0.610571</td>\n      <td>0.298945</td>\n      <td>0.531355</td>\n      <td>0.517132</td>\n      <td>NaN</td>\n      <td>0.507619</td>\n      <td>0.398395</td>\n      <td>0.358706</td>\n      <td>0.470961</td>\n      <td>0.248474</td>\n      <td>0.316508</td>\n      <td>0.472928</td>\n    </tr>\n    <tr>\n      <th>4</th>\n      <td>0.023911</td>\n      <td>0.151089</td>\n      <td>0.621464</td>\n      <td>0.050641</td>\n      <td>0.256079</td>\n      <td>0.551513</td>\n      <td>0.301647</td>\n      <td>0.361864</td>\n      <td>0.628535</td>\n      <td>0.406995</td>\n      <td>0.312664</td>\n      <td>0.344991</td>\n      <td>0.142345</td>\n      <td>NaN</td>\n      <td>0.175909</td>\n      <td>0.471829</td>\n      <td>0.559920</td>\n      <td>0.241726</td>\n      <td>0.204634</td>\n      <td>0.432133</td>\n    </tr>\n    <tr>\n      <th>...</th>\n      <td>...</td>\n      <td>...</td>\n      <td>...</td>\n      <td>...</td>\n      <td>...</td>\n      <td>...</td>\n      <td>...</td>\n      <td>...</td>\n      <td>...</td>\n      <td>...</td>\n      <td>...</td>\n      <td>...</td>\n      <td>...</td>\n      <td>...</td>\n      <td>...</td>\n      <td>...</td>\n      <td>...</td>\n      <td>...</td>\n      <td>...</td>\n      <td>...</td>\n    </tr>\n    <tr>\n      <th>388</th>\n      <td>0.681923</td>\n      <td>0.676325</td>\n      <td>0.761085</td>\n      <td>0.198170</td>\n      <td>0.479534</td>\n      <td>NaN</td>\n      <td>0.572631</td>\n      <td>0.744037</td>\n      <td>0.731020</td>\n      <td>0.798751</td>\n      <td>0.857457</td>\n      <td>0.530929</td>\n      <td>0.756395</td>\n      <td>0.889002</td>\n      <td>0.595348</td>\n      <td>0.562197</td>\n      <td>0.914707</td>\n      <td>0.464735</td>\n      <td>0.555301</td>\n      <td>0.694380</td>\n    </tr>\n    <tr>\n      <th>389</th>\n      <td>0.816095</td>\n      <td>0.513891</td>\n      <td>0.804582</td>\n      <td>0.388492</td>\n      <td>0.830233</td>\n      <td>0.499956</td>\n      <td>0.432709</td>\n      <td>0.847820</td>\n      <td>0.920170</td>\n      <td>0.598105</td>\n      <td>0.704719</td>\n      <td>0.767221</td>\n      <td>NaN</td>\n      <td>0.720545</td>\n      <td>0.777285</td>\n      <td>0.447437</td>\n      <td>0.752204</td>\n      <td>1.000000</td>\n      <td>0.689286</td>\n      <td>0.416601</td>\n    </tr>\n    <tr>\n      <th>390</th>\n      <td>0.624231</td>\n      <td>0.588468</td>\n      <td>NaN</td>\n      <td>0.411281</td>\n      <td>0.962123</td>\n      <td>0.606592</td>\n      <td>0.537711</td>\n      <td>0.892587</td>\n      <td>0.854949</td>\n      <td>0.801254</td>\n      <td>0.767150</td>\n      <td>0.555494</td>\n      <td>0.726009</td>\n      <td>0.635644</td>\n      <td>0.785052</td>\n      <td>0.895229</td>\n      <td>0.781827</td>\n      <td>0.837795</td>\n      <td>0.913509</td>\n      <td>0.583616</td>\n    </tr>\n    <tr>\n      <th>391</th>\n      <td>0.409650</td>\n      <td>0.736250</td>\n      <td>0.966401</td>\n      <td>0.624584</td>\n      <td>0.741360</td>\n      <td>0.991717</td>\n      <td>0.651107</td>\n      <td>0.759764</td>\n      <td>0.836548</td>\n      <td>0.507320</td>\n      <td>0.745848</td>\n      <td>1.000000</td>\n      <td>0.570893</td>\n      <td>0.793241</td>\n      <td>0.813874</td>\n      <td>NaN</td>\n      <td>0.698685</td>\n      <td>0.850098</td>\n      <td>0.878250</td>\n      <td>0.494480</td>\n    </tr>\n    <tr>\n      <th>392</th>\n      <td>0.666104</td>\n      <td>0.246667</td>\n      <td>NaN</td>\n      <td>0.269181</td>\n      <td>0.884705</td>\n      <td>0.641101</td>\n      <td>0.583339</td>\n      <td>0.992533</td>\n      <td>0.779423</td>\n      <td>0.940878</td>\n      <td>0.706554</td>\n      <td>0.504888</td>\n      <td>1.000000</td>\n      <td>0.762616</td>\n      <td>0.914695</td>\n      <td>1.000000</td>\n      <td>0.935419</td>\n      <td>0.790607</td>\n      <td>0.911673</td>\n      <td>0.549047</td>\n    </tr>\n  </tbody>\n</table>\n<p>393 rows × 20 columns</p>\n</div>"
     },
     "execution_count": 9,
     "metadata": {},
     "output_type": "execute_result"
    }
   ],
   "source": [
    "dms_scores = dc.norm(dc.df_split(gia_null_eto))\n",
    "dms_scores"
   ],
   "metadata": {
    "collapsed": false,
    "ExecuteTime": {
     "end_time": "2023-07-05T11:48:49.036692800Z",
     "start_time": "2023-07-05T11:48:47.467510Z"
    }
   }
  },
  {
   "cell_type": "code",
   "execution_count": 10,
   "outputs": [
    {
     "data": {
      "text/plain": "aa_new          A    C    D    E    F    G    H    I    K    L    M    N    P   \nposition_mut                                                                    \n0             0.0  0.0  0.0  0.0  0.0  0.0  0.0  0.0  0.0  0.0  0.0  0.0  0.0  \\\n1             0.0  0.0  0.0  0.0  0.0  0.0  0.0  0.0  0.0  0.0  0.0  0.0  0.0   \n2             0.0  0.0  0.0  0.0  0.0  0.0  0.0  0.0  0.0  0.0  0.0  0.0  0.0   \n3             0.0  0.0  0.0  0.0  0.0  0.0  0.0  0.0  0.0  0.0  0.0  0.0  0.0   \n4             0.0  0.0  0.0  0.0  0.0  0.0  0.0  0.0  0.0  0.0  0.0  0.0  0.0   \n...           ...  ...  ...  ...  ...  ...  ...  ...  ...  ...  ...  ...  ...   \n388           0.0  0.0  0.0  0.0  0.0  0.0  0.0  0.0  0.0  0.0  0.0  0.0  0.0   \n389           0.0  0.0  0.0  0.0  0.0  0.0  0.0  0.0  0.0  0.0  0.0  0.0  0.0   \n390           0.0  0.0  0.0  0.0  0.0  0.0  0.0  0.0  0.0  0.0  0.0  0.0  0.0   \n391           0.0  0.0  0.0  0.0  0.0  0.0  0.0  0.0  0.0  0.0  0.0  0.0  0.0   \n392           0.0  0.0  0.0  0.0  0.0  0.0  0.0  0.0  0.0  0.0  0.0  0.0  0.0   \n\naa_new          Q    R    S    T    V    W    Y  \nposition_mut                                     \n0             0.0  0.0  0.0  0.0  0.0  0.0  0.0  \n1             0.0  0.0  0.0  0.0  0.0  0.0  0.0  \n2             0.0  0.0  0.0  0.0  0.0  0.0  0.0  \n3             0.0  0.0  0.0  0.0  0.0  0.0  0.0  \n4             0.0  0.0  0.0  0.0  0.0  0.0  0.0  \n...           ...  ...  ...  ...  ...  ...  ...  \n388           0.0  0.0  0.0  0.0  0.0  0.0  0.0  \n389           0.0  0.0  0.0  0.0  0.0  0.0  0.0  \n390           0.0  0.0  0.0  0.0  0.0  0.0  0.0  \n391           0.0  0.0  0.0  0.0  0.0  0.0  0.0  \n392           0.0  0.0  0.0  0.0  0.0  0.0  0.0  \n\n[393 rows x 20 columns]",
      "text/html": "<div>\n<style scoped>\n    .dataframe tbody tr th:only-of-type {\n        vertical-align: middle;\n    }\n\n    .dataframe tbody tr th {\n        vertical-align: top;\n    }\n\n    .dataframe thead th {\n        text-align: right;\n    }\n</style>\n<table border=\"1\" class=\"dataframe\">\n  <thead>\n    <tr style=\"text-align: right;\">\n      <th>aa_new</th>\n      <th>A</th>\n      <th>C</th>\n      <th>D</th>\n      <th>E</th>\n      <th>F</th>\n      <th>G</th>\n      <th>H</th>\n      <th>I</th>\n      <th>K</th>\n      <th>L</th>\n      <th>M</th>\n      <th>N</th>\n      <th>P</th>\n      <th>Q</th>\n      <th>R</th>\n      <th>S</th>\n      <th>T</th>\n      <th>V</th>\n      <th>W</th>\n      <th>Y</th>\n    </tr>\n    <tr>\n      <th>position_mut</th>\n      <th></th>\n      <th></th>\n      <th></th>\n      <th></th>\n      <th></th>\n      <th></th>\n      <th></th>\n      <th></th>\n      <th></th>\n      <th></th>\n      <th></th>\n      <th></th>\n      <th></th>\n      <th></th>\n      <th></th>\n      <th></th>\n      <th></th>\n      <th></th>\n      <th></th>\n      <th></th>\n    </tr>\n  </thead>\n  <tbody>\n    <tr>\n      <th>0</th>\n      <td>0.0</td>\n      <td>0.0</td>\n      <td>0.0</td>\n      <td>0.0</td>\n      <td>0.0</td>\n      <td>0.0</td>\n      <td>0.0</td>\n      <td>0.0</td>\n      <td>0.0</td>\n      <td>0.0</td>\n      <td>0.0</td>\n      <td>0.0</td>\n      <td>0.0</td>\n      <td>0.0</td>\n      <td>0.0</td>\n      <td>0.0</td>\n      <td>0.0</td>\n      <td>0.0</td>\n      <td>0.0</td>\n      <td>0.0</td>\n    </tr>\n    <tr>\n      <th>1</th>\n      <td>0.0</td>\n      <td>0.0</td>\n      <td>0.0</td>\n      <td>0.0</td>\n      <td>0.0</td>\n      <td>0.0</td>\n      <td>0.0</td>\n      <td>0.0</td>\n      <td>0.0</td>\n      <td>0.0</td>\n      <td>0.0</td>\n      <td>0.0</td>\n      <td>0.0</td>\n      <td>0.0</td>\n      <td>0.0</td>\n      <td>0.0</td>\n      <td>0.0</td>\n      <td>0.0</td>\n      <td>0.0</td>\n      <td>0.0</td>\n    </tr>\n    <tr>\n      <th>2</th>\n      <td>0.0</td>\n      <td>0.0</td>\n      <td>0.0</td>\n      <td>0.0</td>\n      <td>0.0</td>\n      <td>0.0</td>\n      <td>0.0</td>\n      <td>0.0</td>\n      <td>0.0</td>\n      <td>0.0</td>\n      <td>0.0</td>\n      <td>0.0</td>\n      <td>0.0</td>\n      <td>0.0</td>\n      <td>0.0</td>\n      <td>0.0</td>\n      <td>0.0</td>\n      <td>0.0</td>\n      <td>0.0</td>\n      <td>0.0</td>\n    </tr>\n    <tr>\n      <th>3</th>\n      <td>0.0</td>\n      <td>0.0</td>\n      <td>0.0</td>\n      <td>0.0</td>\n      <td>0.0</td>\n      <td>0.0</td>\n      <td>0.0</td>\n      <td>0.0</td>\n      <td>0.0</td>\n      <td>0.0</td>\n      <td>0.0</td>\n      <td>0.0</td>\n      <td>0.0</td>\n      <td>0.0</td>\n      <td>0.0</td>\n      <td>0.0</td>\n      <td>0.0</td>\n      <td>0.0</td>\n      <td>0.0</td>\n      <td>0.0</td>\n    </tr>\n    <tr>\n      <th>4</th>\n      <td>0.0</td>\n      <td>0.0</td>\n      <td>0.0</td>\n      <td>0.0</td>\n      <td>0.0</td>\n      <td>0.0</td>\n      <td>0.0</td>\n      <td>0.0</td>\n      <td>0.0</td>\n      <td>0.0</td>\n      <td>0.0</td>\n      <td>0.0</td>\n      <td>0.0</td>\n      <td>0.0</td>\n      <td>0.0</td>\n      <td>0.0</td>\n      <td>0.0</td>\n      <td>0.0</td>\n      <td>0.0</td>\n      <td>0.0</td>\n    </tr>\n    <tr>\n      <th>...</th>\n      <td>...</td>\n      <td>...</td>\n      <td>...</td>\n      <td>...</td>\n      <td>...</td>\n      <td>...</td>\n      <td>...</td>\n      <td>...</td>\n      <td>...</td>\n      <td>...</td>\n      <td>...</td>\n      <td>...</td>\n      <td>...</td>\n      <td>...</td>\n      <td>...</td>\n      <td>...</td>\n      <td>...</td>\n      <td>...</td>\n      <td>...</td>\n      <td>...</td>\n    </tr>\n    <tr>\n      <th>388</th>\n      <td>0.0</td>\n      <td>0.0</td>\n      <td>0.0</td>\n      <td>0.0</td>\n      <td>0.0</td>\n      <td>0.0</td>\n      <td>0.0</td>\n      <td>0.0</td>\n      <td>0.0</td>\n      <td>0.0</td>\n      <td>0.0</td>\n      <td>0.0</td>\n      <td>0.0</td>\n      <td>0.0</td>\n      <td>0.0</td>\n      <td>0.0</td>\n      <td>0.0</td>\n      <td>0.0</td>\n      <td>0.0</td>\n      <td>0.0</td>\n    </tr>\n    <tr>\n      <th>389</th>\n      <td>0.0</td>\n      <td>0.0</td>\n      <td>0.0</td>\n      <td>0.0</td>\n      <td>0.0</td>\n      <td>0.0</td>\n      <td>0.0</td>\n      <td>0.0</td>\n      <td>0.0</td>\n      <td>0.0</td>\n      <td>0.0</td>\n      <td>0.0</td>\n      <td>0.0</td>\n      <td>0.0</td>\n      <td>0.0</td>\n      <td>0.0</td>\n      <td>0.0</td>\n      <td>0.0</td>\n      <td>0.0</td>\n      <td>0.0</td>\n    </tr>\n    <tr>\n      <th>390</th>\n      <td>0.0</td>\n      <td>0.0</td>\n      <td>0.0</td>\n      <td>0.0</td>\n      <td>0.0</td>\n      <td>0.0</td>\n      <td>0.0</td>\n      <td>0.0</td>\n      <td>0.0</td>\n      <td>0.0</td>\n      <td>0.0</td>\n      <td>0.0</td>\n      <td>0.0</td>\n      <td>0.0</td>\n      <td>0.0</td>\n      <td>0.0</td>\n      <td>0.0</td>\n      <td>0.0</td>\n      <td>0.0</td>\n      <td>0.0</td>\n    </tr>\n    <tr>\n      <th>391</th>\n      <td>0.0</td>\n      <td>0.0</td>\n      <td>0.0</td>\n      <td>0.0</td>\n      <td>0.0</td>\n      <td>0.0</td>\n      <td>0.0</td>\n      <td>0.0</td>\n      <td>0.0</td>\n      <td>0.0</td>\n      <td>0.0</td>\n      <td>0.0</td>\n      <td>0.0</td>\n      <td>0.0</td>\n      <td>0.0</td>\n      <td>0.0</td>\n      <td>0.0</td>\n      <td>0.0</td>\n      <td>0.0</td>\n      <td>0.0</td>\n    </tr>\n    <tr>\n      <th>392</th>\n      <td>0.0</td>\n      <td>0.0</td>\n      <td>0.0</td>\n      <td>0.0</td>\n      <td>0.0</td>\n      <td>0.0</td>\n      <td>0.0</td>\n      <td>0.0</td>\n      <td>0.0</td>\n      <td>0.0</td>\n      <td>0.0</td>\n      <td>0.0</td>\n      <td>0.0</td>\n      <td>0.0</td>\n      <td>0.0</td>\n      <td>0.0</td>\n      <td>0.0</td>\n      <td>0.0</td>\n      <td>0.0</td>\n      <td>0.0</td>\n    </tr>\n  </tbody>\n</table>\n<p>393 rows × 20 columns</p>\n</div>"
     },
     "execution_count": 10,
     "metadata": {},
     "output_type": "execute_result"
    }
   ],
   "source": [
    "res = pd.DataFrame(columns=dms_scores.columns, index=dms_scores.index, data=np.zeros(dms_scores.shape))\n",
    "res"
   ],
   "metadata": {
    "collapsed": false,
    "ExecuteTime": {
     "end_time": "2023-07-05T11:48:49.879402500Z",
     "start_time": "2023-07-05T11:48:49.036692800Z"
    }
   }
  },
  {
   "cell_type": "code",
   "execution_count": 11,
   "outputs": [],
   "source": [
    "position = 0\n",
    "var_mat_clean = p53_var_frame\n",
    "prob_dict = ses.exchange_prob_dict(var_mat_clean)"
   ],
   "metadata": {
    "collapsed": false,
    "ExecuteTime": {
     "end_time": "2023-07-05T11:59:38.038718900Z",
     "start_time": "2023-07-05T11:48:49.879402500Z"
    }
   }
  },
  {
   "cell_type": "code",
   "execution_count": 12,
   "outputs": [
    {
     "data": {
      "text/plain": "aa_new               A         C         D         E         F         G   \nposition_mut                                                               \n0            -0.168502 -0.866931  0.598737  0.478836  0.415549 -0.160632  \\\n1             0.010515  0.004980  0.461640       NaN  0.302028 -0.194648   \n2             0.096724  0.190582  0.478411       NaN  0.099391 -0.233738   \n3            -0.336677  0.124400  0.558168  0.289187  0.238268  0.472493   \n4             0.023911  0.151089  0.621464  0.050641  0.256079  0.551513   \n...                ...       ...       ...       ...       ...       ...   \n388           0.681923  0.676325  0.761085  0.198170  0.479534       NaN   \n389           0.816095  0.513891  0.804582  0.388492  0.830233  0.499956   \n390           0.624231  0.588468       NaN  0.411281  0.962123  0.606592   \n391           0.409650  0.736250  0.966401  0.624584  0.741360  0.991717   \n392           0.666104  0.246667       NaN  0.269181  0.884705  0.641101   \n\naa_new               H         I         K         L         M         N   \nposition_mut                                                               \n0            -0.852209 -0.445662  0.339590 -0.896484       NaN -0.697852  \\\n1             0.090028  0.282427  0.530006  0.291199  0.184981  0.321704   \n2             0.159003  0.129061  0.515066  0.221501  0.083015  0.325079   \n3             0.242619  0.456262  0.610571  0.298945  0.531355  0.517132   \n4             0.301647  0.361864  0.628535  0.406995  0.312664  0.344991   \n...                ...       ...       ...       ...       ...       ...   \n388           0.572631  0.744037  0.731020  0.798751  0.857457  0.530929   \n389           0.432709  0.847820  0.920170  0.598105  0.704719  0.767221   \n390           0.537711  0.892587  0.854949  0.801254  0.767150  0.555494   \n391           0.651107  0.759764  0.836548  0.507320  0.745848  1.000000   \n392           0.583339  0.992533  0.779423  0.940878  0.706554  0.504888   \n\naa_new               P         Q         R         S         T         V   \nposition_mut                                                               \n0            -0.746822 -0.845914 -0.479409 -1.000000  0.143952 -0.236035  \\\n1             0.428349  0.320817  0.350754  0.165773  0.355083  0.291224   \n2             0.266745  0.350823 -0.158257  0.254825  0.479998 -0.029022   \n3                  NaN  0.507619  0.398395  0.358706  0.470961  0.248474   \n4             0.142345       NaN  0.175909  0.471829  0.559920  0.241726   \n...                ...       ...       ...       ...       ...       ...   \n388           0.756395  0.889002  0.595348  0.562197  0.914707  0.464735   \n389                NaN  0.720545  0.777285  0.447437  0.752204  1.000000   \n390           0.726009  0.635644  0.785052  0.895229  0.781827  0.837795   \n391           0.570893  0.793241  0.813874       NaN  0.698685  0.850098   \n392           1.000000  0.762616  0.914695  1.000000  0.935419  0.790607   \n\naa_new               W         Y  \nposition_mut                      \n0            -0.786962 -0.350732  \n1             0.045728  0.223568  \n2             0.241108  0.346992  \n3             0.316508  0.472928  \n4             0.204634  0.432133  \n...                ...       ...  \n388           0.555301  0.694380  \n389           0.689286  0.416601  \n390           0.913509  0.583616  \n391           0.878250  0.494480  \n392           0.911673  0.549047  \n\n[393 rows x 20 columns]",
      "text/html": "<div>\n<style scoped>\n    .dataframe tbody tr th:only-of-type {\n        vertical-align: middle;\n    }\n\n    .dataframe tbody tr th {\n        vertical-align: top;\n    }\n\n    .dataframe thead th {\n        text-align: right;\n    }\n</style>\n<table border=\"1\" class=\"dataframe\">\n  <thead>\n    <tr style=\"text-align: right;\">\n      <th>aa_new</th>\n      <th>A</th>\n      <th>C</th>\n      <th>D</th>\n      <th>E</th>\n      <th>F</th>\n      <th>G</th>\n      <th>H</th>\n      <th>I</th>\n      <th>K</th>\n      <th>L</th>\n      <th>M</th>\n      <th>N</th>\n      <th>P</th>\n      <th>Q</th>\n      <th>R</th>\n      <th>S</th>\n      <th>T</th>\n      <th>V</th>\n      <th>W</th>\n      <th>Y</th>\n    </tr>\n    <tr>\n      <th>position_mut</th>\n      <th></th>\n      <th></th>\n      <th></th>\n      <th></th>\n      <th></th>\n      <th></th>\n      <th></th>\n      <th></th>\n      <th></th>\n      <th></th>\n      <th></th>\n      <th></th>\n      <th></th>\n      <th></th>\n      <th></th>\n      <th></th>\n      <th></th>\n      <th></th>\n      <th></th>\n      <th></th>\n    </tr>\n  </thead>\n  <tbody>\n    <tr>\n      <th>0</th>\n      <td>-0.168502</td>\n      <td>-0.866931</td>\n      <td>0.598737</td>\n      <td>0.478836</td>\n      <td>0.415549</td>\n      <td>-0.160632</td>\n      <td>-0.852209</td>\n      <td>-0.445662</td>\n      <td>0.339590</td>\n      <td>-0.896484</td>\n      <td>NaN</td>\n      <td>-0.697852</td>\n      <td>-0.746822</td>\n      <td>-0.845914</td>\n      <td>-0.479409</td>\n      <td>-1.000000</td>\n      <td>0.143952</td>\n      <td>-0.236035</td>\n      <td>-0.786962</td>\n      <td>-0.350732</td>\n    </tr>\n    <tr>\n      <th>1</th>\n      <td>0.010515</td>\n      <td>0.004980</td>\n      <td>0.461640</td>\n      <td>NaN</td>\n      <td>0.302028</td>\n      <td>-0.194648</td>\n      <td>0.090028</td>\n      <td>0.282427</td>\n      <td>0.530006</td>\n      <td>0.291199</td>\n      <td>0.184981</td>\n      <td>0.321704</td>\n      <td>0.428349</td>\n      <td>0.320817</td>\n      <td>0.350754</td>\n      <td>0.165773</td>\n      <td>0.355083</td>\n      <td>0.291224</td>\n      <td>0.045728</td>\n      <td>0.223568</td>\n    </tr>\n    <tr>\n      <th>2</th>\n      <td>0.096724</td>\n      <td>0.190582</td>\n      <td>0.478411</td>\n      <td>NaN</td>\n      <td>0.099391</td>\n      <td>-0.233738</td>\n      <td>0.159003</td>\n      <td>0.129061</td>\n      <td>0.515066</td>\n      <td>0.221501</td>\n      <td>0.083015</td>\n      <td>0.325079</td>\n      <td>0.266745</td>\n      <td>0.350823</td>\n      <td>-0.158257</td>\n      <td>0.254825</td>\n      <td>0.479998</td>\n      <td>-0.029022</td>\n      <td>0.241108</td>\n      <td>0.346992</td>\n    </tr>\n    <tr>\n      <th>3</th>\n      <td>-0.336677</td>\n      <td>0.124400</td>\n      <td>0.558168</td>\n      <td>0.289187</td>\n      <td>0.238268</td>\n      <td>0.472493</td>\n      <td>0.242619</td>\n      <td>0.456262</td>\n      <td>0.610571</td>\n      <td>0.298945</td>\n      <td>0.531355</td>\n      <td>0.517132</td>\n      <td>NaN</td>\n      <td>0.507619</td>\n      <td>0.398395</td>\n      <td>0.358706</td>\n      <td>0.470961</td>\n      <td>0.248474</td>\n      <td>0.316508</td>\n      <td>0.472928</td>\n    </tr>\n    <tr>\n      <th>4</th>\n      <td>0.023911</td>\n      <td>0.151089</td>\n      <td>0.621464</td>\n      <td>0.050641</td>\n      <td>0.256079</td>\n      <td>0.551513</td>\n      <td>0.301647</td>\n      <td>0.361864</td>\n      <td>0.628535</td>\n      <td>0.406995</td>\n      <td>0.312664</td>\n      <td>0.344991</td>\n      <td>0.142345</td>\n      <td>NaN</td>\n      <td>0.175909</td>\n      <td>0.471829</td>\n      <td>0.559920</td>\n      <td>0.241726</td>\n      <td>0.204634</td>\n      <td>0.432133</td>\n    </tr>\n    <tr>\n      <th>...</th>\n      <td>...</td>\n      <td>...</td>\n      <td>...</td>\n      <td>...</td>\n      <td>...</td>\n      <td>...</td>\n      <td>...</td>\n      <td>...</td>\n      <td>...</td>\n      <td>...</td>\n      <td>...</td>\n      <td>...</td>\n      <td>...</td>\n      <td>...</td>\n      <td>...</td>\n      <td>...</td>\n      <td>...</td>\n      <td>...</td>\n      <td>...</td>\n      <td>...</td>\n    </tr>\n    <tr>\n      <th>388</th>\n      <td>0.681923</td>\n      <td>0.676325</td>\n      <td>0.761085</td>\n      <td>0.198170</td>\n      <td>0.479534</td>\n      <td>NaN</td>\n      <td>0.572631</td>\n      <td>0.744037</td>\n      <td>0.731020</td>\n      <td>0.798751</td>\n      <td>0.857457</td>\n      <td>0.530929</td>\n      <td>0.756395</td>\n      <td>0.889002</td>\n      <td>0.595348</td>\n      <td>0.562197</td>\n      <td>0.914707</td>\n      <td>0.464735</td>\n      <td>0.555301</td>\n      <td>0.694380</td>\n    </tr>\n    <tr>\n      <th>389</th>\n      <td>0.816095</td>\n      <td>0.513891</td>\n      <td>0.804582</td>\n      <td>0.388492</td>\n      <td>0.830233</td>\n      <td>0.499956</td>\n      <td>0.432709</td>\n      <td>0.847820</td>\n      <td>0.920170</td>\n      <td>0.598105</td>\n      <td>0.704719</td>\n      <td>0.767221</td>\n      <td>NaN</td>\n      <td>0.720545</td>\n      <td>0.777285</td>\n      <td>0.447437</td>\n      <td>0.752204</td>\n      <td>1.000000</td>\n      <td>0.689286</td>\n      <td>0.416601</td>\n    </tr>\n    <tr>\n      <th>390</th>\n      <td>0.624231</td>\n      <td>0.588468</td>\n      <td>NaN</td>\n      <td>0.411281</td>\n      <td>0.962123</td>\n      <td>0.606592</td>\n      <td>0.537711</td>\n      <td>0.892587</td>\n      <td>0.854949</td>\n      <td>0.801254</td>\n      <td>0.767150</td>\n      <td>0.555494</td>\n      <td>0.726009</td>\n      <td>0.635644</td>\n      <td>0.785052</td>\n      <td>0.895229</td>\n      <td>0.781827</td>\n      <td>0.837795</td>\n      <td>0.913509</td>\n      <td>0.583616</td>\n    </tr>\n    <tr>\n      <th>391</th>\n      <td>0.409650</td>\n      <td>0.736250</td>\n      <td>0.966401</td>\n      <td>0.624584</td>\n      <td>0.741360</td>\n      <td>0.991717</td>\n      <td>0.651107</td>\n      <td>0.759764</td>\n      <td>0.836548</td>\n      <td>0.507320</td>\n      <td>0.745848</td>\n      <td>1.000000</td>\n      <td>0.570893</td>\n      <td>0.793241</td>\n      <td>0.813874</td>\n      <td>NaN</td>\n      <td>0.698685</td>\n      <td>0.850098</td>\n      <td>0.878250</td>\n      <td>0.494480</td>\n    </tr>\n    <tr>\n      <th>392</th>\n      <td>0.666104</td>\n      <td>0.246667</td>\n      <td>NaN</td>\n      <td>0.269181</td>\n      <td>0.884705</td>\n      <td>0.641101</td>\n      <td>0.583339</td>\n      <td>0.992533</td>\n      <td>0.779423</td>\n      <td>0.940878</td>\n      <td>0.706554</td>\n      <td>0.504888</td>\n      <td>1.000000</td>\n      <td>0.762616</td>\n      <td>0.914695</td>\n      <td>1.000000</td>\n      <td>0.935419</td>\n      <td>0.790607</td>\n      <td>0.911673</td>\n      <td>0.549047</td>\n    </tr>\n  </tbody>\n</table>\n<p>393 rows × 20 columns</p>\n</div>"
     },
     "execution_count": 12,
     "metadata": {},
     "output_type": "execute_result"
    }
   ],
   "source": [
    "dms_scores"
   ],
   "metadata": {
    "collapsed": false,
    "ExecuteTime": {
     "end_time": "2023-07-05T11:59:44.472113800Z",
     "start_time": "2023-07-05T11:59:38.046136Z"
    }
   }
  },
  {
   "cell_type": "code",
   "execution_count": 13,
   "outputs": [
    {
     "data": {
      "text/plain": "aa_new               A   C         D         E   F         G         H    I   \nposition_mut                                                                  \n0                  NaN NaN       NaN       NaN NaN       NaN       NaN  0.3  \\\n1             0.111111 NaN  0.222222       NaN NaN  0.111111       NaN  NaN   \n2             0.111111 NaN  0.222222       NaN NaN  0.111111       NaN  NaN   \n3             0.100000 NaN       NaN       NaN NaN       NaN       NaN  NaN   \n4                  NaN NaN       NaN  0.111111 NaN       NaN  0.222222  NaN   \n...                ...  ..       ...       ...  ..       ...       ...  ...   \n388           0.100000 NaN       NaN  0.100000 NaN       NaN       NaN  NaN   \n389           0.100000 NaN       NaN       NaN NaN       NaN  0.100000  NaN   \n390           0.100000 NaN       NaN  0.200000 NaN  0.100000  0.100000  NaN   \n391           0.125000 NaN       NaN       NaN NaN       NaN       NaN  NaN   \n392           0.100000 NaN       NaN  0.200000 NaN  0.100000  0.100000  NaN   \n\naa_new               K         L   M    N         P         Q         R    S   \nposition_mut                                                                   \n0             0.100000  0.200000 NaN  NaN       NaN       NaN  0.100000  NaN  \\\n1             0.111111       NaN NaN  NaN       NaN  0.111111       NaN  NaN   \n2             0.111111       NaN NaN  NaN       NaN  0.111111       NaN  NaN   \n3                  NaN  0.100000 NaN  NaN       NaN  0.100000  0.100000  0.1   \n4             0.111111  0.111111 NaN  NaN  0.111111       NaN  0.111111  NaN   \n...                ...       ...  ..  ...       ...       ...       ...  ...   \n388                NaN       NaN NaN  NaN       NaN       NaN  0.200000  NaN   \n389                NaN  0.100000 NaN  NaN       NaN       NaN  0.100000  0.1   \n390                NaN       NaN NaN  0.1       NaN       NaN       NaN  NaN   \n391                NaN  0.125000 NaN  NaN  0.125000       NaN       NaN  NaN   \n392                NaN       NaN NaN  0.1       NaN       NaN       NaN  NaN   \n\naa_new            T         V    W    Y  \nposition_mut                             \n0             0.100  0.100000  NaN  NaN  \n1               NaN  0.111111  NaN  NaN  \n2               NaN  0.111111  NaN  NaN  \n3             0.100       NaN  NaN  NaN  \n4               NaN       NaN  NaN  NaN  \n...             ...       ...  ...  ...  \n388             NaN  0.100000  0.1  NaN  \n389           0.100       NaN  NaN  NaN  \n390             NaN  0.100000  NaN  0.1  \n391           0.125       NaN  NaN  NaN  \n392             NaN  0.100000  NaN  0.1  \n\n[393 rows x 20 columns]",
      "text/html": "<div>\n<style scoped>\n    .dataframe tbody tr th:only-of-type {\n        vertical-align: middle;\n    }\n\n    .dataframe tbody tr th {\n        vertical-align: top;\n    }\n\n    .dataframe thead th {\n        text-align: right;\n    }\n</style>\n<table border=\"1\" class=\"dataframe\">\n  <thead>\n    <tr style=\"text-align: right;\">\n      <th>aa_new</th>\n      <th>A</th>\n      <th>C</th>\n      <th>D</th>\n      <th>E</th>\n      <th>F</th>\n      <th>G</th>\n      <th>H</th>\n      <th>I</th>\n      <th>K</th>\n      <th>L</th>\n      <th>M</th>\n      <th>N</th>\n      <th>P</th>\n      <th>Q</th>\n      <th>R</th>\n      <th>S</th>\n      <th>T</th>\n      <th>V</th>\n      <th>W</th>\n      <th>Y</th>\n    </tr>\n    <tr>\n      <th>position_mut</th>\n      <th></th>\n      <th></th>\n      <th></th>\n      <th></th>\n      <th></th>\n      <th></th>\n      <th></th>\n      <th></th>\n      <th></th>\n      <th></th>\n      <th></th>\n      <th></th>\n      <th></th>\n      <th></th>\n      <th></th>\n      <th></th>\n      <th></th>\n      <th></th>\n      <th></th>\n      <th></th>\n    </tr>\n  </thead>\n  <tbody>\n    <tr>\n      <th>0</th>\n      <td>NaN</td>\n      <td>NaN</td>\n      <td>NaN</td>\n      <td>NaN</td>\n      <td>NaN</td>\n      <td>NaN</td>\n      <td>NaN</td>\n      <td>0.3</td>\n      <td>0.100000</td>\n      <td>0.200000</td>\n      <td>NaN</td>\n      <td>NaN</td>\n      <td>NaN</td>\n      <td>NaN</td>\n      <td>0.100000</td>\n      <td>NaN</td>\n      <td>0.100</td>\n      <td>0.100000</td>\n      <td>NaN</td>\n      <td>NaN</td>\n    </tr>\n    <tr>\n      <th>1</th>\n      <td>0.111111</td>\n      <td>NaN</td>\n      <td>0.222222</td>\n      <td>NaN</td>\n      <td>NaN</td>\n      <td>0.111111</td>\n      <td>NaN</td>\n      <td>NaN</td>\n      <td>0.111111</td>\n      <td>NaN</td>\n      <td>NaN</td>\n      <td>NaN</td>\n      <td>NaN</td>\n      <td>0.111111</td>\n      <td>NaN</td>\n      <td>NaN</td>\n      <td>NaN</td>\n      <td>0.111111</td>\n      <td>NaN</td>\n      <td>NaN</td>\n    </tr>\n    <tr>\n      <th>2</th>\n      <td>0.111111</td>\n      <td>NaN</td>\n      <td>0.222222</td>\n      <td>NaN</td>\n      <td>NaN</td>\n      <td>0.111111</td>\n      <td>NaN</td>\n      <td>NaN</td>\n      <td>0.111111</td>\n      <td>NaN</td>\n      <td>NaN</td>\n      <td>NaN</td>\n      <td>NaN</td>\n      <td>0.111111</td>\n      <td>NaN</td>\n      <td>NaN</td>\n      <td>NaN</td>\n      <td>0.111111</td>\n      <td>NaN</td>\n      <td>NaN</td>\n    </tr>\n    <tr>\n      <th>3</th>\n      <td>0.100000</td>\n      <td>NaN</td>\n      <td>NaN</td>\n      <td>NaN</td>\n      <td>NaN</td>\n      <td>NaN</td>\n      <td>NaN</td>\n      <td>NaN</td>\n      <td>NaN</td>\n      <td>0.100000</td>\n      <td>NaN</td>\n      <td>NaN</td>\n      <td>NaN</td>\n      <td>0.100000</td>\n      <td>0.100000</td>\n      <td>0.1</td>\n      <td>0.100</td>\n      <td>NaN</td>\n      <td>NaN</td>\n      <td>NaN</td>\n    </tr>\n    <tr>\n      <th>4</th>\n      <td>NaN</td>\n      <td>NaN</td>\n      <td>NaN</td>\n      <td>0.111111</td>\n      <td>NaN</td>\n      <td>NaN</td>\n      <td>0.222222</td>\n      <td>NaN</td>\n      <td>0.111111</td>\n      <td>0.111111</td>\n      <td>NaN</td>\n      <td>NaN</td>\n      <td>0.111111</td>\n      <td>NaN</td>\n      <td>0.111111</td>\n      <td>NaN</td>\n      <td>NaN</td>\n      <td>NaN</td>\n      <td>NaN</td>\n      <td>NaN</td>\n    </tr>\n    <tr>\n      <th>...</th>\n      <td>...</td>\n      <td>...</td>\n      <td>...</td>\n      <td>...</td>\n      <td>...</td>\n      <td>...</td>\n      <td>...</td>\n      <td>...</td>\n      <td>...</td>\n      <td>...</td>\n      <td>...</td>\n      <td>...</td>\n      <td>...</td>\n      <td>...</td>\n      <td>...</td>\n      <td>...</td>\n      <td>...</td>\n      <td>...</td>\n      <td>...</td>\n      <td>...</td>\n    </tr>\n    <tr>\n      <th>388</th>\n      <td>0.100000</td>\n      <td>NaN</td>\n      <td>NaN</td>\n      <td>0.100000</td>\n      <td>NaN</td>\n      <td>NaN</td>\n      <td>NaN</td>\n      <td>NaN</td>\n      <td>NaN</td>\n      <td>NaN</td>\n      <td>NaN</td>\n      <td>NaN</td>\n      <td>NaN</td>\n      <td>NaN</td>\n      <td>0.200000</td>\n      <td>NaN</td>\n      <td>NaN</td>\n      <td>0.100000</td>\n      <td>0.1</td>\n      <td>NaN</td>\n    </tr>\n    <tr>\n      <th>389</th>\n      <td>0.100000</td>\n      <td>NaN</td>\n      <td>NaN</td>\n      <td>NaN</td>\n      <td>NaN</td>\n      <td>NaN</td>\n      <td>0.100000</td>\n      <td>NaN</td>\n      <td>NaN</td>\n      <td>0.100000</td>\n      <td>NaN</td>\n      <td>NaN</td>\n      <td>NaN</td>\n      <td>NaN</td>\n      <td>0.100000</td>\n      <td>0.1</td>\n      <td>0.100</td>\n      <td>NaN</td>\n      <td>NaN</td>\n      <td>NaN</td>\n    </tr>\n    <tr>\n      <th>390</th>\n      <td>0.100000</td>\n      <td>NaN</td>\n      <td>NaN</td>\n      <td>0.200000</td>\n      <td>NaN</td>\n      <td>0.100000</td>\n      <td>0.100000</td>\n      <td>NaN</td>\n      <td>NaN</td>\n      <td>NaN</td>\n      <td>NaN</td>\n      <td>0.1</td>\n      <td>NaN</td>\n      <td>NaN</td>\n      <td>NaN</td>\n      <td>NaN</td>\n      <td>NaN</td>\n      <td>0.100000</td>\n      <td>NaN</td>\n      <td>0.1</td>\n    </tr>\n    <tr>\n      <th>391</th>\n      <td>0.125000</td>\n      <td>NaN</td>\n      <td>NaN</td>\n      <td>NaN</td>\n      <td>NaN</td>\n      <td>NaN</td>\n      <td>NaN</td>\n      <td>NaN</td>\n      <td>NaN</td>\n      <td>0.125000</td>\n      <td>NaN</td>\n      <td>NaN</td>\n      <td>0.125000</td>\n      <td>NaN</td>\n      <td>NaN</td>\n      <td>NaN</td>\n      <td>0.125</td>\n      <td>NaN</td>\n      <td>NaN</td>\n      <td>NaN</td>\n    </tr>\n    <tr>\n      <th>392</th>\n      <td>0.100000</td>\n      <td>NaN</td>\n      <td>NaN</td>\n      <td>0.200000</td>\n      <td>NaN</td>\n      <td>0.100000</td>\n      <td>0.100000</td>\n      <td>NaN</td>\n      <td>NaN</td>\n      <td>NaN</td>\n      <td>NaN</td>\n      <td>0.1</td>\n      <td>NaN</td>\n      <td>NaN</td>\n      <td>NaN</td>\n      <td>NaN</td>\n      <td>NaN</td>\n      <td>0.100000</td>\n      <td>NaN</td>\n      <td>0.1</td>\n    </tr>\n  </tbody>\n</table>\n<p>393 rows × 20 columns</p>\n</div>"
     },
     "execution_count": 13,
     "metadata": {},
     "output_type": "execute_result"
    }
   ],
   "source": [
    "for position in prob_dict.keys():\n",
    "    res.loc[position] = res.loc[position].add(prob_dict[position])\n",
    "\n",
    "res"
   ],
   "metadata": {
    "collapsed": false,
    "ExecuteTime": {
     "end_time": "2023-07-05T11:59:45.931648600Z",
     "start_time": "2023-07-05T11:59:43.375289400Z"
    }
   }
  },
  {
   "cell_type": "code",
   "execution_count": 25,
   "outputs": [],
   "source": [
    "prob_mut = ses.prob_smut(var_mat_clean, dms_scores, True)"
   ],
   "metadata": {
    "collapsed": false,
    "ExecuteTime": {
     "end_time": "2023-07-05T12:40:16.564716900Z",
     "start_time": "2023-07-05T12:40:14.820447900Z"
    }
   }
  },
  {
   "cell_type": "code",
   "execution_count": 30,
   "outputs": [],
   "source": [
    "severity_score = ses.dms_smut(ses.p53_codons_gia, gia_null_eto, True)"
   ],
   "metadata": {
    "collapsed": false,
    "ExecuteTime": {
     "end_time": "2023-07-05T12:43:17.497618900Z",
     "start_time": "2023-07-05T12:43:15.722857400Z"
    }
   }
  },
  {
   "cell_type": "code",
   "execution_count": 31,
   "outputs": [
    {
     "data": {
      "text/plain": "position_mut\n0      1.0\n1      1.0\n2      1.0\n3      1.0\n4      1.0\n      ... \n388    1.0\n389    1.0\n390    1.0\n391    1.0\n392    1.0\nLength: 393, dtype: float64"
     },
     "execution_count": 31,
     "metadata": {},
     "output_type": "execute_result"
    }
   ],
   "source": [
    "prob_mut.sum(axis=1)"
   ],
   "metadata": {
    "collapsed": false,
    "ExecuteTime": {
     "end_time": "2023-07-05T12:43:20.467554Z",
     "start_time": "2023-07-05T12:43:19.526661100Z"
    }
   }
  },
  {
   "cell_type": "code",
   "execution_count": 33,
   "outputs": [
    {
     "data": {
      "text/plain": "position_mut\n0     -3.689541\n1     -0.326504\n2     -0.606649\n3      0.478091\n4      1.038562\n         ...   \n388    3.568289\n389    3.012273\n390    4.172056\n391    3.448376\n392    3.768122\nLength: 393, dtype: float64"
     },
     "execution_count": 33,
     "metadata": {},
     "output_type": "execute_result"
    }
   ],
   "source": [
    "severity_score.sum(axis=1)"
   ],
   "metadata": {
    "collapsed": false,
    "ExecuteTime": {
     "end_time": "2023-07-05T12:43:51.399450700Z",
     "start_time": "2023-07-05T12:43:50.313847700Z"
    }
   }
  },
  {
   "cell_type": "code",
   "execution_count": 36,
   "outputs": [
    {
     "data": {
      "text/plain": "aa_new               A              C                   D                   E   \n                  smut       dms smut       dms      smut       dms      smut   \nposition_mut                                                                    \n0                  NaN -0.168502  NaN -0.866931       NaN  0.598737       NaN  \\\n1            -0.048317  0.010515  NaN  0.004980  0.253714  0.461640 -0.148404   \n2             0.073503  0.096724  NaN  0.190582  0.291678  0.478411 -0.148404   \n3            -0.491351 -0.336677  NaN  0.124400       NaN  0.558168       NaN   \n4                  NaN  0.023911  NaN  0.151089       NaN  0.621464 -0.039062   \n...                ...       ...  ...       ...       ...       ...       ...   \n388           0.804074  0.681923  NaN  0.676325       NaN  0.761085  0.153351   \n389           0.974709  0.816095  NaN  0.513891       NaN  0.804582       NaN   \n390           0.730702  0.624231  NaN  0.588468  0.008334       NaN  1.000000   \n391           0.588050  0.409650  NaN  0.736250       NaN  0.966401       NaN   \n392           0.783955  0.666104  NaN  0.246667  0.008334       NaN  0.614638   \n\naa_new                    F            ...         S                   T   \n                   dms smut       dms  ...      smut       dms      smut   \nposition_mut                           ...                                 \n0             0.478836  NaN  0.415549  ...       NaN -1.000000 -0.264446  \\\n1                  NaN  NaN  0.302028  ...       NaN  0.165773       NaN   \n2                  NaN  NaN  0.099391  ...       NaN  0.254825       NaN   \n3             0.289187  NaN  0.238268  ...  0.147925  0.358706  0.103285   \n4             0.050641  NaN  0.256079  ...       NaN  0.471829       NaN   \n...                ...  ...       ...  ...       ...       ...       ...   \n388           0.198170  NaN  0.479534  ...       NaN  0.562197       NaN   \n389           0.388492  NaN  0.830233  ...  0.232745  0.447437  0.419550   \n390           0.411281  NaN  0.962123  ...       NaN  0.895229       NaN   \n391           0.624584  NaN  0.741360  ...  0.966961       NaN  0.555790   \n392           0.269181  NaN  0.884705  ...       NaN  1.000000       NaN   \n\naa_new                         V                   W                   Y   \n                   dms      smut       dms      smut       dms      smut   \nposition_mut                                                               \n0             0.143952 -0.321696 -0.236035       NaN -0.786962       NaN  \\\n1             0.355083  0.309448  0.291224       NaN  0.045728       NaN   \n2             0.479998 -0.091862 -0.029022       NaN  0.241108       NaN   \n3             0.470961       NaN  0.248474       NaN  0.316508       NaN   \n4             0.559920       NaN  0.241726       NaN  0.204634       NaN   \n...                ...       ...       ...       ...       ...       ...   \n388           0.914707  0.468643  0.464735  0.813973  0.555301       NaN   \n389           0.752204       NaN  1.000000       NaN  0.689286       NaN   \n390           0.781827  0.889385  0.837795       NaN  0.913509  0.740287   \n391           0.698685       NaN  0.850098       NaN  0.878250       NaN   \n392           0.935419  0.836166  0.790607       NaN  0.911673  0.683336   \n\naa_new                  \n                   dms  \nposition_mut            \n0            -0.350732  \n1             0.223568  \n2             0.346992  \n3             0.472928  \n4             0.432133  \n...                ...  \n388           0.694380  \n389           0.416601  \n390           0.583616  \n391           0.494480  \n392           0.549047  \n\n[393 rows x 40 columns]",
      "text/html": "<div>\n<style scoped>\n    .dataframe tbody tr th:only-of-type {\n        vertical-align: middle;\n    }\n\n    .dataframe tbody tr th {\n        vertical-align: top;\n    }\n\n    .dataframe thead tr th {\n        text-align: left;\n    }\n\n    .dataframe thead tr:last-of-type th {\n        text-align: right;\n    }\n</style>\n<table border=\"1\" class=\"dataframe\">\n  <thead>\n    <tr>\n      <th>aa_new</th>\n      <th colspan=\"2\" halign=\"left\">A</th>\n      <th colspan=\"2\" halign=\"left\">C</th>\n      <th colspan=\"2\" halign=\"left\">D</th>\n      <th colspan=\"2\" halign=\"left\">E</th>\n      <th colspan=\"2\" halign=\"left\">F</th>\n      <th>...</th>\n      <th colspan=\"2\" halign=\"left\">S</th>\n      <th colspan=\"2\" halign=\"left\">T</th>\n      <th colspan=\"2\" halign=\"left\">V</th>\n      <th colspan=\"2\" halign=\"left\">W</th>\n      <th colspan=\"2\" halign=\"left\">Y</th>\n    </tr>\n    <tr>\n      <th></th>\n      <th>smut</th>\n      <th>dms</th>\n      <th>smut</th>\n      <th>dms</th>\n      <th>smut</th>\n      <th>dms</th>\n      <th>smut</th>\n      <th>dms</th>\n      <th>smut</th>\n      <th>dms</th>\n      <th>...</th>\n      <th>smut</th>\n      <th>dms</th>\n      <th>smut</th>\n      <th>dms</th>\n      <th>smut</th>\n      <th>dms</th>\n      <th>smut</th>\n      <th>dms</th>\n      <th>smut</th>\n      <th>dms</th>\n    </tr>\n    <tr>\n      <th>position_mut</th>\n      <th></th>\n      <th></th>\n      <th></th>\n      <th></th>\n      <th></th>\n      <th></th>\n      <th></th>\n      <th></th>\n      <th></th>\n      <th></th>\n      <th></th>\n      <th></th>\n      <th></th>\n      <th></th>\n      <th></th>\n      <th></th>\n      <th></th>\n      <th></th>\n      <th></th>\n      <th></th>\n      <th></th>\n    </tr>\n  </thead>\n  <tbody>\n    <tr>\n      <th>0</th>\n      <td>NaN</td>\n      <td>-0.168502</td>\n      <td>NaN</td>\n      <td>-0.866931</td>\n      <td>NaN</td>\n      <td>0.598737</td>\n      <td>NaN</td>\n      <td>0.478836</td>\n      <td>NaN</td>\n      <td>0.415549</td>\n      <td>...</td>\n      <td>NaN</td>\n      <td>-1.000000</td>\n      <td>-0.264446</td>\n      <td>0.143952</td>\n      <td>-0.321696</td>\n      <td>-0.236035</td>\n      <td>NaN</td>\n      <td>-0.786962</td>\n      <td>NaN</td>\n      <td>-0.350732</td>\n    </tr>\n    <tr>\n      <th>1</th>\n      <td>-0.048317</td>\n      <td>0.010515</td>\n      <td>NaN</td>\n      <td>0.004980</td>\n      <td>0.253714</td>\n      <td>0.461640</td>\n      <td>-0.148404</td>\n      <td>NaN</td>\n      <td>NaN</td>\n      <td>0.302028</td>\n      <td>...</td>\n      <td>NaN</td>\n      <td>0.165773</td>\n      <td>NaN</td>\n      <td>0.355083</td>\n      <td>0.309448</td>\n      <td>0.291224</td>\n      <td>NaN</td>\n      <td>0.045728</td>\n      <td>NaN</td>\n      <td>0.223568</td>\n    </tr>\n    <tr>\n      <th>2</th>\n      <td>0.073503</td>\n      <td>0.096724</td>\n      <td>NaN</td>\n      <td>0.190582</td>\n      <td>0.291678</td>\n      <td>0.478411</td>\n      <td>-0.148404</td>\n      <td>NaN</td>\n      <td>NaN</td>\n      <td>0.099391</td>\n      <td>...</td>\n      <td>NaN</td>\n      <td>0.254825</td>\n      <td>NaN</td>\n      <td>0.479998</td>\n      <td>-0.091862</td>\n      <td>-0.029022</td>\n      <td>NaN</td>\n      <td>0.241108</td>\n      <td>NaN</td>\n      <td>0.346992</td>\n    </tr>\n    <tr>\n      <th>3</th>\n      <td>-0.491351</td>\n      <td>-0.336677</td>\n      <td>NaN</td>\n      <td>0.124400</td>\n      <td>NaN</td>\n      <td>0.558168</td>\n      <td>NaN</td>\n      <td>0.289187</td>\n      <td>NaN</td>\n      <td>0.238268</td>\n      <td>...</td>\n      <td>0.147925</td>\n      <td>0.358706</td>\n      <td>0.103285</td>\n      <td>0.470961</td>\n      <td>NaN</td>\n      <td>0.248474</td>\n      <td>NaN</td>\n      <td>0.316508</td>\n      <td>NaN</td>\n      <td>0.472928</td>\n    </tr>\n    <tr>\n      <th>4</th>\n      <td>NaN</td>\n      <td>0.023911</td>\n      <td>NaN</td>\n      <td>0.151089</td>\n      <td>NaN</td>\n      <td>0.621464</td>\n      <td>-0.039062</td>\n      <td>0.050641</td>\n      <td>NaN</td>\n      <td>0.256079</td>\n      <td>...</td>\n      <td>NaN</td>\n      <td>0.471829</td>\n      <td>NaN</td>\n      <td>0.559920</td>\n      <td>NaN</td>\n      <td>0.241726</td>\n      <td>NaN</td>\n      <td>0.204634</td>\n      <td>NaN</td>\n      <td>0.432133</td>\n    </tr>\n    <tr>\n      <th>...</th>\n      <td>...</td>\n      <td>...</td>\n      <td>...</td>\n      <td>...</td>\n      <td>...</td>\n      <td>...</td>\n      <td>...</td>\n      <td>...</td>\n      <td>...</td>\n      <td>...</td>\n      <td>...</td>\n      <td>...</td>\n      <td>...</td>\n      <td>...</td>\n      <td>...</td>\n      <td>...</td>\n      <td>...</td>\n      <td>...</td>\n      <td>...</td>\n      <td>...</td>\n      <td>...</td>\n    </tr>\n    <tr>\n      <th>388</th>\n      <td>0.804074</td>\n      <td>0.681923</td>\n      <td>NaN</td>\n      <td>0.676325</td>\n      <td>NaN</td>\n      <td>0.761085</td>\n      <td>0.153351</td>\n      <td>0.198170</td>\n      <td>NaN</td>\n      <td>0.479534</td>\n      <td>...</td>\n      <td>NaN</td>\n      <td>0.562197</td>\n      <td>NaN</td>\n      <td>0.914707</td>\n      <td>0.468643</td>\n      <td>0.464735</td>\n      <td>0.813973</td>\n      <td>0.555301</td>\n      <td>NaN</td>\n      <td>0.694380</td>\n    </tr>\n    <tr>\n      <th>389</th>\n      <td>0.974709</td>\n      <td>0.816095</td>\n      <td>NaN</td>\n      <td>0.513891</td>\n      <td>NaN</td>\n      <td>0.804582</td>\n      <td>NaN</td>\n      <td>0.388492</td>\n      <td>NaN</td>\n      <td>0.830233</td>\n      <td>...</td>\n      <td>0.232745</td>\n      <td>0.447437</td>\n      <td>0.419550</td>\n      <td>0.752204</td>\n      <td>NaN</td>\n      <td>1.000000</td>\n      <td>NaN</td>\n      <td>0.689286</td>\n      <td>NaN</td>\n      <td>0.416601</td>\n    </tr>\n    <tr>\n      <th>390</th>\n      <td>0.730702</td>\n      <td>0.624231</td>\n      <td>NaN</td>\n      <td>0.588468</td>\n      <td>0.008334</td>\n      <td>NaN</td>\n      <td>1.000000</td>\n      <td>0.411281</td>\n      <td>NaN</td>\n      <td>0.962123</td>\n      <td>...</td>\n      <td>NaN</td>\n      <td>0.895229</td>\n      <td>NaN</td>\n      <td>0.781827</td>\n      <td>0.889385</td>\n      <td>0.837795</td>\n      <td>NaN</td>\n      <td>0.913509</td>\n      <td>0.740287</td>\n      <td>0.583616</td>\n    </tr>\n    <tr>\n      <th>391</th>\n      <td>0.588050</td>\n      <td>0.409650</td>\n      <td>NaN</td>\n      <td>0.736250</td>\n      <td>NaN</td>\n      <td>0.966401</td>\n      <td>NaN</td>\n      <td>0.624584</td>\n      <td>NaN</td>\n      <td>0.741360</td>\n      <td>...</td>\n      <td>0.966961</td>\n      <td>NaN</td>\n      <td>0.555790</td>\n      <td>0.698685</td>\n      <td>NaN</td>\n      <td>0.850098</td>\n      <td>NaN</td>\n      <td>0.878250</td>\n      <td>NaN</td>\n      <td>0.494480</td>\n    </tr>\n    <tr>\n      <th>392</th>\n      <td>0.783955</td>\n      <td>0.666104</td>\n      <td>NaN</td>\n      <td>0.246667</td>\n      <td>0.008334</td>\n      <td>NaN</td>\n      <td>0.614638</td>\n      <td>0.269181</td>\n      <td>NaN</td>\n      <td>0.884705</td>\n      <td>...</td>\n      <td>NaN</td>\n      <td>1.000000</td>\n      <td>NaN</td>\n      <td>0.935419</td>\n      <td>0.836166</td>\n      <td>0.790607</td>\n      <td>NaN</td>\n      <td>0.911673</td>\n      <td>0.683336</td>\n      <td>0.549047</td>\n    </tr>\n  </tbody>\n</table>\n<p>393 rows × 40 columns</p>\n</div>"
     },
     "execution_count": 36,
     "metadata": {},
     "output_type": "execute_result"
    }
   ],
   "source": [
    "severity_score.compare(dms_scores, keep_equal=True, keep_shape=True, result_names=('smut', 'dms'))"
   ],
   "metadata": {
    "collapsed": false,
    "ExecuteTime": {
     "end_time": "2023-07-05T13:28:25.892687100Z",
     "start_time": "2023-07-05T13:28:24.616825Z"
    }
   }
  },
  {
   "cell_type": "code",
   "execution_count": 16,
   "outputs": [],
   "source": [
    "#Updating pre-existing functions to eliminate Bio package"
   ],
   "metadata": {
    "collapsed": false,
    "ExecuteTime": {
     "end_time": "2023-07-05T11:59:55.338177400Z",
     "start_time": "2023-07-05T11:59:54.186268200Z"
    }
   }
  },
  {
   "cell_type": "code",
   "execution_count": 17,
   "outputs": [],
   "source": [
    "def translate_codon_to_aa(codon):\n",
    "    codon_table = {\n",
    "        'UUU': 'F', 'UUC': 'F', 'UUA': 'L', 'UUG': 'L',\n",
    "        'CUU': 'L', 'CUC': 'L', 'CUA': 'L', 'CUG': 'L',\n",
    "        'AUU': 'I', 'AUC': 'I', 'AUA': 'I', 'AUG': 'M',\n",
    "        'GUU': 'V', 'GUC': 'V', 'GUA': 'V', 'GUG': 'V',\n",
    "        'UCU': 'S', 'UCC': 'S', 'UCA': 'S', 'UCG': 'S',\n",
    "        'CCU': 'P', 'CCC': 'P', 'CCA': 'P', 'CCG': 'P',\n",
    "        'ACU': 'T', 'ACC': 'T', 'ACA': 'T', 'ACG': 'T',\n",
    "        'GCU': 'A', 'GCC': 'A', 'GCA': 'A', 'GCG': 'A',\n",
    "        'UAU': 'Y', 'UAC': 'Y', 'UAA': '*', 'UAG': '*',\n",
    "        'CAU': 'H', 'CAC': 'H', 'CAA': 'Q', 'CAG': 'Q',\n",
    "        'AAU': 'N', 'AAC': 'N', 'AAA': 'K', 'AAG': 'K',\n",
    "        'GAU': 'D', 'GAC': 'D', 'GAA': 'E', 'GAG': 'E',\n",
    "        'UGU': 'C', 'UGC': 'C', 'UGA': '*', 'UGG': 'W',\n",
    "        'CGU': 'R', 'CGC': 'R', 'CGA': 'R', 'CGG': 'R',\n",
    "        'AGU': 'S', 'AGC': 'S', 'AGA': 'R', 'AGG': 'R',\n",
    "        'GGU': 'G', 'GGC': 'G', 'GGA': 'G', 'GGG': 'G'\n",
    "    }\n",
    "\n",
    "    if codon in codon_table:\n",
    "        return codon_table[codon]\n",
    "    else:\n",
    "        return 'Unknown'"
   ],
   "metadata": {
    "collapsed": false,
    "ExecuteTime": {
     "end_time": "2023-07-05T11:59:56.530270800Z",
     "start_time": "2023-07-05T11:59:55.230267Z"
    }
   }
  },
  {
   "cell_type": "code",
   "execution_count": 18,
   "outputs": [],
   "source": [
    "def translate_codons_df(df: pd.DataFrame) -> pd.DataFrame:\n",
    "    translated_df = pd.DataFrame()\n",
    "\n",
    "    for column in df.columns:\n",
    "        codons = df[column]\n",
    "        amino_acids = [translate_codon_to_aa(codon) for codon in codons]\n",
    "        #amino_acids = [seq.translate() for seq in seqs]\n",
    "        translated_df[column] = amino_acids\n",
    "\n",
    "    return translated_df"
   ],
   "metadata": {
    "collapsed": false,
    "ExecuteTime": {
     "end_time": "2023-07-05T11:59:57.588989900Z",
     "start_time": "2023-07-05T11:59:56.492660500Z"
    }
   }
  },
  {
   "cell_type": "code",
   "execution_count": 19,
   "outputs": [
    {
     "data": {
      "text/plain": "    Original Variation 1 Variation 2 Variation 3 Variation 4 Variation 5   \n0          M           L           V           L           K           R  \\\n1          E           K           *           Q           V           G   \n2          E           K           *           Q           V           G   \n3          P           T           S           A           Q           L   \n4          Q           K           *           E           L           R   \n..       ...         ...         ...         ...         ...         ...   \n388        G           R           W           R           E           V   \n389        P           T           S           A           H           L   \n390        D           N           Y           H           V           G   \n391        S           T           A           P           *           L   \n392        D           N           Y           H           V           G   \n\n    Variation 6 Variation 7 Variation 8 Variation 9  \n0             T           I           I           I  \n1             A           E           D           D  \n2             A           E           D           D  \n3             R           P           P           P  \n4             P           Q           H           H  \n..          ...         ...         ...         ...  \n388           A           G           G           G  \n389           R           P           P           P  \n390           A           E           D           E  \n391           *           S           S           S  \n392           A           E           D           E  \n\n[393 rows x 10 columns]",
      "text/html": "<div>\n<style scoped>\n    .dataframe tbody tr th:only-of-type {\n        vertical-align: middle;\n    }\n\n    .dataframe tbody tr th {\n        vertical-align: top;\n    }\n\n    .dataframe thead th {\n        text-align: right;\n    }\n</style>\n<table border=\"1\" class=\"dataframe\">\n  <thead>\n    <tr style=\"text-align: right;\">\n      <th></th>\n      <th>Original</th>\n      <th>Variation 1</th>\n      <th>Variation 2</th>\n      <th>Variation 3</th>\n      <th>Variation 4</th>\n      <th>Variation 5</th>\n      <th>Variation 6</th>\n      <th>Variation 7</th>\n      <th>Variation 8</th>\n      <th>Variation 9</th>\n    </tr>\n  </thead>\n  <tbody>\n    <tr>\n      <th>0</th>\n      <td>M</td>\n      <td>L</td>\n      <td>V</td>\n      <td>L</td>\n      <td>K</td>\n      <td>R</td>\n      <td>T</td>\n      <td>I</td>\n      <td>I</td>\n      <td>I</td>\n    </tr>\n    <tr>\n      <th>1</th>\n      <td>E</td>\n      <td>K</td>\n      <td>*</td>\n      <td>Q</td>\n      <td>V</td>\n      <td>G</td>\n      <td>A</td>\n      <td>E</td>\n      <td>D</td>\n      <td>D</td>\n    </tr>\n    <tr>\n      <th>2</th>\n      <td>E</td>\n      <td>K</td>\n      <td>*</td>\n      <td>Q</td>\n      <td>V</td>\n      <td>G</td>\n      <td>A</td>\n      <td>E</td>\n      <td>D</td>\n      <td>D</td>\n    </tr>\n    <tr>\n      <th>3</th>\n      <td>P</td>\n      <td>T</td>\n      <td>S</td>\n      <td>A</td>\n      <td>Q</td>\n      <td>L</td>\n      <td>R</td>\n      <td>P</td>\n      <td>P</td>\n      <td>P</td>\n    </tr>\n    <tr>\n      <th>4</th>\n      <td>Q</td>\n      <td>K</td>\n      <td>*</td>\n      <td>E</td>\n      <td>L</td>\n      <td>R</td>\n      <td>P</td>\n      <td>Q</td>\n      <td>H</td>\n      <td>H</td>\n    </tr>\n    <tr>\n      <th>...</th>\n      <td>...</td>\n      <td>...</td>\n      <td>...</td>\n      <td>...</td>\n      <td>...</td>\n      <td>...</td>\n      <td>...</td>\n      <td>...</td>\n      <td>...</td>\n      <td>...</td>\n    </tr>\n    <tr>\n      <th>388</th>\n      <td>G</td>\n      <td>R</td>\n      <td>W</td>\n      <td>R</td>\n      <td>E</td>\n      <td>V</td>\n      <td>A</td>\n      <td>G</td>\n      <td>G</td>\n      <td>G</td>\n    </tr>\n    <tr>\n      <th>389</th>\n      <td>P</td>\n      <td>T</td>\n      <td>S</td>\n      <td>A</td>\n      <td>H</td>\n      <td>L</td>\n      <td>R</td>\n      <td>P</td>\n      <td>P</td>\n      <td>P</td>\n    </tr>\n    <tr>\n      <th>390</th>\n      <td>D</td>\n      <td>N</td>\n      <td>Y</td>\n      <td>H</td>\n      <td>V</td>\n      <td>G</td>\n      <td>A</td>\n      <td>E</td>\n      <td>D</td>\n      <td>E</td>\n    </tr>\n    <tr>\n      <th>391</th>\n      <td>S</td>\n      <td>T</td>\n      <td>A</td>\n      <td>P</td>\n      <td>*</td>\n      <td>L</td>\n      <td>*</td>\n      <td>S</td>\n      <td>S</td>\n      <td>S</td>\n    </tr>\n    <tr>\n      <th>392</th>\n      <td>D</td>\n      <td>N</td>\n      <td>Y</td>\n      <td>H</td>\n      <td>V</td>\n      <td>G</td>\n      <td>A</td>\n      <td>E</td>\n      <td>D</td>\n      <td>E</td>\n    </tr>\n  </tbody>\n</table>\n<p>393 rows × 10 columns</p>\n</div>"
     },
     "execution_count": 19,
     "metadata": {},
     "output_type": "execute_result"
    }
   ],
   "source": [
    "#Test to see if it worked\n",
    "translate_codons_df(mutated_p53)"
   ],
   "metadata": {
    "collapsed": false,
    "ExecuteTime": {
     "end_time": "2023-07-05T11:59:58.785601100Z",
     "start_time": "2023-07-05T11:59:57.589992300Z"
    }
   }
  },
  {
   "cell_type": "code",
   "execution_count": 20,
   "outputs": [
    {
     "name": "stdout",
     "output_type": "stream",
     "text": [
      "MEEPQSDPSVEPPLSQETFSDLWKLLPENNVLSPLPSQAMDDLMLSPDDIEQWFTEDPGPDEAPRMPEAAPPVAPAPAAPTPAAPAPAPSWPLSSSVPSQKTYQGSYGFRLGFLHSGTAKSVTCTYSPALNKMFCQLAKTCPVQLWVDSTPPPGTRVRAMAIYKQSQHMTEVVRRCPHHERCSDSDGLAPPQHLIRVEGNLRVEYLDDRNTFRHSVVVPYEPPEVGSDCTTIHYNYMCNSSCMGGMNRRPILTIITLEDSSGNLLGRNSFEVRVCACPGRDRRTEEENLRKKGEPHHELPPGSTKRALPNNTSSSPQPKKKPLDGEYFTLQIRGRERFEMFRELNEALELKDAQAGKEPGGSRAHSSHLKSKKGQSTSRHKKLMFKTEGPDSD\n"
     ]
    }
   ],
   "source": [
    "#Test for the aminoacid sequence obtained from the DNA sequence online\n",
    "amino_acids_string = ses.translate_codons_to_string(p53_codons)\n",
    "\n",
    "print(amino_acids_string)\n",
    "\n",
    "# BLASTing shows: DNA sequence encodes the AA sequence which is the one the Kotler dataset uses as a reference!"
   ],
   "metadata": {
    "collapsed": false,
    "ExecuteTime": {
     "end_time": "2023-07-05T11:59:59.967460500Z",
     "start_time": "2023-07-05T11:59:58.795658800Z"
    }
   }
  },
  {
   "cell_type": "code",
   "execution_count": 20,
   "outputs": [],
   "source": [],
   "metadata": {
    "collapsed": false,
    "ExecuteTime": {
     "end_time": "2023-07-05T12:00:00.037852900Z",
     "start_time": "2023-07-05T11:59:59.971413500Z"
    }
   }
  }
 ],
 "metadata": {
  "kernelspec": {
   "display_name": "Python 3",
   "language": "python",
   "name": "python3"
  },
  "language_info": {
   "codemirror_mode": {
    "name": "ipython",
    "version": 2
   },
   "file_extension": ".py",
   "mimetype": "text/x-python",
   "name": "python",
   "nbconvert_exporter": "python",
   "pygments_lexer": "ipython2",
   "version": "2.7.6"
  }
 },
 "nbformat": 4,
 "nbformat_minor": 0
}
