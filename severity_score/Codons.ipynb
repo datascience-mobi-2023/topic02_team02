{
 "cells": [
  {
   "cell_type": "code",
   "execution_count": 1,
   "outputs": [],
   "source": [
    "%load_ext autoreload\n",
    "%autoreload 2\n",
    "import pandas as pd\n",
    "import numpy as np\n",
    "import data_cleanup as dc\n",
    "import data_exploration as de\n",
    "from Bio.Seq import Seq\n",
    "import severity_score as ses\n",
    "\n",
    "\n",
    "\n",
    "#codons = ['AAA', 'AAC', 'AAG', 'AAU', 'ACA', 'ACC', 'ACG', 'ACU', 'AGA', 'AGC', 'AGG', 'AGU', 'AUA', 'AUC', 'AUG', 'AUU', 'CAA', 'CAC', 'CAG', 'CAU', 'CCA', 'CCC', 'CCG', 'CCU', 'CGA', 'CGC', 'CGG', 'CGU', 'CUA', 'CUC', 'CUG', 'CUU', 'GAA', 'GAC', 'GAG', 'GAU', 'GCA', 'GCC', 'GCG', 'GCU', 'GGA', 'GGC', 'GGG', 'GGU', 'GUA', 'GUC', 'GUG', 'GUU', 'UAA', 'UAC', 'UAG', 'UAU', 'UCA', 'UCC', 'UCG', 'UCU', 'UGA', 'UGC', 'UGG', 'UGU', 'UUA', 'UUC', 'UUG', 'UUU']\n",
    "\n",
    "# Create an empty dataframe with the custom row and column names\n",
    "#codons_codons = pd.DataFrame(index=codons, columns=codons)\n",
    "\n",
    "# Fill the dataframe\n",
    "#for row_codon in codons:\n",
    "    #for col_codon in codons:\n",
    "        #differing_bases = sum(row_base != col_base for row_base, col_base in zip(row_codon, col_codon))\n",
    "        #codons_codons.loc[row_codon, col_codon] = differing_bases\n",
    "\n",
    "#codons_codons\n",
    "#not used until now (20.6.)"
   ],
   "metadata": {
    "collapsed": false,
    "ExecuteTime": {
     "end_time": "2023-07-01T13:27:38.181678600Z",
     "start_time": "2023-07-01T13:27:37.410836700Z"
    }
   }
  },
  {
   "cell_type": "code",
   "execution_count": 8,
   "outputs": [],
   "source": [
    "#aacids = ['K', 'N', 'K', 'N', 'T', 'T', 'T', 'T', 'R', 'S', 'R', 'S', 'I', 'I', 'M', 'I', 'Q', 'H', 'Q', 'H', 'P', 'P', 'P', 'P', 'R', 'R', 'R', 'R', 'L', 'L', 'L', 'L', 'E', 'D', 'E', 'D', 'A', 'A', 'A', 'A', 'G', 'G', 'G', 'G', 'V', 'V', 'V', 'V', 'STOP', 'Y', 'STOP', 'Y', 'S', 'S', 'S', 'S', 'STOP','L', 'F', 'L', 'C', 'W', 'C', 'L']\n",
    "\n",
    "#codons_aacids = pd.DataFrame({'codons': codons, 'aacids': aacids })\n",
    "\n",
    "#codons_aacids\n",
    "#not used until now (20.6.)"
   ],
   "metadata": {
    "collapsed": false,
    "ExecuteTime": {
     "end_time": "2023-06-30T13:51:11.680662500Z",
     "start_time": "2023-06-30T13:51:11.549989600Z"
    }
   }
  },
  {
   "cell_type": "code",
   "execution_count": 9,
   "outputs": [],
   "source": [
    "dna_sequence = \"ATGGAGGAGCCGCAGTCAGATCCTAGCGTCGAGCCCCCTCTGAGTCAGGAAACATTTTCAGACCTATGGAAACTACTTCCTGAAAACAACGTTCTGTCCCCCTTGCCGTCCCAAGCAATGGATGATTTGATGCTGTCCCCGGACGATATTGAACAATGGTTCACTGAAGACCCAGGTCCAGATGAAGCTCCCAGAATGCCAGAGGCTGCTCCCCCCGTGGCCCCTGCACCAGCAGCTCCTACACCGGCGGCCCCTGCACCAGCCCCCTCCTGGCCCCTGTCATCTTCTGTCCCTTCCCAGAAAACCTACCAGGGCAGCTACGGTTTCCGTCTGGGCTTCTTGCATTCTGGGACAGCCAAGTCTGTGACTTGCACGTACTCCCCTGCCCTCAACAAGATGTTTTGCCAACTGGCCAAGACCTGCCCTGTGCAGCTGTGGGTTGATTCCACACCCCCGCCCGGCACCCGCGTCCGCGCCATGGCCATCTACAAGCAGTCACAGCACATGACGGAGGTTGTGAGGCGCTGCCCCCACCATGAGCGCTGCTCAGATAGCGATGGTCTGGCCCCTCCTCAGCATCTTATCCGAGTGGAAGGAAATTTGCGTGTGGAGTATTTGGATGACAGAAACACTTTTCGACATAGTGTGGTGGTGCCCTATGAGCCGCCTGAGGTTGGCTCTGACTGTACCACCATCCACTACAACTACATGTGTAACAGTTCCTGCATGGGCGGCATGAACCGGAGGCCCATCCTCACCATCATCACACTGGAAGACTCCAGTGGTAATCTACTGGGACGGAACAGCTTTGAGGTGCGTGTTTGTGCCTGTCCTGGGAGAGACCGGCGCACAGAGGAAGAGAATCTCCGCAAGAAAGGGGAGCCTCACCACGAGCTGCCCCCAGGGAGCACTAAGCGAGCACTGCCCAACAACACCAGCTCCTCTCCCCAGCCAAAGAAGAAACCACTGGATGGAGAATATTTCACCCTTCAGATCCGTGGGCGTGAGCGCTTCGAGATGTTCCGAGAGCTGAATGAGGCCTTGGAACTCAAGGATGCCCAGGCTGGGAAGGAGCCAGGGGGGAGCAGGGCTCACTCCAGCCACCTGAAGTCCAAAAAGGGTCAGTCTACCTCCCGCCATAAAAAACTCATGTTCAAGACAGAAGGGCCTGACTCAGAC\"\n",
    "rna_sequence = dna_sequence.replace(\"T\", \"U\")"
   ],
   "metadata": {
    "collapsed": false,
    "ExecuteTime": {
     "end_time": "2023-06-30T13:51:11.806624300Z",
     "start_time": "2023-06-30T13:51:11.680662500Z"
    }
   }
  },
  {
   "cell_type": "code",
   "execution_count": 10,
   "outputs": [
    {
     "data": {
      "text/plain": "['AUG',\n 'GAG',\n 'GAG',\n 'CCG',\n 'CAG',\n 'UCA',\n 'GAU',\n 'CCU',\n 'AGC',\n 'GUC',\n 'GAG',\n 'CCC',\n 'CCU',\n 'CUG',\n 'AGU',\n 'CAG',\n 'GAA',\n 'ACA',\n 'UUU',\n 'UCA',\n 'GAC',\n 'CUA',\n 'UGG',\n 'AAA',\n 'CUA',\n 'CUU',\n 'CCU',\n 'GAA',\n 'AAC',\n 'AAC',\n 'GUU',\n 'CUG',\n 'UCC',\n 'CCC',\n 'UUG',\n 'CCG',\n 'UCC',\n 'CAA',\n 'GCA',\n 'AUG',\n 'GAU',\n 'GAU',\n 'UUG',\n 'AUG',\n 'CUG',\n 'UCC',\n 'CCG',\n 'GAC',\n 'GAU',\n 'AUU',\n 'GAA',\n 'CAA',\n 'UGG',\n 'UUC',\n 'ACU',\n 'GAA',\n 'GAC',\n 'CCA',\n 'GGU',\n 'CCA',\n 'GAU',\n 'GAA',\n 'GCU',\n 'CCC',\n 'AGA',\n 'AUG',\n 'CCA',\n 'GAG',\n 'GCU',\n 'GCU',\n 'CCC',\n 'CCC',\n 'GUG',\n 'GCC',\n 'CCU',\n 'GCA',\n 'CCA',\n 'GCA',\n 'GCU',\n 'CCU',\n 'ACA',\n 'CCG',\n 'GCG',\n 'GCC',\n 'CCU',\n 'GCA',\n 'CCA',\n 'GCC',\n 'CCC',\n 'UCC',\n 'UGG',\n 'CCC',\n 'CUG',\n 'UCA',\n 'UCU',\n 'UCU',\n 'GUC',\n 'CCU',\n 'UCC',\n 'CAG',\n 'AAA',\n 'ACC',\n 'UAC',\n 'CAG',\n 'GGC',\n 'AGC',\n 'UAC',\n 'GGU',\n 'UUC',\n 'CGU',\n 'CUG',\n 'GGC',\n 'UUC',\n 'UUG',\n 'CAU',\n 'UCU',\n 'GGG',\n 'ACA',\n 'GCC',\n 'AAG',\n 'UCU',\n 'GUG',\n 'ACU',\n 'UGC',\n 'ACG',\n 'UAC',\n 'UCC',\n 'CCU',\n 'GCC',\n 'CUC',\n 'AAC',\n 'AAG',\n 'AUG',\n 'UUU',\n 'UGC',\n 'CAA',\n 'CUG',\n 'GCC',\n 'AAG',\n 'ACC',\n 'UGC',\n 'CCU',\n 'GUG',\n 'CAG',\n 'CUG',\n 'UGG',\n 'GUU',\n 'GAU',\n 'UCC',\n 'ACA',\n 'CCC',\n 'CCG',\n 'CCC',\n 'GGC',\n 'ACC',\n 'CGC',\n 'GUC',\n 'CGC',\n 'GCC',\n 'AUG',\n 'GCC',\n 'AUC',\n 'UAC',\n 'AAG',\n 'CAG',\n 'UCA',\n 'CAG',\n 'CAC',\n 'AUG',\n 'ACG',\n 'GAG',\n 'GUU',\n 'GUG',\n 'AGG',\n 'CGC',\n 'UGC',\n 'CCC',\n 'CAC',\n 'CAU',\n 'GAG',\n 'CGC',\n 'UGC',\n 'UCA',\n 'GAU',\n 'AGC',\n 'GAU',\n 'GGU',\n 'CUG',\n 'GCC',\n 'CCU',\n 'CCU',\n 'CAG',\n 'CAU',\n 'CUU',\n 'AUC',\n 'CGA',\n 'GUG',\n 'GAA',\n 'GGA',\n 'AAU',\n 'UUG',\n 'CGU',\n 'GUG',\n 'GAG',\n 'UAU',\n 'UUG',\n 'GAU',\n 'GAC',\n 'AGA',\n 'AAC',\n 'ACU',\n 'UUU',\n 'CGA',\n 'CAU',\n 'AGU',\n 'GUG',\n 'GUG',\n 'GUG',\n 'CCC',\n 'UAU',\n 'GAG',\n 'CCG',\n 'CCU',\n 'GAG',\n 'GUU',\n 'GGC',\n 'UCU',\n 'GAC',\n 'UGU',\n 'ACC',\n 'ACC',\n 'AUC',\n 'CAC',\n 'UAC',\n 'AAC',\n 'UAC',\n 'AUG',\n 'UGU',\n 'AAC',\n 'AGU',\n 'UCC',\n 'UGC',\n 'AUG',\n 'GGC',\n 'GGC',\n 'AUG',\n 'AAC',\n 'CGG',\n 'AGG',\n 'CCC',\n 'AUC',\n 'CUC',\n 'ACC',\n 'AUC',\n 'AUC',\n 'ACA',\n 'CUG',\n 'GAA',\n 'GAC',\n 'UCC',\n 'AGU',\n 'GGU',\n 'AAU',\n 'CUA',\n 'CUG',\n 'GGA',\n 'CGG',\n 'AAC',\n 'AGC',\n 'UUU',\n 'GAG',\n 'GUG',\n 'CGU',\n 'GUU',\n 'UGU',\n 'GCC',\n 'UGU',\n 'CCU',\n 'GGG',\n 'AGA',\n 'GAC',\n 'CGG',\n 'CGC',\n 'ACA',\n 'GAG',\n 'GAA',\n 'GAG',\n 'AAU',\n 'CUC',\n 'CGC',\n 'AAG',\n 'AAA',\n 'GGG',\n 'GAG',\n 'CCU',\n 'CAC',\n 'CAC',\n 'GAG',\n 'CUG',\n 'CCC',\n 'CCA',\n 'GGG',\n 'AGC',\n 'ACU',\n 'AAG',\n 'CGA',\n 'GCA',\n 'CUG',\n 'CCC',\n 'AAC',\n 'AAC',\n 'ACC',\n 'AGC',\n 'UCC',\n 'UCU',\n 'CCC',\n 'CAG',\n 'CCA',\n 'AAG',\n 'AAG',\n 'AAA',\n 'CCA',\n 'CUG',\n 'GAU',\n 'GGA',\n 'GAA',\n 'UAU',\n 'UUC',\n 'ACC',\n 'CUU',\n 'CAG',\n 'AUC',\n 'CGU',\n 'GGG',\n 'CGU',\n 'GAG',\n 'CGC',\n 'UUC',\n 'GAG',\n 'AUG',\n 'UUC',\n 'CGA',\n 'GAG',\n 'CUG',\n 'AAU',\n 'GAG',\n 'GCC',\n 'UUG',\n 'GAA',\n 'CUC',\n 'AAG',\n 'GAU',\n 'GCC',\n 'CAG',\n 'GCU',\n 'GGG',\n 'AAG',\n 'GAG',\n 'CCA',\n 'GGG',\n 'GGG',\n 'AGC',\n 'AGG',\n 'GCU',\n 'CAC',\n 'UCC',\n 'AGC',\n 'CAC',\n 'CUG',\n 'AAG',\n 'UCC',\n 'AAA',\n 'AAG',\n 'GGU',\n 'CAG',\n 'UCU',\n 'ACC',\n 'UCC',\n 'CGC',\n 'CAU',\n 'AAA',\n 'AAA',\n 'CUC',\n 'AUG',\n 'UUC',\n 'AAG',\n 'ACA',\n 'GAA',\n 'GGG',\n 'CCU',\n 'GAC',\n 'UCA',\n 'GAC']"
     },
     "execution_count": 10,
     "metadata": {},
     "output_type": "execute_result"
    }
   ],
   "source": [
    "p53_codons = [rna_sequence[i:i+3] for i in range(0, len(rna_sequence), 3)]\n",
    "\n",
    "p53_codons"
   ],
   "metadata": {
    "collapsed": false,
    "ExecuteTime": {
     "end_time": "2023-06-30T13:51:11.997477900Z",
     "start_time": "2023-06-30T13:51:11.807627100Z"
    }
   }
  },
  {
   "cell_type": "code",
   "execution_count": 11,
   "outputs": [],
   "source": [
    "#Die RNA Sequenz wird in Codons geslicet und als Liste in p53_codons gespeichert."
   ],
   "metadata": {
    "collapsed": false,
    "ExecuteTime": {
     "end_time": "2023-06-30T13:51:12.156402700Z",
     "start_time": "2023-06-30T13:51:11.997477900Z"
    }
   }
  },
  {
   "cell_type": "code",
   "execution_count": 12,
   "outputs": [
    {
     "data": {
      "text/plain": "    Original Variation 1 Variation 2 Variation 3 Variation 4 Variation 5  \\\n0        AUG         UUG         GUG         CUG         AAG         AGG   \n1        GAG         AAG         UAG         CAG         GUG         GGG   \n2        GAG         AAG         UAG         CAG         GUG         GGG   \n3        CCG         ACG         UCG         GCG         CAG         CUG   \n4        CAG         AAG         UAG         GAG         CUG         CGG   \n..       ...         ...         ...         ...         ...         ...   \n388      GGG         AGG         UGG         CGG         GAG         GUG   \n389      CCU         ACU         UCU         GCU         CAU         CUU   \n390      GAC         AAC         UAC         CAC         GUC         GGC   \n391      UCA         ACA         GCA         CCA         UAA         UUA   \n392      GAC         AAC         UAC         CAC         GUC         GGC   \n\n    Variation 6 Variation 7 Variation 8 Variation 9  \n0           ACG         AUA         AUU         AUC  \n1           GCG         GAA         GAU         GAC  \n2           GCG         GAA         GAU         GAC  \n3           CGG         CCA         CCU         CCC  \n4           CCG         CAA         CAU         CAC  \n..          ...         ...         ...         ...  \n388         GCG         GGA         GGU         GGC  \n389         CGU         CCA         CCG         CCC  \n390         GCC         GAA         GAU         GAG  \n391         UGA         UCU         UCG         UCC  \n392         GCC         GAA         GAU         GAG  \n\n[393 rows x 10 columns]",
      "text/html": "<div>\n<style scoped>\n    .dataframe tbody tr th:only-of-type {\n        vertical-align: middle;\n    }\n\n    .dataframe tbody tr th {\n        vertical-align: top;\n    }\n\n    .dataframe thead th {\n        text-align: right;\n    }\n</style>\n<table border=\"1\" class=\"dataframe\">\n  <thead>\n    <tr style=\"text-align: right;\">\n      <th></th>\n      <th>Original</th>\n      <th>Variation 1</th>\n      <th>Variation 2</th>\n      <th>Variation 3</th>\n      <th>Variation 4</th>\n      <th>Variation 5</th>\n      <th>Variation 6</th>\n      <th>Variation 7</th>\n      <th>Variation 8</th>\n      <th>Variation 9</th>\n    </tr>\n  </thead>\n  <tbody>\n    <tr>\n      <th>0</th>\n      <td>AUG</td>\n      <td>UUG</td>\n      <td>GUG</td>\n      <td>CUG</td>\n      <td>AAG</td>\n      <td>AGG</td>\n      <td>ACG</td>\n      <td>AUA</td>\n      <td>AUU</td>\n      <td>AUC</td>\n    </tr>\n    <tr>\n      <th>1</th>\n      <td>GAG</td>\n      <td>AAG</td>\n      <td>UAG</td>\n      <td>CAG</td>\n      <td>GUG</td>\n      <td>GGG</td>\n      <td>GCG</td>\n      <td>GAA</td>\n      <td>GAU</td>\n      <td>GAC</td>\n    </tr>\n    <tr>\n      <th>2</th>\n      <td>GAG</td>\n      <td>AAG</td>\n      <td>UAG</td>\n      <td>CAG</td>\n      <td>GUG</td>\n      <td>GGG</td>\n      <td>GCG</td>\n      <td>GAA</td>\n      <td>GAU</td>\n      <td>GAC</td>\n    </tr>\n    <tr>\n      <th>3</th>\n      <td>CCG</td>\n      <td>ACG</td>\n      <td>UCG</td>\n      <td>GCG</td>\n      <td>CAG</td>\n      <td>CUG</td>\n      <td>CGG</td>\n      <td>CCA</td>\n      <td>CCU</td>\n      <td>CCC</td>\n    </tr>\n    <tr>\n      <th>4</th>\n      <td>CAG</td>\n      <td>AAG</td>\n      <td>UAG</td>\n      <td>GAG</td>\n      <td>CUG</td>\n      <td>CGG</td>\n      <td>CCG</td>\n      <td>CAA</td>\n      <td>CAU</td>\n      <td>CAC</td>\n    </tr>\n    <tr>\n      <th>...</th>\n      <td>...</td>\n      <td>...</td>\n      <td>...</td>\n      <td>...</td>\n      <td>...</td>\n      <td>...</td>\n      <td>...</td>\n      <td>...</td>\n      <td>...</td>\n      <td>...</td>\n    </tr>\n    <tr>\n      <th>388</th>\n      <td>GGG</td>\n      <td>AGG</td>\n      <td>UGG</td>\n      <td>CGG</td>\n      <td>GAG</td>\n      <td>GUG</td>\n      <td>GCG</td>\n      <td>GGA</td>\n      <td>GGU</td>\n      <td>GGC</td>\n    </tr>\n    <tr>\n      <th>389</th>\n      <td>CCU</td>\n      <td>ACU</td>\n      <td>UCU</td>\n      <td>GCU</td>\n      <td>CAU</td>\n      <td>CUU</td>\n      <td>CGU</td>\n      <td>CCA</td>\n      <td>CCG</td>\n      <td>CCC</td>\n    </tr>\n    <tr>\n      <th>390</th>\n      <td>GAC</td>\n      <td>AAC</td>\n      <td>UAC</td>\n      <td>CAC</td>\n      <td>GUC</td>\n      <td>GGC</td>\n      <td>GCC</td>\n      <td>GAA</td>\n      <td>GAU</td>\n      <td>GAG</td>\n    </tr>\n    <tr>\n      <th>391</th>\n      <td>UCA</td>\n      <td>ACA</td>\n      <td>GCA</td>\n      <td>CCA</td>\n      <td>UAA</td>\n      <td>UUA</td>\n      <td>UGA</td>\n      <td>UCU</td>\n      <td>UCG</td>\n      <td>UCC</td>\n    </tr>\n    <tr>\n      <th>392</th>\n      <td>GAC</td>\n      <td>AAC</td>\n      <td>UAC</td>\n      <td>CAC</td>\n      <td>GUC</td>\n      <td>GGC</td>\n      <td>GCC</td>\n      <td>GAA</td>\n      <td>GAU</td>\n      <td>GAG</td>\n    </tr>\n  </tbody>\n</table>\n<p>393 rows × 10 columns</p>\n</div>"
     },
     "execution_count": 12,
     "metadata": {},
     "output_type": "execute_result"
    }
   ],
   "source": [
    "# Alle möglichen Codons für tp53\n",
    "mutated_p53 = ses.generate_codon_variations(p53_codons)\n",
    "mutated_p53"
   ],
   "metadata": {
    "collapsed": false,
    "ExecuteTime": {
     "end_time": "2023-06-30T13:51:12.317108100Z",
     "start_time": "2023-06-30T13:51:12.156402700Z"
    }
   }
  },
  {
   "cell_type": "code",
   "execution_count": 13,
   "outputs": [
    {
     "data": {
      "text/plain": "I    0.3\nL    0.2\nV    0.1\nK    0.1\nR    0.1\nT    0.1\nName: 0, dtype: float64"
     },
     "execution_count": 13,
     "metadata": {},
     "output_type": "execute_result"
    }
   ],
   "source": [
    "# Übersetzen aller möglichen Codons\n",
    "aa = ses.translate_codons_df(mutated_p53)\n",
    "ses.prob_as_position(0, aa)"
   ],
   "metadata": {
    "collapsed": false,
    "ExecuteTime": {
     "end_time": "2023-06-30T13:51:12.557097400Z",
     "start_time": "2023-06-30T13:51:12.317108100Z"
    }
   }
  },
  {
   "cell_type": "code",
   "execution_count": 4,
   "outputs": [],
   "source": [
    "##### Wichtig\n",
    "## Function was updated on 26.06.23 -> slightly different parameters needed. Usage → see in codon.py\n",
    "# Das DMS_score df soll in ein df umgewandelt werden, indem nur die single mutations drinstehen. In dieser Zelle probiere ich das erst einmal für eine Zeile, bevor ich über alle iteriere.\n",
    "\n",
    "p53_var_frame_raw: pd.DataFrame = ses.translate_codons_df(ses.generate_codon_variations(ses.p53_codons_gia))\n",
    "p53_var_frame = ses.clean_variation_matrix(p53_var_frame_raw)\n",
    "\n",
    "gia_null_eto: pd.DataFrame = pd.read_csv('../DMS_data/P53_HUMAN_Giacomelli_NULL_Etoposide_2018.csv')\n",
    "df = dc.min_max_norm(dc.df_transform(gia_null_eto).T)\n",
    "\n",
    "sel_mut: pd.DataFrame = ses.select_smut(df, p53_var_frame)\n",
    "\n",
    "# #load DMS_scores\n",
    "# gia_null_eto: pd.DataFrame = pd.read_csv('../DMS_data/P53_HUMAN_Giacomelli_NULL_Etoposide_2018.csv')\n",
    "# df = dc.df_transform_inverse(gia_null_eto)\n",
    "#\n",
    "# #modify \"aa\", so that all \"*\" values are eliminated and so that the original aminoacid is cut off\n",
    "# aa_cleaned = aa.replace('*', np.nan).iloc[:, 1:]\n",
    "#\n",
    "#\n",
    "# #position\n",
    "# x=0\n",
    "#\n",
    "# # get single mutated AAs\n",
    "# mut_per_pos = de.prob_as_position(x,aa_cleaned).index\n",
    "# # mut_per_pos\n",
    "# # select single mutations out of all DMS_score mutations\n",
    "# selected_columns = df.loc[x+1,mut_per_pos]\n",
    "#\n",
    "# # selected_columns"
   ],
   "metadata": {
    "collapsed": false,
    "ExecuteTime": {
     "end_time": "2023-07-01T13:28:03.995358100Z",
     "start_time": "2023-07-01T13:28:02.406631400Z"
    }
   }
  },
  {
   "cell_type": "code",
   "execution_count": 5,
   "outputs": [
    {
     "data": {
      "text/plain": "            I         L         V         K         R         T         D  \\\n0   -0.445662 -0.896484 -0.236035  0.339590 -0.479409  0.143952       NaN   \n1         NaN       NaN  0.291224  0.530006       NaN       NaN  0.461640   \n2         NaN       NaN -0.029022  0.515066       NaN       NaN  0.478411   \n3         NaN  0.298945       NaN       NaN  0.398395  0.470961       NaN   \n4         NaN  0.406995       NaN  0.628535  0.175909       NaN       NaN   \n..        ...       ...       ...       ...       ...       ...       ...   \n388       NaN       NaN  0.464735       NaN  0.595348       NaN       NaN   \n389       NaN  0.598105       NaN       NaN  0.777285  0.752204       NaN   \n390       NaN       NaN  0.837795       NaN       NaN       NaN       NaN   \n391       NaN  0.507320       NaN       NaN       NaN  0.698685       NaN   \n392       NaN       NaN  0.790607       NaN       NaN       NaN       NaN   \n\n            Q         G         A         S         H         E         P  \\\n0         NaN       NaN       NaN       NaN       NaN       NaN       NaN   \n1    0.320817 -0.194648  0.010515       NaN       NaN       NaN       NaN   \n2    0.350823 -0.233738  0.096724       NaN       NaN       NaN       NaN   \n3    0.507619       NaN -0.336677  0.358706       NaN       NaN       NaN   \n4         NaN       NaN       NaN       NaN  0.301647  0.050641  0.142345   \n..        ...       ...       ...       ...       ...       ...       ...   \n388       NaN       NaN  0.681923       NaN       NaN  0.198170       NaN   \n389       NaN       NaN  0.816095  0.447437  0.432709       NaN       NaN   \n390       NaN  0.606592  0.624231       NaN  0.537711  0.411281       NaN   \n391       NaN       NaN  0.409650       NaN       NaN       NaN  0.570893   \n392       NaN  0.641101  0.666104       NaN  0.583339  0.269181       NaN   \n\n            N         Y   C   F   M         W  \n0         NaN       NaN NaN NaN NaN       NaN  \n1         NaN       NaN NaN NaN NaN       NaN  \n2         NaN       NaN NaN NaN NaN       NaN  \n3         NaN       NaN NaN NaN NaN       NaN  \n4         NaN       NaN NaN NaN NaN       NaN  \n..        ...       ...  ..  ..  ..       ...  \n388       NaN       NaN NaN NaN NaN  0.555301  \n389       NaN       NaN NaN NaN NaN       NaN  \n390  0.555494  0.583616 NaN NaN NaN       NaN  \n391       NaN       NaN NaN NaN NaN       NaN  \n392  0.504888  0.549047 NaN NaN NaN       NaN  \n\n[393 rows x 20 columns]",
      "text/html": "<div>\n<style scoped>\n    .dataframe tbody tr th:only-of-type {\n        vertical-align: middle;\n    }\n\n    .dataframe tbody tr th {\n        vertical-align: top;\n    }\n\n    .dataframe thead th {\n        text-align: right;\n    }\n</style>\n<table border=\"1\" class=\"dataframe\">\n  <thead>\n    <tr style=\"text-align: right;\">\n      <th></th>\n      <th>I</th>\n      <th>L</th>\n      <th>V</th>\n      <th>K</th>\n      <th>R</th>\n      <th>T</th>\n      <th>D</th>\n      <th>Q</th>\n      <th>G</th>\n      <th>A</th>\n      <th>S</th>\n      <th>H</th>\n      <th>E</th>\n      <th>P</th>\n      <th>N</th>\n      <th>Y</th>\n      <th>C</th>\n      <th>F</th>\n      <th>M</th>\n      <th>W</th>\n    </tr>\n  </thead>\n  <tbody>\n    <tr>\n      <th>0</th>\n      <td>-0.445662</td>\n      <td>-0.896484</td>\n      <td>-0.236035</td>\n      <td>0.339590</td>\n      <td>-0.479409</td>\n      <td>0.143952</td>\n      <td>NaN</td>\n      <td>NaN</td>\n      <td>NaN</td>\n      <td>NaN</td>\n      <td>NaN</td>\n      <td>NaN</td>\n      <td>NaN</td>\n      <td>NaN</td>\n      <td>NaN</td>\n      <td>NaN</td>\n      <td>NaN</td>\n      <td>NaN</td>\n      <td>NaN</td>\n      <td>NaN</td>\n    </tr>\n    <tr>\n      <th>1</th>\n      <td>NaN</td>\n      <td>NaN</td>\n      <td>0.291224</td>\n      <td>0.530006</td>\n      <td>NaN</td>\n      <td>NaN</td>\n      <td>0.461640</td>\n      <td>0.320817</td>\n      <td>-0.194648</td>\n      <td>0.010515</td>\n      <td>NaN</td>\n      <td>NaN</td>\n      <td>NaN</td>\n      <td>NaN</td>\n      <td>NaN</td>\n      <td>NaN</td>\n      <td>NaN</td>\n      <td>NaN</td>\n      <td>NaN</td>\n      <td>NaN</td>\n    </tr>\n    <tr>\n      <th>2</th>\n      <td>NaN</td>\n      <td>NaN</td>\n      <td>-0.029022</td>\n      <td>0.515066</td>\n      <td>NaN</td>\n      <td>NaN</td>\n      <td>0.478411</td>\n      <td>0.350823</td>\n      <td>-0.233738</td>\n      <td>0.096724</td>\n      <td>NaN</td>\n      <td>NaN</td>\n      <td>NaN</td>\n      <td>NaN</td>\n      <td>NaN</td>\n      <td>NaN</td>\n      <td>NaN</td>\n      <td>NaN</td>\n      <td>NaN</td>\n      <td>NaN</td>\n    </tr>\n    <tr>\n      <th>3</th>\n      <td>NaN</td>\n      <td>0.298945</td>\n      <td>NaN</td>\n      <td>NaN</td>\n      <td>0.398395</td>\n      <td>0.470961</td>\n      <td>NaN</td>\n      <td>0.507619</td>\n      <td>NaN</td>\n      <td>-0.336677</td>\n      <td>0.358706</td>\n      <td>NaN</td>\n      <td>NaN</td>\n      <td>NaN</td>\n      <td>NaN</td>\n      <td>NaN</td>\n      <td>NaN</td>\n      <td>NaN</td>\n      <td>NaN</td>\n      <td>NaN</td>\n    </tr>\n    <tr>\n      <th>4</th>\n      <td>NaN</td>\n      <td>0.406995</td>\n      <td>NaN</td>\n      <td>0.628535</td>\n      <td>0.175909</td>\n      <td>NaN</td>\n      <td>NaN</td>\n      <td>NaN</td>\n      <td>NaN</td>\n      <td>NaN</td>\n      <td>NaN</td>\n      <td>0.301647</td>\n      <td>0.050641</td>\n      <td>0.142345</td>\n      <td>NaN</td>\n      <td>NaN</td>\n      <td>NaN</td>\n      <td>NaN</td>\n      <td>NaN</td>\n      <td>NaN</td>\n    </tr>\n    <tr>\n      <th>...</th>\n      <td>...</td>\n      <td>...</td>\n      <td>...</td>\n      <td>...</td>\n      <td>...</td>\n      <td>...</td>\n      <td>...</td>\n      <td>...</td>\n      <td>...</td>\n      <td>...</td>\n      <td>...</td>\n      <td>...</td>\n      <td>...</td>\n      <td>...</td>\n      <td>...</td>\n      <td>...</td>\n      <td>...</td>\n      <td>...</td>\n      <td>...</td>\n      <td>...</td>\n    </tr>\n    <tr>\n      <th>388</th>\n      <td>NaN</td>\n      <td>NaN</td>\n      <td>0.464735</td>\n      <td>NaN</td>\n      <td>0.595348</td>\n      <td>NaN</td>\n      <td>NaN</td>\n      <td>NaN</td>\n      <td>NaN</td>\n      <td>0.681923</td>\n      <td>NaN</td>\n      <td>NaN</td>\n      <td>0.198170</td>\n      <td>NaN</td>\n      <td>NaN</td>\n      <td>NaN</td>\n      <td>NaN</td>\n      <td>NaN</td>\n      <td>NaN</td>\n      <td>0.555301</td>\n    </tr>\n    <tr>\n      <th>389</th>\n      <td>NaN</td>\n      <td>0.598105</td>\n      <td>NaN</td>\n      <td>NaN</td>\n      <td>0.777285</td>\n      <td>0.752204</td>\n      <td>NaN</td>\n      <td>NaN</td>\n      <td>NaN</td>\n      <td>0.816095</td>\n      <td>0.447437</td>\n      <td>0.432709</td>\n      <td>NaN</td>\n      <td>NaN</td>\n      <td>NaN</td>\n      <td>NaN</td>\n      <td>NaN</td>\n      <td>NaN</td>\n      <td>NaN</td>\n      <td>NaN</td>\n    </tr>\n    <tr>\n      <th>390</th>\n      <td>NaN</td>\n      <td>NaN</td>\n      <td>0.837795</td>\n      <td>NaN</td>\n      <td>NaN</td>\n      <td>NaN</td>\n      <td>NaN</td>\n      <td>NaN</td>\n      <td>0.606592</td>\n      <td>0.624231</td>\n      <td>NaN</td>\n      <td>0.537711</td>\n      <td>0.411281</td>\n      <td>NaN</td>\n      <td>0.555494</td>\n      <td>0.583616</td>\n      <td>NaN</td>\n      <td>NaN</td>\n      <td>NaN</td>\n      <td>NaN</td>\n    </tr>\n    <tr>\n      <th>391</th>\n      <td>NaN</td>\n      <td>0.507320</td>\n      <td>NaN</td>\n      <td>NaN</td>\n      <td>NaN</td>\n      <td>0.698685</td>\n      <td>NaN</td>\n      <td>NaN</td>\n      <td>NaN</td>\n      <td>0.409650</td>\n      <td>NaN</td>\n      <td>NaN</td>\n      <td>NaN</td>\n      <td>0.570893</td>\n      <td>NaN</td>\n      <td>NaN</td>\n      <td>NaN</td>\n      <td>NaN</td>\n      <td>NaN</td>\n      <td>NaN</td>\n    </tr>\n    <tr>\n      <th>392</th>\n      <td>NaN</td>\n      <td>NaN</td>\n      <td>0.790607</td>\n      <td>NaN</td>\n      <td>NaN</td>\n      <td>NaN</td>\n      <td>NaN</td>\n      <td>NaN</td>\n      <td>0.641101</td>\n      <td>0.666104</td>\n      <td>NaN</td>\n      <td>0.583339</td>\n      <td>0.269181</td>\n      <td>NaN</td>\n      <td>0.504888</td>\n      <td>0.549047</td>\n      <td>NaN</td>\n      <td>NaN</td>\n      <td>NaN</td>\n      <td>NaN</td>\n    </tr>\n  </tbody>\n</table>\n<p>393 rows × 20 columns</p>\n</div>"
     },
     "execution_count": 5,
     "metadata": {},
     "output_type": "execute_result"
    }
   ],
   "source": [
    "sel_mut"
   ],
   "metadata": {
    "collapsed": false,
    "ExecuteTime": {
     "end_time": "2023-07-01T13:28:06.431051900Z",
     "start_time": "2023-07-01T13:28:06.253440600Z"
    }
   }
  },
  {
   "cell_type": "code",
   "execution_count": 16,
   "outputs": [
    {
     "data": {
      "text/plain": "            A   C         D         E   F         G         H         I  \\\n0         NaN NaN       NaN       NaN NaN       NaN       NaN -0.133699   \n1    0.001168 NaN  0.102587       NaN NaN -0.021628       NaN       NaN   \n2    0.010747 NaN  0.106314       NaN NaN -0.025971       NaN       NaN   \n3   -0.033668 NaN       NaN       NaN NaN       NaN       NaN       NaN   \n4         NaN NaN       NaN  0.005627 NaN       NaN  0.067033       NaN   \n..        ...  ..       ...       ...  ..       ...       ...       ...   \n388  0.068192 NaN       NaN  0.019817 NaN       NaN       NaN       NaN   \n389  0.081609 NaN       NaN       NaN NaN       NaN  0.043271       NaN   \n390  0.062423 NaN       NaN  0.082256 NaN  0.060659  0.053771       NaN   \n391  0.051206 NaN       NaN       NaN NaN       NaN       NaN       NaN   \n392  0.066610 NaN       NaN  0.053836 NaN  0.064110  0.058334       NaN   \n\n            K         L   M         N         P         Q         R         S  \\\n0    0.033959 -0.179297 NaN       NaN       NaN       NaN -0.047941       NaN   \n1    0.058890       NaN NaN       NaN       NaN  0.035646       NaN       NaN   \n2    0.057230       NaN NaN       NaN       NaN  0.038980       NaN       NaN   \n3         NaN  0.029894 NaN       NaN       NaN  0.050762  0.039840  0.035871   \n4    0.069837  0.045222 NaN       NaN  0.015816       NaN  0.019545       NaN   \n..        ...       ...  ..       ...       ...       ...       ...       ...   \n388       NaN       NaN NaN       NaN       NaN       NaN  0.119070       NaN   \n389       NaN  0.059811 NaN       NaN       NaN       NaN  0.077729  0.044744   \n390       NaN       NaN NaN  0.055549       NaN       NaN       NaN       NaN   \n391       NaN  0.063415 NaN       NaN  0.071362       NaN       NaN       NaN   \n392       NaN       NaN NaN  0.050489       NaN       NaN       NaN       NaN   \n\n            T         V        W         Y  \n0    0.014395 -0.023603      NaN       NaN  \n1         NaN  0.032358      NaN       NaN  \n2         NaN -0.003225      NaN       NaN  \n3    0.047096       NaN      NaN       NaN  \n4         NaN       NaN      NaN       NaN  \n..        ...       ...      ...       ...  \n388       NaN  0.046474  0.05553       NaN  \n389  0.075220       NaN      NaN       NaN  \n390       NaN  0.083780      NaN  0.058362  \n391  0.087336       NaN      NaN       NaN  \n392       NaN  0.079061      NaN  0.054905  \n\n[393 rows x 20 columns]",
      "text/html": "<div>\n<style scoped>\n    .dataframe tbody tr th:only-of-type {\n        vertical-align: middle;\n    }\n\n    .dataframe tbody tr th {\n        vertical-align: top;\n    }\n\n    .dataframe thead th {\n        text-align: right;\n    }\n</style>\n<table border=\"1\" class=\"dataframe\">\n  <thead>\n    <tr style=\"text-align: right;\">\n      <th></th>\n      <th>A</th>\n      <th>C</th>\n      <th>D</th>\n      <th>E</th>\n      <th>F</th>\n      <th>G</th>\n      <th>H</th>\n      <th>I</th>\n      <th>K</th>\n      <th>L</th>\n      <th>M</th>\n      <th>N</th>\n      <th>P</th>\n      <th>Q</th>\n      <th>R</th>\n      <th>S</th>\n      <th>T</th>\n      <th>V</th>\n      <th>W</th>\n      <th>Y</th>\n    </tr>\n  </thead>\n  <tbody>\n    <tr>\n      <th>0</th>\n      <td>NaN</td>\n      <td>NaN</td>\n      <td>NaN</td>\n      <td>NaN</td>\n      <td>NaN</td>\n      <td>NaN</td>\n      <td>NaN</td>\n      <td>-0.133699</td>\n      <td>0.033959</td>\n      <td>-0.179297</td>\n      <td>NaN</td>\n      <td>NaN</td>\n      <td>NaN</td>\n      <td>NaN</td>\n      <td>-0.047941</td>\n      <td>NaN</td>\n      <td>0.014395</td>\n      <td>-0.023603</td>\n      <td>NaN</td>\n      <td>NaN</td>\n    </tr>\n    <tr>\n      <th>1</th>\n      <td>0.001168</td>\n      <td>NaN</td>\n      <td>0.102587</td>\n      <td>NaN</td>\n      <td>NaN</td>\n      <td>-0.021628</td>\n      <td>NaN</td>\n      <td>NaN</td>\n      <td>0.058890</td>\n      <td>NaN</td>\n      <td>NaN</td>\n      <td>NaN</td>\n      <td>NaN</td>\n      <td>0.035646</td>\n      <td>NaN</td>\n      <td>NaN</td>\n      <td>NaN</td>\n      <td>0.032358</td>\n      <td>NaN</td>\n      <td>NaN</td>\n    </tr>\n    <tr>\n      <th>2</th>\n      <td>0.010747</td>\n      <td>NaN</td>\n      <td>0.106314</td>\n      <td>NaN</td>\n      <td>NaN</td>\n      <td>-0.025971</td>\n      <td>NaN</td>\n      <td>NaN</td>\n      <td>0.057230</td>\n      <td>NaN</td>\n      <td>NaN</td>\n      <td>NaN</td>\n      <td>NaN</td>\n      <td>0.038980</td>\n      <td>NaN</td>\n      <td>NaN</td>\n      <td>NaN</td>\n      <td>-0.003225</td>\n      <td>NaN</td>\n      <td>NaN</td>\n    </tr>\n    <tr>\n      <th>3</th>\n      <td>-0.033668</td>\n      <td>NaN</td>\n      <td>NaN</td>\n      <td>NaN</td>\n      <td>NaN</td>\n      <td>NaN</td>\n      <td>NaN</td>\n      <td>NaN</td>\n      <td>NaN</td>\n      <td>0.029894</td>\n      <td>NaN</td>\n      <td>NaN</td>\n      <td>NaN</td>\n      <td>0.050762</td>\n      <td>0.039840</td>\n      <td>0.035871</td>\n      <td>0.047096</td>\n      <td>NaN</td>\n      <td>NaN</td>\n      <td>NaN</td>\n    </tr>\n    <tr>\n      <th>4</th>\n      <td>NaN</td>\n      <td>NaN</td>\n      <td>NaN</td>\n      <td>0.005627</td>\n      <td>NaN</td>\n      <td>NaN</td>\n      <td>0.067033</td>\n      <td>NaN</td>\n      <td>0.069837</td>\n      <td>0.045222</td>\n      <td>NaN</td>\n      <td>NaN</td>\n      <td>0.015816</td>\n      <td>NaN</td>\n      <td>0.019545</td>\n      <td>NaN</td>\n      <td>NaN</td>\n      <td>NaN</td>\n      <td>NaN</td>\n      <td>NaN</td>\n    </tr>\n    <tr>\n      <th>...</th>\n      <td>...</td>\n      <td>...</td>\n      <td>...</td>\n      <td>...</td>\n      <td>...</td>\n      <td>...</td>\n      <td>...</td>\n      <td>...</td>\n      <td>...</td>\n      <td>...</td>\n      <td>...</td>\n      <td>...</td>\n      <td>...</td>\n      <td>...</td>\n      <td>...</td>\n      <td>...</td>\n      <td>...</td>\n      <td>...</td>\n      <td>...</td>\n      <td>...</td>\n    </tr>\n    <tr>\n      <th>388</th>\n      <td>0.068192</td>\n      <td>NaN</td>\n      <td>NaN</td>\n      <td>0.019817</td>\n      <td>NaN</td>\n      <td>NaN</td>\n      <td>NaN</td>\n      <td>NaN</td>\n      <td>NaN</td>\n      <td>NaN</td>\n      <td>NaN</td>\n      <td>NaN</td>\n      <td>NaN</td>\n      <td>NaN</td>\n      <td>0.119070</td>\n      <td>NaN</td>\n      <td>NaN</td>\n      <td>0.046474</td>\n      <td>0.05553</td>\n      <td>NaN</td>\n    </tr>\n    <tr>\n      <th>389</th>\n      <td>0.081609</td>\n      <td>NaN</td>\n      <td>NaN</td>\n      <td>NaN</td>\n      <td>NaN</td>\n      <td>NaN</td>\n      <td>0.043271</td>\n      <td>NaN</td>\n      <td>NaN</td>\n      <td>0.059811</td>\n      <td>NaN</td>\n      <td>NaN</td>\n      <td>NaN</td>\n      <td>NaN</td>\n      <td>0.077729</td>\n      <td>0.044744</td>\n      <td>0.075220</td>\n      <td>NaN</td>\n      <td>NaN</td>\n      <td>NaN</td>\n    </tr>\n    <tr>\n      <th>390</th>\n      <td>0.062423</td>\n      <td>NaN</td>\n      <td>NaN</td>\n      <td>0.082256</td>\n      <td>NaN</td>\n      <td>0.060659</td>\n      <td>0.053771</td>\n      <td>NaN</td>\n      <td>NaN</td>\n      <td>NaN</td>\n      <td>NaN</td>\n      <td>0.055549</td>\n      <td>NaN</td>\n      <td>NaN</td>\n      <td>NaN</td>\n      <td>NaN</td>\n      <td>NaN</td>\n      <td>0.083780</td>\n      <td>NaN</td>\n      <td>0.058362</td>\n    </tr>\n    <tr>\n      <th>391</th>\n      <td>0.051206</td>\n      <td>NaN</td>\n      <td>NaN</td>\n      <td>NaN</td>\n      <td>NaN</td>\n      <td>NaN</td>\n      <td>NaN</td>\n      <td>NaN</td>\n      <td>NaN</td>\n      <td>0.063415</td>\n      <td>NaN</td>\n      <td>NaN</td>\n      <td>0.071362</td>\n      <td>NaN</td>\n      <td>NaN</td>\n      <td>NaN</td>\n      <td>0.087336</td>\n      <td>NaN</td>\n      <td>NaN</td>\n      <td>NaN</td>\n    </tr>\n    <tr>\n      <th>392</th>\n      <td>0.066610</td>\n      <td>NaN</td>\n      <td>NaN</td>\n      <td>0.053836</td>\n      <td>NaN</td>\n      <td>0.064110</td>\n      <td>0.058334</td>\n      <td>NaN</td>\n      <td>NaN</td>\n      <td>NaN</td>\n      <td>NaN</td>\n      <td>0.050489</td>\n      <td>NaN</td>\n      <td>NaN</td>\n      <td>NaN</td>\n      <td>NaN</td>\n      <td>NaN</td>\n      <td>0.079061</td>\n      <td>NaN</td>\n      <td>0.054905</td>\n    </tr>\n  </tbody>\n</table>\n<p>393 rows × 20 columns</p>\n</div>"
     },
     "execution_count": 16,
     "metadata": {},
     "output_type": "execute_result"
    }
   ],
   "source": [
    "# Jetzt will ich die DMS_scores der single mutations in diesem df mit den Mutationswahrscheinlichkeiten multiplizieren.\n",
    "ses.prob_smut(sel_mut,p53_var_frame)"
   ],
   "metadata": {
    "collapsed": false,
    "ExecuteTime": {
     "end_time": "2023-06-30T13:51:16.086653100Z",
     "start_time": "2023-06-30T13:51:14.487033300Z"
    }
   }
  },
  {
   "cell_type": "code",
   "execution_count": 17,
   "outputs": [],
   "source": [
    "#Updating pre-existing functions to eliminate Bio package"
   ],
   "metadata": {
    "collapsed": false,
    "ExecuteTime": {
     "end_time": "2023-06-30T13:51:16.236262500Z",
     "start_time": "2023-06-30T13:51:16.106583200Z"
    }
   }
  },
  {
   "cell_type": "code",
   "execution_count": 32,
   "outputs": [],
   "source": [
    "def translate_codon_to_aa(codon):\n",
    "    codon_table = {\n",
    "        'UUU': 'F', 'UUC': 'F', 'UUA': 'L', 'UUG': 'L',\n",
    "        'CUU': 'L', 'CUC': 'L', 'CUA': 'L', 'CUG': 'L',\n",
    "        'AUU': 'I', 'AUC': 'I', 'AUA': 'I', 'AUG': 'M',\n",
    "        'GUU': 'V', 'GUC': 'V', 'GUA': 'V', 'GUG': 'V',\n",
    "        'UCU': 'S', 'UCC': 'S', 'UCA': 'S', 'UCG': 'S',\n",
    "        'CCU': 'P', 'CCC': 'P', 'CCA': 'P', 'CCG': 'P',\n",
    "        'ACU': 'T', 'ACC': 'T', 'ACA': 'T', 'ACG': 'T',\n",
    "        'GCU': 'A', 'GCC': 'A', 'GCA': 'A', 'GCG': 'A',\n",
    "        'UAU': 'Y', 'UAC': 'Y', 'UAA': '*', 'UAG': '*',\n",
    "        'CAU': 'H', 'CAC': 'H', 'CAA': 'Q', 'CAG': 'Q',\n",
    "        'AAU': 'N', 'AAC': 'N', 'AAA': 'K', 'AAG': 'K',\n",
    "        'GAU': 'D', 'GAC': 'D', 'GAA': 'E', 'GAG': 'E',\n",
    "        'UGU': 'C', 'UGC': 'C', 'UGA': '*', 'UGG': 'W',\n",
    "        'CGU': 'R', 'CGC': 'R', 'CGA': 'R', 'CGG': 'R',\n",
    "        'AGU': 'S', 'AGC': 'S', 'AGA': 'R', 'AGG': 'R',\n",
    "        'GGU': 'G', 'GGC': 'G', 'GGA': 'G', 'GGG': 'G'\n",
    "    }\n",
    "\n",
    "    if codon in codon_table:\n",
    "        return codon_table[codon]\n",
    "    else:\n",
    "        return 'Unknown'"
   ],
   "metadata": {
    "collapsed": false,
    "ExecuteTime": {
     "end_time": "2023-06-30T14:21:26.807935700Z",
     "start_time": "2023-06-30T14:21:26.705877500Z"
    }
   }
  },
  {
   "cell_type": "code",
   "execution_count": 35,
   "outputs": [],
   "source": [
    "def translate_codons_df(df: pd.DataFrame) -> pd.DataFrame:\n",
    "    translated_df = pd.DataFrame()\n",
    "\n",
    "    for column in df.columns:\n",
    "        codons = df[column]\n",
    "        amino_acids = [translate_codon_to_aa(codon) for codon in codons]\n",
    "        #amino_acids = [seq.translate() for seq in seqs]\n",
    "        translated_df[column] = amino_acids\n",
    "\n",
    "    return translated_df"
   ],
   "metadata": {
    "collapsed": false,
    "ExecuteTime": {
     "end_time": "2023-06-30T14:26:35.073243900Z",
     "start_time": "2023-06-30T14:26:34.977835700Z"
    }
   }
  },
  {
   "cell_type": "code",
   "execution_count": 42,
   "outputs": [
    {
     "data": {
      "text/plain": "    Original Variation 1 Variation 2 Variation 3 Variation 4 Variation 5  \\\n0          M           L           V           L           K           R   \n1          E           K           *           Q           V           G   \n2          E           K           *           Q           V           G   \n3          P           T           S           A           Q           L   \n4          Q           K           *           E           L           R   \n..       ...         ...         ...         ...         ...         ...   \n388        G           R           W           R           E           V   \n389        P           T           S           A           H           L   \n390        D           N           Y           H           V           G   \n391        S           T           A           P           *           L   \n392        D           N           Y           H           V           G   \n\n    Variation 6 Variation 7 Variation 8 Variation 9  \n0             T           I           I           I  \n1             A           E           D           D  \n2             A           E           D           D  \n3             R           P           P           P  \n4             P           Q           H           H  \n..          ...         ...         ...         ...  \n388           A           G           G           G  \n389           R           P           P           P  \n390           A           E           D           E  \n391           *           S           S           S  \n392           A           E           D           E  \n\n[393 rows x 10 columns]",
      "text/html": "<div>\n<style scoped>\n    .dataframe tbody tr th:only-of-type {\n        vertical-align: middle;\n    }\n\n    .dataframe tbody tr th {\n        vertical-align: top;\n    }\n\n    .dataframe thead th {\n        text-align: right;\n    }\n</style>\n<table border=\"1\" class=\"dataframe\">\n  <thead>\n    <tr style=\"text-align: right;\">\n      <th></th>\n      <th>Original</th>\n      <th>Variation 1</th>\n      <th>Variation 2</th>\n      <th>Variation 3</th>\n      <th>Variation 4</th>\n      <th>Variation 5</th>\n      <th>Variation 6</th>\n      <th>Variation 7</th>\n      <th>Variation 8</th>\n      <th>Variation 9</th>\n    </tr>\n  </thead>\n  <tbody>\n    <tr>\n      <th>0</th>\n      <td>M</td>\n      <td>L</td>\n      <td>V</td>\n      <td>L</td>\n      <td>K</td>\n      <td>R</td>\n      <td>T</td>\n      <td>I</td>\n      <td>I</td>\n      <td>I</td>\n    </tr>\n    <tr>\n      <th>1</th>\n      <td>E</td>\n      <td>K</td>\n      <td>*</td>\n      <td>Q</td>\n      <td>V</td>\n      <td>G</td>\n      <td>A</td>\n      <td>E</td>\n      <td>D</td>\n      <td>D</td>\n    </tr>\n    <tr>\n      <th>2</th>\n      <td>E</td>\n      <td>K</td>\n      <td>*</td>\n      <td>Q</td>\n      <td>V</td>\n      <td>G</td>\n      <td>A</td>\n      <td>E</td>\n      <td>D</td>\n      <td>D</td>\n    </tr>\n    <tr>\n      <th>3</th>\n      <td>P</td>\n      <td>T</td>\n      <td>S</td>\n      <td>A</td>\n      <td>Q</td>\n      <td>L</td>\n      <td>R</td>\n      <td>P</td>\n      <td>P</td>\n      <td>P</td>\n    </tr>\n    <tr>\n      <th>4</th>\n      <td>Q</td>\n      <td>K</td>\n      <td>*</td>\n      <td>E</td>\n      <td>L</td>\n      <td>R</td>\n      <td>P</td>\n      <td>Q</td>\n      <td>H</td>\n      <td>H</td>\n    </tr>\n    <tr>\n      <th>...</th>\n      <td>...</td>\n      <td>...</td>\n      <td>...</td>\n      <td>...</td>\n      <td>...</td>\n      <td>...</td>\n      <td>...</td>\n      <td>...</td>\n      <td>...</td>\n      <td>...</td>\n    </tr>\n    <tr>\n      <th>388</th>\n      <td>G</td>\n      <td>R</td>\n      <td>W</td>\n      <td>R</td>\n      <td>E</td>\n      <td>V</td>\n      <td>A</td>\n      <td>G</td>\n      <td>G</td>\n      <td>G</td>\n    </tr>\n    <tr>\n      <th>389</th>\n      <td>P</td>\n      <td>T</td>\n      <td>S</td>\n      <td>A</td>\n      <td>H</td>\n      <td>L</td>\n      <td>R</td>\n      <td>P</td>\n      <td>P</td>\n      <td>P</td>\n    </tr>\n    <tr>\n      <th>390</th>\n      <td>D</td>\n      <td>N</td>\n      <td>Y</td>\n      <td>H</td>\n      <td>V</td>\n      <td>G</td>\n      <td>A</td>\n      <td>E</td>\n      <td>D</td>\n      <td>E</td>\n    </tr>\n    <tr>\n      <th>391</th>\n      <td>S</td>\n      <td>T</td>\n      <td>A</td>\n      <td>P</td>\n      <td>*</td>\n      <td>L</td>\n      <td>*</td>\n      <td>S</td>\n      <td>S</td>\n      <td>S</td>\n    </tr>\n    <tr>\n      <th>392</th>\n      <td>D</td>\n      <td>N</td>\n      <td>Y</td>\n      <td>H</td>\n      <td>V</td>\n      <td>G</td>\n      <td>A</td>\n      <td>E</td>\n      <td>D</td>\n      <td>E</td>\n    </tr>\n  </tbody>\n</table>\n<p>393 rows × 10 columns</p>\n</div>"
     },
     "execution_count": 42,
     "metadata": {},
     "output_type": "execute_result"
    }
   ],
   "source": [
    "#Test to see if it worked\n",
    "translate_codons_df(mutated_p53)"
   ],
   "metadata": {
    "collapsed": false,
    "ExecuteTime": {
     "end_time": "2023-06-30T15:38:59.123512200Z",
     "start_time": "2023-06-30T15:38:58.911741300Z"
    }
   }
  },
  {
   "cell_type": "code",
   "execution_count": 41,
   "outputs": [
    {
     "name": "stdout",
     "output_type": "stream",
     "text": [
      "MEEPQSDPSVEPPLSQETFSDLWKLLPENNVLSPLPSQAMDDLMLSPDDIEQWFTEDPGPDEAPRMPEAAPPVAPAPAAPTPAAPAPAPSWPLSSSVPSQKTYQGSYGFRLGFLHSGTAKSVTCTYSPALNKMFCQLAKTCPVQLWVDSTPPPGTRVRAMAIYKQSQHMTEVVRRCPHHERCSDSDGLAPPQHLIRVEGNLRVEYLDDRNTFRHSVVVPYEPPEVGSDCTTIHYNYMCNSSCMGGMNRRPILTIITLEDSSGNLLGRNSFEVRVCACPGRDRRTEEENLRKKGEPHHELPPGSTKRALPNNTSSSPQPKKKPLDGEYFTLQIRGRERFEMFRELNEALELKDAQAGKEPGGSRAHSSHLKSKKGQSTSRHKKLMFKTEGPDSD\n"
     ]
    }
   ],
   "source": [
    "#Test for the aminoacid sequence obtained from the DNA sequence online\n",
    "amino_acids_string = ses.translate_codons_to_string(p53_codons)\n",
    "\n",
    "print(amino_acids_string)\n",
    "\n",
    "# BLASTing shows: DNA sequence encodes the AA sequence which is the one the Kotler dataset uses as a reference!"
   ],
   "metadata": {
    "collapsed": false,
    "ExecuteTime": {
     "end_time": "2023-06-30T15:38:55.194631500Z",
     "start_time": "2023-06-30T15:38:55.056569900Z"
    }
   }
  }
 ],
 "metadata": {
  "kernelspec": {
   "display_name": "Python 3",
   "language": "python",
   "name": "python3"
  },
  "language_info": {
   "codemirror_mode": {
    "name": "ipython",
    "version": 2
   },
   "file_extension": ".py",
   "mimetype": "text/x-python",
   "name": "python",
   "nbconvert_exporter": "python",
   "pygments_lexer": "ipython2",
   "version": "2.7.6"
  }
 },
 "nbformat": 4,
 "nbformat_minor": 0
}
