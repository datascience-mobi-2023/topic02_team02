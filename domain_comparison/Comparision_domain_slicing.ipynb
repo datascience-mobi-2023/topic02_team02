{
 "cells": [
  {
   "cell_type": "code",
   "execution_count": 21,
   "metadata": {
    "collapsed": true,
    "ExecuteTime": {
     "start_time": "2023-07-05T22:54:37.389215Z",
     "end_time": "2023-07-05T22:54:37.413070Z"
    }
   },
   "outputs": [],
   "source": [
    "import pandas as pd\n",
    "import numpy as np\n",
    "import matplotlib.pyplot as plt\n",
    "from scipy.stats import gaussian_kde\n",
    "import scipy.stats as stats\n",
    "alpha = 0.05"
   ]
  },
  {
   "cell_type": "markdown",
   "source": [
    "# Checking whether the means for each position change significantly"
   ],
   "metadata": {
    "collapsed": false
   }
  },
  {
   "cell_type": "markdown",
   "source": [
    "## T1 Domain"
   ],
   "metadata": {
    "collapsed": false
   }
  },
  {
   "cell_type": "code",
   "execution_count": 22,
   "outputs": [
    {
     "name": "stdout",
     "output_type": "stream",
     "text": [
      "Mann-Whitney U statistic: 638.0\n",
      "p-value: 0.013504513895597267\n",
      "The two lists of means differ significantly!\n"
     ]
    }
   ],
   "source": [
    "t1_mean_smu = pd.read_csv('./data/t1_mean_smu.csv')\n",
    "t1_mean = pd.read_csv('./data/t1_mean.csv')\n",
    "\n",
    "U_statistic, p_value = stats.mannwhitneyu(t1_mean_smu['mean'], t1_mean['mean'])\n",
    "\n",
    "# Print the results\n",
    "print(\"Mann-Whitney U statistic:\", U_statistic)\n",
    "print(\"p-value:\", p_value)\n",
    "if p_value < alpha :\n",
    "    print ('The two lists of means differ significantly!')\n",
    "else:\n",
    "    print ('The two lists of means do not differ significantly!')"
   ],
   "metadata": {
    "collapsed": false,
    "ExecuteTime": {
     "start_time": "2023-07-05T22:54:37.395472Z",
     "end_time": "2023-07-05T22:54:37.423037Z"
    }
   }
  },
  {
   "cell_type": "markdown",
   "source": [],
   "metadata": {
    "collapsed": false
   }
  },
  {
   "cell_type": "markdown",
   "source": [
    "## T2 Domain"
   ],
   "metadata": {
    "collapsed": false
   }
  },
  {
   "cell_type": "code",
   "execution_count": 23,
   "outputs": [
    {
     "name": "stdout",
     "output_type": "stream",
     "text": [
      "Mann-Whitney U statistic: 58.0\n",
      "p-value: 0.00012940533589153548\n",
      "The two lists of means differ significantly!\n"
     ]
    }
   ],
   "source": [
    "t2_mean_smu = pd.read_csv('./data/t2_mean_smu.csv')\n",
    "t2_mean = pd.read_csv('./data/t2_mean.csv')\n",
    "\n",
    "U_statistic, p_value = stats.mannwhitneyu(t2_mean_smu['mean'], t2_mean['mean'])\n",
    "\n",
    "#printing the results\n",
    "print(\"Mann-Whitney U statistic:\", U_statistic)\n",
    "print(\"p-value:\", p_value)\n",
    "if p_value < alpha:\n",
    "    print('The two lists of means differ significantly!')\n",
    "else:\n",
    "    print('The two lists of means do not differ significantly!')"
   ],
   "metadata": {
    "collapsed": false,
    "ExecuteTime": {
     "start_time": "2023-07-05T22:54:37.424390Z",
     "end_time": "2023-07-05T22:54:37.428499Z"
    }
   }
  },
  {
   "cell_type": "markdown",
   "source": [
    "## PR Domain"
   ],
   "metadata": {
    "collapsed": false
   }
  },
  {
   "cell_type": "code",
   "execution_count": 24,
   "outputs": [
    {
     "name": "stdout",
     "output_type": "stream",
     "text": [
      "Mann-Whitney U statistic: 115.0\n",
      "p-value: 2.1042488896331867e-06\n",
      "The two lists of means differ significantly!\n"
     ]
    }
   ],
   "source": [
    "pr_mean_smu = pd.read_csv('./data/pr_mean_smu.csv')\n",
    "pr_mean = pd.read_csv('./data/pr_mean.csv')\n",
    "\n",
    "U_statistic, p_value = stats.mannwhitneyu(pr_mean_smu['mean'], pr_mean['mean'])\n",
    "\n",
    "#printing the results\n",
    "print(\"Mann-Whitney U statistic:\", U_statistic)\n",
    "print(\"p-value:\", p_value)\n",
    "if p_value < alpha:\n",
    "    print('The two lists of means differ significantly!')\n",
    "else:\n",
    "    print('The two lists of means do not differ significantly!')"
   ],
   "metadata": {
    "collapsed": false,
    "ExecuteTime": {
     "start_time": "2023-07-05T22:54:37.429961Z",
     "end_time": "2023-07-05T22:54:37.433598Z"
    }
   }
  },
  {
   "cell_type": "markdown",
   "source": [
    "## DNA Domain"
   ],
   "metadata": {
    "collapsed": false
   }
  },
  {
   "cell_type": "code",
   "execution_count": 25,
   "outputs": [
    {
     "name": "stdout",
     "output_type": "stream",
     "text": [
      "Mann-Whitney U statistic: 20647.0\n",
      "p-value: 0.025764958730298458\n",
      "The two lists of means differ significantly!\n"
     ]
    }
   ],
   "source": [
    "dna_mean_smu = pd.read_csv('./data/dna_mean_smu.csv')\n",
    "dna_mean = pd.read_csv('./data/dna_mean.csv')\n",
    "\n",
    "U_statistic, p_value = stats.mannwhitneyu(dna_mean_smu['mean'], dna_mean['mean'])\n",
    "\n",
    "#printing the results\n",
    "print(\"Mann-Whitney U statistic:\", U_statistic)\n",
    "print(\"p-value:\", p_value)\n",
    "if p_value < alpha:\n",
    "    print('The two lists of means differ significantly!')\n",
    "else:\n",
    "    print('The two lists of means do not differ significantly!')"
   ],
   "metadata": {
    "collapsed": false,
    "ExecuteTime": {
     "start_time": "2023-07-05T22:54:37.434464Z",
     "end_time": "2023-07-05T22:54:37.451078Z"
    }
   }
  },
  {
   "cell_type": "markdown",
   "source": [
    "## Tetramerization Domain"
   ],
   "metadata": {
    "collapsed": false
   }
  },
  {
   "cell_type": "code",
   "execution_count": 26,
   "outputs": [
    {
     "name": "stdout",
     "output_type": "stream",
     "text": [
      "Mann-Whitney U statistic: 429.0\n",
      "p-value: 0.013862364569966912\n",
      "The two lists of means differ significantly!\n"
     ]
    }
   ],
   "source": [
    "tetra_mean_smu = pd.read_csv('./data/tetra_mean_smu.csv')\n",
    "tetra_mean = pd.read_csv('./data/tetra_mean.csv')\n",
    "\n",
    "U_statistic, p_value = stats.mannwhitneyu(tetra_mean_smu['mean'], tetra_mean['mean'])\n",
    "\n",
    "#printing the results\n",
    "print(\"Mann-Whitney U statistic:\", U_statistic)\n",
    "print(\"p-value:\", p_value)\n",
    "if p_value < alpha:\n",
    "    print('The two lists of means differ significantly!')\n",
    "else:\n",
    "    print('The two lists of means do not differ significantly!')"
   ],
   "metadata": {
    "collapsed": false,
    "ExecuteTime": {
     "start_time": "2023-07-05T22:54:37.439983Z",
     "end_time": "2023-07-05T22:54:37.451432Z"
    }
   }
  },
  {
   "cell_type": "markdown",
   "source": [
    "## Regulatory Domain"
   ],
   "metadata": {
    "collapsed": false
   }
  },
  {
   "cell_type": "code",
   "execution_count": 27,
   "outputs": [
    {
     "name": "stdout",
     "output_type": "stream",
     "text": [
      "Mann-Whitney U statistic: 90.0\n",
      "p-value: 5.363809316086825e-11\n",
      "The two lists of means differ significantly!\n"
     ]
    }
   ],
   "source": [
    "reg_mean_smu = pd.read_csv('./data/reg_mean_smu.csv')\n",
    "reg_mean = pd.read_csv('./data/reg_mean.csv')\n",
    "\n",
    "U_statistic, p_value = stats.mannwhitneyu(reg_mean_smu['mean'], reg_mean['mean'])\n",
    "\n",
    "#printing the results\n",
    "print(\"Mann-Whitney U statistic:\", U_statistic)\n",
    "print(\"p-value:\", p_value)\n",
    "if p_value < alpha:\n",
    "    print('The two lists of means differ significantly!')\n",
    "else:\n",
    "    print('The two lists of means do not differ significantly!')"
   ],
   "metadata": {
    "collapsed": false,
    "ExecuteTime": {
     "start_time": "2023-07-05T22:54:37.445160Z",
     "end_time": "2023-07-05T22:54:37.451531Z"
    }
   }
  },
  {
   "cell_type": "code",
   "execution_count": 28,
   "outputs": [
    {
     "name": "stdout",
     "output_type": "stream",
     "text": [
      "0       0.344032\n",
      "1       0.317702\n",
      "2       0.274852\n",
      "3       0.481119\n",
      "4       0.187166\n",
      "          ...   \n",
      "1124    0.394880\n",
      "1125    0.286688\n",
      "1126    0.400844\n",
      "1127    0.211302\n",
      "1128    0.305758\n",
      "Name: DMS_score, Length: 1129, dtype: float64\n"
     ]
    },
    {
     "data": {
      "text/plain": "<Figure size 1000x600 with 1 Axes>",
      "image/png": "[encoded data removed]"
     },
     "metadata": {},
     "output_type": "display_data"
    }
   ],
   "source": [
    "dms_scores_dna = pd.read_csv('./data/dms_scores_dna.csv')['DMS_score']\n",
    "dms_scores_dna_smu = pd.read_csv('./data/dms_scores_dna_smu.csv')['DMS_score']\n",
    "\n",
    "all_dms_scores = np.concatenate((dms_scores_dna, dms_scores_dna_smu))\n",
    "\n",
    "# Create a figure and axis\n",
    "fig, ax = plt.subplots(figsize=(10, 6))  # Adjust the figure size as needed\n",
    "\n",
    "# Iterate over each dataset and fit a curve\n",
    "datasets = ['DNA binding domain', 'DNA binding domain with only single mutations']\n",
    "for data, label in zip([dms_scores_dna, dms_scores_dna_smu], datasets):\n",
    "    # Fit a curve to the data using KDE\n",
    "    kde = gaussian_kde(data)\n",
    "    x_vals = np.linspace(np.min(all_dms_scores), np.max(all_dms_scores), 1000)\n",
    "    y_vals = kde(x_vals)\n",
    "\n",
    "    # Plot the fitted curve with label\n",
    "    ax.plot(x_vals, y_vals, linewidth=2, label=label)\n",
    "\n",
    "# Add labels, title, and legend\n",
    "ax.set_xlabel('Value')\n",
    "ax.set_ylabel('Density')\n",
    "ax.set_title('Fitted Curves')\n",
    "ax.legend()\n",
    "\n",
    "# Show the plot\n",
    "plt.show()"
   ],
   "metadata": {
    "collapsed": false,
    "ExecuteTime": {
     "start_time": "2023-07-05T22:54:37.451406Z",
     "end_time": "2023-07-05T22:54:37.704310Z"
    }
   }
  },
  {
   "cell_type": "code",
   "execution_count": 28,
   "outputs": [],
   "source": [],
   "metadata": {
    "collapsed": false,
    "ExecuteTime": {
     "start_time": "2023-07-05T22:54:37.705023Z",
     "end_time": "2023-07-05T22:54:37.710775Z"
    }
   }
  }
 ],
 "metadata": {
  "kernelspec": {
   "display_name": "Python 3",
   "language": "python",
   "name": "python3"
  },
  "language_info": {
   "codemirror_mode": {
    "name": "ipython",
    "version": 2
   },
   "file_extension": ".py",
   "mimetype": "text/x-python",
   "name": "python",
   "nbconvert_exporter": "python",
   "pygments_lexer": "ipython2",
   "version": "2.7.6"
  }
 },
 "nbformat": 4,
 "nbformat_minor": 0
}
