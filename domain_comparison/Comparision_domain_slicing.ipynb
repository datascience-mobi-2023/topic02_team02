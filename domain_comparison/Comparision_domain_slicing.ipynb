{
 "cells": [
  {
   "cell_type": "code",
   "execution_count": 13,
   "metadata": {
    "collapsed": true,
    "ExecuteTime": {
     "start_time": "2023-07-01T19:13:27.204992Z",
     "end_time": "2023-07-01T19:13:27.250683Z"
    }
   },
   "outputs": [],
   "source": [
    "import pandas as pd\n",
    "\n",
    "import scipy.stats as stats\n",
    "alpha = 0.05"
   ]
  },
  {
   "cell_type": "markdown",
   "source": [
    "## T1 Domain"
   ],
   "metadata": {
    "collapsed": false
   }
  },
  {
   "cell_type": "code",
   "execution_count": 14,
   "outputs": [
    {
     "name": "stdout",
     "output_type": "stream",
     "text": [
      "Mann-Whitney U statistic: 730.0\n",
      "p-value: 0.09382116724591794\n",
      "The two lists of means do not differ significantly!\n"
     ]
    }
   ],
   "source": [
    "t1_mean_smu = pd.read_csv('./data/t1_mean_smu.csv')\n",
    "t1_mean = pd.read_csv('./data/t1_mean.csv')\n",
    "\n",
    "U_statistic, p_value = stats.mannwhitneyu(t1_mean_smu['mean'], t1_mean['mean'])\n",
    "\n",
    "# Print the results\n",
    "print(\"Mann-Whitney U statistic:\", U_statistic)\n",
    "print(\"p-value:\", p_value)\n",
    "if p_value < alpha :\n",
    "    print ('The two lists of means differ significantly!')\n",
    "else:\n",
    "    print ('The two lists of means do not differ significantly!')"
   ],
   "metadata": {
    "collapsed": false,
    "ExecuteTime": {
     "start_time": "2023-07-01T19:13:27.216012Z",
     "end_time": "2023-07-01T19:13:27.266975Z"
    }
   }
  },
  {
   "cell_type": "markdown",
   "source": [],
   "metadata": {
    "collapsed": false
   }
  },
  {
   "cell_type": "markdown",
   "source": [
    "## T2 Domain"
   ],
   "metadata": {
    "collapsed": false
   }
  },
  {
   "cell_type": "code",
   "execution_count": 15,
   "outputs": [
    {
     "name": "stdout",
     "output_type": "stream",
     "text": [
      "Mann-Whitney U statistic: 90.0\n",
      "p-value: 0.003056629228174791\n",
      "The two lists of means differ significantly!\n"
     ]
    }
   ],
   "source": [
    "t2_mean_smu = pd.read_csv('./data/t2_mean_smu.csv')\n",
    "t2_mean = pd.read_csv('./data/t2_mean.csv')\n",
    "\n",
    "U_statistic, p_value = stats.mannwhitneyu(t2_mean_smu['mean'], t2_mean['mean'])\n",
    "\n",
    "#printing the results\n",
    "print(\"Mann-Whitney U statistic:\", U_statistic)\n",
    "print(\"p-value:\", p_value)\n",
    "if p_value < alpha:\n",
    "    print('The two lists of means differ significantly!')\n",
    "else:\n",
    "    print('The two lists of means do not differ significantly!')"
   ],
   "metadata": {
    "collapsed": false,
    "ExecuteTime": {
     "start_time": "2023-07-01T19:13:27.226370Z",
     "end_time": "2023-07-01T19:13:27.268414Z"
    }
   }
  },
  {
   "cell_type": "markdown",
   "source": [
    "## PR Domain"
   ],
   "metadata": {
    "collapsed": false
   }
  },
  {
   "cell_type": "code",
   "execution_count": 16,
   "outputs": [
    {
     "name": "stdout",
     "output_type": "stream",
     "text": [
      "Mann-Whitney U statistic: 214.0\n",
      "p-value: 0.0013573635413749211\n",
      "The two lists of means differ significantly!\n"
     ]
    }
   ],
   "source": [
    "pr_mean_smu = pd.read_csv('./data/pr_mean_smu.csv')\n",
    "pr_mean = pd.read_csv('./data/pr_mean.csv')\n",
    "\n",
    "U_statistic, p_value = stats.mannwhitneyu(pr_mean_smu['mean'], pr_mean['mean'])\n",
    "\n",
    "#printing the results\n",
    "print(\"Mann-Whitney U statistic:\", U_statistic)\n",
    "print(\"p-value:\", p_value)\n",
    "if p_value < alpha:\n",
    "    print('The two lists of means differ significantly!')\n",
    "else:\n",
    "    print('The two lists of means do not differ significantly!')"
   ],
   "metadata": {
    "collapsed": false,
    "ExecuteTime": {
     "start_time": "2023-07-01T19:13:27.232346Z",
     "end_time": "2023-07-01T19:13:27.268914Z"
    }
   }
  },
  {
   "cell_type": "markdown",
   "source": [
    "## DNA Domain"
   ],
   "metadata": {
    "collapsed": false
   }
  },
  {
   "cell_type": "code",
   "execution_count": 17,
   "outputs": [
    {
     "name": "stdout",
     "output_type": "stream",
     "text": [
      "Mann-Whitney U statistic: 21858.0\n",
      "p-value: 0.0008022472324785567\n",
      "The two lists of means differ significantly!\n"
     ]
    }
   ],
   "source": [
    "dna_mean_smu = pd.read_csv('./data/dna_mean_smu.csv')\n",
    "dna_mean = pd.read_csv('./data/dna_mean.csv')\n",
    "\n",
    "U_statistic, p_value = stats.mannwhitneyu(dna_mean_smu['mean'], dna_mean['mean'])\n",
    "\n",
    "#printing the results\n",
    "print(\"Mann-Whitney U statistic:\", U_statistic)\n",
    "print(\"p-value:\", p_value)\n",
    "if p_value < alpha:\n",
    "    print('The two lists of means differ significantly!')\n",
    "else:\n",
    "    print('The two lists of means do not differ significantly!')"
   ],
   "metadata": {
    "collapsed": false,
    "ExecuteTime": {
     "start_time": "2023-07-01T19:13:27.238464Z",
     "end_time": "2023-07-01T19:13:27.269381Z"
    }
   }
  },
  {
   "cell_type": "markdown",
   "source": [
    "## Tetramerization Domain"
   ],
   "metadata": {
    "collapsed": false
   }
  },
  {
   "cell_type": "code",
   "execution_count": 18,
   "outputs": [
    {
     "name": "stdout",
     "output_type": "stream",
     "text": [
      "Mann-Whitney U statistic: 495.0\n",
      "p-value: 0.08588800594393942\n",
      "The two lists of means do not differ significantly!\n"
     ]
    }
   ],
   "source": [
    "tetra_mean_smu = pd.read_csv('./data/tetra_mean_smu.csv')\n",
    "tetra_mean = pd.read_csv('./data/tetra_mean.csv')\n",
    "\n",
    "U_statistic, p_value = stats.mannwhitneyu(tetra_mean_smu['mean'], tetra_mean['mean'])\n",
    "\n",
    "#printing the results\n",
    "print(\"Mann-Whitney U statistic:\", U_statistic)\n",
    "print(\"p-value:\", p_value)\n",
    "if p_value < alpha:\n",
    "    print('The two lists of means differ significantly!')\n",
    "else:\n",
    "    print('The two lists of means do not differ significantly!')"
   ],
   "metadata": {
    "collapsed": false,
    "ExecuteTime": {
     "start_time": "2023-07-01T19:13:27.244993Z",
     "end_time": "2023-07-01T19:13:27.269906Z"
    }
   }
  },
  {
   "cell_type": "markdown",
   "source": [
    "## Regulatory Domain"
   ],
   "metadata": {
    "collapsed": false
   }
  },
  {
   "cell_type": "code",
   "execution_count": 19,
   "outputs": [
    {
     "name": "stdout",
     "output_type": "stream",
     "text": [
      "Mann-Whitney U statistic: 137.0\n",
      "p-value: 1.2616842716604531e-09\n",
      "The two lists of means differ significantly!\n"
     ]
    }
   ],
   "source": [
    "reg_mean_smu = pd.read_csv('./data/reg_mean_smu.csv')\n",
    "reg_mean = pd.read_csv('./data/reg_mean.csv')\n",
    "\n",
    "U_statistic, p_value = stats.mannwhitneyu(reg_mean_smu['mean'], reg_mean['mean'])\n",
    "\n",
    "#printing the results\n",
    "print(\"Mann-Whitney U statistic:\", U_statistic)\n",
    "print(\"p-value:\", p_value)\n",
    "if p_value < alpha:\n",
    "    print('The two lists of means differ significantly!')\n",
    "else:\n",
    "    print('The two lists of means do not differ significantly!')"
   ],
   "metadata": {
    "collapsed": false,
    "ExecuteTime": {
     "start_time": "2023-07-01T19:13:27.249913Z",
     "end_time": "2023-07-01T19:13:27.270300Z"
    }
   }
  }
 ],
 "metadata": {
  "kernelspec": {
   "display_name": "Python 3",
   "language": "python",
   "name": "python3"
  },
  "language_info": {
   "codemirror_mode": {
    "name": "ipython",
    "version": 2
   },
   "file_extension": ".py",
   "mimetype": "text/x-python",
   "name": "python",
   "nbconvert_exporter": "python",
   "pygments_lexer": "ipython2",
   "version": "2.7.6"
  }
 },
 "nbformat": 4,
 "nbformat_minor": 0
}
