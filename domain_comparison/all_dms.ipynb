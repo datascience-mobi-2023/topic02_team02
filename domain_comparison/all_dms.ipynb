{
 "cells": [
  {
   "cell_type": "code",
   "execution_count": null,
   "metadata": {
    "collapsed": true,
    "ExecuteTime": {
     "start_time": "2023-07-06T23:26:11.664343Z",
     "end_time": "2023-07-06T23:26:11.734217Z"
    }
   },
   "outputs": [],
   "source": [
    "#I will write a function, that takes in an aminoacid sequence and the positions where this sequence is to sliced. By this, further domain comparisons are made possible\n",
    "import pandas as pd\n",
    "import data_cleanup as dc\n",
    "import domain_comparison as doc\n",
    "import data_exploration as de\n",
    "import seaborn as sns\n",
    "import matplotlib.pyplot as plt\n",
    "import numpy as np\n",
    "from scipy.stats import gaussian_kde"
   ]
  },
  {
   "cell_type": "code",
   "execution_count": null,
   "metadata": {
    "ExecuteTime": {
     "start_time": "2023-07-06T23:26:11.667605Z",
     "end_time": "2023-07-06T23:26:11.798119Z"
    }
   },
   "outputs": [],
   "source": [
    "fpath = '../DMS_data/P53_HUMAN_Giacomelli_NULL_Etoposide_2018.csv'\n",
    "#fpath = '../DMS_data/P53_HUMAN_Giacomelli_NULL_Nutlin_2018.csv'\n",
    "#fpath = '../DMS_data/P53_HUMAN_Giacomelli_WT_Nutlin_2018.csv'\n",
    "df = dc.norm(pd.read_csv(fpath))\n"
   ]
  },
  {
   "cell_type": "code",
   "execution_count": null,
   "metadata": {
    "ExecuteTime": {
     "start_time": "2023-07-06T23:26:11.719893Z",
     "end_time": "2023-07-06T23:26:11.852317Z"
    }
   },
   "outputs": [],
   "source": [
    "# Saving the different domains for better accessibility\n",
    "\n",
    "#Transactivation Domain 1\n",
    "t1_start = 1\n",
    "t1_end = 43\n",
    "\n",
    "#Transactivation Domain 2\n",
    "t2_start = 44\n",
    "t2_end = 63\n",
    "\n",
    "#Proline-rich Region\n",
    "pr_start = 64\n",
    "pr_end = 92\n",
    "\n",
    "#DNA Binding Domain\n",
    "dna_start = 102\n",
    "dna_end = 292\n",
    "\n",
    "#Tetramerization Domain\n",
    "tetra_start = 320\n",
    "tetra_end = 355\n",
    "\n",
    "#Regulatory Domain\n",
    "reg_start = 356\n",
    "reg_end = 393\n",
    "\n",
    "\n",
    "\n",
    "t1_domain = dc.rmv_na(dc.df_transform(doc.slice_domain(df, start= t1_start, end= t1_end)))\n",
    "t1_list = doc.slice_domain(df, start= t1_start, end= t1_end)\n",
    "\n",
    "t2_domain = dc.rmv_na(dc.df_transform(doc.slice_domain(df, start= t2_start, end= t2_end)))\n",
    "t2_list = doc.slice_domain(df, start= t2_start, end= t2_end)\n",
    "\n",
    "pr_domain = dc.rmv_na(dc.df_transform(doc.slice_domain(df, start= pr_start, end= pr_end)))\n",
    "pr_list = doc.slice_domain(df, start= pr_start, end= pr_end)\n",
    "\n",
    "dna_domain = dc.rmv_na(dc.df_transform(doc.slice_domain(df, start= dna_start, end= dna_end)))\n",
    "dna_list = doc.slice_domain(df, start= dna_start, end= dna_end)\n",
    "\n",
    "tetra_domain = dc.rmv_na(dc.df_transform(doc.slice_domain(df, start= tetra_start, end= tetra_end)))\n",
    "tetra_list = doc.slice_domain(df, start= tetra_start, end= tetra_end)\n",
    "\n",
    "reg_domain = dc.rmv_na(dc.df_transform(doc.slice_domain(df, start= reg_start, end= reg_end)))\n",
    "reg_list = doc.slice_domain(df, start= reg_start, end= reg_end)\n"
   ]
  },
  {
   "cell_type": "markdown",
   "metadata": {},
   "source": [
    "## Mean values"
   ]
  },
  {
   "cell_type": "code",
   "execution_count": null,
   "metadata": {
    "ExecuteTime": {
     "start_time": "2023-07-06T23:26:11.841087Z",
     "end_time": "2023-07-06T23:26:11.881180Z"
    }
   },
   "outputs": [],
   "source": [
    "t1_mean = t1_domain.mean().rename('mean')\n",
    "\n",
    "t2_mean = t2_domain.mean().rename('mean')\n",
    "\n",
    "pr_mean = pr_domain.mean().rename('mean')\n",
    "\n",
    "dna_mean = dna_domain.mean().rename('mean')\n",
    "\n",
    "tetra_mean = tetra_domain.mean().rename('mean')\n",
    "\n",
    "reg_mean = reg_domain.mean().rename('mean')"
   ]
  },
  {
   "cell_type": "markdown",
   "metadata": {},
   "source": [
    "## Distribution and Heatmaps\n",
    "### Transactivation Domain 1"
   ]
  },
  {
   "cell_type": "code",
   "execution_count": null,
   "metadata": {
    "ExecuteTime": {
     "start_time": "2023-07-06T23:26:11.862347Z",
     "end_time": "2023-07-06T23:26:12.270968Z"
    }
   },
   "outputs": [],
   "source": [
    "\n",
    "dms_scores_t1 = t1_list['DMS_score']\n",
    "\n",
    "plt.hist(dms_scores_t1, bins=50)\n",
    "plt.xlabel('DMS Score')\n",
    "plt.ylabel('Frequency')\n",
    "plt.title('Distribution of DMS Scores in the T1 Domain')\n",
    "plt.show()\n",
    "\n",
    "print(dms_scores_t1.mean())\n",
    "print(dms_scores_t1.median())\n",
    "sns.heatmap(t1_domain)"
   ]
  },
  {
   "cell_type": "markdown",
   "metadata": {},
   "source": [
    "### Transactivation Domain 2"
   ]
  },
  {
   "cell_type": "code",
   "execution_count": null,
   "metadata": {
    "ExecuteTime": {
     "start_time": "2023-07-06T23:26:12.278577Z",
     "end_time": "2023-07-06T23:26:12.553911Z"
    }
   },
   "outputs": [],
   "source": [
    "\n",
    "dms_scores_t2 = t2_list['DMS_score']\n",
    "\n",
    "plt.hist(dms_scores_t2, bins=50)\n",
    "plt.xlabel('DMS Score')\n",
    "plt.ylabel('Frequency')\n",
    "plt.title('Distribution of DMS Scores in the T2 Domain')\n",
    "plt.show()\n",
    "\n",
    "sns.heatmap(t2_domain)"
   ]
  },
  {
   "cell_type": "markdown",
   "metadata": {},
   "source": [
    "### Proline-rich Region"
   ]
  },
  {
   "cell_type": "code",
   "execution_count": null,
   "metadata": {
    "ExecuteTime": {
     "start_time": "2023-07-06T23:26:12.564524Z",
     "end_time": "2023-07-06T23:26:12.923064Z"
    }
   },
   "outputs": [],
   "source": [
    "dms_scores_pr = pr_list['DMS_score']\n",
    "\n",
    "plt.hist(dms_scores_pr, bins=50)\n",
    "plt.xlabel('DMS Score')\n",
    "plt.ylabel('Frequency')\n",
    "plt.title('Distribution of DMS Scores in the PR Domain')\n",
    "plt.show()\n",
    "\n",
    "sns.heatmap(pr_domain)"
   ]
  },
  {
   "cell_type": "markdown",
   "metadata": {},
   "source": [
    "### DNA Binding Domain"
   ]
  },
  {
   "cell_type": "code",
   "execution_count": null,
   "metadata": {
    "ExecuteTime": {
     "start_time": "2023-07-06T23:26:12.931162Z",
     "end_time": "2023-07-06T23:26:13.256557Z"
    }
   },
   "outputs": [],
   "source": [
    "\n",
    "dms_scores_dna = dna_list['DMS_score']\n",
    "\n",
    "plt.hist(dms_scores_dna, bins=50)\n",
    "plt.xlabel('DMS Score')\n",
    "plt.ylabel('Frequency')\n",
    "plt.title('Distribution of DMS Scores in the DNA Domain')\n",
    "plt.show()\n",
    "\n",
    "print(dms_scores_dna.mean())\n",
    "print(dms_scores_dna.median())\n",
    "\n",
    "sns.heatmap(dna_domain)"
   ]
  },
  {
   "cell_type": "markdown",
   "metadata": {},
   "source": [
    "### Tetramerization Domain"
   ]
  },
  {
   "cell_type": "code",
   "execution_count": null,
   "metadata": {
    "ExecuteTime": {
     "start_time": "2023-07-06T23:26:13.262778Z",
     "end_time": "2023-07-06T23:26:13.545561Z"
    }
   },
   "outputs": [],
   "source": [
    "\n",
    "dms_scores_tetra = tetra_list['DMS_score']\n",
    "\n",
    "plt.hist(dms_scores_tetra, bins=50)\n",
    "plt.xlabel('DMS Score')\n",
    "plt.ylabel('Frequency')\n",
    "plt.title('Distribution of DMS Scores in the Tetra Domain')\n",
    "plt.show()\n",
    "\n",
    "print(dms_scores_tetra.mean())\n",
    "print(dms_scores_tetra.median())\n",
    "\n",
    "sns.heatmap(tetra_domain)"
   ]
  },
  {
   "cell_type": "markdown",
   "metadata": {},
   "source": []
  },
  {
   "cell_type": "markdown",
   "metadata": {},
   "source": [
    "### Regulatory Domain"
   ]
  },
  {
   "cell_type": "code",
   "execution_count": null,
   "metadata": {
    "ExecuteTime": {
     "start_time": "2023-07-06T23:26:13.551911Z",
     "end_time": "2023-07-06T23:26:13.850826Z"
    }
   },
   "outputs": [],
   "source": [
    "\n",
    "dms_scores_reg = reg_list['DMS_score']\n",
    "\n",
    "plt.hist(dms_scores_reg, bins=50)\n",
    "plt.xlabel('DMS Score')\n",
    "plt.ylabel('Frequency')\n",
    "plt.title('Distribution of DMS Scores in the Reg Domain')\n",
    "plt.show()\n",
    "\n",
    "sns.heatmap(reg_domain)"
   ]
  },
  {
   "cell_type": "markdown",
   "source": [
    "## Comparing all DMS score distributions"
   ],
   "metadata": {
    "collapsed": false
   }
  },
  {
   "cell_type": "code",
   "execution_count": null,
   "outputs": [],
   "source": [
    "all_dms_scores = np.concatenate((dms_scores_t1, dms_scores_t2, dms_scores_pr,\n",
    "                                 dms_scores_dna, dms_scores_tetra, dms_scores_reg))\n",
    "\n",
    "fig, ax = plt.subplots(figsize=(10, 6))  # Adjust the figure size as needed\n",
    "\n",
    "datasets = ['Transactivation domain 1', 'Transactivation domain 2', 'Proline rich region',\n",
    "            'DNA binding domain', 'Tetramerization domain', 'Regulatory domain']\n",
    "for data, label in zip([dms_scores_t1, dms_scores_t2, dms_scores_pr,\n",
    "                        dms_scores_dna, dms_scores_tetra, dms_scores_reg], datasets):\n",
    "\n",
    "    kde = gaussian_kde(data)\n",
    "    x_vals = np.linspace(np.min(all_dms_scores), np.max(all_dms_scores), 1000)\n",
    "    y_vals = kde(x_vals)\n",
    "\n",
    "\n",
    "    ax.plot(x_vals, y_vals, linewidth=2, label=label)\n",
    "\n",
    "\n",
    "ax.set_xlabel('Value')\n",
    "ax.set_ylabel('Density')\n",
    "ax.set_title('Fitted Curves')\n",
    "ax.legend()\n",
    "\n",
    "\n",
    "plt.show()"
   ],
   "metadata": {
    "collapsed": false,
    "ExecuteTime": {
     "start_time": "2023-07-06T23:26:13.821002Z",
     "end_time": "2023-07-06T23:26:14.031713Z"
    }
   }
  },
  {
   "cell_type": "markdown",
   "metadata": {},
   "source": [
    "## Standard deviation\n"
   ]
  },
  {
   "cell_type": "code",
   "execution_count": null,
   "metadata": {
    "ExecuteTime": {
     "start_time": "2023-07-06T23:26:14.046348Z",
     "end_time": "2023-07-06T23:26:14.134401Z"
    }
   },
   "outputs": [],
   "source": [
    "\n",
    "t1_std = t1_mean.std()\n",
    "t2_std = t2_mean.std()\n",
    "pr_std = pr_mean.std()\n",
    "dna_std = dna_mean.std()\n",
    "tetra_std = tetra_mean.std()\n",
    "reg_std = reg_mean.std()\n",
    "\n",
    "std_combined = pd.DataFrame({\n",
    "    't1_std': [t1_std],\n",
    "    't2_std': [t2_std],\n",
    "    'pr_std': [pr_std],\n",
    "    'dna_std': [dna_std],\n",
    "    'tetra_std': [tetra_std],\n",
    "    'reg_std': [reg_std]\n",
    "})\n",
    "\n",
    "std_combined"
   ]
  },
  {
   "cell_type": "markdown",
   "metadata": {
    "ExecuteTime": {
     "start_time": "2023-07-05T21:45:03.516998Z",
     "end_time": "2023-07-05T21:45:03.536364Z"
    }
   },
   "source": [
    "## Mean value matrix"
   ],
   "outputs": [
    {
     "data": {
      "text/plain": "     t1_std    t2_std    pr_std   dna_std  tetra_std   reg_std\n0  0.179812  0.043157  0.035324  0.208569    0.17976  0.042898",
      "text/html": "<div>\n<style scoped>\n    .dataframe tbody tr th:only-of-type {\n        vertical-align: middle;\n    }\n\n    .dataframe tbody tr th {\n        vertical-align: top;\n    }\n\n    .dataframe thead th {\n        text-align: right;\n    }\n</style>\n<table border=\"1\" class=\"dataframe\">\n  <thead>\n    <tr style=\"text-align: right;\">\n      <th></th>\n      <th>t1_std</th>\n      <th>t2_std</th>\n      <th>pr_std</th>\n      <th>dna_std</th>\n      <th>tetra_std</th>\n      <th>reg_std</th>\n    </tr>\n  </thead>\n  <tbody>\n    <tr>\n      <th>0</th>\n      <td>0.179812</td>\n      <td>0.043157</td>\n      <td>0.035324</td>\n      <td>0.208569</td>\n      <td>0.17976</td>\n      <td>0.042898</td>\n    </tr>\n  </tbody>\n</table>\n</div>"
     },
     "execution_count": 44,
     "metadata": {},
     "output_type": "execute_result"
    }
   ],
   "execution_count": 44
  },
  {
   "cell_type": "code",
   "execution_count": null,
   "metadata": {
    "ExecuteTime": {
     "start_time": "2023-07-06T23:26:14.049870Z",
     "end_time": "2023-07-06T23:26:14.291042Z"
    }
   },
   "outputs": [],
   "source": [
    "sns.heatmap(dc.rmv_na(de.mean_substitutions(t1_list)))"
   ]
  },
  {
   "cell_type": "code",
   "execution_count": null,
   "metadata": {
    "ExecuteTime": {
     "start_time": "2023-07-06T23:26:14.330577Z",
     "end_time": "2023-07-06T23:26:14.613692Z"
    }
   },
   "outputs": [],
   "source": [
    "sns.heatmap(dc.rmv_na(de.mean_substitutions(t2_list)))"
   ]
  },
  {
   "cell_type": "code",
   "execution_count": null,
   "metadata": {
    "ExecuteTime": {
     "start_time": "2023-07-06T23:26:14.511308Z",
     "end_time": "2023-07-06T23:26:14.707077Z"
    }
   },
   "outputs": [],
   "source": [
    "sns.heatmap(dc.rmv_na(de.mean_substitutions(pr_list)))"
   ]
  },
  {
   "cell_type": "code",
   "execution_count": null,
   "metadata": {
    "ExecuteTime": {
     "start_time": "2023-07-06T23:26:14.708977Z",
     "end_time": "2023-07-06T23:26:14.950695Z"
    }
   },
   "outputs": [],
   "source": [
    "sns.heatmap(dc.rmv_na(de.mean_substitutions(dna_list)))"
   ]
  },
  {
   "cell_type": "code",
   "execution_count": null,
   "metadata": {
    "ExecuteTime": {
     "start_time": "2023-07-06T23:26:14.951479Z",
     "end_time": "2023-07-06T23:26:15.118600Z"
    }
   },
   "outputs": [],
   "source": [
    "sns.heatmap(dc.rmv_na(de.mean_substitutions(tetra_list)))"
   ]
  },
  {
   "cell_type": "code",
   "execution_count": null,
   "metadata": {
    "ExecuteTime": {
     "start_time": "2023-07-06T23:26:15.121031Z",
     "end_time": "2023-07-06T23:26:15.292207Z"
    }
   },
   "outputs": [],
   "source": [
    "sns.heatmap(dc.rmv_na(de.mean_substitutions(reg_list)))"
   ]
  },
  {
   "cell_type": "markdown",
   "source": [
    "## Shapiro Wilk test"
   ],
   "metadata": {
    "collapsed": false
   }
  },
  {
   "cell_type": "code",
   "execution_count": null,
   "metadata": {
    "ExecuteTime": {
     "start_time": "2023-07-06T23:26:15.293827Z",
     "end_time": "2023-07-06T23:26:15.296913Z"
    }
   },
   "outputs": [],
   "source": [
    "\n",
    "print('T1 Domain')\n",
    "print(doc.test_normality(t1_list['DMS_score']))\n",
    "\n",
    "print('T2 Domain')\n",
    "print(doc.test_normality(t2_list['DMS_score']))\n",
    "\n",
    "print('PR Domain')\n",
    "print(doc.test_normality(pr_list['DMS_score']))\n",
    "\n",
    "print('DNA Domain')\n",
    "print(doc.test_normality(dna_list['DMS_score']))\n",
    "\n",
    "print('Tetra Domain')\n",
    "print(doc.test_normality(tetra_list['DMS_score']))\n",
    "\n",
    "print('Reg Domain')\n",
    "print(doc.test_normality(reg_list['DMS_score']))"
   ]
  }
 ],
 "metadata": {
  "kernelspec": {
   "display_name": "Python 3 (ipykernel)",
   "language": "python",
   "name": "python3"
  },
  "language_info": {
   "codemirror_mode": {
    "name": "ipython",
    "version": 3
   },
   "file_extension": ".py",
   "mimetype": "text/x-python",
   "name": "python",
   "nbconvert_exporter": "python",
   "pygments_lexer": "ipython3",
   "version": "3.10.11"
  }
 },
 "nbformat": 4,
 "nbformat_minor": 1
}
