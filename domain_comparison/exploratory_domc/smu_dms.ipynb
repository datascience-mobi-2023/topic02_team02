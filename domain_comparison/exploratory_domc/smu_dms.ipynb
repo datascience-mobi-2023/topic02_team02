{
 "cells": [
  {
   "cell_type": "code",
   "execution_count": null,
   "metadata": {
    "collapsed": true,
    "ExecuteTime": {
     "start_time": "2023-07-17T09:47:04.840052Z",
     "end_time": "2023-07-17T09:47:04.985559Z"
    }
   },
   "outputs": [],
   "source": [
    "import pandas as pd\n",
    "import data_cleanup as dc\n",
    "import domain_comparison as doc\n",
    "import data_exploration as de\n",
    "import seaborn as sns\n",
    "import matplotlib.pyplot as plt\n",
    "import severity_score as ses\n",
    "import numpy as np\n",
    "from scipy.stats import gaussian_kde"
   ]
  },
  {
   "cell_type": "markdown",
   "source": [
    "### In this document the same operations as in all_dms are done. In this case the Amino acids, that cannot be reached with single mutations of the DNA are removed before."
   ],
   "metadata": {
    "collapsed": false
   }
  },
  {
   "cell_type": "markdown",
   "source": [
    "Starting out with Generation of the new DF with only the single mutations"
   ],
   "metadata": {
    "collapsed": false
   }
  },
  {
   "cell_type": "code",
   "execution_count": null,
   "metadata": {
    "ExecuteTime": {
     "start_time": "2023-07-17T09:47:04.986771Z",
     "end_time": "2023-07-17T09:47:06.019324Z"
    }
   },
   "outputs": [],
   "source": [
    "fpath = '../../DMS_data/P53_HUMAN_Giacomelli_NULL_Etoposide_2018.csv'\n",
    "\n",
    "gia_null_eto =dc.norm(pd.read_csv(fpath))\n",
    "dc.aufteilung_mut_pos(gia_null_eto)\n",
    "\n",
    "p53_seq = ses.p53_codons_gia\n",
    "translated_p53 = ses.clean_variation_matrix(ses.translate_codons_df(ses.generate_codon_variations(p53_seq)))\n",
    "\n",
    "cleaned_p53 = ses.clean_variation_matrix(translated_p53)\n",
    "\n",
    "df = gia_null_eto[gia_null_eto.apply(lambda row: (cleaned_p53.loc[row['position_mut']-1, 'Original'] == row['AS_old']) and (row['AS_new'] in cleaned_p53.loc[row['position_mut']-1, ['Variation 1', 'Variation 2', 'Variation 3', 'Variation 4', 'Variation 5', 'Variation 6', 'Variation 7', 'Variation 8', 'Variation 9']].values), axis=1)]"
   ]
  },
  {
   "cell_type": "code",
   "execution_count": null,
   "metadata": {
    "ExecuteTime": {
     "start_time": "2023-07-17T09:47:06.021182Z",
     "end_time": "2023-07-17T09:47:06.022805Z"
    }
   },
   "outputs": [],
   "source": [
    "domains_regulatory = doc.domains_regulatory\n",
    "\n",
    "def adjust_domain(regulatory: dict, name: str, frame: pd.DataFrame) -> dict:\n",
    "\n",
    "    domain = dc.rmv_na(dc.df_transform(doc.slice_domain(frame, start= regulatory[name][0], end=regulatory[name][1])))\n",
    "    domain_list = doc.slice_domain(frame, start= regulatory[name][0], end=regulatory[name][1])\n",
    "    mean = domain.mean().rename('mean')\n",
    "    res: dict = {'domain' : domain, 'domain_list': domain_list, 'mean': mean}\n",
    "    return res\n"
   ]
  },
  {
   "cell_type": "code",
   "execution_count": null,
   "outputs": [],
   "source": [
    "t1_domain = adjust_domain(domains_regulatory, name='t1_domain', frame=df)\n",
    "t2_domain = adjust_domain(domains_regulatory, 't2_domain', frame=df)\n",
    "pr_domain = adjust_domain(domains_regulatory, 'pr_domain', frame=df)\n",
    "dna_domain = adjust_domain(domains_regulatory, 'dna_b_domain', frame=df)\n",
    "tetra_domain = adjust_domain(domains_regulatory, 'tetra_domain', frame=df)\n",
    "reg_domain = adjust_domain(domains_regulatory, 'reg_domain', frame=df)\n",
    "\n"
   ],
   "metadata": {
    "collapsed": false,
    "ExecuteTime": {
     "start_time": "2023-07-17T09:47:06.023650Z",
     "end_time": "2023-07-17T09:47:06.082986Z"
    }
   }
  },
  {
   "cell_type": "markdown",
   "metadata": {},
   "source": [
    "## Mean values"
   ]
  },
  {
   "cell_type": "code",
   "execution_count": null,
   "metadata": {
    "ExecuteTime": {
     "start_time": "2023-07-17T09:47:06.083523Z",
     "end_time": "2023-07-17T09:47:06.084760Z"
    }
   },
   "outputs": [],
   "source": [
    "\n",
    "t1_mean = t1_domain['mean']\n",
    "\n",
    "t2_mean = t2_domain['mean']\n",
    "\n",
    "pr_mean = pr_domain['mean']\n",
    "\n",
    "dna_mean = dna_domain['mean']\n",
    "\n",
    "tetra_mean = tetra_domain['mean']\n",
    "\n",
    "reg_mean = reg_domain['mean']\n"
   ]
  },
  {
   "cell_type": "markdown",
   "metadata": {},
   "source": [
    "## Distribution and Heatmaps\n",
    "### Transactivation Domain 1"
   ]
  },
  {
   "cell_type": "code",
   "execution_count": null,
   "outputs": [],
   "source": [
    "def distr_and_hmap(domain_reg: dict, domain_name: str) -> None:\n",
    "    dms_scores = domain_reg['domain_list']['DMS_score']\n",
    "    plt.hist(dms_scores, bins=50)\n",
    "    plt.xlabel('DMS Score')\n",
    "    plt.ylabel('Frequency')\n",
    "    plt.title(f'Distribution of DMS Scores in the {domain_name} Domain')\n",
    "    plt.show()\n",
    "\n",
    "    print(f'Mean: {dms_scores.mean()}')\n",
    "    print(f'Median: {dms_scores.median()}')\n",
    "    sns.heatmap(domain_reg['domain'])\n",
    "\n",
    "    return None"
   ],
   "metadata": {
    "collapsed": false,
    "ExecuteTime": {
     "start_time": "2023-07-17T09:47:06.085991Z",
     "end_time": "2023-07-17T09:47:06.087538Z"
    }
   }
  },
  {
   "cell_type": "code",
   "execution_count": null,
   "outputs": [],
   "source": [
    "distr_and_hmap(t1_domain, 't1')"
   ],
   "metadata": {
    "collapsed": false,
    "ExecuteTime": {
     "start_time": "2023-07-17T09:47:06.087844Z",
     "end_time": "2023-07-17T09:47:06.372463Z"
    }
   }
  },
  {
   "cell_type": "markdown",
   "metadata": {},
   "source": [
    "### Transactivation Domain 2"
   ]
  },
  {
   "cell_type": "code",
   "execution_count": null,
   "metadata": {
    "ExecuteTime": {
     "start_time": "2023-07-17T09:47:06.373615Z",
     "end_time": "2023-07-17T09:47:06.641951Z"
    }
   },
   "outputs": [],
   "source": [
    "t2 = adjust_domain(domains_regulatory, 't2_domain', df)\n",
    "distr_and_hmap(t2, 'T2')"
   ]
  },
  {
   "cell_type": "markdown",
   "metadata": {},
   "source": [
    "### Proline-rich Region"
   ]
  },
  {
   "cell_type": "code",
   "execution_count": null,
   "metadata": {
    "ExecuteTime": {
     "start_time": "2023-07-17T09:47:06.642426Z",
     "end_time": "2023-07-17T09:47:06.929517Z"
    }
   },
   "outputs": [],
   "source": [
    "pr = adjust_domain(domains_regulatory, 'pr_domain', df)\n",
    "distr_and_hmap(pr, 'Proline-rich Region')"
   ]
  },
  {
   "cell_type": "markdown",
   "metadata": {},
   "source": [
    "### DNA Binding Domain"
   ]
  },
  {
   "cell_type": "code",
   "execution_count": null,
   "metadata": {
    "ExecuteTime": {
     "start_time": "2023-07-17T09:47:06.931858Z",
     "end_time": "2023-07-17T09:47:07.252078Z"
    }
   },
   "outputs": [],
   "source": [
    "dna_b_domain = adjust_domain(domains_regulatory, 'dna_b_domain', df)\n",
    "distr_and_hmap(dna_b_domain, 'DNA Binding')"
   ]
  },
  {
   "cell_type": "markdown",
   "metadata": {},
   "source": [
    "### Tetramerization Domain"
   ]
  },
  {
   "cell_type": "code",
   "execution_count": null,
   "metadata": {
    "ExecuteTime": {
     "start_time": "2023-07-17T09:47:07.254424Z",
     "end_time": "2023-07-17T09:47:07.510694Z"
    }
   },
   "outputs": [],
   "source": [
    "tetra = adjust_domain(domains_regulatory, 'tetra_domain', df)\n",
    "distr_and_hmap(tetra, 'Tetramerisation')"
   ]
  },
  {
   "cell_type": "markdown",
   "metadata": {},
   "source": []
  },
  {
   "cell_type": "markdown",
   "metadata": {},
   "source": [
    "### Regulatory Domain"
   ]
  },
  {
   "cell_type": "code",
   "execution_count": null,
   "metadata": {
    "ExecuteTime": {
     "start_time": "2023-07-17T09:47:07.513578Z",
     "end_time": "2023-07-17T09:47:07.788545Z"
    }
   },
   "outputs": [],
   "source": [
    "reg_domain = adjust_domain(domains_regulatory, 'reg_domain', df)\n",
    "distr_and_hmap(reg_domain, 'Regulatory')"
   ]
  },
  {
   "cell_type": "code",
   "execution_count": null,
   "outputs": [],
   "source": [
    "t1_domain['domain']"
   ],
   "metadata": {
    "collapsed": false,
    "ExecuteTime": {
     "start_time": "2023-07-17T09:47:07.790109Z",
     "end_time": "2023-07-17T09:47:07.803964Z"
    }
   }
  },
  {
   "cell_type": "markdown",
   "source": [
    "## Comparing all DMS score distributions"
   ],
   "metadata": {
    "collapsed": false
   }
  },
  {
   "cell_type": "code",
   "execution_count": null,
   "outputs": [],
   "source": [
    "def comp_dms_distr(regulatory: dict, frame) -> None:\n",
    "    regions = [adjust_domain(regulatory, elem, frame)['domain_list']['DMS_score'] for elem in regulatory.keys()]\n",
    "    dms_scores = np.concatenate(regions)\n",
    "\n",
    "    fig, ax = plt.subplots(figsize=(10, 6))\n",
    "\n",
    "    datasets = ['Transactivation domain 1', 'Transactivation domain 2', 'Proline rich region',\n",
    "                'DNA binding domain', 'Tetramerization domain', 'Regulatory domain']\n",
    "    for data, label in zip(regions, datasets):\n",
    "        kde = gaussian_kde(data)\n",
    "        x_vals = np.linspace(np.min(dms_scores), np.max(dms_scores), 1000)\n",
    "        y_vals = kde(x_vals)\n",
    "\n",
    "        ax.plot(x_vals, y_vals, linewidth=2, label=label)\n",
    "\n",
    "    ax.set_xlabel('Value')\n",
    "    ax.set_ylabel('Density')\n",
    "    ax.set_title('Different Domains with only Single Mutation DMS Scores')\n",
    "    ax.legend()\n",
    "\n",
    "    plt.show()\n",
    "    return None"
   ],
   "metadata": {
    "collapsed": false,
    "ExecuteTime": {
     "start_time": "2023-07-17T09:47:07.806616Z",
     "end_time": "2023-07-17T09:47:07.857993Z"
    }
   }
  },
  {
   "cell_type": "code",
   "execution_count": null,
   "outputs": [],
   "source": [
    "comp_dms_distr(domains_regulatory, df)"
   ],
   "metadata": {
    "collapsed": false,
    "ExecuteTime": {
     "start_time": "2023-07-17T09:47:07.822306Z",
     "end_time": "2023-07-17T09:47:08.183487Z"
    }
   }
  },
  {
   "cell_type": "code",
   "execution_count": null,
   "outputs": [],
   "source": [],
   "metadata": {
    "collapsed": false,
    "ExecuteTime": {
     "start_time": "2023-07-17T09:47:08.161732Z",
     "end_time": "2023-07-17T09:47:08.183691Z"
    }
   }
  },
  {
   "cell_type": "markdown",
   "metadata": {},
   "source": [
    "## Standard deviation\n"
   ]
  },
  {
   "cell_type": "code",
   "execution_count": null,
   "metadata": {
    "ExecuteTime": {
     "start_time": "2023-07-17T09:47:08.174371Z",
     "end_time": "2023-07-17T09:47:08.183897Z"
    }
   },
   "outputs": [],
   "source": [
    "t1_std = t1_mean.std()\n",
    "t2_std = t2_mean.std()\n",
    "pr_std = pr_mean.std()\n",
    "dna_std = dna_mean.std()\n",
    "tetra_std = tetra_mean.std()\n",
    "reg_std = reg_mean.std()\n",
    "\n",
    "std_combined = pd.DataFrame({\n",
    "    't1_std': [t1_std],\n",
    "    't2_std': [t2_std],\n",
    "    'pr_std': [pr_std],\n",
    "    'dna_std': [dna_std],\n",
    "    'tetra_std': [tetra_std],\n",
    "    'reg_std': [reg_std]\n",
    "})\n",
    "\n",
    "std_combined"
   ]
  },
  {
   "cell_type": "markdown",
   "metadata": {},
   "source": [
    "## Mean value matrix"
   ]
  },
  {
   "cell_type": "markdown",
   "source": [
    "Creating a matrix showing the mean substitution DMS score for each aminoacid. For further information see the data_exploration folder."
   ],
   "metadata": {
    "collapsed": false
   }
  },
  {
   "cell_type": "code",
   "execution_count": null,
   "metadata": {
    "ExecuteTime": {
     "start_time": "2023-07-17T09:47:08.183343Z",
     "end_time": "2023-07-17T09:47:08.425879Z"
    }
   },
   "outputs": [],
   "source": [
    "sns.heatmap(dc.rmv_na(de.mean_substitutions(t1_domain['domain_list'])))"
   ]
  },
  {
   "cell_type": "code",
   "execution_count": null,
   "metadata": {
    "ExecuteTime": {
     "start_time": "2023-07-17T09:47:08.426770Z",
     "end_time": "2023-07-17T09:47:08.613113Z"
    }
   },
   "outputs": [],
   "source": [
    "sns.heatmap(dc.rmv_na(de.mean_substitutions(t2_domain['domain_list'])))"
   ]
  },
  {
   "cell_type": "code",
   "execution_count": null,
   "metadata": {
    "ExecuteTime": {
     "start_time": "2023-07-17T09:47:08.624719Z",
     "end_time": "2023-07-17T09:47:08.861734Z"
    }
   },
   "outputs": [],
   "source": [
    "sns.heatmap(dc.rmv_na(de.mean_substitutions(pr_domain['domain_list'])))"
   ]
  },
  {
   "cell_type": "code",
   "execution_count": null,
   "metadata": {
    "ExecuteTime": {
     "start_time": "2023-07-17T09:47:08.862505Z",
     "end_time": "2023-07-17T09:47:09.067215Z"
    }
   },
   "outputs": [],
   "source": [
    "sns.heatmap(dc.rmv_na(de.mean_substitutions(dna_domain['domain_list'])))"
   ]
  },
  {
   "cell_type": "code",
   "execution_count": null,
   "metadata": {
    "ExecuteTime": {
     "start_time": "2023-07-17T09:47:09.067386Z",
     "end_time": "2023-07-17T09:47:09.226969Z"
    }
   },
   "outputs": [],
   "source": [
    "sns.heatmap(dc.rmv_na(de.mean_substitutions(tetra_domain['domain_list'])))"
   ]
  },
  {
   "cell_type": "code",
   "execution_count": null,
   "metadata": {
    "ExecuteTime": {
     "start_time": "2023-07-17T09:47:09.230389Z",
     "end_time": "2023-07-17T09:47:09.390620Z"
    }
   },
   "outputs": [],
   "source": [
    "sns.heatmap(dc.rmv_na(de.mean_substitutions(reg_domain['domain_list'])))"
   ]
  },
  {
   "cell_type": "markdown",
   "source": [
    "## Shapiro Wilk test"
   ],
   "metadata": {
    "collapsed": false
   },
   "outputs": [],
   "execution_count": null
  },
  {
   "cell_type": "code",
   "execution_count": null,
   "outputs": [],
   "source": [
    "domains_regulatory"
   ],
   "metadata": {
    "collapsed": false,
    "ExecuteTime": {
     "start_time": "2023-07-17T09:48:02.158124Z",
     "end_time": "2023-07-17T09:48:02.174466Z"
    }
   }
  },
  {
   "cell_type": "code",
   "execution_count": null,
   "outputs": [],
   "source": [
    "def shapiro_wilk_test(regulatory: dict, frame) -> None:\n",
    "    regions = [adjust_domain(regulatory, elem, frame)['domain_list']['DMS_score'] for elem in regulatory.keys()]\n",
    "    reg_names = list(regulatory.keys())\n",
    "    counter = 0\n",
    "    for region in regions:\n",
    "        print(reg_names[counter])\n",
    "        counter += 1\n",
    "        print(doc.test_normality(region), '\\n')\n",
    "    return None"
   ],
   "metadata": {
    "collapsed": false,
    "ExecuteTime": {
     "start_time": "2023-07-17T09:48:05.388339Z",
     "end_time": "2023-07-17T09:48:05.394243Z"
    }
   }
  },
  {
   "cell_type": "code",
   "execution_count": null,
   "outputs": [],
   "source": [
    "shapiro_wilk_test(domains_regulatory, df)"
   ],
   "metadata": {
    "collapsed": false,
    "ExecuteTime": {
     "start_time": "2023-07-17T09:48:07.679727Z",
     "end_time": "2023-07-17T09:48:07.762696Z"
    }
   }
  },
  {
   "cell_type": "code",
   "execution_count": null,
   "outputs": [],
   "source": [],
   "metadata": {
    "collapsed": false
   }
  }
 ],
 "metadata": {
  "kernelspec": {
   "display_name": "Python 3 (ipykernel)",
   "language": "python",
   "name": "python3"
  },
  "language_info": {
   "codemirror_mode": {
    "name": "ipython",
    "version": 3
   },
   "file_extension": ".py",
   "mimetype": "text/x-python",
   "name": "python",
   "nbconvert_exporter": "python",
   "pygments_lexer": "ipython3",
   "version": "3.10.11"
  }
 },
 "nbformat": 4,
 "nbformat_minor": 1
}
