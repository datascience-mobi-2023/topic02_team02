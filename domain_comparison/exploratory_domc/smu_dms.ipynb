{
 "cells": [
  {
   "cell_type": "code",
   "execution_count": 21,
   "metadata": {
    "collapsed": true,
    "ExecuteTime": {
     "end_time": "2023-07-11T15:39:56.398014300Z",
     "start_time": "2023-07-11T15:39:56.182721900Z"
    }
   },
   "outputs": [],
   "source": [
    "import pandas as pd\n",
    "import data_cleanup as dc\n",
    "import domain_comparison as doc\n",
    "import data_exploration as de\n",
    "import seaborn as sns\n",
    "import matplotlib.pyplot as plt\n",
    "import severity_score as ses\n",
    "import numpy as np\n",
    "from scipy.stats import gaussian_kde"
   ]
  },
  {
   "cell_type": "markdown",
   "source": [
    "### In this document the same operations as in all_dms are done. In this case the Amino acids, that cannot be reached with single mutations of the DNA are removed before."
   ],
   "metadata": {
    "collapsed": false
   }
  },
  {
   "cell_type": "markdown",
   "source": [
    "Starting out with Generation of the new DF with only the single mutations"
   ],
   "metadata": {
    "collapsed": false
   }
  },
  {
   "cell_type": "code",
   "execution_count": 22,
   "metadata": {
    "ExecuteTime": {
     "end_time": "2023-07-11T15:40:00.331655Z",
     "start_time": "2023-07-11T15:39:56.207725200Z"
    }
   },
   "outputs": [],
   "source": [
    "fpath = '../DMS_data/P53_HUMAN_Giacomelli_NULL_Etoposide_2018.csv'\n",
    "\n",
    "gia_null_eto =dc.norm(pd.read_csv(fpath))\n",
    "dc.aufteilung_mut_pos(gia_null_eto)\n",
    "\n",
    "p53_seq = ses.p53_codons_gia\n",
    "translated_p53 = ses.clean_variation_matrix(ses.translate_codons_df(ses.generate_codon_variations(p53_seq)))\n",
    "\n",
    "cleaned_p53 = ses.clean_variation_matrix(translated_p53)\n",
    "\n",
    "df = gia_null_eto[gia_null_eto.apply(lambda row: (cleaned_p53.loc[row['position_mut']-1, 'Original'] == row['AS_old']) and (row['AS_new'] in cleaned_p53.loc[row['position_mut']-1, ['Variation 1', 'Variation 2', 'Variation 3', 'Variation 4', 'Variation 5', 'Variation 6', 'Variation 7', 'Variation 8', 'Variation 9']].values), axis=1)]"
   ]
  },
  {
   "cell_type": "code",
   "execution_count": 23,
   "metadata": {
    "ExecuteTime": {
     "end_time": "2023-07-11T15:40:00.568572400Z",
     "start_time": "2023-07-11T15:40:00.348026900Z"
    }
   },
   "outputs": [
    {
     "name": "stderr",
     "output_type": "stream",
     "text": [
      "C:\\Users\\maxfi\\Documents\\Uni\\SS_2023\\Bioinfo\\Projekt\\data_cleanup\\cleanup.py:68: SettingWithCopyWarning: \n",
      "A value is trying to be set on a copy of a slice from a DataFrame.\n",
      "Try using .loc[row_indexer,col_indexer] = value instead\n",
      "\n",
      "See the caveats in the documentation: https://pandas.pydata.org/pandas-docs/stable/user_guide/indexing.html#returning-a-view-versus-a-copy\n",
      "  frame['position_mut'] = frame.mutant.str.slice(start=1, stop=-1).astype(int)-1\n",
      "C:\\Users\\maxfi\\Documents\\Uni\\SS_2023\\Bioinfo\\Projekt\\data_cleanup\\cleanup.py:69: SettingWithCopyWarning: \n",
      "A value is trying to be set on a copy of a slice from a DataFrame.\n",
      "Try using .loc[row_indexer,col_indexer] = value instead\n",
      "\n",
      "See the caveats in the documentation: https://pandas.pydata.org/pandas-docs/stable/user_guide/indexing.html#returning-a-view-versus-a-copy\n",
      "  frame['aa_new'] = frame.mutant.str.get(-1)\n"
     ]
    },
    {
     "ename": "KeyError",
     "evalue": "'position_mut'",
     "output_type": "error",
     "traceback": [
      "\u001B[1;31m---------------------------------------------------------------------------\u001B[0m",
      "\u001B[1;31mKeyError\u001B[0m                                  Traceback (most recent call last)",
      "File \u001B[1;32m~\\Documents\\Uni\\SS_2023\\Bioinfo\\Projekt\\venv\\lib\\site-packages\\pandas\\core\\indexes\\base.py:3652\u001B[0m, in \u001B[0;36mIndex.get_loc\u001B[1;34m(self, key)\u001B[0m\n\u001B[0;32m   3651\u001B[0m \u001B[38;5;28;01mtry\u001B[39;00m:\n\u001B[1;32m-> 3652\u001B[0m     \u001B[38;5;28;01mreturn\u001B[39;00m \u001B[38;5;28;43mself\u001B[39;49m\u001B[38;5;241;43m.\u001B[39;49m\u001B[43m_engine\u001B[49m\u001B[38;5;241;43m.\u001B[39;49m\u001B[43mget_loc\u001B[49m\u001B[43m(\u001B[49m\u001B[43mcasted_key\u001B[49m\u001B[43m)\u001B[49m\n\u001B[0;32m   3653\u001B[0m \u001B[38;5;28;01mexcept\u001B[39;00m \u001B[38;5;167;01mKeyError\u001B[39;00m \u001B[38;5;28;01mas\u001B[39;00m err:\n",
      "File \u001B[1;32m~\\Documents\\Uni\\SS_2023\\Bioinfo\\Projekt\\venv\\lib\\site-packages\\pandas\\_libs\\index.pyx:147\u001B[0m, in \u001B[0;36mpandas._libs.index.IndexEngine.get_loc\u001B[1;34m()\u001B[0m\n",
      "File \u001B[1;32m~\\Documents\\Uni\\SS_2023\\Bioinfo\\Projekt\\venv\\lib\\site-packages\\pandas\\_libs\\index.pyx:176\u001B[0m, in \u001B[0;36mpandas._libs.index.IndexEngine.get_loc\u001B[1;34m()\u001B[0m\n",
      "File \u001B[1;32mpandas\\_libs\\hashtable_class_helper.pxi:7080\u001B[0m, in \u001B[0;36mpandas._libs.hashtable.PyObjectHashTable.get_item\u001B[1;34m()\u001B[0m\n",
      "File \u001B[1;32mpandas\\_libs\\hashtable_class_helper.pxi:7088\u001B[0m, in \u001B[0;36mpandas._libs.hashtable.PyObjectHashTable.get_item\u001B[1;34m()\u001B[0m\n",
      "\u001B[1;31mKeyError\u001B[0m: 'position_mut'",
      "\nThe above exception was the direct cause of the following exception:\n",
      "\u001B[1;31mKeyError\u001B[0m                                  Traceback (most recent call last)",
      "Cell \u001B[1;32mIn[23], line 44\u001B[0m\n\u001B[0;32m     39\u001B[0m     res: \u001B[38;5;28mdict\u001B[39m \u001B[38;5;241m=\u001B[39m {\u001B[38;5;124m'\u001B[39m\u001B[38;5;124mdomain\u001B[39m\u001B[38;5;124m'\u001B[39m : domain, \u001B[38;5;124m'\u001B[39m\u001B[38;5;124mdomain_list\u001B[39m\u001B[38;5;124m'\u001B[39m: domain_list, \u001B[38;5;124m'\u001B[39m\u001B[38;5;124mmean\u001B[39m\u001B[38;5;124m'\u001B[39m: mean}\n\u001B[0;32m     40\u001B[0m     \u001B[38;5;28;01mreturn\u001B[39;00m res\n\u001B[1;32m---> 44\u001B[0m t1 \u001B[38;5;241m=\u001B[39m \u001B[43madjust_domain\u001B[49m\u001B[43m(\u001B[49m\u001B[43mdomains_regulatory\u001B[49m\u001B[43m,\u001B[49m\u001B[43m \u001B[49m\u001B[43mname\u001B[49m\u001B[38;5;241;43m=\u001B[39;49m\u001B[38;5;124;43m'\u001B[39;49m\u001B[38;5;124;43mt1_domain\u001B[39;49m\u001B[38;5;124;43m'\u001B[39;49m\u001B[43m,\u001B[49m\u001B[43m \u001B[49m\u001B[43mframe\u001B[49m\u001B[38;5;241;43m=\u001B[39;49m\u001B[43mdf\u001B[49m\u001B[43m)\u001B[49m\n\u001B[0;32m     46\u001B[0m t1_domain \u001B[38;5;241m=\u001B[39m t1[\u001B[38;5;124m'\u001B[39m\u001B[38;5;124mdomain\u001B[39m\u001B[38;5;124m'\u001B[39m]\n\u001B[0;32m     47\u001B[0m t1_list \u001B[38;5;241m=\u001B[39m t1[\u001B[38;5;124m'\u001B[39m\u001B[38;5;124mdomain_list\u001B[39m\u001B[38;5;124m'\u001B[39m]\n",
      "Cell \u001B[1;32mIn[23], line 36\u001B[0m, in \u001B[0;36madjust_domain\u001B[1;34m(regulatory, name, frame)\u001B[0m\n\u001B[0;32m     34\u001B[0m \u001B[38;5;28;01mdef\u001B[39;00m \u001B[38;5;21madjust_domain\u001B[39m(regulatory: \u001B[38;5;28mdict\u001B[39m, name: \u001B[38;5;28mstr\u001B[39m, frame: pd\u001B[38;5;241m.\u001B[39mDataFrame) \u001B[38;5;241m-\u001B[39m\u001B[38;5;241m>\u001B[39m \u001B[38;5;28mdict\u001B[39m:\n\u001B[1;32m---> 36\u001B[0m     domain \u001B[38;5;241m=\u001B[39m dc\u001B[38;5;241m.\u001B[39mrmv_na(dc\u001B[38;5;241m.\u001B[39mdf_transform(\u001B[43mdoc\u001B[49m\u001B[38;5;241;43m.\u001B[39;49m\u001B[43mslice_domain\u001B[49m\u001B[43m(\u001B[49m\u001B[43mframe\u001B[49m\u001B[43m,\u001B[49m\u001B[43m \u001B[49m\u001B[43mstart\u001B[49m\u001B[38;5;241;43m=\u001B[39;49m\u001B[43m \u001B[49m\u001B[43mregulatory\u001B[49m\u001B[43m[\u001B[49m\u001B[43mname\u001B[49m\u001B[43m]\u001B[49m\u001B[43m[\u001B[49m\u001B[38;5;241;43m0\u001B[39;49m\u001B[43m]\u001B[49m\u001B[43m,\u001B[49m\u001B[43m \u001B[49m\u001B[43mend\u001B[49m\u001B[38;5;241;43m=\u001B[39;49m\u001B[43mregulatory\u001B[49m\u001B[43m[\u001B[49m\u001B[43mname\u001B[49m\u001B[43m]\u001B[49m\u001B[43m[\u001B[49m\u001B[38;5;241;43m1\u001B[39;49m\u001B[43m]\u001B[49m\u001B[43m)\u001B[49m))\n\u001B[0;32m     37\u001B[0m     domain_list \u001B[38;5;241m=\u001B[39m doc\u001B[38;5;241m.\u001B[39mslice_domain(frame, start\u001B[38;5;241m=\u001B[39m regulatory[name][\u001B[38;5;241m0\u001B[39m], end\u001B[38;5;241m=\u001B[39mregulatory[name][\u001B[38;5;241m1\u001B[39m])\n\u001B[0;32m     38\u001B[0m     mean \u001B[38;5;241m=\u001B[39m domain\u001B[38;5;241m.\u001B[39mmean()\u001B[38;5;241m.\u001B[39mrename(\u001B[38;5;124m'\u001B[39m\u001B[38;5;124mmean\u001B[39m\u001B[38;5;124m'\u001B[39m)\n",
      "File \u001B[1;32m~\\Documents\\Uni\\SS_2023\\Bioinfo\\Projekt\\domain_comparison\\domains.py:25\u001B[0m, in \u001B[0;36mslice_domain\u001B[1;34m(dms_data, start, end)\u001B[0m\n\u001B[0;32m     21\u001B[0m \u001B[38;5;250m\u001B[39m\u001B[38;5;124;03m\"\"\"Takes in a Data set in the form of the DataFrames in the DMS_data folder.\u001B[39;00m\n\u001B[0;32m     22\u001B[0m \u001B[38;5;124;03mAlso takes in positions to be sliced as start and end position.\"\"\"\u001B[39;00m\n\u001B[0;32m     24\u001B[0m mutations_df \u001B[38;5;241m=\u001B[39m dc\u001B[38;5;241m.\u001B[39mdf_split(dms_data)\n\u001B[1;32m---> 25\u001B[0m sliced_domains \u001B[38;5;241m=\u001B[39m mutations_df\u001B[38;5;241m.\u001B[39mloc[(\u001B[43mmutations_df\u001B[49m\u001B[43m[\u001B[49m\u001B[38;5;124;43m'\u001B[39;49m\u001B[38;5;124;43mposition_mut\u001B[39;49m\u001B[38;5;124;43m'\u001B[39;49m\u001B[43m]\u001B[49m \u001B[38;5;241m>\u001B[39m\u001B[38;5;241m=\u001B[39m start) \u001B[38;5;241m&\u001B[39m (mutations_df[\u001B[38;5;124m'\u001B[39m\u001B[38;5;124mposition_mut\u001B[39m\u001B[38;5;124m'\u001B[39m] \u001B[38;5;241m<\u001B[39m\u001B[38;5;241m=\u001B[39m end)]\u001B[38;5;241m.\u001B[39mcopy()\n\u001B[0;32m     27\u001B[0m \u001B[38;5;28;01mreturn\u001B[39;00m sliced_domains\n",
      "File \u001B[1;32m~\\Documents\\Uni\\SS_2023\\Bioinfo\\Projekt\\venv\\lib\\site-packages\\pandas\\core\\frame.py:3761\u001B[0m, in \u001B[0;36mDataFrame.__getitem__\u001B[1;34m(self, key)\u001B[0m\n\u001B[0;32m   3759\u001B[0m \u001B[38;5;28;01mif\u001B[39;00m \u001B[38;5;28mself\u001B[39m\u001B[38;5;241m.\u001B[39mcolumns\u001B[38;5;241m.\u001B[39mnlevels \u001B[38;5;241m>\u001B[39m \u001B[38;5;241m1\u001B[39m:\n\u001B[0;32m   3760\u001B[0m     \u001B[38;5;28;01mreturn\u001B[39;00m \u001B[38;5;28mself\u001B[39m\u001B[38;5;241m.\u001B[39m_getitem_multilevel(key)\n\u001B[1;32m-> 3761\u001B[0m indexer \u001B[38;5;241m=\u001B[39m \u001B[38;5;28;43mself\u001B[39;49m\u001B[38;5;241;43m.\u001B[39;49m\u001B[43mcolumns\u001B[49m\u001B[38;5;241;43m.\u001B[39;49m\u001B[43mget_loc\u001B[49m\u001B[43m(\u001B[49m\u001B[43mkey\u001B[49m\u001B[43m)\u001B[49m\n\u001B[0;32m   3762\u001B[0m \u001B[38;5;28;01mif\u001B[39;00m is_integer(indexer):\n\u001B[0;32m   3763\u001B[0m     indexer \u001B[38;5;241m=\u001B[39m [indexer]\n",
      "File \u001B[1;32m~\\Documents\\Uni\\SS_2023\\Bioinfo\\Projekt\\venv\\lib\\site-packages\\pandas\\core\\indexes\\base.py:3654\u001B[0m, in \u001B[0;36mIndex.get_loc\u001B[1;34m(self, key)\u001B[0m\n\u001B[0;32m   3652\u001B[0m     \u001B[38;5;28;01mreturn\u001B[39;00m \u001B[38;5;28mself\u001B[39m\u001B[38;5;241m.\u001B[39m_engine\u001B[38;5;241m.\u001B[39mget_loc(casted_key)\n\u001B[0;32m   3653\u001B[0m \u001B[38;5;28;01mexcept\u001B[39;00m \u001B[38;5;167;01mKeyError\u001B[39;00m \u001B[38;5;28;01mas\u001B[39;00m err:\n\u001B[1;32m-> 3654\u001B[0m     \u001B[38;5;28;01mraise\u001B[39;00m \u001B[38;5;167;01mKeyError\u001B[39;00m(key) \u001B[38;5;28;01mfrom\u001B[39;00m \u001B[38;5;21;01merr\u001B[39;00m\n\u001B[0;32m   3655\u001B[0m \u001B[38;5;28;01mexcept\u001B[39;00m \u001B[38;5;167;01mTypeError\u001B[39;00m:\n\u001B[0;32m   3656\u001B[0m     \u001B[38;5;66;03m# If we have a listlike key, _check_indexing_error will raise\u001B[39;00m\n\u001B[0;32m   3657\u001B[0m     \u001B[38;5;66;03m#  InvalidIndexError. Otherwise we fall through and re-raise\u001B[39;00m\n\u001B[0;32m   3658\u001B[0m     \u001B[38;5;66;03m#  the TypeError.\u001B[39;00m\n\u001B[0;32m   3659\u001B[0m     \u001B[38;5;28mself\u001B[39m\u001B[38;5;241m.\u001B[39m_check_indexing_error(key)\n",
      "\u001B[1;31mKeyError\u001B[0m: 'position_mut'"
     ]
    }
   ],
   "source": [
    "# Saving the different domains for better accessibility\n",
    "\n",
    "#Transactivation Domain 1\n",
    "t1_start = 1\n",
    "t1_end = 43\n",
    "\n",
    "#Transactivation Domain 2\n",
    "t2_start = 44\n",
    "t2_end = 63\n",
    "\n",
    "#Proline-rich Region\n",
    "pr_start = 64\n",
    "pr_end = 92\n",
    "\n",
    "#DNA Binding Domain\n",
    "dna_start = 102\n",
    "dna_end = 292\n",
    "\n",
    "#Tetramerization Domain\n",
    "tetra_start = 320\n",
    "tetra_end = 355\n",
    "\n",
    "#Regulatory Domain\n",
    "reg_start = 356\n",
    "reg_end = 393\n",
    "\n",
    "domains_regulatory: dict = {'t1_domain' : (1, 43),\n",
    "                 't2_domain' : (44, 63),\n",
    "                 'pr_domain' : (64, 92),\n",
    "                 'dna_b_domain' : (102, 292),\n",
    "                 'tetra_domain': (320, 355),\n",
    "                 'reg_domain' : (356, 393)}\n",
    "\n",
    "def adjust_domain(regulatory: dict, name: str, frame: pd.DataFrame) -> dict:\n",
    "\n",
    "    domain = dc.rmv_na(dc.df_transform(doc.slice_domain(frame, start= regulatory[name][0], end=regulatory[name][1])))\n",
    "    domain_list = doc.slice_domain(frame, start= regulatory[name][0], end=regulatory[name][1])\n",
    "    mean = domain.mean().rename('mean')\n",
    "    res: dict = {'domain' : domain, 'domain_list': domain_list, 'mean': mean}\n",
    "    return res\n",
    "\n",
    "\n",
    "\n",
    "t1 = adjust_domain(domains_regulatory, name='t1_domain', frame=df)\n",
    "\n",
    "t1_domain = t1['domain']\n",
    "t1_list = t1['domain_list']\n",
    "t1_mean = t1['mean']\n",
    "\n"
   ]
  },
  {
   "cell_type": "code",
   "execution_count": null,
   "outputs": [],
   "source": [
    "t2_domain = dc.rmv_na(dc.df_transform(doc.slice_domain(df, start= t2_start, end= t2_end)))\n",
    "t2_list = doc.slice_domain(df, start= t2_start, end= t2_end)\n",
    "\n",
    "pr_domain = dc.rmv_na(dc.df_transform(doc.slice_domain(df, start= pr_start, end= pr_end)))\n",
    "pr_list = doc.slice_domain(df, start= pr_start, end= pr_end)\n",
    "\n",
    "dna_domain = dc.rmv_na(dc.df_transform(doc.slice_domain(df, start= dna_start, end= dna_end)))\n",
    "dna_list = doc.slice_domain(df, start= dna_start, end= dna_end)\n",
    "\n",
    "tetra_domain = dc.rmv_na(dc.df_transform(doc.slice_domain(df, start= tetra_start, end= tetra_end)))\n",
    "tetra_list = doc.slice_domain(df, start= tetra_start, end= tetra_end)\n",
    "\n",
    "reg_domain = dc.rmv_na(dc.df_transform(doc.slice_domain(df, start= reg_start, end= reg_end)))\n",
    "reg_list = doc.slice_domain(df, start= reg_start, end= reg_end)\n"
   ],
   "metadata": {
    "collapsed": false
   }
  },
  {
   "cell_type": "markdown",
   "metadata": {},
   "source": [
    "## Mean values"
   ]
  },
  {
   "cell_type": "code",
   "execution_count": null,
   "metadata": {},
   "outputs": [],
   "source": [
    "#t1_mean = t1_domain.mean().rename('mean')\n",
    "\n",
    "t2_mean = t2_domain.mean().rename('mean')\n",
    "\n",
    "pr_mean = pr_domain.mean().rename('mean')\n",
    "\n",
    "dna_mean = dna_domain.mean().rename('mean')\n",
    "\n",
    "tetra_mean = tetra_domain.mean().rename('mean')\n",
    "\n",
    "reg_mean = reg_domain.mean().rename('mean')\n"
   ]
  },
  {
   "cell_type": "markdown",
   "metadata": {},
   "source": [
    "## Distribution and Heatmaps\n",
    "### Transactivation Domain 1"
   ]
  },
  {
   "cell_type": "code",
   "execution_count": null,
   "outputs": [],
   "source": [
    "def distr_and_hmap(domain_reg: dict, domain_name: str) -> None:\n",
    "    dms_scores = domain_reg['domain_list']['DMS_score']\n",
    "    plt.hist(dms_scores, bins=50)\n",
    "    plt.xlabel('DMS Score')\n",
    "    plt.ylabel('Frequency')\n",
    "    plt.title(f'Distribution of DMS Scores in the {domain_name} Domain')\n",
    "    plt.show()\n",
    "\n",
    "    print(f'Mean: {dms_scores.mean()}')\n",
    "    print(f'Median: {dms_scores.median()}')\n",
    "    sns.heatmap(domain_reg['domain'])\n",
    "\n",
    "    return None"
   ],
   "metadata": {
    "collapsed": false
   }
  },
  {
   "cell_type": "code",
   "execution_count": null,
   "outputs": [],
   "source": [
    "distr_and_hmap(t1, 't1')"
   ],
   "metadata": {
    "collapsed": false
   }
  },
  {
   "cell_type": "markdown",
   "metadata": {},
   "source": [
    "### Transactivation Domain 2"
   ]
  },
  {
   "cell_type": "code",
   "execution_count": null,
   "metadata": {},
   "outputs": [],
   "source": [
    "t2 = adjust_domain(domains_regulatory, 't2_domain', df)\n",
    "distr_and_hmap(t2, 'T2')"
   ]
  },
  {
   "cell_type": "markdown",
   "metadata": {},
   "source": [
    "### Proline-rich Region"
   ]
  },
  {
   "cell_type": "code",
   "execution_count": null,
   "metadata": {},
   "outputs": [],
   "source": [
    "pr = adjust_domain(domains_regulatory, 'pr_domain', df)\n",
    "distr_and_hmap(pr, 'Proline-rich Region')"
   ]
  },
  {
   "cell_type": "markdown",
   "metadata": {},
   "source": [
    "### DNA Binding Domain"
   ]
  },
  {
   "cell_type": "code",
   "execution_count": null,
   "metadata": {},
   "outputs": [],
   "source": [
    "dna_b_domain = adjust_domain(domains_regulatory, 'dna_b_domain', df)\n",
    "distr_and_hmap(dna_b_domain, 'DNA Binding')"
   ]
  },
  {
   "cell_type": "markdown",
   "metadata": {},
   "source": [
    "### Tetramerization Domain"
   ]
  },
  {
   "cell_type": "code",
   "execution_count": null,
   "metadata": {},
   "outputs": [],
   "source": [
    "tetra = adjust_domain(domains_regulatory, 'tetra_domain', df)\n",
    "distr_and_hmap(tetra, 'Tetramerisation')"
   ]
  },
  {
   "cell_type": "markdown",
   "metadata": {},
   "source": []
  },
  {
   "cell_type": "markdown",
   "metadata": {},
   "source": [
    "### Regulatory Domain"
   ]
  },
  {
   "cell_type": "code",
   "execution_count": null,
   "metadata": {},
   "outputs": [],
   "source": [
    "reg_domain = adjust_domain(domains_regulatory, 'reg_domain', df)\n",
    "distr_and_hmap(reg_domain, 'Regulatory')"
   ]
  },
  {
   "cell_type": "code",
   "execution_count": null,
   "outputs": [],
   "source": [
    "t1['domain']['DMS_score']"
   ],
   "metadata": {
    "collapsed": false
   }
  },
  {
   "cell_type": "markdown",
   "source": [
    "## Comparing all DMS score distributions"
   ],
   "metadata": {
    "collapsed": false
   }
  },
  {
   "cell_type": "code",
   "execution_count": null,
   "outputs": [],
   "source": [
    "def comp_dms_distr(regulatory: dict, frame) -> None:\n",
    "    regions = [adjust_domain(regulatory, elem, frame)['domain_list']['DMS_score'] for elem in regulatory.keys()]\n",
    "    dms_scores = np.concatenate(regions)\n",
    "\n",
    "    fig, ax = plt.subplots(figsize=(10, 6))\n",
    "\n",
    "    datasets = ['Transactivation domain 1', 'Transactivation domain 2', 'Proline rich region',\n",
    "                'DNA binding domain', 'Tetramerization domain', 'Regulatory domain']\n",
    "    for data, label in zip(regions, datasets):\n",
    "        kde = gaussian_kde(data)\n",
    "        x_vals = np.linspace(np.min(dms_scores), np.max(dms_scores), 1000)\n",
    "        y_vals = kde(x_vals)\n",
    "\n",
    "        ax.plot(x_vals, y_vals, linewidth=2, label=label)\n",
    "\n",
    "    ax.set_xlabel('Value')\n",
    "    ax.set_ylabel('Density')\n",
    "    ax.set_title('Different Domains with only Single Mutation DMS Scores')\n",
    "    ax.legend()\n",
    "\n",
    "    plt.show()\n",
    "    return None"
   ],
   "metadata": {
    "collapsed": false
   }
  },
  {
   "cell_type": "code",
   "execution_count": null,
   "outputs": [],
   "source": [
    "comp_dms_distr(domains_regulatory, df)"
   ],
   "metadata": {
    "collapsed": false
   }
  },
  {
   "cell_type": "code",
   "execution_count": null,
   "outputs": [],
   "source": [],
   "metadata": {
    "collapsed": false
   }
  },
  {
   "cell_type": "markdown",
   "metadata": {},
   "source": [
    "## Standard deviation\n"
   ]
  },
  {
   "cell_type": "code",
   "execution_count": null,
   "metadata": {},
   "outputs": [],
   "source": [
    "t1_std = t1_mean.std()\n",
    "t2_std = t2_mean.std()\n",
    "pr_std = pr_mean.std()\n",
    "dna_std = dna_mean.std()\n",
    "tetra_std = tetra_mean.std()\n",
    "reg_std = reg_mean.std()\n",
    "\n",
    "std_combined = pd.DataFrame({\n",
    "    't1_std': [t1_std],\n",
    "    't2_std': [t2_std],\n",
    "    'pr_std': [pr_std],\n",
    "    'dna_std': [dna_std],\n",
    "    'tetra_std': [tetra_std],\n",
    "    'reg_std': [reg_std]\n",
    "})\n",
    "\n",
    "std_combined"
   ]
  },
  {
   "cell_type": "markdown",
   "metadata": {},
   "source": [
    "## Mean value matrix"
   ]
  },
  {
   "cell_type": "markdown",
   "source": [
    "Creating a matrix showing the mean substitution DMS score for each aminoacid. For further information see the data_exploration folder."
   ],
   "metadata": {
    "collapsed": false
   }
  },
  {
   "cell_type": "code",
   "execution_count": null,
   "metadata": {},
   "outputs": [],
   "source": [
    "sns.heatmap(dc.rmv_na(de.mean_substitutions(t1_list)))"
   ]
  },
  {
   "cell_type": "code",
   "execution_count": null,
   "metadata": {},
   "outputs": [],
   "source": [
    "sns.heatmap(dc.rmv_na(de.mean_substitutions(t2_list)))"
   ]
  },
  {
   "cell_type": "code",
   "execution_count": null,
   "metadata": {},
   "outputs": [],
   "source": [
    "sns.heatmap(dc.rmv_na(de.mean_substitutions(pr_list)))"
   ]
  },
  {
   "cell_type": "code",
   "execution_count": null,
   "metadata": {},
   "outputs": [],
   "source": [
    "sns.heatmap(dc.rmv_na(de.mean_substitutions(dna_list)))"
   ]
  },
  {
   "cell_type": "code",
   "execution_count": null,
   "metadata": {},
   "outputs": [],
   "source": [
    "sns.heatmap(dc.rmv_na(de.mean_substitutions(tetra_list)))"
   ]
  },
  {
   "cell_type": "code",
   "execution_count": null,
   "metadata": {},
   "outputs": [],
   "source": [
    "sns.heatmap(dc.rmv_na(de.mean_substitutions(reg_list)))"
   ]
  },
  {
   "cell_type": "markdown",
   "source": [
    "## Shapiro Wilk test"
   ],
   "metadata": {
    "collapsed": false
   },
   "outputs": [],
   "execution_count": null
  },
  {
   "cell_type": "code",
   "execution_count": null,
   "metadata": {},
   "outputs": [],
   "source": [
    "print('T1 Domain')\n",
    "print(doc.test_normality(t1_list['DMS_score']))\n",
    "\n",
    "print('T2 Domain')\n",
    "print(doc.test_normality(t2_list['DMS_score']))\n",
    "\n",
    "print('PR Domain')\n",
    "print(doc.test_normality(pr_list['DMS_score']))\n",
    "\n",
    "print('DNA Domain')\n",
    "print(doc.test_normality(dna_list['DMS_score']))\n",
    "\n",
    "print('Tetra Domain')\n",
    "print(doc.test_normality(tetra_list['DMS_score']))\n",
    "\n",
    "print('Reg Domain')\n",
    "print(doc.test_normality(reg_list['DMS_score']))"
   ]
  }
 ],
 "metadata": {
  "kernelspec": {
   "display_name": "Python 3 (ipykernel)",
   "language": "python",
   "name": "python3"
  },
  "language_info": {
   "codemirror_mode": {
    "name": "ipython",
    "version": 3
   },
   "file_extension": ".py",
   "mimetype": "text/x-python",
   "name": "python",
   "nbconvert_exporter": "python",
   "pygments_lexer": "ipython3",
   "version": "3.10.11"
  }
 },
 "nbformat": 4,
 "nbformat_minor": 1
}
