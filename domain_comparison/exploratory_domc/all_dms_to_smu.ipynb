{
 "cells": [
  {
   "cell_type": "code",
   "execution_count": null,
   "metadata": {
    "collapsed": true,
    "ExecuteTime": {
     "start_time": "2023-07-16T11:42:16.476343Z",
     "end_time": "2023-07-16T11:42:16.480041Z"
    }
   },
   "outputs": [],
   "source": [
    "import pandas as pd\n",
    "import numpy as np\n",
    "import matplotlib.pyplot as plt\n",
    "from scipy.stats import gaussian_kde\n",
    "import scipy.stats as stats\n",
    "alpha = 0.05"
   ]
  },
  {
   "cell_type": "markdown",
   "source": [
    "# Checking whether the means for each position change significantly"
   ],
   "metadata": {
    "collapsed": false
   }
  },
  {
   "cell_type": "markdown",
   "source": [
    "## T1 Domain"
   ],
   "metadata": {
    "collapsed": false
   }
  },
  {
   "cell_type": "code",
   "execution_count": null,
   "outputs": [],
   "source": [
    "t1_mean_smu = pd.read_csv('../data/t1_mean_smu.csv')\n",
    "t1_mean = pd.read_csv('../data/t1_mean.csv')\n",
    "\n",
    "U_statistic, p_value = stats.mannwhitneyu(t1_mean_smu['mean'], t1_mean['mean'])\n",
    "\n",
    "# printing the results\n",
    "print(\"Mann-Whitney U statistic:\", U_statistic)\n",
    "print(\"p-value:\", p_value)\n",
    "if p_value < alpha :\n",
    "    print ('The two lists of means differ significantly!')\n",
    "else:\n",
    "    print ('The two lists of means do not differ significantly!')"
   ],
   "metadata": {
    "collapsed": false,
    "ExecuteTime": {
     "start_time": "2023-07-16T11:42:28.007250Z",
     "end_time": "2023-07-16T11:42:28.036693Z"
    }
   }
  },
  {
   "cell_type": "markdown",
   "source": [],
   "metadata": {
    "collapsed": false
   }
  },
  {
   "cell_type": "markdown",
   "source": [
    "## T2 Domain"
   ],
   "metadata": {
    "collapsed": false
   }
  },
  {
   "cell_type": "code",
   "execution_count": null,
   "outputs": [],
   "source": [
    "t2_mean_smu = pd.read_csv('./data/t2_mean_smu.csv')\n",
    "t2_mean = pd.read_csv('./data/t2_mean.csv')\n",
    "\n",
    "U_statistic, p_value = stats.mannwhitneyu(t2_mean_smu['mean'], t2_mean['mean'])\n",
    "\n",
    "#printing the results\n",
    "print(\"Mann-Whitney U statistic:\", U_statistic)\n",
    "print(\"p-value:\", p_value)\n",
    "if p_value < alpha:\n",
    "    print('The two lists of means differ significantly!')\n",
    "else:\n",
    "    print('The two lists of means do not differ significantly!')"
   ],
   "metadata": {
    "collapsed": false,
    "ExecuteTime": {
     "start_time": "2023-07-07T19:46:16.997146Z",
     "end_time": "2023-07-07T19:46:17.075684Z"
    }
   }
  },
  {
   "cell_type": "markdown",
   "source": [
    "## PR Domain"
   ],
   "metadata": {
    "collapsed": false
   }
  },
  {
   "cell_type": "code",
   "execution_count": null,
   "outputs": [],
   "source": [
    "pr_mean_smu = pd.read_csv('./data/pr_mean_smu.csv')\n",
    "pr_mean = pd.read_csv('./data/pr_mean.csv')\n",
    "\n",
    "U_statistic, p_value = stats.mannwhitneyu(pr_mean_smu['mean'], pr_mean['mean'])\n",
    "\n",
    "#printing the results\n",
    "print(\"Mann-Whitney U statistic:\", U_statistic)\n",
    "print(\"p-value:\", p_value)\n",
    "if p_value < alpha:\n",
    "    print('The two lists of means differ significantly!')\n",
    "else:\n",
    "    print('The two lists of means do not differ significantly!')"
   ],
   "metadata": {
    "collapsed": false,
    "ExecuteTime": {
     "start_time": "2023-07-07T19:46:17.004029Z",
     "end_time": "2023-07-07T19:46:17.078565Z"
    }
   }
  },
  {
   "cell_type": "markdown",
   "source": [
    "## DNA Domain"
   ],
   "metadata": {
    "collapsed": false
   }
  },
  {
   "cell_type": "code",
   "execution_count": null,
   "outputs": [],
   "source": [
    "dna_mean_smu = pd.read_csv('./data/dna_mean_smu.csv')\n",
    "dna_mean = pd.read_csv('./data/dna_mean.csv')\n",
    "\n",
    "U_statistic, p_value = stats.mannwhitneyu(dna_mean_smu['mean'], dna_mean['mean'])\n",
    "\n",
    "#printing the results\n",
    "print(\"Mann-Whitney U statistic:\", U_statistic)\n",
    "print(\"p-value:\", p_value)\n",
    "if p_value < alpha:\n",
    "    print('The two lists of means differ significantly!')\n",
    "else:\n",
    "    print('The two lists of means do not differ significantly!')"
   ],
   "metadata": {
    "collapsed": false,
    "ExecuteTime": {
     "start_time": "2023-07-07T19:46:17.011628Z",
     "end_time": "2023-07-07T19:46:17.103824Z"
    }
   }
  },
  {
   "cell_type": "markdown",
   "source": [
    "## Tetramerization Domain"
   ],
   "metadata": {
    "collapsed": false
   }
  },
  {
   "cell_type": "code",
   "execution_count": null,
   "outputs": [],
   "source": [
    "tetra_mean_smu = pd.read_csv('./data/tetra_mean_smu.csv')\n",
    "tetra_mean = pd.read_csv('./data/tetra_mean.csv')\n",
    "\n",
    "U_statistic, p_value = stats.mannwhitneyu(tetra_mean_smu['mean'], tetra_mean['mean'])\n",
    "\n",
    "#printing the results\n",
    "print(\"Mann-Whitney U statistic:\", U_statistic)\n",
    "print(\"p-value:\", p_value)\n",
    "if p_value < alpha:\n",
    "    print('The two lists of means differ significantly!')\n",
    "else:\n",
    "    print('The two lists of means do not differ significantly!')"
   ],
   "metadata": {
    "collapsed": false,
    "ExecuteTime": {
     "start_time": "2023-07-07T19:46:17.018202Z",
     "end_time": "2023-07-07T19:46:17.104120Z"
    }
   }
  },
  {
   "cell_type": "markdown",
   "source": [
    "## Regulatory Domain"
   ],
   "metadata": {
    "collapsed": false
   }
  },
  {
   "cell_type": "code",
   "execution_count": null,
   "outputs": [],
   "source": [
    "reg_mean_smu = pd.read_csv('./data/reg_mean_smu.csv')\n",
    "reg_mean = pd.read_csv('./data/reg_mean.csv')\n",
    "\n",
    "U_statistic, p_value = stats.mannwhitneyu(reg_mean_smu['mean'], reg_mean['mean'])\n",
    "\n",
    "#printing the results\n",
    "print(\"Mann-Whitney U statistic:\", U_statistic)\n",
    "print(\"p-value:\", p_value)\n",
    "if p_value < alpha:\n",
    "    print('The two lists of means differ significantly!')\n",
    "else:\n",
    "    print('The two lists of means do not differ significantly!')"
   ],
   "metadata": {
    "collapsed": false,
    "ExecuteTime": {
     "start_time": "2023-07-07T19:46:17.024442Z",
     "end_time": "2023-07-07T19:46:17.104771Z"
    }
   }
  },
  {
   "cell_type": "code",
   "execution_count": null,
   "outputs": [],
   "source": [
    "dms_scores_dna = pd.read_csv('./data/dms_scores_dna.csv')['DMS_score']\n",
    "dms_scores_dna_smu = pd.read_csv('./data/dms_scores_dna_smu.csv')['DMS_score']\n",
    "\n",
    "all_dms_scores = np.concatenate((dms_scores_dna, dms_scores_dna_smu))\n",
    "\n",
    "\n",
    "fig, ax = plt.subplots(figsize=(10, 6))\n",
    "\n",
    "\n",
    "datasets = ['DNA binding domain', 'DNA binding domain with only single mutations']\n",
    "for data, label in zip([dms_scores_dna, dms_scores_dna_smu], datasets):\n",
    "\n",
    "    kde = gaussian_kde(data)\n",
    "    x_vals = np.linspace(np.min(all_dms_scores), np.max(all_dms_scores), 1000)\n",
    "    y_vals = kde(x_vals)\n",
    "\n",
    "\n",
    "    ax.plot(x_vals, y_vals, linewidth=2, label=label)\n",
    "\n",
    "\n",
    "ax.set_xlabel('Value')\n",
    "ax.set_ylabel('Density')\n",
    "ax.set_title('DNA Binding Domain With all DMS scores and single mutations only')\n",
    "ax.legend()\n",
    "\n",
    "plt.show()\n",
    "\n",
    "fig.savefig('./data/all_vs_smu.png', dpi=300)"
   ],
   "metadata": {
    "collapsed": false,
    "ExecuteTime": {
     "start_time": "2023-07-07T19:46:23.288723Z",
     "end_time": "2023-07-07T19:46:23.727604Z"
    }
   }
  },
  {
   "cell_type": "code",
   "execution_count": null,
   "outputs": [],
   "source": [
    "dms_scores_reg = pd.read_csv('./data/dms_scores_reg.csv')['DMS_score']\n",
    "dms_scores_reg_smu = pd.read_csv('./data/dms_scores_reg_smu.csv')['DMS_score']\n",
    "\n",
    "all_dms_scores = np.concatenate((dms_scores_dna, dms_scores_dna_smu))\n",
    "\n",
    "\n",
    "fig, ax = plt.subplots(figsize=(10, 6))\n",
    "\n",
    "datasets = ['Regulatory binding domain', 'Regulatory domain with only single mutations']\n",
    "for data, label in zip([dms_scores_reg, dms_scores_reg_smu], datasets):\n",
    "\n",
    "    kde = gaussian_kde(data)\n",
    "    x_vals = np.linspace(np.min(all_dms_scores), np.max(all_dms_scores), 1000)\n",
    "    y_vals = kde(x_vals)\n",
    "\n",
    "\n",
    "    ax.plot(x_vals, y_vals, linewidth=2, label=label)\n",
    "\n",
    "\n",
    "ax.set_xlabel('Value')\n",
    "ax.set_ylabel('Density')\n",
    "ax.set_title('Fitted curves')\n",
    "ax.legend()\n",
    "\n",
    "\n",
    "plt.show()\n"
   ],
   "metadata": {
    "collapsed": false,
    "ExecuteTime": {
     "start_time": "2023-07-07T19:46:38.307929Z",
     "end_time": "2023-07-07T19:46:38.490198Z"
    }
   }
  },
  {
   "cell_type": "code",
   "execution_count": null,
   "outputs": [],
   "source": [],
   "metadata": {
    "collapsed": false,
    "ExecuteTime": {
     "start_time": "2023-07-07T19:46:18.089513Z",
     "end_time": "2023-07-07T19:46:18.091015Z"
    }
   }
  }
 ],
 "metadata": {
  "kernelspec": {
   "display_name": "Python 3",
   "language": "python",
   "name": "python3"
  },
  "language_info": {
   "codemirror_mode": {
    "name": "ipython",
    "version": 2
   },
   "file_extension": ".py",
   "mimetype": "text/x-python",
   "name": "python",
   "nbconvert_exporter": "python",
   "pygments_lexer": "ipython2",
   "version": "2.7.6"
  }
 },
 "nbformat": 4,
 "nbformat_minor": 0
}
