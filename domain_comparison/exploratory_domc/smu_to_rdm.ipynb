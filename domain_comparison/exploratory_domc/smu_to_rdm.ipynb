{
 "cells": [
  {
   "cell_type": "code",
   "execution_count": null,
   "metadata": {
    "collapsed": true,
    "ExecuteTime": {
     "start_time": "2023-07-17T09:51:35.158674Z",
     "end_time": "2023-07-17T09:51:35.160591Z"
    }
   },
   "outputs": [],
   "source": [
    "import pandas as pd\n",
    "import numpy as np\n",
    "import matplotlib.pyplot as plt\n",
    "from scipy.stats import gaussian_kde\n",
    "import scipy.stats as stats\n",
    "alpha = 0.05"
   ]
  },
  {
   "cell_type": "markdown",
   "source": [
    "### Comparing the effects of taking out random mutations or just single mutations based on the means for each position."
   ],
   "metadata": {
    "collapsed": false
   }
  },
  {
   "cell_type": "markdown",
   "source": [
    "## T1 Domain"
   ],
   "metadata": {
    "collapsed": false
   }
  },
  {
   "cell_type": "code",
   "execution_count": null,
   "outputs": [],
   "source": [
    "t1_mean_rdm = pd.read_csv('../data/t1_mean_rdm.csv')\n",
    "t1_mean_smu = pd.read_csv('../data/t1_mean_smu.csv')\n",
    "\n",
    "U_statistic, p_value = stats.mannwhitneyu(t1_mean_rdm['mean'], t1_mean_smu['mean'])\n",
    "\n",
    "#printing the results\n",
    "print(\"Mann-Whitney U statistic:\", U_statistic)\n",
    "print(\"p-value:\", p_value)\n",
    "if p_value < alpha :\n",
    "    print ('The two lists of means differ significantly!')\n",
    "else:\n",
    "    print ('The two lists of means do not differ significantly!')"
   ],
   "metadata": {
    "collapsed": false,
    "ExecuteTime": {
     "start_time": "2023-07-17T09:51:35.161481Z",
     "end_time": "2023-07-17T09:51:35.169229Z"
    }
   }
  },
  {
   "cell_type": "markdown",
   "source": [],
   "metadata": {
    "collapsed": false
   }
  },
  {
   "cell_type": "markdown",
   "source": [
    "## T2 Domain"
   ],
   "metadata": {
    "collapsed": false
   }
  },
  {
   "cell_type": "markdown",
   "source": [],
   "metadata": {
    "collapsed": false
   }
  },
  {
   "cell_type": "code",
   "execution_count": null,
   "outputs": [],
   "source": [
    "t2_mean_rdm = pd.read_csv('../data/t2_mean_rdm.csv')\n",
    "t2_mean_smu = pd.read_csv('../data/t2_mean_smu.csv')\n",
    "\n",
    "U_statistic, p_value = stats.mannwhitneyu(t2_mean_rdm['mean'], t2_mean_smu['mean'])\n",
    "\n",
    "#printing the results\n",
    "print(\"Mann-Whitney U statistic:\", U_statistic)\n",
    "print(\"p-value:\", p_value)\n",
    "if p_value < alpha:\n",
    "    print('The two lists of means differ significantly!')\n",
    "else:\n",
    "    print('The two lists of means do not differ significantly!')"
   ],
   "metadata": {
    "collapsed": false,
    "ExecuteTime": {
     "start_time": "2023-07-17T09:51:35.170908Z",
     "end_time": "2023-07-17T09:51:35.174598Z"
    }
   }
  },
  {
   "cell_type": "markdown",
   "source": [
    "## PR Domain"
   ],
   "metadata": {
    "collapsed": false
   }
  },
  {
   "cell_type": "code",
   "execution_count": null,
   "outputs": [],
   "source": [
    "pr_mean_rdm = pd.read_csv('../data/pr_mean_rdm.csv')\n",
    "pr_mean_smu = pd.read_csv('../data/pr_mean_smu.csv')\n",
    "\n",
    "U_statistic, p_value = stats.mannwhitneyu(pr_mean_rdm['mean'], pr_mean_smu['mean'])\n",
    "\n",
    "#printing the results\n",
    "print(\"Mann-Whitney U statistic:\", U_statistic)\n",
    "print(\"p-value:\", p_value)\n",
    "if p_value < alpha:\n",
    "    print('The two lists of means differ significantly!')\n",
    "else:\n",
    "    print('The two lists of means do not differ significantly!')"
   ],
   "metadata": {
    "collapsed": false,
    "ExecuteTime": {
     "start_time": "2023-07-17T09:51:35.175513Z",
     "end_time": "2023-07-17T09:51:35.179057Z"
    }
   }
  },
  {
   "cell_type": "markdown",
   "source": [
    "## DNA Domain"
   ],
   "metadata": {
    "collapsed": false
   }
  },
  {
   "cell_type": "code",
   "execution_count": null,
   "outputs": [],
   "source": [
    "dna_mean_rdm = pd.read_csv('../data/dna_mean_rdm.csv')\n",
    "dna_mean_smu = pd.read_csv('../data/dna_mean_smu.csv')\n",
    "\n",
    "U_statistic, p_value = stats.mannwhitneyu(dna_mean_rdm['mean'], dna_mean_smu['mean'])\n",
    "\n",
    "#printing the results\n",
    "print(\"Mann-Whitney U statistic:\", U_statistic)\n",
    "print(\"p-value:\", p_value)\n",
    "if p_value < alpha:\n",
    "    print('The two lists of means differ significantly!')\n",
    "else:\n",
    "    print('The two lists of means do not differ significantly!')"
   ],
   "metadata": {
    "collapsed": false,
    "ExecuteTime": {
     "start_time": "2023-07-17T09:51:35.179999Z",
     "end_time": "2023-07-17T09:51:35.228988Z"
    }
   }
  },
  {
   "cell_type": "markdown",
   "source": [
    "## Tetramerization Domain"
   ],
   "metadata": {
    "collapsed": false
   }
  },
  {
   "cell_type": "code",
   "execution_count": null,
   "outputs": [],
   "source": [
    "tetra_mean_rdm = pd.read_csv('../data/tetra_mean_rdm.csv')\n",
    "tetra_mean_smu = pd.read_csv('../data/tetra_mean_smu.csv')\n",
    "\n",
    "U_statistic, p_value = stats.mannwhitneyu(tetra_mean_rdm['mean'], tetra_mean_smu['mean'])\n",
    "\n",
    "#printing the results\n",
    "print(\"Mann-Whitney U statistic:\", U_statistic)\n",
    "print(\"p-value:\", p_value)\n",
    "if p_value < alpha:\n",
    "    print('The two lists of means differ significantly!')\n",
    "else:\n",
    "    print('The two lists of means do not differ significantly!')"
   ],
   "metadata": {
    "collapsed": false,
    "ExecuteTime": {
     "start_time": "2023-07-17T09:51:35.184045Z",
     "end_time": "2023-07-17T09:51:35.229434Z"
    }
   }
  },
  {
   "cell_type": "markdown",
   "source": [
    "## Regulatory Domain"
   ],
   "metadata": {
    "collapsed": false
   }
  },
  {
   "cell_type": "code",
   "execution_count": null,
   "outputs": [],
   "source": [
    "reg_mean_rdm = pd.read_csv('../data/reg_mean_rdm.csv')\n",
    "reg_mean_smu = pd.read_csv('../data/reg_mean_smu.csv')\n",
    "\n",
    "U_statistic, p_value = stats.mannwhitneyu(reg_mean_rdm['mean'], reg_mean_smu['mean'])\n",
    "\n",
    "#printing the results\n",
    "print(\"Mann-Whitney U statistic:\", U_statistic)\n",
    "print(\"p-value:\", p_value)\n",
    "if p_value < alpha:\n",
    "    print('The two lists of means differ significantly!')\n",
    "else:\n",
    "    print('The two lists of means do not differ significantly!')"
   ],
   "metadata": {
    "collapsed": false,
    "ExecuteTime": {
     "start_time": "2023-07-17T09:51:35.188739Z",
     "end_time": "2023-07-17T09:51:35.229569Z"
    }
   }
  },
  {
   "cell_type": "markdown",
   "source": [
    "## For other datasets"
   ],
   "metadata": {
    "collapsed": false
   }
  },
  {
   "cell_type": "markdown",
   "source": [
    "### T1 Domain"
   ],
   "metadata": {
    "collapsed": false
   }
  },
  {
   "cell_type": "code",
   "execution_count": null,
   "outputs": [],
   "source": [
    "print('giacomelli null nutlin')\n",
    "t1_gnn_rdm = pd.read_csv('../data/t1_gnn_rdm.csv')\n",
    "t1_gnn_smu = pd.read_csv('../data/t1_gnn_smu.csv')\n",
    "\n",
    "U_statistic, p_value = stats.mannwhitneyu(t1_gnn_rdm['mean'], t1_gnn_smu['mean'])\n",
    "\n",
    "# Print the results\n",
    "print(\"Mann-Whitney U statistic:\", U_statistic)\n",
    "print(\"p-value:\", p_value)\n",
    "if p_value < alpha :\n",
    "    print ('The two lists of means differ significantly!')\n",
    "else:\n",
    "    print ('The two lists of means do not differ significantly!')\n",
    "\n",
    "print('GWN')\n",
    "t1_gwn_rdm = pd.read_csv('../data/t1_gwn_rdm.csv')\n",
    "t1_gwn_smu = pd.read_csv('../data/t1_gwn_smu.csv')\n",
    "\n",
    "U_statistic, p_value = stats.mannwhitneyu(t1_gwn_rdm['mean'], t1_gwn_smu['mean'])\n",
    "\n",
    "# Print the results\n",
    "print(\"Mann-Whitney U statistic:\", U_statistic)\n",
    "print(\"p-value:\", p_value)\n",
    "if p_value < alpha :\n",
    "    print ('The two lists of means differ significantly!')\n",
    "else:\n",
    "    print ('The two lists of means do not differ significantly!')"
   ],
   "metadata": {
    "collapsed": false,
    "ExecuteTime": {
     "start_time": "2023-07-17T09:51:35.194132Z",
     "end_time": "2023-07-17T09:51:35.229820Z"
    }
   }
  },
  {
   "cell_type": "markdown",
   "source": [
    "### T2 Domain"
   ],
   "metadata": {
    "collapsed": false
   }
  },
  {
   "cell_type": "code",
   "execution_count": null,
   "outputs": [],
   "source": [
    "print('giacomelli null nutlin')\n",
    "t2_gnn_rdm = pd.read_csv('../data/t2_gnn_rdm.csv')\n",
    "t2_gnn_smu = pd.read_csv('../data/t2_gnn_smu.csv')\n",
    "\n",
    "U_statistic, p_value = stats.mannwhitneyu(t2_gnn_rdm['mean'], t2_gnn_smu['mean'])\n",
    "\n",
    "# Print the results\n",
    "print(\"Mann-Whitney U statistic:\", U_statistic)\n",
    "print(\"p-value:\", p_value)\n",
    "if p_value < alpha :\n",
    "    print ('The two lists of means differ significantly!')\n",
    "else:\n",
    "    print ('The two lists of means do not differ significantly!')\n",
    "\n",
    "print('giacomelli wildtype nutlin')\n",
    "t2_gwn_rdm = pd.read_csv('../data/t2_gwn_rdm.csv')\n",
    "t2_gwn_smu = pd.read_csv('../data/t2_gwn_smu.csv')\n",
    "\n",
    "U_statistic, p_value = stats.mannwhitneyu(t2_gwn_rdm['mean'], t2_gwn_smu['mean'])\n",
    "\n",
    "# Print the results\n",
    "print(\"Mann-Whitney U statistic:\", U_statistic)\n",
    "print(\"p-value:\", p_value)\n",
    "if p_value < alpha :\n",
    "    print ('The two lists of means differ significantly!')\n",
    "else:\n",
    "    print ('The two lists of means do not differ significantly!')"
   ],
   "metadata": {
    "collapsed": false,
    "ExecuteTime": {
     "start_time": "2023-07-17T09:51:35.202474Z",
     "end_time": "2023-07-17T09:51:35.229939Z"
    }
   }
  },
  {
   "cell_type": "markdown",
   "source": [
    "### Proline rich region"
   ],
   "metadata": {
    "collapsed": false
   }
  },
  {
   "cell_type": "code",
   "execution_count": null,
   "outputs": [],
   "source": [
    "print('giacomelli null nutlin')\n",
    "pr_gnn_rdm = pd.read_csv('../data/pr_gnn_rdm.csv')\n",
    "pr_gnn_smu = pd.read_csv('../data/pr_gnn_smu.csv')\n",
    "\n",
    "U_statistic, p_value = stats.mannwhitneyu(pr_gnn_rdm['mean'], pr_gnn_smu['mean'])\n",
    "\n",
    "# Print the results\n",
    "print(\"Mann-Whitney U statistic:\", U_statistic)\n",
    "print(\"p-value:\", p_value)\n",
    "if p_value < alpha :\n",
    "    print ('The two lists of means differ significantly!')\n",
    "else:\n",
    "    print ('The two lists of means do not differ significantly!')\n",
    "\n",
    "print('giacomelli wildtype nutlin')\n",
    "pr_gwn_rdm = pd.read_csv('../data/pr_gwn_rdm.csv')\n",
    "pr_gwn_smu = pd.read_csv('../data/pr_gwn_smu.csv')\n",
    "\n",
    "U_statistic, p_value = stats.mannwhitneyu(pr_gwn_rdm['mean'], pr_gwn_smu['mean'])\n",
    "\n",
    "# Print the results\n",
    "print(\"Mann-Whitney U statistic:\", U_statistic)\n",
    "print(\"p-value:\", p_value)\n",
    "if p_value < alpha :\n",
    "    print ('The two lists of means differ significantly!')\n",
    "else:\n",
    "    print ('The two lists of means do not differ significantly!')"
   ],
   "metadata": {
    "collapsed": false,
    "ExecuteTime": {
     "start_time": "2023-07-17T09:51:35.210668Z",
     "end_time": "2023-07-17T09:51:35.230090Z"
    }
   }
  },
  {
   "cell_type": "markdown",
   "source": [
    "### DNA binding domain"
   ],
   "metadata": {
    "collapsed": false
   }
  },
  {
   "cell_type": "code",
   "execution_count": null,
   "outputs": [],
   "source": [
    "print('giacomelli null nutlin')\n",
    "dna_gnn_rdm = pd.read_csv('../data/dna_gnn_rdm.csv')\n",
    "dna_gnn_smu = pd.read_csv('../data/dna_gnn_smu.csv')\n",
    "\n",
    "U_statistic, p_value = stats.mannwhitneyu(dna_gnn_rdm['mean'], dna_gnn_smu['mean'])\n",
    "\n",
    "# Print the results\n",
    "print(\"Mann-Whitney U statistic:\", U_statistic)\n",
    "print(\"p-value:\", p_value)\n",
    "if p_value < alpha :\n",
    "    print ('The two lists of means differ significantly!')\n",
    "else:\n",
    "    print ('The two lists of means do not differ significantly!')\n",
    "\n",
    "print('giacomelli wildtype nutlin')\n",
    "dna_gwn_rdm = pd.read_csv('../data/dna_gwn_rdm.csv')\n",
    "dna_gwn_smu = pd.read_csv('../data/dna_gwn_smu.csv')\n",
    "\n",
    "U_statistic, p_value = stats.mannwhitneyu(dna_gwn_rdm['mean'], dna_gwn_smu['mean'])\n",
    "\n",
    "# Print the results\n",
    "print(\"Mann-Whitney U statistic:\", U_statistic)\n",
    "print(\"p-value:\", p_value)\n",
    "if p_value < alpha :\n",
    "    print ('The two lists of means differ significantly!')\n",
    "else:\n",
    "    print ('The two lists of means do not differ significantly!')"
   ],
   "metadata": {
    "collapsed": false,
    "ExecuteTime": {
     "start_time": "2023-07-17T09:51:35.218784Z",
     "end_time": "2023-07-17T09:51:35.230163Z"
    }
   }
  },
  {
   "cell_type": "markdown",
   "source": [
    "### tetramerization domain"
   ],
   "metadata": {
    "collapsed": false
   }
  },
  {
   "cell_type": "code",
   "execution_count": null,
   "outputs": [],
   "source": [
    "print('giacomelli null nutlin')\n",
    "tetra_gnn_rdm = pd.read_csv('../data/tetra_gnn_rdm.csv')\n",
    "tetra_gnn_smu = pd.read_csv('../data/tetra_gnn_smu.csv')\n",
    "\n",
    "U_statistic, p_value = stats.mannwhitneyu(tetra_gnn_rdm['mean'], tetra_gnn_smu['mean'])\n",
    "\n",
    "# Print the results\n",
    "print(\"Mann-Whitney U statistic:\", U_statistic)\n",
    "print(\"p-value:\", p_value)\n",
    "if p_value < alpha :\n",
    "    print ('The two lists of means differ significantly!')\n",
    "else:\n",
    "    print ('The two lists of means do not differ significantly!')\n",
    "\n",
    "print('giacomelli wildtype nutlin')\n",
    "tetra_gwn_rdm = pd.read_csv('../data/tetra_gwn_rdm.csv')\n",
    "tetra_gwn_smu = pd.read_csv('../data/tetra_gwn_smu.csv')\n",
    "\n",
    "U_statistic, p_value = stats.mannwhitneyu(tetra_gwn_rdm['mean'], tetra_gwn_smu['mean'])\n",
    "\n",
    "# Print the results\n",
    "print(\"Mann-Whitney U statistic:\", U_statistic)\n",
    "print(\"p-value:\", p_value)\n",
    "if p_value < alpha :\n",
    "    print ('The two lists of means differ significantly!')\n",
    "else:\n",
    "    print ('The two lists of means do not differ significantly!')"
   ],
   "metadata": {
    "collapsed": false,
    "ExecuteTime": {
     "start_time": "2023-07-17T09:51:35.230634Z",
     "end_time": "2023-07-17T09:51:35.241016Z"
    }
   }
  },
  {
   "cell_type": "markdown",
   "source": [
    "### regulatory domain"
   ],
   "metadata": {
    "collapsed": false
   }
  },
  {
   "cell_type": "code",
   "execution_count": null,
   "outputs": [],
   "source": [
    "print('giacomelli null nutlin')\n",
    "reg_gnn_rdm = pd.read_csv('../data/reg_gnn_rdm.csv')\n",
    "reg_gnn_smu = pd.read_csv('../data/reg_gnn_smu.csv')\n",
    "\n",
    "U_statistic, p_value = stats.mannwhitneyu(reg_gnn_rdm['mean'], reg_gnn_smu['mean'])\n",
    "\n",
    "# Print the results\n",
    "print(\"Mann-Whitney U statistic:\", U_statistic)\n",
    "print(\"p-value:\", p_value)\n",
    "if p_value < alpha :\n",
    "    print ('The two lists of means differ significantly!')\n",
    "else:\n",
    "    print ('The two lists of means do not differ significantly!')\n",
    "\n",
    "print('giacomelli wildtype nutlin')\n",
    "reg_gwn_rdm = pd.read_csv('../data/reg_gwn_rdm.csv')\n",
    "reg_gwn_smu = pd.read_csv('../data/reg_gwn_smu.csv')\n",
    "\n",
    "U_statistic, p_value = stats.mannwhitneyu(reg_gwn_rdm['mean'], reg_gwn_smu['mean'])\n",
    "\n",
    "# Print the results\n",
    "print(\"Mann-Whitney U statistic:\", U_statistic)\n",
    "print(\"p-value:\", p_value)\n",
    "if p_value < alpha :\n",
    "    print ('The two lists of means differ significantly!')\n",
    "else:\n",
    "    print ('The two lists of means do not differ significantly!')"
   ],
   "metadata": {
    "collapsed": false,
    "ExecuteTime": {
     "start_time": "2023-07-17T09:51:35.239851Z",
     "end_time": "2023-07-17T09:51:35.246532Z"
    }
   }
  },
  {
   "cell_type": "code",
   "execution_count": null,
   "outputs": [],
   "source": [],
   "metadata": {
    "collapsed": false,
    "ExecuteTime": {
     "start_time": "2023-07-17T09:51:35.246751Z",
     "end_time": "2023-07-17T09:51:35.306194Z"
    }
   }
  }
 ],
 "metadata": {
  "kernelspec": {
   "display_name": "Python 3",
   "language": "python",
   "name": "python3"
  },
  "language_info": {
   "codemirror_mode": {
    "name": "ipython",
    "version": 2
   },
   "file_extension": ".py",
   "mimetype": "text/x-python",
   "name": "python",
   "nbconvert_exporter": "python",
   "pygments_lexer": "ipython2",
   "version": "2.7.6"
  }
 },
 "nbformat": 4,
 "nbformat_minor": 0
}
