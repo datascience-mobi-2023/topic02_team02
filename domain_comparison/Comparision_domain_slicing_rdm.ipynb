{
 "cells": [
  {
   "cell_type": "code",
   "execution_count": 11,
   "metadata": {
    "collapsed": true,
    "ExecuteTime": {
     "start_time": "2023-07-05T23:37:48.738413Z",
     "end_time": "2023-07-05T23:37:48.782056Z"
    }
   },
   "outputs": [],
   "source": [
    "import pandas as pd\n",
    "import numpy as np\n",
    "import matplotlib.pyplot as plt\n",
    "from scipy.stats import gaussian_kde\n",
    "import scipy.stats as stats\n",
    "alpha = 0.05"
   ]
  },
  {
   "cell_type": "markdown",
   "source": [
    "# Checking whether the means for each position change significantly"
   ],
   "metadata": {
    "collapsed": false
   }
  },
  {
   "cell_type": "markdown",
   "source": [
    "## T1 Domain"
   ],
   "metadata": {
    "collapsed": false
   }
  },
  {
   "cell_type": "code",
   "execution_count": 12,
   "outputs": [
    {
     "name": "stdout",
     "output_type": "stream",
     "text": [
      "Mann-Whitney U statistic: 892.0\n",
      "p-value: 0.7822533294199071\n",
      "The two lists of means do not differ significantly!\n"
     ]
    }
   ],
   "source": [
    "t1_mean_rdm = pd.read_csv('./data/t1_mean_rdm.csv')\n",
    "t1_mean = pd.read_csv('./data/t1_mean_smu.csv')\n",
    "\n",
    "U_statistic, p_value = stats.mannwhitneyu(t1_mean_rdm['mean'], t1_mean['mean'])\n",
    "\n",
    "# Print the results\n",
    "print(\"Mann-Whitney U statistic:\", U_statistic)\n",
    "print(\"p-value:\", p_value)\n",
    "if p_value < alpha :\n",
    "    print ('The two lists of means differ significantly!')\n",
    "else:\n",
    "    print ('The two lists of means do not differ significantly!')"
   ],
   "metadata": {
    "collapsed": false,
    "ExecuteTime": {
     "start_time": "2023-07-05T23:37:48.747242Z",
     "end_time": "2023-07-05T23:37:48.802061Z"
    }
   }
  },
  {
   "cell_type": "markdown",
   "source": [],
   "metadata": {
    "collapsed": false
   }
  },
  {
   "cell_type": "markdown",
   "source": [
    "## T2 Domain"
   ],
   "metadata": {
    "collapsed": false
   }
  },
  {
   "cell_type": "markdown",
   "source": [],
   "metadata": {
    "collapsed": false
   }
  },
  {
   "cell_type": "code",
   "execution_count": 13,
   "outputs": [
    {
     "name": "stdout",
     "output_type": "stream",
     "text": [
      "Mann-Whitney U statistic: 192.0\n",
      "p-value: 0.8392322130718609\n",
      "The two lists of means do not differ significantly!\n"
     ]
    }
   ],
   "source": [
    "t2_mean_rdm = pd.read_csv('./data/t2_mean_rdm.csv')\n",
    "t2_mean = pd.read_csv('./data/t2_mean_smu.csv')\n",
    "\n",
    "U_statistic, p_value = stats.mannwhitneyu(t2_mean_rdm['mean'], t2_mean['mean'])\n",
    "\n",
    "#printing the results\n",
    "print(\"Mann-Whitney U statistic:\", U_statistic)\n",
    "print(\"p-value:\", p_value)\n",
    "if p_value < alpha:\n",
    "    print('The two lists of means differ significantly!')\n",
    "else:\n",
    "    print('The two lists of means do not differ significantly!')"
   ],
   "metadata": {
    "collapsed": false,
    "ExecuteTime": {
     "start_time": "2023-07-05T23:37:48.764190Z",
     "end_time": "2023-07-05T23:37:48.802443Z"
    }
   }
  },
  {
   "cell_type": "markdown",
   "source": [
    "## PR Domain"
   ],
   "metadata": {
    "collapsed": false
   }
  },
  {
   "cell_type": "code",
   "execution_count": 14,
   "outputs": [
    {
     "name": "stdout",
     "output_type": "stream",
     "text": [
      "Mann-Whitney U statistic: 327.0\n",
      "p-value: 0.14810130920349837\n",
      "The two lists of means do not differ significantly!\n"
     ]
    }
   ],
   "source": [
    "pr_mean_rdm = pd.read_csv('./data/pr_mean_rdm.csv')\n",
    "pr_mean = pd.read_csv('./data/pr_mean_smu.csv')\n",
    "\n",
    "U_statistic, p_value = stats.mannwhitneyu(pr_mean_rdm['mean'], pr_mean['mean'])\n",
    "\n",
    "#printing the results\n",
    "print(\"Mann-Whitney U statistic:\", U_statistic)\n",
    "print(\"p-value:\", p_value)\n",
    "if p_value < alpha:\n",
    "    print('The two lists of means differ significantly!')\n",
    "else:\n",
    "    print('The two lists of means do not differ significantly!')"
   ],
   "metadata": {
    "collapsed": false,
    "ExecuteTime": {
     "start_time": "2023-07-05T23:37:48.769661Z",
     "end_time": "2023-07-05T23:37:48.802757Z"
    }
   }
  },
  {
   "cell_type": "markdown",
   "source": [
    "## DNA Domain"
   ],
   "metadata": {
    "collapsed": false
   }
  },
  {
   "cell_type": "code",
   "execution_count": 15,
   "outputs": [
    {
     "name": "stdout",
     "output_type": "stream",
     "text": [
      "Mann-Whitney U statistic: 12455.0\n",
      "p-value: 8.267531563124741e-08\n",
      "The two lists of means differ significantly!\n"
     ]
    }
   ],
   "source": [
    "dna_mean_smu = pd.read_csv('./data/dna_mean_rdm.csv')\n",
    "dna_mean = pd.read_csv('./data/dna_mean_smu.csv')\n",
    "\n",
    "U_statistic, p_value = stats.mannwhitneyu(dna_mean_smu['mean'], dna_mean['mean'])\n",
    "\n",
    "#printing the results\n",
    "print(\"Mann-Whitney U statistic:\", U_statistic)\n",
    "print(\"p-value:\", p_value)\n",
    "if p_value < alpha:\n",
    "    print('The two lists of means differ significantly!')\n",
    "else:\n",
    "    print('The two lists of means do not differ significantly!')"
   ],
   "metadata": {
    "collapsed": false,
    "ExecuteTime": {
     "start_time": "2023-07-05T23:37:48.774858Z",
     "end_time": "2023-07-05T23:37:48.803087Z"
    }
   }
  },
  {
   "cell_type": "markdown",
   "source": [
    "## Tetramerization Domain"
   ],
   "metadata": {
    "collapsed": false
   }
  },
  {
   "cell_type": "code",
   "execution_count": 16,
   "outputs": [
    {
     "name": "stdout",
     "output_type": "stream",
     "text": [
      "Mann-Whitney U statistic: 583.0\n",
      "p-value: 0.4675827548318554\n",
      "The two lists of means do not differ significantly!\n"
     ]
    }
   ],
   "source": [
    "tetra_mean_smu = pd.read_csv('./data/tetra_mean_rdm.csv')\n",
    "tetra_mean = pd.read_csv('./data/tetra_mean_smu.csv')\n",
    "\n",
    "U_statistic, p_value = stats.mannwhitneyu(tetra_mean_smu['mean'], tetra_mean['mean'])\n",
    "\n",
    "#printing the results\n",
    "print(\"Mann-Whitney U statistic:\", U_statistic)\n",
    "print(\"p-value:\", p_value)\n",
    "if p_value < alpha:\n",
    "    print('The two lists of means differ significantly!')\n",
    "else:\n",
    "    print('The two lists of means do not differ significantly!')"
   ],
   "metadata": {
    "collapsed": false,
    "ExecuteTime": {
     "start_time": "2023-07-05T23:37:48.781666Z",
     "end_time": "2023-07-05T23:37:48.804204Z"
    }
   }
  },
  {
   "cell_type": "markdown",
   "source": [
    "## Regulatory Domain"
   ],
   "metadata": {
    "collapsed": false
   }
  },
  {
   "cell_type": "code",
   "execution_count": 17,
   "outputs": [
    {
     "name": "stdout",
     "output_type": "stream",
     "text": [
      "Mann-Whitney U statistic: 531.0\n",
      "p-value: 0.04781044009841304\n",
      "The two lists of means differ significantly!\n"
     ]
    }
   ],
   "source": [
    "reg_mean_smu = pd.read_csv('./data/reg_mean_rdm.csv')\n",
    "reg_mean = pd.read_csv('./data/reg_mean_smu.csv')\n",
    "\n",
    "U_statistic, p_value = stats.mannwhitneyu(reg_mean_smu['mean'], reg_mean['mean'])\n",
    "\n",
    "#printing the results\n",
    "print(\"Mann-Whitney U statistic:\", U_statistic)\n",
    "print(\"p-value:\", p_value)\n",
    "if p_value < alpha:\n",
    "    print('The two lists of means differ significantly!')\n",
    "else:\n",
    "    print('The two lists of means do not differ significantly!')"
   ],
   "metadata": {
    "collapsed": false,
    "ExecuteTime": {
     "start_time": "2023-07-05T23:37:48.785722Z",
     "end_time": "2023-07-05T23:37:48.804260Z"
    }
   }
  },
  {
   "cell_type": "code",
   "execution_count": 17,
   "outputs": [],
   "source": [],
   "metadata": {
    "collapsed": false,
    "ExecuteTime": {
     "start_time": "2023-07-05T23:37:48.790292Z",
     "end_time": "2023-07-05T23:37:48.804526Z"
    }
   }
  }
 ],
 "metadata": {
  "kernelspec": {
   "display_name": "Python 3",
   "language": "python",
   "name": "python3"
  },
  "language_info": {
   "codemirror_mode": {
    "name": "ipython",
    "version": 2
   },
   "file_extension": ".py",
   "mimetype": "text/x-python",
   "name": "python",
   "nbconvert_exporter": "python",
   "pygments_lexer": "ipython2",
   "version": "2.7.6"
  }
 },
 "nbformat": 4,
 "nbformat_minor": 0
}
