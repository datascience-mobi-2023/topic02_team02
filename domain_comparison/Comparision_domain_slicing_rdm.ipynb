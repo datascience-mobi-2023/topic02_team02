{
 "cells": [
  {
   "cell_type": "code",
   "execution_count": 79,
   "metadata": {
    "collapsed": true,
    "ExecuteTime": {
     "start_time": "2023-07-06T23:08:23.300645Z",
     "end_time": "2023-07-06T23:08:23.392980Z"
    }
   },
   "outputs": [],
   "source": [
    "import pandas as pd\n",
    "import numpy as np\n",
    "import matplotlib.pyplot as plt\n",
    "from scipy.stats import gaussian_kde\n",
    "import scipy.stats as stats\n",
    "alpha = 0.05\n",
    "import pandas as pd\n",
    "import data_cleanup as dc\n",
    "import domain_comparison as doc\n",
    "import data_exploration as de\n",
    "import seaborn as sns\n",
    "import matplotlib.pyplot as plt\n",
    "import severity_score as ses\n",
    "import numpy as np\n",
    "from scipy.stats import gaussian_kde"
   ]
  },
  {
   "cell_type": "markdown",
   "source": [
    "# Comparing the effects of taking out random mutations or just single mutations"
   ],
   "metadata": {
    "collapsed": false
   }
  },
  {
   "cell_type": "markdown",
   "source": [
    "## T1 Domain"
   ],
   "metadata": {
    "collapsed": false
   }
  },
  {
   "cell_type": "code",
   "execution_count": 80,
   "outputs": [
    {
     "name": "stdout",
     "output_type": "stream",
     "text": [
      "Mann-Whitney U statistic: 892.0\n",
      "p-value: 0.7822533294199071\n",
      "The two lists of means do not differ significantly!\n"
     ]
    }
   ],
   "source": [
    "t1_mean_rdm = pd.read_csv('./data/t1_mean_rdm.csv')\n",
    "t1_mean_smu = pd.read_csv('./data/t1_mean_smu.csv')\n",
    "\n",
    "U_statistic, p_value = stats.mannwhitneyu(t1_mean_rdm['mean'], t1_mean_smu['mean'])\n",
    "\n",
    "# Print the results\n",
    "print(\"Mann-Whitney U statistic:\", U_statistic)\n",
    "print(\"p-value:\", p_value)\n",
    "if p_value < alpha :\n",
    "    print ('The two lists of means differ significantly!')\n",
    "else:\n",
    "    print ('The two lists of means do not differ significantly!')"
   ],
   "metadata": {
    "collapsed": false,
    "ExecuteTime": {
     "start_time": "2023-07-06T23:08:23.302723Z",
     "end_time": "2023-07-06T23:08:23.397991Z"
    }
   }
  },
  {
   "cell_type": "markdown",
   "source": [],
   "metadata": {
    "collapsed": false
   }
  },
  {
   "cell_type": "markdown",
   "source": [
    "## T2 Domain"
   ],
   "metadata": {
    "collapsed": false
   }
  },
  {
   "cell_type": "markdown",
   "source": [],
   "metadata": {
    "collapsed": false
   }
  },
  {
   "cell_type": "code",
   "execution_count": 81,
   "outputs": [
    {
     "name": "stdout",
     "output_type": "stream",
     "text": [
      "Mann-Whitney U statistic: 192.0\n",
      "p-value: 0.8392322130718609\n",
      "The two lists of means do not differ significantly!\n"
     ]
    }
   ],
   "source": [
    "t2_mean_rdm = pd.read_csv('./data/t2_mean_rdm.csv')\n",
    "t2_mean_smu = pd.read_csv('./data/t2_mean_smu.csv')\n",
    "\n",
    "U_statistic, p_value = stats.mannwhitneyu(t2_mean_rdm['mean'], t2_mean_smu['mean'])\n",
    "\n",
    "#printing the results\n",
    "print(\"Mann-Whitney U statistic:\", U_statistic)\n",
    "print(\"p-value:\", p_value)\n",
    "if p_value < alpha:\n",
    "    print('The two lists of means differ significantly!')\n",
    "else:\n",
    "    print('The two lists of means do not differ significantly!')"
   ],
   "metadata": {
    "collapsed": false,
    "ExecuteTime": {
     "start_time": "2023-07-06T23:08:23.331469Z",
     "end_time": "2023-07-06T23:08:23.399856Z"
    }
   }
  },
  {
   "cell_type": "markdown",
   "source": [
    "## PR Domain"
   ],
   "metadata": {
    "collapsed": false
   }
  },
  {
   "cell_type": "code",
   "execution_count": 82,
   "outputs": [
    {
     "name": "stdout",
     "output_type": "stream",
     "text": [
      "Mann-Whitney U statistic: 327.0\n",
      "p-value: 0.14810130920349837\n",
      "The two lists of means do not differ significantly!\n"
     ]
    }
   ],
   "source": [
    "pr_mean_rdm = pd.read_csv('./data/pr_mean_rdm.csv')\n",
    "pr_mean_smu = pd.read_csv('./data/pr_mean_smu.csv')\n",
    "\n",
    "U_statistic, p_value = stats.mannwhitneyu(pr_mean_rdm['mean'], pr_mean_smu['mean'])\n",
    "\n",
    "#printing the results\n",
    "print(\"Mann-Whitney U statistic:\", U_statistic)\n",
    "print(\"p-value:\", p_value)\n",
    "if p_value < alpha:\n",
    "    print('The two lists of means differ significantly!')\n",
    "else:\n",
    "    print('The two lists of means do not differ significantly!')"
   ],
   "metadata": {
    "collapsed": false,
    "ExecuteTime": {
     "start_time": "2023-07-06T23:08:23.337001Z",
     "end_time": "2023-07-06T23:08:23.400915Z"
    }
   }
  },
  {
   "cell_type": "markdown",
   "source": [
    "## DNA Domain"
   ],
   "metadata": {
    "collapsed": false
   }
  },
  {
   "cell_type": "code",
   "execution_count": 83,
   "outputs": [
    {
     "name": "stdout",
     "output_type": "stream",
     "text": [
      "Mann-Whitney U statistic: 12455.0\n",
      "p-value: 8.267531563124741e-08\n",
      "The two lists of means differ significantly!\n"
     ]
    }
   ],
   "source": [
    "dna_mean_rdm = pd.read_csv('./data/dna_mean_rdm.csv')\n",
    "dna_mean_smu = pd.read_csv('./data/dna_mean_smu.csv')\n",
    "\n",
    "U_statistic, p_value = stats.mannwhitneyu(dna_mean_rdm['mean'], dna_mean_smu['mean'])\n",
    "\n",
    "#printing the results\n",
    "print(\"Mann-Whitney U statistic:\", U_statistic)\n",
    "print(\"p-value:\", p_value)\n",
    "if p_value < alpha:\n",
    "    print('The two lists of means differ significantly!')\n",
    "else:\n",
    "    print('The two lists of means do not differ significantly!')"
   ],
   "metadata": {
    "collapsed": false,
    "ExecuteTime": {
     "start_time": "2023-07-06T23:08:23.343176Z",
     "end_time": "2023-07-06T23:08:23.406638Z"
    }
   }
  },
  {
   "cell_type": "markdown",
   "source": [
    "## Tetramerization Domain"
   ],
   "metadata": {
    "collapsed": false
   }
  },
  {
   "cell_type": "code",
   "execution_count": 84,
   "outputs": [
    {
     "name": "stdout",
     "output_type": "stream",
     "text": [
      "Mann-Whitney U statistic: 583.0\n",
      "p-value: 0.4675827548318554\n",
      "The two lists of means do not differ significantly!\n"
     ]
    }
   ],
   "source": [
    "tetra_mean_rdm = pd.read_csv('./data/tetra_mean_rdm.csv')\n",
    "tetra_mean_smu = pd.read_csv('./data/tetra_mean_smu.csv')\n",
    "\n",
    "U_statistic, p_value = stats.mannwhitneyu(tetra_mean_rdm['mean'], tetra_mean_smu['mean'])\n",
    "\n",
    "#printing the results\n",
    "print(\"Mann-Whitney U statistic:\", U_statistic)\n",
    "print(\"p-value:\", p_value)\n",
    "if p_value < alpha:\n",
    "    print('The two lists of means differ significantly!')\n",
    "else:\n",
    "    print('The two lists of means do not differ significantly!')"
   ],
   "metadata": {
    "collapsed": false,
    "ExecuteTime": {
     "start_time": "2023-07-06T23:08:23.348569Z",
     "end_time": "2023-07-06T23:08:23.408446Z"
    }
   }
  },
  {
   "cell_type": "markdown",
   "source": [
    "## Regulatory Domain"
   ],
   "metadata": {
    "collapsed": false
   }
  },
  {
   "cell_type": "code",
   "execution_count": 85,
   "outputs": [
    {
     "name": "stdout",
     "output_type": "stream",
     "text": [
      "Mann-Whitney U statistic: 531.0\n",
      "p-value: 0.04781044009841304\n",
      "The two lists of means differ significantly!\n"
     ]
    }
   ],
   "source": [
    "reg_mean_rdm = pd.read_csv('./data/reg_mean_rdm.csv')\n",
    "reg_mean_smu = pd.read_csv('./data/reg_mean_smu.csv')\n",
    "\n",
    "U_statistic, p_value = stats.mannwhitneyu(reg_mean_rdm['mean'], reg_mean_smu['mean'])\n",
    "\n",
    "#printing the results\n",
    "print(\"Mann-Whitney U statistic:\", U_statistic)\n",
    "print(\"p-value:\", p_value)\n",
    "if p_value < alpha:\n",
    "    print('The two lists of means differ significantly!')\n",
    "else:\n",
    "    print('The two lists of means do not differ significantly!')"
   ],
   "metadata": {
    "collapsed": false,
    "ExecuteTime": {
     "start_time": "2023-07-06T23:08:23.352627Z",
     "end_time": "2023-07-06T23:08:23.408770Z"
    }
   }
  },
  {
   "cell_type": "markdown",
   "source": [
    "## For other datasets"
   ],
   "metadata": {
    "collapsed": false
   }
  },
  {
   "cell_type": "markdown",
   "source": [
    "### T1 Domain"
   ],
   "metadata": {
    "collapsed": false
   }
  },
  {
   "cell_type": "code",
   "execution_count": 86,
   "outputs": [
    {
     "name": "stdout",
     "output_type": "stream",
     "text": [
      "GNN\n",
      "Mann-Whitney U statistic: 1813.0\n",
      "p-value: 1.7246722571142915e-14\n",
      "The two lists of means differ significantly!\n",
      "GWN\n",
      "Mann-Whitney U statistic: 1312.0\n",
      "p-value: 0.00032983852077799353\n",
      "The two lists of means differ significantly!\n"
     ]
    }
   ],
   "source": [
    "print('GNN')\n",
    "t1_gnn_rdm = pd.read_csv('./data/t1_gnn_rdm.csv')\n",
    "t1_gnn_smu = pd.read_csv('./data/t1_gnn_smu.csv')\n",
    "\n",
    "U_statistic, p_value = stats.mannwhitneyu(t1_gnn_rdm['mean'], t1_gnn_smu['mean'])\n",
    "\n",
    "# Print the results\n",
    "print(\"Mann-Whitney U statistic:\", U_statistic)\n",
    "print(\"p-value:\", p_value)\n",
    "if p_value < alpha :\n",
    "    print ('The two lists of means differ significantly!')\n",
    "else:\n",
    "    print ('The two lists of means do not differ significantly!')\n",
    "\n",
    "print('GWN')\n",
    "t1_gwn_rdm = pd.read_csv('./data/t1_gwn_rdm.csv')\n",
    "t1_gwn_smu = pd.read_csv('./data/t1_gwn_smu.csv')\n",
    "\n",
    "U_statistic, p_value = stats.mannwhitneyu(t1_gwn_rdm['mean'], t1_gwn_smu['mean'])\n",
    "\n",
    "# Print the results\n",
    "print(\"Mann-Whitney U statistic:\", U_statistic)\n",
    "print(\"p-value:\", p_value)\n",
    "if p_value < alpha :\n",
    "    print ('The two lists of means differ significantly!')\n",
    "else:\n",
    "    print ('The two lists of means do not differ significantly!')"
   ],
   "metadata": {
    "collapsed": false,
    "ExecuteTime": {
     "start_time": "2023-07-06T23:08:23.358800Z",
     "end_time": "2023-07-06T23:08:23.408823Z"
    }
   }
  },
  {
   "cell_type": "markdown",
   "source": [
    "### T2 Domain"
   ],
   "metadata": {
    "collapsed": false
   }
  },
  {
   "cell_type": "code",
   "execution_count": 87,
   "outputs": [
    {
     "name": "stdout",
     "output_type": "stream",
     "text": [
      "GNN\n",
      "Mann-Whitney U statistic: 396.0\n",
      "p-value: 1.2346350154956704e-07\n",
      "The two lists of means differ significantly!\n",
      "GWN\n",
      "Mann-Whitney U statistic: 342.0\n",
      "p-value: 2.0738992298297693e-05\n",
      "The two lists of means differ significantly!\n"
     ]
    }
   ],
   "source": [
    "print('GNN')\n",
    "t2_gnn_rdm = pd.read_csv('./data/t2_gnn_rdm.csv')\n",
    "t2_gnn_smu = pd.read_csv('./data/t2_gnn_smu.csv')\n",
    "\n",
    "U_statistic, p_value = stats.mannwhitneyu(t2_gnn_rdm['mean'], t2_gnn_smu['mean'])\n",
    "\n",
    "# Print the results\n",
    "print(\"Mann-Whitney U statistic:\", U_statistic)\n",
    "print(\"p-value:\", p_value)\n",
    "if p_value < alpha :\n",
    "    print ('The two lists of means differ significantly!')\n",
    "else:\n",
    "    print ('The two lists of means do not differ significantly!')\n",
    "\n",
    "print('GWN')\n",
    "t2_gwn_rdm = pd.read_csv('./data/t2_gwn_rdm.csv')\n",
    "t2_gwn_smu = pd.read_csv('./data/t2_gwn_smu.csv')\n",
    "\n",
    "U_statistic, p_value = stats.mannwhitneyu(t2_gwn_rdm['mean'], t2_gwn_smu['mean'])\n",
    "\n",
    "# Print the results\n",
    "print(\"Mann-Whitney U statistic:\", U_statistic)\n",
    "print(\"p-value:\", p_value)\n",
    "if p_value < alpha :\n",
    "    print ('The two lists of means differ significantly!')\n",
    "else:\n",
    "    print ('The two lists of means do not differ significantly!')"
   ],
   "metadata": {
    "collapsed": false,
    "ExecuteTime": {
     "start_time": "2023-07-06T23:08:23.366797Z",
     "end_time": "2023-07-06T23:08:23.409022Z"
    }
   }
  },
  {
   "cell_type": "markdown",
   "source": [
    "### Proline rich region"
   ],
   "metadata": {
    "collapsed": false
   }
  },
  {
   "cell_type": "code",
   "execution_count": 88,
   "outputs": [
    {
     "name": "stdout",
     "output_type": "stream",
     "text": [
      "GNN\n",
      "Mann-Whitney U statistic: 783.0\n",
      "p-value: 1.4424242043992082e-10\n",
      "The two lists of means differ significantly!\n",
      "GWN\n",
      "Mann-Whitney U statistic: 724.0\n",
      "p-value: 5.2125540479975956e-08\n",
      "The two lists of means differ significantly!\n"
     ]
    }
   ],
   "source": [
    "print('GNN')\n",
    "pr_gnn_rdm = pd.read_csv('./data/pr_gnn_rdm.csv')\n",
    "pr_gnn_smu = pd.read_csv('./data/pr_gnn_smu.csv')\n",
    "\n",
    "U_statistic, p_value = stats.mannwhitneyu(pr_gnn_rdm['mean'], pr_gnn_smu['mean'])\n",
    "\n",
    "# Print the results\n",
    "print(\"Mann-Whitney U statistic:\", U_statistic)\n",
    "print(\"p-value:\", p_value)\n",
    "if p_value < alpha :\n",
    "    print ('The two lists of means differ significantly!')\n",
    "else:\n",
    "    print ('The two lists of means do not differ significantly!')\n",
    "\n",
    "print('GWN')\n",
    "pr_gwn_rdm = pd.read_csv('./data/pr_gwn_rdm.csv')\n",
    "pr_gwn_smu = pd.read_csv('./data/pr_gwn_smu.csv')\n",
    "\n",
    "U_statistic, p_value = stats.mannwhitneyu(pr_gwn_rdm['mean'], pr_gwn_smu['mean'])\n",
    "\n",
    "# Print the results\n",
    "print(\"Mann-Whitney U statistic:\", U_statistic)\n",
    "print(\"p-value:\", p_value)\n",
    "if p_value < alpha :\n",
    "    print ('The two lists of means differ significantly!')\n",
    "else:\n",
    "    print ('The two lists of means do not differ significantly!')"
   ],
   "metadata": {
    "collapsed": false,
    "ExecuteTime": {
     "start_time": "2023-07-06T23:08:23.373575Z",
     "end_time": "2023-07-06T23:08:23.409079Z"
    }
   }
  },
  {
   "cell_type": "markdown",
   "source": [
    "### DNA binding domain"
   ],
   "metadata": {
    "collapsed": false
   }
  },
  {
   "cell_type": "code",
   "execution_count": 89,
   "outputs": [
    {
     "name": "stdout",
     "output_type": "stream",
     "text": [
      "GNN\n",
      "Mann-Whitney U statistic: 19678.0\n",
      "p-value: 0.15391913242230018\n",
      "The two lists of means do not differ significantly!\n",
      "GWN\n",
      "Mann-Whitney U statistic: 18643.0\n",
      "p-value: 0.5796439002699463\n",
      "The two lists of means do not differ significantly!\n"
     ]
    }
   ],
   "source": [
    "print('GNN')\n",
    "dna_gnn_rdm = pd.read_csv('./data/dna_gnn_rdm.csv')\n",
    "dna_gnn_smu = pd.read_csv('./data/dna_gnn_smu.csv')\n",
    "\n",
    "U_statistic, p_value = stats.mannwhitneyu(dna_gnn_rdm['mean'], dna_gnn_smu['mean'])\n",
    "\n",
    "# Print the results\n",
    "print(\"Mann-Whitney U statistic:\", U_statistic)\n",
    "print(\"p-value:\", p_value)\n",
    "if p_value < alpha :\n",
    "    print ('The two lists of means differ significantly!')\n",
    "else:\n",
    "    print ('The two lists of means do not differ significantly!')\n",
    "\n",
    "print('GWN')\n",
    "dna_gwn_rdm = pd.read_csv('./data/dna_gwn_rdm.csv')\n",
    "dna_gwn_smu = pd.read_csv('./data/dna_gwn_smu.csv')\n",
    "\n",
    "U_statistic, p_value = stats.mannwhitneyu(dna_gwn_rdm['mean'], dna_gwn_smu['mean'])\n",
    "\n",
    "# Print the results\n",
    "print(\"Mann-Whitney U statistic:\", U_statistic)\n",
    "print(\"p-value:\", p_value)\n",
    "if p_value < alpha :\n",
    "    print ('The two lists of means differ significantly!')\n",
    "else:\n",
    "    print ('The two lists of means do not differ significantly!')"
   ],
   "metadata": {
    "collapsed": false,
    "ExecuteTime": {
     "start_time": "2023-07-06T23:08:23.387501Z",
     "end_time": "2023-07-06T23:08:23.409409Z"
    }
   }
  },
  {
   "cell_type": "markdown",
   "source": [
    "### tetramerization domain"
   ],
   "metadata": {
    "collapsed": false
   }
  },
  {
   "cell_type": "code",
   "execution_count": 90,
   "outputs": [
    {
     "name": "stdout",
     "output_type": "stream",
     "text": [
      "GNN\n",
      "Mann-Whitney U statistic: 1296.0\n",
      "p-value: 3.0463409828899006e-13\n",
      "The two lists of means differ significantly!\n",
      "GWN\n",
      "Mann-Whitney U statistic: 1044.0\n",
      "p-value: 8.419262842079743e-06\n",
      "The two lists of means differ significantly!\n"
     ]
    }
   ],
   "source": [
    "print('GNN')\n",
    "tetra_gnn_rdm = pd.read_csv('./data/tetra_gnn_rdm.csv')\n",
    "tetra_gnn_smu = pd.read_csv('./data/tetra_gnn_smu.csv')\n",
    "\n",
    "U_statistic, p_value = stats.mannwhitneyu(tetra_gnn_rdm['mean'], tetra_gnn_smu['mean'])\n",
    "\n",
    "# Print the results\n",
    "print(\"Mann-Whitney U statistic:\", U_statistic)\n",
    "print(\"p-value:\", p_value)\n",
    "if p_value < alpha :\n",
    "    print ('The two lists of means differ significantly!')\n",
    "else:\n",
    "    print ('The two lists of means do not differ significantly!')\n",
    "\n",
    "print('GWN')\n",
    "tetra_gwn_rdm = pd.read_csv('./data/tetra_gwn_rdm.csv')\n",
    "tetra_gwn_smu = pd.read_csv('./data/tetra_gwn_smu.csv')\n",
    "\n",
    "U_statistic, p_value = stats.mannwhitneyu(tetra_gwn_rdm['mean'], tetra_gwn_smu['mean'])\n",
    "\n",
    "# Print the results\n",
    "print(\"Mann-Whitney U statistic:\", U_statistic)\n",
    "print(\"p-value:\", p_value)\n",
    "if p_value < alpha :\n",
    "    print ('The two lists of means differ significantly!')\n",
    "else:\n",
    "    print ('The two lists of means do not differ significantly!')"
   ],
   "metadata": {
    "collapsed": false,
    "ExecuteTime": {
     "start_time": "2023-07-06T23:08:23.390366Z",
     "end_time": "2023-07-06T23:08:23.409478Z"
    }
   }
  },
  {
   "cell_type": "markdown",
   "source": [
    "### regulatory domain"
   ],
   "metadata": {
    "collapsed": false
   }
  },
  {
   "cell_type": "code",
   "execution_count": 91,
   "outputs": [
    {
     "name": "stdout",
     "output_type": "stream",
     "text": [
      "GNN\n",
      "Mann-Whitney U statistic: 1119.0\n",
      "p-value: 3.803156211785148e-05\n",
      "The two lists of means differ significantly!\n",
      "GWN\n",
      "Mann-Whitney U statistic: 1309.0\n",
      "p-value: 1.108286158424074e-09\n",
      "The two lists of means differ significantly!\n"
     ]
    }
   ],
   "source": [
    "print('GNN')\n",
    "reg_gnn_rdm = pd.read_csv('./data/reg_gnn_rdm.csv')\n",
    "reg_gnn_smu = pd.read_csv('./data/reg_gnn_smu.csv')\n",
    "\n",
    "U_statistic, p_value = stats.mannwhitneyu(reg_gnn_rdm['mean'], reg_gnn_smu['mean'])\n",
    "\n",
    "# Print the results\n",
    "print(\"Mann-Whitney U statistic:\", U_statistic)\n",
    "print(\"p-value:\", p_value)\n",
    "if p_value < alpha :\n",
    "    print ('The two lists of means differ significantly!')\n",
    "else:\n",
    "    print ('The two lists of means do not differ significantly!')\n",
    "\n",
    "print('GWN')\n",
    "reg_gwn_rdm = pd.read_csv('./data/reg_gwn_rdm.csv')\n",
    "reg_gwn_smu = pd.read_csv('./data/reg_gwn_smu.csv')\n",
    "\n",
    "U_statistic, p_value = stats.mannwhitneyu(reg_gwn_rdm['mean'], reg_gwn_smu['mean'])\n",
    "\n",
    "# Print the results\n",
    "print(\"Mann-Whitney U statistic:\", U_statistic)\n",
    "print(\"p-value:\", p_value)\n",
    "if p_value < alpha :\n",
    "    print ('The two lists of means differ significantly!')\n",
    "else:\n",
    "    print ('The two lists of means do not differ significantly!')"
   ],
   "metadata": {
    "collapsed": false,
    "ExecuteTime": {
     "start_time": "2023-07-06T23:08:23.397755Z",
     "end_time": "2023-07-06T23:08:23.409561Z"
    }
   }
  },
  {
   "cell_type": "code",
   "execution_count": 91,
   "outputs": [],
   "source": [],
   "metadata": {
    "collapsed": false,
    "ExecuteTime": {
     "start_time": "2023-07-06T23:08:23.404306Z",
     "end_time": "2023-07-06T23:08:23.409592Z"
    }
   }
  }
 ],
 "metadata": {
  "kernelspec": {
   "display_name": "Python 3",
   "language": "python",
   "name": "python3"
  },
  "language_info": {
   "codemirror_mode": {
    "name": "ipython",
    "version": 2
   },
   "file_extension": ".py",
   "mimetype": "text/x-python",
   "name": "python",
   "nbconvert_exporter": "python",
   "pygments_lexer": "ipython2",
   "version": "2.7.6"
  }
 },
 "nbformat": 4,
 "nbformat_minor": 0
}
