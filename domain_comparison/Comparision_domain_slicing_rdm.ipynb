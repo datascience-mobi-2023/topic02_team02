{
 "cells": [
  {
   "cell_type": "code",
   "execution_count": 50,
   "metadata": {
    "collapsed": true,
    "ExecuteTime": {
     "start_time": "2023-07-06T22:17:41.094337Z",
     "end_time": "2023-07-06T22:17:41.143524Z"
    }
   },
   "outputs": [],
   "source": [
    "import pandas as pd\n",
    "import numpy as np\n",
    "import matplotlib.pyplot as plt\n",
    "from scipy.stats import gaussian_kde\n",
    "import scipy.stats as stats\n",
    "alpha = 0.05\n",
    "import pandas as pd\n",
    "import data_cleanup as dc\n",
    "import domain_comparison as doc\n",
    "import data_exploration as de\n",
    "import seaborn as sns\n",
    "import matplotlib.pyplot as plt\n",
    "import severity_score as ses\n",
    "import numpy as np\n",
    "from scipy.stats import gaussian_kde"
   ]
  },
  {
   "cell_type": "markdown",
   "source": [
    "# Comparing the effects of taking out random mutations or just single mutations"
   ],
   "metadata": {
    "collapsed": false
   }
  },
  {
   "cell_type": "markdown",
   "source": [
    "## T1 Domain"
   ],
   "metadata": {
    "collapsed": false
   }
  },
  {
   "cell_type": "code",
   "execution_count": 51,
   "outputs": [
    {
     "name": "stdout",
     "output_type": "stream",
     "text": [
      "Mann-Whitney U statistic: 892.0\n",
      "p-value: 0.7822533294199071\n",
      "The two lists of means do not differ significantly!\n"
     ]
    }
   ],
   "source": [
    "t1_mean_rdm = pd.read_csv('./data/t1_mean_rdm.csv')\n",
    "t1_mean_smu = pd.read_csv('./data/t1_mean_smu.csv')\n",
    "\n",
    "U_statistic, p_value = stats.mannwhitneyu(t1_mean_rdm['mean'], t1_mean_smu['mean'])\n",
    "\n",
    "# Print the results\n",
    "print(\"Mann-Whitney U statistic:\", U_statistic)\n",
    "print(\"p-value:\", p_value)\n",
    "if p_value < alpha :\n",
    "    print ('The two lists of means differ significantly!')\n",
    "else:\n",
    "    print ('The two lists of means do not differ significantly!')"
   ],
   "metadata": {
    "collapsed": false,
    "ExecuteTime": {
     "start_time": "2023-07-06T22:17:41.100501Z",
     "end_time": "2023-07-06T22:17:41.163883Z"
    }
   }
  },
  {
   "cell_type": "markdown",
   "source": [],
   "metadata": {
    "collapsed": false
   }
  },
  {
   "cell_type": "markdown",
   "source": [
    "## T2 Domain"
   ],
   "metadata": {
    "collapsed": false
   }
  },
  {
   "cell_type": "markdown",
   "source": [],
   "metadata": {
    "collapsed": false
   }
  },
  {
   "cell_type": "code",
   "execution_count": 52,
   "outputs": [
    {
     "name": "stdout",
     "output_type": "stream",
     "text": [
      "Mann-Whitney U statistic: 192.0\n",
      "p-value: 0.8392322130718609\n",
      "The two lists of means do not differ significantly!\n"
     ]
    }
   ],
   "source": [
    "t2_mean_rdm = pd.read_csv('./data/t2_mean_rdm.csv')\n",
    "t2_mean_smu = pd.read_csv('./data/t2_mean_smu.csv')\n",
    "\n",
    "U_statistic, p_value = stats.mannwhitneyu(t2_mean_rdm['mean'], t2_mean_smu['mean'])\n",
    "\n",
    "#printing the results\n",
    "print(\"Mann-Whitney U statistic:\", U_statistic)\n",
    "print(\"p-value:\", p_value)\n",
    "if p_value < alpha:\n",
    "    print('The two lists of means differ significantly!')\n",
    "else:\n",
    "    print('The two lists of means do not differ significantly!')"
   ],
   "metadata": {
    "collapsed": false,
    "ExecuteTime": {
     "start_time": "2023-07-06T22:17:41.114160Z",
     "end_time": "2023-07-06T22:17:41.164436Z"
    }
   }
  },
  {
   "cell_type": "markdown",
   "source": [
    "## PR Domain"
   ],
   "metadata": {
    "collapsed": false
   }
  },
  {
   "cell_type": "code",
   "execution_count": 53,
   "outputs": [
    {
     "name": "stdout",
     "output_type": "stream",
     "text": [
      "Mann-Whitney U statistic: 327.0\n",
      "p-value: 0.14810130920349837\n",
      "The two lists of means do not differ significantly!\n"
     ]
    }
   ],
   "source": [
    "pr_mean_rdm = pd.read_csv('./data/pr_mean_rdm.csv')\n",
    "pr_mean_smu = pd.read_csv('./data/pr_mean_smu.csv')\n",
    "\n",
    "U_statistic, p_value = stats.mannwhitneyu(pr_mean_rdm['mean'], pr_mean_smu['mean'])\n",
    "\n",
    "#printing the results\n",
    "print(\"Mann-Whitney U statistic:\", U_statistic)\n",
    "print(\"p-value:\", p_value)\n",
    "if p_value < alpha:\n",
    "    print('The two lists of means differ significantly!')\n",
    "else:\n",
    "    print('The two lists of means do not differ significantly!')"
   ],
   "metadata": {
    "collapsed": false,
    "ExecuteTime": {
     "start_time": "2023-07-06T22:17:41.121353Z",
     "end_time": "2023-07-06T22:17:41.165322Z"
    }
   }
  },
  {
   "cell_type": "markdown",
   "source": [
    "## DNA Domain"
   ],
   "metadata": {
    "collapsed": false
   }
  },
  {
   "cell_type": "code",
   "execution_count": 54,
   "outputs": [
    {
     "name": "stdout",
     "output_type": "stream",
     "text": [
      "Mann-Whitney U statistic: 12455.0\n",
      "p-value: 8.267531563124741e-08\n",
      "The two lists of means differ significantly!\n"
     ]
    }
   ],
   "source": [
    "dna_mean_rdm = pd.read_csv('./data/dna_mean_rdm.csv')\n",
    "dna_mean_smu = pd.read_csv('./data/dna_mean_smu.csv')\n",
    "\n",
    "U_statistic, p_value = stats.mannwhitneyu(dna_mean_rdm['mean'], dna_mean_smu['mean'])\n",
    "\n",
    "#printing the results\n",
    "print(\"Mann-Whitney U statistic:\", U_statistic)\n",
    "print(\"p-value:\", p_value)\n",
    "if p_value < alpha:\n",
    "    print('The two lists of means differ significantly!')\n",
    "else:\n",
    "    print('The two lists of means do not differ significantly!')"
   ],
   "metadata": {
    "collapsed": false,
    "ExecuteTime": {
     "start_time": "2023-07-06T22:17:41.127081Z",
     "end_time": "2023-07-06T22:17:41.165762Z"
    }
   }
  },
  {
   "cell_type": "markdown",
   "source": [
    "## Tetramerization Domain"
   ],
   "metadata": {
    "collapsed": false
   }
  },
  {
   "cell_type": "code",
   "execution_count": 55,
   "outputs": [
    {
     "name": "stdout",
     "output_type": "stream",
     "text": [
      "Mann-Whitney U statistic: 583.0\n",
      "p-value: 0.4675827548318554\n",
      "The two lists of means do not differ significantly!\n"
     ]
    }
   ],
   "source": [
    "tetra_mean_rdm = pd.read_csv('./data/tetra_mean_rdm.csv')\n",
    "tetra_mean_smu = pd.read_csv('./data/tetra_mean_smu.csv')\n",
    "\n",
    "U_statistic, p_value = stats.mannwhitneyu(tetra_mean_rdm['mean'], tetra_mean_smu['mean'])\n",
    "\n",
    "#printing the results\n",
    "print(\"Mann-Whitney U statistic:\", U_statistic)\n",
    "print(\"p-value:\", p_value)\n",
    "if p_value < alpha:\n",
    "    print('The two lists of means differ significantly!')\n",
    "else:\n",
    "    print('The two lists of means do not differ significantly!')"
   ],
   "metadata": {
    "collapsed": false,
    "ExecuteTime": {
     "start_time": "2023-07-06T22:17:41.132027Z",
     "end_time": "2023-07-06T22:17:41.165801Z"
    }
   }
  },
  {
   "cell_type": "markdown",
   "source": [
    "## Regulatory Domain"
   ],
   "metadata": {
    "collapsed": false
   }
  },
  {
   "cell_type": "code",
   "execution_count": 56,
   "outputs": [
    {
     "name": "stdout",
     "output_type": "stream",
     "text": [
      "Mann-Whitney U statistic: 531.0\n",
      "p-value: 0.04781044009841304\n",
      "The two lists of means differ significantly!\n"
     ]
    }
   ],
   "source": [
    "reg_mean_rdm = pd.read_csv('./data/reg_mean_rdm.csv')\n",
    "reg_mean_smu = pd.read_csv('./data/reg_mean_smu.csv')\n",
    "\n",
    "U_statistic, p_value = stats.mannwhitneyu(reg_mean_rdm['mean'], reg_mean_smu['mean'])\n",
    "\n",
    "#printing the results\n",
    "print(\"Mann-Whitney U statistic:\", U_statistic)\n",
    "print(\"p-value:\", p_value)\n",
    "if p_value < alpha:\n",
    "    print('The two lists of means differ significantly!')\n",
    "else:\n",
    "    print('The two lists of means do not differ significantly!')"
   ],
   "metadata": {
    "collapsed": false,
    "ExecuteTime": {
     "start_time": "2023-07-06T22:17:41.137077Z",
     "end_time": "2023-07-06T22:17:41.166199Z"
    }
   }
  },
  {
   "cell_type": "markdown",
   "source": [
    "## For other datasets"
   ],
   "metadata": {
    "collapsed": false
   }
  },
  {
   "cell_type": "markdown",
   "source": [
    "### T1 Domain"
   ],
   "metadata": {
    "collapsed": false
   }
  },
  {
   "cell_type": "code",
   "execution_count": 62,
   "outputs": [
    {
     "name": "stdout",
     "output_type": "stream",
     "text": [
      "GNN\n",
      "Mann-Whitney U statistic: 1095.0\n",
      "p-value: 0.14202581351555174\n",
      "The two lists of means do not differ significantly!\n",
      "GWN\n",
      "Mann-Whitney U statistic: 1312.0\n",
      "p-value: 0.00032983852077799353\n",
      "The two lists of means differ significantly!\n"
     ]
    }
   ],
   "source": [
    "print('GNN')\n",
    "t1_gnn_rdm = pd.read_csv('./data/t1_gnn_rdm.csv')\n",
    "t1_gnn_smu = pd.read_csv('./data/t1_gnn_smu.csv')\n",
    "\n",
    "U_statistic, p_value = stats.mannwhitneyu(t1_gnn_rdm['mean'], t1_gnn_smu['mean'])\n",
    "\n",
    "# Print the results\n",
    "print(\"Mann-Whitney U statistic:\", U_statistic)\n",
    "print(\"p-value:\", p_value)\n",
    "if p_value < alpha :\n",
    "    print ('The two lists of means differ significantly!')\n",
    "else:\n",
    "    print ('The two lists of means do not differ significantly!')\n",
    "\n",
    "print('GWN')\n",
    "t1_gwn_rdm = pd.read_csv('./data/t1_gwn_rdm.csv')\n",
    "t1_gwn_smu = pd.read_csv('./data/t1_gwn_smu.csv')\n",
    "\n",
    "U_statistic, p_value = stats.mannwhitneyu(t1_gwn_rdm['mean'], t1_gwn_smu['mean'])\n",
    "\n",
    "# Print the results\n",
    "print(\"Mann-Whitney U statistic:\", U_statistic)\n",
    "print(\"p-value:\", p_value)\n",
    "if p_value < alpha :\n",
    "    print ('The two lists of means differ significantly!')\n",
    "else:\n",
    "    print ('The two lists of means do not differ significantly!')"
   ],
   "metadata": {
    "collapsed": false,
    "ExecuteTime": {
     "start_time": "2023-07-06T22:22:29.012919Z",
     "end_time": "2023-07-06T22:22:29.024115Z"
    }
   }
  },
  {
   "cell_type": "markdown",
   "source": [
    "### T2 Domain"
   ],
   "metadata": {
    "collapsed": false
   }
  },
  {
   "cell_type": "code",
   "execution_count": 64,
   "outputs": [
    {
     "name": "stdout",
     "output_type": "stream",
     "text": [
      "GNN\n",
      "Mann-Whitney U statistic: 255.0\n",
      "p-value: 0.14041971470550127\n",
      "The two lists of means do not differ significantly!\n",
      "GWN\n",
      "Mann-Whitney U statistic: 342.0\n",
      "p-value: 2.0738992298297693e-05\n",
      "The two lists of means differ significantly!\n"
     ]
    }
   ],
   "source": [
    "print('GNN')\n",
    "t2_gnn_rdm = pd.read_csv('./data/t2_gnn_rdm.csv')\n",
    "t2_gnn_smu = pd.read_csv('./data/t2_gnn_smu.csv')\n",
    "\n",
    "U_statistic, p_value = stats.mannwhitneyu(t2_gnn_rdm['mean'], t2_gnn_smu['mean'])\n",
    "\n",
    "# Print the results\n",
    "print(\"Mann-Whitney U statistic:\", U_statistic)\n",
    "print(\"p-value:\", p_value)\n",
    "if p_value < alpha :\n",
    "    print ('The two lists of means differ significantly!')\n",
    "else:\n",
    "    print ('The two lists of means do not differ significantly!')\n",
    "\n",
    "print('GWN')\n",
    "t2_gwn_rdm = pd.read_csv('./data/t2_gwn_rdm.csv')\n",
    "t2_gwn_smu = pd.read_csv('./data/t2_gwn_smu.csv')\n",
    "\n",
    "U_statistic, p_value = stats.mannwhitneyu(t2_gwn_rdm['mean'], t2_gwn_smu['mean'])\n",
    "\n",
    "# Print the results\n",
    "print(\"Mann-Whitney U statistic:\", U_statistic)\n",
    "print(\"p-value:\", p_value)\n",
    "if p_value < alpha :\n",
    "    print ('The two lists of means differ significantly!')\n",
    "else:\n",
    "    print ('The two lists of means do not differ significantly!')"
   ],
   "metadata": {
    "collapsed": false,
    "ExecuteTime": {
     "start_time": "2023-07-06T22:23:54.777942Z",
     "end_time": "2023-07-06T22:23:54.793048Z"
    }
   }
  },
  {
   "cell_type": "markdown",
   "source": [
    "### Proline rich region"
   ],
   "metadata": {
    "collapsed": false
   }
  },
  {
   "cell_type": "code",
   "execution_count": 65,
   "outputs": [
    {
     "name": "stdout",
     "output_type": "stream",
     "text": [
      "GNN\n",
      "Mann-Whitney U statistic: 454.0\n",
      "p-value: 0.6078164581989167\n",
      "The two lists of means do not differ significantly!\n",
      "GWN\n",
      "Mann-Whitney U statistic: 724.0\n",
      "p-value: 5.2125540479975956e-08\n",
      "The two lists of means differ significantly!\n"
     ]
    }
   ],
   "source": [
    "print('GNN')\n",
    "pr_gnn_rdm = pd.read_csv('./data/pr_gnn_rdm.csv')\n",
    "pr_gnn_smu = pd.read_csv('./data/pr_gnn_smu.csv')\n",
    "\n",
    "U_statistic, p_value = stats.mannwhitneyu(pr_gnn_rdm['mean'], pr_gnn_smu['mean'])\n",
    "\n",
    "# Print the results\n",
    "print(\"Mann-Whitney U statistic:\", U_statistic)\n",
    "print(\"p-value:\", p_value)\n",
    "if p_value < alpha :\n",
    "    print ('The two lists of means differ significantly!')\n",
    "else:\n",
    "    print ('The two lists of means do not differ significantly!')\n",
    "\n",
    "print('GWN')\n",
    "pr_gwn_rdm = pd.read_csv('./data/pr_gwn_rdm.csv')\n",
    "pr_gwn_smu = pd.read_csv('./data/pr_gwn_smu.csv')\n",
    "\n",
    "U_statistic, p_value = stats.mannwhitneyu(pr_gwn_rdm['mean'], pr_gwn_smu['mean'])\n",
    "\n",
    "# Print the results\n",
    "print(\"Mann-Whitney U statistic:\", U_statistic)\n",
    "print(\"p-value:\", p_value)\n",
    "if p_value < alpha :\n",
    "    print ('The two lists of means differ significantly!')\n",
    "else:\n",
    "    print ('The two lists of means do not differ significantly!')"
   ],
   "metadata": {
    "collapsed": false,
    "ExecuteTime": {
     "start_time": "2023-07-06T22:25:00.849561Z",
     "end_time": "2023-07-06T22:25:00.872930Z"
    }
   }
  },
  {
   "cell_type": "markdown",
   "source": [
    "### DNA binding domain"
   ],
   "metadata": {
    "collapsed": false
   }
  },
  {
   "cell_type": "code",
   "execution_count": 66,
   "outputs": [
    {
     "name": "stdout",
     "output_type": "stream",
     "text": [
      "GNN\n",
      "Mann-Whitney U statistic: 15308.0\n",
      "p-value: 0.006583652573788749\n",
      "The two lists of means differ significantly!\n",
      "GWN\n",
      "Mann-Whitney U statistic: 18643.0\n",
      "p-value: 0.5796439002699463\n",
      "The two lists of means do not differ significantly!\n"
     ]
    }
   ],
   "source": [
    "print('GNN')\n",
    "dna_gnn_rdm = pd.read_csv('./data/dna_gnn_rdm.csv')\n",
    "dna_gnn_smu = pd.read_csv('./data/dna_gnn_smu.csv')\n",
    "\n",
    "U_statistic, p_value = stats.mannwhitneyu(dna_gnn_rdm['mean'], dna_gnn_smu['mean'])\n",
    "\n",
    "# Print the results\n",
    "print(\"Mann-Whitney U statistic:\", U_statistic)\n",
    "print(\"p-value:\", p_value)\n",
    "if p_value < alpha :\n",
    "    print ('The two lists of means differ significantly!')\n",
    "else:\n",
    "    print ('The two lists of means do not differ significantly!')\n",
    "\n",
    "print('GWN')\n",
    "dna_gwn_rdm = pd.read_csv('./data/dna_gwn_rdm.csv')\n",
    "dna_gwn_smu = pd.read_csv('./data/dna_gwn_smu.csv')\n",
    "\n",
    "U_statistic, p_value = stats.mannwhitneyu(dna_gwn_rdm['mean'], dna_gwn_smu['mean'])\n",
    "\n",
    "# Print the results\n",
    "print(\"Mann-Whitney U statistic:\", U_statistic)\n",
    "print(\"p-value:\", p_value)\n",
    "if p_value < alpha :\n",
    "    print ('The two lists of means differ significantly!')\n",
    "else:\n",
    "    print ('The two lists of means do not differ significantly!')"
   ],
   "metadata": {
    "collapsed": false,
    "ExecuteTime": {
     "start_time": "2023-07-06T22:25:55.601872Z",
     "end_time": "2023-07-06T22:25:55.616997Z"
    }
   }
  },
  {
   "cell_type": "markdown",
   "source": [
    "### tetramerization domain"
   ],
   "metadata": {
    "collapsed": false
   }
  },
  {
   "cell_type": "code",
   "execution_count": 68,
   "outputs": [
    {
     "name": "stdout",
     "output_type": "stream",
     "text": [
      "GNN\n",
      "Mann-Whitney U statistic: 609.0\n",
      "p-value: 0.6645802775986182\n",
      "The two lists of means do not differ significantly!\n",
      "GWN\n",
      "Mann-Whitney U statistic: 1044.0\n",
      "p-value: 8.419262842079743e-06\n",
      "The two lists of means differ significantly!\n"
     ]
    }
   ],
   "source": [
    "print('GNN')\n",
    "tetra_gnn_rdm = pd.read_csv('./data/tetra_gnn_rdm.csv')\n",
    "tetra_gnn_smu = pd.read_csv('./data/tetra_gnn_smu.csv')\n",
    "\n",
    "U_statistic, p_value = stats.mannwhitneyu(tetra_gnn_rdm['mean'], tetra_gnn_smu['mean'])\n",
    "\n",
    "# Print the results\n",
    "print(\"Mann-Whitney U statistic:\", U_statistic)\n",
    "print(\"p-value:\", p_value)\n",
    "if p_value < alpha :\n",
    "    print ('The two lists of means differ significantly!')\n",
    "else:\n",
    "    print ('The two lists of means do not differ significantly!')\n",
    "\n",
    "print('GWN')\n",
    "tetra_gwn_rdm = pd.read_csv('./data/tetra_gwn_rdm.csv')\n",
    "tetra_gwn_smu = pd.read_csv('./data/tetra_gwn_smu.csv')\n",
    "\n",
    "U_statistic, p_value = stats.mannwhitneyu(tetra_gwn_rdm['mean'], tetra_gwn_smu['mean'])\n",
    "\n",
    "# Print the results\n",
    "print(\"Mann-Whitney U statistic:\", U_statistic)\n",
    "print(\"p-value:\", p_value)\n",
    "if p_value < alpha :\n",
    "    print ('The two lists of means differ significantly!')\n",
    "else:\n",
    "    print ('The two lists of means do not differ significantly!')"
   ],
   "metadata": {
    "collapsed": false,
    "ExecuteTime": {
     "start_time": "2023-07-06T22:28:50.901790Z",
     "end_time": "2023-07-06T22:28:50.918295Z"
    }
   }
  },
  {
   "cell_type": "code",
   "execution_count": 69,
   "outputs": [
    {
     "name": "stdout",
     "output_type": "stream",
     "text": [
      "GNN\n",
      "Mann-Whitney U statistic: 982.0\n",
      "p-value: 0.0070204955064879625\n",
      "The two lists of means differ significantly!\n",
      "GWN\n",
      "Mann-Whitney U statistic: 1309.0\n",
      "p-value: 1.108286158424074e-09\n",
      "The two lists of means differ significantly!\n"
     ]
    }
   ],
   "source": [
    "print('GNN')\n",
    "reg_gnn_rdm = pd.read_csv('./data/reg_gnn_rdm.csv')\n",
    "reg_gnn_smu = pd.read_csv('./data/reg_gnn_smu.csv')\n",
    "\n",
    "U_statistic, p_value = stats.mannwhitneyu(reg_gnn_rdm['mean'], reg_gnn_smu['mean'])\n",
    "\n",
    "# Print the results\n",
    "print(\"Mann-Whitney U statistic:\", U_statistic)\n",
    "print(\"p-value:\", p_value)\n",
    "if p_value < alpha :\n",
    "    print ('The two lists of means differ significantly!')\n",
    "else:\n",
    "    print ('The two lists of means do not differ significantly!')\n",
    "\n",
    "print('GWN')\n",
    "reg_gwn_rdm = pd.read_csv('./data/reg_gwn_rdm.csv')\n",
    "reg_gwn_smu = pd.read_csv('./data/reg_gwn_smu.csv')\n",
    "\n",
    "U_statistic, p_value = stats.mannwhitneyu(reg_gwn_rdm['mean'], reg_gwn_smu['mean'])\n",
    "\n",
    "# Print the results\n",
    "print(\"Mann-Whitney U statistic:\", U_statistic)\n",
    "print(\"p-value:\", p_value)\n",
    "if p_value < alpha :\n",
    "    print ('The two lists of means differ significantly!')\n",
    "else:\n",
    "    print ('The two lists of means do not differ significantly!')"
   ],
   "metadata": {
    "collapsed": false,
    "ExecuteTime": {
     "start_time": "2023-07-06T22:30:01.038249Z",
     "end_time": "2023-07-06T22:30:01.056257Z"
    }
   }
  },
  {
   "cell_type": "code",
   "execution_count": null,
   "outputs": [],
   "source": [],
   "metadata": {
    "collapsed": false
   }
  }
 ],
 "metadata": {
  "kernelspec": {
   "display_name": "Python 3",
   "language": "python",
   "name": "python3"
  },
  "language_info": {
   "codemirror_mode": {
    "name": "ipython",
    "version": 2
   },
   "file_extension": ".py",
   "mimetype": "text/x-python",
   "name": "python",
   "nbconvert_exporter": "python",
   "pygments_lexer": "ipython2",
   "version": "2.7.6"
  }
 },
 "nbformat": 4,
 "nbformat_minor": 0
}
