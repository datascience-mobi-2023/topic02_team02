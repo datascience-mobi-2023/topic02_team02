{
 "cells": [
  {
   "cell_type": "code",
   "execution_count": null,
   "metadata": {
    "collapsed": true,
    "ExecuteTime": {
     "start_time": "2023-07-07T00:21:30.920189Z",
     "end_time": "2023-07-07T00:21:31.022889Z"
    }
   },
   "outputs": [],
   "source": [
    "import pandas as pd\n",
    "import numpy as np\n",
    "import matplotlib.pyplot as plt\n",
    "from scipy.stats import gaussian_kde\n",
    "import scipy.stats as stats\n",
    "alpha = 0.05\n",
    "import pandas as pd"
   ]
  },
  {
   "cell_type": "markdown",
   "source": [
    "# Comparing the effects of taking out random mutations or just single mutations"
   ],
   "metadata": {
    "collapsed": false
   }
  },
  {
   "cell_type": "markdown",
   "source": [
    "## T1 Domain"
   ],
   "metadata": {
    "collapsed": false
   }
  },
  {
   "cell_type": "code",
   "execution_count": null,
   "outputs": [],
   "source": [
    "t1_mean_rdm = pd.read_csv('./data/t1_mean_rdm.csv')\n",
    "t1_mean_smu = pd.read_csv('./data/t1_mean_smu.csv')\n",
    "\n",
    "U_statistic, p_value = stats.mannwhitneyu(t1_mean_rdm['mean'], t1_mean_smu['mean'])\n",
    "\n",
    "#printing the results\n",
    "print(\"Mann-Whitney U statistic:\", U_statistic)\n",
    "print(\"p-value:\", p_value)\n",
    "if p_value < alpha :\n",
    "    print ('The two lists of means differ significantly!')\n",
    "else:\n",
    "    print ('The two lists of means do not differ significantly!')"
   ],
   "metadata": {
    "collapsed": false,
    "ExecuteTime": {
     "start_time": "2023-07-07T00:21:30.922365Z",
     "end_time": "2023-07-07T00:21:31.024870Z"
    }
   }
  },
  {
   "cell_type": "markdown",
   "source": [],
   "metadata": {
    "collapsed": false
   }
  },
  {
   "cell_type": "markdown",
   "source": [
    "## T2 Domain"
   ],
   "metadata": {
    "collapsed": false
   }
  },
  {
   "cell_type": "markdown",
   "source": [],
   "metadata": {
    "collapsed": false
   }
  },
  {
   "cell_type": "code",
   "execution_count": null,
   "outputs": [],
   "source": [
    "t2_mean_rdm = pd.read_csv('./data/t2_mean_rdm.csv')\n",
    "t2_mean_smu = pd.read_csv('./data/t2_mean_smu.csv')\n",
    "\n",
    "U_statistic, p_value = stats.mannwhitneyu(t2_mean_rdm['mean'], t2_mean_smu['mean'])\n",
    "\n",
    "#printing the results\n",
    "print(\"Mann-Whitney U statistic:\", U_statistic)\n",
    "print(\"p-value:\", p_value)\n",
    "if p_value < alpha:\n",
    "    print('The two lists of means differ significantly!')\n",
    "else:\n",
    "    print('The two lists of means do not differ significantly!')"
   ],
   "metadata": {
    "collapsed": false,
    "ExecuteTime": {
     "start_time": "2023-07-07T00:21:30.951284Z",
     "end_time": "2023-07-07T00:21:31.025338Z"
    }
   }
  },
  {
   "cell_type": "markdown",
   "source": [
    "## PR Domain"
   ],
   "metadata": {
    "collapsed": false
   }
  },
  {
   "cell_type": "code",
   "execution_count": null,
   "outputs": [],
   "source": [
    "pr_mean_rdm = pd.read_csv('./data/pr_mean_rdm.csv')\n",
    "pr_mean_smu = pd.read_csv('./data/pr_mean_smu.csv')\n",
    "\n",
    "U_statistic, p_value = stats.mannwhitneyu(pr_mean_rdm['mean'], pr_mean_smu['mean'])\n",
    "\n",
    "#printing the results\n",
    "print(\"Mann-Whitney U statistic:\", U_statistic)\n",
    "print(\"p-value:\", p_value)\n",
    "if p_value < alpha:\n",
    "    print('The two lists of means differ significantly!')\n",
    "else:\n",
    "    print('The two lists of means do not differ significantly!')"
   ],
   "metadata": {
    "collapsed": false,
    "ExecuteTime": {
     "start_time": "2023-07-07T00:21:30.956002Z",
     "end_time": "2023-07-07T00:21:31.025797Z"
    }
   }
  },
  {
   "cell_type": "markdown",
   "source": [
    "## DNA Domain"
   ],
   "metadata": {
    "collapsed": false
   }
  },
  {
   "cell_type": "code",
   "execution_count": null,
   "outputs": [],
   "source": [
    "dna_mean_rdm = pd.read_csv('./data/dna_mean_rdm.csv')\n",
    "dna_mean_smu = pd.read_csv('./data/dna_mean_smu.csv')\n",
    "\n",
    "U_statistic, p_value = stats.mannwhitneyu(dna_mean_rdm['mean'], dna_mean_smu['mean'])\n",
    "\n",
    "#printing the results\n",
    "print(\"Mann-Whitney U statistic:\", U_statistic)\n",
    "print(\"p-value:\", p_value)\n",
    "if p_value < alpha:\n",
    "    print('The two lists of means differ significantly!')\n",
    "else:\n",
    "    print('The two lists of means do not differ significantly!')"
   ],
   "metadata": {
    "collapsed": false,
    "ExecuteTime": {
     "start_time": "2023-07-07T00:21:30.960923Z",
     "end_time": "2023-07-07T00:21:31.026285Z"
    }
   }
  },
  {
   "cell_type": "markdown",
   "source": [
    "## Tetramerization Domain"
   ],
   "metadata": {
    "collapsed": false
   }
  },
  {
   "cell_type": "code",
   "execution_count": null,
   "outputs": [],
   "source": [
    "tetra_mean_rdm = pd.read_csv('./data/tetra_mean_rdm.csv')\n",
    "tetra_mean_smu = pd.read_csv('./data/tetra_mean_smu.csv')\n",
    "\n",
    "U_statistic, p_value = stats.mannwhitneyu(tetra_mean_rdm['mean'], tetra_mean_smu['mean'])\n",
    "\n",
    "#printing the results\n",
    "print(\"Mann-Whitney U statistic:\", U_statistic)\n",
    "print(\"p-value:\", p_value)\n",
    "if p_value < alpha:\n",
    "    print('The two lists of means differ significantly!')\n",
    "else:\n",
    "    print('The two lists of means do not differ significantly!')"
   ],
   "metadata": {
    "collapsed": false,
    "ExecuteTime": {
     "start_time": "2023-07-07T00:21:30.965766Z",
     "end_time": "2023-07-07T00:21:31.026761Z"
    }
   }
  },
  {
   "cell_type": "markdown",
   "source": [
    "## Regulatory Domain"
   ],
   "metadata": {
    "collapsed": false
   }
  },
  {
   "cell_type": "code",
   "execution_count": null,
   "outputs": [],
   "source": [
    "reg_mean_rdm = pd.read_csv('./data/reg_mean_rdm.csv')\n",
    "reg_mean_smu = pd.read_csv('./data/reg_mean_smu.csv')\n",
    "\n",
    "U_statistic, p_value = stats.mannwhitneyu(reg_mean_rdm['mean'], reg_mean_smu['mean'])\n",
    "\n",
    "#printing the results\n",
    "print(\"Mann-Whitney U statistic:\", U_statistic)\n",
    "print(\"p-value:\", p_value)\n",
    "if p_value < alpha:\n",
    "    print('The two lists of means differ significantly!')\n",
    "else:\n",
    "    print('The two lists of means do not differ significantly!')"
   ],
   "metadata": {
    "collapsed": false,
    "ExecuteTime": {
     "start_time": "2023-07-07T00:21:30.970098Z",
     "end_time": "2023-07-07T00:21:31.026830Z"
    }
   }
  },
  {
   "cell_type": "markdown",
   "source": [
    "## For other datasets"
   ],
   "metadata": {
    "collapsed": false
   }
  },
  {
   "cell_type": "markdown",
   "source": [
    "### T1 Domain"
   ],
   "metadata": {
    "collapsed": false
   }
  },
  {
   "cell_type": "code",
   "execution_count": null,
   "outputs": [],
   "source": [
    "print('giacomelli null nutlin')\n",
    "t1_gnn_rdm = pd.read_csv('./data/t1_gnn_rdm.csv')\n",
    "t1_gnn_smu = pd.read_csv('./data/t1_gnn_smu.csv')\n",
    "\n",
    "U_statistic, p_value = stats.mannwhitneyu(t1_gnn_rdm['mean'], t1_gnn_smu['mean'])\n",
    "\n",
    "# Print the results\n",
    "print(\"Mann-Whitney U statistic:\", U_statistic)\n",
    "print(\"p-value:\", p_value)\n",
    "if p_value < alpha :\n",
    "    print ('The two lists of means differ significantly!')\n",
    "else:\n",
    "    print ('The two lists of means do not differ significantly!')\n",
    "\n",
    "print('GWN')\n",
    "t1_gwn_rdm = pd.read_csv('./data/t1_gwn_rdm.csv')\n",
    "t1_gwn_smu = pd.read_csv('./data/t1_gwn_smu.csv')\n",
    "\n",
    "U_statistic, p_value = stats.mannwhitneyu(t1_gwn_rdm['mean'], t1_gwn_smu['mean'])\n",
    "\n",
    "# Print the results\n",
    "print(\"Mann-Whitney U statistic:\", U_statistic)\n",
    "print(\"p-value:\", p_value)\n",
    "if p_value < alpha :\n",
    "    print ('The two lists of means differ significantly!')\n",
    "else:\n",
    "    print ('The two lists of means do not differ significantly!')"
   ],
   "metadata": {
    "collapsed": false,
    "ExecuteTime": {
     "start_time": "2023-07-07T00:21:30.975826Z",
     "end_time": "2023-07-07T00:21:31.030078Z"
    }
   }
  },
  {
   "cell_type": "markdown",
   "source": [
    "### T2 Domain"
   ],
   "metadata": {
    "collapsed": false
   }
  },
  {
   "cell_type": "code",
   "execution_count": null,
   "outputs": [],
   "source": [
    "print('giacomelli null nutlin')\n",
    "t2_gnn_rdm = pd.read_csv('./data/t2_gnn_rdm.csv')\n",
    "t2_gnn_smu = pd.read_csv('./data/t2_gnn_smu.csv')\n",
    "\n",
    "U_statistic, p_value = stats.mannwhitneyu(t2_gnn_rdm['mean'], t2_gnn_smu['mean'])\n",
    "\n",
    "# Print the results\n",
    "print(\"Mann-Whitney U statistic:\", U_statistic)\n",
    "print(\"p-value:\", p_value)\n",
    "if p_value < alpha :\n",
    "    print ('The two lists of means differ significantly!')\n",
    "else:\n",
    "    print ('The two lists of means do not differ significantly!')\n",
    "\n",
    "print('giacomelli wildtype nutlin')\n",
    "t2_gwn_rdm = pd.read_csv('./data/t2_gwn_rdm.csv')\n",
    "t2_gwn_smu = pd.read_csv('./data/t2_gwn_smu.csv')\n",
    "\n",
    "U_statistic, p_value = stats.mannwhitneyu(t2_gwn_rdm['mean'], t2_gwn_smu['mean'])\n",
    "\n",
    "# Print the results\n",
    "print(\"Mann-Whitney U statistic:\", U_statistic)\n",
    "print(\"p-value:\", p_value)\n",
    "if p_value < alpha :\n",
    "    print ('The two lists of means differ significantly!')\n",
    "else:\n",
    "    print ('The two lists of means do not differ significantly!')"
   ],
   "metadata": {
    "collapsed": false,
    "ExecuteTime": {
     "start_time": "2023-07-07T00:21:30.983117Z",
     "end_time": "2023-07-07T00:21:31.031329Z"
    }
   }
  },
  {
   "cell_type": "markdown",
   "source": [
    "### Proline rich region"
   ],
   "metadata": {
    "collapsed": false
   }
  },
  {
   "cell_type": "code",
   "execution_count": null,
   "outputs": [],
   "source": [
    "print('giacomelli null nutlin')\n",
    "pr_gnn_rdm = pd.read_csv('./data/pr_gnn_rdm.csv')\n",
    "pr_gnn_smu = pd.read_csv('./data/pr_gnn_smu.csv')\n",
    "\n",
    "U_statistic, p_value = stats.mannwhitneyu(pr_gnn_rdm['mean'], pr_gnn_smu['mean'])\n",
    "\n",
    "# Print the results\n",
    "print(\"Mann-Whitney U statistic:\", U_statistic)\n",
    "print(\"p-value:\", p_value)\n",
    "if p_value < alpha :\n",
    "    print ('The two lists of means differ significantly!')\n",
    "else:\n",
    "    print ('The two lists of means do not differ significantly!')\n",
    "\n",
    "print('giacomelli wildtype nutlin')\n",
    "pr_gwn_rdm = pd.read_csv('./data/pr_gwn_rdm.csv')\n",
    "pr_gwn_smu = pd.read_csv('./data/pr_gwn_smu.csv')\n",
    "\n",
    "U_statistic, p_value = stats.mannwhitneyu(pr_gwn_rdm['mean'], pr_gwn_smu['mean'])\n",
    "\n",
    "# Print the results\n",
    "print(\"Mann-Whitney U statistic:\", U_statistic)\n",
    "print(\"p-value:\", p_value)\n",
    "if p_value < alpha :\n",
    "    print ('The two lists of means differ significantly!')\n",
    "else:\n",
    "    print ('The two lists of means do not differ significantly!')"
   ],
   "metadata": {
    "collapsed": false,
    "ExecuteTime": {
     "start_time": "2023-07-07T00:21:30.990580Z",
     "end_time": "2023-07-07T00:21:31.031656Z"
    }
   }
  },
  {
   "cell_type": "markdown",
   "source": [
    "### DNA binding domain"
   ],
   "metadata": {
    "collapsed": false
   }
  },
  {
   "cell_type": "code",
   "execution_count": null,
   "outputs": [],
   "source": [
    "print('giacomelli null nutlin')\n",
    "dna_gnn_rdm = pd.read_csv('./data/dna_gnn_rdm.csv')\n",
    "dna_gnn_smu = pd.read_csv('./data/dna_gnn_smu.csv')\n",
    "\n",
    "U_statistic, p_value = stats.mannwhitneyu(dna_gnn_rdm['mean'], dna_gnn_smu['mean'])\n",
    "\n",
    "# Print the results\n",
    "print(\"Mann-Whitney U statistic:\", U_statistic)\n",
    "print(\"p-value:\", p_value)\n",
    "if p_value < alpha :\n",
    "    print ('The two lists of means differ significantly!')\n",
    "else:\n",
    "    print ('The two lists of means do not differ significantly!')\n",
    "\n",
    "print('giacomelli wildtype nutlin')\n",
    "dna_gwn_rdm = pd.read_csv('./data/dna_gwn_rdm.csv')\n",
    "dna_gwn_smu = pd.read_csv('./data/dna_gwn_smu.csv')\n",
    "\n",
    "U_statistic, p_value = stats.mannwhitneyu(dna_gwn_rdm['mean'], dna_gwn_smu['mean'])\n",
    "\n",
    "# Print the results\n",
    "print(\"Mann-Whitney U statistic:\", U_statistic)\n",
    "print(\"p-value:\", p_value)\n",
    "if p_value < alpha :\n",
    "    print ('The two lists of means differ significantly!')\n",
    "else:\n",
    "    print ('The two lists of means do not differ significantly!')"
   ],
   "metadata": {
    "collapsed": false,
    "ExecuteTime": {
     "start_time": "2023-07-07T00:21:30.999116Z",
     "end_time": "2023-07-07T00:21:31.032352Z"
    }
   }
  },
  {
   "cell_type": "markdown",
   "source": [
    "### tetramerization domain"
   ],
   "metadata": {
    "collapsed": false
   }
  },
  {
   "cell_type": "code",
   "execution_count": null,
   "outputs": [],
   "source": [
    "print('giacomelli null nutlin')\n",
    "tetra_gnn_rdm = pd.read_csv('./data/tetra_gnn_rdm.csv')\n",
    "tetra_gnn_smu = pd.read_csv('./data/tetra_gnn_smu.csv')\n",
    "\n",
    "U_statistic, p_value = stats.mannwhitneyu(tetra_gnn_rdm['mean'], tetra_gnn_smu['mean'])\n",
    "\n",
    "# Print the results\n",
    "print(\"Mann-Whitney U statistic:\", U_statistic)\n",
    "print(\"p-value:\", p_value)\n",
    "if p_value < alpha :\n",
    "    print ('The two lists of means differ significantly!')\n",
    "else:\n",
    "    print ('The two lists of means do not differ significantly!')\n",
    "\n",
    "print('giacomelli wildtype nutlin')\n",
    "tetra_gwn_rdm = pd.read_csv('./data/tetra_gwn_rdm.csv')\n",
    "tetra_gwn_smu = pd.read_csv('./data/tetra_gwn_smu.csv')\n",
    "\n",
    "U_statistic, p_value = stats.mannwhitneyu(tetra_gwn_rdm['mean'], tetra_gwn_smu['mean'])\n",
    "\n",
    "# Print the results\n",
    "print(\"Mann-Whitney U statistic:\", U_statistic)\n",
    "print(\"p-value:\", p_value)\n",
    "if p_value < alpha :\n",
    "    print ('The two lists of means differ significantly!')\n",
    "else:\n",
    "    print ('The two lists of means do not differ significantly!')"
   ],
   "metadata": {
    "collapsed": false,
    "ExecuteTime": {
     "start_time": "2023-07-07T00:21:31.006040Z",
     "end_time": "2023-07-07T00:21:31.032419Z"
    }
   }
  },
  {
   "cell_type": "markdown",
   "source": [
    "### regulatory domain"
   ],
   "metadata": {
    "collapsed": false
   }
  },
  {
   "cell_type": "code",
   "execution_count": null,
   "outputs": [],
   "source": [
    "print('giacomelli null nutlin')\n",
    "reg_gnn_rdm = pd.read_csv('./data/reg_gnn_rdm.csv')\n",
    "reg_gnn_smu = pd.read_csv('./data/reg_gnn_smu.csv')\n",
    "\n",
    "U_statistic, p_value = stats.mannwhitneyu(reg_gnn_rdm['mean'], reg_gnn_smu['mean'])\n",
    "\n",
    "# Print the results\n",
    "print(\"Mann-Whitney U statistic:\", U_statistic)\n",
    "print(\"p-value:\", p_value)\n",
    "if p_value < alpha :\n",
    "    print ('The two lists of means differ significantly!')\n",
    "else:\n",
    "    print ('The two lists of means do not differ significantly!')\n",
    "\n",
    "print('giacomelli wildtype nutlin')\n",
    "reg_gwn_rdm = pd.read_csv('./data/reg_gwn_rdm.csv')\n",
    "reg_gwn_smu = pd.read_csv('./data/reg_gwn_smu.csv')\n",
    "\n",
    "U_statistic, p_value = stats.mannwhitneyu(reg_gwn_rdm['mean'], reg_gwn_smu['mean'])\n",
    "\n",
    "# Print the results\n",
    "print(\"Mann-Whitney U statistic:\", U_statistic)\n",
    "print(\"p-value:\", p_value)\n",
    "if p_value < alpha :\n",
    "    print ('The two lists of means differ significantly!')\n",
    "else:\n",
    "    print ('The two lists of means do not differ significantly!')"
   ],
   "metadata": {
    "collapsed": false,
    "ExecuteTime": {
     "start_time": "2023-07-07T00:21:31.014159Z",
     "end_time": "2023-07-07T00:21:31.032512Z"
    }
   }
  },
  {
   "cell_type": "code",
   "execution_count": null,
   "outputs": [],
   "source": [],
   "metadata": {
    "collapsed": false,
    "ExecuteTime": {
     "start_time": "2023-07-07T00:21:31.019615Z",
     "end_time": "2023-07-07T00:21:31.032549Z"
    }
   }
  }
 ],
 "metadata": {
  "kernelspec": {
   "display_name": "Python 3",
   "language": "python",
   "name": "python3"
  },
  "language_info": {
   "codemirror_mode": {
    "name": "ipython",
    "version": 2
   },
   "file_extension": ".py",
   "mimetype": "text/x-python",
   "name": "python",
   "nbconvert_exporter": "python",
   "pygments_lexer": "ipython2",
   "version": "2.7.6"
  }
 },
 "nbformat": 4,
 "nbformat_minor": 0
}
