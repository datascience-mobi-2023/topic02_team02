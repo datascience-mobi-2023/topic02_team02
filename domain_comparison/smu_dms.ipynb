{
 "cells": [
  {
   "cell_type": "code",
   "execution_count": null,
   "metadata": {
    "collapsed": true,
    "ExecuteTime": {
     "start_time": "2023-07-07T10:39:55.347347Z",
     "end_time": "2023-07-07T10:39:55.449098Z"
    }
   },
   "outputs": [],
   "source": [
    "import pandas as pd\n",
    "import data_cleanup as dc\n",
    "import domain_comparison as doc\n",
    "import data_exploration as de\n",
    "import seaborn as sns\n",
    "import matplotlib.pyplot as plt\n",
    "import severity_score as ses\n",
    "import numpy as np\n",
    "from scipy.stats import gaussian_kde"
   ]
  },
  {
   "cell_type": "markdown",
   "source": [
    "### In this document the same operations as in Domain_slicing are done. In this case the Amino acids, that cannot be reached with single mutations of the DNA are removed before."
   ],
   "metadata": {
    "collapsed": false
   }
  },
  {
   "cell_type": "markdown",
   "source": [
    "Starting out with Generation of the new DF with only the single mutations"
   ],
   "metadata": {
    "collapsed": false
   }
  },
  {
   "cell_type": "code",
   "execution_count": null,
   "metadata": {
    "ExecuteTime": {
     "start_time": "2023-07-07T10:39:55.364385Z",
     "end_time": "2023-07-07T10:39:56.679692Z"
    }
   },
   "outputs": [],
   "source": [
    "fpath = '../DMS_data/P53_HUMAN_Giacomelli_NULL_Etoposide_2018.csv'\n",
    "\n",
    "gia_null_eto =dc.norm(pd.read_csv(fpath))\n",
    "dc.aufteilung_mut_pos(gia_null_eto)\n",
    "\n",
    "p53_seq = ses.p53_codons_gia\n",
    "translated_p53 = ses.clean_variation_matrix(ses.translate_codons_df(ses.generate_codon_variations(p53_seq)))\n",
    "\n",
    "cleaned_p53 = ses.clean_variation_matrix(translated_p53)\n",
    "\n",
    "df = gia_null_eto[gia_null_eto.apply(lambda row: (cleaned_p53.loc[row['position_mut']-1, 'Original'] == row['AS_old']) and (row['AS_new'] in cleaned_p53.loc[row['position_mut']-1, ['Variation 1', 'Variation 2', 'Variation 3', 'Variation 4', 'Variation 5', 'Variation 6', 'Variation 7', 'Variation 8', 'Variation 9']].values), axis=1)]"
   ]
  },
  {
   "cell_type": "code",
   "execution_count": null,
   "metadata": {
    "ExecuteTime": {
     "start_time": "2023-07-07T11:00:28.003175Z",
     "end_time": "2023-07-07T11:00:28.019554Z"
    }
   },
   "outputs": [],
   "source": [
    "# Saving the different domains for better accessibility\n",
    "\n",
    "#Transactivation Domain 1\n",
    "t1_start = 1\n",
    "t1_end = 43\n",
    "\n",
    "#Transactivation Domain 2\n",
    "t2_start = 44\n",
    "t2_end = 63\n",
    "\n",
    "#Proline-rich Region\n",
    "pr_start = 64\n",
    "pr_end = 92\n",
    "\n",
    "#DNA Binding Domain\n",
    "dna_start = 102\n",
    "dna_end = 292\n",
    "\n",
    "#Tetramerization Domain\n",
    "tetra_start = 320\n",
    "tetra_end = 355\n",
    "\n",
    "#Regulatory Domain\n",
    "reg_start = 356\n",
    "reg_end = 393\n",
    "\n",
    "domains_regulatory: dict = {'t1_domain' : (1, 43),\n",
    "                 't2_domain' : (44, 63),\n",
    "                 'pr_domain' : (64, 92),\n",
    "                 'dna_b_domain' : (102, 292),\n",
    "                 'tetra_domain': (320, 355),\n",
    "                 'reg_domain' : (356, 393)}\n",
    "\n",
    "def adjust_domain(regulatory: dict, name: str, frame: pd.DataFrame) -> dict:\n",
    "\n",
    "    domain = dc.rmv_na(dc.df_transform(doc.slice_domain(frame, start= regulatory[name][0], end=regulatory[name][1])))\n",
    "    domain_list = doc.slice_domain(frame, start= regulatory[name][0], end=regulatory[name][1])\n",
    "    mean = domain.mean().rename('mean')\n",
    "    res: dict = {'domain' : domain, 'domain_list': domain_list, 'mean': mean}\n",
    "    return res\n",
    "\n",
    "\n",
    "\n",
    "t1 = adjust_domain(domains_regulatory, name='t1_domain', frame=df)\n",
    "\n",
    "t1_domain = t1['domain']\n",
    "t1_list = t1['domain_list']['DMS_score']\n",
    "t1_mean = t1['mean']\n",
    "\n"
   ]
  },
  {
   "cell_type": "code",
   "execution_count": null,
   "outputs": [],
   "source": [
    "t2_domain = dc.rmv_na(dc.df_transform(doc.slice_domain(df, start= t2_start, end= t2_end)))\n",
    "t2_list = doc.slice_domain(df, start= t2_start, end= t2_end)\n",
    "\n",
    "pr_domain = dc.rmv_na(dc.df_transform(doc.slice_domain(df, start= pr_start, end= pr_end)))\n",
    "pr_list = doc.slice_domain(df, start= pr_start, end= pr_end)\n",
    "\n",
    "dna_domain = dc.rmv_na(dc.df_transform(doc.slice_domain(df, start= dna_start, end= dna_end)))\n",
    "dna_list = doc.slice_domain(df, start= dna_start, end= dna_end)\n",
    "\n",
    "tetra_domain = dc.rmv_na(dc.df_transform(doc.slice_domain(df, start= tetra_start, end= tetra_end)))\n",
    "tetra_list = doc.slice_domain(df, start= tetra_start, end= tetra_end)\n",
    "\n",
    "reg_domain = dc.rmv_na(dc.df_transform(doc.slice_domain(df, start= reg_start, end= reg_end)))\n",
    "reg_list = doc.slice_domain(df, start= reg_start, end= reg_end)\n"
   ],
   "metadata": {
    "collapsed": false
   }
  },
  {
   "cell_type": "markdown",
   "metadata": {},
   "source": [
    "## Mean values"
   ]
  },
  {
   "cell_type": "code",
   "execution_count": null,
   "metadata": {
    "ExecuteTime": {
     "start_time": "2023-07-07T10:39:56.750720Z",
     "end_time": "2023-07-07T10:39:56.754008Z"
    }
   },
   "outputs": [],
   "source": [
    "t1_mean = t1_domain.mean().rename('mean')\n",
    "\n",
    "t2_mean = t2_domain.mean().rename('mean')\n",
    "\n",
    "pr_mean = pr_domain.mean().rename('mean')\n",
    "\n",
    "dna_mean = dna_domain.mean().rename('mean')\n",
    "\n",
    "tetra_mean = tetra_domain.mean().rename('mean')\n",
    "\n",
    "reg_mean = reg_domain.mean().rename('mean')\n"
   ]
  },
  {
   "cell_type": "markdown",
   "metadata": {},
   "source": [
    "## Distribution and Heatmaps\n",
    "### Transactivation Domain 1"
   ]
  },
  {
   "cell_type": "code",
   "execution_count": null,
   "metadata": {
    "ExecuteTime": {
     "start_time": "2023-07-07T10:39:56.754965Z",
     "end_time": "2023-07-07T10:39:57.063272Z"
    }
   },
   "outputs": [],
   "source": [
    "dms_scores_t1 = t1_list['DMS_score']\n",
    "\n",
    "plt.hist(dms_scores_t1, bins=50)\n",
    "plt.xlabel('DMS Score')\n",
    "plt.ylabel('Frequency')\n",
    "plt.title('Distribution of DMS Scores in the T1 Domain')\n",
    "plt.show()\n",
    "\n",
    "print(dms_scores_t1.mean())\n",
    "print(dms_scores_t1.median())\n",
    "sns.heatmap(t1_domain)"
   ]
  },
  {
   "cell_type": "markdown",
   "metadata": {},
   "source": [
    "### Transactivation Domain 2"
   ]
  },
  {
   "cell_type": "code",
   "execution_count": null,
   "metadata": {
    "ExecuteTime": {
     "start_time": "2023-07-07T10:39:57.069910Z",
     "end_time": "2023-07-07T10:39:57.370232Z"
    }
   },
   "outputs": [],
   "source": [
    "dms_scores_t2 = t2_list['DMS_score']\n",
    "\n",
    "plt.hist(dms_scores_t2, bins=50)\n",
    "plt.xlabel('DMS Score')\n",
    "plt.ylabel('Frequency')\n",
    "plt.title('Distribution of DMS Scores in the T2 Domain')\n",
    "plt.show()\n",
    "\n",
    "sns.heatmap(t2_domain)"
   ]
  },
  {
   "cell_type": "markdown",
   "metadata": {},
   "source": [
    "### Proline-rich Region"
   ]
  },
  {
   "cell_type": "code",
   "execution_count": null,
   "metadata": {
    "ExecuteTime": {
     "start_time": "2023-07-07T10:39:57.367166Z",
     "end_time": "2023-07-07T10:39:57.766853Z"
    }
   },
   "outputs": [],
   "source": [
    "dms_scores_pr = pr_list['DMS_score']\n",
    "\n",
    "plt.hist(dms_scores_pr, bins=50)\n",
    "plt.xlabel('DMS Score')\n",
    "plt.ylabel('Frequency')\n",
    "plt.title('Distribution of DMS Scores in the PR Domain')\n",
    "plt.show()\n",
    "\n",
    "sns.heatmap(pr_domain)"
   ]
  },
  {
   "cell_type": "markdown",
   "metadata": {},
   "source": [
    "### DNA Binding Domain"
   ]
  },
  {
   "cell_type": "code",
   "execution_count": null,
   "metadata": {
    "ExecuteTime": {
     "start_time": "2023-07-07T10:39:57.773048Z",
     "end_time": "2023-07-07T10:39:58.072455Z"
    }
   },
   "outputs": [],
   "source": [
    "dms_scores_dna = dna_list['DMS_score']\n",
    "\n",
    "plt.hist(dms_scores_dna, bins=50)\n",
    "plt.xlabel('DMS Score')\n",
    "plt.ylabel('Frequency')\n",
    "plt.title('Distribution of DMS Scores in the DNA Domain')\n",
    "plt.show()\n",
    "\n",
    "print(dms_scores_dna.mean())\n",
    "print(dms_scores_dna.median())\n",
    "\n",
    "sns.heatmap(dna_domain)"
   ]
  },
  {
   "cell_type": "markdown",
   "metadata": {},
   "source": [
    "### Tetramerization Domain"
   ]
  },
  {
   "cell_type": "code",
   "execution_count": null,
   "metadata": {
    "ExecuteTime": {
     "start_time": "2023-07-07T10:39:58.078279Z",
     "end_time": "2023-07-07T10:39:58.369383Z"
    }
   },
   "outputs": [],
   "source": [
    "dms_scores_tetra = tetra_list['DMS_score']\n",
    "\n",
    "plt.hist(dms_scores_tetra, bins=50)\n",
    "plt.xlabel('DMS Score')\n",
    "plt.ylabel('Frequency')\n",
    "plt.title('Distribution of DMS Scores in the Tetra Domain')\n",
    "plt.show()\n",
    "\n",
    "print(dms_scores_tetra.mean())\n",
    "print(dms_scores_tetra.median())\n",
    "\n",
    "sns.heatmap(tetra_domain)"
   ]
  },
  {
   "cell_type": "markdown",
   "metadata": {},
   "source": []
  },
  {
   "cell_type": "markdown",
   "metadata": {},
   "source": [
    "### Regulatory Domain"
   ]
  },
  {
   "cell_type": "code",
   "execution_count": null,
   "metadata": {
    "ExecuteTime": {
     "start_time": "2023-07-07T10:39:58.381085Z",
     "end_time": "2023-07-07T10:39:58.695904Z"
    }
   },
   "outputs": [],
   "source": [
    "dms_scores_reg = reg_list['DMS_score']\n",
    "\n",
    "plt.hist(dms_scores_reg, bins=50)\n",
    "plt.xlabel('DMS Score')\n",
    "plt.ylabel('Frequency')\n",
    "plt.title('Distribution of DMS Scores in the Reg Domain')\n",
    "plt.show()\n",
    "\n",
    "sns.heatmap(reg_domain)"
   ]
  },
  {
   "cell_type": "markdown",
   "source": [
    "## Comparing all DMS score distributions"
   ],
   "metadata": {
    "collapsed": false
   }
  },
  {
   "cell_type": "code",
   "execution_count": null,
   "outputs": [],
   "source": [
    "all_dms_scores = np.concatenate((dms_scores_t1, dms_scores_t2, dms_scores_pr,\n",
    "                                 dms_scores_dna, dms_scores_tetra, dms_scores_reg))\n",
    "\n",
    "fig, ax = plt.subplots(figsize=(10, 6))\n",
    "\n",
    "\n",
    "datasets = ['Transactivation domain 1', 'Transactivation domain 2', 'Proline rich region',\n",
    "            'DNA binding domain', 'Tetramerization domain', 'Regulatory domain']\n",
    "for data, label in zip([dms_scores_t1, dms_scores_t2, dms_scores_pr,\n",
    "                        dms_scores_dna, dms_scores_tetra, dms_scores_reg], datasets):\n",
    "\n",
    "    kde = gaussian_kde(data)\n",
    "    x_vals = np.linspace(np.min(all_dms_scores), np.max(all_dms_scores), 1000)\n",
    "    y_vals = kde(x_vals)\n",
    "\n",
    "\n",
    "    ax.plot(x_vals, y_vals, linewidth=2, label=label)\n",
    "\n",
    "\n",
    "ax.set_xlabel('Value')\n",
    "ax.set_ylabel('Density')\n",
    "ax.set_title('Fitted Curves')\n",
    "ax.legend()\n",
    "\n",
    "\n",
    "plt.show()"
   ],
   "metadata": {
    "collapsed": false,
    "ExecuteTime": {
     "start_time": "2023-07-07T10:39:58.728298Z",
     "end_time": "2023-07-07T10:39:58.878522Z"
    }
   }
  },
  {
   "cell_type": "markdown",
   "metadata": {},
   "source": [
    "## Standard deviation\n"
   ]
  },
  {
   "cell_type": "code",
   "execution_count": null,
   "metadata": {
    "ExecuteTime": {
     "start_time": "2023-07-07T10:39:58.887215Z",
     "end_time": "2023-07-07T10:39:59.006361Z"
    }
   },
   "outputs": [],
   "source": [
    "t1_std = t1_mean.std()\n",
    "t2_std = t2_mean.std()\n",
    "pr_std = pr_mean.std()\n",
    "dna_std = dna_mean.std()\n",
    "tetra_std = tetra_mean.std()\n",
    "reg_std = reg_mean.std()\n",
    "\n",
    "std_combined = pd.DataFrame({\n",
    "    't1_std': [t1_std],\n",
    "    't2_std': [t2_std],\n",
    "    'pr_std': [pr_std],\n",
    "    'dna_std': [dna_std],\n",
    "    'tetra_std': [tetra_std],\n",
    "    'reg_std': [reg_std]\n",
    "})\n",
    "\n",
    "std_combined"
   ]
  },
  {
   "cell_type": "markdown",
   "metadata": {},
   "source": [
    "## Mean value matrix"
   ]
  },
  {
   "cell_type": "markdown",
   "source": [
    "Creating a matrix showing the mean substitution DMS score for each aminoacid. For further information see the data_exploration folder."
   ],
   "metadata": {
    "collapsed": false
   }
  },
  {
   "cell_type": "code",
   "execution_count": null,
   "metadata": {
    "ExecuteTime": {
     "start_time": "2023-07-07T10:39:58.971568Z",
     "end_time": "2023-07-07T10:39:59.330596Z"
    }
   },
   "outputs": [],
   "source": [
    "sns.heatmap(dc.rmv_na(de.mean_substitutions(t1_list)))"
   ]
  },
  {
   "cell_type": "code",
   "execution_count": null,
   "metadata": {
    "ExecuteTime": {
     "start_time": "2023-07-07T10:39:59.320706Z",
     "end_time": "2023-07-07T10:39:59.505614Z"
    }
   },
   "outputs": [],
   "source": [
    "sns.heatmap(dc.rmv_na(de.mean_substitutions(t2_list)))"
   ]
  },
  {
   "cell_type": "code",
   "execution_count": null,
   "metadata": {
    "ExecuteTime": {
     "start_time": "2023-07-07T10:39:59.509556Z",
     "end_time": "2023-07-07T10:39:59.729944Z"
    }
   },
   "outputs": [],
   "source": [
    "sns.heatmap(dc.rmv_na(de.mean_substitutions(pr_list)))"
   ]
  },
  {
   "cell_type": "code",
   "execution_count": null,
   "metadata": {
    "ExecuteTime": {
     "start_time": "2023-07-07T10:39:59.731478Z",
     "end_time": "2023-07-07T10:39:59.952545Z"
    }
   },
   "outputs": [],
   "source": [
    "sns.heatmap(dc.rmv_na(de.mean_substitutions(dna_list)))"
   ]
  },
  {
   "cell_type": "code",
   "execution_count": null,
   "metadata": {
    "ExecuteTime": {
     "start_time": "2023-07-07T10:39:59.951339Z",
     "end_time": "2023-07-07T10:40:00.207849Z"
    }
   },
   "outputs": [],
   "source": [
    "sns.heatmap(dc.rmv_na(de.mean_substitutions(tetra_list)))"
   ]
  },
  {
   "cell_type": "code",
   "execution_count": null,
   "metadata": {
    "ExecuteTime": {
     "start_time": "2023-07-07T10:40:00.209802Z",
     "end_time": "2023-07-07T10:40:00.378222Z"
    }
   },
   "outputs": [],
   "source": [
    "sns.heatmap(dc.rmv_na(de.mean_substitutions(reg_list)))"
   ]
  },
  {
   "cell_type": "markdown",
   "source": [
    "## Shapiro Wilk test"
   ],
   "metadata": {
    "collapsed": false
   },
   "outputs": [],
   "execution_count": null
  },
  {
   "cell_type": "code",
   "execution_count": null,
   "metadata": {
    "ExecuteTime": {
     "start_time": "2023-07-07T10:40:00.377991Z",
     "end_time": "2023-07-07T10:40:00.381270Z"
    }
   },
   "outputs": [],
   "source": [
    "print('T1 Domain')\n",
    "print(doc.test_normality(t1_list['DMS_score']))\n",
    "\n",
    "print('T2 Domain')\n",
    "print(doc.test_normality(t2_list['DMS_score']))\n",
    "\n",
    "print('PR Domain')\n",
    "print(doc.test_normality(pr_list['DMS_score']))\n",
    "\n",
    "print('DNA Domain')\n",
    "print(doc.test_normality(dna_list['DMS_score']))\n",
    "\n",
    "print('Tetra Domain')\n",
    "print(doc.test_normality(tetra_list['DMS_score']))\n",
    "\n",
    "print('Reg Domain')\n",
    "print(doc.test_normality(reg_list['DMS_score']))"
   ]
  }
 ],
 "metadata": {
  "kernelspec": {
   "display_name": "Python 3 (ipykernel)",
   "language": "python",
   "name": "python3"
  },
  "language_info": {
   "codemirror_mode": {
    "name": "ipython",
    "version": 3
   },
   "file_extension": ".py",
   "mimetype": "text/x-python",
   "name": "python",
   "nbconvert_exporter": "python",
   "pygments_lexer": "ipython3",
   "version": "3.10.11"
  }
 },
 "nbformat": 4,
 "nbformat_minor": 1
}
