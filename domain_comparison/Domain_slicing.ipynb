{
 "cells": [
  {
   "cell_type": "code",
   "execution_count": 4,
   "metadata": {
    "collapsed": true,
    "ExecuteTime": {
     "end_time": "2023-06-28T09:48:25.736373200Z",
     "start_time": "2023-06-28T09:48:25.690883400Z"
    }
   },
   "outputs": [],
   "source": [
    "#I will write a function, that takes in an aminoacid sequence and the positions where this sequence is to sliced. By this, further domain comparisons are made possible\n",
    "import pandas as pd\n",
    "import data_cleanup as dc"
   ]
  },
  {
   "cell_type": "code",
   "execution_count": 6,
   "outputs": [],
   "source": [
    "fpath = '../DMS_data/P53_HUMAN_Giacomelli_NULL_Etoposide_2018.csv'\n",
    "df = pd.read_csv(fpath)\n"
   ],
   "metadata": {
    "collapsed": false,
    "ExecuteTime": {
     "end_time": "2023-06-28T09:48:34.665514500Z",
     "start_time": "2023-06-28T09:48:34.618784100Z"
    }
   }
  },
  {
   "cell_type": "code",
   "execution_count": 18,
   "outputs": [
    {
     "data": {
      "text/plain": "     mutant                                   mutated_sequence  DMS_score  \\\n1919  T102Q  MEEPQSDPSVEPPLSQETFSDLWKLLPENNVLSPLPSQAMDDLMLS...   0.968781   \n1920  T102P  MEEPQSDPSVEPPLSQETFSDLWKLLPENNVLSPLPSQAMDDLMLS...   0.408719   \n1921  T102R  MEEPQSDPSVEPPLSQETFSDLWKLLPENNVLSPLPSQAMDDLMLS...   0.020282   \n1922  T102Y  MEEPQSDPSVEPPLSQETFSDLWKLLPENNVLSPLPSQAMDDLMLS...   0.479631   \n1923  T102V  MEEPQSDPSVEPPLSQETFSDLWKLLPENNVLSPLPSQAMDDLMLS...   0.112441   \n...     ...                                                ...        ...   \n5543  K292F  MEEPQSDPSVEPPLSQETFSDLWKLLPENNVLSPLPSQAMDDLMLS...   0.895336   \n5544  K292E  MEEPQSDPSVEPPLSQETFSDLWKLLPENNVLSPLPSQAMDDLMLS...  -0.021127   \n5545  K292N  MEEPQSDPSVEPPLSQETFSDLWKLLPENNVLSPLPSQAMDDLMLS...   0.284768   \n5546  K292A  MEEPQSDPSVEPPLSQETFSDLWKLLPENNVLSPLPSQAMDDLMLS...   0.655653   \n5547  K292Y  MEEPQSDPSVEPPLSQETFSDLWKLLPENNVLSPLPSQAMDDLMLS...   0.951015   \n\n      DMS_score_bin  position_mut AS_old AS_new  \n1919              1           102      T      Q  \n1920              1           102      T      P  \n1921              1           102      T      R  \n1922              1           102      T      Y  \n1923              1           102      T      V  \n...             ...           ...    ...    ...  \n5543              1           292      K      F  \n5544              1           292      K      E  \n5545              1           292      K      N  \n5546              1           292      K      A  \n5547              1           292      K      Y  \n\n[3629 rows x 7 columns]",
      "text/html": "<div>\n<style scoped>\n    .dataframe tbody tr th:only-of-type {\n        vertical-align: middle;\n    }\n\n    .dataframe tbody tr th {\n        vertical-align: top;\n    }\n\n    .dataframe thead th {\n        text-align: right;\n    }\n</style>\n<table border=\"1\" class=\"dataframe\">\n  <thead>\n    <tr style=\"text-align: right;\">\n      <th></th>\n      <th>mutant</th>\n      <th>mutated_sequence</th>\n      <th>DMS_score</th>\n      <th>DMS_score_bin</th>\n      <th>position_mut</th>\n      <th>AS_old</th>\n      <th>AS_new</th>\n    </tr>\n  </thead>\n  <tbody>\n    <tr>\n      <th>1919</th>\n      <td>T102Q</td>\n      <td>MEEPQSDPSVEPPLSQETFSDLWKLLPENNVLSPLPSQAMDDLMLS...</td>\n      <td>0.968781</td>\n      <td>1</td>\n      <td>102</td>\n      <td>T</td>\n      <td>Q</td>\n    </tr>\n    <tr>\n      <th>1920</th>\n      <td>T102P</td>\n      <td>MEEPQSDPSVEPPLSQETFSDLWKLLPENNVLSPLPSQAMDDLMLS...</td>\n      <td>0.408719</td>\n      <td>1</td>\n      <td>102</td>\n      <td>T</td>\n      <td>P</td>\n    </tr>\n    <tr>\n      <th>1921</th>\n      <td>T102R</td>\n      <td>MEEPQSDPSVEPPLSQETFSDLWKLLPENNVLSPLPSQAMDDLMLS...</td>\n      <td>0.020282</td>\n      <td>1</td>\n      <td>102</td>\n      <td>T</td>\n      <td>R</td>\n    </tr>\n    <tr>\n      <th>1922</th>\n      <td>T102Y</td>\n      <td>MEEPQSDPSVEPPLSQETFSDLWKLLPENNVLSPLPSQAMDDLMLS...</td>\n      <td>0.479631</td>\n      <td>1</td>\n      <td>102</td>\n      <td>T</td>\n      <td>Y</td>\n    </tr>\n    <tr>\n      <th>1923</th>\n      <td>T102V</td>\n      <td>MEEPQSDPSVEPPLSQETFSDLWKLLPENNVLSPLPSQAMDDLMLS...</td>\n      <td>0.112441</td>\n      <td>1</td>\n      <td>102</td>\n      <td>T</td>\n      <td>V</td>\n    </tr>\n    <tr>\n      <th>...</th>\n      <td>...</td>\n      <td>...</td>\n      <td>...</td>\n      <td>...</td>\n      <td>...</td>\n      <td>...</td>\n      <td>...</td>\n    </tr>\n    <tr>\n      <th>5543</th>\n      <td>K292F</td>\n      <td>MEEPQSDPSVEPPLSQETFSDLWKLLPENNVLSPLPSQAMDDLMLS...</td>\n      <td>0.895336</td>\n      <td>1</td>\n      <td>292</td>\n      <td>K</td>\n      <td>F</td>\n    </tr>\n    <tr>\n      <th>5544</th>\n      <td>K292E</td>\n      <td>MEEPQSDPSVEPPLSQETFSDLWKLLPENNVLSPLPSQAMDDLMLS...</td>\n      <td>-0.021127</td>\n      <td>1</td>\n      <td>292</td>\n      <td>K</td>\n      <td>E</td>\n    </tr>\n    <tr>\n      <th>5545</th>\n      <td>K292N</td>\n      <td>MEEPQSDPSVEPPLSQETFSDLWKLLPENNVLSPLPSQAMDDLMLS...</td>\n      <td>0.284768</td>\n      <td>1</td>\n      <td>292</td>\n      <td>K</td>\n      <td>N</td>\n    </tr>\n    <tr>\n      <th>5546</th>\n      <td>K292A</td>\n      <td>MEEPQSDPSVEPPLSQETFSDLWKLLPENNVLSPLPSQAMDDLMLS...</td>\n      <td>0.655653</td>\n      <td>1</td>\n      <td>292</td>\n      <td>K</td>\n      <td>A</td>\n    </tr>\n    <tr>\n      <th>5547</th>\n      <td>K292Y</td>\n      <td>MEEPQSDPSVEPPLSQETFSDLWKLLPENNVLSPLPSQAMDDLMLS...</td>\n      <td>0.951015</td>\n      <td>1</td>\n      <td>292</td>\n      <td>K</td>\n      <td>Y</td>\n    </tr>\n  </tbody>\n</table>\n<p>3629 rows × 7 columns</p>\n</div>"
     },
     "execution_count": 18,
     "metadata": {},
     "output_type": "execute_result"
    }
   ],
   "source": [
    "mutations_df = dc.aufteilung_mut_pos(df)\n",
    "\n",
    "#slice at specific locations (e.g. DNA binding domain, AA 102-292)\n",
    "DNA_domain = df.loc[(df['position_mut'] > 101) & (df[\"position_mut\"] < 293)]\n",
    "DNA_domain"
   ],
   "metadata": {
    "collapsed": false,
    "ExecuteTime": {
     "end_time": "2023-06-28T10:14:46.506915900Z",
     "start_time": "2023-06-28T10:14:46.472371Z"
    }
   }
  }
 ],
 "metadata": {
  "kernelspec": {
   "display_name": "Python 3",
   "language": "python",
   "name": "python3"
  },
  "language_info": {
   "codemirror_mode": {
    "name": "ipython",
    "version": 2
   },
   "file_extension": ".py",
   "mimetype": "text/x-python",
   "name": "python",
   "nbconvert_exporter": "python",
   "pygments_lexer": "ipython2",
   "version": "2.7.6"
  }
 },
 "nbformat": 4,
 "nbformat_minor": 0
}
