{
 "cells": [
  {
   "cell_type": "code",
   "execution_count": null,
   "outputs": [],
   "source": [
    "import pandas as pd\n",
    "import functions as fun\n",
    "import data_cleanup as dc\n",
    "import data_exploration as de\n",
    "import matplotlib.pyplot as plt\n",
    "#import Documentation as bac\n",
    "import seaborn as sns\n",
    "import numpy as np\n",
    "\n",
    "import severity_score\n",
    "import severity_score as ss"
   ],
   "metadata": {
    "collapsed": false
   }
  },
  {
   "cell_type": "code",
   "execution_count": null,
   "outputs": [],
   "source": [
    "# RNA SEQUENCE AND SLICING"
   ],
   "metadata": {
    "collapsed": false
   }
  },
  {
   "cell_type": "code",
   "execution_count": null,
   "outputs": [],
   "source": [
    "mutated_p53 = ss.generate_codon_variations(ss.p53_codons_gia)\n",
    "aa = ss.translate_codons_df(mutated_p53)"
   ],
   "metadata": {
    "collapsed": false
   }
  },
  {
   "cell_type": "code",
   "execution_count": null,
   "outputs": [],
   "source": [
    "# 1.1.) IMPORTING THE NATIVE DATASETS"
   ],
   "metadata": {
    "collapsed": false
   }
  },
  {
   "cell_type": "code",
   "execution_count": null,
   "outputs": [],
   "source": [
    "gia_null_eto: pd.DataFrame = pd.read_csv('../DMS_data/P53_HUMAN_Giacomelli_NULL_Etoposide_2018.csv')\n",
    "gia_null_nut: pd.DataFrame = pd.read_csv('../DMS_data/P53_HUMAN_Giacomelli_NULL_Nutlin_2018.csv')\n",
    "gia_wt_nut: pd.DataFrame = pd.read_csv('../DMS_data/P53_HUMAN_Giacomelli_WT_Nutlin_2018.csv')\n",
    "kot_hum: pd.DataFrame = pd.read_csv('../DMS_data/P53_HUMAN_Kotler_2018.csv')"
   ],
   "metadata": {
    "collapsed": false
   }
  },
  {
   "cell_type": "code",
   "execution_count": null,
   "outputs": [],
   "source": [
    "# PART 1 NUR SINGLE MUTATIONS"
   ],
   "metadata": {
    "collapsed": false
   }
  },
  {
   "cell_type": "code",
   "execution_count": null,
   "outputs": [],
   "source": [
    "# 1.2.) INVERSE DF_TRAFO : NOTE : NO LONGER NEEDED, CHANGED FUNCTION SELECT_SMUT"
   ],
   "metadata": {
    "collapsed": false
   }
  },
  {
   "cell_type": "code",
   "execution_count": null,
   "outputs": [],
   "source": [
    "gia_null_eto_dfi: pd.DataFrame = dc.df_transform(gia_null_eto).T\n",
    "gia_null_nut_dfi: pd.DataFrame = dc.df_transform(gia_null_nut).T\n",
    "gia_wt_nut_dfi: pd.DataFrame = dc.df_transform(gia_wt_nut).T\n",
    "kot_hum_dfi: pd.DataFrame = dc.df_transform(kot_hum).T"
   ],
   "metadata": {
    "collapsed": false
   }
  },
  {
   "cell_type": "code",
   "execution_count": null,
   "outputs": [],
   "source": [
    "# 1.3.) CREATE VARIATION_MATRIX AND CLEAN IT"
   ],
   "metadata": {
    "collapsed": false
   }
  },
  {
   "cell_type": "code",
   "execution_count": null,
   "outputs": [],
   "source": [
    "#ENNOS ANMERKUNG: DArio du hast die \"clean_variation_matrix\" Funktion auf alle 4 DMS_data datensätze angewandt. Das bringt leider nichts. Du musstest die Funktion wie hier gezeigt auf die generierten Codons anwenden, und das musst du auch nur einmal tun.\n",
    "\n",
    "variation_matrix_gia = ss.translate_codons_df(ss.generate_codon_variations(ss.p53_codons_gia))\n",
    "cleaned_vm_gia = ss.clean_variation_matrix(variation_matrix_gia)\n",
    "\n",
    "#WEITERE ANMERKUNG: Da der Kotler Datensatz nur zwischen AA position 102 und 292 existiert, musst du die Variance Matrix auch auf diese Länge neu zuschneiden. Dafür gibt es noch keine Funktion, aber das Endprobdukt muss wie folgt aussehen:\n",
    "\n",
    "#variation_matrix_kotler = ss.translate_codons_df(ss.generate_codon_variations(hier muss jetzt die Codonliste von p53_codons_kotler geslicet auf 102 bis 292 rein))\n",
    "#cleaned_vm_kotler = ss.clean_variation_matrix(variation_matrix_kotler)"
   ],
   "metadata": {
    "collapsed": false
   }
  },
  {
   "cell_type": "code",
   "execution_count": null,
   "outputs": [],
   "source": [
    "# 1.4.) HIER WERDEN BIS AUF SINGLE MUTATIONS ALLE ENTFERNT"
   ],
   "metadata": {
    "collapsed": false
   }
  },
  {
   "cell_type": "code",
   "execution_count": null,
   "outputs": [],
   "source": [
    "gia_null_eto_dfi_cvm_aa: pd.DataFrame = ss.select_smut(gia_null_eto_dfi, cleaned_vm_gia)\n",
    "gia_null_nut_cvm_aa: pd.DataFrame = ss.select_smut(gia_null_nut_dfi, cleaned_vm_gia)\n",
    "gia_wt_nut_cvm_aa: pd.DataFrame = ss.select_smut(gia_wt_nut_dfi, cleaned_vm_gia)\n",
    "\n",
    "#Mit der neuen variation matrix für Kotler musst das hier berechnen\n",
    "#kot_hum_cvm_aa: pd.DataFrame = ss.select_smut(kot_hum,cleaned_vm_kotler)\n",
    "\n",
    "#ICH HAB NUR BIS HIERHIN SACHEN EDITIERT UND VERÄNDERT --- ENNO ---"
   ],
   "metadata": {
    "collapsed": false
   }
  },
  {
   "cell_type": "code",
   "execution_count": null,
   "outputs": [],
   "source": [
    "# PART 2 NICHT NUR SINGLE MUTATIONS"
   ],
   "metadata": {
    "collapsed": false
   }
  },
  {
   "cell_type": "code",
   "execution_count": null,
   "outputs": [],
   "source": [
    "# 2.1.) Z-TRAFO"
   ],
   "metadata": {
    "collapsed": false
   }
  },
  {
   "cell_type": "code",
   "execution_count": null,
   "outputs": [],
   "source": [
    "gia_null_eto_z: pd.DataFrame = dc.z_transform(gia_null_eto)\n",
    "gia_null_nut_z: pd.DataFrame = dc.z_transform(gia_null_nut)\n",
    "gia_wt_nut_z: pd.DataFrame = dc.z_transform(gia_wt_nut)\n",
    "kot_hum_z: pd.DataFrame = dc.z_transform(kot_hum)"
   ],
   "metadata": {
    "collapsed": false
   }
  },
  {
   "cell_type": "code",
   "execution_count": null,
   "outputs": [],
   "source": [
    "# 2.2.) MIN MAX NORMIERUNG"
   ],
   "metadata": {
    "collapsed": false
   }
  },
  {
   "cell_type": "code",
   "execution_count": null,
   "outputs": [],
   "source": [
    "gia_null_eto_z_mmn: pd.DataFrame = dc.min_max_norm(gia_null_eto_z)\n",
    "gia_null_nut_z_mmn: pd.DataFrame = dc.min_max_norm(gia_null_nut_z)\n",
    "gia_wt_nut_z_mmn: pd.DataFrame = dc.min_max_norm(gia_wt_nut_z)\n",
    "kot_hum_z_mmn: pd.DataFrame = dc.min_max_norm(kot_hum_z)"
   ],
   "metadata": {
    "collapsed": false
   }
  },
  {
   "cell_type": "code",
   "execution_count": null,
   "outputs": [],
   "source": [
    "# 2.3.) DF TRAFO"
   ],
   "metadata": {
    "collapsed": false
   }
  },
  {
   "cell_type": "code",
   "execution_count": null,
   "outputs": [],
   "source": [
    "gia_null_eto_z_mmn_df: pd.DataFrame = dc.df_transform(gia_null_eto_z_mmn)\n",
    "gia_null_nut_z_mmn_df: pd.DataFrame = dc.df_transform(gia_null_nut_z_mmn)\n",
    "gia_wt_nut_z_mmn_df: pd.DataFrame = dc.df_transform(gia_wt_nut_z_mmn)\n",
    "kot_hum_z_mmn_df: pd.DataFrame = dc.df_transform(kot_hum_z_mmn)"
   ],
   "metadata": {
    "collapsed": false
   }
  },
  {
   "cell_type": "code",
   "execution_count": null,
   "outputs": [],
   "source": [
    "# 2.4.) MEAN AN JEDER STELLE"
   ],
   "metadata": {
    "collapsed": false
   }
  },
  {
   "cell_type": "code",
   "execution_count": null,
   "outputs": [],
   "source": [
    "gia_null_eto_z_mmn_df_mean: pd.DataFrame = fun.df_mean(gia_null_eto_z_mmn_df)\n",
    "gia_null_nut_z_mmn_df_mean: pd.DataFrame = fun.df_mean(gia_null_nut_z_mmn_df)\n",
    "gia_wt_nut_z_mmn_df_mean: pd.DataFrame = fun.df_mean(gia_wt_nut_z_mmn_df)\n",
    "kot_hum_z_mmn_df_mean: pd.DataFrame = fun.df_mean(kot_hum_z_mmn_df)"
   ],
   "metadata": {
    "collapsed": false
   }
  },
  {
   "cell_type": "code",
   "execution_count": null,
   "outputs": [],
   "source": [
    "# 2.5.) LINIENGRAPH"
   ],
   "metadata": {
    "collapsed": false
   }
  },
  {
   "cell_type": "code",
   "execution_count": null,
   "outputs": [],
   "source": [
    "kot_hum_z_mmn_df_mean.name = 'kot_hum_z_mmn_df_mean'\n",
    "gia_null_nut_z_mmn_df_mean.name = 'gia_null_nut_z_mmn_df_mean'\n",
    "gia_wt_nut_z_mmn_df_mean.name = 'gia_wt_nut_z_mmn_df_mean'\n",
    "gia_null_eto_z_mmn_df_mean.name = 'gia_null_eto_z_mmn_df_mean'"
   ],
   "metadata": {
    "collapsed": false
   }
  },
  {
   "cell_type": "code",
   "execution_count": null,
   "outputs": [],
   "source": [
    "def liniengraph(dataframes):\n",
    "    plt.figure(figsize=(50, 10))\n",
    "    for df in dataframes:\n",
    "        x = df.columns.get_level_values('position_mut').astype(int)\n",
    "        y = df.iloc[0].values.astype(float)\n",
    "        label = df.name\n",
    "        plt.plot(x, y, label=label, marker='o')\n",
    "    plt.xlabel('position')\n",
    "    plt.ylabel('DMS_score')\n",
    "    plt.title('Mean DMS_scores of different datasets throughout each position of tp53')\n",
    "    plt.xticks(np.arange(0, 393+1, 10))\n",
    "    plt.legend()\n",
    "    plt.show()"
   ],
   "metadata": {
    "collapsed": false
   }
  },
  {
   "cell_type": "code",
   "execution_count": null,
   "outputs": [],
   "source": [
    "dataframes = [gia_wt_nut_z_mmn_df_mean, gia_null_eto_z_mmn_df_mean, gia_null_nut_z_mmn_df_mean, kot_hum_z_mmn_df_mean]"
   ],
   "metadata": {
    "collapsed": false
   }
  },
  {
   "cell_type": "code",
   "execution_count": null,
   "outputs": [],
   "source": [
    "liniengraph(dataframes)"
   ],
   "metadata": {
    "collapsed": false
   }
  }
 ],
 "metadata": {
  "kernelspec": {
   "display_name": "Python 3",
   "language": "python",
   "name": "python3"
  },
  "language_info": {
   "codemirror_mode": {
    "name": "ipython",
    "version": 2
   },
   "file_extension": ".py",
   "mimetype": "text/x-python",
   "name": "python",
   "nbconvert_exporter": "python",
   "pygments_lexer": "ipython2",
   "version": "2.7.6"
  }
 },
 "nbformat": 4,
 "nbformat_minor": 0
}
