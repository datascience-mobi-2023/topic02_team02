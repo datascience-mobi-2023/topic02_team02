{
 "cells": [
  {
   "cell_type": "markdown",
   "source": [
    "## IDEEN ZUR VISUALISIERUNG"
   ],
   "metadata": {
    "collapsed": false
   }
  },
  {
   "cell_type": "markdown",
   "source": [
    "-> 1.) Welche Aminosäure hat für die größten Abfälle an DMS_scores in unterschiedlichen Datensätzen gesorgt"
   ],
   "metadata": {
    "collapsed": false
   }
  },
  {
   "cell_type": "markdown",
   "source": [
    "-> 2.) Welche Aminosäure war am unresistentesten über die Datensätze"
   ],
   "metadata": {
    "collapsed": false
   }
  },
  {
   "cell_type": "markdown",
   "source": [
    "-> 3.) Lässt sich ein Trend feststellen innerhalb der besten/schlechtesten Substitutionspärchen                                        -> ließe sich das in einer Distanzmatrix darstellen ?"
   ],
   "metadata": {
    "collapsed": false
   }
  },
  {
   "cell_type": "markdown",
   "source": [
    "1.)"
   ],
   "metadata": {
    "collapsed": false
   }
  },
  {
   "cell_type": "code",
   "execution_count": 1,
   "outputs": [],
   "source": [
    "import pandas as pd\n",
    "import functions as fun\n",
    "import data_cleanup as dc\n",
    "import data_exploration as de\n",
    "import matplotlib.pyplot as plt\n",
    "#import Documentation as bac\n",
    "import seaborn as sns\n",
    "import numpy as np\n",
    "\n",
    "import severity_score as ss"
   ],
   "metadata": {
    "collapsed": false,
    "ExecuteTime": {
     "end_time": "2023-07-03T15:53:59.598933Z",
     "start_time": "2023-07-03T15:53:59.347198Z"
    }
   }
  },
  {
   "cell_type": "code",
   "execution_count": 2,
   "outputs": [],
   "source": [
    "gia_null_eto: pd.DataFrame = pd.read_csv('../DMS_data/P53_HUMAN_Giacomelli_NULL_Etoposide_2018.csv')\n",
    "gia_null_nut: pd.DataFrame = pd.read_csv('../DMS_data/P53_HUMAN_Giacomelli_NULL_Nutlin_2018.csv')\n",
    "gia_wt_nut: pd.DataFrame = pd.read_csv('../DMS_data/P53_HUMAN_Giacomelli_WT_Nutlin_2018.csv')\n",
    "kot_hum: pd.DataFrame = pd.read_csv('../DMS_data/P53_HUMAN_Kotler_2018.csv')"
   ],
   "metadata": {
    "collapsed": false,
    "ExecuteTime": {
     "end_time": "2023-07-03T15:54:01.636112Z",
     "start_time": "2023-07-03T15:54:01.524564Z"
    }
   }
  },
  {
   "cell_type": "code",
   "execution_count": 4,
   "metadata": {
    "collapsed": true,
    "ExecuteTime": {
     "end_time": "2023-07-03T15:54:14.642027Z",
     "start_time": "2023-07-03T15:54:14.627633Z"
    }
   },
   "outputs": [
    {
     "data": {
      "text/plain": "   mutant                                   mutated_sequence  DMS_score   \n0     M1A  AEEPQSDPSVEPPLSQETFSDLWKLLPENNVLSPLPSQAMDDLMLS...  -0.788753  \\\n1     M1C  CEEPQSDPSVEPPLSQETFSDLWKLLPENNVLSPLPSQAMDDLMLS...  -1.969077   \n2     M1Y  YEEPQSDPSVEPPLSQETFSDLWKLLPENNVLSPLPSQAMDDLMLS...  -1.333315   \n3     M1W  WEEPQSDPSVEPPLSQETFSDLWKLLPENNVLSPLPSQAMDDLMLS...  -2.219256   \n4     M1V  VEEPQSDPSVEPPLSQETFSDLWKLLPENNVLSPLPSQAMDDLMLS...  -0.669727   \n5     M1T  TEEPQSDPSVEPPLSQETFSDLWKLLPENNVLSPLPSQAMDDLMLS...  -0.380537   \n6     M1R  REEPQSDPSVEPPLSQETFSDLWKLLPENNVLSPLPSQAMDDLMLS...  -1.470598   \n7     M1Q  QEEPQSDPSVEPPLSQETFSDLWKLLPENNVLSPLPSQAMDDLMLS...  -2.474317   \n8     M1P  PEEPQSDPSVEPPLSQETFSDLWKLLPENNVLSPLPSQAMDDLMLS...  -1.873279   \n9     M1S  SEEPQSDPSVEPPLSQETFSDLWKLLPENNVLSPLPSQAMDDLMLS...  -2.733926   \n10    M1L  LEEPQSDPSVEPPLSQETFSDLWKLLPENNVLSPLPSQAMDDLMLS...  -2.032227   \n11    M1N  NEEPQSDPSVEPPLSQETFSDLWKLLPENNVLSPLPSQAMDDLMLS...  -2.140069   \n12    M1E  EEEPQSDPSVEPPLSQETFSDLWKLLPENNVLSPLPSQAMDDLMLS...   1.227243   \n13    M1F  FEEPQSDPSVEPPLSQETFSDLWKLLPENNVLSPLPSQAMDDLMLS...   0.536895   \n14    M1G  GEEPQSDPSVEPPLSQETFSDLWKLLPENNVLSPLPSQAMDDLMLS...  -1.053827   \n15    M1D  DEEPQSDPSVEPPLSQETFSDLWKLLPENNVLSPLPSQAMDDLMLS...   0.536895   \n16    M1I  IEEPQSDPSVEPPLSQETFSDLWKLLPENNVLSPLPSQAMDDLMLS...  -1.370065   \n17    M1K  KEEPQSDPSVEPPLSQETFSDLWKLLPENNVLSPLPSQAMDDLMLS...  -0.189807   \n18    M1H  HEEPQSDPSVEPPLSQETFSDLWKLLPENNVLSPLPSQAMDDLMLS...  -2.003616   \n19    E2Q  MQEPQSDPSVEPPLSQETFSDLWKLLPENNVLSPLPSQAMDDLMLS...   0.121747   \n\n    DMS_score_bin  \n0               0  \n1               0  \n2               0  \n3               0  \n4               0  \n5               1  \n6               0  \n7               0  \n8               0  \n9               0  \n10              0  \n11              0  \n12              1  \n13              1  \n14              0  \n15              1  \n16              0  \n17              1  \n18              0  \n19              1  ",
      "text/html": "<div>\n<style scoped>\n    .dataframe tbody tr th:only-of-type {\n        vertical-align: middle;\n    }\n\n    .dataframe tbody tr th {\n        vertical-align: top;\n    }\n\n    .dataframe thead th {\n        text-align: right;\n    }\n</style>\n<table border=\"1\" class=\"dataframe\">\n  <thead>\n    <tr style=\"text-align: right;\">\n      <th></th>\n      <th>mutant</th>\n      <th>mutated_sequence</th>\n      <th>DMS_score</th>\n      <th>DMS_score_bin</th>\n    </tr>\n  </thead>\n  <tbody>\n    <tr>\n      <th>0</th>\n      <td>M1A</td>\n      <td>AEEPQSDPSVEPPLSQETFSDLWKLLPENNVLSPLPSQAMDDLMLS...</td>\n      <td>-0.788753</td>\n      <td>0</td>\n    </tr>\n    <tr>\n      <th>1</th>\n      <td>M1C</td>\n      <td>CEEPQSDPSVEPPLSQETFSDLWKLLPENNVLSPLPSQAMDDLMLS...</td>\n      <td>-1.969077</td>\n      <td>0</td>\n    </tr>\n    <tr>\n      <th>2</th>\n      <td>M1Y</td>\n      <td>YEEPQSDPSVEPPLSQETFSDLWKLLPENNVLSPLPSQAMDDLMLS...</td>\n      <td>-1.333315</td>\n      <td>0</td>\n    </tr>\n    <tr>\n      <th>3</th>\n      <td>M1W</td>\n      <td>WEEPQSDPSVEPPLSQETFSDLWKLLPENNVLSPLPSQAMDDLMLS...</td>\n      <td>-2.219256</td>\n      <td>0</td>\n    </tr>\n    <tr>\n      <th>4</th>\n      <td>M1V</td>\n      <td>VEEPQSDPSVEPPLSQETFSDLWKLLPENNVLSPLPSQAMDDLMLS...</td>\n      <td>-0.669727</td>\n      <td>0</td>\n    </tr>\n    <tr>\n      <th>5</th>\n      <td>M1T</td>\n      <td>TEEPQSDPSVEPPLSQETFSDLWKLLPENNVLSPLPSQAMDDLMLS...</td>\n      <td>-0.380537</td>\n      <td>1</td>\n    </tr>\n    <tr>\n      <th>6</th>\n      <td>M1R</td>\n      <td>REEPQSDPSVEPPLSQETFSDLWKLLPENNVLSPLPSQAMDDLMLS...</td>\n      <td>-1.470598</td>\n      <td>0</td>\n    </tr>\n    <tr>\n      <th>7</th>\n      <td>M1Q</td>\n      <td>QEEPQSDPSVEPPLSQETFSDLWKLLPENNVLSPLPSQAMDDLMLS...</td>\n      <td>-2.474317</td>\n      <td>0</td>\n    </tr>\n    <tr>\n      <th>8</th>\n      <td>M1P</td>\n      <td>PEEPQSDPSVEPPLSQETFSDLWKLLPENNVLSPLPSQAMDDLMLS...</td>\n      <td>-1.873279</td>\n      <td>0</td>\n    </tr>\n    <tr>\n      <th>9</th>\n      <td>M1S</td>\n      <td>SEEPQSDPSVEPPLSQETFSDLWKLLPENNVLSPLPSQAMDDLMLS...</td>\n      <td>-2.733926</td>\n      <td>0</td>\n    </tr>\n    <tr>\n      <th>10</th>\n      <td>M1L</td>\n      <td>LEEPQSDPSVEPPLSQETFSDLWKLLPENNVLSPLPSQAMDDLMLS...</td>\n      <td>-2.032227</td>\n      <td>0</td>\n    </tr>\n    <tr>\n      <th>11</th>\n      <td>M1N</td>\n      <td>NEEPQSDPSVEPPLSQETFSDLWKLLPENNVLSPLPSQAMDDLMLS...</td>\n      <td>-2.140069</td>\n      <td>0</td>\n    </tr>\n    <tr>\n      <th>12</th>\n      <td>M1E</td>\n      <td>EEEPQSDPSVEPPLSQETFSDLWKLLPENNVLSPLPSQAMDDLMLS...</td>\n      <td>1.227243</td>\n      <td>1</td>\n    </tr>\n    <tr>\n      <th>13</th>\n      <td>M1F</td>\n      <td>FEEPQSDPSVEPPLSQETFSDLWKLLPENNVLSPLPSQAMDDLMLS...</td>\n      <td>0.536895</td>\n      <td>1</td>\n    </tr>\n    <tr>\n      <th>14</th>\n      <td>M1G</td>\n      <td>GEEPQSDPSVEPPLSQETFSDLWKLLPENNVLSPLPSQAMDDLMLS...</td>\n      <td>-1.053827</td>\n      <td>0</td>\n    </tr>\n    <tr>\n      <th>15</th>\n      <td>M1D</td>\n      <td>DEEPQSDPSVEPPLSQETFSDLWKLLPENNVLSPLPSQAMDDLMLS...</td>\n      <td>0.536895</td>\n      <td>1</td>\n    </tr>\n    <tr>\n      <th>16</th>\n      <td>M1I</td>\n      <td>IEEPQSDPSVEPPLSQETFSDLWKLLPENNVLSPLPSQAMDDLMLS...</td>\n      <td>-1.370065</td>\n      <td>0</td>\n    </tr>\n    <tr>\n      <th>17</th>\n      <td>M1K</td>\n      <td>KEEPQSDPSVEPPLSQETFSDLWKLLPENNVLSPLPSQAMDDLMLS...</td>\n      <td>-0.189807</td>\n      <td>1</td>\n    </tr>\n    <tr>\n      <th>18</th>\n      <td>M1H</td>\n      <td>HEEPQSDPSVEPPLSQETFSDLWKLLPENNVLSPLPSQAMDDLMLS...</td>\n      <td>-2.003616</td>\n      <td>0</td>\n    </tr>\n    <tr>\n      <th>19</th>\n      <td>E2Q</td>\n      <td>MQEPQSDPSVEPPLSQETFSDLWKLLPENNVLSPLPSQAMDDLMLS...</td>\n      <td>0.121747</td>\n      <td>1</td>\n    </tr>\n  </tbody>\n</table>\n</div>"
     },
     "execution_count": 4,
     "metadata": {},
     "output_type": "execute_result"
    }
   ],
   "source": [
    "gia_null_eto.head(20)"
   ]
  },
  {
   "cell_type": "code",
   "execution_count": null,
   "outputs": [],
   "source": [],
   "metadata": {
    "collapsed": false
   }
  }
 ],
 "metadata": {
  "kernelspec": {
   "display_name": "Python 3",
   "language": "python",
   "name": "python3"
  },
  "language_info": {
   "codemirror_mode": {
    "name": "ipython",
    "version": 2
   },
   "file_extension": ".py",
   "mimetype": "text/x-python",
   "name": "python",
   "nbconvert_exporter": "python",
   "pygments_lexer": "ipython2",
   "version": "2.7.6"
  }
 },
 "nbformat": 4,
 "nbformat_minor": 0
}
