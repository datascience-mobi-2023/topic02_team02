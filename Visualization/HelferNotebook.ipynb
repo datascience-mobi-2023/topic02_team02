{
 "cells": [
  {
   "cell_type": "code",
   "execution_count": null,
   "metadata": {
    "collapsed": true
   },
   "outputs": [],
   "source": [
    "fpathKH = '../DMS_data/P53_HUMAN_Giacomelli_WT_Nutlin_2018.csv'\n",
    "dfKH = pd.read_csv(fpathKH)\n",
    "mutations_dfKH = dc.aufteilung_mut_pos(dfKH)\n",
    "subs_df = mutations_dfKH.groupby([\"AS_old\", \"AS_new\"])\n",
    "mean_scoresKH = subs_df.DMS_score.mean()\n",
    "mean_scores_dfKH = mean_scoresKH.reset_index()\n",
    "mean_substitutionsKH = mean_scores_dfKH.pivot(index=\"AS_old\", columns=\"AS_new\", values=\"DMS_score\")\n",
    "dc.rmv_na(mean_substitutionsKH)\n",
    "\n",
    "print(mean_substitutionsKH)"
   ]
  },
  {
   "cell_type": "code",
   "execution_count": null,
   "outputs": [],
   "source": [],
   "metadata": {
    "collapsed": false
   }
  }
 ],
 "metadata": {
  "kernelspec": {
   "display_name": "Python 3",
   "language": "python",
   "name": "python3"
  },
  "language_info": {
   "codemirror_mode": {
    "name": "ipython",
    "version": 2
   },
   "file_extension": ".py",
   "mimetype": "text/x-python",
   "name": "python",
   "nbconvert_exporter": "python",
   "pygments_lexer": "ipython2",
   "version": "2.7.6"
  }
 },
 "nbformat": 4,
 "nbformat_minor": 0
}
