{
 "cells": [
  {
   "cell_type": "markdown",
   "source": [
    "##Import"
   ],
   "metadata": {
    "collapsed": false
   }
  },
  {
   "cell_type": "code",
   "execution_count": 23,
   "outputs": [],
   "source": [
    "\n",
    "import pandas as pd\n",
    "import re\n",
    "import seaborn as sns\n",
    "import matplotlib.pyplot as plt\n",
    "import data_cleanup as dc\n",
    "import functions as func"
   ],
   "metadata": {
    "collapsed": false,
    "ExecuteTime": {
     "start_time": "2023-05-30T16:19:42.707527Z",
     "end_time": "2023-05-30T16:19:42.709482Z"
    }
   }
  },
  {
   "cell_type": "code",
   "execution_count": 24,
   "outputs": [],
   "source": [
    "#Datensätze importieren\n",
    "g_wt_nut = pd.read_csv('../DMS_data/P53_HUMAN_Giacomelli_WT_Nutlin_2018.csv')\n",
    "g_null_nut = pd.read_csv('../DMS_data/P53_HUMAN_Giacomelli_NULL_Nutlin_2018.csv')\n",
    "g_null_eto = pd.read_csv('../DMS_data/P53_HUMAN_Giacomelli_NULL_Etoposide_2018.csv')\n",
    "kot = pd.read_csv('../DMS_data/P53_HUMAN_Kotler_2018.csv')"
   ],
   "metadata": {
    "collapsed": false,
    "ExecuteTime": {
     "start_time": "2023-05-30T16:19:43.239882Z",
     "end_time": "2023-05-30T16:19:43.326592Z"
    }
   }
  },
  {
   "cell_type": "code",
   "execution_count": 22,
   "outputs": [
    {
     "ename": "AttributeError",
     "evalue": "module 'data_cleanup' has no attribute 'df_transform'",
     "output_type": "error",
     "traceback": [
      "\u001B[0;31m---------------------------------------------------------------------------\u001B[0m",
      "\u001B[0;31mAttributeError\u001B[0m                            Traceback (most recent call last)",
      "Cell \u001B[0;32mIn[22], line 4\u001B[0m\n\u001B[1;32m      2\u001B[0m kotler \u001B[38;5;241m=\u001B[39m clean_kot\u001B[38;5;241m.\u001B[39mpivot(index\u001B[38;5;241m=\u001B[39m\u001B[38;5;124m'\u001B[39m\u001B[38;5;124mAS_new\u001B[39m\u001B[38;5;124m'\u001B[39m, columns\u001B[38;5;241m=\u001B[39m[\u001B[38;5;124m'\u001B[39m\u001B[38;5;124mposition_mut\u001B[39m\u001B[38;5;124m'\u001B[39m, \u001B[38;5;124m'\u001B[39m\u001B[38;5;124mAS_old\u001B[39m\u001B[38;5;124m'\u001B[39m], values\u001B[38;5;241m=\u001B[39m\u001B[38;5;124m'\u001B[39m\u001B[38;5;124mDMS_score\u001B[39m\u001B[38;5;124m'\u001B[39m)\n\u001B[1;32m      3\u001B[0m kotler\u001B[38;5;241m.\u001B[39mhead(\u001B[38;5;241m50\u001B[39m)\n\u001B[0;32m----> 4\u001B[0m easy_kot \u001B[38;5;241m=\u001B[39m \u001B[43mdc\u001B[49m\u001B[38;5;241;43m.\u001B[39;49m\u001B[43mdf_transform\u001B[49m(kot)\n\u001B[1;32m      5\u001B[0m easy_kot\u001B[38;5;241m.\u001B[39mhead(\u001B[38;5;241m50\u001B[39m)\n",
      "\u001B[0;31mAttributeError\u001B[0m: module 'data_cleanup' has no attribute 'df_transform'"
     ]
    }
   ],
   "source": [
    "clean_kot = dc.aufteilung_mut_pos(kot)\n",
    "kotler = clean_kot.pivot(index='AS_new', columns=['position_mut', 'AS_old'], values='DMS_score')\n",
    "kotler.head(50)\n",
    "easy_kot = dc.df_transform(kot)\n",
    "easy_kot.head(50)"
   ],
   "metadata": {
    "collapsed": false,
    "ExecuteTime": {
     "start_time": "2023-05-30T16:04:27.631702Z",
     "end_time": "2023-05-30T16:04:27.652300Z"
    }
   }
  },
  {
   "cell_type": "code",
   "execution_count": 25,
   "outputs": [
    {
     "ename": "AttributeError",
     "evalue": "module 'data_cleanup' has no attribute 'df_transform'",
     "output_type": "error",
     "traceback": [
      "\u001B[0;31m---------------------------------------------------------------------------\u001B[0m",
      "\u001B[0;31mAttributeError\u001B[0m                            Traceback (most recent call last)",
      "Cell \u001B[0;32mIn[25], line 1\u001B[0m\n\u001B[0;32m----> 1\u001B[0m \u001B[43mdc\u001B[49m\u001B[38;5;241;43m.\u001B[39;49m\u001B[43mdf_transform\u001B[49m(kot)\n",
      "\u001B[0;31mAttributeError\u001B[0m: module 'data_cleanup' has no attribute 'df_transform'"
     ]
    }
   ],
   "source": [
    "dc.df_transform(kot)"
   ],
   "metadata": {
    "collapsed": false
   }
  },
  {
   "cell_type": "code",
   "execution_count": null,
   "outputs": [],
   "source": [],
   "metadata": {
    "collapsed": false
   }
  }
 ],
 "metadata": {
  "kernelspec": {
   "display_name": "Python 3",
   "language": "python",
   "name": "python3"
  },
  "language_info": {
   "codemirror_mode": {
    "name": "ipython",
    "version": 2
   },
   "file_extension": ".py",
   "mimetype": "text/x-python",
   "name": "python",
   "nbconvert_exporter": "python",
   "pygments_lexer": "ipython2",
   "version": "2.7.6"
  }
 },
 "nbformat": 4,
 "nbformat_minor": 0
}
