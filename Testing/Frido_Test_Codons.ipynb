{
 "cells": [
  {
   "cell_type": "code",
   "execution_count": 11,
   "outputs": [
    {
     "name": "stdout",
     "output_type": "stream",
     "text": [
      "The autoreload extension is already loaded. To reload it, use:\n",
      "  %reload_ext autoreload\n"
     ]
    },
    {
     "data": {
      "text/plain": "    AAA AAC AAG AAU ACA ACC ACG ACU AGA AGC  ... UCG UCU UGA UGC UGG UGU UUA   \nAAA   0   1   1   1   1   2   2   2   1   2  ...   3   3   2   3   3   3   2  \\\nAAC   1   0   1   1   2   1   2   2   2   1  ...   3   3   3   2   3   3   3   \nAAG   1   1   0   1   2   2   1   2   2   2  ...   2   3   3   3   2   3   3   \nAAU   1   1   1   0   2   2   2   1   2   2  ...   3   2   3   3   3   2   3   \nACA   1   2   2   2   0   1   1   1   1   2  ...   2   2   2   3   3   3   2   \n..   ..  ..  ..  ..  ..  ..  ..  ..  ..  ..  ...  ..  ..  ..  ..  ..  ..  ..   \nUGU   3   3   3   2   3   3   3   2   2   2  ...   2   1   1   1   1   0   2   \nUUA   2   3   3   3   2   3   3   3   2   3  ...   2   2   1   2   2   2   0   \nUUC   3   2   3   3   3   2   3   3   3   2  ...   2   2   2   1   2   2   1   \nUUG   3   3   2   3   3   3   2   3   3   3  ...   1   2   2   2   1   2   1   \nUUU   3   3   3   2   3   3   3   2   3   3  ...   2   1   2   2   2   1   1   \n\n    UUC UUG UUU  \nAAA   3   3   3  \nAAC   2   3   3  \nAAG   3   2   3  \nAAU   3   3   2  \nACA   3   3   3  \n..   ..  ..  ..  \nUGU   2   2   1  \nUUA   1   1   1  \nUUC   0   1   1  \nUUG   1   0   1  \nUUU   1   1   0  \n\n[64 rows x 64 columns]",
      "text/html": "<div>\n<style scoped>\n    .dataframe tbody tr th:only-of-type {\n        vertical-align: middle;\n    }\n\n    .dataframe tbody tr th {\n        vertical-align: top;\n    }\n\n    .dataframe thead th {\n        text-align: right;\n    }\n</style>\n<table border=\"1\" class=\"dataframe\">\n  <thead>\n    <tr style=\"text-align: right;\">\n      <th></th>\n      <th>AAA</th>\n      <th>AAC</th>\n      <th>AAG</th>\n      <th>AAU</th>\n      <th>ACA</th>\n      <th>ACC</th>\n      <th>ACG</th>\n      <th>ACU</th>\n      <th>AGA</th>\n      <th>AGC</th>\n      <th>...</th>\n      <th>UCG</th>\n      <th>UCU</th>\n      <th>UGA</th>\n      <th>UGC</th>\n      <th>UGG</th>\n      <th>UGU</th>\n      <th>UUA</th>\n      <th>UUC</th>\n      <th>UUG</th>\n      <th>UUU</th>\n    </tr>\n  </thead>\n  <tbody>\n    <tr>\n      <th>AAA</th>\n      <td>0</td>\n      <td>1</td>\n      <td>1</td>\n      <td>1</td>\n      <td>1</td>\n      <td>2</td>\n      <td>2</td>\n      <td>2</td>\n      <td>1</td>\n      <td>2</td>\n      <td>...</td>\n      <td>3</td>\n      <td>3</td>\n      <td>2</td>\n      <td>3</td>\n      <td>3</td>\n      <td>3</td>\n      <td>2</td>\n      <td>3</td>\n      <td>3</td>\n      <td>3</td>\n    </tr>\n    <tr>\n      <th>AAC</th>\n      <td>1</td>\n      <td>0</td>\n      <td>1</td>\n      <td>1</td>\n      <td>2</td>\n      <td>1</td>\n      <td>2</td>\n      <td>2</td>\n      <td>2</td>\n      <td>1</td>\n      <td>...</td>\n      <td>3</td>\n      <td>3</td>\n      <td>3</td>\n      <td>2</td>\n      <td>3</td>\n      <td>3</td>\n      <td>3</td>\n      <td>2</td>\n      <td>3</td>\n      <td>3</td>\n    </tr>\n    <tr>\n      <th>AAG</th>\n      <td>1</td>\n      <td>1</td>\n      <td>0</td>\n      <td>1</td>\n      <td>2</td>\n      <td>2</td>\n      <td>1</td>\n      <td>2</td>\n      <td>2</td>\n      <td>2</td>\n      <td>...</td>\n      <td>2</td>\n      <td>3</td>\n      <td>3</td>\n      <td>3</td>\n      <td>2</td>\n      <td>3</td>\n      <td>3</td>\n      <td>3</td>\n      <td>2</td>\n      <td>3</td>\n    </tr>\n    <tr>\n      <th>AAU</th>\n      <td>1</td>\n      <td>1</td>\n      <td>1</td>\n      <td>0</td>\n      <td>2</td>\n      <td>2</td>\n      <td>2</td>\n      <td>1</td>\n      <td>2</td>\n      <td>2</td>\n      <td>...</td>\n      <td>3</td>\n      <td>2</td>\n      <td>3</td>\n      <td>3</td>\n      <td>3</td>\n      <td>2</td>\n      <td>3</td>\n      <td>3</td>\n      <td>3</td>\n      <td>2</td>\n    </tr>\n    <tr>\n      <th>ACA</th>\n      <td>1</td>\n      <td>2</td>\n      <td>2</td>\n      <td>2</td>\n      <td>0</td>\n      <td>1</td>\n      <td>1</td>\n      <td>1</td>\n      <td>1</td>\n      <td>2</td>\n      <td>...</td>\n      <td>2</td>\n      <td>2</td>\n      <td>2</td>\n      <td>3</td>\n      <td>3</td>\n      <td>3</td>\n      <td>2</td>\n      <td>3</td>\n      <td>3</td>\n      <td>3</td>\n    </tr>\n    <tr>\n      <th>...</th>\n      <td>...</td>\n      <td>...</td>\n      <td>...</td>\n      <td>...</td>\n      <td>...</td>\n      <td>...</td>\n      <td>...</td>\n      <td>...</td>\n      <td>...</td>\n      <td>...</td>\n      <td>...</td>\n      <td>...</td>\n      <td>...</td>\n      <td>...</td>\n      <td>...</td>\n      <td>...</td>\n      <td>...</td>\n      <td>...</td>\n      <td>...</td>\n      <td>...</td>\n      <td>...</td>\n    </tr>\n    <tr>\n      <th>UGU</th>\n      <td>3</td>\n      <td>3</td>\n      <td>3</td>\n      <td>2</td>\n      <td>3</td>\n      <td>3</td>\n      <td>3</td>\n      <td>2</td>\n      <td>2</td>\n      <td>2</td>\n      <td>...</td>\n      <td>2</td>\n      <td>1</td>\n      <td>1</td>\n      <td>1</td>\n      <td>1</td>\n      <td>0</td>\n      <td>2</td>\n      <td>2</td>\n      <td>2</td>\n      <td>1</td>\n    </tr>\n    <tr>\n      <th>UUA</th>\n      <td>2</td>\n      <td>3</td>\n      <td>3</td>\n      <td>3</td>\n      <td>2</td>\n      <td>3</td>\n      <td>3</td>\n      <td>3</td>\n      <td>2</td>\n      <td>3</td>\n      <td>...</td>\n      <td>2</td>\n      <td>2</td>\n      <td>1</td>\n      <td>2</td>\n      <td>2</td>\n      <td>2</td>\n      <td>0</td>\n      <td>1</td>\n      <td>1</td>\n      <td>1</td>\n    </tr>\n    <tr>\n      <th>UUC</th>\n      <td>3</td>\n      <td>2</td>\n      <td>3</td>\n      <td>3</td>\n      <td>3</td>\n      <td>2</td>\n      <td>3</td>\n      <td>3</td>\n      <td>3</td>\n      <td>2</td>\n      <td>...</td>\n      <td>2</td>\n      <td>2</td>\n      <td>2</td>\n      <td>1</td>\n      <td>2</td>\n      <td>2</td>\n      <td>1</td>\n      <td>0</td>\n      <td>1</td>\n      <td>1</td>\n    </tr>\n    <tr>\n      <th>UUG</th>\n      <td>3</td>\n      <td>3</td>\n      <td>2</td>\n      <td>3</td>\n      <td>3</td>\n      <td>3</td>\n      <td>2</td>\n      <td>3</td>\n      <td>3</td>\n      <td>3</td>\n      <td>...</td>\n      <td>1</td>\n      <td>2</td>\n      <td>2</td>\n      <td>2</td>\n      <td>1</td>\n      <td>2</td>\n      <td>1</td>\n      <td>1</td>\n      <td>0</td>\n      <td>1</td>\n    </tr>\n    <tr>\n      <th>UUU</th>\n      <td>3</td>\n      <td>3</td>\n      <td>3</td>\n      <td>2</td>\n      <td>3</td>\n      <td>3</td>\n      <td>3</td>\n      <td>2</td>\n      <td>3</td>\n      <td>3</td>\n      <td>...</td>\n      <td>2</td>\n      <td>1</td>\n      <td>2</td>\n      <td>2</td>\n      <td>2</td>\n      <td>1</td>\n      <td>1</td>\n      <td>1</td>\n      <td>1</td>\n      <td>0</td>\n    </tr>\n  </tbody>\n</table>\n<p>64 rows × 64 columns</p>\n</div>"
     },
     "execution_count": 11,
     "metadata": {},
     "output_type": "execute_result"
    }
   ],
   "source": [
    "%load_ext autoreload\n",
    "%autoreload 2\n",
    "import pandas as pd\n",
    "import numpy as np\n",
    "import data_cleanup as dc\n",
    "import data_exploration as de\n",
    "from Bio.Seq import Seq\n",
    "import functions as func\n",
    "\n",
    "\n",
    "\n",
    "codons = ['AAA', 'AAC', 'AAG', 'AAU', 'ACA', 'ACC', 'ACG', 'ACU', 'AGA', 'AGC', 'AGG', 'AGU', 'AUA', 'AUC', 'AUG', 'AUU', 'CAA', 'CAC', 'CAG', 'CAU', 'CCA', 'CCC', 'CCG', 'CCU', 'CGA', 'CGC', 'CGG', 'CGU', 'CUA', 'CUC', 'CUG', 'CUU', 'GAA', 'GAC', 'GAG', 'GAU', 'GCA', 'GCC', 'GCG', 'GCU', 'GGA', 'GGC', 'GGG', 'GGU', 'GUA', 'GUC', 'GUG', 'GUU', 'UAA', 'UAC', 'UAG', 'UAU', 'UCA', 'UCC', 'UCG', 'UCU', 'UGA', 'UGC', 'UGG', 'UGU', 'UUA', 'UUC', 'UUG', 'UUU']\n",
    "\n",
    "# Create an empty dataframe with the custom row and column names\n",
    "codons_codons = pd.DataFrame(index=codons, columns=codons)\n",
    "\n",
    "# Fill the dataframe\n",
    "for row_codon in codons:\n",
    "    for col_codon in codons:\n",
    "        differing_bases = sum(row_base != col_base for row_base, col_base in zip(row_codon, col_codon))\n",
    "        codons_codons.loc[row_codon, col_codon] = differing_bases\n",
    "\n",
    "codons_codons\n",
    "#not used until now (20.6.)"
   ],
   "metadata": {
    "collapsed": false,
    "ExecuteTime": {
     "end_time": "2023-06-22T12:48:43.627042700Z",
     "start_time": "2023-06-22T12:48:41.104180600Z"
    }
   }
  },
  {
   "cell_type": "code",
   "execution_count": 3,
   "outputs": [
    {
     "data": {
      "text/plain": "   codons aacids\n0     AAA      K\n1     AAC      N\n2     AAG      K\n3     AAU      N\n4     ACA      T\n..    ...    ...\n59    UGU      L\n60    UUA      C\n61    UUC      W\n62    UUG      C\n63    UUU      L\n\n[64 rows x 2 columns]",
      "text/html": "<div>\n<style scoped>\n    .dataframe tbody tr th:only-of-type {\n        vertical-align: middle;\n    }\n\n    .dataframe tbody tr th {\n        vertical-align: top;\n    }\n\n    .dataframe thead th {\n        text-align: right;\n    }\n</style>\n<table border=\"1\" class=\"dataframe\">\n  <thead>\n    <tr style=\"text-align: right;\">\n      <th></th>\n      <th>codons</th>\n      <th>aacids</th>\n    </tr>\n  </thead>\n  <tbody>\n    <tr>\n      <th>0</th>\n      <td>AAA</td>\n      <td>K</td>\n    </tr>\n    <tr>\n      <th>1</th>\n      <td>AAC</td>\n      <td>N</td>\n    </tr>\n    <tr>\n      <th>2</th>\n      <td>AAG</td>\n      <td>K</td>\n    </tr>\n    <tr>\n      <th>3</th>\n      <td>AAU</td>\n      <td>N</td>\n    </tr>\n    <tr>\n      <th>4</th>\n      <td>ACA</td>\n      <td>T</td>\n    </tr>\n    <tr>\n      <th>...</th>\n      <td>...</td>\n      <td>...</td>\n    </tr>\n    <tr>\n      <th>59</th>\n      <td>UGU</td>\n      <td>L</td>\n    </tr>\n    <tr>\n      <th>60</th>\n      <td>UUA</td>\n      <td>C</td>\n    </tr>\n    <tr>\n      <th>61</th>\n      <td>UUC</td>\n      <td>W</td>\n    </tr>\n    <tr>\n      <th>62</th>\n      <td>UUG</td>\n      <td>C</td>\n    </tr>\n    <tr>\n      <th>63</th>\n      <td>UUU</td>\n      <td>L</td>\n    </tr>\n  </tbody>\n</table>\n<p>64 rows × 2 columns</p>\n</div>"
     },
     "execution_count": 3,
     "metadata": {},
     "output_type": "execute_result"
    }
   ],
   "source": [
    "aacids = ['K', 'N', 'K', 'N', 'T', 'T', 'T', 'T', 'R', 'S', 'R', 'S', 'I', 'I', 'M', 'I', 'Q', 'H', 'Q', 'H', 'P', 'P', 'P', 'P', 'R', 'R', 'R', 'R', 'L', 'L', 'L', 'L', 'E', 'D', 'E', 'D', 'A', 'A', 'A', 'A', 'G', 'G', 'G', 'G', 'V', 'V', 'V', 'V', 'STOP', 'Y', 'STOP', 'Y', 'S', 'S', 'S', 'S', 'STOP','L', 'F', 'L', 'C', 'W', 'C', 'L']\n",
    "\n",
    "codons_aacids = pd.DataFrame({'codons': codons, 'aacids': aacids })\n",
    "\n",
    "codons_aacids\n",
    "#not used until now (20.6.)"
   ],
   "metadata": {
    "collapsed": false,
    "ExecuteTime": {
     "end_time": "2023-06-22T12:47:39.329997600Z",
     "start_time": "2023-06-22T12:47:39.105576300Z"
    }
   }
  },
  {
   "cell_type": "code",
   "execution_count": 4,
   "outputs": [],
   "source": [
    "dna_sequence = \"ATGGAGGAGCCGCAGTCAGATCCTAGCGTCGAGCCCCCTCTGAGTCAGGAAACATTTTCAGACCTATGGAAACTACTTCCTGAAAACAACGTTCTGTCCCCCTTGCCGTCCCAAGCAATGGATGATTTGATGCTGTCCCCGGACGATATTGAACAATGGTTCACTGAAGACCCAGGTCCAGATGAAGCTCCCAGAATGCCAGAGGCTGCTCCCCCCGTGGCCCCTGCACCAGCAGCTCCTACACCGGCGGCCCCTGCACCAGCCCCCTCCTGGCCCCTGTCATCTTCTGTCCCTTCCCAGAAAACCTACCAGGGCAGCTACGGTTTCCGTCTGGGCTTCTTGCATTCTGGGACAGCCAAGTCTGTGACTTGCACGTACTCCCCTGCCCTCAACAAGATGTTTTGCCAACTGGCCAAGACCTGCCCTGTGCAGCTGTGGGTTGATTCCACACCCCCGCCCGGCACCCGCGTCCGCGCCATGGCCATCTACAAGCAGTCACAGCACATGACGGAGGTTGTGAGGCGCTGCCCCCACCATGAGCGCTGCTCAGATAGCGATGGTCTGGCCCCTCCTCAGCATCTTATCCGAGTGGAAGGAAATTTGCGTGTGGAGTATTTGGATGACAGAAACACTTTTCGACATAGTGTGGTGGTGCCCTATGAGCCGCCTGAGGTTGGCTCTGACTGTACCACCATCCACTACAACTACATGTGTAACAGTTCCTGCATGGGCGGCATGAACCGGAGGCCCATCCTCACCATCATCACACTGGAAGACTCCAGTGGTAATCTACTGGGACGGAACAGCTTTGAGGTGCGTGTTTGTGCCTGTCCTGGGAGAGACCGGCGCACAGAGGAAGAGAATCTCCGCAAGAAAGGGGAGCCTCACCACGAGCTGCCCCCAGGGAGCACTAAGCGAGCACTGCCCAACAACACCAGCTCCTCTCCCCAGCCAAAGAAGAAACCACTGGATGGAGAATATTTCACCCTTCAGATCCGTGGGCGTGAGCGCTTCGAGATGTTCCGAGAGCTGAATGAGGCCTTGGAACTCAAGGATGCCCAGGCTGGGAAGGAGCCAGGGGGGAGCAGGGCTCACTCCAGCCACCTGAAGTCCAAAAAGGGTCAGTCTACCTCCCGCCATAAAAAACTCATGTTCAAGACAGAAGGGCCTGACTCAGAC\"\n",
    "rna_sequence = dna_sequence.replace(\"T\", \"U\")"
   ],
   "metadata": {
    "collapsed": false,
    "ExecuteTime": {
     "end_time": "2023-06-22T12:47:42.447541Z",
     "start_time": "2023-06-22T12:47:42.258319100Z"
    }
   }
  },
  {
   "cell_type": "code",
   "execution_count": 5,
   "outputs": [
    {
     "data": {
      "text/plain": "['AUG',\n 'GAG',\n 'GAG',\n 'CCG',\n 'CAG',\n 'UCA',\n 'GAU',\n 'CCU',\n 'AGC',\n 'GUC',\n 'GAG',\n 'CCC',\n 'CCU',\n 'CUG',\n 'AGU',\n 'CAG',\n 'GAA',\n 'ACA',\n 'UUU',\n 'UCA',\n 'GAC',\n 'CUA',\n 'UGG',\n 'AAA',\n 'CUA',\n 'CUU',\n 'CCU',\n 'GAA',\n 'AAC',\n 'AAC',\n 'GUU',\n 'CUG',\n 'UCC',\n 'CCC',\n 'UUG',\n 'CCG',\n 'UCC',\n 'CAA',\n 'GCA',\n 'AUG',\n 'GAU',\n 'GAU',\n 'UUG',\n 'AUG',\n 'CUG',\n 'UCC',\n 'CCG',\n 'GAC',\n 'GAU',\n 'AUU',\n 'GAA',\n 'CAA',\n 'UGG',\n 'UUC',\n 'ACU',\n 'GAA',\n 'GAC',\n 'CCA',\n 'GGU',\n 'CCA',\n 'GAU',\n 'GAA',\n 'GCU',\n 'CCC',\n 'AGA',\n 'AUG',\n 'CCA',\n 'GAG',\n 'GCU',\n 'GCU',\n 'CCC',\n 'CCC',\n 'GUG',\n 'GCC',\n 'CCU',\n 'GCA',\n 'CCA',\n 'GCA',\n 'GCU',\n 'CCU',\n 'ACA',\n 'CCG',\n 'GCG',\n 'GCC',\n 'CCU',\n 'GCA',\n 'CCA',\n 'GCC',\n 'CCC',\n 'UCC',\n 'UGG',\n 'CCC',\n 'CUG',\n 'UCA',\n 'UCU',\n 'UCU',\n 'GUC',\n 'CCU',\n 'UCC',\n 'CAG',\n 'AAA',\n 'ACC',\n 'UAC',\n 'CAG',\n 'GGC',\n 'AGC',\n 'UAC',\n 'GGU',\n 'UUC',\n 'CGU',\n 'CUG',\n 'GGC',\n 'UUC',\n 'UUG',\n 'CAU',\n 'UCU',\n 'GGG',\n 'ACA',\n 'GCC',\n 'AAG',\n 'UCU',\n 'GUG',\n 'ACU',\n 'UGC',\n 'ACG',\n 'UAC',\n 'UCC',\n 'CCU',\n 'GCC',\n 'CUC',\n 'AAC',\n 'AAG',\n 'AUG',\n 'UUU',\n 'UGC',\n 'CAA',\n 'CUG',\n 'GCC',\n 'AAG',\n 'ACC',\n 'UGC',\n 'CCU',\n 'GUG',\n 'CAG',\n 'CUG',\n 'UGG',\n 'GUU',\n 'GAU',\n 'UCC',\n 'ACA',\n 'CCC',\n 'CCG',\n 'CCC',\n 'GGC',\n 'ACC',\n 'CGC',\n 'GUC',\n 'CGC',\n 'GCC',\n 'AUG',\n 'GCC',\n 'AUC',\n 'UAC',\n 'AAG',\n 'CAG',\n 'UCA',\n 'CAG',\n 'CAC',\n 'AUG',\n 'ACG',\n 'GAG',\n 'GUU',\n 'GUG',\n 'AGG',\n 'CGC',\n 'UGC',\n 'CCC',\n 'CAC',\n 'CAU',\n 'GAG',\n 'CGC',\n 'UGC',\n 'UCA',\n 'GAU',\n 'AGC',\n 'GAU',\n 'GGU',\n 'CUG',\n 'GCC',\n 'CCU',\n 'CCU',\n 'CAG',\n 'CAU',\n 'CUU',\n 'AUC',\n 'CGA',\n 'GUG',\n 'GAA',\n 'GGA',\n 'AAU',\n 'UUG',\n 'CGU',\n 'GUG',\n 'GAG',\n 'UAU',\n 'UUG',\n 'GAU',\n 'GAC',\n 'AGA',\n 'AAC',\n 'ACU',\n 'UUU',\n 'CGA',\n 'CAU',\n 'AGU',\n 'GUG',\n 'GUG',\n 'GUG',\n 'CCC',\n 'UAU',\n 'GAG',\n 'CCG',\n 'CCU',\n 'GAG',\n 'GUU',\n 'GGC',\n 'UCU',\n 'GAC',\n 'UGU',\n 'ACC',\n 'ACC',\n 'AUC',\n 'CAC',\n 'UAC',\n 'AAC',\n 'UAC',\n 'AUG',\n 'UGU',\n 'AAC',\n 'AGU',\n 'UCC',\n 'UGC',\n 'AUG',\n 'GGC',\n 'GGC',\n 'AUG',\n 'AAC',\n 'CGG',\n 'AGG',\n 'CCC',\n 'AUC',\n 'CUC',\n 'ACC',\n 'AUC',\n 'AUC',\n 'ACA',\n 'CUG',\n 'GAA',\n 'GAC',\n 'UCC',\n 'AGU',\n 'GGU',\n 'AAU',\n 'CUA',\n 'CUG',\n 'GGA',\n 'CGG',\n 'AAC',\n 'AGC',\n 'UUU',\n 'GAG',\n 'GUG',\n 'CGU',\n 'GUU',\n 'UGU',\n 'GCC',\n 'UGU',\n 'CCU',\n 'GGG',\n 'AGA',\n 'GAC',\n 'CGG',\n 'CGC',\n 'ACA',\n 'GAG',\n 'GAA',\n 'GAG',\n 'AAU',\n 'CUC',\n 'CGC',\n 'AAG',\n 'AAA',\n 'GGG',\n 'GAG',\n 'CCU',\n 'CAC',\n 'CAC',\n 'GAG',\n 'CUG',\n 'CCC',\n 'CCA',\n 'GGG',\n 'AGC',\n 'ACU',\n 'AAG',\n 'CGA',\n 'GCA',\n 'CUG',\n 'CCC',\n 'AAC',\n 'AAC',\n 'ACC',\n 'AGC',\n 'UCC',\n 'UCU',\n 'CCC',\n 'CAG',\n 'CCA',\n 'AAG',\n 'AAG',\n 'AAA',\n 'CCA',\n 'CUG',\n 'GAU',\n 'GGA',\n 'GAA',\n 'UAU',\n 'UUC',\n 'ACC',\n 'CUU',\n 'CAG',\n 'AUC',\n 'CGU',\n 'GGG',\n 'CGU',\n 'GAG',\n 'CGC',\n 'UUC',\n 'GAG',\n 'AUG',\n 'UUC',\n 'CGA',\n 'GAG',\n 'CUG',\n 'AAU',\n 'GAG',\n 'GCC',\n 'UUG',\n 'GAA',\n 'CUC',\n 'AAG',\n 'GAU',\n 'GCC',\n 'CAG',\n 'GCU',\n 'GGG',\n 'AAG',\n 'GAG',\n 'CCA',\n 'GGG',\n 'GGG',\n 'AGC',\n 'AGG',\n 'GCU',\n 'CAC',\n 'UCC',\n 'AGC',\n 'CAC',\n 'CUG',\n 'AAG',\n 'UCC',\n 'AAA',\n 'AAG',\n 'GGU',\n 'CAG',\n 'UCU',\n 'ACC',\n 'UCC',\n 'CGC',\n 'CAU',\n 'AAA',\n 'AAA',\n 'CUC',\n 'AUG',\n 'UUC',\n 'AAG',\n 'ACA',\n 'GAA',\n 'GGG',\n 'CCU',\n 'GAC',\n 'UCA',\n 'GAC']"
     },
     "execution_count": 5,
     "metadata": {},
     "output_type": "execute_result"
    }
   ],
   "source": [
    "p53_codons = [rna_sequence[i:i+3] for i in range(0, len(rna_sequence), 3)]\n",
    "\n",
    "p53_codons"
   ],
   "metadata": {
    "collapsed": false,
    "ExecuteTime": {
     "end_time": "2023-06-22T12:47:45.181693Z",
     "start_time": "2023-06-22T12:47:44.957584400Z"
    }
   }
  },
  {
   "cell_type": "code",
   "execution_count": 6,
   "outputs": [],
   "source": [
    "#Die RNA Sequenz wird in Codons geslicet und als Liste in p53_codons gespeichert."
   ],
   "metadata": {
    "collapsed": false,
    "ExecuteTime": {
     "end_time": "2023-06-22T12:47:47.299256100Z",
     "start_time": "2023-06-22T12:47:47.050217300Z"
    }
   }
  },
  {
   "cell_type": "code",
   "execution_count": 7,
   "outputs": [
    {
     "data": {
      "text/plain": "    Original Variation 1 Variation 2 Variation 3 Variation 4 Variation 5   \n0        AUG         UUG         GUG         CUG         AAG         AGG  \\\n1        GAG         AAG         UAG         CAG         GUG         GGG   \n2        GAG         AAG         UAG         CAG         GUG         GGG   \n3        CCG         ACG         UCG         GCG         CAG         CUG   \n4        CAG         AAG         UAG         GAG         CUG         CGG   \n..       ...         ...         ...         ...         ...         ...   \n388      GGG         AGG         UGG         CGG         GAG         GUG   \n389      CCU         ACU         UCU         GCU         CAU         CUU   \n390      GAC         AAC         UAC         CAC         GUC         GGC   \n391      UCA         ACA         GCA         CCA         UAA         UUA   \n392      GAC         AAC         UAC         CAC         GUC         GGC   \n\n    Variation 6 Variation 7 Variation 8 Variation 9  \n0           ACG         AUA         AUU         AUC  \n1           GCG         GAA         GAU         GAC  \n2           GCG         GAA         GAU         GAC  \n3           CGG         CCA         CCU         CCC  \n4           CCG         CAA         CAU         CAC  \n..          ...         ...         ...         ...  \n388         GCG         GGA         GGU         GGC  \n389         CGU         CCA         CCG         CCC  \n390         GCC         GAA         GAU         GAG  \n391         UGA         UCU         UCG         UCC  \n392         GCC         GAA         GAU         GAG  \n\n[393 rows x 10 columns]",
      "text/html": "<div>\n<style scoped>\n    .dataframe tbody tr th:only-of-type {\n        vertical-align: middle;\n    }\n\n    .dataframe tbody tr th {\n        vertical-align: top;\n    }\n\n    .dataframe thead th {\n        text-align: right;\n    }\n</style>\n<table border=\"1\" class=\"dataframe\">\n  <thead>\n    <tr style=\"text-align: right;\">\n      <th></th>\n      <th>Original</th>\n      <th>Variation 1</th>\n      <th>Variation 2</th>\n      <th>Variation 3</th>\n      <th>Variation 4</th>\n      <th>Variation 5</th>\n      <th>Variation 6</th>\n      <th>Variation 7</th>\n      <th>Variation 8</th>\n      <th>Variation 9</th>\n    </tr>\n  </thead>\n  <tbody>\n    <tr>\n      <th>0</th>\n      <td>AUG</td>\n      <td>UUG</td>\n      <td>GUG</td>\n      <td>CUG</td>\n      <td>AAG</td>\n      <td>AGG</td>\n      <td>ACG</td>\n      <td>AUA</td>\n      <td>AUU</td>\n      <td>AUC</td>\n    </tr>\n    <tr>\n      <th>1</th>\n      <td>GAG</td>\n      <td>AAG</td>\n      <td>UAG</td>\n      <td>CAG</td>\n      <td>GUG</td>\n      <td>GGG</td>\n      <td>GCG</td>\n      <td>GAA</td>\n      <td>GAU</td>\n      <td>GAC</td>\n    </tr>\n    <tr>\n      <th>2</th>\n      <td>GAG</td>\n      <td>AAG</td>\n      <td>UAG</td>\n      <td>CAG</td>\n      <td>GUG</td>\n      <td>GGG</td>\n      <td>GCG</td>\n      <td>GAA</td>\n      <td>GAU</td>\n      <td>GAC</td>\n    </tr>\n    <tr>\n      <th>3</th>\n      <td>CCG</td>\n      <td>ACG</td>\n      <td>UCG</td>\n      <td>GCG</td>\n      <td>CAG</td>\n      <td>CUG</td>\n      <td>CGG</td>\n      <td>CCA</td>\n      <td>CCU</td>\n      <td>CCC</td>\n    </tr>\n    <tr>\n      <th>4</th>\n      <td>CAG</td>\n      <td>AAG</td>\n      <td>UAG</td>\n      <td>GAG</td>\n      <td>CUG</td>\n      <td>CGG</td>\n      <td>CCG</td>\n      <td>CAA</td>\n      <td>CAU</td>\n      <td>CAC</td>\n    </tr>\n    <tr>\n      <th>...</th>\n      <td>...</td>\n      <td>...</td>\n      <td>...</td>\n      <td>...</td>\n      <td>...</td>\n      <td>...</td>\n      <td>...</td>\n      <td>...</td>\n      <td>...</td>\n      <td>...</td>\n    </tr>\n    <tr>\n      <th>388</th>\n      <td>GGG</td>\n      <td>AGG</td>\n      <td>UGG</td>\n      <td>CGG</td>\n      <td>GAG</td>\n      <td>GUG</td>\n      <td>GCG</td>\n      <td>GGA</td>\n      <td>GGU</td>\n      <td>GGC</td>\n    </tr>\n    <tr>\n      <th>389</th>\n      <td>CCU</td>\n      <td>ACU</td>\n      <td>UCU</td>\n      <td>GCU</td>\n      <td>CAU</td>\n      <td>CUU</td>\n      <td>CGU</td>\n      <td>CCA</td>\n      <td>CCG</td>\n      <td>CCC</td>\n    </tr>\n    <tr>\n      <th>390</th>\n      <td>GAC</td>\n      <td>AAC</td>\n      <td>UAC</td>\n      <td>CAC</td>\n      <td>GUC</td>\n      <td>GGC</td>\n      <td>GCC</td>\n      <td>GAA</td>\n      <td>GAU</td>\n      <td>GAG</td>\n    </tr>\n    <tr>\n      <th>391</th>\n      <td>UCA</td>\n      <td>ACA</td>\n      <td>GCA</td>\n      <td>CCA</td>\n      <td>UAA</td>\n      <td>UUA</td>\n      <td>UGA</td>\n      <td>UCU</td>\n      <td>UCG</td>\n      <td>UCC</td>\n    </tr>\n    <tr>\n      <th>392</th>\n      <td>GAC</td>\n      <td>AAC</td>\n      <td>UAC</td>\n      <td>CAC</td>\n      <td>GUC</td>\n      <td>GGC</td>\n      <td>GCC</td>\n      <td>GAA</td>\n      <td>GAU</td>\n      <td>GAG</td>\n    </tr>\n  </tbody>\n</table>\n<p>393 rows × 10 columns</p>\n</div>"
     },
     "execution_count": 7,
     "metadata": {},
     "output_type": "execute_result"
    }
   ],
   "source": [
    "# Alle möglichen Codons für tp53\n",
    "mutated_p53 = de.generate_codon_variations(p53_codons)\n",
    "mutated_p53"
   ],
   "metadata": {
    "collapsed": false,
    "ExecuteTime": {
     "end_time": "2023-06-22T12:47:49.189598800Z",
     "start_time": "2023-06-22T12:47:48.947156800Z"
    }
   }
  },
  {
   "cell_type": "code",
   "execution_count": 8,
   "outputs": [
    {
     "data": {
      "text/plain": "0\nI    0.3\nL    0.2\nM    0.1\nV    0.1\nK    0.1\nR    0.1\nT    0.1\nName: proportion, dtype: float64"
     },
     "execution_count": 8,
     "metadata": {},
     "output_type": "execute_result"
    }
   ],
   "source": [
    "# Übersetzen aller möglichen Codons\n",
    "aa = de.translate_codons_df(mutated_p53)\n",
    "# aa.Original.loc[0]\n",
    "de.prob_as_position(0, aa)"
   ],
   "metadata": {
    "collapsed": false,
    "ExecuteTime": {
     "end_time": "2023-06-22T12:47:52.255675500Z",
     "start_time": "2023-06-22T12:47:51.839205600Z"
    }
   }
  },
  {
   "cell_type": "code",
   "execution_count": 9,
   "outputs": [
    {
     "data": {
      "text/plain": "0              I         L         V         K         R         T\nAS_old                                                            \nM      -1.370065 -2.032227 -0.669727 -0.189807 -1.470598 -0.380537",
      "text/html": "<div>\n<style scoped>\n    .dataframe tbody tr th:only-of-type {\n        vertical-align: middle;\n    }\n\n    .dataframe tbody tr th {\n        vertical-align: top;\n    }\n\n    .dataframe thead th {\n        text-align: right;\n    }\n</style>\n<table border=\"1\" class=\"dataframe\">\n  <thead>\n    <tr style=\"text-align: right;\">\n      <th></th>\n      <th>I</th>\n      <th>L</th>\n      <th>V</th>\n      <th>K</th>\n      <th>R</th>\n      <th>T</th>\n    </tr>\n    <tr>\n      <th>AS_old</th>\n      <th></th>\n      <th></th>\n      <th></th>\n      <th></th>\n      <th></th>\n      <th></th>\n    </tr>\n  </thead>\n  <tbody>\n    <tr>\n      <th>M</th>\n      <td>-1.370065</td>\n      <td>-2.032227</td>\n      <td>-0.669727</td>\n      <td>-0.189807</td>\n      <td>-1.470598</td>\n      <td>-0.380537</td>\n    </tr>\n  </tbody>\n</table>\n</div>"
     },
     "execution_count": 9,
     "metadata": {},
     "output_type": "execute_result"
    }
   ],
   "source": [
    "## Das DMS_score df soll in ein df umgewandelt werden, indem nur die single mutations drinstehen. In dieser Zelle probiere ich das erst einmal für eine Zeile, bevor ich über alle iteriere.\n",
    "\n",
    "#load DMS_scores\n",
    "gia_null_eto: pd.DataFrame = pd.read_csv('../DMS_data/P53_HUMAN_Giacomelli_NULL_Etoposide_2018.csv')\n",
    "df = dc.df_transform_inverse(gia_null_eto)\n",
    "\n",
    "#modify \"aa\", so that all \"*\" values are eliminated and so that the original aminoacid is cut off\n",
    "aa_cleaned = aa.replace('*', np.nan).iloc[:, 1:]\n",
    "\n",
    "\n",
    "#position\n",
    "x=0\n",
    "\n",
    "# get single mutated AAs\n",
    "mut_per_pos = de.prob_as_position(x,aa_cleaned).index\n",
    "\n",
    "# select single mutations out of all DMS_score mutations\n",
    "selected_columns = df.loc[x+1,mut_per_pos]\n",
    "\n",
    "selected_columns"
   ],
   "metadata": {
    "collapsed": false,
    "ExecuteTime": {
     "end_time": "2023-06-22T12:47:57.524823500Z",
     "start_time": "2023-06-22T12:47:57.182662200Z"
    }
   }
  },
  {
   "cell_type": "code",
   "execution_count": 14,
   "outputs": [
    {
     "data": {
      "text/plain": "          I         L         V         K         R         T         D   \n0 -1.370065 -2.032227 -0.669727 -0.189807 -1.470598 -0.380537       NaN  \\\n1       NaN       NaN  0.281564  0.343821       NaN       NaN  0.180007   \n2       NaN       NaN -0.296231  0.301952       NaN       NaN  0.223665   \n3       NaN  0.356359       NaN       NaN  0.416459  0.338175       NaN   \n4       NaN  0.572254       NaN  0.619942 -0.061831       NaN       NaN   \n\n          Q         G         A         E         P         S        H   N   \n0       NaN       NaN       NaN       NaN       NaN       NaN      NaN NaN  \\\n1  0.121747 -1.136268 -0.376597       NaN       NaN       NaN      NaN NaN   \n2  0.188514 -1.231009 -0.178116       NaN       NaN       NaN      NaN NaN   \n3  0.537396       NaN -1.175946       NaN       NaN  0.254247      NaN NaN   \n4       NaN       NaN       NaN  0.154363  0.073229       NaN  0.47302 NaN   \n\n    Y   C   F   M   W  \n0 NaN NaN NaN NaN NaN  \n1 NaN NaN NaN NaN NaN  \n2 NaN NaN NaN NaN NaN  \n3 NaN NaN NaN NaN NaN  \n4 NaN NaN NaN NaN NaN  ",
      "text/html": "<div>\n<style scoped>\n    .dataframe tbody tr th:only-of-type {\n        vertical-align: middle;\n    }\n\n    .dataframe tbody tr th {\n        vertical-align: top;\n    }\n\n    .dataframe thead th {\n        text-align: right;\n    }\n</style>\n<table border=\"1\" class=\"dataframe\">\n  <thead>\n    <tr style=\"text-align: right;\">\n      <th></th>\n      <th>I</th>\n      <th>L</th>\n      <th>V</th>\n      <th>K</th>\n      <th>R</th>\n      <th>T</th>\n      <th>D</th>\n      <th>Q</th>\n      <th>G</th>\n      <th>A</th>\n      <th>E</th>\n      <th>P</th>\n      <th>S</th>\n      <th>H</th>\n      <th>N</th>\n      <th>Y</th>\n      <th>C</th>\n      <th>F</th>\n      <th>M</th>\n      <th>W</th>\n    </tr>\n  </thead>\n  <tbody>\n    <tr>\n      <th>0</th>\n      <td>-1.370065</td>\n      <td>-2.032227</td>\n      <td>-0.669727</td>\n      <td>-0.189807</td>\n      <td>-1.470598</td>\n      <td>-0.380537</td>\n      <td>NaN</td>\n      <td>NaN</td>\n      <td>NaN</td>\n      <td>NaN</td>\n      <td>NaN</td>\n      <td>NaN</td>\n      <td>NaN</td>\n      <td>NaN</td>\n      <td>NaN</td>\n      <td>NaN</td>\n      <td>NaN</td>\n      <td>NaN</td>\n      <td>NaN</td>\n      <td>NaN</td>\n    </tr>\n    <tr>\n      <th>1</th>\n      <td>NaN</td>\n      <td>NaN</td>\n      <td>0.281564</td>\n      <td>0.343821</td>\n      <td>NaN</td>\n      <td>NaN</td>\n      <td>0.180007</td>\n      <td>0.121747</td>\n      <td>-1.136268</td>\n      <td>-0.376597</td>\n      <td>NaN</td>\n      <td>NaN</td>\n      <td>NaN</td>\n      <td>NaN</td>\n      <td>NaN</td>\n      <td>NaN</td>\n      <td>NaN</td>\n      <td>NaN</td>\n      <td>NaN</td>\n      <td>NaN</td>\n    </tr>\n    <tr>\n      <th>2</th>\n      <td>NaN</td>\n      <td>NaN</td>\n      <td>-0.296231</td>\n      <td>0.301952</td>\n      <td>NaN</td>\n      <td>NaN</td>\n      <td>0.223665</td>\n      <td>0.188514</td>\n      <td>-1.231009</td>\n      <td>-0.178116</td>\n      <td>NaN</td>\n      <td>NaN</td>\n      <td>NaN</td>\n      <td>NaN</td>\n      <td>NaN</td>\n      <td>NaN</td>\n      <td>NaN</td>\n      <td>NaN</td>\n      <td>NaN</td>\n      <td>NaN</td>\n    </tr>\n    <tr>\n      <th>3</th>\n      <td>NaN</td>\n      <td>0.356359</td>\n      <td>NaN</td>\n      <td>NaN</td>\n      <td>0.416459</td>\n      <td>0.338175</td>\n      <td>NaN</td>\n      <td>0.537396</td>\n      <td>NaN</td>\n      <td>-1.175946</td>\n      <td>NaN</td>\n      <td>NaN</td>\n      <td>0.254247</td>\n      <td>NaN</td>\n      <td>NaN</td>\n      <td>NaN</td>\n      <td>NaN</td>\n      <td>NaN</td>\n      <td>NaN</td>\n      <td>NaN</td>\n    </tr>\n    <tr>\n      <th>4</th>\n      <td>NaN</td>\n      <td>0.572254</td>\n      <td>NaN</td>\n      <td>0.619942</td>\n      <td>-0.061831</td>\n      <td>NaN</td>\n      <td>NaN</td>\n      <td>NaN</td>\n      <td>NaN</td>\n      <td>NaN</td>\n      <td>0.154363</td>\n      <td>0.073229</td>\n      <td>NaN</td>\n      <td>0.47302</td>\n      <td>NaN</td>\n      <td>NaN</td>\n      <td>NaN</td>\n      <td>NaN</td>\n      <td>NaN</td>\n      <td>NaN</td>\n    </tr>\n  </tbody>\n</table>\n</div>"
     },
     "execution_count": 14,
     "metadata": {},
     "output_type": "execute_result"
    }
   ],
   "source": [
    "# use the example for one row to iterate it over the whole length of the protein\n",
    "sel_df = de.select_smut(gia_null_eto,aa)\n",
    "sel_df.head()"
   ],
   "metadata": {
    "collapsed": false,
    "ExecuteTime": {
     "end_time": "2023-06-22T12:49:35.363601800Z",
     "start_time": "2023-06-22T12:49:32.195404200Z"
    }
   }
  },
  {
   "cell_type": "code",
   "execution_count": 13,
   "outputs": [
    {
     "ename": "KeyError",
     "evalue": "'AS_new'",
     "output_type": "error",
     "traceback": [
      "\u001B[1;31m---------------------------------------------------------------------------\u001B[0m",
      "\u001B[1;31mKeyError\u001B[0m                                  Traceback (most recent call last)",
      "File \u001B[1;32m~\\Documents\\Uni\\SS_2023\\Bioinfo\\Projekt\\venv\\lib\\site-packages\\pandas\\core\\indexes\\base.py:3652\u001B[0m, in \u001B[0;36mIndex.get_loc\u001B[1;34m(self, key)\u001B[0m\n\u001B[0;32m   3651\u001B[0m \u001B[38;5;28;01mtry\u001B[39;00m:\n\u001B[1;32m-> 3652\u001B[0m     \u001B[38;5;28;01mreturn\u001B[39;00m \u001B[38;5;28;43mself\u001B[39;49m\u001B[38;5;241;43m.\u001B[39;49m\u001B[43m_engine\u001B[49m\u001B[38;5;241;43m.\u001B[39;49m\u001B[43mget_loc\u001B[49m\u001B[43m(\u001B[49m\u001B[43mcasted_key\u001B[49m\u001B[43m)\u001B[49m\n\u001B[0;32m   3653\u001B[0m \u001B[38;5;28;01mexcept\u001B[39;00m \u001B[38;5;167;01mKeyError\u001B[39;00m \u001B[38;5;28;01mas\u001B[39;00m err:\n",
      "File \u001B[1;32m~\\Documents\\Uni\\SS_2023\\Bioinfo\\Projekt\\venv\\lib\\site-packages\\pandas\\_libs\\index.pyx:147\u001B[0m, in \u001B[0;36mpandas._libs.index.IndexEngine.get_loc\u001B[1;34m()\u001B[0m\n",
      "File \u001B[1;32m~\\Documents\\Uni\\SS_2023\\Bioinfo\\Projekt\\venv\\lib\\site-packages\\pandas\\_libs\\index.pyx:176\u001B[0m, in \u001B[0;36mpandas._libs.index.IndexEngine.get_loc\u001B[1;34m()\u001B[0m\n",
      "File \u001B[1;32mpandas\\_libs\\hashtable_class_helper.pxi:7080\u001B[0m, in \u001B[0;36mpandas._libs.hashtable.PyObjectHashTable.get_item\u001B[1;34m()\u001B[0m\n",
      "File \u001B[1;32mpandas\\_libs\\hashtable_class_helper.pxi:7088\u001B[0m, in \u001B[0;36mpandas._libs.hashtable.PyObjectHashTable.get_item\u001B[1;34m()\u001B[0m\n",
      "\u001B[1;31mKeyError\u001B[0m: 'AS_new'",
      "\nThe above exception was the direct cause of the following exception:\n",
      "\u001B[1;31mKeyError\u001B[0m                                  Traceback (most recent call last)",
      "Cell \u001B[1;32mIn[13], line 1\u001B[0m\n\u001B[1;32m----> 1\u001B[0m \u001B[43mfunc\u001B[49m\u001B[38;5;241;43m.\u001B[39;49m\u001B[43mhmap\u001B[49m\u001B[43m(\u001B[49m\u001B[43msel_df\u001B[49m\u001B[43m)\u001B[49m\n",
      "File \u001B[1;32m~\\Documents\\Uni\\SS_2023\\Bioinfo\\Projekt\\functions\\functions.py:21\u001B[0m, in \u001B[0;36mhmap\u001B[1;34m(frame)\u001B[0m\n\u001B[0;32m     20\u001B[0m \u001B[38;5;28;01mdef\u001B[39;00m \u001B[38;5;21mhmap\u001B[39m(frame: pd\u001B[38;5;241m.\u001B[39mDataFrame) \u001B[38;5;241m-\u001B[39m\u001B[38;5;241m>\u001B[39m \u001B[38;5;28;01mNone\u001B[39;00m:\n\u001B[1;32m---> 21\u001B[0m     hmap_frame: pd\u001B[38;5;241m.\u001B[39mDataFrame \u001B[38;5;241m=\u001B[39m \u001B[43mframe\u001B[49m\u001B[38;5;241;43m.\u001B[39;49m\u001B[43mpivot\u001B[49m\u001B[43m(\u001B[49m\u001B[43mindex\u001B[49m\u001B[38;5;241;43m=\u001B[39;49m\u001B[38;5;124;43m'\u001B[39;49m\u001B[38;5;124;43mAS_new\u001B[39;49m\u001B[38;5;124;43m'\u001B[39;49m\u001B[43m,\u001B[49m\u001B[43m \u001B[49m\u001B[43mcolumns\u001B[49m\u001B[38;5;241;43m=\u001B[39;49m\u001B[43m[\u001B[49m\u001B[38;5;124;43m'\u001B[39;49m\u001B[38;5;124;43mposition_mut\u001B[39;49m\u001B[38;5;124;43m'\u001B[39;49m\u001B[43m,\u001B[49m\u001B[43m \u001B[49m\u001B[38;5;124;43m'\u001B[39;49m\u001B[38;5;124;43mAS_old\u001B[39;49m\u001B[38;5;124;43m'\u001B[39;49m\u001B[43m]\u001B[49m\u001B[43m,\u001B[49m\u001B[43m \u001B[49m\u001B[43mvalues\u001B[49m\u001B[38;5;241;43m=\u001B[39;49m\u001B[38;5;124;43m'\u001B[39;49m\u001B[38;5;124;43mDMS_score\u001B[39;49m\u001B[38;5;124;43m'\u001B[39;49m\u001B[43m)\u001B[49m\n\u001B[0;32m     22\u001B[0m     plt\u001B[38;5;241m.\u001B[39mfigure(figsize\u001B[38;5;241m=\u001B[39m(\u001B[38;5;241m50\u001B[39m, \u001B[38;5;241m8\u001B[39m))\n\u001B[0;32m     23\u001B[0m     sns\u001B[38;5;241m.\u001B[39mset(font_scale\u001B[38;5;241m=\u001B[39m\u001B[38;5;241m2\u001B[39m)\n",
      "File \u001B[1;32m~\\Documents\\Uni\\SS_2023\\Bioinfo\\Projekt\\venv\\lib\\site-packages\\pandas\\core\\frame.py:8424\u001B[0m, in \u001B[0;36mDataFrame.pivot\u001B[1;34m(self, columns, index, values)\u001B[0m\n\u001B[0;32m   8419\u001B[0m \u001B[38;5;129m@Substitution\u001B[39m(\u001B[38;5;124m\"\u001B[39m\u001B[38;5;124m\"\u001B[39m)\n\u001B[0;32m   8420\u001B[0m \u001B[38;5;129m@Appender\u001B[39m(_shared_docs[\u001B[38;5;124m\"\u001B[39m\u001B[38;5;124mpivot\u001B[39m\u001B[38;5;124m\"\u001B[39m])\n\u001B[0;32m   8421\u001B[0m \u001B[38;5;28;01mdef\u001B[39;00m \u001B[38;5;21mpivot\u001B[39m(\u001B[38;5;28mself\u001B[39m, \u001B[38;5;241m*\u001B[39m, columns, index\u001B[38;5;241m=\u001B[39mlib\u001B[38;5;241m.\u001B[39mNoDefault, values\u001B[38;5;241m=\u001B[39mlib\u001B[38;5;241m.\u001B[39mNoDefault) \u001B[38;5;241m-\u001B[39m\u001B[38;5;241m>\u001B[39m DataFrame:\n\u001B[0;32m   8422\u001B[0m     \u001B[38;5;28;01mfrom\u001B[39;00m \u001B[38;5;21;01mpandas\u001B[39;00m\u001B[38;5;21;01m.\u001B[39;00m\u001B[38;5;21;01mcore\u001B[39;00m\u001B[38;5;21;01m.\u001B[39;00m\u001B[38;5;21;01mreshape\u001B[39;00m\u001B[38;5;21;01m.\u001B[39;00m\u001B[38;5;21;01mpivot\u001B[39;00m \u001B[38;5;28;01mimport\u001B[39;00m pivot\n\u001B[1;32m-> 8424\u001B[0m     \u001B[38;5;28;01mreturn\u001B[39;00m \u001B[43mpivot\u001B[49m\u001B[43m(\u001B[49m\u001B[38;5;28;43mself\u001B[39;49m\u001B[43m,\u001B[49m\u001B[43m \u001B[49m\u001B[43mindex\u001B[49m\u001B[38;5;241;43m=\u001B[39;49m\u001B[43mindex\u001B[49m\u001B[43m,\u001B[49m\u001B[43m \u001B[49m\u001B[43mcolumns\u001B[49m\u001B[38;5;241;43m=\u001B[39;49m\u001B[43mcolumns\u001B[49m\u001B[43m,\u001B[49m\u001B[43m \u001B[49m\u001B[43mvalues\u001B[49m\u001B[38;5;241;43m=\u001B[39;49m\u001B[43mvalues\u001B[49m\u001B[43m)\u001B[49m\n",
      "File \u001B[1;32m~\\Documents\\Uni\\SS_2023\\Bioinfo\\Projekt\\venv\\lib\\site-packages\\pandas\\core\\reshape\\pivot.py:540\u001B[0m, in \u001B[0;36mpivot\u001B[1;34m(data, columns, index, values)\u001B[0m\n\u001B[0;32m    538\u001B[0m         index_list \u001B[38;5;241m=\u001B[39m [Series(data\u001B[38;5;241m.\u001B[39mindex, name\u001B[38;5;241m=\u001B[39mdata\u001B[38;5;241m.\u001B[39mindex\u001B[38;5;241m.\u001B[39mname)]\n\u001B[0;32m    539\u001B[0m \u001B[38;5;28;01melse\u001B[39;00m:\n\u001B[1;32m--> 540\u001B[0m     index_list \u001B[38;5;241m=\u001B[39m [data[idx] \u001B[38;5;28;01mfor\u001B[39;00m idx \u001B[38;5;129;01min\u001B[39;00m com\u001B[38;5;241m.\u001B[39mconvert_to_list_like(index)]\n\u001B[0;32m    542\u001B[0m data_columns \u001B[38;5;241m=\u001B[39m [data[col] \u001B[38;5;28;01mfor\u001B[39;00m col \u001B[38;5;129;01min\u001B[39;00m columns_listlike]\n\u001B[0;32m    543\u001B[0m index_list\u001B[38;5;241m.\u001B[39mextend(data_columns)\n",
      "File \u001B[1;32m~\\Documents\\Uni\\SS_2023\\Bioinfo\\Projekt\\venv\\lib\\site-packages\\pandas\\core\\reshape\\pivot.py:540\u001B[0m, in \u001B[0;36m<listcomp>\u001B[1;34m(.0)\u001B[0m\n\u001B[0;32m    538\u001B[0m         index_list \u001B[38;5;241m=\u001B[39m [Series(data\u001B[38;5;241m.\u001B[39mindex, name\u001B[38;5;241m=\u001B[39mdata\u001B[38;5;241m.\u001B[39mindex\u001B[38;5;241m.\u001B[39mname)]\n\u001B[0;32m    539\u001B[0m \u001B[38;5;28;01melse\u001B[39;00m:\n\u001B[1;32m--> 540\u001B[0m     index_list \u001B[38;5;241m=\u001B[39m [\u001B[43mdata\u001B[49m\u001B[43m[\u001B[49m\u001B[43midx\u001B[49m\u001B[43m]\u001B[49m \u001B[38;5;28;01mfor\u001B[39;00m idx \u001B[38;5;129;01min\u001B[39;00m com\u001B[38;5;241m.\u001B[39mconvert_to_list_like(index)]\n\u001B[0;32m    542\u001B[0m data_columns \u001B[38;5;241m=\u001B[39m [data[col] \u001B[38;5;28;01mfor\u001B[39;00m col \u001B[38;5;129;01min\u001B[39;00m columns_listlike]\n\u001B[0;32m    543\u001B[0m index_list\u001B[38;5;241m.\u001B[39mextend(data_columns)\n",
      "File \u001B[1;32m~\\Documents\\Uni\\SS_2023\\Bioinfo\\Projekt\\venv\\lib\\site-packages\\pandas\\core\\frame.py:3761\u001B[0m, in \u001B[0;36mDataFrame.__getitem__\u001B[1;34m(self, key)\u001B[0m\n\u001B[0;32m   3759\u001B[0m \u001B[38;5;28;01mif\u001B[39;00m \u001B[38;5;28mself\u001B[39m\u001B[38;5;241m.\u001B[39mcolumns\u001B[38;5;241m.\u001B[39mnlevels \u001B[38;5;241m>\u001B[39m \u001B[38;5;241m1\u001B[39m:\n\u001B[0;32m   3760\u001B[0m     \u001B[38;5;28;01mreturn\u001B[39;00m \u001B[38;5;28mself\u001B[39m\u001B[38;5;241m.\u001B[39m_getitem_multilevel(key)\n\u001B[1;32m-> 3761\u001B[0m indexer \u001B[38;5;241m=\u001B[39m \u001B[38;5;28;43mself\u001B[39;49m\u001B[38;5;241;43m.\u001B[39;49m\u001B[43mcolumns\u001B[49m\u001B[38;5;241;43m.\u001B[39;49m\u001B[43mget_loc\u001B[49m\u001B[43m(\u001B[49m\u001B[43mkey\u001B[49m\u001B[43m)\u001B[49m\n\u001B[0;32m   3762\u001B[0m \u001B[38;5;28;01mif\u001B[39;00m is_integer(indexer):\n\u001B[0;32m   3763\u001B[0m     indexer \u001B[38;5;241m=\u001B[39m [indexer]\n",
      "File \u001B[1;32m~\\Documents\\Uni\\SS_2023\\Bioinfo\\Projekt\\venv\\lib\\site-packages\\pandas\\core\\indexes\\base.py:3654\u001B[0m, in \u001B[0;36mIndex.get_loc\u001B[1;34m(self, key)\u001B[0m\n\u001B[0;32m   3652\u001B[0m     \u001B[38;5;28;01mreturn\u001B[39;00m \u001B[38;5;28mself\u001B[39m\u001B[38;5;241m.\u001B[39m_engine\u001B[38;5;241m.\u001B[39mget_loc(casted_key)\n\u001B[0;32m   3653\u001B[0m \u001B[38;5;28;01mexcept\u001B[39;00m \u001B[38;5;167;01mKeyError\u001B[39;00m \u001B[38;5;28;01mas\u001B[39;00m err:\n\u001B[1;32m-> 3654\u001B[0m     \u001B[38;5;28;01mraise\u001B[39;00m \u001B[38;5;167;01mKeyError\u001B[39;00m(key) \u001B[38;5;28;01mfrom\u001B[39;00m \u001B[38;5;21;01merr\u001B[39;00m\n\u001B[0;32m   3655\u001B[0m \u001B[38;5;28;01mexcept\u001B[39;00m \u001B[38;5;167;01mTypeError\u001B[39;00m:\n\u001B[0;32m   3656\u001B[0m     \u001B[38;5;66;03m# If we have a listlike key, _check_indexing_error will raise\u001B[39;00m\n\u001B[0;32m   3657\u001B[0m     \u001B[38;5;66;03m#  InvalidIndexError. Otherwise we fall through and re-raise\u001B[39;00m\n\u001B[0;32m   3658\u001B[0m     \u001B[38;5;66;03m#  the TypeError.\u001B[39;00m\n\u001B[0;32m   3659\u001B[0m     \u001B[38;5;28mself\u001B[39m\u001B[38;5;241m.\u001B[39m_check_indexing_error(key)\n",
      "\u001B[1;31mKeyError\u001B[0m: 'AS_new'"
     ]
    }
   ],
   "source": [
    "func.hmap(sel_df)"
   ],
   "metadata": {
    "collapsed": false,
    "ExecuteTime": {
     "end_time": "2023-06-22T12:49:18.655929400Z",
     "start_time": "2023-06-22T12:49:14.427886800Z"
    }
   }
  }
 ],
 "metadata": {
  "kernelspec": {
   "display_name": "Python 3",
   "language": "python",
   "name": "python3"
  },
  "language_info": {
   "codemirror_mode": {
    "name": "ipython",
    "version": 2
   },
   "file_extension": ".py",
   "mimetype": "text/x-python",
   "name": "python",
   "nbconvert_exporter": "python",
   "pygments_lexer": "ipython2",
   "version": "2.7.6"
  }
 },
 "nbformat": 4,
 "nbformat_minor": 0
}
