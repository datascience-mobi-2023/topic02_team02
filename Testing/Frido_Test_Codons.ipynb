{
 "cells": [
  {
   "cell_type": "code",
   "execution_count": 1,
   "outputs": [
    {
     "data": {
      "text/plain": "    AAA AAC AAG AAU ACA ACC ACG ACU AGA AGC  ... UCG UCU UGA UGC UGG UGU UUA   \nAAA   0   1   1   1   1   2   2   2   1   2  ...   3   3   2   3   3   3   2  \\\nAAC   1   0   1   1   2   1   2   2   2   1  ...   3   3   3   2   3   3   3   \nAAG   1   1   0   1   2   2   1   2   2   2  ...   2   3   3   3   2   3   3   \nAAU   1   1   1   0   2   2   2   1   2   2  ...   3   2   3   3   3   2   3   \nACA   1   2   2   2   0   1   1   1   1   2  ...   2   2   2   3   3   3   2   \n..   ..  ..  ..  ..  ..  ..  ..  ..  ..  ..  ...  ..  ..  ..  ..  ..  ..  ..   \nUGU   3   3   3   2   3   3   3   2   2   2  ...   2   1   1   1   1   0   2   \nUUA   2   3   3   3   2   3   3   3   2   3  ...   2   2   1   2   2   2   0   \nUUC   3   2   3   3   3   2   3   3   3   2  ...   2   2   2   1   2   2   1   \nUUG   3   3   2   3   3   3   2   3   3   3  ...   1   2   2   2   1   2   1   \nUUU   3   3   3   2   3   3   3   2   3   3  ...   2   1   2   2   2   1   1   \n\n    UUC UUG UUU  \nAAA   3   3   3  \nAAC   2   3   3  \nAAG   3   2   3  \nAAU   3   3   2  \nACA   3   3   3  \n..   ..  ..  ..  \nUGU   2   2   1  \nUUA   1   1   1  \nUUC   0   1   1  \nUUG   1   0   1  \nUUU   1   1   0  \n\n[64 rows x 64 columns]",
      "text/html": "<div>\n<style scoped>\n    .dataframe tbody tr th:only-of-type {\n        vertical-align: middle;\n    }\n\n    .dataframe tbody tr th {\n        vertical-align: top;\n    }\n\n    .dataframe thead th {\n        text-align: right;\n    }\n</style>\n<table border=\"1\" class=\"dataframe\">\n  <thead>\n    <tr style=\"text-align: right;\">\n      <th></th>\n      <th>AAA</th>\n      <th>AAC</th>\n      <th>AAG</th>\n      <th>AAU</th>\n      <th>ACA</th>\n      <th>ACC</th>\n      <th>ACG</th>\n      <th>ACU</th>\n      <th>AGA</th>\n      <th>AGC</th>\n      <th>...</th>\n      <th>UCG</th>\n      <th>UCU</th>\n      <th>UGA</th>\n      <th>UGC</th>\n      <th>UGG</th>\n      <th>UGU</th>\n      <th>UUA</th>\n      <th>UUC</th>\n      <th>UUG</th>\n      <th>UUU</th>\n    </tr>\n  </thead>\n  <tbody>\n    <tr>\n      <th>AAA</th>\n      <td>0</td>\n      <td>1</td>\n      <td>1</td>\n      <td>1</td>\n      <td>1</td>\n      <td>2</td>\n      <td>2</td>\n      <td>2</td>\n      <td>1</td>\n      <td>2</td>\n      <td>...</td>\n      <td>3</td>\n      <td>3</td>\n      <td>2</td>\n      <td>3</td>\n      <td>3</td>\n      <td>3</td>\n      <td>2</td>\n      <td>3</td>\n      <td>3</td>\n      <td>3</td>\n    </tr>\n    <tr>\n      <th>AAC</th>\n      <td>1</td>\n      <td>0</td>\n      <td>1</td>\n      <td>1</td>\n      <td>2</td>\n      <td>1</td>\n      <td>2</td>\n      <td>2</td>\n      <td>2</td>\n      <td>1</td>\n      <td>...</td>\n      <td>3</td>\n      <td>3</td>\n      <td>3</td>\n      <td>2</td>\n      <td>3</td>\n      <td>3</td>\n      <td>3</td>\n      <td>2</td>\n      <td>3</td>\n      <td>3</td>\n    </tr>\n    <tr>\n      <th>AAG</th>\n      <td>1</td>\n      <td>1</td>\n      <td>0</td>\n      <td>1</td>\n      <td>2</td>\n      <td>2</td>\n      <td>1</td>\n      <td>2</td>\n      <td>2</td>\n      <td>2</td>\n      <td>...</td>\n      <td>2</td>\n      <td>3</td>\n      <td>3</td>\n      <td>3</td>\n      <td>2</td>\n      <td>3</td>\n      <td>3</td>\n      <td>3</td>\n      <td>2</td>\n      <td>3</td>\n    </tr>\n    <tr>\n      <th>AAU</th>\n      <td>1</td>\n      <td>1</td>\n      <td>1</td>\n      <td>0</td>\n      <td>2</td>\n      <td>2</td>\n      <td>2</td>\n      <td>1</td>\n      <td>2</td>\n      <td>2</td>\n      <td>...</td>\n      <td>3</td>\n      <td>2</td>\n      <td>3</td>\n      <td>3</td>\n      <td>3</td>\n      <td>2</td>\n      <td>3</td>\n      <td>3</td>\n      <td>3</td>\n      <td>2</td>\n    </tr>\n    <tr>\n      <th>ACA</th>\n      <td>1</td>\n      <td>2</td>\n      <td>2</td>\n      <td>2</td>\n      <td>0</td>\n      <td>1</td>\n      <td>1</td>\n      <td>1</td>\n      <td>1</td>\n      <td>2</td>\n      <td>...</td>\n      <td>2</td>\n      <td>2</td>\n      <td>2</td>\n      <td>3</td>\n      <td>3</td>\n      <td>3</td>\n      <td>2</td>\n      <td>3</td>\n      <td>3</td>\n      <td>3</td>\n    </tr>\n    <tr>\n      <th>...</th>\n      <td>...</td>\n      <td>...</td>\n      <td>...</td>\n      <td>...</td>\n      <td>...</td>\n      <td>...</td>\n      <td>...</td>\n      <td>...</td>\n      <td>...</td>\n      <td>...</td>\n      <td>...</td>\n      <td>...</td>\n      <td>...</td>\n      <td>...</td>\n      <td>...</td>\n      <td>...</td>\n      <td>...</td>\n      <td>...</td>\n      <td>...</td>\n      <td>...</td>\n      <td>...</td>\n    </tr>\n    <tr>\n      <th>UGU</th>\n      <td>3</td>\n      <td>3</td>\n      <td>3</td>\n      <td>2</td>\n      <td>3</td>\n      <td>3</td>\n      <td>3</td>\n      <td>2</td>\n      <td>2</td>\n      <td>2</td>\n      <td>...</td>\n      <td>2</td>\n      <td>1</td>\n      <td>1</td>\n      <td>1</td>\n      <td>1</td>\n      <td>0</td>\n      <td>2</td>\n      <td>2</td>\n      <td>2</td>\n      <td>1</td>\n    </tr>\n    <tr>\n      <th>UUA</th>\n      <td>2</td>\n      <td>3</td>\n      <td>3</td>\n      <td>3</td>\n      <td>2</td>\n      <td>3</td>\n      <td>3</td>\n      <td>3</td>\n      <td>2</td>\n      <td>3</td>\n      <td>...</td>\n      <td>2</td>\n      <td>2</td>\n      <td>1</td>\n      <td>2</td>\n      <td>2</td>\n      <td>2</td>\n      <td>0</td>\n      <td>1</td>\n      <td>1</td>\n      <td>1</td>\n    </tr>\n    <tr>\n      <th>UUC</th>\n      <td>3</td>\n      <td>2</td>\n      <td>3</td>\n      <td>3</td>\n      <td>3</td>\n      <td>2</td>\n      <td>3</td>\n      <td>3</td>\n      <td>3</td>\n      <td>2</td>\n      <td>...</td>\n      <td>2</td>\n      <td>2</td>\n      <td>2</td>\n      <td>1</td>\n      <td>2</td>\n      <td>2</td>\n      <td>1</td>\n      <td>0</td>\n      <td>1</td>\n      <td>1</td>\n    </tr>\n    <tr>\n      <th>UUG</th>\n      <td>3</td>\n      <td>3</td>\n      <td>2</td>\n      <td>3</td>\n      <td>3</td>\n      <td>3</td>\n      <td>2</td>\n      <td>3</td>\n      <td>3</td>\n      <td>3</td>\n      <td>...</td>\n      <td>1</td>\n      <td>2</td>\n      <td>2</td>\n      <td>2</td>\n      <td>1</td>\n      <td>2</td>\n      <td>1</td>\n      <td>1</td>\n      <td>0</td>\n      <td>1</td>\n    </tr>\n    <tr>\n      <th>UUU</th>\n      <td>3</td>\n      <td>3</td>\n      <td>3</td>\n      <td>2</td>\n      <td>3</td>\n      <td>3</td>\n      <td>3</td>\n      <td>2</td>\n      <td>3</td>\n      <td>3</td>\n      <td>...</td>\n      <td>2</td>\n      <td>1</td>\n      <td>2</td>\n      <td>2</td>\n      <td>2</td>\n      <td>1</td>\n      <td>1</td>\n      <td>1</td>\n      <td>1</td>\n      <td>0</td>\n    </tr>\n  </tbody>\n</table>\n<p>64 rows × 64 columns</p>\n</div>"
     },
     "execution_count": 1,
     "metadata": {},
     "output_type": "execute_result"
    }
   ],
   "source": [
    "%load_ext autoreload\n",
    "%autoreload 2\n",
    "import pandas as pd\n",
    "import numpy as np\n",
    "import data_cleanup as dc\n",
    "import data_exploration as de\n",
    "from Bio.Seq import Seq\n",
    "\n",
    "\n",
    "\n",
    "codons = ['AAA', 'AAC', 'AAG', 'AAU', 'ACA', 'ACC', 'ACG', 'ACU', 'AGA', 'AGC', 'AGG', 'AGU', 'AUA', 'AUC', 'AUG', 'AUU', 'CAA', 'CAC', 'CAG', 'CAU', 'CCA', 'CCC', 'CCG', 'CCU', 'CGA', 'CGC', 'CGG', 'CGU', 'CUA', 'CUC', 'CUG', 'CUU', 'GAA', 'GAC', 'GAG', 'GAU', 'GCA', 'GCC', 'GCG', 'GCU', 'GGA', 'GGC', 'GGG', 'GGU', 'GUA', 'GUC', 'GUG', 'GUU', 'UAA', 'UAC', 'UAG', 'UAU', 'UCA', 'UCC', 'UCG', 'UCU', 'UGA', 'UGC', 'UGG', 'UGU', 'UUA', 'UUC', 'UUG', 'UUU']\n",
    "\n",
    "# Create an empty dataframe with the custom row and column names\n",
    "codons_codons = pd.DataFrame(index=codons, columns=codons)\n",
    "\n",
    "# Fill the dataframe\n",
    "for row_codon in codons:\n",
    "    for col_codon in codons:\n",
    "        differing_bases = sum(row_base != col_base for row_base, col_base in zip(row_codon, col_codon))\n",
    "        codons_codons.loc[row_codon, col_codon] = differing_bases\n",
    "\n",
    "codons_codons\n",
    "#not used until now (20.6.)"
   ],
   "metadata": {
    "collapsed": false,
    "ExecuteTime": {
     "end_time": "2023-06-26T09:20:30.246063600Z",
     "start_time": "2023-06-26T09:20:23.780176400Z"
    }
   }
  },
  {
   "cell_type": "code",
   "execution_count": 2,
   "outputs": [
    {
     "data": {
      "text/plain": "   codons aacids\n0     AAA      K\n1     AAC      N\n2     AAG      K\n3     AAU      N\n4     ACA      T\n..    ...    ...\n59    UGU      L\n60    UUA      C\n61    UUC      W\n62    UUG      C\n63    UUU      L\n\n[64 rows x 2 columns]",
      "text/html": "<div>\n<style scoped>\n    .dataframe tbody tr th:only-of-type {\n        vertical-align: middle;\n    }\n\n    .dataframe tbody tr th {\n        vertical-align: top;\n    }\n\n    .dataframe thead th {\n        text-align: right;\n    }\n</style>\n<table border=\"1\" class=\"dataframe\">\n  <thead>\n    <tr style=\"text-align: right;\">\n      <th></th>\n      <th>codons</th>\n      <th>aacids</th>\n    </tr>\n  </thead>\n  <tbody>\n    <tr>\n      <th>0</th>\n      <td>AAA</td>\n      <td>K</td>\n    </tr>\n    <tr>\n      <th>1</th>\n      <td>AAC</td>\n      <td>N</td>\n    </tr>\n    <tr>\n      <th>2</th>\n      <td>AAG</td>\n      <td>K</td>\n    </tr>\n    <tr>\n      <th>3</th>\n      <td>AAU</td>\n      <td>N</td>\n    </tr>\n    <tr>\n      <th>4</th>\n      <td>ACA</td>\n      <td>T</td>\n    </tr>\n    <tr>\n      <th>...</th>\n      <td>...</td>\n      <td>...</td>\n    </tr>\n    <tr>\n      <th>59</th>\n      <td>UGU</td>\n      <td>L</td>\n    </tr>\n    <tr>\n      <th>60</th>\n      <td>UUA</td>\n      <td>C</td>\n    </tr>\n    <tr>\n      <th>61</th>\n      <td>UUC</td>\n      <td>W</td>\n    </tr>\n    <tr>\n      <th>62</th>\n      <td>UUG</td>\n      <td>C</td>\n    </tr>\n    <tr>\n      <th>63</th>\n      <td>UUU</td>\n      <td>L</td>\n    </tr>\n  </tbody>\n</table>\n<p>64 rows × 2 columns</p>\n</div>"
     },
     "execution_count": 2,
     "metadata": {},
     "output_type": "execute_result"
    }
   ],
   "source": [
    "aacids = ['K', 'N', 'K', 'N', 'T', 'T', 'T', 'T', 'R', 'S', 'R', 'S', 'I', 'I', 'M', 'I', 'Q', 'H', 'Q', 'H', 'P', 'P', 'P', 'P', 'R', 'R', 'R', 'R', 'L', 'L', 'L', 'L', 'E', 'D', 'E', 'D', 'A', 'A', 'A', 'A', 'G', 'G', 'G', 'G', 'V', 'V', 'V', 'V', 'STOP', 'Y', 'STOP', 'Y', 'S', 'S', 'S', 'S', 'STOP','L', 'F', 'L', 'C', 'W', 'C', 'L']\n",
    "\n",
    "codons_aacids = pd.DataFrame({'codons': codons, 'aacids': aacids })\n",
    "\n",
    "codons_aacids\n",
    "#not used until now (20.6.)"
   ],
   "metadata": {
    "collapsed": false,
    "ExecuteTime": {
     "end_time": "2023-06-26T09:20:30.411434800Z",
     "start_time": "2023-06-26T09:20:30.192490500Z"
    }
   }
  },
  {
   "cell_type": "code",
   "execution_count": 3,
   "outputs": [],
   "source": [
    "dna_sequence = \"ATGGAGGAGCCGCAGTCAGATCCTAGCGTCGAGCCCCCTCTGAGTCAGGAAACATTTTCAGACCTATGGAAACTACTTCCTGAAAACAACGTTCTGTCCCCCTTGCCGTCCCAAGCAATGGATGATTTGATGCTGTCCCCGGACGATATTGAACAATGGTTCACTGAAGACCCAGGTCCAGATGAAGCTCCCAGAATGCCAGAGGCTGCTCCCCCCGTGGCCCCTGCACCAGCAGCTCCTACACCGGCGGCCCCTGCACCAGCCCCCTCCTGGCCCCTGTCATCTTCTGTCCCTTCCCAGAAAACCTACCAGGGCAGCTACGGTTTCCGTCTGGGCTTCTTGCATTCTGGGACAGCCAAGTCTGTGACTTGCACGTACTCCCCTGCCCTCAACAAGATGTTTTGCCAACTGGCCAAGACCTGCCCTGTGCAGCTGTGGGTTGATTCCACACCCCCGCCCGGCACCCGCGTCCGCGCCATGGCCATCTACAAGCAGTCACAGCACATGACGGAGGTTGTGAGGCGCTGCCCCCACCATGAGCGCTGCTCAGATAGCGATGGTCTGGCCCCTCCTCAGCATCTTATCCGAGTGGAAGGAAATTTGCGTGTGGAGTATTTGGATGACAGAAACACTTTTCGACATAGTGTGGTGGTGCCCTATGAGCCGCCTGAGGTTGGCTCTGACTGTACCACCATCCACTACAACTACATGTGTAACAGTTCCTGCATGGGCGGCATGAACCGGAGGCCCATCCTCACCATCATCACACTGGAAGACTCCAGTGGTAATCTACTGGGACGGAACAGCTTTGAGGTGCGTGTTTGTGCCTGTCCTGGGAGAGACCGGCGCACAGAGGAAGAGAATCTCCGCAAGAAAGGGGAGCCTCACCACGAGCTGCCCCCAGGGAGCACTAAGCGAGCACTGCCCAACAACACCAGCTCCTCTCCCCAGCCAAAGAAGAAACCACTGGATGGAGAATATTTCACCCTTCAGATCCGTGGGCGTGAGCGCTTCGAGATGTTCCGAGAGCTGAATGAGGCCTTGGAACTCAAGGATGCCCAGGCTGGGAAGGAGCCAGGGGGGAGCAGGGCTCACTCCAGCCACCTGAAGTCCAAAAAGGGTCAGTCTACCTCCCGCCATAAAAAACTCATGTTCAAGACAGAAGGGCCTGACTCAGAC\"\n",
    "rna_sequence = dna_sequence.replace(\"T\", \"U\")"
   ],
   "metadata": {
    "collapsed": false,
    "ExecuteTime": {
     "end_time": "2023-06-26T09:20:30.889606Z",
     "start_time": "2023-06-26T09:20:30.420451200Z"
    }
   }
  },
  {
   "cell_type": "code",
   "execution_count": 4,
   "outputs": [
    {
     "data": {
      "text/plain": "['AUG',\n 'GAG',\n 'GAG',\n 'CCG',\n 'CAG',\n 'UCA',\n 'GAU',\n 'CCU',\n 'AGC',\n 'GUC',\n 'GAG',\n 'CCC',\n 'CCU',\n 'CUG',\n 'AGU',\n 'CAG',\n 'GAA',\n 'ACA',\n 'UUU',\n 'UCA',\n 'GAC',\n 'CUA',\n 'UGG',\n 'AAA',\n 'CUA',\n 'CUU',\n 'CCU',\n 'GAA',\n 'AAC',\n 'AAC',\n 'GUU',\n 'CUG',\n 'UCC',\n 'CCC',\n 'UUG',\n 'CCG',\n 'UCC',\n 'CAA',\n 'GCA',\n 'AUG',\n 'GAU',\n 'GAU',\n 'UUG',\n 'AUG',\n 'CUG',\n 'UCC',\n 'CCG',\n 'GAC',\n 'GAU',\n 'AUU',\n 'GAA',\n 'CAA',\n 'UGG',\n 'UUC',\n 'ACU',\n 'GAA',\n 'GAC',\n 'CCA',\n 'GGU',\n 'CCA',\n 'GAU',\n 'GAA',\n 'GCU',\n 'CCC',\n 'AGA',\n 'AUG',\n 'CCA',\n 'GAG',\n 'GCU',\n 'GCU',\n 'CCC',\n 'CCC',\n 'GUG',\n 'GCC',\n 'CCU',\n 'GCA',\n 'CCA',\n 'GCA',\n 'GCU',\n 'CCU',\n 'ACA',\n 'CCG',\n 'GCG',\n 'GCC',\n 'CCU',\n 'GCA',\n 'CCA',\n 'GCC',\n 'CCC',\n 'UCC',\n 'UGG',\n 'CCC',\n 'CUG',\n 'UCA',\n 'UCU',\n 'UCU',\n 'GUC',\n 'CCU',\n 'UCC',\n 'CAG',\n 'AAA',\n 'ACC',\n 'UAC',\n 'CAG',\n 'GGC',\n 'AGC',\n 'UAC',\n 'GGU',\n 'UUC',\n 'CGU',\n 'CUG',\n 'GGC',\n 'UUC',\n 'UUG',\n 'CAU',\n 'UCU',\n 'GGG',\n 'ACA',\n 'GCC',\n 'AAG',\n 'UCU',\n 'GUG',\n 'ACU',\n 'UGC',\n 'ACG',\n 'UAC',\n 'UCC',\n 'CCU',\n 'GCC',\n 'CUC',\n 'AAC',\n 'AAG',\n 'AUG',\n 'UUU',\n 'UGC',\n 'CAA',\n 'CUG',\n 'GCC',\n 'AAG',\n 'ACC',\n 'UGC',\n 'CCU',\n 'GUG',\n 'CAG',\n 'CUG',\n 'UGG',\n 'GUU',\n 'GAU',\n 'UCC',\n 'ACA',\n 'CCC',\n 'CCG',\n 'CCC',\n 'GGC',\n 'ACC',\n 'CGC',\n 'GUC',\n 'CGC',\n 'GCC',\n 'AUG',\n 'GCC',\n 'AUC',\n 'UAC',\n 'AAG',\n 'CAG',\n 'UCA',\n 'CAG',\n 'CAC',\n 'AUG',\n 'ACG',\n 'GAG',\n 'GUU',\n 'GUG',\n 'AGG',\n 'CGC',\n 'UGC',\n 'CCC',\n 'CAC',\n 'CAU',\n 'GAG',\n 'CGC',\n 'UGC',\n 'UCA',\n 'GAU',\n 'AGC',\n 'GAU',\n 'GGU',\n 'CUG',\n 'GCC',\n 'CCU',\n 'CCU',\n 'CAG',\n 'CAU',\n 'CUU',\n 'AUC',\n 'CGA',\n 'GUG',\n 'GAA',\n 'GGA',\n 'AAU',\n 'UUG',\n 'CGU',\n 'GUG',\n 'GAG',\n 'UAU',\n 'UUG',\n 'GAU',\n 'GAC',\n 'AGA',\n 'AAC',\n 'ACU',\n 'UUU',\n 'CGA',\n 'CAU',\n 'AGU',\n 'GUG',\n 'GUG',\n 'GUG',\n 'CCC',\n 'UAU',\n 'GAG',\n 'CCG',\n 'CCU',\n 'GAG',\n 'GUU',\n 'GGC',\n 'UCU',\n 'GAC',\n 'UGU',\n 'ACC',\n 'ACC',\n 'AUC',\n 'CAC',\n 'UAC',\n 'AAC',\n 'UAC',\n 'AUG',\n 'UGU',\n 'AAC',\n 'AGU',\n 'UCC',\n 'UGC',\n 'AUG',\n 'GGC',\n 'GGC',\n 'AUG',\n 'AAC',\n 'CGG',\n 'AGG',\n 'CCC',\n 'AUC',\n 'CUC',\n 'ACC',\n 'AUC',\n 'AUC',\n 'ACA',\n 'CUG',\n 'GAA',\n 'GAC',\n 'UCC',\n 'AGU',\n 'GGU',\n 'AAU',\n 'CUA',\n 'CUG',\n 'GGA',\n 'CGG',\n 'AAC',\n 'AGC',\n 'UUU',\n 'GAG',\n 'GUG',\n 'CGU',\n 'GUU',\n 'UGU',\n 'GCC',\n 'UGU',\n 'CCU',\n 'GGG',\n 'AGA',\n 'GAC',\n 'CGG',\n 'CGC',\n 'ACA',\n 'GAG',\n 'GAA',\n 'GAG',\n 'AAU',\n 'CUC',\n 'CGC',\n 'AAG',\n 'AAA',\n 'GGG',\n 'GAG',\n 'CCU',\n 'CAC',\n 'CAC',\n 'GAG',\n 'CUG',\n 'CCC',\n 'CCA',\n 'GGG',\n 'AGC',\n 'ACU',\n 'AAG',\n 'CGA',\n 'GCA',\n 'CUG',\n 'CCC',\n 'AAC',\n 'AAC',\n 'ACC',\n 'AGC',\n 'UCC',\n 'UCU',\n 'CCC',\n 'CAG',\n 'CCA',\n 'AAG',\n 'AAG',\n 'AAA',\n 'CCA',\n 'CUG',\n 'GAU',\n 'GGA',\n 'GAA',\n 'UAU',\n 'UUC',\n 'ACC',\n 'CUU',\n 'CAG',\n 'AUC',\n 'CGU',\n 'GGG',\n 'CGU',\n 'GAG',\n 'CGC',\n 'UUC',\n 'GAG',\n 'AUG',\n 'UUC',\n 'CGA',\n 'GAG',\n 'CUG',\n 'AAU',\n 'GAG',\n 'GCC',\n 'UUG',\n 'GAA',\n 'CUC',\n 'AAG',\n 'GAU',\n 'GCC',\n 'CAG',\n 'GCU',\n 'GGG',\n 'AAG',\n 'GAG',\n 'CCA',\n 'GGG',\n 'GGG',\n 'AGC',\n 'AGG',\n 'GCU',\n 'CAC',\n 'UCC',\n 'AGC',\n 'CAC',\n 'CUG',\n 'AAG',\n 'UCC',\n 'AAA',\n 'AAG',\n 'GGU',\n 'CAG',\n 'UCU',\n 'ACC',\n 'UCC',\n 'CGC',\n 'CAU',\n 'AAA',\n 'AAA',\n 'CUC',\n 'AUG',\n 'UUC',\n 'AAG',\n 'ACA',\n 'GAA',\n 'GGG',\n 'CCU',\n 'GAC',\n 'UCA',\n 'GAC']"
     },
     "execution_count": 4,
     "metadata": {},
     "output_type": "execute_result"
    }
   ],
   "source": [
    "p53_codons = [rna_sequence[i:i+3] for i in range(0, len(rna_sequence), 3)]\n",
    "\n",
    "p53_codons"
   ],
   "metadata": {
    "collapsed": false,
    "ExecuteTime": {
     "end_time": "2023-06-26T09:20:31.125511900Z",
     "start_time": "2023-06-26T09:20:30.894398200Z"
    }
   }
  },
  {
   "cell_type": "code",
   "execution_count": 5,
   "outputs": [],
   "source": [
    "#Die RNA Sequenz wird in Codons geslicet und als Liste in p53_codons gespeichert."
   ],
   "metadata": {
    "collapsed": false,
    "ExecuteTime": {
     "end_time": "2023-06-26T09:20:31.333719200Z",
     "start_time": "2023-06-26T09:20:31.125511900Z"
    }
   }
  },
  {
   "cell_type": "code",
   "execution_count": 6,
   "outputs": [
    {
     "data": {
      "text/plain": "    Original Variation 1 Variation 2 Variation 3 Variation 4 Variation 5   \n0        AUG         UUG         GUG         CUG         AAG         AGG  \\\n1        GAG         AAG         UAG         CAG         GUG         GGG   \n2        GAG         AAG         UAG         CAG         GUG         GGG   \n3        CCG         ACG         UCG         GCG         CAG         CUG   \n4        CAG         AAG         UAG         GAG         CUG         CGG   \n..       ...         ...         ...         ...         ...         ...   \n388      GGG         AGG         UGG         CGG         GAG         GUG   \n389      CCU         ACU         UCU         GCU         CAU         CUU   \n390      GAC         AAC         UAC         CAC         GUC         GGC   \n391      UCA         ACA         GCA         CCA         UAA         UUA   \n392      GAC         AAC         UAC         CAC         GUC         GGC   \n\n    Variation 6 Variation 7 Variation 8 Variation 9  \n0           ACG         AUA         AUU         AUC  \n1           GCG         GAA         GAU         GAC  \n2           GCG         GAA         GAU         GAC  \n3           CGG         CCA         CCU         CCC  \n4           CCG         CAA         CAU         CAC  \n..          ...         ...         ...         ...  \n388         GCG         GGA         GGU         GGC  \n389         CGU         CCA         CCG         CCC  \n390         GCC         GAA         GAU         GAG  \n391         UGA         UCU         UCG         UCC  \n392         GCC         GAA         GAU         GAG  \n\n[393 rows x 10 columns]",
      "text/html": "<div>\n<style scoped>\n    .dataframe tbody tr th:only-of-type {\n        vertical-align: middle;\n    }\n\n    .dataframe tbody tr th {\n        vertical-align: top;\n    }\n\n    .dataframe thead th {\n        text-align: right;\n    }\n</style>\n<table border=\"1\" class=\"dataframe\">\n  <thead>\n    <tr style=\"text-align: right;\">\n      <th></th>\n      <th>Original</th>\n      <th>Variation 1</th>\n      <th>Variation 2</th>\n      <th>Variation 3</th>\n      <th>Variation 4</th>\n      <th>Variation 5</th>\n      <th>Variation 6</th>\n      <th>Variation 7</th>\n      <th>Variation 8</th>\n      <th>Variation 9</th>\n    </tr>\n  </thead>\n  <tbody>\n    <tr>\n      <th>0</th>\n      <td>AUG</td>\n      <td>UUG</td>\n      <td>GUG</td>\n      <td>CUG</td>\n      <td>AAG</td>\n      <td>AGG</td>\n      <td>ACG</td>\n      <td>AUA</td>\n      <td>AUU</td>\n      <td>AUC</td>\n    </tr>\n    <tr>\n      <th>1</th>\n      <td>GAG</td>\n      <td>AAG</td>\n      <td>UAG</td>\n      <td>CAG</td>\n      <td>GUG</td>\n      <td>GGG</td>\n      <td>GCG</td>\n      <td>GAA</td>\n      <td>GAU</td>\n      <td>GAC</td>\n    </tr>\n    <tr>\n      <th>2</th>\n      <td>GAG</td>\n      <td>AAG</td>\n      <td>UAG</td>\n      <td>CAG</td>\n      <td>GUG</td>\n      <td>GGG</td>\n      <td>GCG</td>\n      <td>GAA</td>\n      <td>GAU</td>\n      <td>GAC</td>\n    </tr>\n    <tr>\n      <th>3</th>\n      <td>CCG</td>\n      <td>ACG</td>\n      <td>UCG</td>\n      <td>GCG</td>\n      <td>CAG</td>\n      <td>CUG</td>\n      <td>CGG</td>\n      <td>CCA</td>\n      <td>CCU</td>\n      <td>CCC</td>\n    </tr>\n    <tr>\n      <th>4</th>\n      <td>CAG</td>\n      <td>AAG</td>\n      <td>UAG</td>\n      <td>GAG</td>\n      <td>CUG</td>\n      <td>CGG</td>\n      <td>CCG</td>\n      <td>CAA</td>\n      <td>CAU</td>\n      <td>CAC</td>\n    </tr>\n    <tr>\n      <th>...</th>\n      <td>...</td>\n      <td>...</td>\n      <td>...</td>\n      <td>...</td>\n      <td>...</td>\n      <td>...</td>\n      <td>...</td>\n      <td>...</td>\n      <td>...</td>\n      <td>...</td>\n    </tr>\n    <tr>\n      <th>388</th>\n      <td>GGG</td>\n      <td>AGG</td>\n      <td>UGG</td>\n      <td>CGG</td>\n      <td>GAG</td>\n      <td>GUG</td>\n      <td>GCG</td>\n      <td>GGA</td>\n      <td>GGU</td>\n      <td>GGC</td>\n    </tr>\n    <tr>\n      <th>389</th>\n      <td>CCU</td>\n      <td>ACU</td>\n      <td>UCU</td>\n      <td>GCU</td>\n      <td>CAU</td>\n      <td>CUU</td>\n      <td>CGU</td>\n      <td>CCA</td>\n      <td>CCG</td>\n      <td>CCC</td>\n    </tr>\n    <tr>\n      <th>390</th>\n      <td>GAC</td>\n      <td>AAC</td>\n      <td>UAC</td>\n      <td>CAC</td>\n      <td>GUC</td>\n      <td>GGC</td>\n      <td>GCC</td>\n      <td>GAA</td>\n      <td>GAU</td>\n      <td>GAG</td>\n    </tr>\n    <tr>\n      <th>391</th>\n      <td>UCA</td>\n      <td>ACA</td>\n      <td>GCA</td>\n      <td>CCA</td>\n      <td>UAA</td>\n      <td>UUA</td>\n      <td>UGA</td>\n      <td>UCU</td>\n      <td>UCG</td>\n      <td>UCC</td>\n    </tr>\n    <tr>\n      <th>392</th>\n      <td>GAC</td>\n      <td>AAC</td>\n      <td>UAC</td>\n      <td>CAC</td>\n      <td>GUC</td>\n      <td>GGC</td>\n      <td>GCC</td>\n      <td>GAA</td>\n      <td>GAU</td>\n      <td>GAG</td>\n    </tr>\n  </tbody>\n</table>\n<p>393 rows × 10 columns</p>\n</div>"
     },
     "execution_count": 6,
     "metadata": {},
     "output_type": "execute_result"
    }
   ],
   "source": [
    "# Alle möglichen Codons für tp53\n",
    "mutated_p53 = de.generate_codon_variations(p53_codons)\n",
    "mutated_p53"
   ],
   "metadata": {
    "collapsed": false,
    "ExecuteTime": {
     "end_time": "2023-06-26T09:20:31.571108300Z",
     "start_time": "2023-06-26T09:20:31.337788600Z"
    }
   }
  },
  {
   "cell_type": "code",
   "execution_count": 7,
   "outputs": [
    {
     "data": {
      "text/plain": "0\nI    0.3\nL    0.2\nV    0.1\nK    0.1\nR    0.1\nT    0.1\nName: proportion, dtype: float64"
     },
     "execution_count": 7,
     "metadata": {},
     "output_type": "execute_result"
    }
   ],
   "source": [
    "# Übersetzen aller möglichen Codons\n",
    "aa = de.translate_codons_df(mutated_p53).astype(str)\n",
    "de.prob_as_position(0, aa)"
   ],
   "metadata": {
    "collapsed": false,
    "ExecuteTime": {
     "end_time": "2023-06-26T09:20:31.916487800Z",
     "start_time": "2023-06-26T09:20:31.573379Z"
    }
   }
  },
  {
   "cell_type": "code",
   "execution_count": 8,
   "outputs": [
    {
     "ename": "AttributeError",
     "evalue": "'DataFrame' object has no attribute 'Original'",
     "output_type": "error",
     "traceback": [
      "\u001B[1;31m---------------------------------------------------------------------------\u001B[0m",
      "\u001B[1;31mAttributeError\u001B[0m                            Traceback (most recent call last)",
      "\u001B[1;32m~\\AppData\\Local\\Temp\\ipykernel_26588\\2565594057.py\u001B[0m in \u001B[0;36m?\u001B[1;34m()\u001B[0m\n\u001B[1;32m---> 15\u001B[1;33m \u001B[1;31m## Das DMS_score df soll in ein df umgewandelt werden, indem nur die single mutations drinstehen. In dieser Zelle probiere ich das erst einmal für eine Zeile, bevor ich über alle iteriere.\u001B[0m\u001B[1;33m\u001B[0m\u001B[1;33m\u001B[0m\u001B[1;33m\u001B[0m\u001B[0m\n\u001B[0m\u001B[0;32m     16\u001B[0m \u001B[1;33m\u001B[0m\u001B[0m\n\u001B[0;32m     17\u001B[0m \u001B[1;31m#load DMS_scores\u001B[0m\u001B[1;33m\u001B[0m\u001B[1;33m\u001B[0m\u001B[1;33m\u001B[0m\u001B[0m\n\u001B[0;32m     18\u001B[0m \u001B[0mgia_null_eto\u001B[0m\u001B[1;33m:\u001B[0m \u001B[0mpd\u001B[0m\u001B[1;33m.\u001B[0m\u001B[0mDataFrame\u001B[0m \u001B[1;33m=\u001B[0m \u001B[0mpd\u001B[0m\u001B[1;33m.\u001B[0m\u001B[0mread_csv\u001B[0m\u001B[1;33m(\u001B[0m\u001B[1;34m'../DMS_data/P53_HUMAN_Giacomelli_NULL_Etoposide_2018.csv'\u001B[0m\u001B[1;33m)\u001B[0m\u001B[1;33m\u001B[0m\u001B[1;33m\u001B[0m\u001B[0m\n",
      "\u001B[1;32m~\\Documents\\Uni\\SS_2023\\Bioinfo\\Projekt\\data_exploration\\codon.py\u001B[0m in \u001B[0;36m?\u001B[1;34m(position, variation_matrix)\u001B[0m\n\u001B[0;32m     40\u001B[0m     \u001B[1;34m\"\"\"Function returning the probability for each AMS, resulting from a single mutation in the codon as pd.Series\"\"\"\u001B[0m\u001B[1;33m\u001B[0m\u001B[1;33m\u001B[0m\u001B[0m\n\u001B[0;32m     41\u001B[0m \u001B[1;33m\u001B[0m\u001B[0m\n\u001B[0;32m     42\u001B[0m     \u001B[0mres\u001B[0m\u001B[1;33m:\u001B[0m \u001B[0mpd\u001B[0m\u001B[1;33m.\u001B[0m\u001B[0mSeries\u001B[0m \u001B[1;33m=\u001B[0m \u001B[0mvariation_matrix\u001B[0m\u001B[1;33m.\u001B[0m\u001B[0mloc\u001B[0m\u001B[1;33m[\u001B[0m\u001B[0mposition\u001B[0m\u001B[1;33m]\u001B[0m\u001B[1;33m.\u001B[0m\u001B[0mvalue_counts\u001B[0m\u001B[1;33m(\u001B[0m\u001B[0mnormalize\u001B[0m\u001B[1;33m=\u001B[0m\u001B[1;32mTrue\u001B[0m\u001B[1;33m)\u001B[0m\u001B[1;33m\u001B[0m\u001B[1;33m\u001B[0m\u001B[0m\n\u001B[0;32m     43\u001B[0m \u001B[1;33m\u001B[0m\u001B[0m\n\u001B[1;32m---> 44\u001B[1;33m     \u001B[1;32mreturn\u001B[0m \u001B[0mres\u001B[0m\u001B[1;33m.\u001B[0m\u001B[0mdrop\u001B[0m\u001B[1;33m(\u001B[0m\u001B[0mvariation_matrix\u001B[0m\u001B[1;33m.\u001B[0m\u001B[0mOriginal\u001B[0m\u001B[1;33m.\u001B[0m\u001B[0miloc\u001B[0m\u001B[1;33m[\u001B[0m\u001B[0mposition\u001B[0m\u001B[1;33m]\u001B[0m\u001B[1;33m)\u001B[0m\u001B[1;33m\u001B[0m\u001B[1;33m\u001B[0m\u001B[0m\n\u001B[0m",
      "\u001B[1;32m~\\Documents\\Uni\\SS_2023\\Bioinfo\\Projekt\\venv\\lib\\site-packages\\pandas\\core\\generic.py\u001B[0m in \u001B[0;36m?\u001B[1;34m(self, name)\u001B[0m\n\u001B[0;32m   5985\u001B[0m             \u001B[1;32mand\u001B[0m \u001B[0mname\u001B[0m \u001B[1;32mnot\u001B[0m \u001B[1;32min\u001B[0m \u001B[0mself\u001B[0m\u001B[1;33m.\u001B[0m\u001B[0m_accessors\u001B[0m\u001B[1;33m\u001B[0m\u001B[1;33m\u001B[0m\u001B[0m\n\u001B[0;32m   5986\u001B[0m             \u001B[1;32mand\u001B[0m \u001B[0mself\u001B[0m\u001B[1;33m.\u001B[0m\u001B[0m_info_axis\u001B[0m\u001B[1;33m.\u001B[0m\u001B[0m_can_hold_identifiers_and_holds_name\u001B[0m\u001B[1;33m(\u001B[0m\u001B[0mname\u001B[0m\u001B[1;33m)\u001B[0m\u001B[1;33m\u001B[0m\u001B[1;33m\u001B[0m\u001B[0m\n\u001B[0;32m   5987\u001B[0m         ):\n\u001B[0;32m   5988\u001B[0m             \u001B[1;32mreturn\u001B[0m \u001B[0mself\u001B[0m\u001B[1;33m[\u001B[0m\u001B[0mname\u001B[0m\u001B[1;33m]\u001B[0m\u001B[1;33m\u001B[0m\u001B[1;33m\u001B[0m\u001B[0m\n\u001B[1;32m-> 5989\u001B[1;33m         \u001B[1;32mreturn\u001B[0m \u001B[0mobject\u001B[0m\u001B[1;33m.\u001B[0m\u001B[0m__getattribute__\u001B[0m\u001B[1;33m(\u001B[0m\u001B[0mself\u001B[0m\u001B[1;33m,\u001B[0m \u001B[0mname\u001B[0m\u001B[1;33m)\u001B[0m\u001B[1;33m\u001B[0m\u001B[1;33m\u001B[0m\u001B[0m\n\u001B[0m",
      "\u001B[1;31mAttributeError\u001B[0m: 'DataFrame' object has no attribute 'Original'"
     ]
    }
   ],
   "source": [
    "##### Wichtig\n",
    "## Function was updated on 26.06.23 -> slightly different parameters needed. Usage → see in codon.py\n",
    "# Das DMS_score df soll in ein df umgewandelt werden, indem nur die single mutations drinstehen. In dieser Zelle probiere ich das erst einmal für eine Zeile, bevor ich über alle iteriere.\n",
    "\n",
    "#load DMS_scores\n",
    "gia_null_eto: pd.DataFrame = pd.read_csv('../DMS_data/P53_HUMAN_Giacomelli_NULL_Etoposide_2018.csv')\n",
    "df = dc.df_transform_inverse(gia_null_eto)\n",
    "\n",
    "#modify \"aa\", so that all \"*\" values are eliminated and so that the original aminoacid is cut off\n",
    "aa_cleaned = aa.replace('*', np.nan).iloc[:, 1:]\n",
    "\n",
    "\n",
    "#position\n",
    "x=0\n",
    "\n",
    "# get single mutated AAs\n",
    "mut_per_pos = de.prob_as_position(x,aa_cleaned).index\n",
    "# mut_per_pos\n",
    "# select single mutations out of all DMS_score mutations\n",
    "selected_columns = df.loc[x+1,mut_per_pos]\n",
    "\n",
    "# selected_columns"
   ],
   "metadata": {
    "collapsed": false,
    "ExecuteTime": {
     "end_time": "2023-06-26T09:20:33.994446600Z",
     "start_time": "2023-06-26T09:20:31.918271800Z"
    }
   }
  },
  {
   "cell_type": "code",
   "execution_count": null,
   "outputs": [],
   "source": [
    "# use the example for one row to iterate it over the whole length of the protein\n",
    "de.select_smut(gia_null_eto,aa)"
   ],
   "metadata": {
    "collapsed": false
   }
  }
 ],
 "metadata": {
  "kernelspec": {
   "display_name": "Python 3",
   "language": "python",
   "name": "python3"
  },
  "language_info": {
   "codemirror_mode": {
    "name": "ipython",
    "version": 2
   },
   "file_extension": ".py",
   "mimetype": "text/x-python",
   "name": "python",
   "nbconvert_exporter": "python",
   "pygments_lexer": "ipython2",
   "version": "2.7.6"
  }
 },
 "nbformat": 4,
 "nbformat_minor": 0
}
