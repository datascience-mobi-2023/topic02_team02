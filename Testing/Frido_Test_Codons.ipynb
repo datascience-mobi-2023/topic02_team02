{
 "cells": [
  {
   "cell_type": "code",
   "execution_count": 2,
   "outputs": [
    {
     "data": {
      "text/plain": "    AAA AAC AAG AAU ACA ACC ACG ACU AGA AGC  ... UCG UCU UGA UGC UGG UGU UUA   \nAAA   0   1   1   1   1   2   2   2   1   2  ...   3   3   2   3   3   3   2  \\\nAAC   1   0   1   1   2   1   2   2   2   1  ...   3   3   3   2   3   3   3   \nAAG   1   1   0   1   2   2   1   2   2   2  ...   2   3   3   3   2   3   3   \nAAU   1   1   1   0   2   2   2   1   2   2  ...   3   2   3   3   3   2   3   \nACA   1   2   2   2   0   1   1   1   1   2  ...   2   2   2   3   3   3   2   \n..   ..  ..  ..  ..  ..  ..  ..  ..  ..  ..  ...  ..  ..  ..  ..  ..  ..  ..   \nUGU   3   3   3   2   3   3   3   2   2   2  ...   2   1   1   1   1   0   2   \nUUA   2   3   3   3   2   3   3   3   2   3  ...   2   2   1   2   2   2   0   \nUUC   3   2   3   3   3   2   3   3   3   2  ...   2   2   2   1   2   2   1   \nUUG   3   3   2   3   3   3   2   3   3   3  ...   1   2   2   2   1   2   1   \nUUU   3   3   3   2   3   3   3   2   3   3  ...   2   1   2   2   2   1   1   \n\n    UUC UUG UUU  \nAAA   3   3   3  \nAAC   2   3   3  \nAAG   3   2   3  \nAAU   3   3   2  \nACA   3   3   3  \n..   ..  ..  ..  \nUGU   2   2   1  \nUUA   1   1   1  \nUUC   0   1   1  \nUUG   1   0   1  \nUUU   1   1   0  \n\n[64 rows x 64 columns]",
      "text/html": "<div>\n<style scoped>\n    .dataframe tbody tr th:only-of-type {\n        vertical-align: middle;\n    }\n\n    .dataframe tbody tr th {\n        vertical-align: top;\n    }\n\n    .dataframe thead th {\n        text-align: right;\n    }\n</style>\n<table border=\"1\" class=\"dataframe\">\n  <thead>\n    <tr style=\"text-align: right;\">\n      <th></th>\n      <th>AAA</th>\n      <th>AAC</th>\n      <th>AAG</th>\n      <th>AAU</th>\n      <th>ACA</th>\n      <th>ACC</th>\n      <th>ACG</th>\n      <th>ACU</th>\n      <th>AGA</th>\n      <th>AGC</th>\n      <th>...</th>\n      <th>UCG</th>\n      <th>UCU</th>\n      <th>UGA</th>\n      <th>UGC</th>\n      <th>UGG</th>\n      <th>UGU</th>\n      <th>UUA</th>\n      <th>UUC</th>\n      <th>UUG</th>\n      <th>UUU</th>\n    </tr>\n  </thead>\n  <tbody>\n    <tr>\n      <th>AAA</th>\n      <td>0</td>\n      <td>1</td>\n      <td>1</td>\n      <td>1</td>\n      <td>1</td>\n      <td>2</td>\n      <td>2</td>\n      <td>2</td>\n      <td>1</td>\n      <td>2</td>\n      <td>...</td>\n      <td>3</td>\n      <td>3</td>\n      <td>2</td>\n      <td>3</td>\n      <td>3</td>\n      <td>3</td>\n      <td>2</td>\n      <td>3</td>\n      <td>3</td>\n      <td>3</td>\n    </tr>\n    <tr>\n      <th>AAC</th>\n      <td>1</td>\n      <td>0</td>\n      <td>1</td>\n      <td>1</td>\n      <td>2</td>\n      <td>1</td>\n      <td>2</td>\n      <td>2</td>\n      <td>2</td>\n      <td>1</td>\n      <td>...</td>\n      <td>3</td>\n      <td>3</td>\n      <td>3</td>\n      <td>2</td>\n      <td>3</td>\n      <td>3</td>\n      <td>3</td>\n      <td>2</td>\n      <td>3</td>\n      <td>3</td>\n    </tr>\n    <tr>\n      <th>AAG</th>\n      <td>1</td>\n      <td>1</td>\n      <td>0</td>\n      <td>1</td>\n      <td>2</td>\n      <td>2</td>\n      <td>1</td>\n      <td>2</td>\n      <td>2</td>\n      <td>2</td>\n      <td>...</td>\n      <td>2</td>\n      <td>3</td>\n      <td>3</td>\n      <td>3</td>\n      <td>2</td>\n      <td>3</td>\n      <td>3</td>\n      <td>3</td>\n      <td>2</td>\n      <td>3</td>\n    </tr>\n    <tr>\n      <th>AAU</th>\n      <td>1</td>\n      <td>1</td>\n      <td>1</td>\n      <td>0</td>\n      <td>2</td>\n      <td>2</td>\n      <td>2</td>\n      <td>1</td>\n      <td>2</td>\n      <td>2</td>\n      <td>...</td>\n      <td>3</td>\n      <td>2</td>\n      <td>3</td>\n      <td>3</td>\n      <td>3</td>\n      <td>2</td>\n      <td>3</td>\n      <td>3</td>\n      <td>3</td>\n      <td>2</td>\n    </tr>\n    <tr>\n      <th>ACA</th>\n      <td>1</td>\n      <td>2</td>\n      <td>2</td>\n      <td>2</td>\n      <td>0</td>\n      <td>1</td>\n      <td>1</td>\n      <td>1</td>\n      <td>1</td>\n      <td>2</td>\n      <td>...</td>\n      <td>2</td>\n      <td>2</td>\n      <td>2</td>\n      <td>3</td>\n      <td>3</td>\n      <td>3</td>\n      <td>2</td>\n      <td>3</td>\n      <td>3</td>\n      <td>3</td>\n    </tr>\n    <tr>\n      <th>...</th>\n      <td>...</td>\n      <td>...</td>\n      <td>...</td>\n      <td>...</td>\n      <td>...</td>\n      <td>...</td>\n      <td>...</td>\n      <td>...</td>\n      <td>...</td>\n      <td>...</td>\n      <td>...</td>\n      <td>...</td>\n      <td>...</td>\n      <td>...</td>\n      <td>...</td>\n      <td>...</td>\n      <td>...</td>\n      <td>...</td>\n      <td>...</td>\n      <td>...</td>\n      <td>...</td>\n    </tr>\n    <tr>\n      <th>UGU</th>\n      <td>3</td>\n      <td>3</td>\n      <td>3</td>\n      <td>2</td>\n      <td>3</td>\n      <td>3</td>\n      <td>3</td>\n      <td>2</td>\n      <td>2</td>\n      <td>2</td>\n      <td>...</td>\n      <td>2</td>\n      <td>1</td>\n      <td>1</td>\n      <td>1</td>\n      <td>1</td>\n      <td>0</td>\n      <td>2</td>\n      <td>2</td>\n      <td>2</td>\n      <td>1</td>\n    </tr>\n    <tr>\n      <th>UUA</th>\n      <td>2</td>\n      <td>3</td>\n      <td>3</td>\n      <td>3</td>\n      <td>2</td>\n      <td>3</td>\n      <td>3</td>\n      <td>3</td>\n      <td>2</td>\n      <td>3</td>\n      <td>...</td>\n      <td>2</td>\n      <td>2</td>\n      <td>1</td>\n      <td>2</td>\n      <td>2</td>\n      <td>2</td>\n      <td>0</td>\n      <td>1</td>\n      <td>1</td>\n      <td>1</td>\n    </tr>\n    <tr>\n      <th>UUC</th>\n      <td>3</td>\n      <td>2</td>\n      <td>3</td>\n      <td>3</td>\n      <td>3</td>\n      <td>2</td>\n      <td>3</td>\n      <td>3</td>\n      <td>3</td>\n      <td>2</td>\n      <td>...</td>\n      <td>2</td>\n      <td>2</td>\n      <td>2</td>\n      <td>1</td>\n      <td>2</td>\n      <td>2</td>\n      <td>1</td>\n      <td>0</td>\n      <td>1</td>\n      <td>1</td>\n    </tr>\n    <tr>\n      <th>UUG</th>\n      <td>3</td>\n      <td>3</td>\n      <td>2</td>\n      <td>3</td>\n      <td>3</td>\n      <td>3</td>\n      <td>2</td>\n      <td>3</td>\n      <td>3</td>\n      <td>3</td>\n      <td>...</td>\n      <td>1</td>\n      <td>2</td>\n      <td>2</td>\n      <td>2</td>\n      <td>1</td>\n      <td>2</td>\n      <td>1</td>\n      <td>1</td>\n      <td>0</td>\n      <td>1</td>\n    </tr>\n    <tr>\n      <th>UUU</th>\n      <td>3</td>\n      <td>3</td>\n      <td>3</td>\n      <td>2</td>\n      <td>3</td>\n      <td>3</td>\n      <td>3</td>\n      <td>2</td>\n      <td>3</td>\n      <td>3</td>\n      <td>...</td>\n      <td>2</td>\n      <td>1</td>\n      <td>2</td>\n      <td>2</td>\n      <td>2</td>\n      <td>1</td>\n      <td>1</td>\n      <td>1</td>\n      <td>1</td>\n      <td>0</td>\n    </tr>\n  </tbody>\n</table>\n<p>64 rows × 64 columns</p>\n</div>"
     },
     "execution_count": 2,
     "metadata": {},
     "output_type": "execute_result"
    }
   ],
   "source": [
    "import pandas as pd\n",
    "import numpy as np\n",
    "import data_cleanup as dc\n",
    "import data_exploration as de\n",
    "from Bio.Seq import Seq\n",
    "import matplotlib.pyplot as plt\n",
    "import seaborn as sns\n",
    "import Documentation as bac\n",
    "import functions as fun\n",
    "\n",
    "codons = ['AAA', 'AAC', 'AAG', 'AAU', 'ACA', 'ACC', 'ACG', 'ACU', 'AGA', 'AGC', 'AGG', 'AGU', 'AUA', 'AUC', 'AUG', 'AUU', 'CAA', 'CAC', 'CAG', 'CAU', 'CCA', 'CCC', 'CCG', 'CCU', 'CGA', 'CGC', 'CGG', 'CGU', 'CUA', 'CUC', 'CUG', 'CUU', 'GAA', 'GAC', 'GAG', 'GAU', 'GCA', 'GCC', 'GCG', 'GCU', 'GGA', 'GGC', 'GGG', 'GGU', 'GUA', 'GUC', 'GUG', 'GUU', 'UAA', 'UAC', 'UAG', 'UAU', 'UCA', 'UCC', 'UCG', 'UCU', 'UGA', 'UGC', 'UGG', 'UGU', 'UUA', 'UUC', 'UUG', 'UUU']\n",
    "\n",
    "# Create an empty dataframe with the custom row and column names\n",
    "codons_codons = pd.DataFrame(index=codons, columns=codons)\n",
    "\n",
    "# Fill the dataframe\n",
    "for row_codon in codons:\n",
    "    for col_codon in codons:\n",
    "        differing_bases = sum(row_base != col_base for row_base, col_base in zip(row_codon, col_codon))\n",
    "        codons_codons.loc[row_codon, col_codon] = differing_bases\n",
    "\n",
    "codons_codons\n",
    "#not used until now (20.6.)"
   ],
   "metadata": {
    "collapsed": false,
    "ExecuteTime": {
     "end_time": "2023-06-23T08:22:20.340869Z",
     "start_time": "2023-06-23T08:22:19.372957Z"
    }
   }
  },
  {
   "cell_type": "code",
   "execution_count": 3,
   "outputs": [
    {
     "data": {
      "text/plain": "   codons aacids\n0     AAA      K\n1     AAC      N\n2     AAG      K\n3     AAU      N\n4     ACA      T\n..    ...    ...\n59    UGU      L\n60    UUA      C\n61    UUC      W\n62    UUG      C\n63    UUU      L\n\n[64 rows x 2 columns]",
      "text/html": "<div>\n<style scoped>\n    .dataframe tbody tr th:only-of-type {\n        vertical-align: middle;\n    }\n\n    .dataframe tbody tr th {\n        vertical-align: top;\n    }\n\n    .dataframe thead th {\n        text-align: right;\n    }\n</style>\n<table border=\"1\" class=\"dataframe\">\n  <thead>\n    <tr style=\"text-align: right;\">\n      <th></th>\n      <th>codons</th>\n      <th>aacids</th>\n    </tr>\n  </thead>\n  <tbody>\n    <tr>\n      <th>0</th>\n      <td>AAA</td>\n      <td>K</td>\n    </tr>\n    <tr>\n      <th>1</th>\n      <td>AAC</td>\n      <td>N</td>\n    </tr>\n    <tr>\n      <th>2</th>\n      <td>AAG</td>\n      <td>K</td>\n    </tr>\n    <tr>\n      <th>3</th>\n      <td>AAU</td>\n      <td>N</td>\n    </tr>\n    <tr>\n      <th>4</th>\n      <td>ACA</td>\n      <td>T</td>\n    </tr>\n    <tr>\n      <th>...</th>\n      <td>...</td>\n      <td>...</td>\n    </tr>\n    <tr>\n      <th>59</th>\n      <td>UGU</td>\n      <td>L</td>\n    </tr>\n    <tr>\n      <th>60</th>\n      <td>UUA</td>\n      <td>C</td>\n    </tr>\n    <tr>\n      <th>61</th>\n      <td>UUC</td>\n      <td>W</td>\n    </tr>\n    <tr>\n      <th>62</th>\n      <td>UUG</td>\n      <td>C</td>\n    </tr>\n    <tr>\n      <th>63</th>\n      <td>UUU</td>\n      <td>L</td>\n    </tr>\n  </tbody>\n</table>\n<p>64 rows × 2 columns</p>\n</div>"
     },
     "execution_count": 3,
     "metadata": {},
     "output_type": "execute_result"
    }
   ],
   "source": [
    "aacids = ['K', 'N', 'K', 'N', 'T', 'T', 'T', 'T', 'R', 'S', 'R', 'S', 'I', 'I', 'M', 'I', 'Q', 'H', 'Q', 'H', 'P', 'P', 'P', 'P', 'R', 'R', 'R', 'R', 'L', 'L', 'L', 'L', 'E', 'D', 'E', 'D', 'A', 'A', 'A', 'A', 'G', 'G', 'G', 'G', 'V', 'V', 'V', 'V', 'STOP', 'Y', 'STOP', 'Y', 'S', 'S', 'S', 'S', 'STOP','L', 'F', 'L', 'C', 'W', 'C', 'L']\n",
    "\n",
    "codons_aacids = pd.DataFrame({'codons': codons, 'aacids': aacids })\n",
    "\n",
    "codons_aacids\n",
    "#not used until now (20.6.)"
   ],
   "metadata": {
    "collapsed": false,
    "ExecuteTime": {
     "end_time": "2023-06-23T08:22:21.099731Z",
     "start_time": "2023-06-23T08:22:21.093565Z"
    }
   }
  },
  {
   "cell_type": "code",
   "execution_count": 4,
   "outputs": [],
   "source": [
    "dna_sequence = \"ATGGAGGAGCCGCAGTCAGATCCTAGCGTCGAGCCCCCTCTGAGTCAGGAAACATTTTCAGACCTATGGAAACTACTTCCTGAAAACAACGTTCTGTCCCCCTTGCCGTCCCAAGCAATGGATGATTTGATGCTGTCCCCGGACGATATTGAACAATGGTTCACTGAAGACCCAGGTCCAGATGAAGCTCCCAGAATGCCAGAGGCTGCTCCCCCCGTGGCCCCTGCACCAGCAGCTCCTACACCGGCGGCCCCTGCACCAGCCCCCTCCTGGCCCCTGTCATCTTCTGTCCCTTCCCAGAAAACCTACCAGGGCAGCTACGGTTTCCGTCTGGGCTTCTTGCATTCTGGGACAGCCAAGTCTGTGACTTGCACGTACTCCCCTGCCCTCAACAAGATGTTTTGCCAACTGGCCAAGACCTGCCCTGTGCAGCTGTGGGTTGATTCCACACCCCCGCCCGGCACCCGCGTCCGCGCCATGGCCATCTACAAGCAGTCACAGCACATGACGGAGGTTGTGAGGCGCTGCCCCCACCATGAGCGCTGCTCAGATAGCGATGGTCTGGCCCCTCCTCAGCATCTTATCCGAGTGGAAGGAAATTTGCGTGTGGAGTATTTGGATGACAGAAACACTTTTCGACATAGTGTGGTGGTGCCCTATGAGCCGCCTGAGGTTGGCTCTGACTGTACCACCATCCACTACAACTACATGTGTAACAGTTCCTGCATGGGCGGCATGAACCGGAGGCCCATCCTCACCATCATCACACTGGAAGACTCCAGTGGTAATCTACTGGGACGGAACAGCTTTGAGGTGCGTGTTTGTGCCTGTCCTGGGAGAGACCGGCGCACAGAGGAAGAGAATCTCCGCAAGAAAGGGGAGCCTCACCACGAGCTGCCCCCAGGGAGCACTAAGCGAGCACTGCCCAACAACACCAGCTCCTCTCCCCAGCCAAAGAAGAAACCACTGGATGGAGAATATTTCACCCTTCAGATCCGTGGGCGTGAGCGCTTCGAGATGTTCCGAGAGCTGAATGAGGCCTTGGAACTCAAGGATGCCCAGGCTGGGAAGGAGCCAGGGGGGAGCAGGGCTCACTCCAGCCACCTGAAGTCCAAAAAGGGTCAGTCTACCTCCCGCCATAAAAAACTCATGTTCAAGACAGAAGGGCCTGACTCAGAC\"\n",
    "rna_sequence = dna_sequence.replace(\"T\", \"U\")"
   ],
   "metadata": {
    "collapsed": false,
    "ExecuteTime": {
     "end_time": "2023-06-23T08:22:21.997745Z",
     "start_time": "2023-06-23T08:22:21.990063Z"
    }
   }
  },
  {
   "cell_type": "code",
   "execution_count": 5,
   "outputs": [
    {
     "data": {
      "text/plain": "['AUG',\n 'GAG',\n 'GAG',\n 'CCG',\n 'CAG',\n 'UCA',\n 'GAU',\n 'CCU',\n 'AGC',\n 'GUC',\n 'GAG',\n 'CCC',\n 'CCU',\n 'CUG',\n 'AGU',\n 'CAG',\n 'GAA',\n 'ACA',\n 'UUU',\n 'UCA',\n 'GAC',\n 'CUA',\n 'UGG',\n 'AAA',\n 'CUA',\n 'CUU',\n 'CCU',\n 'GAA',\n 'AAC',\n 'AAC',\n 'GUU',\n 'CUG',\n 'UCC',\n 'CCC',\n 'UUG',\n 'CCG',\n 'UCC',\n 'CAA',\n 'GCA',\n 'AUG',\n 'GAU',\n 'GAU',\n 'UUG',\n 'AUG',\n 'CUG',\n 'UCC',\n 'CCG',\n 'GAC',\n 'GAU',\n 'AUU',\n 'GAA',\n 'CAA',\n 'UGG',\n 'UUC',\n 'ACU',\n 'GAA',\n 'GAC',\n 'CCA',\n 'GGU',\n 'CCA',\n 'GAU',\n 'GAA',\n 'GCU',\n 'CCC',\n 'AGA',\n 'AUG',\n 'CCA',\n 'GAG',\n 'GCU',\n 'GCU',\n 'CCC',\n 'CCC',\n 'GUG',\n 'GCC',\n 'CCU',\n 'GCA',\n 'CCA',\n 'GCA',\n 'GCU',\n 'CCU',\n 'ACA',\n 'CCG',\n 'GCG',\n 'GCC',\n 'CCU',\n 'GCA',\n 'CCA',\n 'GCC',\n 'CCC',\n 'UCC',\n 'UGG',\n 'CCC',\n 'CUG',\n 'UCA',\n 'UCU',\n 'UCU',\n 'GUC',\n 'CCU',\n 'UCC',\n 'CAG',\n 'AAA',\n 'ACC',\n 'UAC',\n 'CAG',\n 'GGC',\n 'AGC',\n 'UAC',\n 'GGU',\n 'UUC',\n 'CGU',\n 'CUG',\n 'GGC',\n 'UUC',\n 'UUG',\n 'CAU',\n 'UCU',\n 'GGG',\n 'ACA',\n 'GCC',\n 'AAG',\n 'UCU',\n 'GUG',\n 'ACU',\n 'UGC',\n 'ACG',\n 'UAC',\n 'UCC',\n 'CCU',\n 'GCC',\n 'CUC',\n 'AAC',\n 'AAG',\n 'AUG',\n 'UUU',\n 'UGC',\n 'CAA',\n 'CUG',\n 'GCC',\n 'AAG',\n 'ACC',\n 'UGC',\n 'CCU',\n 'GUG',\n 'CAG',\n 'CUG',\n 'UGG',\n 'GUU',\n 'GAU',\n 'UCC',\n 'ACA',\n 'CCC',\n 'CCG',\n 'CCC',\n 'GGC',\n 'ACC',\n 'CGC',\n 'GUC',\n 'CGC',\n 'GCC',\n 'AUG',\n 'GCC',\n 'AUC',\n 'UAC',\n 'AAG',\n 'CAG',\n 'UCA',\n 'CAG',\n 'CAC',\n 'AUG',\n 'ACG',\n 'GAG',\n 'GUU',\n 'GUG',\n 'AGG',\n 'CGC',\n 'UGC',\n 'CCC',\n 'CAC',\n 'CAU',\n 'GAG',\n 'CGC',\n 'UGC',\n 'UCA',\n 'GAU',\n 'AGC',\n 'GAU',\n 'GGU',\n 'CUG',\n 'GCC',\n 'CCU',\n 'CCU',\n 'CAG',\n 'CAU',\n 'CUU',\n 'AUC',\n 'CGA',\n 'GUG',\n 'GAA',\n 'GGA',\n 'AAU',\n 'UUG',\n 'CGU',\n 'GUG',\n 'GAG',\n 'UAU',\n 'UUG',\n 'GAU',\n 'GAC',\n 'AGA',\n 'AAC',\n 'ACU',\n 'UUU',\n 'CGA',\n 'CAU',\n 'AGU',\n 'GUG',\n 'GUG',\n 'GUG',\n 'CCC',\n 'UAU',\n 'GAG',\n 'CCG',\n 'CCU',\n 'GAG',\n 'GUU',\n 'GGC',\n 'UCU',\n 'GAC',\n 'UGU',\n 'ACC',\n 'ACC',\n 'AUC',\n 'CAC',\n 'UAC',\n 'AAC',\n 'UAC',\n 'AUG',\n 'UGU',\n 'AAC',\n 'AGU',\n 'UCC',\n 'UGC',\n 'AUG',\n 'GGC',\n 'GGC',\n 'AUG',\n 'AAC',\n 'CGG',\n 'AGG',\n 'CCC',\n 'AUC',\n 'CUC',\n 'ACC',\n 'AUC',\n 'AUC',\n 'ACA',\n 'CUG',\n 'GAA',\n 'GAC',\n 'UCC',\n 'AGU',\n 'GGU',\n 'AAU',\n 'CUA',\n 'CUG',\n 'GGA',\n 'CGG',\n 'AAC',\n 'AGC',\n 'UUU',\n 'GAG',\n 'GUG',\n 'CGU',\n 'GUU',\n 'UGU',\n 'GCC',\n 'UGU',\n 'CCU',\n 'GGG',\n 'AGA',\n 'GAC',\n 'CGG',\n 'CGC',\n 'ACA',\n 'GAG',\n 'GAA',\n 'GAG',\n 'AAU',\n 'CUC',\n 'CGC',\n 'AAG',\n 'AAA',\n 'GGG',\n 'GAG',\n 'CCU',\n 'CAC',\n 'CAC',\n 'GAG',\n 'CUG',\n 'CCC',\n 'CCA',\n 'GGG',\n 'AGC',\n 'ACU',\n 'AAG',\n 'CGA',\n 'GCA',\n 'CUG',\n 'CCC',\n 'AAC',\n 'AAC',\n 'ACC',\n 'AGC',\n 'UCC',\n 'UCU',\n 'CCC',\n 'CAG',\n 'CCA',\n 'AAG',\n 'AAG',\n 'AAA',\n 'CCA',\n 'CUG',\n 'GAU',\n 'GGA',\n 'GAA',\n 'UAU',\n 'UUC',\n 'ACC',\n 'CUU',\n 'CAG',\n 'AUC',\n 'CGU',\n 'GGG',\n 'CGU',\n 'GAG',\n 'CGC',\n 'UUC',\n 'GAG',\n 'AUG',\n 'UUC',\n 'CGA',\n 'GAG',\n 'CUG',\n 'AAU',\n 'GAG',\n 'GCC',\n 'UUG',\n 'GAA',\n 'CUC',\n 'AAG',\n 'GAU',\n 'GCC',\n 'CAG',\n 'GCU',\n 'GGG',\n 'AAG',\n 'GAG',\n 'CCA',\n 'GGG',\n 'GGG',\n 'AGC',\n 'AGG',\n 'GCU',\n 'CAC',\n 'UCC',\n 'AGC',\n 'CAC',\n 'CUG',\n 'AAG',\n 'UCC',\n 'AAA',\n 'AAG',\n 'GGU',\n 'CAG',\n 'UCU',\n 'ACC',\n 'UCC',\n 'CGC',\n 'CAU',\n 'AAA',\n 'AAA',\n 'CUC',\n 'AUG',\n 'UUC',\n 'AAG',\n 'ACA',\n 'GAA',\n 'GGG',\n 'CCU',\n 'GAC',\n 'UCA',\n 'GAC']"
     },
     "execution_count": 5,
     "metadata": {},
     "output_type": "execute_result"
    }
   ],
   "source": [
    "p53_codons = [rna_sequence[i:i+3] for i in range(0, len(rna_sequence), 3)]\n",
    "\n",
    "p53_codons"
   ],
   "metadata": {
    "collapsed": false,
    "ExecuteTime": {
     "end_time": "2023-06-23T08:22:22.908630Z",
     "start_time": "2023-06-23T08:22:22.883188Z"
    }
   }
  },
  {
   "cell_type": "code",
   "execution_count": 6,
   "outputs": [],
   "source": [
    "#Die RNA Sequenz wird in Codons geslicet und als Liste in p53_codons gespeichert."
   ],
   "metadata": {
    "collapsed": false,
    "ExecuteTime": {
     "end_time": "2023-06-23T08:22:23.771494Z",
     "start_time": "2023-06-23T08:22:23.761780Z"
    }
   }
  },
  {
   "cell_type": "code",
   "execution_count": 7,
   "outputs": [
    {
     "data": {
      "text/plain": "    Original Variation 1 Variation 2 Variation 3 Variation 4 Variation 5   \n0        AUG         UUG         GUG         CUG         AAG         AGG  \\\n1        GAG         AAG         UAG         CAG         GUG         GGG   \n2        GAG         AAG         UAG         CAG         GUG         GGG   \n3        CCG         ACG         UCG         GCG         CAG         CUG   \n4        CAG         AAG         UAG         GAG         CUG         CGG   \n..       ...         ...         ...         ...         ...         ...   \n388      GGG         AGG         UGG         CGG         GAG         GUG   \n389      CCU         ACU         UCU         GCU         CAU         CUU   \n390      GAC         AAC         UAC         CAC         GUC         GGC   \n391      UCA         ACA         GCA         CCA         UAA         UUA   \n392      GAC         AAC         UAC         CAC         GUC         GGC   \n\n    Variation 6 Variation 7 Variation 8 Variation 9  \n0           ACG         AUA         AUU         AUC  \n1           GCG         GAA         GAU         GAC  \n2           GCG         GAA         GAU         GAC  \n3           CGG         CCA         CCU         CCC  \n4           CCG         CAA         CAU         CAC  \n..          ...         ...         ...         ...  \n388         GCG         GGA         GGU         GGC  \n389         CGU         CCA         CCG         CCC  \n390         GCC         GAA         GAU         GAG  \n391         UGA         UCU         UCG         UCC  \n392         GCC         GAA         GAU         GAG  \n\n[393 rows x 10 columns]",
      "text/html": "<div>\n<style scoped>\n    .dataframe tbody tr th:only-of-type {\n        vertical-align: middle;\n    }\n\n    .dataframe tbody tr th {\n        vertical-align: top;\n    }\n\n    .dataframe thead th {\n        text-align: right;\n    }\n</style>\n<table border=\"1\" class=\"dataframe\">\n  <thead>\n    <tr style=\"text-align: right;\">\n      <th></th>\n      <th>Original</th>\n      <th>Variation 1</th>\n      <th>Variation 2</th>\n      <th>Variation 3</th>\n      <th>Variation 4</th>\n      <th>Variation 5</th>\n      <th>Variation 6</th>\n      <th>Variation 7</th>\n      <th>Variation 8</th>\n      <th>Variation 9</th>\n    </tr>\n  </thead>\n  <tbody>\n    <tr>\n      <th>0</th>\n      <td>AUG</td>\n      <td>UUG</td>\n      <td>GUG</td>\n      <td>CUG</td>\n      <td>AAG</td>\n      <td>AGG</td>\n      <td>ACG</td>\n      <td>AUA</td>\n      <td>AUU</td>\n      <td>AUC</td>\n    </tr>\n    <tr>\n      <th>1</th>\n      <td>GAG</td>\n      <td>AAG</td>\n      <td>UAG</td>\n      <td>CAG</td>\n      <td>GUG</td>\n      <td>GGG</td>\n      <td>GCG</td>\n      <td>GAA</td>\n      <td>GAU</td>\n      <td>GAC</td>\n    </tr>\n    <tr>\n      <th>2</th>\n      <td>GAG</td>\n      <td>AAG</td>\n      <td>UAG</td>\n      <td>CAG</td>\n      <td>GUG</td>\n      <td>GGG</td>\n      <td>GCG</td>\n      <td>GAA</td>\n      <td>GAU</td>\n      <td>GAC</td>\n    </tr>\n    <tr>\n      <th>3</th>\n      <td>CCG</td>\n      <td>ACG</td>\n      <td>UCG</td>\n      <td>GCG</td>\n      <td>CAG</td>\n      <td>CUG</td>\n      <td>CGG</td>\n      <td>CCA</td>\n      <td>CCU</td>\n      <td>CCC</td>\n    </tr>\n    <tr>\n      <th>4</th>\n      <td>CAG</td>\n      <td>AAG</td>\n      <td>UAG</td>\n      <td>GAG</td>\n      <td>CUG</td>\n      <td>CGG</td>\n      <td>CCG</td>\n      <td>CAA</td>\n      <td>CAU</td>\n      <td>CAC</td>\n    </tr>\n    <tr>\n      <th>...</th>\n      <td>...</td>\n      <td>...</td>\n      <td>...</td>\n      <td>...</td>\n      <td>...</td>\n      <td>...</td>\n      <td>...</td>\n      <td>...</td>\n      <td>...</td>\n      <td>...</td>\n    </tr>\n    <tr>\n      <th>388</th>\n      <td>GGG</td>\n      <td>AGG</td>\n      <td>UGG</td>\n      <td>CGG</td>\n      <td>GAG</td>\n      <td>GUG</td>\n      <td>GCG</td>\n      <td>GGA</td>\n      <td>GGU</td>\n      <td>GGC</td>\n    </tr>\n    <tr>\n      <th>389</th>\n      <td>CCU</td>\n      <td>ACU</td>\n      <td>UCU</td>\n      <td>GCU</td>\n      <td>CAU</td>\n      <td>CUU</td>\n      <td>CGU</td>\n      <td>CCA</td>\n      <td>CCG</td>\n      <td>CCC</td>\n    </tr>\n    <tr>\n      <th>390</th>\n      <td>GAC</td>\n      <td>AAC</td>\n      <td>UAC</td>\n      <td>CAC</td>\n      <td>GUC</td>\n      <td>GGC</td>\n      <td>GCC</td>\n      <td>GAA</td>\n      <td>GAU</td>\n      <td>GAG</td>\n    </tr>\n    <tr>\n      <th>391</th>\n      <td>UCA</td>\n      <td>ACA</td>\n      <td>GCA</td>\n      <td>CCA</td>\n      <td>UAA</td>\n      <td>UUA</td>\n      <td>UGA</td>\n      <td>UCU</td>\n      <td>UCG</td>\n      <td>UCC</td>\n    </tr>\n    <tr>\n      <th>392</th>\n      <td>GAC</td>\n      <td>AAC</td>\n      <td>UAC</td>\n      <td>CAC</td>\n      <td>GUC</td>\n      <td>GGC</td>\n      <td>GCC</td>\n      <td>GAA</td>\n      <td>GAU</td>\n      <td>GAG</td>\n    </tr>\n  </tbody>\n</table>\n<p>393 rows × 10 columns</p>\n</div>"
     },
     "execution_count": 7,
     "metadata": {},
     "output_type": "execute_result"
    }
   ],
   "source": [
    "# Alle möglichen Codons für tp53\n",
    "mutated_p53 = de.generate_codon_variations(p53_codons)\n",
    "mutated_p53"
   ],
   "metadata": {
    "collapsed": false,
    "ExecuteTime": {
     "end_time": "2023-06-23T08:22:24.468007Z",
     "start_time": "2023-06-23T08:22:24.460028Z"
    }
   }
  },
  {
   "cell_type": "code",
   "execution_count": 8,
   "outputs": [
    {
     "data": {
      "text/plain": "0\nI    0.3\nL    0.2\nM    0.1\nV    0.1\nK    0.1\nR    0.1\nT    0.1\nName: proportion, dtype: float64"
     },
     "execution_count": 8,
     "metadata": {},
     "output_type": "execute_result"
    }
   ],
   "source": [
    "# Übersetzen aller möglichen Codons\n",
    "aa = de.translate_codons_df(mutated_p53).astype(str)\n",
    "de.prob_as_position(0, aa)"
   ],
   "metadata": {
    "collapsed": false,
    "ExecuteTime": {
     "end_time": "2023-06-23T08:22:25.501016Z",
     "start_time": "2023-06-23T08:22:25.437631Z"
    }
   }
  },
  {
   "cell_type": "code",
   "execution_count": 9,
   "outputs": [
    {
     "data": {
      "text/plain": "0              I         L         V         K         R         T\nAS_old                                                            \nM      -1.370065 -2.032227 -0.669727 -0.189807 -1.470598 -0.380537",
      "text/html": "<div>\n<style scoped>\n    .dataframe tbody tr th:only-of-type {\n        vertical-align: middle;\n    }\n\n    .dataframe tbody tr th {\n        vertical-align: top;\n    }\n\n    .dataframe thead th {\n        text-align: right;\n    }\n</style>\n<table border=\"1\" class=\"dataframe\">\n  <thead>\n    <tr style=\"text-align: right;\">\n      <th></th>\n      <th>I</th>\n      <th>L</th>\n      <th>V</th>\n      <th>K</th>\n      <th>R</th>\n      <th>T</th>\n    </tr>\n    <tr>\n      <th>AS_old</th>\n      <th></th>\n      <th></th>\n      <th></th>\n      <th></th>\n      <th></th>\n      <th></th>\n    </tr>\n  </thead>\n  <tbody>\n    <tr>\n      <th>M</th>\n      <td>-1.370065</td>\n      <td>-2.032227</td>\n      <td>-0.669727</td>\n      <td>-0.189807</td>\n      <td>-1.470598</td>\n      <td>-0.380537</td>\n    </tr>\n  </tbody>\n</table>\n</div>"
     },
     "execution_count": 9,
     "metadata": {},
     "output_type": "execute_result"
    }
   ],
   "source": [
    "## Das DMS_score df soll in ein df umgewandelt werden, indem nur die single mutations drinstehen. In dieser Zelle probiere ich das erst einmal für eine Zeile, bevor ich über alle iteriere.\n",
    "\n",
    "#load DMS_scores\n",
    "gia_null_eto: pd.DataFrame = pd.read_csv('../DMS_data/P53_HUMAN_Giacomelli_NULL_Etoposide_2018.csv')\n",
    "df = dc.df_transform_inverse(gia_null_eto)\n",
    "\n",
    "#modify \"aa\", so that all \"*\" values are eliminated and so that the original aminoacid is cut off\n",
    "aa_cleaned = aa.replace('*', np.nan).iloc[:, 1:]\n",
    "\n",
    "\n",
    "#position\n",
    "x=0\n",
    "\n",
    "# get single mutated AAs\n",
    "mut_per_pos = de.prob_as_position(x,aa_cleaned).index\n",
    "\n",
    "# select single mutations out of all DMS_score mutations\n",
    "selected_columns = df.loc[x+1,mut_per_pos]\n",
    "\n",
    "selected_columns"
   ],
   "metadata": {
    "collapsed": false,
    "ExecuteTime": {
     "end_time": "2023-06-23T08:22:26.295558Z",
     "start_time": "2023-06-23T08:22:26.238675Z"
    }
   }
  },
  {
   "cell_type": "code",
   "execution_count": 10,
   "outputs": [
    {
     "data": {
      "text/plain": "            I         L         V         K         R         T         D   \n0   -1.370065 -2.032227 -0.669727 -0.189807 -1.470598 -0.380537       NaN  \\\n1         NaN       NaN  0.281564  0.343821       NaN       NaN  0.180007   \n2         NaN       NaN -0.296231  0.301952       NaN       NaN  0.223665   \n3         NaN  0.356359       NaN       NaN  0.416459  0.338175       NaN   \n4         NaN  0.572254       NaN  0.619942 -0.061831       NaN       NaN   \n..        ...       ...       ...       ...       ...       ...       ...   \n388       NaN       NaN  0.594617       NaN  0.839858       NaN       NaN   \n389       NaN  0.954111       NaN       NaN  1.230978  0.956299       NaN   \n390       NaN       NaN  1.267699       NaN       NaN       NaN       NaN   \n391       NaN  0.772713       NaN       NaN       NaN  0.838674       NaN   \n392       NaN       NaN  1.182561       NaN       NaN       NaN       NaN   \n\n            Q         G         A         E         P         S         H   \n0         NaN       NaN       NaN       NaN       NaN       NaN       NaN  \\\n1    0.121747 -1.136268 -0.376597       NaN       NaN       NaN       NaN   \n2    0.188514 -1.231009 -0.178116       NaN       NaN       NaN       NaN   \n3    0.537396       NaN -1.175946       NaN       NaN  0.254247       NaN   \n4         NaN       NaN       NaN  0.154363  0.073229       NaN  0.473020   \n..        ...       ...       ...       ...       ...       ...       ...   \n388       NaN       NaN  1.169208  0.524010       NaN       NaN       NaN   \n389       NaN       NaN  1.478115       NaN       NaN  0.449391  0.754332   \n390       NaN  0.805634  1.036380  1.057979       NaN       NaN  0.979709   \n391       NaN       NaN  0.542344       NaN  1.011379       NaN       NaN   \n392       NaN  0.889272  1.132786  0.701935       NaN       NaN  1.077643   \n\n            N         Y   C   F   M         W  \n0         NaN       NaN NaN NaN NaN       NaN  \n1         NaN       NaN NaN NaN NaN       NaN  \n2         NaN       NaN NaN NaN NaN       NaN  \n3         NaN       NaN NaN NaN NaN       NaN  \n4         NaN       NaN NaN NaN NaN       NaN  \n..        ...       ...  ..  ..  ..       ...  \n388       NaN       NaN NaN NaN NaN  0.785431  \n389       NaN       NaN NaN NaN NaN       NaN  \n390  0.782523  0.855120 NaN NaN NaN       NaN  \n391       NaN       NaN NaN NaN NaN       NaN  \n392  0.664518  0.774152 NaN NaN NaN       NaN  \n\n[393 rows x 20 columns]",
      "text/html": "<div>\n<style scoped>\n    .dataframe tbody tr th:only-of-type {\n        vertical-align: middle;\n    }\n\n    .dataframe tbody tr th {\n        vertical-align: top;\n    }\n\n    .dataframe thead th {\n        text-align: right;\n    }\n</style>\n<table border=\"1\" class=\"dataframe\">\n  <thead>\n    <tr style=\"text-align: right;\">\n      <th></th>\n      <th>I</th>\n      <th>L</th>\n      <th>V</th>\n      <th>K</th>\n      <th>R</th>\n      <th>T</th>\n      <th>D</th>\n      <th>Q</th>\n      <th>G</th>\n      <th>A</th>\n      <th>E</th>\n      <th>P</th>\n      <th>S</th>\n      <th>H</th>\n      <th>N</th>\n      <th>Y</th>\n      <th>C</th>\n      <th>F</th>\n      <th>M</th>\n      <th>W</th>\n    </tr>\n  </thead>\n  <tbody>\n    <tr>\n      <th>0</th>\n      <td>-1.370065</td>\n      <td>-2.032227</td>\n      <td>-0.669727</td>\n      <td>-0.189807</td>\n      <td>-1.470598</td>\n      <td>-0.380537</td>\n      <td>NaN</td>\n      <td>NaN</td>\n      <td>NaN</td>\n      <td>NaN</td>\n      <td>NaN</td>\n      <td>NaN</td>\n      <td>NaN</td>\n      <td>NaN</td>\n      <td>NaN</td>\n      <td>NaN</td>\n      <td>NaN</td>\n      <td>NaN</td>\n      <td>NaN</td>\n      <td>NaN</td>\n    </tr>\n    <tr>\n      <th>1</th>\n      <td>NaN</td>\n      <td>NaN</td>\n      <td>0.281564</td>\n      <td>0.343821</td>\n      <td>NaN</td>\n      <td>NaN</td>\n      <td>0.180007</td>\n      <td>0.121747</td>\n      <td>-1.136268</td>\n      <td>-0.376597</td>\n      <td>NaN</td>\n      <td>NaN</td>\n      <td>NaN</td>\n      <td>NaN</td>\n      <td>NaN</td>\n      <td>NaN</td>\n      <td>NaN</td>\n      <td>NaN</td>\n      <td>NaN</td>\n      <td>NaN</td>\n    </tr>\n    <tr>\n      <th>2</th>\n      <td>NaN</td>\n      <td>NaN</td>\n      <td>-0.296231</td>\n      <td>0.301952</td>\n      <td>NaN</td>\n      <td>NaN</td>\n      <td>0.223665</td>\n      <td>0.188514</td>\n      <td>-1.231009</td>\n      <td>-0.178116</td>\n      <td>NaN</td>\n      <td>NaN</td>\n      <td>NaN</td>\n      <td>NaN</td>\n      <td>NaN</td>\n      <td>NaN</td>\n      <td>NaN</td>\n      <td>NaN</td>\n      <td>NaN</td>\n      <td>NaN</td>\n    </tr>\n    <tr>\n      <th>3</th>\n      <td>NaN</td>\n      <td>0.356359</td>\n      <td>NaN</td>\n      <td>NaN</td>\n      <td>0.416459</td>\n      <td>0.338175</td>\n      <td>NaN</td>\n      <td>0.537396</td>\n      <td>NaN</td>\n      <td>-1.175946</td>\n      <td>NaN</td>\n      <td>NaN</td>\n      <td>0.254247</td>\n      <td>NaN</td>\n      <td>NaN</td>\n      <td>NaN</td>\n      <td>NaN</td>\n      <td>NaN</td>\n      <td>NaN</td>\n      <td>NaN</td>\n    </tr>\n    <tr>\n      <th>4</th>\n      <td>NaN</td>\n      <td>0.572254</td>\n      <td>NaN</td>\n      <td>0.619942</td>\n      <td>-0.061831</td>\n      <td>NaN</td>\n      <td>NaN</td>\n      <td>NaN</td>\n      <td>NaN</td>\n      <td>NaN</td>\n      <td>0.154363</td>\n      <td>0.073229</td>\n      <td>NaN</td>\n      <td>0.473020</td>\n      <td>NaN</td>\n      <td>NaN</td>\n      <td>NaN</td>\n      <td>NaN</td>\n      <td>NaN</td>\n      <td>NaN</td>\n    </tr>\n    <tr>\n      <th>...</th>\n      <td>...</td>\n      <td>...</td>\n      <td>...</td>\n      <td>...</td>\n      <td>...</td>\n      <td>...</td>\n      <td>...</td>\n      <td>...</td>\n      <td>...</td>\n      <td>...</td>\n      <td>...</td>\n      <td>...</td>\n      <td>...</td>\n      <td>...</td>\n      <td>...</td>\n      <td>...</td>\n      <td>...</td>\n      <td>...</td>\n      <td>...</td>\n      <td>...</td>\n    </tr>\n    <tr>\n      <th>388</th>\n      <td>NaN</td>\n      <td>NaN</td>\n      <td>0.594617</td>\n      <td>NaN</td>\n      <td>0.839858</td>\n      <td>NaN</td>\n      <td>NaN</td>\n      <td>NaN</td>\n      <td>NaN</td>\n      <td>1.169208</td>\n      <td>0.524010</td>\n      <td>NaN</td>\n      <td>NaN</td>\n      <td>NaN</td>\n      <td>NaN</td>\n      <td>NaN</td>\n      <td>NaN</td>\n      <td>NaN</td>\n      <td>NaN</td>\n      <td>0.785431</td>\n    </tr>\n    <tr>\n      <th>389</th>\n      <td>NaN</td>\n      <td>0.954111</td>\n      <td>NaN</td>\n      <td>NaN</td>\n      <td>1.230978</td>\n      <td>0.956299</td>\n      <td>NaN</td>\n      <td>NaN</td>\n      <td>NaN</td>\n      <td>1.478115</td>\n      <td>NaN</td>\n      <td>NaN</td>\n      <td>0.449391</td>\n      <td>0.754332</td>\n      <td>NaN</td>\n      <td>NaN</td>\n      <td>NaN</td>\n      <td>NaN</td>\n      <td>NaN</td>\n      <td>NaN</td>\n    </tr>\n    <tr>\n      <th>390</th>\n      <td>NaN</td>\n      <td>NaN</td>\n      <td>1.267699</td>\n      <td>NaN</td>\n      <td>NaN</td>\n      <td>NaN</td>\n      <td>NaN</td>\n      <td>NaN</td>\n      <td>0.805634</td>\n      <td>1.036380</td>\n      <td>1.057979</td>\n      <td>NaN</td>\n      <td>NaN</td>\n      <td>0.979709</td>\n      <td>0.782523</td>\n      <td>0.855120</td>\n      <td>NaN</td>\n      <td>NaN</td>\n      <td>NaN</td>\n      <td>NaN</td>\n    </tr>\n    <tr>\n      <th>391</th>\n      <td>NaN</td>\n      <td>0.772713</td>\n      <td>NaN</td>\n      <td>NaN</td>\n      <td>NaN</td>\n      <td>0.838674</td>\n      <td>NaN</td>\n      <td>NaN</td>\n      <td>NaN</td>\n      <td>0.542344</td>\n      <td>NaN</td>\n      <td>1.011379</td>\n      <td>NaN</td>\n      <td>NaN</td>\n      <td>NaN</td>\n      <td>NaN</td>\n      <td>NaN</td>\n      <td>NaN</td>\n      <td>NaN</td>\n      <td>NaN</td>\n    </tr>\n    <tr>\n      <th>392</th>\n      <td>NaN</td>\n      <td>NaN</td>\n      <td>1.182561</td>\n      <td>NaN</td>\n      <td>NaN</td>\n      <td>NaN</td>\n      <td>NaN</td>\n      <td>NaN</td>\n      <td>0.889272</td>\n      <td>1.132786</td>\n      <td>0.701935</td>\n      <td>NaN</td>\n      <td>NaN</td>\n      <td>1.077643</td>\n      <td>0.664518</td>\n      <td>0.774152</td>\n      <td>NaN</td>\n      <td>NaN</td>\n      <td>NaN</td>\n      <td>NaN</td>\n    </tr>\n  </tbody>\n</table>\n<p>393 rows × 20 columns</p>\n</div>"
     },
     "execution_count": 10,
     "metadata": {},
     "output_type": "execute_result"
    }
   ],
   "source": [
    "# use the example for one row to iterate it over the whole length of the protein\n",
    "de.select_smut(gia_null_eto,aa)"
   ],
   "metadata": {
    "collapsed": false,
    "ExecuteTime": {
     "end_time": "2023-06-23T08:22:27.460867Z",
     "start_time": "2023-06-23T08:22:27.079982Z"
    }
   }
  },
  {
   "cell_type": "code",
   "execution_count": 10,
   "outputs": [],
   "source": [],
   "metadata": {
    "collapsed": false,
    "ExecuteTime": {
     "end_time": "2023-06-23T08:22:28.297256Z",
     "start_time": "2023-06-23T08:22:28.285591Z"
    }
   }
  },
  {
   "cell_type": "code",
   "execution_count": 11,
   "outputs": [
    {
     "data": {
      "text/plain": "           I         L         V         K         R         T         D   \n0  -1.370065 -2.032227 -0.669727 -0.189807 -1.470598 -0.380537       NaN  \\\n1        NaN       NaN  0.281564  0.343821       NaN       NaN  0.180007   \n2        NaN       NaN -0.296231  0.301952       NaN       NaN  0.223665   \n3        NaN  0.356359       NaN       NaN  0.416459  0.338175       NaN   \n4        NaN  0.572254       NaN  0.619942 -0.061831       NaN       NaN   \n5        NaN  0.083633       NaN       NaN       NaN  0.316212       NaN   \n6        NaN       NaN  0.247409       NaN       NaN       NaN       NaN   \n7        NaN -0.007909       NaN       NaN  0.516571  0.311746       NaN   \n8   0.306439       NaN       NaN       NaN  0.383002 -0.113804       NaN   \n9   0.494835  0.158722       NaN       NaN       NaN       NaN  0.951393   \n10       NaN       NaN  0.758995  0.595908       NaN       NaN  0.357223   \n11       NaN  0.338921       NaN       NaN  0.483896  0.581355       NaN   \n12       NaN -0.481354       NaN       NaN  0.634769  0.440760       NaN   \n13       NaN       NaN  0.507417       NaN  0.633170       NaN       NaN   \n14  0.672582       NaN       NaN       NaN  0.668492  0.847434       NaN   \n15       NaN  0.548031       NaN  0.825973  0.292304       NaN       NaN   \n16       NaN       NaN  0.455443  0.062712       NaN       NaN  0.189951   \n17 -0.332207       NaN       NaN  0.598498  0.576965       NaN       NaN   \n18 -1.541704 -1.303594 -1.476009       NaN       NaN       NaN       NaN   \n19       NaN  0.332980       NaN       NaN       NaN  0.061301       NaN   \n\n           Q         G         A         E         P         S         H   \n0        NaN       NaN       NaN       NaN       NaN       NaN       NaN  \\\n1   0.121747 -1.136268 -0.376597       NaN       NaN       NaN       NaN   \n2   0.188514 -1.231009 -0.178116       NaN       NaN       NaN       NaN   \n3   0.537396       NaN -1.175946       NaN       NaN  0.254247       NaN   \n4        NaN       NaN       NaN  0.154363  0.073229       NaN  0.473020   \n5        NaN       NaN -0.733648       NaN  0.390291       NaN       NaN   \n6        NaN  0.042125  0.577294  0.437353       NaN       NaN  0.512018   \n7        NaN       NaN  0.057062       NaN       NaN -1.320231  0.386434   \n8        NaN  0.149293       NaN       NaN       NaN       NaN       NaN   \n9        NaN  0.477052  0.505744       NaN       NaN       NaN       NaN   \n10  0.148698  0.210819  0.300129       NaN       NaN       NaN       NaN   \n11       NaN       NaN -0.548518       NaN       NaN  0.326873  0.789092   \n12       NaN       NaN  0.253603       NaN       NaN  0.124669  0.515452   \n13  0.465670       NaN       NaN       NaN  0.327322       NaN       NaN   \n14       NaN  0.225972       NaN       NaN       NaN       NaN       NaN   \n15       NaN       NaN       NaN -0.185557 -0.687599       NaN  0.917900   \n16  0.593721 -0.934792  0.400156       NaN       NaN       NaN       NaN   \n17       NaN       NaN -0.312003       NaN -1.033335  0.258429       NaN   \n18       NaN       NaN       NaN       NaN       NaN -1.034786       NaN   \n19       NaN       NaN  0.734823       NaN  0.329249       NaN       NaN   \n\n           N         Y         C         F         M   W  \n0        NaN       NaN       NaN       NaN       NaN NaN  \n1        NaN       NaN       NaN       NaN       NaN NaN  \n2        NaN       NaN       NaN       NaN       NaN NaN  \n3        NaN       NaN       NaN       NaN       NaN NaN  \n4        NaN       NaN       NaN       NaN       NaN NaN  \n5        NaN       NaN       NaN       NaN       NaN NaN  \n6   0.163652  0.243801       NaN       NaN       NaN NaN  \n7        NaN       NaN       NaN       NaN       NaN NaN  \n8   0.476720       NaN  0.059489       NaN       NaN NaN  \n9        NaN       NaN       NaN  0.631839       NaN NaN  \n10       NaN       NaN       NaN       NaN       NaN NaN  \n11       NaN       NaN       NaN       NaN       NaN NaN  \n12       NaN       NaN       NaN       NaN       NaN NaN  \n13       NaN       NaN       NaN       NaN  0.609893 NaN  \n14  0.457632       NaN  0.639887       NaN       NaN NaN  \n15       NaN       NaN       NaN       NaN       NaN NaN  \n16       NaN       NaN       NaN       NaN       NaN NaN  \n17       NaN       NaN       NaN       NaN       NaN NaN  \n18       NaN -1.202253 -1.169641       NaN       NaN NaN  \n19       NaN       NaN       NaN       NaN       NaN NaN  ",
      "text/html": "<div>\n<style scoped>\n    .dataframe tbody tr th:only-of-type {\n        vertical-align: middle;\n    }\n\n    .dataframe tbody tr th {\n        vertical-align: top;\n    }\n\n    .dataframe thead th {\n        text-align: right;\n    }\n</style>\n<table border=\"1\" class=\"dataframe\">\n  <thead>\n    <tr style=\"text-align: right;\">\n      <th></th>\n      <th>I</th>\n      <th>L</th>\n      <th>V</th>\n      <th>K</th>\n      <th>R</th>\n      <th>T</th>\n      <th>D</th>\n      <th>Q</th>\n      <th>G</th>\n      <th>A</th>\n      <th>E</th>\n      <th>P</th>\n      <th>S</th>\n      <th>H</th>\n      <th>N</th>\n      <th>Y</th>\n      <th>C</th>\n      <th>F</th>\n      <th>M</th>\n      <th>W</th>\n    </tr>\n  </thead>\n  <tbody>\n    <tr>\n      <th>0</th>\n      <td>-1.370065</td>\n      <td>-2.032227</td>\n      <td>-0.669727</td>\n      <td>-0.189807</td>\n      <td>-1.470598</td>\n      <td>-0.380537</td>\n      <td>NaN</td>\n      <td>NaN</td>\n      <td>NaN</td>\n      <td>NaN</td>\n      <td>NaN</td>\n      <td>NaN</td>\n      <td>NaN</td>\n      <td>NaN</td>\n      <td>NaN</td>\n      <td>NaN</td>\n      <td>NaN</td>\n      <td>NaN</td>\n      <td>NaN</td>\n      <td>NaN</td>\n    </tr>\n    <tr>\n      <th>1</th>\n      <td>NaN</td>\n      <td>NaN</td>\n      <td>0.281564</td>\n      <td>0.343821</td>\n      <td>NaN</td>\n      <td>NaN</td>\n      <td>0.180007</td>\n      <td>0.121747</td>\n      <td>-1.136268</td>\n      <td>-0.376597</td>\n      <td>NaN</td>\n      <td>NaN</td>\n      <td>NaN</td>\n      <td>NaN</td>\n      <td>NaN</td>\n      <td>NaN</td>\n      <td>NaN</td>\n      <td>NaN</td>\n      <td>NaN</td>\n      <td>NaN</td>\n    </tr>\n    <tr>\n      <th>2</th>\n      <td>NaN</td>\n      <td>NaN</td>\n      <td>-0.296231</td>\n      <td>0.301952</td>\n      <td>NaN</td>\n      <td>NaN</td>\n      <td>0.223665</td>\n      <td>0.188514</td>\n      <td>-1.231009</td>\n      <td>-0.178116</td>\n      <td>NaN</td>\n      <td>NaN</td>\n      <td>NaN</td>\n      <td>NaN</td>\n      <td>NaN</td>\n      <td>NaN</td>\n      <td>NaN</td>\n      <td>NaN</td>\n      <td>NaN</td>\n      <td>NaN</td>\n    </tr>\n    <tr>\n      <th>3</th>\n      <td>NaN</td>\n      <td>0.356359</td>\n      <td>NaN</td>\n      <td>NaN</td>\n      <td>0.416459</td>\n      <td>0.338175</td>\n      <td>NaN</td>\n      <td>0.537396</td>\n      <td>NaN</td>\n      <td>-1.175946</td>\n      <td>NaN</td>\n      <td>NaN</td>\n      <td>0.254247</td>\n      <td>NaN</td>\n      <td>NaN</td>\n      <td>NaN</td>\n      <td>NaN</td>\n      <td>NaN</td>\n      <td>NaN</td>\n      <td>NaN</td>\n    </tr>\n    <tr>\n      <th>4</th>\n      <td>NaN</td>\n      <td>0.572254</td>\n      <td>NaN</td>\n      <td>0.619942</td>\n      <td>-0.061831</td>\n      <td>NaN</td>\n      <td>NaN</td>\n      <td>NaN</td>\n      <td>NaN</td>\n      <td>NaN</td>\n      <td>0.154363</td>\n      <td>0.073229</td>\n      <td>NaN</td>\n      <td>0.473020</td>\n      <td>NaN</td>\n      <td>NaN</td>\n      <td>NaN</td>\n      <td>NaN</td>\n      <td>NaN</td>\n      <td>NaN</td>\n    </tr>\n    <tr>\n      <th>5</th>\n      <td>NaN</td>\n      <td>0.083633</td>\n      <td>NaN</td>\n      <td>NaN</td>\n      <td>NaN</td>\n      <td>0.316212</td>\n      <td>NaN</td>\n      <td>NaN</td>\n      <td>NaN</td>\n      <td>-0.733648</td>\n      <td>NaN</td>\n      <td>0.390291</td>\n      <td>NaN</td>\n      <td>NaN</td>\n      <td>NaN</td>\n      <td>NaN</td>\n      <td>NaN</td>\n      <td>NaN</td>\n      <td>NaN</td>\n      <td>NaN</td>\n    </tr>\n    <tr>\n      <th>6</th>\n      <td>NaN</td>\n      <td>NaN</td>\n      <td>0.247409</td>\n      <td>NaN</td>\n      <td>NaN</td>\n      <td>NaN</td>\n      <td>NaN</td>\n      <td>NaN</td>\n      <td>0.042125</td>\n      <td>0.577294</td>\n      <td>0.437353</td>\n      <td>NaN</td>\n      <td>NaN</td>\n      <td>0.512018</td>\n      <td>0.163652</td>\n      <td>0.243801</td>\n      <td>NaN</td>\n      <td>NaN</td>\n      <td>NaN</td>\n      <td>NaN</td>\n    </tr>\n    <tr>\n      <th>7</th>\n      <td>NaN</td>\n      <td>-0.007909</td>\n      <td>NaN</td>\n      <td>NaN</td>\n      <td>0.516571</td>\n      <td>0.311746</td>\n      <td>NaN</td>\n      <td>NaN</td>\n      <td>NaN</td>\n      <td>0.057062</td>\n      <td>NaN</td>\n      <td>NaN</td>\n      <td>-1.320231</td>\n      <td>0.386434</td>\n      <td>NaN</td>\n      <td>NaN</td>\n      <td>NaN</td>\n      <td>NaN</td>\n      <td>NaN</td>\n      <td>NaN</td>\n    </tr>\n    <tr>\n      <th>8</th>\n      <td>0.306439</td>\n      <td>NaN</td>\n      <td>NaN</td>\n      <td>NaN</td>\n      <td>0.383002</td>\n      <td>-0.113804</td>\n      <td>NaN</td>\n      <td>NaN</td>\n      <td>0.149293</td>\n      <td>NaN</td>\n      <td>NaN</td>\n      <td>NaN</td>\n      <td>NaN</td>\n      <td>NaN</td>\n      <td>0.476720</td>\n      <td>NaN</td>\n      <td>0.059489</td>\n      <td>NaN</td>\n      <td>NaN</td>\n      <td>NaN</td>\n    </tr>\n    <tr>\n      <th>9</th>\n      <td>0.494835</td>\n      <td>0.158722</td>\n      <td>NaN</td>\n      <td>NaN</td>\n      <td>NaN</td>\n      <td>NaN</td>\n      <td>0.951393</td>\n      <td>NaN</td>\n      <td>0.477052</td>\n      <td>0.505744</td>\n      <td>NaN</td>\n      <td>NaN</td>\n      <td>NaN</td>\n      <td>NaN</td>\n      <td>NaN</td>\n      <td>NaN</td>\n      <td>NaN</td>\n      <td>0.631839</td>\n      <td>NaN</td>\n      <td>NaN</td>\n    </tr>\n    <tr>\n      <th>10</th>\n      <td>NaN</td>\n      <td>NaN</td>\n      <td>0.758995</td>\n      <td>0.595908</td>\n      <td>NaN</td>\n      <td>NaN</td>\n      <td>0.357223</td>\n      <td>0.148698</td>\n      <td>0.210819</td>\n      <td>0.300129</td>\n      <td>NaN</td>\n      <td>NaN</td>\n      <td>NaN</td>\n      <td>NaN</td>\n      <td>NaN</td>\n      <td>NaN</td>\n      <td>NaN</td>\n      <td>NaN</td>\n      <td>NaN</td>\n      <td>NaN</td>\n    </tr>\n    <tr>\n      <th>11</th>\n      <td>NaN</td>\n      <td>0.338921</td>\n      <td>NaN</td>\n      <td>NaN</td>\n      <td>0.483896</td>\n      <td>0.581355</td>\n      <td>NaN</td>\n      <td>NaN</td>\n      <td>NaN</td>\n      <td>-0.548518</td>\n      <td>NaN</td>\n      <td>NaN</td>\n      <td>0.326873</td>\n      <td>0.789092</td>\n      <td>NaN</td>\n      <td>NaN</td>\n      <td>NaN</td>\n      <td>NaN</td>\n      <td>NaN</td>\n      <td>NaN</td>\n    </tr>\n    <tr>\n      <th>12</th>\n      <td>NaN</td>\n      <td>-0.481354</td>\n      <td>NaN</td>\n      <td>NaN</td>\n      <td>0.634769</td>\n      <td>0.440760</td>\n      <td>NaN</td>\n      <td>NaN</td>\n      <td>NaN</td>\n      <td>0.253603</td>\n      <td>NaN</td>\n      <td>NaN</td>\n      <td>0.124669</td>\n      <td>0.515452</td>\n      <td>NaN</td>\n      <td>NaN</td>\n      <td>NaN</td>\n      <td>NaN</td>\n      <td>NaN</td>\n      <td>NaN</td>\n    </tr>\n    <tr>\n      <th>13</th>\n      <td>NaN</td>\n      <td>NaN</td>\n      <td>0.507417</td>\n      <td>NaN</td>\n      <td>0.633170</td>\n      <td>NaN</td>\n      <td>NaN</td>\n      <td>0.465670</td>\n      <td>NaN</td>\n      <td>NaN</td>\n      <td>NaN</td>\n      <td>0.327322</td>\n      <td>NaN</td>\n      <td>NaN</td>\n      <td>NaN</td>\n      <td>NaN</td>\n      <td>NaN</td>\n      <td>NaN</td>\n      <td>0.609893</td>\n      <td>NaN</td>\n    </tr>\n    <tr>\n      <th>14</th>\n      <td>0.672582</td>\n      <td>NaN</td>\n      <td>NaN</td>\n      <td>NaN</td>\n      <td>0.668492</td>\n      <td>0.847434</td>\n      <td>NaN</td>\n      <td>NaN</td>\n      <td>0.225972</td>\n      <td>NaN</td>\n      <td>NaN</td>\n      <td>NaN</td>\n      <td>NaN</td>\n      <td>NaN</td>\n      <td>0.457632</td>\n      <td>NaN</td>\n      <td>0.639887</td>\n      <td>NaN</td>\n      <td>NaN</td>\n      <td>NaN</td>\n    </tr>\n    <tr>\n      <th>15</th>\n      <td>NaN</td>\n      <td>0.548031</td>\n      <td>NaN</td>\n      <td>0.825973</td>\n      <td>0.292304</td>\n      <td>NaN</td>\n      <td>NaN</td>\n      <td>NaN</td>\n      <td>NaN</td>\n      <td>NaN</td>\n      <td>-0.185557</td>\n      <td>-0.687599</td>\n      <td>NaN</td>\n      <td>0.917900</td>\n      <td>NaN</td>\n      <td>NaN</td>\n      <td>NaN</td>\n      <td>NaN</td>\n      <td>NaN</td>\n      <td>NaN</td>\n    </tr>\n    <tr>\n      <th>16</th>\n      <td>NaN</td>\n      <td>NaN</td>\n      <td>0.455443</td>\n      <td>0.062712</td>\n      <td>NaN</td>\n      <td>NaN</td>\n      <td>0.189951</td>\n      <td>0.593721</td>\n      <td>-0.934792</td>\n      <td>0.400156</td>\n      <td>NaN</td>\n      <td>NaN</td>\n      <td>NaN</td>\n      <td>NaN</td>\n      <td>NaN</td>\n      <td>NaN</td>\n      <td>NaN</td>\n      <td>NaN</td>\n      <td>NaN</td>\n      <td>NaN</td>\n    </tr>\n    <tr>\n      <th>17</th>\n      <td>-0.332207</td>\n      <td>NaN</td>\n      <td>NaN</td>\n      <td>0.598498</td>\n      <td>0.576965</td>\n      <td>NaN</td>\n      <td>NaN</td>\n      <td>NaN</td>\n      <td>NaN</td>\n      <td>-0.312003</td>\n      <td>NaN</td>\n      <td>-1.033335</td>\n      <td>0.258429</td>\n      <td>NaN</td>\n      <td>NaN</td>\n      <td>NaN</td>\n      <td>NaN</td>\n      <td>NaN</td>\n      <td>NaN</td>\n      <td>NaN</td>\n    </tr>\n    <tr>\n      <th>18</th>\n      <td>-1.541704</td>\n      <td>-1.303594</td>\n      <td>-1.476009</td>\n      <td>NaN</td>\n      <td>NaN</td>\n      <td>NaN</td>\n      <td>NaN</td>\n      <td>NaN</td>\n      <td>NaN</td>\n      <td>NaN</td>\n      <td>NaN</td>\n      <td>NaN</td>\n      <td>-1.034786</td>\n      <td>NaN</td>\n      <td>NaN</td>\n      <td>-1.202253</td>\n      <td>-1.169641</td>\n      <td>NaN</td>\n      <td>NaN</td>\n      <td>NaN</td>\n    </tr>\n    <tr>\n      <th>19</th>\n      <td>NaN</td>\n      <td>0.332980</td>\n      <td>NaN</td>\n      <td>NaN</td>\n      <td>NaN</td>\n      <td>0.061301</td>\n      <td>NaN</td>\n      <td>NaN</td>\n      <td>NaN</td>\n      <td>0.734823</td>\n      <td>NaN</td>\n      <td>0.329249</td>\n      <td>NaN</td>\n      <td>NaN</td>\n      <td>NaN</td>\n      <td>NaN</td>\n      <td>NaN</td>\n      <td>NaN</td>\n      <td>NaN</td>\n      <td>NaN</td>\n    </tr>\n  </tbody>\n</table>\n</div>"
     },
     "execution_count": 11,
     "metadata": {},
     "output_type": "execute_result"
    }
   ],
   "source": [
    "heatmap_aa: pd.DataFrame = de.select_smut(gia_null_eto,aa)\n",
    "heatmap_aa.head(20)\n"
   ],
   "metadata": {
    "collapsed": false,
    "ExecuteTime": {
     "end_time": "2023-06-23T08:22:29.552362Z",
     "start_time": "2023-06-23T08:22:29.074390Z"
    }
   }
  },
  {
   "cell_type": "code",
   "execution_count": 12,
   "outputs": [],
   "source": [
    "heatmap_aa_T = heatmap_aa.transpose()"
   ],
   "metadata": {
    "collapsed": false,
    "ExecuteTime": {
     "end_time": "2023-06-23T08:22:30.474928Z",
     "start_time": "2023-06-23T08:22:30.468960Z"
    }
   }
  },
  {
   "cell_type": "code",
   "execution_count": 1,
   "outputs": [
    {
     "ename": "NameError",
     "evalue": "name 'plt' is not defined",
     "output_type": "error",
     "traceback": [
      "\u001B[0;31m---------------------------------------------------------------------------\u001B[0m",
      "\u001B[0;31mNameError\u001B[0m                                 Traceback (most recent call last)",
      "Cell \u001B[0;32mIn[1], line 1\u001B[0m\n\u001B[0;32m----> 1\u001B[0m \u001B[43mplt\u001B[49m\u001B[38;5;241m.\u001B[39mfigure(figsize\u001B[38;5;241m=\u001B[39m(\u001B[38;5;241m50\u001B[39m, \u001B[38;5;241m8\u001B[39m))\n\u001B[1;32m      2\u001B[0m sns\u001B[38;5;241m.\u001B[39mset(font_scale\u001B[38;5;241m=\u001B[39m\u001B[38;5;241m2\u001B[39m)\n\u001B[1;32m      3\u001B[0m sns\u001B[38;5;241m.\u001B[39mheatmap(heatmap_aa_T, cmap\u001B[38;5;241m=\u001B[39m\u001B[38;5;124m'\u001B[39m\u001B[38;5;124mseismic\u001B[39m\u001B[38;5;124m'\u001B[39m)\n",
      "\u001B[0;31mNameError\u001B[0m: name 'plt' is not defined"
     ]
    }
   ],
   "source": [
    "plt.figure(figsize=(50, 8))\n",
    "sns.set(font_scale=2)\n",
    "sns.heatmap(heatmap_aa_T, cmap='seismic')\n",
    "plt.title('DMS Scores for Mutations')\n",
    "plt.show()"
   ],
   "metadata": {
    "collapsed": false,
    "ExecuteTime": {
     "end_time": "2023-06-24T14:25:10.596324Z",
     "start_time": "2023-06-24T14:25:10.337608Z"
    }
   }
  },
  {
   "cell_type": "code",
   "execution_count": null,
   "outputs": [],
   "source": [
    "fun.hmap(bac.kot_hum)"
   ],
   "metadata": {
    "collapsed": false,
    "ExecuteTime": {
     "start_time": "2023-06-24T14:25:10.596185Z"
    }
   }
  },
  {
   "cell_type": "code",
   "execution_count": null,
   "outputs": [],
   "source": [
    "heatmap_aa_T_mmn: pd.DataFrame = dc.min_max_norm(heatmap_aa_T)"
   ],
   "metadata": {
    "collapsed": false
   }
  },
  {
   "cell_type": "code",
   "execution_count": null,
   "outputs": [],
   "source": [],
   "metadata": {
    "collapsed": false
   }
  }
 ],
 "metadata": {
  "kernelspec": {
   "display_name": "Python 3",
   "language": "python",
   "name": "python3"
  },
  "language_info": {
   "codemirror_mode": {
    "name": "ipython",
    "version": 2
   },
   "file_extension": ".py",
   "mimetype": "text/x-python",
   "name": "python",
   "nbconvert_exporter": "python",
   "pygments_lexer": "ipython2",
   "version": "2.7.6"
  }
 },
 "nbformat": 4,
 "nbformat_minor": 0
}
