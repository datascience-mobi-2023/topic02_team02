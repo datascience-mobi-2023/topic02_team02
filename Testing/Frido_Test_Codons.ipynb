{
 "cells": [
  {
   "cell_type": "code",
   "execution_count": 4,
   "metadata": {
    "collapsed": true,
    "ExecuteTime": {
     "start_time": "2023-06-16T19:24:27.233529Z",
     "end_time": "2023-06-16T19:24:27.260896Z"
    }
   },
   "outputs": [
    {
     "data": {
      "text/plain": "    AAA AAC AAG AAU ACA ACC ACG ACU AGA AGC  ... UCG UCU UGA UGC UGG UGU UUA  \\\nAAA   0   1   1   1   1   2   2   2   1   2  ...   3   3   2   3   3   3   2   \nAAC   1   0   1   1   2   1   2   2   2   1  ...   3   3   3   2   3   3   3   \nAAG   1   1   0   1   2   2   1   2   2   2  ...   2   3   3   3   2   3   3   \nAAU   1   1   1   0   2   2   2   1   2   2  ...   3   2   3   3   3   2   3   \nACA   1   2   2   2   0   1   1   1   1   2  ...   2   2   2   3   3   3   2   \n..   ..  ..  ..  ..  ..  ..  ..  ..  ..  ..  ...  ..  ..  ..  ..  ..  ..  ..   \nUGU   3   3   3   2   3   3   3   2   2   2  ...   2   1   1   1   1   0   2   \nUUA   2   3   3   3   2   3   3   3   2   3  ...   2   2   1   2   2   2   0   \nUUC   3   2   3   3   3   2   3   3   3   2  ...   2   2   2   1   2   2   1   \nUUG   3   3   2   3   3   3   2   3   3   3  ...   1   2   2   2   1   2   1   \nUUU   3   3   3   2   3   3   3   2   3   3  ...   2   1   2   2   2   1   1   \n\n    UUC UUG UUU  \nAAA   3   3   3  \nAAC   2   3   3  \nAAG   3   2   3  \nAAU   3   3   2  \nACA   3   3   3  \n..   ..  ..  ..  \nUGU   2   2   1  \nUUA   1   1   1  \nUUC   0   1   1  \nUUG   1   0   1  \nUUU   1   1   0  \n\n[64 rows x 64 columns]",
      "text/html": "<div>\n<style scoped>\n    .dataframe tbody tr th:only-of-type {\n        vertical-align: middle;\n    }\n\n    .dataframe tbody tr th {\n        vertical-align: top;\n    }\n\n    .dataframe thead th {\n        text-align: right;\n    }\n</style>\n<table border=\"1\" class=\"dataframe\">\n  <thead>\n    <tr style=\"text-align: right;\">\n      <th></th>\n      <th>AAA</th>\n      <th>AAC</th>\n      <th>AAG</th>\n      <th>AAU</th>\n      <th>ACA</th>\n      <th>ACC</th>\n      <th>ACG</th>\n      <th>ACU</th>\n      <th>AGA</th>\n      <th>AGC</th>\n      <th>...</th>\n      <th>UCG</th>\n      <th>UCU</th>\n      <th>UGA</th>\n      <th>UGC</th>\n      <th>UGG</th>\n      <th>UGU</th>\n      <th>UUA</th>\n      <th>UUC</th>\n      <th>UUG</th>\n      <th>UUU</th>\n    </tr>\n  </thead>\n  <tbody>\n    <tr>\n      <th>AAA</th>\n      <td>0</td>\n      <td>1</td>\n      <td>1</td>\n      <td>1</td>\n      <td>1</td>\n      <td>2</td>\n      <td>2</td>\n      <td>2</td>\n      <td>1</td>\n      <td>2</td>\n      <td>...</td>\n      <td>3</td>\n      <td>3</td>\n      <td>2</td>\n      <td>3</td>\n      <td>3</td>\n      <td>3</td>\n      <td>2</td>\n      <td>3</td>\n      <td>3</td>\n      <td>3</td>\n    </tr>\n    <tr>\n      <th>AAC</th>\n      <td>1</td>\n      <td>0</td>\n      <td>1</td>\n      <td>1</td>\n      <td>2</td>\n      <td>1</td>\n      <td>2</td>\n      <td>2</td>\n      <td>2</td>\n      <td>1</td>\n      <td>...</td>\n      <td>3</td>\n      <td>3</td>\n      <td>3</td>\n      <td>2</td>\n      <td>3</td>\n      <td>3</td>\n      <td>3</td>\n      <td>2</td>\n      <td>3</td>\n      <td>3</td>\n    </tr>\n    <tr>\n      <th>AAG</th>\n      <td>1</td>\n      <td>1</td>\n      <td>0</td>\n      <td>1</td>\n      <td>2</td>\n      <td>2</td>\n      <td>1</td>\n      <td>2</td>\n      <td>2</td>\n      <td>2</td>\n      <td>...</td>\n      <td>2</td>\n      <td>3</td>\n      <td>3</td>\n      <td>3</td>\n      <td>2</td>\n      <td>3</td>\n      <td>3</td>\n      <td>3</td>\n      <td>2</td>\n      <td>3</td>\n    </tr>\n    <tr>\n      <th>AAU</th>\n      <td>1</td>\n      <td>1</td>\n      <td>1</td>\n      <td>0</td>\n      <td>2</td>\n      <td>2</td>\n      <td>2</td>\n      <td>1</td>\n      <td>2</td>\n      <td>2</td>\n      <td>...</td>\n      <td>3</td>\n      <td>2</td>\n      <td>3</td>\n      <td>3</td>\n      <td>3</td>\n      <td>2</td>\n      <td>3</td>\n      <td>3</td>\n      <td>3</td>\n      <td>2</td>\n    </tr>\n    <tr>\n      <th>ACA</th>\n      <td>1</td>\n      <td>2</td>\n      <td>2</td>\n      <td>2</td>\n      <td>0</td>\n      <td>1</td>\n      <td>1</td>\n      <td>1</td>\n      <td>1</td>\n      <td>2</td>\n      <td>...</td>\n      <td>2</td>\n      <td>2</td>\n      <td>2</td>\n      <td>3</td>\n      <td>3</td>\n      <td>3</td>\n      <td>2</td>\n      <td>3</td>\n      <td>3</td>\n      <td>3</td>\n    </tr>\n    <tr>\n      <th>...</th>\n      <td>...</td>\n      <td>...</td>\n      <td>...</td>\n      <td>...</td>\n      <td>...</td>\n      <td>...</td>\n      <td>...</td>\n      <td>...</td>\n      <td>...</td>\n      <td>...</td>\n      <td>...</td>\n      <td>...</td>\n      <td>...</td>\n      <td>...</td>\n      <td>...</td>\n      <td>...</td>\n      <td>...</td>\n      <td>...</td>\n      <td>...</td>\n      <td>...</td>\n      <td>...</td>\n    </tr>\n    <tr>\n      <th>UGU</th>\n      <td>3</td>\n      <td>3</td>\n      <td>3</td>\n      <td>2</td>\n      <td>3</td>\n      <td>3</td>\n      <td>3</td>\n      <td>2</td>\n      <td>2</td>\n      <td>2</td>\n      <td>...</td>\n      <td>2</td>\n      <td>1</td>\n      <td>1</td>\n      <td>1</td>\n      <td>1</td>\n      <td>0</td>\n      <td>2</td>\n      <td>2</td>\n      <td>2</td>\n      <td>1</td>\n    </tr>\n    <tr>\n      <th>UUA</th>\n      <td>2</td>\n      <td>3</td>\n      <td>3</td>\n      <td>3</td>\n      <td>2</td>\n      <td>3</td>\n      <td>3</td>\n      <td>3</td>\n      <td>2</td>\n      <td>3</td>\n      <td>...</td>\n      <td>2</td>\n      <td>2</td>\n      <td>1</td>\n      <td>2</td>\n      <td>2</td>\n      <td>2</td>\n      <td>0</td>\n      <td>1</td>\n      <td>1</td>\n      <td>1</td>\n    </tr>\n    <tr>\n      <th>UUC</th>\n      <td>3</td>\n      <td>2</td>\n      <td>3</td>\n      <td>3</td>\n      <td>3</td>\n      <td>2</td>\n      <td>3</td>\n      <td>3</td>\n      <td>3</td>\n      <td>2</td>\n      <td>...</td>\n      <td>2</td>\n      <td>2</td>\n      <td>2</td>\n      <td>1</td>\n      <td>2</td>\n      <td>2</td>\n      <td>1</td>\n      <td>0</td>\n      <td>1</td>\n      <td>1</td>\n    </tr>\n    <tr>\n      <th>UUG</th>\n      <td>3</td>\n      <td>3</td>\n      <td>2</td>\n      <td>3</td>\n      <td>3</td>\n      <td>3</td>\n      <td>2</td>\n      <td>3</td>\n      <td>3</td>\n      <td>3</td>\n      <td>...</td>\n      <td>1</td>\n      <td>2</td>\n      <td>2</td>\n      <td>2</td>\n      <td>1</td>\n      <td>2</td>\n      <td>1</td>\n      <td>1</td>\n      <td>0</td>\n      <td>1</td>\n    </tr>\n    <tr>\n      <th>UUU</th>\n      <td>3</td>\n      <td>3</td>\n      <td>3</td>\n      <td>2</td>\n      <td>3</td>\n      <td>3</td>\n      <td>3</td>\n      <td>2</td>\n      <td>3</td>\n      <td>3</td>\n      <td>...</td>\n      <td>2</td>\n      <td>1</td>\n      <td>2</td>\n      <td>2</td>\n      <td>2</td>\n      <td>1</td>\n      <td>1</td>\n      <td>1</td>\n      <td>1</td>\n      <td>0</td>\n    </tr>\n  </tbody>\n</table>\n<p>64 rows × 64 columns</p>\n</div>"
     },
     "execution_count": 4,
     "metadata": {},
     "output_type": "execute_result"
    }
   ],
   "source": [
    "\n",
    "import pandas as pd\n",
    "import numpy as np\n",
    "\n",
    "codons = ['AAA', 'AAC', 'AAG', 'AAU', 'ACA', 'ACC', 'ACG', 'ACU', 'AGA', 'AGC', 'AGG', 'AGU', 'AUA', 'AUC', 'AUG', 'AUU', 'CAA', 'CAC', 'CAG', 'CAU', 'CCA', 'CCC', 'CCG', 'CCU', 'CGA', 'CGC', 'CGG', 'CGU', 'CUA', 'CUC', 'CUG', 'CUU', 'GAA', 'GAC', 'GAG', 'GAU', 'GCA', 'GCC', 'GCG', 'GCU', 'GGA', 'GGC', 'GGG', 'GGU', 'GUA', 'GUC', 'GUG', 'GUU', 'UAA', 'UAC', 'UAG', 'UAU', 'UCA', 'UCC', 'UCG', 'UCU', 'UGA', 'UGC', 'UGG', 'UGU', 'UUA', 'UUC', 'UUG', 'UUU']\n",
    "\n",
    "# Create an empty dataframe with the custom row and column names\n",
    "codons_codons = pd.DataFrame(index=codons, columns=codons)\n",
    "\n",
    "# Fill the dataframe\n",
    "for row_codon in codons:\n",
    "    for col_codon in codons:\n",
    "        differing_bases = sum(row_base != col_base for row_base, col_base in zip(row_codon, col_codon))\n",
    "        codons_codons.loc[row_codon, col_codon] = differing_bases\n",
    "\n",
    "codons_codons"
   ]
  },
  {
   "cell_type": "code",
   "execution_count": 5,
   "outputs": [
    {
     "name": "stdout",
     "output_type": "stream",
     "text": [
      "   codons aacids\n",
      "0     AAA      K\n",
      "1     AAC      N\n",
      "2     AAG      K\n",
      "3     AAU      N\n",
      "4     ACA      T\n",
      "..    ...    ...\n",
      "59    UGU      L\n",
      "60    UUA      C\n",
      "61    UUC      W\n",
      "62    UUG      C\n",
      "63    UUU      L\n",
      "\n",
      "[64 rows x 2 columns]\n"
     ]
    }
   ],
   "source": [
    "aacids = ['K', 'N', 'K', 'N', 'T', 'T', 'T', 'T', 'R', 'S', 'R', 'S', 'I', 'I', 'M', 'I', 'Q', 'H', 'Q', 'H', 'P', 'P', 'P', 'P', 'R', 'R', 'R', 'R', 'L', 'L', 'L', 'L', 'E', 'D', 'E', 'D', 'A', 'A', 'A', 'A', 'G', 'G', 'G', 'G', 'V', 'V', 'V', 'V', 'STOP', 'Y', 'STOP', 'Y', 'S', 'S', 'S', 'S', 'STOP','L', 'F', 'L', 'C', 'W', 'C', 'L']\n",
    "\n",
    "codons_aacids = pd.DataFrame({'codons': codons, 'aacids': aacids })\n",
    "print(codons_aacids)"
   ],
   "metadata": {
    "collapsed": false,
    "ExecuteTime": {
     "start_time": "2023-06-16T19:24:28.851914Z",
     "end_time": "2023-06-16T19:24:28.855543Z"
    }
   }
  },
  {
   "cell_type": "code",
   "execution_count": 6,
   "outputs": [],
   "source": [
    "dna_sequence = \"ATGGAGGAGCCGCAGTCAGATCCTAGCGTCGAGCCCCCTCTGAGTCAGGAAACATTTTCAGACCTATGGAAACTACTTCCTGAAAACAACGTTCTGTCCCCCTTGCCGTCCCAAGCAATGGATGATTTGATGCTGTCCCCGGACGATATTGAACAATGGTTCACTGAAGACCCAGGTCCAGATGAAGCTCCCAGAATGCCAGAGGCTGCTCCCCCCGTGGCCCCTGCACCAGCAGCTCCTACACCGGCGGCCCCTGCACCAGCCCCCTCCTGGCCCCTGTCATCTTCTGTCCCTTCCCAGAAAACCTACCAGGGCAGCTACGGTTTCCGTCTGGGCTTCTTGCATTCTGGGACAGCCAAGTCTGTGACTTGCACGTACTCCCCTGCCCTCAACAAGATGTTTTGCCAACTGGCCAAGACCTGCCCTGTGCAGCTGTGGGTTGATTCCACACCCCCGCCCGGCACCCGCGTCCGCGCCATGGCCATCTACAAGCAGTCACAGCACATGACGGAGGTTGTGAGGCGCTGCCCCCACCATGAGCGCTGCTCAGATAGCGATGGTCTGGCCCCTCCTCAGCATCTTATCCGAGTGGAAGGAAATTTGCGTGTGGAGTATTTGGATGACAGAAACACTTTTCGACATAGTGTGGTGGTGCCCTATGAGCCGCCTGAGGTTGGCTCTGACTGTACCACCATCCACTACAACTACATGTGTAACAGTTCCTGCATGGGCGGCATGAACCGGAGGCCCATCCTCACCATCATCACACTGGAAGACTCCAGTGGTAATCTACTGGGACGGAACAGCTTTGAGGTGCGTGTTTGTGCCTGTCCTGGGAGAGACCGGCGCACAGAGGAAGAGAATCTCCGCAAGAAAGGGGAGCCTCACCACGAGCTGCCCCCAGGGAGCACTAAGCGAGCACTGCCCAACAACACCAGCTCCTCTCCCCAGCCAAAGAAGAAACCACTGGATGGAGAATATTTCACCCTTCAGATCCGTGGGCGTGAGCGCTTCGAGATGTTCCGAGAGCTGAATGAGGCCTTGGAACTCAAGGATGCCCAGGCTGGGAAGGAGCCAGGGGGGAGCAGGGCTCACTCCAGCCACCTGAAGTCCAAAAAGGGTCAGTCTACCTCCCGCCATAAAAAACTCATGTTCAAGACAGAAGGGCCTGACTCAGAC\"\n",
    "rna_sequence = dna_sequence.replace(\"T\", \"U\")"
   ],
   "metadata": {
    "collapsed": false,
    "ExecuteTime": {
     "start_time": "2023-06-16T19:24:29.385815Z",
     "end_time": "2023-06-16T19:24:29.389236Z"
    }
   }
  },
  {
   "cell_type": "code",
   "execution_count": 7,
   "outputs": [
    {
     "name": "stdout",
     "output_type": "stream",
     "text": [
      "['AUG', 'GAG', 'GAG', 'CCG', 'CAG', 'UCA', 'GAU', 'CCU', 'AGC', 'GUC', 'GAG', 'CCC', 'CCU', 'CUG', 'AGU', 'CAG', 'GAA', 'ACA', 'UUU', 'UCA', 'GAC', 'CUA', 'UGG', 'AAA', 'CUA', 'CUU', 'CCU', 'GAA', 'AAC', 'AAC', 'GUU', 'CUG', 'UCC', 'CCC', 'UUG', 'CCG', 'UCC', 'CAA', 'GCA', 'AUG', 'GAU', 'GAU', 'UUG', 'AUG', 'CUG', 'UCC', 'CCG', 'GAC', 'GAU', 'AUU', 'GAA', 'CAA', 'UGG', 'UUC', 'ACU', 'GAA', 'GAC', 'CCA', 'GGU', 'CCA', 'GAU', 'GAA', 'GCU', 'CCC', 'AGA', 'AUG', 'CCA', 'GAG', 'GCU', 'GCU', 'CCC', 'CCC', 'GUG', 'GCC', 'CCU', 'GCA', 'CCA', 'GCA', 'GCU', 'CCU', 'ACA', 'CCG', 'GCG', 'GCC', 'CCU', 'GCA', 'CCA', 'GCC', 'CCC', 'UCC', 'UGG', 'CCC', 'CUG', 'UCA', 'UCU', 'UCU', 'GUC', 'CCU', 'UCC', 'CAG', 'AAA', 'ACC', 'UAC', 'CAG', 'GGC', 'AGC', 'UAC', 'GGU', 'UUC', 'CGU', 'CUG', 'GGC', 'UUC', 'UUG', 'CAU', 'UCU', 'GGG', 'ACA', 'GCC', 'AAG', 'UCU', 'GUG', 'ACU', 'UGC', 'ACG', 'UAC', 'UCC', 'CCU', 'GCC', 'CUC', 'AAC', 'AAG', 'AUG', 'UUU', 'UGC', 'CAA', 'CUG', 'GCC', 'AAG', 'ACC', 'UGC', 'CCU', 'GUG', 'CAG', 'CUG', 'UGG', 'GUU', 'GAU', 'UCC', 'ACA', 'CCC', 'CCG', 'CCC', 'GGC', 'ACC', 'CGC', 'GUC', 'CGC', 'GCC', 'AUG', 'GCC', 'AUC', 'UAC', 'AAG', 'CAG', 'UCA', 'CAG', 'CAC', 'AUG', 'ACG', 'GAG', 'GUU', 'GUG', 'AGG', 'CGC', 'UGC', 'CCC', 'CAC', 'CAU', 'GAG', 'CGC', 'UGC', 'UCA', 'GAU', 'AGC', 'GAU', 'GGU', 'CUG', 'GCC', 'CCU', 'CCU', 'CAG', 'CAU', 'CUU', 'AUC', 'CGA', 'GUG', 'GAA', 'GGA', 'AAU', 'UUG', 'CGU', 'GUG', 'GAG', 'UAU', 'UUG', 'GAU', 'GAC', 'AGA', 'AAC', 'ACU', 'UUU', 'CGA', 'CAU', 'AGU', 'GUG', 'GUG', 'GUG', 'CCC', 'UAU', 'GAG', 'CCG', 'CCU', 'GAG', 'GUU', 'GGC', 'UCU', 'GAC', 'UGU', 'ACC', 'ACC', 'AUC', 'CAC', 'UAC', 'AAC', 'UAC', 'AUG', 'UGU', 'AAC', 'AGU', 'UCC', 'UGC', 'AUG', 'GGC', 'GGC', 'AUG', 'AAC', 'CGG', 'AGG', 'CCC', 'AUC', 'CUC', 'ACC', 'AUC', 'AUC', 'ACA', 'CUG', 'GAA', 'GAC', 'UCC', 'AGU', 'GGU', 'AAU', 'CUA', 'CUG', 'GGA', 'CGG', 'AAC', 'AGC', 'UUU', 'GAG', 'GUG', 'CGU', 'GUU', 'UGU', 'GCC', 'UGU', 'CCU', 'GGG', 'AGA', 'GAC', 'CGG', 'CGC', 'ACA', 'GAG', 'GAA', 'GAG', 'AAU', 'CUC', 'CGC', 'AAG', 'AAA', 'GGG', 'GAG', 'CCU', 'CAC', 'CAC', 'GAG', 'CUG', 'CCC', 'CCA', 'GGG', 'AGC', 'ACU', 'AAG', 'CGA', 'GCA', 'CUG', 'CCC', 'AAC', 'AAC', 'ACC', 'AGC', 'UCC', 'UCU', 'CCC', 'CAG', 'CCA', 'AAG', 'AAG', 'AAA', 'CCA', 'CUG', 'GAU', 'GGA', 'GAA', 'UAU', 'UUC', 'ACC', 'CUU', 'CAG', 'AUC', 'CGU', 'GGG', 'CGU', 'GAG', 'CGC', 'UUC', 'GAG', 'AUG', 'UUC', 'CGA', 'GAG', 'CUG', 'AAU', 'GAG', 'GCC', 'UUG', 'GAA', 'CUC', 'AAG', 'GAU', 'GCC', 'CAG', 'GCU', 'GGG', 'AAG', 'GAG', 'CCA', 'GGG', 'GGG', 'AGC', 'AGG', 'GCU', 'CAC', 'UCC', 'AGC', 'CAC', 'CUG', 'AAG', 'UCC', 'AAA', 'AAG', 'GGU', 'CAG', 'UCU', 'ACC', 'UCC', 'CGC', 'CAU', 'AAA', 'AAA', 'CUC', 'AUG', 'UUC', 'AAG', 'ACA', 'GAA', 'GGG', 'CCU', 'GAC', 'UCA', 'GAC']\n"
     ]
    }
   ],
   "source": [
    "p53_codons = [rna_sequence[i:i+3] for i in range(0, len(rna_sequence), 3)]\n",
    "\n",
    "print(p53_codons)"
   ],
   "metadata": {
    "collapsed": false,
    "ExecuteTime": {
     "start_time": "2023-06-16T19:24:30.003361Z",
     "end_time": "2023-06-16T19:24:30.008873Z"
    }
   }
  },
  {
   "cell_type": "code",
   "execution_count": 8,
   "outputs": [],
   "source": [
    "#bis hier klappt alles. Ich slice die RNA Sequenz in Codons und speichere die Codons als liste in p53_codons. Ich wollte jetzt über diese Liste iterieren und dann jedes Codon mit dem 64x64 DataFrame abgleichen. So wollte ich für jedes p53 codon eine Liste mit Codons erstellen, die nur eine single mutation abweichen. Aus dieser Liste für jedes p53 codon könnte man dann mit Darios codons_aacid dataframe schauen, welche ASen dann nah dran sind für jedes Codon. Das hab ich aber nicht hinbekommen, unten sind meine Versuche..."
   ],
   "metadata": {
    "collapsed": false,
    "ExecuteTime": {
     "start_time": "2023-06-16T19:24:30.548742Z",
     "end_time": "2023-06-16T19:24:30.551133Z"
    }
   }
  },
  {
   "cell_type": "code",
   "execution_count": 9,
   "outputs": [],
   "source": [
    "#Funktion um alle Codons eines df zu übersetzen\n",
    "\n",
    "from Bio.Seq import Seq\n",
    "\n",
    "def translate_codons_df(df):\n",
    "    translated_df = pd.DataFrame()\n",
    "\n",
    "    for column in df.columns:\n",
    "        codons = df[column]\n",
    "        seqs = [Seq(codon) for codon in codons]\n",
    "        amino_acids = [seq.translate() for seq in seqs]\n",
    "        translated_df[column] = amino_acids\n",
    "\n",
    "    return translated_df\n"
   ],
   "metadata": {
    "collapsed": false,
    "ExecuteTime": {
     "start_time": "2023-06-16T19:24:31.082394Z",
     "end_time": "2023-06-16T19:24:31.111648Z"
    }
   }
  },
  {
   "cell_type": "code",
   "execution_count": 10,
   "outputs": [
    {
     "data": {
      "text/plain": "   Original Variation 1 Variation 2 Variation 3 Variation 4 Variation 5  \\\n0       AUG         UUG         GUG         CUG         AAG         AGG   \n1       GAG         AAG         UAG         CAG         GUG         GGG   \n2       GAG         AAG         UAG         CAG         GUG         GGG   \n3       CCG         ACG         UCG         GCG         CAG         CUG   \n4       CAG         AAG         UAG         GAG         CUG         CGG   \n5       UCA         ACA         GCA         CCA         UAA         UUA   \n6       GAU         AAU         UAU         CAU         GUU         GGU   \n7       CCU         ACU         UCU         GCU         CAU         CUU   \n8       AGC         UGC         GGC         CGC         AAC         AUC   \n9       GUC         AUC         UUC         CUC         GAC         GGC   \n10      GAG         AAG         UAG         CAG         GUG         GGG   \n11      CCC         ACC         UCC         GCC         CAC         CUC   \n12      CCU         ACU         UCU         GCU         CAU         CUU   \n13      CUG         AUG         UUG         GUG         CAG         CGG   \n14      AGU         UGU         GGU         CGU         AAU         AUU   \n15      CAG         AAG         UAG         GAG         CUG         CGG   \n16      GAA         AAA         UAA         CAA         GUA         GGA   \n17      ACA         UCA         GCA         CCA         AAA         AUA   \n18      UUU         AUU         GUU         CUU         UAU         UGU   \n19      UCA         ACA         GCA         CCA         UAA         UUA   \n\n   Variation 6 Variation 7 Variation 8 Variation 9  \n0          ACG         AUA         AUU         AUC  \n1          GCG         GAA         GAU         GAC  \n2          GCG         GAA         GAU         GAC  \n3          CGG         CCA         CCU         CCC  \n4          CCG         CAA         CAU         CAC  \n5          UGA         UCU         UCG         UCC  \n6          GCU         GAA         GAG         GAC  \n7          CGU         CCA         CCG         CCC  \n8          ACC         AGA         AGU         AGG  \n9          GCC         GUA         GUU         GUG  \n10         GCG         GAA         GAU         GAC  \n11         CGC         CCA         CCU         CCG  \n12         CGU         CCA         CCG         CCC  \n13         CCG         CUA         CUU         CUC  \n14         ACU         AGA         AGG         AGC  \n15         CCG         CAA         CAU         CAC  \n16         GCA         GAU         GAG         GAC  \n17         AGA         ACU         ACG         ACC  \n18         UCU         UUA         UUG         UUC  \n19         UGA         UCU         UCG         UCC  ",
      "text/html": "<div>\n<style scoped>\n    .dataframe tbody tr th:only-of-type {\n        vertical-align: middle;\n    }\n\n    .dataframe tbody tr th {\n        vertical-align: top;\n    }\n\n    .dataframe thead th {\n        text-align: right;\n    }\n</style>\n<table border=\"1\" class=\"dataframe\">\n  <thead>\n    <tr style=\"text-align: right;\">\n      <th></th>\n      <th>Original</th>\n      <th>Variation 1</th>\n      <th>Variation 2</th>\n      <th>Variation 3</th>\n      <th>Variation 4</th>\n      <th>Variation 5</th>\n      <th>Variation 6</th>\n      <th>Variation 7</th>\n      <th>Variation 8</th>\n      <th>Variation 9</th>\n    </tr>\n  </thead>\n  <tbody>\n    <tr>\n      <th>0</th>\n      <td>AUG</td>\n      <td>UUG</td>\n      <td>GUG</td>\n      <td>CUG</td>\n      <td>AAG</td>\n      <td>AGG</td>\n      <td>ACG</td>\n      <td>AUA</td>\n      <td>AUU</td>\n      <td>AUC</td>\n    </tr>\n    <tr>\n      <th>1</th>\n      <td>GAG</td>\n      <td>AAG</td>\n      <td>UAG</td>\n      <td>CAG</td>\n      <td>GUG</td>\n      <td>GGG</td>\n      <td>GCG</td>\n      <td>GAA</td>\n      <td>GAU</td>\n      <td>GAC</td>\n    </tr>\n    <tr>\n      <th>2</th>\n      <td>GAG</td>\n      <td>AAG</td>\n      <td>UAG</td>\n      <td>CAG</td>\n      <td>GUG</td>\n      <td>GGG</td>\n      <td>GCG</td>\n      <td>GAA</td>\n      <td>GAU</td>\n      <td>GAC</td>\n    </tr>\n    <tr>\n      <th>3</th>\n      <td>CCG</td>\n      <td>ACG</td>\n      <td>UCG</td>\n      <td>GCG</td>\n      <td>CAG</td>\n      <td>CUG</td>\n      <td>CGG</td>\n      <td>CCA</td>\n      <td>CCU</td>\n      <td>CCC</td>\n    </tr>\n    <tr>\n      <th>4</th>\n      <td>CAG</td>\n      <td>AAG</td>\n      <td>UAG</td>\n      <td>GAG</td>\n      <td>CUG</td>\n      <td>CGG</td>\n      <td>CCG</td>\n      <td>CAA</td>\n      <td>CAU</td>\n      <td>CAC</td>\n    </tr>\n    <tr>\n      <th>5</th>\n      <td>UCA</td>\n      <td>ACA</td>\n      <td>GCA</td>\n      <td>CCA</td>\n      <td>UAA</td>\n      <td>UUA</td>\n      <td>UGA</td>\n      <td>UCU</td>\n      <td>UCG</td>\n      <td>UCC</td>\n    </tr>\n    <tr>\n      <th>6</th>\n      <td>GAU</td>\n      <td>AAU</td>\n      <td>UAU</td>\n      <td>CAU</td>\n      <td>GUU</td>\n      <td>GGU</td>\n      <td>GCU</td>\n      <td>GAA</td>\n      <td>GAG</td>\n      <td>GAC</td>\n    </tr>\n    <tr>\n      <th>7</th>\n      <td>CCU</td>\n      <td>ACU</td>\n      <td>UCU</td>\n      <td>GCU</td>\n      <td>CAU</td>\n      <td>CUU</td>\n      <td>CGU</td>\n      <td>CCA</td>\n      <td>CCG</td>\n      <td>CCC</td>\n    </tr>\n    <tr>\n      <th>8</th>\n      <td>AGC</td>\n      <td>UGC</td>\n      <td>GGC</td>\n      <td>CGC</td>\n      <td>AAC</td>\n      <td>AUC</td>\n      <td>ACC</td>\n      <td>AGA</td>\n      <td>AGU</td>\n      <td>AGG</td>\n    </tr>\n    <tr>\n      <th>9</th>\n      <td>GUC</td>\n      <td>AUC</td>\n      <td>UUC</td>\n      <td>CUC</td>\n      <td>GAC</td>\n      <td>GGC</td>\n      <td>GCC</td>\n      <td>GUA</td>\n      <td>GUU</td>\n      <td>GUG</td>\n    </tr>\n    <tr>\n      <th>10</th>\n      <td>GAG</td>\n      <td>AAG</td>\n      <td>UAG</td>\n      <td>CAG</td>\n      <td>GUG</td>\n      <td>GGG</td>\n      <td>GCG</td>\n      <td>GAA</td>\n      <td>GAU</td>\n      <td>GAC</td>\n    </tr>\n    <tr>\n      <th>11</th>\n      <td>CCC</td>\n      <td>ACC</td>\n      <td>UCC</td>\n      <td>GCC</td>\n      <td>CAC</td>\n      <td>CUC</td>\n      <td>CGC</td>\n      <td>CCA</td>\n      <td>CCU</td>\n      <td>CCG</td>\n    </tr>\n    <tr>\n      <th>12</th>\n      <td>CCU</td>\n      <td>ACU</td>\n      <td>UCU</td>\n      <td>GCU</td>\n      <td>CAU</td>\n      <td>CUU</td>\n      <td>CGU</td>\n      <td>CCA</td>\n      <td>CCG</td>\n      <td>CCC</td>\n    </tr>\n    <tr>\n      <th>13</th>\n      <td>CUG</td>\n      <td>AUG</td>\n      <td>UUG</td>\n      <td>GUG</td>\n      <td>CAG</td>\n      <td>CGG</td>\n      <td>CCG</td>\n      <td>CUA</td>\n      <td>CUU</td>\n      <td>CUC</td>\n    </tr>\n    <tr>\n      <th>14</th>\n      <td>AGU</td>\n      <td>UGU</td>\n      <td>GGU</td>\n      <td>CGU</td>\n      <td>AAU</td>\n      <td>AUU</td>\n      <td>ACU</td>\n      <td>AGA</td>\n      <td>AGG</td>\n      <td>AGC</td>\n    </tr>\n    <tr>\n      <th>15</th>\n      <td>CAG</td>\n      <td>AAG</td>\n      <td>UAG</td>\n      <td>GAG</td>\n      <td>CUG</td>\n      <td>CGG</td>\n      <td>CCG</td>\n      <td>CAA</td>\n      <td>CAU</td>\n      <td>CAC</td>\n    </tr>\n    <tr>\n      <th>16</th>\n      <td>GAA</td>\n      <td>AAA</td>\n      <td>UAA</td>\n      <td>CAA</td>\n      <td>GUA</td>\n      <td>GGA</td>\n      <td>GCA</td>\n      <td>GAU</td>\n      <td>GAG</td>\n      <td>GAC</td>\n    </tr>\n    <tr>\n      <th>17</th>\n      <td>ACA</td>\n      <td>UCA</td>\n      <td>GCA</td>\n      <td>CCA</td>\n      <td>AAA</td>\n      <td>AUA</td>\n      <td>AGA</td>\n      <td>ACU</td>\n      <td>ACG</td>\n      <td>ACC</td>\n    </tr>\n    <tr>\n      <th>18</th>\n      <td>UUU</td>\n      <td>AUU</td>\n      <td>GUU</td>\n      <td>CUU</td>\n      <td>UAU</td>\n      <td>UGU</td>\n      <td>UCU</td>\n      <td>UUA</td>\n      <td>UUG</td>\n      <td>UUC</td>\n    </tr>\n    <tr>\n      <th>19</th>\n      <td>UCA</td>\n      <td>ACA</td>\n      <td>GCA</td>\n      <td>CCA</td>\n      <td>UAA</td>\n      <td>UUA</td>\n      <td>UGA</td>\n      <td>UCU</td>\n      <td>UCG</td>\n      <td>UCC</td>\n    </tr>\n  </tbody>\n</table>\n</div>"
     },
     "execution_count": 10,
     "metadata": {},
     "output_type": "execute_result"
    }
   ],
   "source": [
    "#Ab hier versuche ich das ganze um alle Single-Mutations zu erweitern\n",
    "import pandas as pd\n",
    "\n",
    "def generate_codon_variations(codons):\n",
    "    variations = []\n",
    "    for codon in codons:\n",
    "        variation = [codon]\n",
    "        for i in range(3):\n",
    "            bases = ['A', 'U', 'G', 'C']\n",
    "            bases.remove(codon[i])\n",
    "            variation.extend([codon[:i] + base + codon[i+1:] for base in bases])\n",
    "        variations.append(variation)\n",
    "\n",
    "    df = pd.DataFrame(variations)\n",
    "    df.columns = ['Original'] + [f'Variation {i+1}' for i in range(9)]\n",
    "    return df\n",
    "\n",
    "# Alle möglichen Codons für tp53\n",
    "mutated_p53 = generate_codon_variations(p53_codons)\n",
    "mutated_p53.head(20)"
   ],
   "metadata": {
    "collapsed": false,
    "ExecuteTime": {
     "start_time": "2023-06-16T19:24:31.748530Z",
     "end_time": "2023-06-16T19:24:31.751544Z"
    }
   }
  },
  {
   "cell_type": "code",
   "execution_count": 11,
   "outputs": [
    {
     "data": {
      "text/plain": "   Original Variation 1 Variation 2 Variation 3 Variation 4 Variation 5  \\\n0       (M)         (L)         (V)         (L)         (K)         (R)   \n1       (E)         (K)         (*)         (Q)         (V)         (G)   \n2       (E)         (K)         (*)         (Q)         (V)         (G)   \n3       (P)         (T)         (S)         (A)         (Q)         (L)   \n4       (Q)         (K)         (*)         (E)         (L)         (R)   \n5       (S)         (T)         (A)         (P)         (*)         (L)   \n6       (D)         (N)         (Y)         (H)         (V)         (G)   \n7       (P)         (T)         (S)         (A)         (H)         (L)   \n8       (S)         (C)         (G)         (R)         (N)         (I)   \n9       (V)         (I)         (F)         (L)         (D)         (G)   \n10      (E)         (K)         (*)         (Q)         (V)         (G)   \n11      (P)         (T)         (S)         (A)         (H)         (L)   \n12      (P)         (T)         (S)         (A)         (H)         (L)   \n13      (L)         (M)         (L)         (V)         (Q)         (R)   \n14      (S)         (C)         (G)         (R)         (N)         (I)   \n15      (Q)         (K)         (*)         (E)         (L)         (R)   \n16      (E)         (K)         (*)         (Q)         (V)         (G)   \n17      (T)         (S)         (A)         (P)         (K)         (I)   \n18      (F)         (I)         (V)         (L)         (Y)         (C)   \n19      (S)         (T)         (A)         (P)         (*)         (L)   \n\n   Variation 6 Variation 7 Variation 8 Variation 9  \n0          (T)         (I)         (I)         (I)  \n1          (A)         (E)         (D)         (D)  \n2          (A)         (E)         (D)         (D)  \n3          (R)         (P)         (P)         (P)  \n4          (P)         (Q)         (H)         (H)  \n5          (*)         (S)         (S)         (S)  \n6          (A)         (E)         (E)         (D)  \n7          (R)         (P)         (P)         (P)  \n8          (T)         (R)         (S)         (R)  \n9          (A)         (V)         (V)         (V)  \n10         (A)         (E)         (D)         (D)  \n11         (R)         (P)         (P)         (P)  \n12         (R)         (P)         (P)         (P)  \n13         (P)         (L)         (L)         (L)  \n14         (T)         (R)         (R)         (S)  \n15         (P)         (Q)         (H)         (H)  \n16         (A)         (D)         (E)         (D)  \n17         (R)         (T)         (T)         (T)  \n18         (S)         (L)         (L)         (F)  \n19         (*)         (S)         (S)         (S)  ",
      "text/html": "<div>\n<style scoped>\n    .dataframe tbody tr th:only-of-type {\n        vertical-align: middle;\n    }\n\n    .dataframe tbody tr th {\n        vertical-align: top;\n    }\n\n    .dataframe thead th {\n        text-align: right;\n    }\n</style>\n<table border=\"1\" class=\"dataframe\">\n  <thead>\n    <tr style=\"text-align: right;\">\n      <th></th>\n      <th>Original</th>\n      <th>Variation 1</th>\n      <th>Variation 2</th>\n      <th>Variation 3</th>\n      <th>Variation 4</th>\n      <th>Variation 5</th>\n      <th>Variation 6</th>\n      <th>Variation 7</th>\n      <th>Variation 8</th>\n      <th>Variation 9</th>\n    </tr>\n  </thead>\n  <tbody>\n    <tr>\n      <th>0</th>\n      <td>(M)</td>\n      <td>(L)</td>\n      <td>(V)</td>\n      <td>(L)</td>\n      <td>(K)</td>\n      <td>(R)</td>\n      <td>(T)</td>\n      <td>(I)</td>\n      <td>(I)</td>\n      <td>(I)</td>\n    </tr>\n    <tr>\n      <th>1</th>\n      <td>(E)</td>\n      <td>(K)</td>\n      <td>(*)</td>\n      <td>(Q)</td>\n      <td>(V)</td>\n      <td>(G)</td>\n      <td>(A)</td>\n      <td>(E)</td>\n      <td>(D)</td>\n      <td>(D)</td>\n    </tr>\n    <tr>\n      <th>2</th>\n      <td>(E)</td>\n      <td>(K)</td>\n      <td>(*)</td>\n      <td>(Q)</td>\n      <td>(V)</td>\n      <td>(G)</td>\n      <td>(A)</td>\n      <td>(E)</td>\n      <td>(D)</td>\n      <td>(D)</td>\n    </tr>\n    <tr>\n      <th>3</th>\n      <td>(P)</td>\n      <td>(T)</td>\n      <td>(S)</td>\n      <td>(A)</td>\n      <td>(Q)</td>\n      <td>(L)</td>\n      <td>(R)</td>\n      <td>(P)</td>\n      <td>(P)</td>\n      <td>(P)</td>\n    </tr>\n    <tr>\n      <th>4</th>\n      <td>(Q)</td>\n      <td>(K)</td>\n      <td>(*)</td>\n      <td>(E)</td>\n      <td>(L)</td>\n      <td>(R)</td>\n      <td>(P)</td>\n      <td>(Q)</td>\n      <td>(H)</td>\n      <td>(H)</td>\n    </tr>\n    <tr>\n      <th>5</th>\n      <td>(S)</td>\n      <td>(T)</td>\n      <td>(A)</td>\n      <td>(P)</td>\n      <td>(*)</td>\n      <td>(L)</td>\n      <td>(*)</td>\n      <td>(S)</td>\n      <td>(S)</td>\n      <td>(S)</td>\n    </tr>\n    <tr>\n      <th>6</th>\n      <td>(D)</td>\n      <td>(N)</td>\n      <td>(Y)</td>\n      <td>(H)</td>\n      <td>(V)</td>\n      <td>(G)</td>\n      <td>(A)</td>\n      <td>(E)</td>\n      <td>(E)</td>\n      <td>(D)</td>\n    </tr>\n    <tr>\n      <th>7</th>\n      <td>(P)</td>\n      <td>(T)</td>\n      <td>(S)</td>\n      <td>(A)</td>\n      <td>(H)</td>\n      <td>(L)</td>\n      <td>(R)</td>\n      <td>(P)</td>\n      <td>(P)</td>\n      <td>(P)</td>\n    </tr>\n    <tr>\n      <th>8</th>\n      <td>(S)</td>\n      <td>(C)</td>\n      <td>(G)</td>\n      <td>(R)</td>\n      <td>(N)</td>\n      <td>(I)</td>\n      <td>(T)</td>\n      <td>(R)</td>\n      <td>(S)</td>\n      <td>(R)</td>\n    </tr>\n    <tr>\n      <th>9</th>\n      <td>(V)</td>\n      <td>(I)</td>\n      <td>(F)</td>\n      <td>(L)</td>\n      <td>(D)</td>\n      <td>(G)</td>\n      <td>(A)</td>\n      <td>(V)</td>\n      <td>(V)</td>\n      <td>(V)</td>\n    </tr>\n    <tr>\n      <th>10</th>\n      <td>(E)</td>\n      <td>(K)</td>\n      <td>(*)</td>\n      <td>(Q)</td>\n      <td>(V)</td>\n      <td>(G)</td>\n      <td>(A)</td>\n      <td>(E)</td>\n      <td>(D)</td>\n      <td>(D)</td>\n    </tr>\n    <tr>\n      <th>11</th>\n      <td>(P)</td>\n      <td>(T)</td>\n      <td>(S)</td>\n      <td>(A)</td>\n      <td>(H)</td>\n      <td>(L)</td>\n      <td>(R)</td>\n      <td>(P)</td>\n      <td>(P)</td>\n      <td>(P)</td>\n    </tr>\n    <tr>\n      <th>12</th>\n      <td>(P)</td>\n      <td>(T)</td>\n      <td>(S)</td>\n      <td>(A)</td>\n      <td>(H)</td>\n      <td>(L)</td>\n      <td>(R)</td>\n      <td>(P)</td>\n      <td>(P)</td>\n      <td>(P)</td>\n    </tr>\n    <tr>\n      <th>13</th>\n      <td>(L)</td>\n      <td>(M)</td>\n      <td>(L)</td>\n      <td>(V)</td>\n      <td>(Q)</td>\n      <td>(R)</td>\n      <td>(P)</td>\n      <td>(L)</td>\n      <td>(L)</td>\n      <td>(L)</td>\n    </tr>\n    <tr>\n      <th>14</th>\n      <td>(S)</td>\n      <td>(C)</td>\n      <td>(G)</td>\n      <td>(R)</td>\n      <td>(N)</td>\n      <td>(I)</td>\n      <td>(T)</td>\n      <td>(R)</td>\n      <td>(R)</td>\n      <td>(S)</td>\n    </tr>\n    <tr>\n      <th>15</th>\n      <td>(Q)</td>\n      <td>(K)</td>\n      <td>(*)</td>\n      <td>(E)</td>\n      <td>(L)</td>\n      <td>(R)</td>\n      <td>(P)</td>\n      <td>(Q)</td>\n      <td>(H)</td>\n      <td>(H)</td>\n    </tr>\n    <tr>\n      <th>16</th>\n      <td>(E)</td>\n      <td>(K)</td>\n      <td>(*)</td>\n      <td>(Q)</td>\n      <td>(V)</td>\n      <td>(G)</td>\n      <td>(A)</td>\n      <td>(D)</td>\n      <td>(E)</td>\n      <td>(D)</td>\n    </tr>\n    <tr>\n      <th>17</th>\n      <td>(T)</td>\n      <td>(S)</td>\n      <td>(A)</td>\n      <td>(P)</td>\n      <td>(K)</td>\n      <td>(I)</td>\n      <td>(R)</td>\n      <td>(T)</td>\n      <td>(T)</td>\n      <td>(T)</td>\n    </tr>\n    <tr>\n      <th>18</th>\n      <td>(F)</td>\n      <td>(I)</td>\n      <td>(V)</td>\n      <td>(L)</td>\n      <td>(Y)</td>\n      <td>(C)</td>\n      <td>(S)</td>\n      <td>(L)</td>\n      <td>(L)</td>\n      <td>(F)</td>\n    </tr>\n    <tr>\n      <th>19</th>\n      <td>(S)</td>\n      <td>(T)</td>\n      <td>(A)</td>\n      <td>(P)</td>\n      <td>(*)</td>\n      <td>(L)</td>\n      <td>(*)</td>\n      <td>(S)</td>\n      <td>(S)</td>\n      <td>(S)</td>\n    </tr>\n  </tbody>\n</table>\n</div>"
     },
     "execution_count": 11,
     "metadata": {},
     "output_type": "execute_result"
    }
   ],
   "source": [
    "# Übersetzen aller möglichen Codons\n",
    "aa = translate_codons_df(mutated_p53)\n",
    "aa.head(20)"
   ],
   "metadata": {
    "collapsed": false,
    "ExecuteTime": {
     "start_time": "2023-06-16T19:24:33.164530Z",
     "end_time": "2023-06-16T19:24:33.220736Z"
    }
   }
  },
  {
   "cell_type": "code",
   "execution_count": null,
   "outputs": [],
   "source": [],
   "metadata": {
    "collapsed": false
   }
  }
 ],
 "metadata": {
  "kernelspec": {
   "display_name": "Python 3",
   "language": "python",
   "name": "python3"
  },
  "language_info": {
   "codemirror_mode": {
    "name": "ipython",
    "version": 2
   },
   "file_extension": ".py",
   "mimetype": "text/x-python",
   "name": "python",
   "nbconvert_exporter": "python",
   "pygments_lexer": "ipython2",
   "version": "2.7.6"
  }
 },
 "nbformat": 4,
 "nbformat_minor": 0
}
