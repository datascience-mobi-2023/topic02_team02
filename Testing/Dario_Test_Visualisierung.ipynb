{
 "cells": [
  {
   "cell_type": "code",
   "execution_count": 2,
   "metadata": {
    "collapsed": true,
    "ExecuteTime": {
     "end_time": "2023-06-20T18:32:45.556520Z",
     "start_time": "2023-06-20T18:32:44.177501Z"
    }
   },
   "outputs": [],
   "source": [
    "import pandas as pd\n",
    "import functions as fun\n",
    "import data_cleanup as dc\n",
    "import data_exploration as de\n",
    "import matplotlib.pyplot as plt\n",
    "import Documentation as bac"
   ]
  },
  {
   "cell_type": "code",
   "execution_count": 3,
   "outputs": [],
   "source": [
    "gia_null_eto: pd.DataFrame = bac.gia_null_eto"
   ],
   "metadata": {
    "collapsed": false,
    "ExecuteTime": {
     "end_time": "2023-06-20T18:32:47.402031Z",
     "start_time": "2023-06-20T18:32:47.386572Z"
    }
   }
  },
  {
   "cell_type": "code",
   "execution_count": 8,
   "outputs": [],
   "source": [
    "gia_null_eto_auf: pd.DataFrame = dc.aufteilung_mut_pos(gia_null_eto)"
   ],
   "metadata": {
    "collapsed": false,
    "ExecuteTime": {
     "end_time": "2023-06-20T17:37:52.704580Z",
     "start_time": "2023-06-20T17:37:52.702011Z"
    }
   }
  },
  {
   "cell_type": "code",
   "execution_count": 11,
   "outputs": [],
   "source": [
    "gia_null_eto_df: pd.DataFrame = dc.df_transform(gia_null_eto)"
   ],
   "metadata": {
    "collapsed": false,
    "ExecuteTime": {
     "end_time": "2023-06-20T17:40:20.751547Z",
     "start_time": "2023-06-20T17:40:20.739161Z"
    }
   }
  },
  {
   "cell_type": "code",
   "execution_count": 13,
   "outputs": [],
   "source": [
    "gia_null_eto_df_narmv: pd.DataFrame = dc.rmv_na(gia_null_eto_df)"
   ],
   "metadata": {
    "collapsed": false,
    "ExecuteTime": {
     "end_time": "2023-06-20T17:40:58.669117Z",
     "start_time": "2023-06-20T17:40:58.607935Z"
    }
   }
  },
  {
   "cell_type": "code",
   "execution_count": 14,
   "outputs": [
    {
     "data": {
      "text/plain": "position_mut       1         2         3         4         5         6     \nAS_old               M         E         E         P         Q         S   \nAS_new                                                                     \nA            -0.788753 -0.376597 -0.178116 -1.175946 -0.345754 -0.733648  \\\nC            -1.969077 -0.068750  0.335770  0.191526  0.249694  0.218392   \nD             0.536895  0.180007  0.223665  0.431286  0.596059  0.364607   \nE             1.227243  0.000000  0.000000  0.752063  0.154363  0.451159   \nF             0.536895  0.285277 -0.163861  0.143955  0.183432  0.022895   \nG            -1.053827 -1.136268 -1.231009  0.480629  0.672144  0.618498   \nH            -2.003616  0.018802  0.166849  0.346323  0.473020  0.351703   \nI            -1.370065  0.265437 -0.079066  0.655922  0.443878  0.504212   \nK            -0.189807  0.343821  0.301952  0.569601  0.619942  0.570082   \nL            -2.032227  0.340883  0.201617  0.356359  0.572254  0.083633   \nM             0.000000  0.120026 -0.104722  0.883484  0.401457  0.208078   \nN            -2.140069  0.237363  0.245233  0.693068  0.291665  0.415774   \nP            -1.873279  0.699332  0.345559  0.000000  0.073229  0.390291   \nQ            -2.474317  0.121747  0.188514  0.537396  0.000000  0.342658   \nR            -1.470598  0.314042 -0.780203  0.416459 -0.061831  0.414449   \nS            -2.733926 -0.170067  0.025783  0.254247  0.503036  0.000000   \nT            -0.380537  0.083494  0.358035  0.338175  0.533692  0.316212   \nV            -0.669727  0.281564 -0.296231  0.204434  0.192258 -0.691659   \nW            -2.219256 -0.355260  0.082104  0.250887  0.000456 -0.215730   \nY            -1.333315  0.011813  0.300898  0.595865  0.500315  0.231594   \n\nposition_mut       7         8         9         10   ...       384       385   \nAS_old               D         P         S         V  ...         M         F   \nAS_new                                                ...                       \nA             0.577294  0.057062  0.110162  0.505744  ...  1.087271  0.592288  \\\nC             0.325113  0.046357  0.059489  0.879340  ...  1.048168  1.011005   \nD             0.000000  0.404817  0.079720  0.951393  ...  0.976694  1.248257   \nE             0.437353  0.477276 -0.026962  0.843035  ...  1.396801  0.954702   \nF             0.630453 -0.113914 -0.032559  0.631839  ...  1.355672  0.000000   \nG             0.042125  0.322946  0.149293  0.477052  ...  1.601316  0.431552   \nH             0.512018  0.386434  0.168393  0.618341  ...  1.060380  1.696196   \nI             0.192564  0.072021  0.306439  0.494835  ...  0.872244  0.984972   \nK             0.490208  0.576467  0.640866  0.845903  ...  0.917864  1.154427   \nL             0.316505 -0.007909  0.127239  0.158722  ...  1.281592  0.588544   \nM             0.495336  0.320652  0.481883  0.420678  ...  0.000000  1.623507   \nN             0.163652  0.272173  0.476720  1.062028  ...  1.377936  0.977362   \nP             0.093184  0.000000  0.380776  0.539100  ...  1.512728  1.412614   \nQ             0.306027  0.622302  0.141091  0.265497  ...  1.429589  1.109944   \nR            -0.256456  0.516571  0.383002 -1.150926  ...  0.998525  0.707545   \nS             0.211166 -1.320231  0.000000  0.592409  ...  0.620726  0.688141   \nT             0.332638  0.311746 -0.113804  0.626603  ...  0.708297  0.522290   \nV             0.247409  0.396168  0.490469  0.000000  ...  0.836690  0.895269   \nW             0.215296  0.255150 -0.099555  0.359223  ...  1.252980  1.213437   \nY             0.243801  0.376450 -0.732369  0.620155  ...  1.224446  0.731676   \n\nposition_mut       386       387       388       389       390       391   \nAS_old               K         T         E         G         P         D   \nAS_new                                                                     \nA             1.342046  0.781405  1.238938  1.169208  1.478115  1.036380  \\\nC             1.153228  1.162982  1.105490  1.394445  1.040421  1.202961   \nD             0.906721  1.104929  1.017745  0.959517  1.072748  0.000000   \nE             0.514636  1.260646  0.000000  0.524010  1.000880  1.057979   \nF             1.458921  1.086308  1.395992  0.678716  1.456029  1.748360   \nG             0.694353  1.173473  0.887612  0.000000  0.547189  0.805634   \nH             1.042860  1.040709  1.450329  1.054661  0.754332  0.979709   \nI             1.002368  0.885588  1.574588  1.302351  1.535477  1.636037   \nK             0.000000  1.085832  0.723443  0.907151  1.437232  1.254454   \nL             0.977894  1.222492  1.195767  1.355022  0.954111  1.360023   \nM             0.504458  0.997379  1.166869  1.602261  1.265603  1.403210   \nN             0.765581  0.883292  1.558262  0.725240  1.276233  0.782523   \nP             0.521116  0.789465  1.343181  1.417469  0.000000  1.350950   \nQ             0.877675  1.026886  0.953972  1.386003  1.011173  0.822261   \nR             0.847581  0.880587  1.148257  0.839858  1.230978  1.247673   \nS             1.491420  0.824506  1.315960  0.701782  0.449391  1.434211   \nT             0.851376  0.000000  1.500914  1.313454  0.956299  1.021405   \nV             0.826867  1.428263  1.077322  0.594617  1.560352  1.267699   \nW             1.286889  1.088349  1.295216  0.785431  1.085360  1.587289   \nY             0.959250  1.062803  1.619739  1.114551  0.463935  0.855120   \n\nposition_mut       392       393  \nAS_old               S         D  \nAS_new                            \nA             0.542344  1.132786  \nC             1.525051  0.458008  \nD             1.493992  0.000000  \nE             1.592430  0.701935  \nF             1.259045  1.576765  \nG             1.739032  0.889272  \nH             1.223101  1.077643  \nI             1.337679  1.860547  \nK             1.202887  1.042797  \nL             0.772713  1.639007  \nM             1.356259  1.269649  \nN             1.819035  0.664518  \nP             1.011379  1.950754  \nQ             1.172927  1.104784  \nR             1.309634  1.526374  \nS             0.000000  1.664632  \nT             0.838674  1.358976  \nV             1.289897  1.182561  \nW             1.508361  1.583180  \nY             0.646343  0.774152  \n\n[20 rows x 393 columns]",
      "text/html": "<div>\n<style scoped>\n    .dataframe tbody tr th:only-of-type {\n        vertical-align: middle;\n    }\n\n    .dataframe tbody tr th {\n        vertical-align: top;\n    }\n\n    .dataframe thead tr th {\n        text-align: left;\n    }\n\n    .dataframe thead tr:last-of-type th {\n        text-align: right;\n    }\n</style>\n<table border=\"1\" class=\"dataframe\">\n  <thead>\n    <tr>\n      <th>position_mut</th>\n      <th>1</th>\n      <th>2</th>\n      <th>3</th>\n      <th>4</th>\n      <th>5</th>\n      <th>6</th>\n      <th>7</th>\n      <th>8</th>\n      <th>9</th>\n      <th>10</th>\n      <th>...</th>\n      <th>384</th>\n      <th>385</th>\n      <th>386</th>\n      <th>387</th>\n      <th>388</th>\n      <th>389</th>\n      <th>390</th>\n      <th>391</th>\n      <th>392</th>\n      <th>393</th>\n    </tr>\n    <tr>\n      <th>AS_old</th>\n      <th>M</th>\n      <th>E</th>\n      <th>E</th>\n      <th>P</th>\n      <th>Q</th>\n      <th>S</th>\n      <th>D</th>\n      <th>P</th>\n      <th>S</th>\n      <th>V</th>\n      <th>...</th>\n      <th>M</th>\n      <th>F</th>\n      <th>K</th>\n      <th>T</th>\n      <th>E</th>\n      <th>G</th>\n      <th>P</th>\n      <th>D</th>\n      <th>S</th>\n      <th>D</th>\n    </tr>\n    <tr>\n      <th>AS_new</th>\n      <th></th>\n      <th></th>\n      <th></th>\n      <th></th>\n      <th></th>\n      <th></th>\n      <th></th>\n      <th></th>\n      <th></th>\n      <th></th>\n      <th></th>\n      <th></th>\n      <th></th>\n      <th></th>\n      <th></th>\n      <th></th>\n      <th></th>\n      <th></th>\n      <th></th>\n      <th></th>\n      <th></th>\n    </tr>\n  </thead>\n  <tbody>\n    <tr>\n      <th>A</th>\n      <td>-0.788753</td>\n      <td>-0.376597</td>\n      <td>-0.178116</td>\n      <td>-1.175946</td>\n      <td>-0.345754</td>\n      <td>-0.733648</td>\n      <td>0.577294</td>\n      <td>0.057062</td>\n      <td>0.110162</td>\n      <td>0.505744</td>\n      <td>...</td>\n      <td>1.087271</td>\n      <td>0.592288</td>\n      <td>1.342046</td>\n      <td>0.781405</td>\n      <td>1.238938</td>\n      <td>1.169208</td>\n      <td>1.478115</td>\n      <td>1.036380</td>\n      <td>0.542344</td>\n      <td>1.132786</td>\n    </tr>\n    <tr>\n      <th>C</th>\n      <td>-1.969077</td>\n      <td>-0.068750</td>\n      <td>0.335770</td>\n      <td>0.191526</td>\n      <td>0.249694</td>\n      <td>0.218392</td>\n      <td>0.325113</td>\n      <td>0.046357</td>\n      <td>0.059489</td>\n      <td>0.879340</td>\n      <td>...</td>\n      <td>1.048168</td>\n      <td>1.011005</td>\n      <td>1.153228</td>\n      <td>1.162982</td>\n      <td>1.105490</td>\n      <td>1.394445</td>\n      <td>1.040421</td>\n      <td>1.202961</td>\n      <td>1.525051</td>\n      <td>0.458008</td>\n    </tr>\n    <tr>\n      <th>D</th>\n      <td>0.536895</td>\n      <td>0.180007</td>\n      <td>0.223665</td>\n      <td>0.431286</td>\n      <td>0.596059</td>\n      <td>0.364607</td>\n      <td>0.000000</td>\n      <td>0.404817</td>\n      <td>0.079720</td>\n      <td>0.951393</td>\n      <td>...</td>\n      <td>0.976694</td>\n      <td>1.248257</td>\n      <td>0.906721</td>\n      <td>1.104929</td>\n      <td>1.017745</td>\n      <td>0.959517</td>\n      <td>1.072748</td>\n      <td>0.000000</td>\n      <td>1.493992</td>\n      <td>0.000000</td>\n    </tr>\n    <tr>\n      <th>E</th>\n      <td>1.227243</td>\n      <td>0.000000</td>\n      <td>0.000000</td>\n      <td>0.752063</td>\n      <td>0.154363</td>\n      <td>0.451159</td>\n      <td>0.437353</td>\n      <td>0.477276</td>\n      <td>-0.026962</td>\n      <td>0.843035</td>\n      <td>...</td>\n      <td>1.396801</td>\n      <td>0.954702</td>\n      <td>0.514636</td>\n      <td>1.260646</td>\n      <td>0.000000</td>\n      <td>0.524010</td>\n      <td>1.000880</td>\n      <td>1.057979</td>\n      <td>1.592430</td>\n      <td>0.701935</td>\n    </tr>\n    <tr>\n      <th>F</th>\n      <td>0.536895</td>\n      <td>0.285277</td>\n      <td>-0.163861</td>\n      <td>0.143955</td>\n      <td>0.183432</td>\n      <td>0.022895</td>\n      <td>0.630453</td>\n      <td>-0.113914</td>\n      <td>-0.032559</td>\n      <td>0.631839</td>\n      <td>...</td>\n      <td>1.355672</td>\n      <td>0.000000</td>\n      <td>1.458921</td>\n      <td>1.086308</td>\n      <td>1.395992</td>\n      <td>0.678716</td>\n      <td>1.456029</td>\n      <td>1.748360</td>\n      <td>1.259045</td>\n      <td>1.576765</td>\n    </tr>\n    <tr>\n      <th>G</th>\n      <td>-1.053827</td>\n      <td>-1.136268</td>\n      <td>-1.231009</td>\n      <td>0.480629</td>\n      <td>0.672144</td>\n      <td>0.618498</td>\n      <td>0.042125</td>\n      <td>0.322946</td>\n      <td>0.149293</td>\n      <td>0.477052</td>\n      <td>...</td>\n      <td>1.601316</td>\n      <td>0.431552</td>\n      <td>0.694353</td>\n      <td>1.173473</td>\n      <td>0.887612</td>\n      <td>0.000000</td>\n      <td>0.547189</td>\n      <td>0.805634</td>\n      <td>1.739032</td>\n      <td>0.889272</td>\n    </tr>\n    <tr>\n      <th>H</th>\n      <td>-2.003616</td>\n      <td>0.018802</td>\n      <td>0.166849</td>\n      <td>0.346323</td>\n      <td>0.473020</td>\n      <td>0.351703</td>\n      <td>0.512018</td>\n      <td>0.386434</td>\n      <td>0.168393</td>\n      <td>0.618341</td>\n      <td>...</td>\n      <td>1.060380</td>\n      <td>1.696196</td>\n      <td>1.042860</td>\n      <td>1.040709</td>\n      <td>1.450329</td>\n      <td>1.054661</td>\n      <td>0.754332</td>\n      <td>0.979709</td>\n      <td>1.223101</td>\n      <td>1.077643</td>\n    </tr>\n    <tr>\n      <th>I</th>\n      <td>-1.370065</td>\n      <td>0.265437</td>\n      <td>-0.079066</td>\n      <td>0.655922</td>\n      <td>0.443878</td>\n      <td>0.504212</td>\n      <td>0.192564</td>\n      <td>0.072021</td>\n      <td>0.306439</td>\n      <td>0.494835</td>\n      <td>...</td>\n      <td>0.872244</td>\n      <td>0.984972</td>\n      <td>1.002368</td>\n      <td>0.885588</td>\n      <td>1.574588</td>\n      <td>1.302351</td>\n      <td>1.535477</td>\n      <td>1.636037</td>\n      <td>1.337679</td>\n      <td>1.860547</td>\n    </tr>\n    <tr>\n      <th>K</th>\n      <td>-0.189807</td>\n      <td>0.343821</td>\n      <td>0.301952</td>\n      <td>0.569601</td>\n      <td>0.619942</td>\n      <td>0.570082</td>\n      <td>0.490208</td>\n      <td>0.576467</td>\n      <td>0.640866</td>\n      <td>0.845903</td>\n      <td>...</td>\n      <td>0.917864</td>\n      <td>1.154427</td>\n      <td>0.000000</td>\n      <td>1.085832</td>\n      <td>0.723443</td>\n      <td>0.907151</td>\n      <td>1.437232</td>\n      <td>1.254454</td>\n      <td>1.202887</td>\n      <td>1.042797</td>\n    </tr>\n    <tr>\n      <th>L</th>\n      <td>-2.032227</td>\n      <td>0.340883</td>\n      <td>0.201617</td>\n      <td>0.356359</td>\n      <td>0.572254</td>\n      <td>0.083633</td>\n      <td>0.316505</td>\n      <td>-0.007909</td>\n      <td>0.127239</td>\n      <td>0.158722</td>\n      <td>...</td>\n      <td>1.281592</td>\n      <td>0.588544</td>\n      <td>0.977894</td>\n      <td>1.222492</td>\n      <td>1.195767</td>\n      <td>1.355022</td>\n      <td>0.954111</td>\n      <td>1.360023</td>\n      <td>0.772713</td>\n      <td>1.639007</td>\n    </tr>\n    <tr>\n      <th>M</th>\n      <td>0.000000</td>\n      <td>0.120026</td>\n      <td>-0.104722</td>\n      <td>0.883484</td>\n      <td>0.401457</td>\n      <td>0.208078</td>\n      <td>0.495336</td>\n      <td>0.320652</td>\n      <td>0.481883</td>\n      <td>0.420678</td>\n      <td>...</td>\n      <td>0.000000</td>\n      <td>1.623507</td>\n      <td>0.504458</td>\n      <td>0.997379</td>\n      <td>1.166869</td>\n      <td>1.602261</td>\n      <td>1.265603</td>\n      <td>1.403210</td>\n      <td>1.356259</td>\n      <td>1.269649</td>\n    </tr>\n    <tr>\n      <th>N</th>\n      <td>-2.140069</td>\n      <td>0.237363</td>\n      <td>0.245233</td>\n      <td>0.693068</td>\n      <td>0.291665</td>\n      <td>0.415774</td>\n      <td>0.163652</td>\n      <td>0.272173</td>\n      <td>0.476720</td>\n      <td>1.062028</td>\n      <td>...</td>\n      <td>1.377936</td>\n      <td>0.977362</td>\n      <td>0.765581</td>\n      <td>0.883292</td>\n      <td>1.558262</td>\n      <td>0.725240</td>\n      <td>1.276233</td>\n      <td>0.782523</td>\n      <td>1.819035</td>\n      <td>0.664518</td>\n    </tr>\n    <tr>\n      <th>P</th>\n      <td>-1.873279</td>\n      <td>0.699332</td>\n      <td>0.345559</td>\n      <td>0.000000</td>\n      <td>0.073229</td>\n      <td>0.390291</td>\n      <td>0.093184</td>\n      <td>0.000000</td>\n      <td>0.380776</td>\n      <td>0.539100</td>\n      <td>...</td>\n      <td>1.512728</td>\n      <td>1.412614</td>\n      <td>0.521116</td>\n      <td>0.789465</td>\n      <td>1.343181</td>\n      <td>1.417469</td>\n      <td>0.000000</td>\n      <td>1.350950</td>\n      <td>1.011379</td>\n      <td>1.950754</td>\n    </tr>\n    <tr>\n      <th>Q</th>\n      <td>-2.474317</td>\n      <td>0.121747</td>\n      <td>0.188514</td>\n      <td>0.537396</td>\n      <td>0.000000</td>\n      <td>0.342658</td>\n      <td>0.306027</td>\n      <td>0.622302</td>\n      <td>0.141091</td>\n      <td>0.265497</td>\n      <td>...</td>\n      <td>1.429589</td>\n      <td>1.109944</td>\n      <td>0.877675</td>\n      <td>1.026886</td>\n      <td>0.953972</td>\n      <td>1.386003</td>\n      <td>1.011173</td>\n      <td>0.822261</td>\n      <td>1.172927</td>\n      <td>1.104784</td>\n    </tr>\n    <tr>\n      <th>R</th>\n      <td>-1.470598</td>\n      <td>0.314042</td>\n      <td>-0.780203</td>\n      <td>0.416459</td>\n      <td>-0.061831</td>\n      <td>0.414449</td>\n      <td>-0.256456</td>\n      <td>0.516571</td>\n      <td>0.383002</td>\n      <td>-1.150926</td>\n      <td>...</td>\n      <td>0.998525</td>\n      <td>0.707545</td>\n      <td>0.847581</td>\n      <td>0.880587</td>\n      <td>1.148257</td>\n      <td>0.839858</td>\n      <td>1.230978</td>\n      <td>1.247673</td>\n      <td>1.309634</td>\n      <td>1.526374</td>\n    </tr>\n    <tr>\n      <th>S</th>\n      <td>-2.733926</td>\n      <td>-0.170067</td>\n      <td>0.025783</td>\n      <td>0.254247</td>\n      <td>0.503036</td>\n      <td>0.000000</td>\n      <td>0.211166</td>\n      <td>-1.320231</td>\n      <td>0.000000</td>\n      <td>0.592409</td>\n      <td>...</td>\n      <td>0.620726</td>\n      <td>0.688141</td>\n      <td>1.491420</td>\n      <td>0.824506</td>\n      <td>1.315960</td>\n      <td>0.701782</td>\n      <td>0.449391</td>\n      <td>1.434211</td>\n      <td>0.000000</td>\n      <td>1.664632</td>\n    </tr>\n    <tr>\n      <th>T</th>\n      <td>-0.380537</td>\n      <td>0.083494</td>\n      <td>0.358035</td>\n      <td>0.338175</td>\n      <td>0.533692</td>\n      <td>0.316212</td>\n      <td>0.332638</td>\n      <td>0.311746</td>\n      <td>-0.113804</td>\n      <td>0.626603</td>\n      <td>...</td>\n      <td>0.708297</td>\n      <td>0.522290</td>\n      <td>0.851376</td>\n      <td>0.000000</td>\n      <td>1.500914</td>\n      <td>1.313454</td>\n      <td>0.956299</td>\n      <td>1.021405</td>\n      <td>0.838674</td>\n      <td>1.358976</td>\n    </tr>\n    <tr>\n      <th>V</th>\n      <td>-0.669727</td>\n      <td>0.281564</td>\n      <td>-0.296231</td>\n      <td>0.204434</td>\n      <td>0.192258</td>\n      <td>-0.691659</td>\n      <td>0.247409</td>\n      <td>0.396168</td>\n      <td>0.490469</td>\n      <td>0.000000</td>\n      <td>...</td>\n      <td>0.836690</td>\n      <td>0.895269</td>\n      <td>0.826867</td>\n      <td>1.428263</td>\n      <td>1.077322</td>\n      <td>0.594617</td>\n      <td>1.560352</td>\n      <td>1.267699</td>\n      <td>1.289897</td>\n      <td>1.182561</td>\n    </tr>\n    <tr>\n      <th>W</th>\n      <td>-2.219256</td>\n      <td>-0.355260</td>\n      <td>0.082104</td>\n      <td>0.250887</td>\n      <td>0.000456</td>\n      <td>-0.215730</td>\n      <td>0.215296</td>\n      <td>0.255150</td>\n      <td>-0.099555</td>\n      <td>0.359223</td>\n      <td>...</td>\n      <td>1.252980</td>\n      <td>1.213437</td>\n      <td>1.286889</td>\n      <td>1.088349</td>\n      <td>1.295216</td>\n      <td>0.785431</td>\n      <td>1.085360</td>\n      <td>1.587289</td>\n      <td>1.508361</td>\n      <td>1.583180</td>\n    </tr>\n    <tr>\n      <th>Y</th>\n      <td>-1.333315</td>\n      <td>0.011813</td>\n      <td>0.300898</td>\n      <td>0.595865</td>\n      <td>0.500315</td>\n      <td>0.231594</td>\n      <td>0.243801</td>\n      <td>0.376450</td>\n      <td>-0.732369</td>\n      <td>0.620155</td>\n      <td>...</td>\n      <td>1.224446</td>\n      <td>0.731676</td>\n      <td>0.959250</td>\n      <td>1.062803</td>\n      <td>1.619739</td>\n      <td>1.114551</td>\n      <td>0.463935</td>\n      <td>0.855120</td>\n      <td>0.646343</td>\n      <td>0.774152</td>\n    </tr>\n  </tbody>\n</table>\n<p>20 rows × 393 columns</p>\n</div>"
     },
     "execution_count": 14,
     "metadata": {},
     "output_type": "execute_result"
    }
   ],
   "source": [
    "gia_null_eto_df_narmv.head(20)"
   ],
   "metadata": {
    "collapsed": false,
    "ExecuteTime": {
     "end_time": "2023-06-20T17:41:08.374680Z",
     "start_time": "2023-06-20T17:41:08.361157Z"
    }
   }
  },
  {
   "cell_type": "code",
   "execution_count": 17,
   "outputs": [
    {
     "name": "stdout",
     "output_type": "stream",
     "text": [
      "(20, 393)\n"
     ]
    }
   ],
   "source": [
    "groeße = gia_null_eto_df_narmv.shape\n",
    "print(groeße)"
   ],
   "metadata": {
    "collapsed": false,
    "ExecuteTime": {
     "end_time": "2023-06-20T17:42:48.847376Z",
     "start_time": "2023-06-20T17:42:48.842481Z"
    }
   }
  },
  {
   "cell_type": "code",
   "execution_count": 46,
   "outputs": [],
   "source": [
    "gia_null_eto_df_narmv_mean = pd.DataFrame(columns=gia_null_eto_df_narmv.columns)\n",
    "\n",
    "for column in gia_null_eto_df_narmv.columns:\n",
    "    if column != 'position_mut' and column != 'AS_old' :\n",
    "        column_mean = gia_null_eto_df_narmv[column].mean()\n",
    "        gia_null_eto_df_narmv_mean.loc[0, column] = column_mean\n",
    "\n",
    "gia_null_eto_df_narmv_mean = gia_null_eto_df_narmv_mean.reset_index(drop=True)"
   ],
   "metadata": {
    "collapsed": false,
    "ExecuteTime": {
     "end_time": "2023-06-20T18:09:32.265202Z",
     "start_time": "2023-06-20T18:09:32.213921Z"
    }
   }
  },
  {
   "cell_type": "code",
   "execution_count": 52,
   "outputs": [],
   "source": [
    "\n",
    "for column in gia_null_eto_df_narmv.columns:\n",
    "    if column != 'position_mut' and column != 'AS_old' :\n",
    "        column_mean = gia_null_eto_df_narmv[column].mean()\n",
    "        gia_null_eto_df_narmv_mean.loc[0, column] = column_mean\n",
    "\n",
    "gia_null_eto_df_narmv_mean = gia_null_eto_df_narmv_mean.reset_index(drop=True)\n",
    "\n",
    "\n",
    "\n",
    "\n"
   ],
   "metadata": {
    "collapsed": false,
    "ExecuteTime": {
     "end_time": "2023-06-20T18:11:42.631916Z",
     "start_time": "2023-06-20T18:11:42.618896Z"
    }
   }
  },
  {
   "cell_type": "code",
   "execution_count": 4,
   "outputs": [
    {
     "data": {
      "text/plain": "position_mut  1    2    3    4    5    6    7    8    9    10   ...  384  385   \nAS_old          M    E    E    P    Q    S    D    P    S    V  ...    M    F   \n0             NaN  NaN  NaN  NaN  NaN  NaN  NaN  NaN  NaN  NaN  ...  NaN  NaN  \\\n\nposition_mut  386  387  388  389  390  391  392  393  \nAS_old          K    T    E    G    P    D    S    D  \n0             NaN  NaN  NaN  NaN  NaN  NaN  NaN  NaN  \n\n[1 rows x 393 columns]",
      "text/html": "<div>\n<style scoped>\n    .dataframe tbody tr th:only-of-type {\n        vertical-align: middle;\n    }\n\n    .dataframe tbody tr th {\n        vertical-align: top;\n    }\n\n    .dataframe thead tr th {\n        text-align: left;\n    }\n</style>\n<table border=\"1\" class=\"dataframe\">\n  <thead>\n    <tr>\n      <th>position_mut</th>\n      <th>1</th>\n      <th>2</th>\n      <th>3</th>\n      <th>4</th>\n      <th>5</th>\n      <th>6</th>\n      <th>7</th>\n      <th>8</th>\n      <th>9</th>\n      <th>10</th>\n      <th>...</th>\n      <th>384</th>\n      <th>385</th>\n      <th>386</th>\n      <th>387</th>\n      <th>388</th>\n      <th>389</th>\n      <th>390</th>\n      <th>391</th>\n      <th>392</th>\n      <th>393</th>\n    </tr>\n    <tr>\n      <th>AS_old</th>\n      <th>M</th>\n      <th>E</th>\n      <th>E</th>\n      <th>P</th>\n      <th>Q</th>\n      <th>S</th>\n      <th>D</th>\n      <th>P</th>\n      <th>S</th>\n      <th>V</th>\n      <th>...</th>\n      <th>M</th>\n      <th>F</th>\n      <th>K</th>\n      <th>T</th>\n      <th>E</th>\n      <th>G</th>\n      <th>P</th>\n      <th>D</th>\n      <th>S</th>\n      <th>D</th>\n    </tr>\n  </thead>\n  <tbody>\n    <tr>\n      <th>0</th>\n      <td>NaN</td>\n      <td>NaN</td>\n      <td>NaN</td>\n      <td>NaN</td>\n      <td>NaN</td>\n      <td>NaN</td>\n      <td>NaN</td>\n      <td>NaN</td>\n      <td>NaN</td>\n      <td>NaN</td>\n      <td>...</td>\n      <td>NaN</td>\n      <td>NaN</td>\n      <td>NaN</td>\n      <td>NaN</td>\n      <td>NaN</td>\n      <td>NaN</td>\n      <td>NaN</td>\n      <td>NaN</td>\n      <td>NaN</td>\n      <td>NaN</td>\n    </tr>\n  </tbody>\n</table>\n<p>1 rows × 393 columns</p>\n</div>"
     },
     "execution_count": 4,
     "metadata": {},
     "output_type": "execute_result"
    }
   ],
   "source": [
    "fun.df_mean(gia_null_eto)"
   ],
   "metadata": {
    "collapsed": false,
    "ExecuteTime": {
     "end_time": "2023-06-20T18:32:52.121118Z",
     "start_time": "2023-06-20T18:32:52.031590Z"
    }
   }
  },
  {
   "cell_type": "code",
   "execution_count": null,
   "outputs": [],
   "source": [],
   "metadata": {
    "collapsed": false
   }
  }
 ],
 "metadata": {
  "kernelspec": {
   "display_name": "Python 3",
   "language": "python",
   "name": "python3"
  },
  "language_info": {
   "codemirror_mode": {
    "name": "ipython",
    "version": 2
   },
   "file_extension": ".py",
   "mimetype": "text/x-python",
   "name": "python",
   "nbconvert_exporter": "python",
   "pygments_lexer": "ipython2",
   "version": "2.7.6"
  }
 },
 "nbformat": 4,
 "nbformat_minor": 0
}
