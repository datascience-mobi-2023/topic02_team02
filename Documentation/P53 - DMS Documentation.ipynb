{
 "cells": [
  {
   "cell_type": "markdown",
   "source": [
    "# P53 - DMS Analyse\n",
    "#### von Frido Petersen, Dario Prifti, Maximilian Fidlin und Enno Schäfer"
   ],
   "metadata": {
    "collapsed": false
   }
  },
  {
   "cell_type": "code",
   "execution_count": 5,
   "outputs": [],
   "source": [
    "import numpy as np\n",
    "import pandas as pd\n",
    "import seaborn as sns\n",
    "import data_exploration as de\n",
    "import data_cleanup as dc\n",
    "\n",
    "import scipy.stats as stats\n",
    "from sklearn.cluster import AgglomerativeClustering\n",
    "from sklearn.metrics.pairwise import euclidean_distances\n",
    "from sklearn.cluster import AgglomerativeClustering"
   ],
   "metadata": {
    "collapsed": false,
    "ExecuteTime": {
     "end_time": "2023-06-15T11:45:53.101120Z",
     "start_time": "2023-06-15T11:45:53.089141Z"
    }
   }
  },
  {
   "cell_type": "code",
   "execution_count": 3,
   "outputs": [],
   "source": [
    "# Die Datensätze, die wir verwenden:\n",
    "gia_null_eto: pd.DataFrame = pd.read_csv('../DMS_data/P53_HUMAN_Giacomelli_NULL_Etoposide_2018.csv')\n",
    "gia_null_nut: pd.DataFrame = pd.read_csv('../DMS_data/P53_HUMAN_Giacomelli_NULL_Nutlin_2018.csv')\n",
    "gia_wt_nut: pd.DataFrame = pd.read_csv('../DMS_data/P53_HUMAN_Giacomelli_WT_Nutlin_2018.csv')\n",
    "kot_hum: pd.DataFrame = pd.read_csv('../DMS_data/P53_HUMAN_Kotler_2018.csv')"
   ],
   "metadata": {
    "collapsed": false,
    "ExecuteTime": {
     "end_time": "2023-06-15T11:38:46.249096300Z",
     "start_time": "2023-06-15T11:38:46.006420Z"
    }
   }
  },
  {
   "cell_type": "markdown",
   "source": [
    "## Grobe Struktur:\n",
    "1) Data Cleanup: wir hatten diese Daten, das und das haben wir damit gemacht, so und so sehen unsere Daten jetzt aus\n",
    "    (i) NA - remove\n",
    "    (ii) Z - Transformierung\n",
    "    (iii) Normalisierung\n",
    "` `\n",
    "` `\n",
    "2) Data Exploration\n",
    "    (i) Distanzmatrix\n",
    "    (ii) Clustering\n",
    "    (iii) weitere Clustering-Methoden\n",
    "    (iv) Zusätzliche AS Daten\n",
    "` `\n",
    "` `\n",
    "3) T-tests"
   ],
   "metadata": {
    "collapsed": false
   }
  },
  {
   "cell_type": "markdown",
   "source": [
    "## Data cleanup\n",
    " *Welche Funktionen habt ihr benutzt und warum (also warum haben wir ne z-transformation gemacht und nicht einfach direkt ne Normalisierung der Werte auf einen bestimmten Zahlenbereich?) Schreibt mal bitte auch eure Funktionen mit rein (also euren Code) und all die Sachen, die ihr außerhalb davon herausgefunden habt (also was ihr so rumgegoogelt und herausgefunden habt)*"
   ],
   "metadata": {
    "collapsed": false
   }
  },
  {
   "cell_type": "markdown",
   "source": [
    "Frido:\n",
    "Nachdem wir das Cleaning der Daten abgeschlossen haben, brachten wir den Datensatz in ein handlicheres Format."
   ],
   "metadata": {
    "collapsed": false
   }
  },
  {
   "cell_type": "code",
   "execution_count": 1,
   "outputs": [
    {
     "ename": "SyntaxError",
     "evalue": "invalid syntax (3992118133.py, line 1)",
     "output_type": "error",
     "traceback": [
      "\u001B[1;36m  Cell \u001B[1;32mIn[1], line 1\u001B[1;36m\u001B[0m\n\u001B[1;33m    df_transform:\u001B[0m\n\u001B[1;37m                 ^\u001B[0m\n\u001B[1;31mSyntaxError\u001B[0m\u001B[1;31m:\u001B[0m invalid syntax\n"
     ]
    }
   ],
   "source": [
    "df_transform:\n",
    "\n",
    "def df_transform(frame: pd.DataFrame) -> pd.DataFrame:\n",
    "    \"\"\"df wird in Format WT_Sequenz-Mutierte_AS umgewandelt\"\"\"\n",
    "    frame['position_mut'] = frame.mutant.str.slice(start=1, stop=-1).astype(int)\n",
    "    frame['AS_old'] = frame.mutant.str.get(0)\n",
    "    frame['AS_new'] = frame.mutant.str.get(-1)\n",
    "    pivoted_frame = frame.pivot(index='AS_new', columns=['position_mut', 'AS_old'], values='DMS_score')\n",
    "    return pivoted_frame"
   ],
   "metadata": {
    "collapsed": false,
    "ExecuteTime": {
     "end_time": "2023-06-15T11:36:34.599312500Z",
     "start_time": "2023-06-15T11:36:34.583614600Z"
    }
   }
  },
  {
   "cell_type": "markdown",
   "source": [
    "DF ist dadurch so angeordnet, dass die obere Zeile die WT-Seq. angibt und dann in den Spalten jeweils die DMS-Scores an der Position für die Mutationen mit den verschiedenen Basen stehen.\n",
    "-> Sorgt für NA an den Stellen, bei denen kein Austausch durchgeführt wurde\n",
    "Sorgt dafür, dass wir nachfolgende Berechnungen und Analysen einfacher mit dem Datensatz durchführen können."
   ],
   "metadata": {
    "collapsed": false
   }
  },
  {
   "cell_type": "code",
   "execution_count": 4,
   "outputs": [
    {
     "ename": "SyntaxError",
     "evalue": "invalid syntax (1735712193.py, line 1)",
     "output_type": "error",
     "traceback": [
      "\u001B[1;36m  Cell \u001B[1;32mIn[4], line 1\u001B[1;36m\u001B[0m\n\u001B[1;33m    na_remove Funktion\u001B[0m\n\u001B[1;37m              ^\u001B[0m\n\u001B[1;31mSyntaxError\u001B[0m\u001B[1;31m:\u001B[0m invalid syntax\n"
     ]
    }
   ],
   "source": [
    "na_remove Funktion\n",
    "def rmv_na(df: pd.DataFrame) -> pd.DataFrame:\n",
    "    \"\"\"Ändert die Werte eines df von NaN zu 0, wenn mutierte AS der WT AS entspricht\"\"\"\n",
    "    for col in df.columns:\n",
    "        for row in df.index:\n",
    "            col_str = str(col)\n",
    "            row_str = str(row)\n",
    "            letters_row = ''.join(filter(str.isalpha, row_str))\n",
    "            letters_col = ''.join(filter(str.isalpha, col_str))\n",
    "\n",
    "            if letters_row == letters_col and pd.isna(df.loc[row, col]):\n",
    "                df.loc[row, col] = 0\n",
    "\n",
    "    return df"
   ],
   "metadata": {
    "collapsed": false,
    "ExecuteTime": {
     "end_time": "2023-06-15T11:40:27.356398600Z",
     "start_time": "2023-06-15T11:40:27.300420Z"
    }
   }
  },
  {
   "cell_type": "markdown",
   "source": [
    "-> Entfernt die NA bei denen der Austausch nicht durchgeführt wurde, weil die AS der ursprünglichen AS entsprechen würde und ersetzt sie mit Null, da keine Veränderung in der Fitness zu erwarten"
   ],
   "metadata": {
    "collapsed": false
   }
  },
  {
   "cell_type": "markdown",
   "source": [
    "Dario:"
   ],
   "metadata": {
    "collapsed": false
   }
  },
  {
   "cell_type": "markdown",
   "source": [
    "Max: Wir haben probiert Patientendaten zu bekommen, aber wir haben die nicht bekommen"
   ],
   "metadata": {
    "collapsed": false
   }
  },
  {
   "cell_type": "markdown",
   "source": [
    "## Data exploration\n",
    "*Was sind die Ergebnisse, auf die ihr gekommen seid? Also code mit einfügen, um dann plotten zu können*"
   ],
   "metadata": {
    "collapsed": false
   }
  },
  {
   "cell_type": "code",
   "execution_count": null,
   "outputs": [],
   "source": [
    "#Bearbeiten des AS-Datensatz\n",
    "aa = pd.read_csv('../DMS_data/aminoacids.csv')\n",
    "\n",
    "#Entfernen von Hydroxyproline und Pyroglutamat\n",
    "aa_nat = aa.drop(index=[12, 18])\n",
    "\n",
    "#Speichern der \"Letter\"-Spalte für Benennung der neuen Spalten\n",
    "labels_column = 'Letter'\n",
    "\n",
    "#Entfernen aller nicht-numerischen Spalten und pKx3, da unvollständig und Molecular Weight, da im Protein nicht relevant\n",
    "aa_rmv = aa_nat.drop(['Name', 'Abbr','Letter', 'Molecular Formula','Molecular Weight', 'Residue Formula', 'pKx3'], axis=1)\n",
    "\n",
    "#z-transformationen, damit unterschiedliche Messwerte nicht unterschiedlich stark ins Gewicht fallen\n",
    "aa_zscore = aa_rmv.apply(stats.zscore)\n",
    "\n",
    "#Berechnen der Distanzen der AA zueinander\n",
    "aa_distances = euclidean_distances(aa_zscore.values)\n",
    "\n",
    "#Umwandeln zurück in einen DF zur besseren Übersicht\n",
    "aa_df = pd.DataFrame(aa_distances, index=aa_nat[labels_column], columns=aa_nat[labels_column])"
   ],
   "metadata": {
    "collapsed": false
   }
  },
  {
   "cell_type": "markdown",
   "source": [
    "Ennos Teil zu den Mittelwerten für die Substiutionen:"
   ],
   "metadata": {
    "collapsed": false
   }
  },
  {
   "cell_type": "code",
   "execution_count": null,
   "outputs": [],
   "source": [
    "# Distanzmatrix (DMS-Scores)\n",
    "\n",
    "from sklearn.metrics.pairwise import euclidean_distances\n",
    "\n",
    "# Speichern der \"AS_new\"-Spalte für Benennung der neuen Spalten\n",
    "labels_column = 'AS_new'\n",
    "\n",
    "# Transpose the DataFrame\n",
    "mean_substitutions_t = mean_substitutions.T\n",
    "\n",
    "# Berechnen der Distanzen der AA zueinander\n",
    "dms_distances = euclidean_distances(mean_substitutions_t.values)\n",
    "\n",
    "# Umwandeln zurück in einen DF zur besseren Übersicht\n",
    "dms_distances_df = pd.DataFrame(dms_distances, index=mean_substitutions_t.index, columns=mean_substitutions_t.index)\n",
    "\n",
    "# Print the first 20 rows of mean_substitutions\n",
    "dms_distances_df.head(20)"
   ],
   "metadata": {
    "collapsed": false
   }
  },
  {
   "cell_type": "markdown",
   "source": [
    "-> Gibt uns die Abstände der AS zueinander basierend auf den DMS-Scores bei Austausch von AS. Bin mir leider nicht sicher ob die Abstände der neuen oder alten AS zueinander berechnet werden. Und check auch nicht ganz wieso das nur mit der transponierten Matrix funktioniert"
   ],
   "metadata": {
    "collapsed": false
   }
  },
  {
   "cell_type": "markdown",
   "source": [
    "Dario:"
   ],
   "metadata": {
    "collapsed": false
   }
  },
  {
   "cell_type": "markdown",
   "source": [
    "Max:"
   ],
   "metadata": {
    "collapsed": false
   }
  },
  {
   "cell_type": "markdown",
   "source": [
    "Enno:"
   ],
   "metadata": {
    "collapsed": false
   }
  }
 ],
 "metadata": {
  "kernelspec": {
   "display_name": "Python 3",
   "language": "python",
   "name": "python3"
  },
  "language_info": {
   "codemirror_mode": {
    "name": "ipython",
    "version": 2
   },
   "file_extension": ".py",
   "mimetype": "text/x-python",
   "name": "python",
   "nbconvert_exporter": "python",
   "pygments_lexer": "ipython2",
   "version": "2.7.6"
  }
 },
 "nbformat": 4,
 "nbformat_minor": 0
}
