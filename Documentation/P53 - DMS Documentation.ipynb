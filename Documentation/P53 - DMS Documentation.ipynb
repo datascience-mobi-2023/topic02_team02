{
 "cells": [
  {
   "cell_type": "markdown",
   "source": [
    "# P53 - DMS Analyse\n",
    "#### von Frido Petersen, Dario Prifti, Maximilian Fidlin und Enno Schäfer"
   ],
   "metadata": {
    "collapsed": false
   }
  },
  {
   "cell_type": "markdown",
   "source": [
    "## Grobe Struktur:\n",
    "1) Data Cleanup: wir hatten diese Daten, das und das haben wir damit gemacht, so und so sehen unsere Daten jetzt aus\n",
    "    (i) NA - remove\n",
    "    (ii) Z - Transformierung\n",
    "    (iii) Normalisierung\n",
    "` `\n",
    "` `\n",
    "2) Data Exploration\n",
    "    (i) Distanzmatrix\n",
    "    (ii) Clustering\n",
    "    (iii) weitere Clustering-Methoden\n",
    "    (iv) Zusätzliche AS Daten\n",
    "` `\n",
    "` `\n",
    "3) T-tests"
   ],
   "metadata": {
    "collapsed": false
   }
  },
  {
   "cell_type": "markdown",
   "source": [
    "## Data cleanup\n",
    " *Welche Funktionen habt ihr benutzt und warum (also warum haben wir ne z-transformation gemacht und nicht einfach direkt ne Normalisierung der Werte auf einen bestimmten Zahlenbereich?) Schreibt mal bitte auch eure Funktionen mit rein (also euren Code) und all die Sachen, die ihr außerhalb davon herausgefunden habt (also was ihr so rumgegoogelt und herausgefunden habt)*"
   ],
   "metadata": {
    "collapsed": false
   }
  },
  {
   "cell_type": "markdown",
   "source": [
    "Frido:\n",
    "Datensatz in handlicheres Format bringen mit df_transform:\n",
    "\n",
    "def df_transform(frame: pd.DataFrame) -> pd.DataFrame:\n",
    "    \"\"\"df wird in Format WT_Sequenz-Mutierte_AS umgewandelt\"\"\"\n",
    "    frame['position_mut'] = frame.mutant.str.slice(start=1, stop=-1).astype(int)\n",
    "    frame['AS_old'] = frame.mutant.str.get(0)\n",
    "    frame['AS_new'] = frame.mutant.str.get(-1)\n",
    "    pivoted_frame = frame.pivot(index='AS_new', columns=['position_mut', 'AS_old'], values='DMS_score')\n",
    "    return pivoted_frame\n",
    "DF ist dadurch so angeordnet, dass die obere Zeile die WT-Seq. angibt und dann in den Spalten jeweils die DMS-Scores an der Position für die Mutationen mit den verschiedenen Basen stehen.\n",
    "-> Sorgt für NA an den Stellen, bei denen kein Austausch durchgeführt wurde\n",
    "Sorgt dafür, dass wir nachfolgende Berechnungen und Analysen einfacher mit dem Datensatz durchführen können.\n",
    "\n",
    "na_remove Funktion\n",
    "def rmv_na(df: pd.DataFrame) -> pd.DataFrame:\n",
    "    \"\"\"Ändert die Werte eines df von NaN zu 0, wenn mutierte AS der WT AS entspricht\"\"\"\n",
    "    for col in df.columns:\n",
    "        for row in df.index:\n",
    "            col_str = str(col)\n",
    "            row_str = str(row)\n",
    "            letters_row = ''.join(filter(str.isalpha, row_str))\n",
    "            letters_col = ''.join(filter(str.isalpha, col_str))\n",
    "\n",
    "            if letters_row == letters_col and pd.isna(df.loc[row, col]):\n",
    "                df.loc[row, col] = 0\n",
    "\n",
    "    return df\n",
    "\n",
    "-> Entfernt die NA bei denen der Austausch nicht durchgeführt wurde, weil die AS der ursprünglichen AS entsprechen würde und ersetzt sie mit Null, da keine Veränderung in der Fitness zu erwarten"
   ],
   "metadata": {
    "collapsed": false
   }
  },
  {
   "cell_type": "markdown",
   "source": [
    "Dario:"
   ],
   "metadata": {
    "collapsed": false
   }
  },
  {
   "cell_type": "markdown",
   "source": [
    "Max: Wir haben probiert Patientendaten zu bekommen, aber wir haben die nicht bekommen"
   ],
   "metadata": {
    "collapsed": false
   }
  },
  {
   "cell_type": "markdown",
   "source": [
    "## Data exploration\n",
    "*Was sind die Ergebnisse, auf die ihr gekommen seid? Also code mit einfügen, um dann plotten zu können*"
   ],
   "metadata": {
    "collapsed": false
   }
  },
  {
   "cell_type": "markdown",
   "source": [
    "Frido:\n",
    "### Bearbeiten des AS-Datensatz\n",
    "aa = pd.read_csv('../DMS_data/aminoacids.csv')\n",
    "\n",
    "#Entfernen von Hydroxyproline und Pyroglutamat\n",
    "aa_nat = aa.drop(index=[12, 18])\n",
    "\n",
    "#Speichern der \"Letter\"-Spalte für Benennung der neuen Spalten\n",
    "labels_column = 'Letter'\n",
    "\n",
    "#Entfernen aller nicht-numerischen Spalten und pKx3, da unvollständig und Molecular Weight, da im Protein nicht relevant\n",
    "aa_rmv = aa_nat.drop(['Name', 'Abbr','Letter', 'Molecular Formula','Molecular Weight', 'Residue Formula', 'pKx3'], axis=1)\n",
    "\n",
    "#z-transformationen, damit unterschiedliche Messwerte nicht unterschiedlich stark ins Gewicht fallen\n",
    "aa_zscore = aa_rmv.apply(stats.zscore)\n",
    "\n",
    "#Berechnen der Distanzen der AA zueinander\n",
    "aa_distances = euclidean_distances(aa_zscore.values)\n",
    "\n",
    "#Umwandeln zurück in einen DF zur besseren Übersicht\n",
    "aa_df = pd.DataFrame(aa_distances, index=aa_nat[labels_column], columns=aa_nat[labels_column])\n",
    "\n",
    "### Distanzmatrix (DMS-Scores) -> Vllt. erklärst du vorher noch die Mean-Geschichte @Enno\n",
    "\n",
    "from sklearn.metrics.pairwise import euclidean_distances\n",
    "\n",
    "# Speichern der \"AS_new\"-Spalte für Benennung der neuen Spalten\n",
    "labels_column = 'AS_new'\n",
    "\n",
    "# Transpose the DataFrame\n",
    "mean_substitutions_t = mean_substitutions.T\n",
    "\n",
    "# Berechnen der Distanzen der AA zueinander\n",
    "dms_distances = euclidean_distances(mean_substitutions_t.values)\n",
    "\n",
    "# Umwandeln zurück in einen DF zur besseren Übersicht\n",
    "dms_distances_df = pd.DataFrame(dms_distances, index=mean_substitutions_t.index, columns=mean_substitutions_t.index)\n",
    "\n",
    "# Print the first 20 rows of mean_substitutions\n",
    "dms_distances_df.head(20)\n",
    "\n",
    "-> Gibt uns die Abstände der AS zueinander basierend  auf den DMS-Scores bei Austausch von AS. Bin mir leider nicht sicher ob die Abstände der neuen oder alten AS zueinander berechnet werden. Und check auch nicht ganz wieso das nur mit der transponierten Matrix funktioniert\n"
   ],
   "metadata": {
    "collapsed": false
   }
  },
  {
   "cell_type": "markdown",
   "source": [
    "Dario:"
   ],
   "metadata": {
    "collapsed": false
   }
  },
  {
   "cell_type": "markdown",
   "source": [
    "Max:"
   ],
   "metadata": {
    "collapsed": false
   }
  },
  {
   "cell_type": "markdown",
   "source": [
    "Enno:"
   ],
   "metadata": {
    "collapsed": false
   }
  }
 ],
 "metadata": {
  "kernelspec": {
   "display_name": "Python 3",
   "language": "python",
   "name": "python3"
  },
  "language_info": {
   "codemirror_mode": {
    "name": "ipython",
    "version": 2
   },
   "file_extension": ".py",
   "mimetype": "text/x-python",
   "name": "python",
   "nbconvert_exporter": "python",
   "pygments_lexer": "ipython2",
   "version": "2.7.6"
  }
 },
 "nbformat": 4,
 "nbformat_minor": 0
}
