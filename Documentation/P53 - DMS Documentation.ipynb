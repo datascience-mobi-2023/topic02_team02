{
 "cells": [
  {
   "cell_type": "markdown",
   "source": [
    "# P53 - DMS Analyse\n",
    "#### von Frido Petersen, Dario Prifti, Maximilian Fidlin und Enno Schäfer"
   ],
   "metadata": {
    "collapsed": false
   }
  },
  {
   "cell_type": "markdown",
   "source": [
    "## Grobe Struktur:\n",
    "1) Data Cleanup: wir hatten diese Daten, das und das haben wir damit gemacht, so und so sehen unsere Daten jetzt aus\n",
    "\n",
    "2) Data Exploration\n",
    "(i) Distanzmatrix\n",
    "(ii) Clustering\n",
    "(iii) weitere Clustering-Methoden\n",
    "(iv) Zusätzliche AS Daten\n",
    "\n",
    "3) T-tests"
   ],
   "metadata": {
    "collapsed": false
   }
  },
  {
   "cell_type": "markdown",
   "source": [
    "## Data cleanup\n",
    " *Welche Funktionen habt ihr benutzt und warum (also warum haben wir ne z-transformation gemacht und nicht einfach direkt ne Normalisierung der Werte auf einen bestimmten Zahlenbereich?) Schreibt mal bitte auch eure Funktionen mit rein (also euren Code) und all die Sachen, die ihr außerhalb davon herausgefunden habt (also was ihr so rumgegoogelt und herausgefunden habt)*"
   ],
   "metadata": {
    "collapsed": false
   }
  },
  {
   "cell_type": "markdown",
   "source": [
    "Frido:"
   ],
   "metadata": {
    "collapsed": false
   }
  },
  {
   "cell_type": "markdown",
   "source": [
    "Dario:"
   ],
   "metadata": {
    "collapsed": false
   }
  },
  {
   "cell_type": "markdown",
   "source": [
    "Max: Wir haben probiert Patientendaten zu bekommen, aber wir haben die nicht bekommen"
   ],
   "metadata": {
    "collapsed": false
   }
  },
  {
   "cell_type": "markdown",
   "source": [
    "## Data exploration\n",
    "*Was sind die Ergebnisse, auf die ihr gekommen seid? Also code mit einfügen, um dann plotten zu können*"
   ],
   "metadata": {
    "collapsed": false
   }
  },
  {
   "cell_type": "markdown",
   "source": [
    "Frido:"
   ],
   "metadata": {
    "collapsed": false
   }
  },
  {
   "cell_type": "markdown",
   "source": [
    "Dario:"
   ],
   "metadata": {
    "collapsed": false
   }
  },
  {
   "cell_type": "markdown",
   "source": [
    "Max:"
   ],
   "metadata": {
    "collapsed": false
   }
  },
  {
   "cell_type": "markdown",
   "source": [
    "Enno:"
   ],
   "metadata": {
    "collapsed": false
   }
  }
 ],
 "metadata": {
  "kernelspec": {
   "display_name": "Python 3",
   "language": "python",
   "name": "python3"
  },
  "language_info": {
   "codemirror_mode": {
    "name": "ipython",
    "version": 2
   },
   "file_extension": ".py",
   "mimetype": "text/x-python",
   "name": "python",
   "nbconvert_exporter": "python",
   "pygments_lexer": "ipython2",
   "version": "2.7.6"
  }
 },
 "nbformat": 4,
 "nbformat_minor": 0
}
