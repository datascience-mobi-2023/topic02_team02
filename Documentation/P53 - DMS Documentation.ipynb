{
 "cells": [
  {
   "cell_type": "markdown",
   "metadata": {},
   "source": [
    "# P53 - DMS Analyse\n",
    "#### by Frido Petersen, Dario Prifti, Maximilian Fidlin and Enno Schäfer\n",
    "*With special thanks to our Co-Worker, inspiration and beloved friend: Chat-GPT*"
   ]
  },
  {
   "cell_type": "code",
   "execution_count": null,
   "metadata": {},
   "outputs": [],
   "source": [
    "%load_ext autoreload\n",
    "%autoreload 2\n",
    "#\n",
    "%load_ext autoreload\n",
    "%autoreload 2\n",
    "import numpy as np\n",
    "import pandas as pd\n",
    "import seaborn as sns\n",
    "import data_exploration as de\n",
    "import data_cleanup as dc\n",
    "import functions as fun\n",
    "import Documentation as doc\n",
    "import severity_score as ses\n",
    "import matplotlib.pyplot as plt"
   ]
  },
  {
   "cell_type": "code",
   "execution_count": null,
   "metadata": {},
   "outputs": [],
   "source": [
    "# These are all the datasets we used\n",
    "gia_null_eto: pd.DataFrame = pd.read_csv('../DMS_data/P53_HUMAN_Giacomelli_NULL_Etoposide_2018.csv')\n",
    "gia_null_nut: pd.DataFrame = pd.read_csv('../DMS_data/P53_HUMAN_Giacomelli_NULL_Nutlin_2018.csv')\n",
    "gia_wt_nut: pd.DataFrame = pd.read_csv('../DMS_data/P53_HUMAN_Giacomelli_WT_Nutlin_2018.csv')\n",
    "kot_hum: pd.DataFrame = pd.read_csv('../DMS_data/P53_HUMAN_Kotler_2018.csv')\n",
    "\n",
    "aa = pd.read_csv('../DMS_data/aminoacids.csv')"
   ]
  },
  {
   "cell_type": "markdown",
   "metadata": {},
   "source": [
    "## Comparibility of p53 Datasets\n",
    "#### Finding similarities and differences in the 4 datasets on p53"
   ]
  },
  {
   "cell_type": "code",
   "execution_count": null,
   "metadata": {},
   "outputs": [],
   "source": [
    "# Giacomelli Null Etoposide, Giacomelli Wildtype Nutlin, Giacomelli Null Nutlin\n",
    "fun.mult_hmap(doc.gia_null_eto_norm, doc.gia_wt_nut_norm, doc.gia_null_nut_norm)"
   ]
  },
  {
   "cell_type": "code",
   "execution_count": null,
   "metadata": {},
   "outputs": [],
   "source": [
    "# Kotler\n",
    "fun.hmap(doc.kot_hum_norm_amp)"
   ]
  },
  {
   "cell_type": "code",
   "execution_count": 37,
   "metadata": {
    "ExecuteTime": {
     "end_time": "2023-07-14T11:53:32.912021400Z",
     "start_time": "2023-07-14T11:53:32.654887600Z"
    }
   },
   "outputs": [
    {
     "data": {
      "text/plain": "             GNE       GNN       GWN        KH\nAS_old                                        \nA       0.297155 -0.341339 -0.132955  0.099555\nC      -0.051440 -0.545096 -0.543561 -0.145375\nD       0.294087 -0.293424 -0.160131  0.170728\nE       0.304599 -0.295454 -0.177860  0.100811\nF       0.053043 -0.445465 -0.215654 -0.250488\nG       0.260013 -0.327492 -0.204543 -0.070218\nH       0.224304 -0.311369 -0.315392 -0.063656\nI      -0.067487 -0.558694 -0.405441 -0.146787\nK       0.353891 -0.226912 -0.066513  0.089816\nL       0.208043 -0.357187 -0.167821  0.039052\nM       0.197418 -0.334375 -0.263420  0.130724\nN       0.274435 -0.356652 -0.243670  0.153519\nP       0.295862 -0.330032 -0.174216  0.163799\nQ       0.365760 -0.274762 -0.130904  0.360414\nR       0.166862 -0.374469 -0.253766 -0.117733\nS       0.307954 -0.282235 -0.175382  0.164273\nT       0.247172 -0.362978 -0.212313  0.231769\nV       0.047415 -0.492980 -0.425382 -0.103461\nW       0.125329 -0.453758 -0.189563  0.399937\nY      -0.058534 -0.572673 -0.491159 -0.358660",
      "text/html": "<div>\n<style scoped>\n    .dataframe tbody tr th:only-of-type {\n        vertical-align: middle;\n    }\n\n    .dataframe tbody tr th {\n        vertical-align: top;\n    }\n\n    .dataframe thead th {\n        text-align: right;\n    }\n</style>\n<table border=\"1\" class=\"dataframe\">\n  <thead>\n    <tr style=\"text-align: right;\">\n      <th></th>\n      <th>GNE</th>\n      <th>GNN</th>\n      <th>GWN</th>\n      <th>KH</th>\n    </tr>\n    <tr>\n      <th>AS_old</th>\n      <th></th>\n      <th></th>\n      <th></th>\n      <th></th>\n    </tr>\n  </thead>\n  <tbody>\n    <tr>\n      <th>A</th>\n      <td>0.297155</td>\n      <td>-0.341339</td>\n      <td>-0.132955</td>\n      <td>0.099555</td>\n    </tr>\n    <tr>\n      <th>C</th>\n      <td>-0.051440</td>\n      <td>-0.545096</td>\n      <td>-0.543561</td>\n      <td>-0.145375</td>\n    </tr>\n    <tr>\n      <th>D</th>\n      <td>0.294087</td>\n      <td>-0.293424</td>\n      <td>-0.160131</td>\n      <td>0.170728</td>\n    </tr>\n    <tr>\n      <th>E</th>\n      <td>0.304599</td>\n      <td>-0.295454</td>\n      <td>-0.177860</td>\n      <td>0.100811</td>\n    </tr>\n    <tr>\n      <th>F</th>\n      <td>0.053043</td>\n      <td>-0.445465</td>\n      <td>-0.215654</td>\n      <td>-0.250488</td>\n    </tr>\n    <tr>\n      <th>G</th>\n      <td>0.260013</td>\n      <td>-0.327492</td>\n      <td>-0.204543</td>\n      <td>-0.070218</td>\n    </tr>\n    <tr>\n      <th>H</th>\n      <td>0.224304</td>\n      <td>-0.311369</td>\n      <td>-0.315392</td>\n      <td>-0.063656</td>\n    </tr>\n    <tr>\n      <th>I</th>\n      <td>-0.067487</td>\n      <td>-0.558694</td>\n      <td>-0.405441</td>\n      <td>-0.146787</td>\n    </tr>\n    <tr>\n      <th>K</th>\n      <td>0.353891</td>\n      <td>-0.226912</td>\n      <td>-0.066513</td>\n      <td>0.089816</td>\n    </tr>\n    <tr>\n      <th>L</th>\n      <td>0.208043</td>\n      <td>-0.357187</td>\n      <td>-0.167821</td>\n      <td>0.039052</td>\n    </tr>\n    <tr>\n      <th>M</th>\n      <td>0.197418</td>\n      <td>-0.334375</td>\n      <td>-0.263420</td>\n      <td>0.130724</td>\n    </tr>\n    <tr>\n      <th>N</th>\n      <td>0.274435</td>\n      <td>-0.356652</td>\n      <td>-0.243670</td>\n      <td>0.153519</td>\n    </tr>\n    <tr>\n      <th>P</th>\n      <td>0.295862</td>\n      <td>-0.330032</td>\n      <td>-0.174216</td>\n      <td>0.163799</td>\n    </tr>\n    <tr>\n      <th>Q</th>\n      <td>0.365760</td>\n      <td>-0.274762</td>\n      <td>-0.130904</td>\n      <td>0.360414</td>\n    </tr>\n    <tr>\n      <th>R</th>\n      <td>0.166862</td>\n      <td>-0.374469</td>\n      <td>-0.253766</td>\n      <td>-0.117733</td>\n    </tr>\n    <tr>\n      <th>S</th>\n      <td>0.307954</td>\n      <td>-0.282235</td>\n      <td>-0.175382</td>\n      <td>0.164273</td>\n    </tr>\n    <tr>\n      <th>T</th>\n      <td>0.247172</td>\n      <td>-0.362978</td>\n      <td>-0.212313</td>\n      <td>0.231769</td>\n    </tr>\n    <tr>\n      <th>V</th>\n      <td>0.047415</td>\n      <td>-0.492980</td>\n      <td>-0.425382</td>\n      <td>-0.103461</td>\n    </tr>\n    <tr>\n      <th>W</th>\n      <td>0.125329</td>\n      <td>-0.453758</td>\n      <td>-0.189563</td>\n      <td>0.399937</td>\n    </tr>\n    <tr>\n      <th>Y</th>\n      <td>-0.058534</td>\n      <td>-0.572673</td>\n      <td>-0.491159</td>\n      <td>-0.358660</td>\n    </tr>\n  </tbody>\n</table>\n</div>"
     },
     "execution_count": 37,
     "metadata": {},
     "output_type": "execute_result"
    }
   ],
   "source": [
    "# The aminoacids in the original sequence that, when replaced, caused the most negative DMS scores throughout the whole Protein.\n",
    "fun.calculate_average_dms_score_old(('GNE', doc.gia_null_eto_norm_amp), ('GNN', doc.gia_null_nut_norm_amp), ('GWN', doc.gia_wt_nut_norm_amp), ('KH', doc.kot_hum_norm_amp))"
   ]
  },
  {
   "cell_type": "code",
   "execution_count": 38,
   "metadata": {
    "ExecuteTime": {
     "end_time": "2023-07-14T11:54:15.459056Z",
     "start_time": "2023-07-14T11:54:15.111804300Z"
    }
   },
   "outputs": [
    {
     "name": "stdout",
     "output_type": "stream",
     "text": [
      "\\begin{tabular}{lrrrr}\n",
      "\\toprule\n",
      " & GNE & GNN & GWN & KH \\\\\n",
      "AS_new &  &  &  &  \\\\\n",
      "\\midrule\n",
      "A & 0.230294 & -0.366054 & -0.215091 & 0.263278 \\\\\n",
      "C & 0.306080 & -0.298968 & -0.162306 & 0.001974 \\\\\n",
      "D & 0.177935 & -0.380285 & -0.229204 & -0.050507 \\\\\n",
      "E & 0.189927 & -0.351673 & -0.234932 & -0.168010 \\\\\n",
      "F & 0.265481 & -0.330305 & -0.208782 & -0.066033 \\\\\n",
      "G & 0.188055 & -0.378543 & -0.229989 & -0.028291 \\\\\n",
      "H & 0.237960 & -0.358202 & -0.210794 & 0.053206 \\\\\n",
      "I & 0.284615 & -0.312255 & -0.214637 & 0.094158 \\\\\n",
      "K & 0.212806 & -0.339281 & -0.220014 & 0.043194 \\\\\n",
      "L & 0.238353 & -0.358262 & -0.226845 & 0.102409 \\\\\n",
      "M & 0.299051 & -0.286251 & -0.177107 & 0.132921 \\\\\n",
      "N & 0.251537 & -0.331806 & -0.213871 & -0.058348 \\\\\n",
      "P & 0.096191 & -0.449589 & -0.275914 & -0.143151 \\\\\n",
      "Q & 0.233595 & -0.355782 & -0.207876 & 0.092539 \\\\\n",
      "R & 0.190213 & -0.393423 & -0.239513 & -0.022793 \\\\\n",
      "S & 0.224142 & -0.375933 & -0.218467 & 0.076901 \\\\\n",
      "T & 0.239220 & -0.353747 & -0.213083 & 0.128089 \\\\\n",
      "V & 0.284880 & -0.325358 & -0.199549 & 0.106847 \\\\\n",
      "W & 0.210919 & -0.344523 & -0.225647 & -0.335867 \\\\\n",
      "Y & 0.265938 & -0.311888 & -0.219662 & -0.015396 \\\\\n",
      "\\bottomrule\n",
      "\\end{tabular}\n",
      "\n"
     ]
    }
   ],
   "source": [
    "#the amino acids that, when mutated to, resulted in the most significant decreases in the DMS score, indicating a substantial impact on protein function.\n",
    "print(fun.calculate_average_dms_score_new(('GNE', doc.gia_null_eto_norm_amp), ('GNN', doc.gia_null_nut_norm_amp), ('GWN', doc.gia_wt_nut_norm_amp), ('KH', doc.kot_hum_norm_amp)).sort_values(by='GNE').to_latex())"
   ]
  },
  {
   "cell_type": "code",
   "execution_count": null,
   "metadata": {},
   "outputs": [],
   "source": [
    "#In order to make these comparisons a little clearer we used a heatmap to illustrate these trends of substitution. The x-axis shows us the DMS scores of the AA's when replaced and the y-axis the DMS-scores of the AA's when replaced with.\n",
    "fun.hmap_mean_variance(doc.mean_substitutionsGNE)"
   ]
  },
  {
   "cell_type": "code",
   "execution_count": null,
   "outputs": [],
   "source": [
    "# The 5 position with the lowest mean DMS_scores in the \"Giacomelli null etoposide\" dataset\n",
    "doc.GNELV"
   ],
   "metadata": {
    "collapsed": false
   }
  },
  {
   "cell_type": "code",
   "execution_count": null,
   "outputs": [],
   "source": [
    "# The 5 position with the highest mean DMS_scores in the \"Giacomelli null etoposide\" dataset\n",
    "doc.GNEHV"
   ],
   "metadata": {
    "collapsed": false
   }
  },
  {
   "cell_type": "code",
   "execution_count": null,
   "outputs": [],
   "source": [
    "# The positions (-> most affected by mutation) are the following throughout each Dataset:\n",
    "doc.lowest_vals.head(20)"
   ],
   "metadata": {
    "collapsed": false
   }
  },
  {
   "cell_type": "code",
   "execution_count": null,
   "outputs": [],
   "source": [
    "#As a final and conclusive way to show the differences of the datasets we chose to visualize our datasets as linegraphs in one plot, this plot shows the mean DMS scores for each position and lets us quickly seek out positions that are greatly affected by mutation and those that are not. By summing up all DMS scores and dividing this sum by the number of values summed we can also create a rough comparability to the Kotler dataset which is also visible in this graph:\n",
    "doc.liniengraph(dataframes=[doc.gia_null_eto_z_mmn_df_mean, doc.gia_null_nut_z_mmn_df_mean, doc.gia_wt_nut_z_mmn_df_mean, doc.kot_hum_z_mmn_df_mean])"
   ],
   "metadata": {
    "collapsed": false
   }
  },
  {
   "cell_type": "markdown",
   "metadata": {},
   "source": [
    "## Data cleanup\n",
    "#### Preparing the data to enable further anaylses"
   ]
  },
  {
   "cell_type": "code",
   "execution_count": null,
   "metadata": {},
   "outputs": [],
   "source": [
    "# min max Normalisierung\n",
    "norm_frame = dc.aufteilung_mut_pos(dc.norm(gia_null_eto))\n",
    "print(\"Z-transfromation and Min Max normalisation of df\")\n",
    "fun.hmap(norm_frame)\n",
    "print(f\"Position of Low and High values of frame\")\n",
    "dc.min_max_val(norm_frame)"
   ]
  },
  {
   "cell_type": "markdown",
   "metadata": {},
   "source": [
    "After we finished cleaning our data, we decided to transform the data into a new, more compact format.\n",
    "In this new data frame the rows resemble the original AA sequence and the rows represent the exchange with a specific AA (e.g. A). The shown values are the DMS scores for the shown substitution. The NAs   shown for the exchanges where the old and new AA are the same, are changed to the value zero. With this transformed data set, further analyses are more easily to perform."
   ]
  },
  {
   "cell_type": "markdown",
   "metadata": {},
   "source": [
    "Max: Wir haben probiert Patientendaten zu bekommen, aber wir haben die nicht bekommen"
   ]
  },
  {
   "cell_type": "markdown",
   "metadata": {},
   "source": [
    "## Data exploration\n",
    "#### First, we calculated the distance and mean substitution matrices. With these DataFrames, we performed PCA, clustering and plotted the results. To understand the code and see additional plots, take a look at the \"data_exploration\" python package."
   ]
  },
  {
   "cell_type": "code",
   "execution_count": null,
   "outputs": [],
   "source": [
    "# calculate feature matrices\n",
    "feature_matrix_aa = dc.clean_aa(aa)\n",
    "feature_matrix_p53 = dc.rmv_na(dc.df_transform(norm_frame))"
   ],
   "metadata": {
    "collapsed": false
   }
  },
  {
   "cell_type": "code",
   "execution_count": 30,
   "outputs": [],
   "source": [
    "# calculate distance matrices as well as mean substitution matrices\n",
    "dist_chem = de.aa_distance_matrix(aa)\n",
    "\n",
    "dist_wt_p53 = de.dms_distance_matrix_wt(norm_frame)\n",
    "dist_mut_p53 = de.dms_distance_matrix_mutated(norm_frame)\n",
    "\n",
    "mean_subs_wt_p53 = dc.rmv_na(de.mean_substitutions(norm_frame))\n",
    "mean_subs_mut_p53 = dc.rmv_na(de.mean_substitutions(norm_frame).T)"
   ],
   "metadata": {
    "collapsed": false,
    "ExecuteTime": {
     "end_time": "2023-07-14T11:40:12.531618100Z",
     "start_time": "2023-07-14T11:40:11.889830200Z"
    }
   }
  },
  {
   "cell_type": "code",
   "execution_count": null,
   "outputs": [],
   "source": [
    "# hierarchical ward clustering\n",
    "de.plot_hier_clust(dist_chem, title = \"AAs chemical properties\")\n",
    "print(\"---------------------------------\")\n",
    "de.plot_hier_clust(dist_wt_p53, title = \"p53 distance matrix of WT AAs\")\n",
    "de.plot_hier_clust(dist_mut_p53, title = \"p53 distance matrix of mutated AAs\")\n",
    "print(\"---------------------------------\")\n",
    "de.plot_hier_clust(mean_subs_wt_p53, title = \"p53 mean substitutions for WT AAs\")\n",
    "de.plot_hier_clust(mean_subs_mut_p53, title = \"p53 mean substitutions for mutated AAs\")"
   ],
   "metadata": {
    "collapsed": false
   }
  },
  {
   "cell_type": "code",
   "execution_count": null,
   "outputs": [],
   "source": [
    "# determine optimal amount of clusters\n",
    "clusters_by_sil_chem = de.determine_clusters_silhouette(feature_matrix_aa)\n",
    "\n",
    "clusters_by_sil_p53 = de.determine_clusters_silhouette(feature_matrix_p53)\n",
    "\n",
    "\n",
    "print (clusters_by_sil_chem)\n",
    "print (\"---\")\n",
    "print (clusters_by_sil_p53)"
   ],
   "metadata": {
    "collapsed": false
   }
  },
  {
   "cell_type": "code",
   "execution_count": null,
   "outputs": [],
   "source": [
    "# Plotting, after pca and hierarchical clustering. clusters are defined by the colors shown in the legend.\n",
    "de.pca_hierarchical_plot(dist_chem, optimal_num_cluster= clusters_by_sil_chem, title = \"AAs clustered by chemical properties\", show_var=True)\n",
    "\n",
    "de.pca_hierarchical_plot(dist_wt_p53, optimal_num_cluster=clusters_by_sil_p53, title = \"p53 clustered by distance matrix of WT AAs\")\n",
    "de.pca_hierarchical_plot(dist_mut_p53, optimal_num_cluster=clusters_by_sil_p53, title = \"p53 clustered by distance matrix of mutated AAs\", show_var=True)\n",
    "\n",
    "de.pca_hierarchical_plot(mean_subs_wt_p53, optimal_num_cluster=clusters_by_sil_p53, title = \"p53 clustered by mean substitutions of WT AAs\")\n",
    "de.pca_hierarchical_plot(mean_subs_mut_p53, optimal_num_cluster=clusters_by_sil_p53, title = \"p53 clustered by mean substitutions of mutated AAs\")\n",
    "\n",
    "#------------------------------------------------------------------\n",
    "# I HAVE NO IDEA WHY THESE PLOTS LOOK SO AWFUL IN THIS NOTEBOOK. For better plots look at the de.clustering_pca_plotting.ipynb file"
   ],
   "metadata": {
    "collapsed": false
   }
  },
  {
   "cell_type": "markdown",
   "source": [
    "##### *Outlook and additional information for Data Exploration*\n",
    "\n",
    "TO MAKE THESE PLOTS FOR EACH DOMAIN: Take a look at the de.pca_hierarchical_plotting_domains.ipynb file\n",
    "\n",
    "TO SEE THE PLOTS WITH K-MEANS: To quantify the effects of the clustering method used (here: hierarchical clustering), we also performed clustering with kmeans to compare the results in the report. Take a look at the de.pca_kmeans_plotting.ipynb file\n",
    "\n",
    "TO PROOF OUR CODE RUNS ON ALL DATASETS: We ran our code on the Stiffler Dataset on E. coli ß-Lactamase. To see the plots, take a look at the pca_hierarchical_plotting_ßlactamase.ipynb file"
   ],
   "metadata": {
    "collapsed": false
   }
  },
  {
   "cell_type": "markdown",
   "metadata": {},
   "source": [
    "## Domain comparison\n",
    "#### Comparing Clusterings of substitutions in the context of specific protein domains"
   ]
  },
  {
   "cell_type": "markdown",
   "source": [
    "For the comparison of the domains we first cut our data into smaller corresponding chunks. We then applied different types of analyses on those domains, all of which can be seen in the domain_comparison folder. We then repeated those steps with only the aminoacids reachable with a single base mutation (SMU) and with amino acids belonging to random codons. We then compared the complete dataset to the SMU dataset domain-wise. Also, the random mutations where compared to the SMU."
   ],
   "metadata": {
    "collapsed": false
   }
  },
  {
   "cell_type": "code",
   "execution_count": null,
   "metadata": {},
   "outputs": [],
   "source": [
    "# All DMS scores divided onto the different domains\n",
    "all_dms = plt.imread('../domain_comparison/data/all_dms.png')\n",
    "\n",
    "fig, ax = plt.subplots(figsize=(20, 20))\n",
    "plt.imshow(all_dms)\n",
    "plt.axis('off')\n",
    "plt.show()"
   ]
  },
  {
   "cell_type": "code",
   "execution_count": null,
   "outputs": [],
   "source": [
    "#Sinlge mutations only\n",
    "smu_dms = plt.imread('../domain_comparison/data/smu_dms.png')\n",
    "fig1, ax1 = plt.subplots(figsize=(20, 20))\n",
    "plt.imshow(smu_dms)\n",
    "plt.axis('off')\n",
    "plt.show()"
   ],
   "metadata": {
    "collapsed": false
   }
  },
  {
   "cell_type": "code",
   "execution_count": null,
   "outputs": [],
   "source": [
    "#Comparing DNA binding domain\n",
    "all_vs_smu = plt.imread('../domain_comparison/data/all_vs_smu.png')\n",
    "fig2, ax2 = plt.subplots(figsize=(20, 20))\n",
    "plt.imshow(all_vs_smu)\n",
    "plt.axis('off')\n",
    "plt.show()"
   ],
   "metadata": {
    "collapsed": false
   }
  },
  {
   "cell_type": "markdown",
   "metadata": {},
   "source": [
    "## Calculating severity scores\n",
    "#### Matching DMS_scores with the mutation probability (only for single mutations)\n"
   ]
  },
  {
   "cell_type": "code",
   "execution_count": null,
   "outputs": [],
   "source": [
    "severity_score_p53 = ses.dms_smut(ses.p53_codons_gia, gia_null_eto, bias_dms=False, include_original=True)\n",
    "severity_score_p53.head(20)"
   ],
   "metadata": {
    "collapsed": false
   }
  },
  {
   "cell_type": "markdown",
   "metadata": {},
   "source": []
  },
  {
   "cell_type": "code",
   "execution_count": null,
   "metadata": {},
   "outputs": [],
   "source": [
    "severity_score_p53.compare(dc.df_split(norm_frame), keep_equal=True, keep_shape=True, result_names=('smut', 'dms'))"
   ]
  }
 ],
 "metadata": {
  "kernelspec": {
   "display_name": "Python 3 (ipykernel)",
   "language": "python",
   "name": "python3"
  },
  "language_info": {
   "codemirror_mode": {
    "name": "ipython",
    "version": 3
   },
   "file_extension": ".py",
   "mimetype": "text/x-python",
   "name": "python",
   "nbconvert_exporter": "python",
   "pygments_lexer": "ipython3",
   "version": "3.10.10"
  }
 },
 "nbformat": 4,
 "nbformat_minor": 1
}
