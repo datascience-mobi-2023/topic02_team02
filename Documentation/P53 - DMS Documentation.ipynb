{
 "cells": [
  {
   "cell_type": "markdown",
   "metadata": {},
   "source": [
    "# P53 - DMS Analyse\n",
    "#### by Frido Petersen, Dario Prifti, Maximilian Fidlin and Enno Schäfer\n",
    "*With special thanks to our Co-Worker, inspiration and beloved friend: Chat-GPT*"
   ]
  },
  {
   "cell_type": "code",
   "execution_count": 2,
   "metadata": {
    "ExecuteTime": {
     "end_time": "2023-06-30T09:52:03.304135200Z",
     "start_time": "2023-06-30T09:52:02.988810500Z"
    }
   },
   "outputs": [
    {
     "name": "stdout",
     "output_type": "stream",
     "text": [
      "The autoreload extension is already loaded. To reload it, use:\n",
      "  %reload_ext autoreload\n"
     ]
    },
    {
     "ename": "AttributeError",
     "evalue": "module 'data_cleanup' has no attribute 'low_val'",
     "output_type": "error",
     "traceback": [
      "\u001B[0;31m---------------------------------------------------------------------------\u001B[0m",
      "\u001B[0;31mAttributeError\u001B[0m                            Traceback (most recent call last)",
      "Cell \u001B[0;32mIn[2], line 9\u001B[0m\n\u001B[1;32m      7\u001B[0m \u001B[38;5;28;01mimport\u001B[39;00m \u001B[38;5;21;01mdata_cleanup\u001B[39;00m \u001B[38;5;28;01mas\u001B[39;00m \u001B[38;5;21;01mdc\u001B[39;00m\n\u001B[1;32m      8\u001B[0m \u001B[38;5;28;01mimport\u001B[39;00m \u001B[38;5;21;01mfunctions\u001B[39;00m \u001B[38;5;28;01mas\u001B[39;00m \u001B[38;5;21;01mfun\u001B[39;00m\n\u001B[0;32m----> 9\u001B[0m \u001B[38;5;28;01mimport\u001B[39;00m \u001B[38;5;21;01mDocumentation\u001B[39;00m \u001B[38;5;28;01mas\u001B[39;00m \u001B[38;5;21;01mdoc\u001B[39;00m\n\u001B[1;32m     10\u001B[0m \u001B[38;5;28;01mimport\u001B[39;00m \u001B[38;5;21;01mseverity_score\u001B[39;00m \u001B[38;5;28;01mas\u001B[39;00m \u001B[38;5;21;01mses\u001B[39;00m\n\u001B[1;32m     11\u001B[0m \u001B[38;5;28;01mimport\u001B[39;00m \u001B[38;5;21;01mscipy\u001B[39;00m\u001B[38;5;21;01m.\u001B[39;00m\u001B[38;5;21;01mstats\u001B[39;00m \u001B[38;5;28;01mas\u001B[39;00m \u001B[38;5;21;01mstats\u001B[39;00m\n",
      "File \u001B[0;32m~/Documents/GitHub/topic02_team02/Documentation/__init__.py:1\u001B[0m\n\u001B[0;32m----> 1\u001B[0m \u001B[38;5;28;01mfrom\u001B[39;00m \u001B[38;5;21;01mDocumentation\u001B[39;00m\u001B[38;5;21;01m.\u001B[39;00m\u001B[38;5;21;01mbackgrounddata\u001B[39;00m \u001B[38;5;28;01mimport\u001B[39;00m \u001B[38;5;241m*\u001B[39m\n",
      "File \u001B[0;32m~/Documents/GitHub/topic02_team02/Documentation/backgrounddata.py:40\u001B[0m\n\u001B[1;32m     36\u001B[0m lowest_vals_gesammelt \u001B[38;5;241m=\u001B[39m pd\u001B[38;5;241m.\u001B[39mDataFrame(columns\u001B[38;5;241m=\u001B[39m[\u001B[38;5;124m'\u001B[39m\u001B[38;5;124mGiacomelli NULL Etoposide location\u001B[39m\u001B[38;5;124m'\u001B[39m,\u001B[38;5;124m'\u001B[39m\u001B[38;5;124mGiacomelli NULL Etoposide sums\u001B[39m\u001B[38;5;124m'\u001B[39m, \u001B[38;5;124m'\u001B[39m\u001B[38;5;124mGiacomelli NULL Nutlin location\u001B[39m\u001B[38;5;124m'\u001B[39m, \u001B[38;5;124m'\u001B[39m\u001B[38;5;124mGiacomelli NULL Nutlin sums\u001B[39m\u001B[38;5;124m'\u001B[39m, \u001B[38;5;124m\"\u001B[39m\u001B[38;5;124mGiacomelli WT Nutlin location\u001B[39m\u001B[38;5;124m\"\u001B[39m, \u001B[38;5;124m\"\u001B[39m\u001B[38;5;124mGiacomelli WT Nutlin sums\u001B[39m\u001B[38;5;124m\"\u001B[39m,  \u001B[38;5;124m\"\u001B[39m\u001B[38;5;124mKotler location\u001B[39m\u001B[38;5;124m\"\u001B[39m, \u001B[38;5;124m\"\u001B[39m\u001B[38;5;124mKotler sums\u001B[39m\u001B[38;5;124m\"\u001B[39m])\n\u001B[1;32m     38\u001B[0m anzahl: \u001B[38;5;28mint\u001B[39m \u001B[38;5;241m=\u001B[39m \u001B[38;5;241m10\u001B[39m\n\u001B[0;32m---> 40\u001B[0m GNELLV \u001B[38;5;241m=\u001B[39m \u001B[43mdc\u001B[49m\u001B[38;5;241;43m.\u001B[39;49m\u001B[43mlow_val\u001B[49m(gia_null_eto, anzahl)\n\u001B[1;32m     41\u001B[0m GNESLV \u001B[38;5;241m=\u001B[39m dc\u001B[38;5;241m.\u001B[39mlow_val(gia_null_eto, anzahl)\n\u001B[1;32m     42\u001B[0m GNNLLV \u001B[38;5;241m=\u001B[39m dc\u001B[38;5;241m.\u001B[39mlow_val(gia_null_nut, anzahl)\n",
      "\u001B[0;31mAttributeError\u001B[0m: module 'data_cleanup' has no attribute 'low_val'"
     ]
    }
   ],
   "source": [
    "%load_ext autoreload\n",
    "%autoreload 2\n",
    "import numpy as np\n",
    "import pandas as pd\n",
    "import seaborn as sns\n",
    "import data_exploration as de\n",
    "import data_cleanup as dc\n",
    "import functions as fun\n",
    "import Documentation as doc\n",
    "import severity_score as ses\n",
    "import scipy.stats as stats\n",
    "from sklearn.cluster import AgglomerativeClustering\n",
    "from sklearn.metrics.pairwise import euclidean_distances\n",
    "from sklearn.cluster import AgglomerativeClustering"
   ]
  },
  {
   "cell_type": "code",
   "execution_count": null,
   "metadata": {
    "ExecuteTime": {
     "end_time": "2023-06-30T09:35:44.490005100Z",
     "start_time": "2023-06-30T09:35:44.009758100Z"
    }
   },
   "outputs": [],
   "source": [
    "# All used data sets\n",
    "gia_null_eto: pd.DataFrame = pd.read_csv('../DMS_data/P53_HUMAN_Giacomelli_NULL_Etoposide_2018.csv')\n",
    "gia_null_nut: pd.DataFrame = pd.read_csv('../DMS_data/P53_HUMAN_Giacomelli_NULL_Nutlin_2018.csv')\n",
    "gia_wt_nut: pd.DataFrame = pd.read_csv('../DMS_data/P53_HUMAN_Giacomelli_WT_Nutlin_2018.csv')\n",
    "kot_hum: pd.DataFrame = pd.read_csv('../DMS_data/P53_HUMAN_Kotler_2018.csv')\n",
    "\n",
    "aa = pd.read_csv('../DMS_data/aminoacids.csv')"
   ]
  },
  {
   "cell_type": "markdown",
   "metadata": {},
   "source": [
    "## Grobe Struktur:\n",
    "1) Data Cleanup: wir hatten diese Daten, das und das haben wir damit gemacht, so und so sehen unsere Daten jetzt aus\n",
    "    (i) NA - remove\n",
    "    (ii) Z - Transformierung\n",
    "    (iii) Normalisierung\n",
    "` `\n",
    "` `\n",
    "2) Data Exploration\n",
    "    (i) Distanzmatrix\n",
    "    (ii) Clustering\n",
    "    (iii) weitere Clustering-Methoden\n",
    "    (iv) Zusätzliche AS Daten\n",
    "` `\n",
    "` `\n",
    "3) T-tests"
   ]
  },
  {
   "cell_type": "markdown",
   "metadata": {},
   "source": [
    "## Comparibility of p53 Datasets\n",
    "#### Finding similarities and differences in the 4 datasets on p53"
   ]
  },
  {
   "cell_type": "code",
   "execution_count": null,
   "metadata": {
    "ExecuteTime": {
     "end_time": "2023-06-30T09:35:48.131012800Z",
     "start_time": "2023-06-30T09:35:44.498586400Z"
    }
   },
   "outputs": [],
   "source": [
    "# giacomelli null etoposide\n",
    "fun.hmap(doc.gia_null_eto_auf)"
   ]
  },
  {
   "cell_type": "code",
   "execution_count": null,
   "metadata": {
    "ExecuteTime": {
     "end_time": "2023-06-30T09:35:51.445833900Z",
     "start_time": "2023-06-30T09:35:48.131012800Z"
    }
   },
   "outputs": [],
   "source": [
    "# giacomelli wildtype nutlin\n",
    "fun.hmap(doc.gia_wt_nut_auf)"
   ]
  },
  {
   "cell_type": "code",
   "execution_count": null,
   "metadata": {
    "ExecuteTime": {
     "end_time": "2023-06-30T09:35:54.650178Z",
     "start_time": "2023-06-30T09:35:51.448983300Z"
    }
   },
   "outputs": [],
   "source": [
    "# giacomelli null nutlin\n",
    "fun.hmap(doc.gia_null_nut_auf)"
   ]
  },
  {
   "cell_type": "code",
   "execution_count": null,
   "metadata": {
    "ExecuteTime": {
     "end_time": "2023-06-30T09:35:57.337023800Z",
     "start_time": "2023-06-30T09:35:54.650178Z"
    }
   },
   "outputs": [],
   "source": [
    "# kotler\n",
    "fun.hmap(doc.kot_hum_auf)"
   ]
  },
  {
   "cell_type": "code",
   "execution_count": null,
   "metadata": {
    "ExecuteTime": {
     "end_time": "2023-06-30T09:36:02.462276600Z",
     "start_time": "2023-06-30T09:35:57.340184800Z"
    }
   },
   "outputs": [],
   "source": [
    "fun.multiple_hmap(gia_null_eto, gia_null_nut, gia_wt_nut, kot_hum)"
   ]
  },
  {
   "cell_type": "code",
   "execution_count": null,
   "metadata": {
    "ExecuteTime": {
     "end_time": "2023-06-30T09:38:35.674524900Z",
     "start_time": "2023-06-30T09:38:35.292436300Z"
    }
   },
   "outputs": [],
   "source": [
    "# These heatmaps show different trends:\n",
    "# What we need to consider is that the Kotler dataset only covers a range of amino acids from x to y. While the \"Giacomelli wildtype nutlin\" and \"Giacomelli null nutlin\" datasets exhibit some similarities in terms of trends and values, the same cannot be said when comparing them to the \"Giacomelli null etoposide\" dataset. This disparity is likely due to the use of different p53 activating agents, namely nutlin-3 and etoposide. One notable observation across all datasets is that amino acids in the range of approximately 100-300 generally display a negative effect caused by mutations. This could indicate a specific region that is evolutionary conserved an perfected. Additionally, the Kotler dataset exhibits a scarcity of values, which should be taken into consideration for future work."
   ]
  },
  {
   "cell_type": "code",
   "execution_count": null,
   "metadata": {
    "ExecuteTime": {
     "end_time": "2023-06-30T09:38:39.329943400Z",
     "start_time": "2023-06-30T09:38:38.572675100Z"
    }
   },
   "outputs": [],
   "source": [
    "# In addition to visually comparing the datasets, I wanted to investigate whether the datasets share positions in the amino acid sequence where the sum of all DMS scores is the lowest. This would indicate that these specific locations are particularly conserved."
   ]
  },
  {
   "cell_type": "code",
   "execution_count": null,
   "metadata": {
    "ExecuteTime": {
     "end_time": "2023-06-30T09:38:40.016284Z",
     "start_time": "2023-06-30T09:38:39.309033100Z"
    }
   },
   "outputs": [],
   "source": [
    "# The 5 lowest values in the \"Giacomelli null etoposide\" dataset\n",
    "dc.low_val(gia_null_eto, 5)"
   ]
  },
  {
   "cell_type": "code",
   "execution_count": null,
   "metadata": {
    "ExecuteTime": {
     "end_time": "2023-06-30T09:38:40.819587Z",
     "start_time": "2023-06-30T09:38:39.968609900Z"
    }
   },
   "outputs": [],
   "source": [
    "# The 5 highest values in the \"Giacomelli null etoposide\" dataset\n",
    "dc.high_val(gia_null_eto, 5)"
   ]
  },
  {
   "cell_type": "code",
   "execution_count": null,
   "metadata": {
    "ExecuteTime": {
     "end_time": "2023-06-30T09:38:42.747091800Z",
     "start_time": "2023-06-30T09:38:42.509996Z"
    }
   },
   "outputs": [],
   "source": [
    "# The lowest Values (-> most affected by mutation) are found in:\n",
    "doc.lowest_vals.head(20)"
   ]
  },
  {
   "cell_type": "code",
   "execution_count": null,
   "metadata": {
    "ExecuteTime": {
     "end_time": "2023-06-30T09:38:43.953370500Z",
     "start_time": "2023-06-30T09:38:43.530448800Z"
    }
   },
   "outputs": [],
   "source": [
    "#In general, we can also take a look at a flexible number of the most negative locations and take a look at them next to eachother\n",
    "doc.lowest_vals_gesammelt.head(5)"
   ]
  },
  {
   "cell_type": "markdown",
   "metadata": {},
   "source": [
    "IDEA: Maybe using T-Tests to show differences? In whatever context? -> idea inspired by project proposal from Malte and colleagues"
   ]
  },
  {
   "cell_type": "markdown",
   "metadata": {},
   "source": [
    "## Data cleanup\n",
    "#### Preparing the data to enable further anaylses"
   ]
  },
  {
   "cell_type": "code",
   "execution_count": null,
   "metadata": {
    "ExecuteTime": {
     "end_time": "2023-06-30T10:08:30.222934400Z",
     "start_time": "2023-06-30T10:08:26.428682400Z"
    }
   },
   "outputs": [],
   "source": [
    "# min max Normalisierung\n",
    "norm_frame = dc.aufteilung_mut_pos(dc.norm(gia_null_eto))\n",
    "print(\"Z-transfromation and Min Max normalisation of df\")\n",
    "fun.hmap(norm_frame)\n",
    "print(f\"Position of Low and High values of frame\")\n",
    "dc.min_max_val(norm_frame)"
   ]
  },
  {
   "cell_type": "markdown",
   "metadata": {},
   "source": [
    "After we finished cleaning our data, we decided to transform the data into a new, more compact format.\n",
    "In this new data frame the rows resemble the original AA sequence and the rows represent the exchange with a specific AA (e.g. A). The shown values are the DMS scores for the shown substitution. The NAs   shown for the exchanges where the old and new AA are the same, are changed to the value zero. With this transformed data set, further analyses are more easily to perform."
   ]
  },
  {
   "cell_type": "code",
   "execution_count": null,
   "metadata": {
    "ExecuteTime": {
     "end_time": "2023-06-23T13:53:37.171096Z",
     "start_time": "2023-06-23T13:53:37.104131Z"
    }
   },
   "outputs": [],
   "source": [
    "#THOUGHT: Maybe not putting it in the documentation but saving it in a variable to use it later on\n",
    "dc.rmv_na(dc.df_transform(gia_null_eto))"
   ]
  },
  {
   "cell_type": "markdown",
   "metadata": {},
   "source": [
    "Max: Wir haben probiert Patientendaten zu bekommen, aber wir haben die nicht bekommen"
   ]
  },
  {
   "cell_type": "markdown",
   "metadata": {},
   "source": [
    "## Data exploration\n",
    "*Was sind die Ergebnisse, auf die ihr gekommen seid? Also implementierte Funktionen mit einfügen, um dann plotten zu können*"
   ]
  },
  {
   "cell_type": "markdown",
   "metadata": {},
   "source": [
    "First, we wanted to get a feel for the mean scores for each substitution calculated from the whole length of the p53 protein."
   ]
  },
  {
   "cell_type": "code",
   "execution_count": null,
   "metadata": {
    "ExecuteTime": {
     "end_time": "2023-06-23T13:59:01.153877Z",
     "start_time": "2023-06-23T13:59:01.128716Z"
    }
   },
   "outputs": [],
   "source": [
    "dc.rmv_na(de.mean_substitutions(gia_null_eto)) #--> hier noch nicht z-transformiert, normalisiert, etc..."
   ]
  },
  {
   "cell_type": "markdown",
   "metadata": {},
   "source": [
    "Then we calculated the differences of the AA to each other to look for optimal and suboptimal interchanges."
   ]
  },
  {
   "cell_type": "code",
   "execution_count": null,
   "metadata": {
    "ExecuteTime": {
     "end_time": "2023-06-23T13:59:04.889540Z",
     "start_time": "2023-06-23T13:59:04.848784Z"
    }
   },
   "outputs": [],
   "source": [
    "# Distanzmatrix (DMS-Scores)\n",
    "dist_p53 = de.dms_distance_matrix(gia_null_eto)\n",
    "\n",
    "# IDEA: Compare Clustering with \"dist_chem\" ..."
   ]
  },
  {
   "cell_type": "markdown",
   "metadata": {},
   "source": [
    "With this distance matrix for the whole length of our protein, we wanted to compare these findings with the distances based purely on the chemical properties."
   ]
  },
  {
   "cell_type": "code",
   "execution_count": null,
   "metadata": {
    "ExecuteTime": {
     "end_time": "2023-06-23T13:46:49.237384Z",
     "start_time": "2023-06-23T13:46:49.218415Z"
    }
   },
   "outputs": [],
   "source": [
    "dist_chem = de.aa_distance_matrix(aa)\n",
    "\n",
    "# IDEA: Compare Clustering with \"dist_p53\" ..."
   ]
  },
  {
   "cell_type": "markdown",
   "metadata": {
    "ExecuteTime": {
     "end_time": "2023-06-23T13:59:52.248250Z",
     "start_time": "2023-06-23T13:59:52.247166Z"
    }
   },
   "source": [
    "-> Gibt uns die Abstände der AS zueinander basierend auf den DMS-Scores bei Austausch von AS. Bin mir leider nicht sicher ob die Abstände der neuen oder alten AS zueinander berechnet werden. Und check auch nicht ganz wieso das nur mit der transponierten Matrix funktioniert\n",
    "\n",
    "Anmerkung Enno, 29.6.: Frido, dann musst du das glaube ich nochmal schauen wie das genau geht :) Oder jemanden fragen..."
   ]
  },
  {
   "cell_type": "markdown",
   "metadata": {},
   "source": [
    "## Domain comparison\n",
    "#### Comparing Clusterings of substitutions in the context of specific protein domains"
   ]
  },
  {
   "cell_type": "code",
   "execution_count": null,
   "metadata": {
    "ExecuteTime": {
     "start_time": "2023-06-30T14:51:46.299587Z",
     "end_time": "2023-06-30T14:51:46.301426Z"
    }
   },
   "outputs": [],
   "source": []
  },
  {
   "cell_type": "markdown",
   "metadata": {},
   "source": [
    "## Calculating severity scores\n",
    "#### Matching DMS_scores with the mutation probability (only for single mutations)\n"
   ]
  },
  {
   "cell_type": "code",
   "execution_count": null,
   "metadata": {
    "ExecuteTime": {
     "end_time": "2023-06-30T10:12:25.988984100Z",
     "start_time": "2023-06-30T10:12:21.691651200Z"
    }
   },
   "outputs": [],
   "source": [
    "#slice RNA sequence in codons\n",
    "p53_codons = [ses.rna_sequence[i:i+3] for i in range(0, len(ses.rna_sequence), 3)]\n",
    "\n",
    "#generate all AA reachable by single mutation for the whole length of p53\n",
    "p53_var_frame_raw: pd.DataFrame = ses.translate_codons_df(ses.generate_codon_variations(p53_codons))\n",
    "\n",
    "#cleaning single mutations of STOP codons\n",
    "p53_var_frame = ses.clean_variation_matrix(p53_var_frame_raw)\n",
    "\n",
    "#prepare p53 dataset: might need transposing the df\n",
    "df = dc.df_transform_inverse(norm_frame)\n",
    "#select all single mutations from DMS and calculate severity score\n",
    "sel_mut: pd.DataFrame = ses.select_smut(df, p53_var_frame)\n",
    "severity_score_p53: pd.DataFrame = ses.prob_smut(sel_mut,p53_var_frame)\n"
   ]
  },
  {
   "cell_type": "code",
   "execution_count": null,
   "outputs": [],
   "source": [
    "# next -> which probable variations did show an increased fitness score? Is there an AMS with increased DMS score, that\n",
    "# is not probable by single base Mutation?\n",
    "\n",
    "#doing analysis on other dataframes\n",
    "#comparing aa sequence from ensembl with used one of the dataset"
   ],
   "metadata": {
    "collapsed": false
   }
  }
 ],
 "metadata": {
  "kernelspec": {
   "display_name": "Python 3 (ipykernel)",
   "language": "python",
   "name": "python3"
  },
  "language_info": {
   "codemirror_mode": {
    "name": "ipython",
    "version": 3
   },
   "file_extension": ".py",
   "mimetype": "text/x-python",
   "name": "python",
   "nbconvert_exporter": "python",
   "pygments_lexer": "ipython3",
   "version": "3.8.16"
  }
 },
 "nbformat": 4,
 "nbformat_minor": 1
}
