{
 "cells": [
  {
   "cell_type": "markdown",
   "metadata": {},
   "source": [
    "# P53 - DMS Analyse\n",
    "#### by Frido Petersen, Dario Prifti, Maximilian Fidlin and Enno Schäfer\n",
    "*With special thanks to our Co-Worker, inspiration and beloved friend: Chat-GPT*"
   ]
  },
  {
   "cell_type": "code",
   "execution_count": null,
   "metadata": {},
   "outputs": [],
   "source": [
    "%load_ext autoreload\n",
    "%autoreload 2\n",
    "#\n",
    "%load_ext autoreload\n",
    "%autoreload 2\n",
    "import numpy as np\n",
    "import pandas as pd\n",
    "import seaborn as sns\n",
    "import data_exploration as de\n",
    "import data_cleanup as dc\n",
    "import functions as fun\n",
    "import Documentation as doc\n",
    "import severity_score as ses\n",
    "import matplotlib.pyplot as plt"
   ]
  },
  {
   "cell_type": "code",
   "execution_count": null,
   "metadata": {},
   "outputs": [],
   "source": [
    "# These are all the datasets we used\n",
    "gia_null_eto: pd.DataFrame = pd.read_csv('../DMS_data/P53_HUMAN_Giacomelli_NULL_Etoposide_2018.csv')\n",
    "gia_null_nut: pd.DataFrame = pd.read_csv('../DMS_data/P53_HUMAN_Giacomelli_NULL_Nutlin_2018.csv')\n",
    "gia_wt_nut: pd.DataFrame = pd.read_csv('../DMS_data/P53_HUMAN_Giacomelli_WT_Nutlin_2018.csv')\n",
    "kot_hum: pd.DataFrame = pd.read_csv('../DMS_data/P53_HUMAN_Kotler_2018.csv')\n",
    "\n",
    "aa = pd.read_csv('../DMS_data/aminoacids.csv')"
   ]
  },
  {
   "cell_type": "markdown",
   "metadata": {},
   "source": [
    "## Comparibility of p53 Datasets\n",
    "#### Finding similarities and differences in the 4 datasets on p53"
   ]
  },
  {
   "cell_type": "code",
   "execution_count": null,
   "metadata": {},
   "outputs": [],
   "source": [
    "# Giacomelli Null Etoposide, Giacomelli Wildtype Nutlin, Giacomelli Null Nutlin\n",
    "fun.mult_hmap(gia_null_eto_norm, gia_wt_nut_norm, gia_null_nut_norm)"
   ]
  },
  {
   "cell_type": "code",
   "execution_count": null,
   "metadata": {},
   "outputs": [],
   "source": [
    "# Kotler\n",
    "fun.hmap(doc.kot_hum_auf)"
   ]
  },
  {
   "cell_type": "code",
   "execution_count": null,
   "metadata": {},
   "outputs": [],
   "source": [
    "fun.calculate_average_dms_score_old(('GNE', doc.gia_null_eto_amp_norm), ('GNN', doc.gia_null_nut_amp_norm), ('GWN', doc.gia_wt_nut_amp_norm), ('KH', doc.kot_hum_amp_norm))"
   ]
  },
  {
   "cell_type": "code",
   "execution_count": null,
   "metadata": {},
   "outputs": [],
   "source": [
    "fun.calculate_average_dms_score_new(('GNE', doc.gia_null_eto_amp), ('GNN', doc.gia_null_nut_amp), ('GWN', doc.gia_wt_nut_amp), ('KH', doc.kot_hum_amp))"
   ]
  },
  {
   "cell_type": "code",
   "execution_count": null,
   "metadata": {},
   "outputs": [],
   "source": [
    "fun.hmap_mean_variance(doc.mean_substitutionsGNE)\n",
    "fun.hmap_mean_variance(doc.mean_substitutionsGNN)\n",
    "fun.hmap_mean_variance(doc.mean_substitutionsGWN)\n",
    "fun.hmap_mean_variance(doc.mean_substitutionsKH)"
   ]
  },
  {
   "cell_type": "code",
   "execution_count": null,
   "outputs": [],
   "source": [
    "# These heatmaps show different trends:\n",
    "# What we need to consider is that the Kotler dataset only covers a range of amino acids. From postion 102 to 292.                                      While the \"Giacomelli Wildtype Nutlin\" and \"Giacomelli Null Nutlin\" datasets exhibit some similarities in terms of trends and values, the same cannot be said when comparing them to the \"Giacomelli Null Etoposide\" dataset. This disparity is likely due to the use of different p53 activating agents, namely nutlin-3 and etoposide. One notable observation across all datasets is that amino acids in the range of approximately 100-300 generally display a negative effect caused by mutations. This could indicate a specific region that is evolutionary conserved and perfected. Additionally, the Kotler dataset exhibits a scarcity of values, which should be taken into consideration for future work.\n",
    "# In addition to visually comparing the datasets, I wanted to investigate whether the datasets share positions in the amino acid sequence where the sum of all DMS scores is the lowest. This would indicate that these specific locations are particularly conserved."
   ],
   "metadata": {
    "collapsed": false
   }
  },
  {
   "cell_type": "code",
   "execution_count": null,
   "outputs": [],
   "source": [
    "# The 5 lowest values in the \"Giacomelli null etoposide\" dataset\n",
    "doc.GNELV"
   ],
   "metadata": {
    "collapsed": false
   }
  },
  {
   "cell_type": "code",
   "execution_count": null,
   "outputs": [],
   "source": [
    "# The 5 highest values in the \"Giacomelli null etoposide\" dataset\n",
    "doc.GNEHV"
   ],
   "metadata": {
    "collapsed": false
   }
  },
  {
   "cell_type": "code",
   "execution_count": null,
   "outputs": [],
   "source": [
    "# The positions (-> most affected by mutation) are the following throughout each Dataset:\n",
    "doc.lowest_vals.head(20)"
   ],
   "metadata": {
    "collapsed": false
   }
  },
  {
   "cell_type": "code",
   "execution_count": null,
   "outputs": [],
   "source": [
    "doc.liniengraph(dataframes=[doc.gia_null_eto_z_mmn_df_mean, doc.gia_null_nut_z_mmn_df_mean, doc.gia_wt_nut_z_mmn_df_mean, doc.kot_hum_z_mmn_df_mean])"
   ],
   "metadata": {
    "collapsed": false
   }
  },
  {
   "cell_type": "markdown",
   "metadata": {},
   "source": [
    "## Data cleanup\n",
    "#### Preparing the data to enable further anaylses"
   ]
  },
  {
   "cell_type": "code",
   "execution_count": null,
   "metadata": {},
   "outputs": [],
   "source": [
    "# min max Normalisierung\n",
    "norm_frame = dc.aufteilung_mut_pos(dc.norm(gia_null_eto))\n",
    "print(\"Z-transfromation and Min Max normalisation of df\")\n",
    "fun.hmap(norm_frame)\n",
    "print(f\"Position of Low and High values of frame\")\n",
    "dc.min_max_val(norm_frame)"
   ]
  },
  {
   "cell_type": "markdown",
   "metadata": {},
   "source": [
    "After we finished cleaning our data, we decided to transform the data into a new, more compact format.\n",
    "In this new data frame the rows resemble the original AA sequence and the rows represent the exchange with a specific AA (e.g. A). The shown values are the DMS scores for the shown substitution. The NAs   shown for the exchanges where the old and new AA are the same, are changed to the value zero. With this transformed data set, further analyses are more easily to perform."
   ]
  },
  {
   "cell_type": "markdown",
   "metadata": {},
   "source": [
    "Max: Wir haben probiert Patientendaten zu bekommen, aber wir haben die nicht bekommen"
   ]
  },
  {
   "cell_type": "markdown",
   "metadata": {},
   "source": [
    "## Data exploration\n",
    "#### First, we calculated the distance and mean substitution matrices. With these DataFrames, we performed PCA, clustering and plotted the results. To understand the code and see additional plots, take a look at the \"data_exploration\" python package."
   ]
  },
  {
   "cell_type": "code",
   "execution_count": null,
   "outputs": [],
   "source": [
    "# calculate feature matrices\n",
    "feature_matrix_aa = dc.clean_aa(aa)\n",
    "feature_matrix_p53 = dc.rmv_na(dc.df_transform(norm_frame))"
   ],
   "metadata": {
    "collapsed": false
   }
  },
  {
   "cell_type": "code",
   "execution_count": null,
   "outputs": [],
   "source": [
    "# calculate distance matrices as well as mean substitution matrices\n",
    "dist_chem = de.aa_distance_matrix(aa)\n",
    "\n",
    "dist_wt_p53 = de.dms_distance_matrix_wt(norm_frame)\n",
    "dist_mut_p53 = de.dms_distance_matrix_mutated(norm_frame)\n",
    "\n",
    "mean_subs_wt_p53 = dc.rmv_na(de.mean_substitutions(norm_frame))\n",
    "mean_subs_mut_p53 = dc.rmv_na(de.mean_substitutions(norm_frame).T)"
   ],
   "metadata": {
    "collapsed": false
   }
  },
  {
   "cell_type": "code",
   "execution_count": null,
   "outputs": [],
   "source": [
    "# hierarchical ward clustering\n",
    "de.plot_hier_clust(dist_chem, title = \"AAs chemical properties\")\n",
    "print(\"---------------------------------\")\n",
    "de.plot_hier_clust(dist_wt_p53, title = \"p53 distance matrix of WT AAs\")\n",
    "de.plot_hier_clust(dist_mut_p53, title = \"p53 distance matrix of mutated AAs\")\n",
    "print(\"---------------------------------\")\n",
    "de.plot_hier_clust(mean_subs_wt_p53, title = \"p53 mean substitutions for WT AAs\")\n",
    "de.plot_hier_clust(mean_subs_mut_p53, title = \"p53 mean substitutions for mutated AAs\")"
   ],
   "metadata": {
    "collapsed": false
   }
  },
  {
   "cell_type": "code",
   "execution_count": null,
   "outputs": [],
   "source": [
    "# determine optimal amount of clusters\n",
    "clusters_by_sil_chem = de.determine_clusters_silhouette(feature_matrix_aa)\n",
    "\n",
    "clusters_by_sil_p53 = de.determine_clusters_silhouette(feature_matrix_p53)\n",
    "\n",
    "\n",
    "print (clusters_by_sil_chem)\n",
    "print (\"---\")\n",
    "print (clusters_by_sil_p53)"
   ],
   "metadata": {
    "collapsed": false
   }
  },
  {
   "cell_type": "code",
   "execution_count": null,
   "outputs": [],
   "source": [
    "# Plotting, after pca and hierarchical clustering. clusters are defined by the colors shown in the legend.\n",
    "de.pca_hierarchical_plot(dist_chem, optimal_num_cluster= clusters_by_sil_chem, title = \"AAs clustered by chemical properties\", show_var=True)\n",
    "\n",
    "de.pca_hierarchical_plot(dist_wt_p53, optimal_num_cluster=clusters_by_sil_p53, title = \"p53 clustered by distance matrix of WT AAs\")\n",
    "de.pca_hierarchical_plot(dist_mut_p53, optimal_num_cluster=clusters_by_sil_p53, title = \"p53 clustered by distance matrix of mutated AAs\", show_var=True)\n",
    "\n",
    "de.pca_hierarchical_plot(mean_subs_wt_p53, optimal_num_cluster=clusters_by_sil_p53, title = \"p53 clustered by mean substitutions\")\n",
    "de.pca_hierarchical_plot(mean_subs_mut_p53, optimal_num_cluster=clusters_by_sil_p53, title = \"p53 clustered by mean substitutions inverted\")\n",
    "\n",
    "#------------------------------------------------------------------\n",
    "# I HAVE NO IDEA WHY THESE PLOTS LOOK SO AWFUL IN THIS NOTEBOOK. For better plots look at the de.clustering_pca_plotting.ipynb file"
   ],
   "metadata": {
    "collapsed": false
   }
  },
  {
   "cell_type": "markdown",
   "source": [
    "##### *Outlook for Data Exploration*\n",
    "\n",
    "TO MAKE THESE PLOTS FOR EACH DOMAIN: Take a look at the de.pca_hierarchical_plotting_domains.ipynb file\n",
    "\n",
    "TO SEE THE PLOTS WITH K-MEANS: To quantify the effects of the clustering method used (here: hierarchical clustering), we also performed clustering with kmeans to compare the results in the report. Take a look at the de.pca_kmeans_plotting.ipynb file\n",
    "\n",
    "TO PROOF OUR CODE RUNS ON ALL DATASETS: We ran our code on the Stiffler Dataset on E. coli ß-Lactamase. To see the plots, take a look at the pca_hierarchical_plotting_ßlactamase.ipynb file"
   ],
   "metadata": {
    "collapsed": false
   }
  },
  {
   "cell_type": "markdown",
   "metadata": {},
   "source": [
    "## Domain comparison\n",
    "#### Comparing Clusterings of substitutions in the context of specific protein domains"
   ]
  },
  {
   "cell_type": "markdown",
   "source": [
    "For the comparison of the domains we first cut our data into smaller corresponding chunks. We then applied different types of analyses on those domains, all of which can be seen in the domain_comparison folder. We then repeated those steps with only the aminoacids reachable with a single base mutation (SMU) and with amino acids belonging to random codons. We then compared the complete dataset to the SMU dataset domain-wise. Also, the random mutations where compared to the SMU."
   ],
   "metadata": {
    "collapsed": false
   }
  },
  {
   "cell_type": "code",
   "execution_count": null,
   "metadata": {},
   "outputs": [],
   "source": [
    "# All DMS scores divided onto the different domains\n",
    "all_dms = plt.imread('../domain_comparison/data/all_dms.png')\n",
    "\n",
    "fig, ax = plt.subplots(figsize=(20, 20))\n",
    "plt.imshow(all_dms)\n",
    "plt.axis('off')\n",
    "plt.show()"
   ]
  },
  {
   "cell_type": "code",
   "execution_count": null,
   "outputs": [],
   "source": [
    "#Sinlge mutations only\n",
    "smu_dms = plt.imread('../domain_comparison/data/smu_dms.png')\n",
    "fig, ax = plt.subplots(figsize=(20, 20))\n",
    "plt.imshow(smu_dms)\n",
    "plt.axis('off')\n",
    "plt.show()"
   ],
   "metadata": {
    "collapsed": false
   }
  },
  {
   "cell_type": "code",
   "execution_count": null,
   "outputs": [],
   "source": [
    "#Comparing DNA binding domain\n",
    "all_vs_smu = plt.imread('../domain_comparison/data/all_vs_smu.png')\n",
    "fig, ax = plt.subplots(figsize=(20, 20))\n",
    "plt.imshow(all_vs_smu)\n",
    "plt.axis('off')\n",
    "plt.show()"
   ],
   "metadata": {
    "collapsed": false
   }
  },
  {
   "cell_type": "markdown",
   "metadata": {},
   "source": [
    "## Calculating severity scores\n",
    "#### Matching DMS_scores with the mutation probability (only for single mutations)\n"
   ]
  },
  {
   "cell_type": "code",
   "execution_count": null,
   "metadata": {},
   "outputs": [],
   "source": [
    "#Test for the aminoacid sequence obtained from the DNA sequence online\n",
    "amino_acids_string = ses.translate_codons_to_string(ses.p53_codons_gia)\n",
    "\n",
    "print(amino_acids_string)\n",
    "\n",
    "# BLASTing shows: DNA sequence encodes the AA sequence which is the one the Kotler dataset uses as a reference! Position 72 is Proline, not Arginine.\n",
    "#However: We want to use the Giacomelli dataset for this analysis, as the Kotler dataset does not contain mutational data for the whole sequence of p53. Therefore, we need to personally edit"
   ]
  },
  {
   "cell_type": "markdown",
   "metadata": {},
   "source": []
  },
  {
   "cell_type": "code",
   "execution_count": null,
   "metadata": {},
   "outputs": [],
   "source": [
    "#editing AA 72 from Proline to Arginine by hand: no information available which DNA sequence was used by Giacomelli. Couldn't find information in paper...\n",
    "\n",
    "#change P codon to R\n",
    "p53_codons_kotler = [ses.rna_sequence[i:i+3] for i in range(0, len(ses.rna_sequence), 3)]\n",
    "p53_codons_gia = p53_codons_kotler\n",
    "p53_codons_gia[71] = \"CGC\"\n",
    "\n",
    "#generate all AA reachable by single mutation for the whole length of p53\n",
    "p53_var_frame_raw: pd.DataFrame = ses.translate_codons_df(ses.generate_codon_variations(ses.p53_codons_gia))\n",
    "\n",
    "#cleaning single mutations of STOP codons\n",
    "p53_var_frame = ses.clean_variation_matrix(p53_var_frame_raw)"
   ]
  },
  {
   "cell_type": "code",
   "execution_count": null,
   "metadata": {},
   "outputs": [],
   "source": [
    "#prepare p53 dataset: might need transposing the df\n",
    "df = dc.df_transform(norm_frame).T\n",
    "\n",
    "#select all single mutations from DMS and calculate severity score\n",
    "sel_mut: pd.DataFrame = ses.select_smut(df, p53_var_frame)\n",
    "severity_score_p53: pd.DataFrame = ses.prob_smut(sel_mut,p53_var_frame)\n",
    "\n",
    "sns.heatmap(dc.min_max_norm(severity_score_p53))\n",
    "#hier sieht es so aus, als ob Arginin grundsätzlich die Fitness des Proteins negativ beeinflusst. Könnte man vllt untersuchen, ob das tatsächlich so ist und wie signifikant diese Feststellung ist."
   ]
  },
  {
   "cell_type": "code",
   "execution_count": null,
   "metadata": {},
   "outputs": [],
   "source": [
    "# next -> which probable variations did show an increased fitness score? Is there an AMS with increased DMS score, that\n",
    "# is not probable by single base Mutation?\n",
    "\n",
    "#doing analysis on other dataframes"
   ]
  },
  {
   "cell_type": "code",
   "execution_count": null,
   "metadata": {},
   "outputs": [],
   "source": [
    "severity_score_p53.compare(dms_scores, keep_equal=True, keep_shape=True, result_names=('smut', 'dms'))"
   ]
  },
  {
   "cell_type": "code",
   "execution_count": null,
   "metadata": {},
   "outputs": [],
   "source": []
  },
  {
   "cell_type": "code",
   "execution_count": null,
   "metadata": {},
   "outputs": [],
   "source": []
  },
  {
   "cell_type": "code",
   "execution_count": null,
   "metadata": {},
   "outputs": [],
   "source": []
  },
  {
   "cell_type": "code",
   "execution_count": null,
   "metadata": {},
   "outputs": [],
   "source": []
  },
  {
   "cell_type": "code",
   "execution_count": null,
   "metadata": {},
   "outputs": [],
   "source": []
  },
  {
   "cell_type": "code",
   "execution_count": null,
   "metadata": {},
   "outputs": [],
   "source": []
  },
  {
   "cell_type": "code",
   "execution_count": null,
   "metadata": {},
   "outputs": [],
   "source": []
  },
  {
   "cell_type": "code",
   "execution_count": null,
   "metadata": {},
   "outputs": [],
   "source": []
  }
 ],
 "metadata": {
  "kernelspec": {
   "display_name": "Python 3 (ipykernel)",
   "language": "python",
   "name": "python3"
  },
  "language_info": {
   "codemirror_mode": {
    "name": "ipython",
    "version": 3
   },
   "file_extension": ".py",
   "mimetype": "text/x-python",
   "name": "python",
   "nbconvert_exporter": "python",
   "pygments_lexer": "ipython3",
   "version": "3.10.10"
  }
 },
 "nbformat": 4,
 "nbformat_minor": 1
}
