{
 "cells": [
  {
   "cell_type": "markdown",
   "metadata": {},
   "source": [
    "# P53 - DMS Analysis\n",
    "#### by Frido Petersen, Dario Prifti, Maximilian Fidlin and Enno Schäfer"
   ]
  },
  {
   "cell_type": "code",
   "execution_count": null,
   "outputs": [],
   "source": [
    "%load_ext autoreload\n",
    "%autoreload 2"
   ],
   "metadata": {
    "collapsed": false
   }
  },
  {
   "cell_type": "code",
   "execution_count": null,
   "metadata": {},
   "outputs": [],
   "source": [
    "\n",
    "import pandas as pd\n",
    "import seaborn as sns\n",
    "import matplotlib.pyplot as plt\n",
    "\n",
    "import data_exploration as de\n",
    "import visualization as vis\n",
    "import data_cleanup as dc\n",
    "import Documentation as doc\n",
    "import severity_score as ses"
   ]
  },
  {
   "cell_type": "code",
   "execution_count": null,
   "metadata": {},
   "outputs": [],
   "source": [
    "# These are all the datasets we used\n",
    "gia_null_eto: pd.DataFrame = pd.read_csv('../DMS_data/P53_HUMAN_Giacomelli_NULL_Etoposide_2018.csv')\n",
    "gia_null_nut: pd.DataFrame = pd.read_csv('../DMS_data/P53_HUMAN_Giacomelli_NULL_Nutlin_2018.csv')\n",
    "gia_wt_nut: pd.DataFrame = pd.read_csv('../DMS_data/P53_HUMAN_Giacomelli_WT_Nutlin_2018.csv')\n",
    "kot_hum: pd.DataFrame = pd.read_csv('../DMS_data/P53_HUMAN_Kotler_2018.csv')\n",
    "\n",
    "aa = pd.read_csv('../DMS_data/aminoacids.csv')"
   ]
  },
  {
   "cell_type": "markdown",
   "metadata": {},
   "source": [
    "## Comparibility of p53 Datasets\n",
    "#### Finding similarities and differences in the 4 datasets on p53"
   ]
  },
  {
   "cell_type": "code",
   "execution_count": null,
   "metadata": {},
   "outputs": [],
   "source": [
    "# Giacomelli Null Etoposide, Giacomelli Wildtype Nutlin, Giacomelli Null Nutlin\n",
    "vis.mult_hmap(doc.gia_null_eto_norm, doc.gia_wt_nut_norm, doc.gia_null_nut_norm)"
   ]
  },
  {
   "cell_type": "code",
   "execution_count": null,
   "metadata": {},
   "outputs": [],
   "source": [
    "# Kotler\n",
    "vis.hmap(doc.kot_hum_norm_amp)"
   ]
  },
  {
   "cell_type": "code",
   "execution_count": null,
   "metadata": {},
   "outputs": [],
   "source": [
    "# The aminoacids in the original sequence that, when replaced, caused the most negative DMS scores throughout the whole Protein.\n",
    "de.calculate_average_dms_score_old(('GNE', doc.gia_null_eto_norm_amp), ('GNN', doc.gia_null_nut_norm_amp), ('GWN', doc.gia_wt_nut_norm_amp), ('KH', doc.kot_hum_norm_amp))"
   ]
  },
  {
   "cell_type": "code",
   "execution_count": null,
   "metadata": {},
   "outputs": [],
   "source": [
    "#the amino acids that, when mutated to, resulted in the most significant decreases in the DMS score, indicating a substantial impact on protein function.\n",
    "de.calculate_average_dms_score_new(('GNE', doc.gia_null_eto_norm_amp), ('GNN', doc.gia_null_nut_norm_amp), ('GWN', doc.gia_wt_nut_norm_amp), ('KH', doc.kot_hum_norm_amp))"
   ]
  },
  {
   "cell_type": "code",
   "execution_count": null,
   "metadata": {},
   "outputs": [],
   "source": [
    "#In order to make these comparisons a little clearer we used a heatmap to illustrate these trends of substitution. The x-axis shows us the DMS scores of the AA's when replaced and the y-axis the DMS-scores of the AA's when replaced with.\n",
    "vis.hmap_mean_variance(doc.mean_substitutionsGNE)"
   ]
  },
  {
   "cell_type": "code",
   "execution_count": null,
   "outputs": [],
   "source": [
    "# The 5 position with the lowest mean DMS_scores in the \"Giacomelli null etoposide\" dataset\n",
    "doc.GNELV"
   ],
   "metadata": {
    "collapsed": false
   }
  },
  {
   "cell_type": "code",
   "execution_count": null,
   "outputs": [],
   "source": [
    "# The 5 position with the highest mean DMS_scores in the \"Giacomelli null etoposide\" dataset\n",
    "doc.GNEHV"
   ],
   "metadata": {
    "collapsed": false
   }
  },
  {
   "cell_type": "code",
   "execution_count": null,
   "outputs": [],
   "source": [
    "# The positions (-> most affected by mutation) are the following throughout each Dataset:\n",
    "doc.lowest_vals.head(20)"
   ],
   "metadata": {
    "collapsed": false
   }
  },
  {
   "cell_type": "code",
   "execution_count": null,
   "outputs": [],
   "source": [
    "#As a final and conclusive way to show the differences of the datasets we chose to visualize our datasets as linegraphs in one plot, this plot shows the mean DMS scores for each position and lets us quickly seek out positions that are greatly affected by mutation and those that are not. By summing up all DMS scores and dividing this sum by the number of values summed we can also create a rough comparability to the Kotler dataset which is also visible in this graph:\n",
    "vis.linegraph(dataframes=[doc.gia_null_eto_z_mmn_df_mean, doc.gia_null_nut_z_mmn_df_mean, doc.gia_wt_nut_z_mmn_df_mean, doc.kot_hum_z_mmn_df_mean])"
   ],
   "metadata": {
    "collapsed": false
   }
  },
  {
   "cell_type": "markdown",
   "metadata": {},
   "source": [
    "## Data cleanup\n",
    "#### Preparing the data to enable further anaylses"
   ]
  },
  {
   "cell_type": "code",
   "execution_count": null,
   "metadata": {},
   "outputs": [],
   "source": [
    "# min max Normalisierung\n",
    "norm_frame = dc.aufteilung_mut_pos(dc.norm(gia_null_eto))\n",
    "print(\"Z-transfromation and Min Max normalisation of df\")\n",
    "vis.hmap(norm_frame)\n",
    "print(f\"Position of Low and High values of frame\")\n",
    "dc.min_max_val(norm_frame)"
   ]
  },
  {
   "cell_type": "markdown",
   "metadata": {},
   "source": [
    "## Data exploration\n",
    "#### First, we calculated the distance and mean substitution matrices. With these DataFrames, we performed PCA, clustering and plotted the results. To understand the code and see additional plots, take a look at the \"data_exploration\" python package."
   ]
  },
  {
   "cell_type": "code",
   "execution_count": null,
   "outputs": [],
   "source": [
    "# calculate feature matrices\n",
    "feature_matrix_aa = dc.clean_aa(aa)\n",
    "feature_matrix_p53 = dc.rmv_na(dc.df_transform(norm_frame))"
   ],
   "metadata": {
    "collapsed": false
   }
  },
  {
   "cell_type": "code",
   "execution_count": null,
   "outputs": [],
   "source": [
    "# calculate distance matrices as well as mean substitution matrices\n",
    "dist_chem = de.aa_distance_matrix(aa)\n",
    "\n",
    "dist_wt_p53 = de.dms_distance_matrix_wt(norm_frame)\n",
    "dist_mut_p53 = de.dms_distance_matrix_mutated(norm_frame)\n",
    "\n",
    "mean_subs_wt_p53 = dc.rmv_na(de.mean_substitutions(norm_frame))\n",
    "mean_subs_mut_p53 = dc.rmv_na(de.mean_substitutions(norm_frame).T)"
   ],
   "metadata": {
    "collapsed": false
   }
  },
  {
   "cell_type": "code",
   "execution_count": null,
   "outputs": [],
   "source": [
    "# hierarchical ward clustering\n",
    "de.plot_hier_clust(dist_chem, title = \"AAs chemical properties\")\n",
    "print(\"---------------------------------\")\n",
    "de.plot_hier_clust(dist_wt_p53, title = \"p53 distance matrix of WT AAs\")\n",
    "de.plot_hier_clust(dist_mut_p53, title = \"p53 distance matrix of mutated AAs\")\n",
    "print(\"---------------------------------\")\n",
    "de.plot_hier_clust(mean_subs_wt_p53, title = \"p53 mean substitutions for WT AAs\")\n",
    "de.plot_hier_clust(mean_subs_mut_p53, title = \"p53 mean substitutions for mutated AAs\")"
   ],
   "metadata": {
    "collapsed": false
   }
  },
  {
   "cell_type": "code",
   "execution_count": null,
   "outputs": [],
   "source": [
    "# determine optimal amount of clusters\n",
    "clusters_by_sil_chem = de.determine_clusters_silhouette(feature_matrix_aa)\n",
    "\n",
    "clusters_by_sil_p53 = de.determine_clusters_silhouette(feature_matrix_p53)\n",
    "\n",
    "\n",
    "print (clusters_by_sil_chem)\n",
    "print (\"---\")\n",
    "print (clusters_by_sil_p53)"
   ],
   "metadata": {
    "collapsed": false
   }
  },
  {
   "cell_type": "code",
   "execution_count": null,
   "outputs": [],
   "source": [
    "# Plotting, after pca and hierarchical clustering. clusters are defined by the colors shown in the legend.\n",
    "de.pca_hierarchical_plot(dist_chem, optimal_num_cluster= clusters_by_sil_chem, title = \"AAs clustered by chemical properties\", show_var=True)\n",
    "\n",
    "de.pca_hierarchical_plot(dist_wt_p53, optimal_num_cluster=clusters_by_sil_p53, title = \"p53 clustered by distance matrix of WT AAs\")\n",
    "de.pca_hierarchical_plot(dist_mut_p53, optimal_num_cluster=clusters_by_sil_p53, title = \"p53 clustered by distance matrix of mutated AAs\", show_var=True)\n",
    "\n",
    "de.pca_hierarchical_plot(mean_subs_wt_p53, optimal_num_cluster=clusters_by_sil_p53, title = \"p53 clustered by mean substitutions of WT AAs\")\n",
    "de.pca_hierarchical_plot(mean_subs_mut_p53, optimal_num_cluster=clusters_by_sil_p53, title = \"p53 clustered by mean substitutions of mutated AAs\")\n",
    "\n",
    "#------------------------------------------------------------------\n",
    "# I HAVE NO IDEA WHY THESE PLOTS LOOK SO AWFUL IN THIS NOTEBOOK. For better plots look at the de.clustering_pca_plotting.ipynb file"
   ],
   "metadata": {
    "collapsed": false
   }
  },
  {
   "cell_type": "markdown",
   "source": [
    "##### *Outlook and additional information for Data Exploration*\n",
    "\n",
    "TO MAKE THESE PLOTS FOR EACH DOMAIN: Take a look at the de.pca_hierarchical_plotting_domains.ipynb file\n",
    "\n",
    "TO SEE THE PLOTS WITH K-MEANS: To quantify the effects of the clustering method used (here: hierarchical clustering), we also performed clustering with kmeans to compare the results in the report. Take a look at the de.pca_kmeans_plotting.ipynb file\n",
    "\n",
    "TO PROOF OUR CODE RUNS ON ALL DATASETS: We ran our code on the Stiffler Dataset on E. coli ß-Lactamase. To see the plots, take a look at the pca_hierarchical_plotting_ßlactamase.ipynb file"
   ],
   "metadata": {
    "collapsed": false
   }
  },
  {
   "cell_type": "markdown",
   "metadata": {},
   "source": [
    "## Domain comparison\n",
    "#### Comparing Clusterings of substitutions in the context of specific protein domains"
   ]
  },
  {
   "cell_type": "markdown",
   "source": [
    "For the comparison of the domains we first cut our data into smaller corresponding chunks. We then applied different types of analyses on those domains, all of\n",
    "which can be seen in the domain_comparison folder. Those analyses included the generation of\n",
    "plots showing the distribution of DMS scores and taking a look at the mean substitutions. We then repeated those steps with only the amino acids reachable with a\n",
    "single base mutation (SMU) and with amino acids belonging to random codons. We then compared the\n",
    "complete dataset to the SMU dataset domain-wise. Also, the results of random mutations where compared to the SMU.\n",
    "We looked for similar results for the other Giacomelli data sets."
   ],
   "metadata": {
    "collapsed": false
   }
  },
  {
   "cell_type": "code",
   "execution_count": null,
   "metadata": {},
   "outputs": [],
   "source": [
    "print('All DMS scores plotted domain-wise')\n",
    "all_dms = plt.imread('../domain_comparison/data/all_dms.png')\n",
    "\n",
    "fig, ax = plt.subplots(figsize=(20, 20))\n",
    "plt.imshow(all_dms)\n",
    "plt.axis('off')\n",
    "plt.show()"
   ]
  },
  {
   "cell_type": "code",
   "execution_count": null,
   "outputs": [],
   "source": [
    "print('Mean DMS scores Transactivation Domain 1')\n",
    "mean_substitutions_t1 = plt.imread('../domain_comparison/data/mean_substitutions_t1.png')\n",
    "\n",
    "fig1, ax1 = plt.subplots(figsize=(20, 20))\n",
    "plt.imshow(all_dms)\n",
    "plt.axis('off')\n",
    "plt.show()"
   ],
   "metadata": {
    "collapsed": false
   }
  },
  {
   "cell_type": "code",
   "execution_count": null,
   "outputs": [],
   "source": [
    "print('Mean DMS scores DNA Binding Domain')\n",
    "mean_substitutions_dna = plt.imread('../domain_comparison/data/mean_substitutions_dna.png')\n",
    "\n",
    "fig2, ax2 = plt.subplots(figsize=(20, 20))\n",
    "plt.imshow(all_dms)\n",
    "plt.axis('off')\n",
    "plt.show()"
   ],
   "metadata": {
    "collapsed": false
   }
  },
  {
   "cell_type": "code",
   "execution_count": null,
   "outputs": [],
   "source": [
    "print('SMU DMS scores plotted domain-wise')\n",
    "smu_dms = plt.imread('../domain_comparison/data/smu_dms.png')\n",
    "fig3, ax3 = plt.subplots(figsize=(20, 20))\n",
    "plt.imshow(smu_dms)\n",
    "plt.axis('off')\n",
    "plt.show()"
   ],
   "metadata": {
    "collapsed": false
   }
  },
  {
   "cell_type": "code",
   "execution_count": null,
   "outputs": [],
   "source": [
    "print('Comparing DNA binding domains')\n",
    "all_vs_smu = plt.imread('../domain_comparison/data/all_vs_smu.png')\n",
    "fig4, ax4 = plt.subplots(figsize=(20, 20))\n",
    "plt.imshow(all_vs_smu)\n",
    "plt.axis('off')\n",
    "plt.show()"
   ],
   "metadata": {
    "collapsed": false
   }
  },
  {
   "cell_type": "code",
   "execution_count": null,
   "outputs": [],
   "source": [
    "print('All DMS scores plotted domain-wise, Giacomelli WT Nutlin')\n",
    "all_dms_wt_nut = plt.imread('../domain_comparison/data/all_dms_wt_nut.png')\n",
    "fig5, ax5 = plt.subplots(figsize=(20, 20))\n",
    "plt.imshow(all_vs_smu)\n",
    "plt.axis('off')\n",
    "plt.show()"
   ],
   "metadata": {
    "collapsed": false
   }
  },
  {
   "cell_type": "code",
   "execution_count": null,
   "outputs": [],
   "source": [
    "print('All DMS scores plotted domain-wise, Giacomelli NULL Nutlin')\n",
    "all_dms_null_nut = plt.imread('../domain_comparison/data/all_dms_null_nut.png')\n",
    "fig6, ax6 = plt.subplots(figsize=(20, 20))\n",
    "plt.imshow(all_vs_smu)\n",
    "plt.axis('off')\n",
    "plt.show()"
   ],
   "metadata": {
    "collapsed": false
   }
  },
  {
   "cell_type": "code",
   "execution_count": null,
   "outputs": [],
   "source": [
    "print('DMS scores DNA Binding Domain, Giacomelli NULL Nutlin')\n",
    "histogramm_dna_null_nut = plt.imread('../domain_comparison/data/histogramm_dna_null_nut.png')\n",
    "fig7, ax7 = plt.subplots(figsize=(20, 20))\n",
    "plt.imshow(all_vs_smu)\n",
    "plt.axis('off')\n",
    "plt.show()"
   ],
   "metadata": {
    "collapsed": false
   }
  },
  {
   "cell_type": "code",
   "execution_count": null,
   "outputs": [],
   "source": [
    "print('DMS scores DNA Binding Domain with all DMS scores and SMU, Nutlin datasets')\n",
    "all_vs_smu_nut = plt.imread('../domain_comparison/data/all_vs_smu_nut.png')\n",
    "fig8, ax8 = plt.subplots(figsize=(20, 20))\n",
    "plt.imshow(all_vs_smu)\n",
    "plt.axis('off')\n",
    "plt.show()"
   ],
   "metadata": {
    "collapsed": false
   }
  },
  {
   "cell_type": "markdown",
   "metadata": {},
   "source": [
    "## Calculating severity scores\n",
    "#### Matching DMS_scores with the mutation probability (only for single mutations)\n"
   ]
  },
  {
   "cell_type": "code",
   "execution_count": null,
   "outputs": [],
   "source": [
    "p53_codons = ses.p53_codons_gia\n",
    "smu_dms = ses.dms_smut(p53_codons, gia_null_eto, bias_dms=False)\n",
    "smu_dms.head(15)"
   ],
   "metadata": {
    "collapsed": false
   }
  },
  {
   "cell_type": "code",
   "execution_count": null,
   "outputs": [],
   "source": [
    "sns.heatmap(smu_dms, cmap='seismic', )"
   ],
   "metadata": {
    "collapsed": false
   }
  },
  {
   "cell_type": "code",
   "execution_count": null,
   "outputs": [],
   "source": [
    "severity_scores = ses.dms_smut(p53_codons, gia_null_eto, bias_dms=True, include_original=True)\n",
    "sns.heatmap(severity_scores, cmap='seismic', robust=False)"
   ],
   "metadata": {
    "collapsed": false
   }
  },
  {
   "cell_type": "markdown",
   "source": [
    "Further explanations and visualisation can be found in exploratory directory of the corresponding package"
   ],
   "metadata": {
    "collapsed": false
   }
  }
 ],
 "metadata": {
  "kernelspec": {
   "display_name": "Python 3 (ipykernel)",
   "language": "python",
   "name": "python3"
  },
  "language_info": {
   "codemirror_mode": {
    "name": "ipython",
    "version": 3
   },
   "file_extension": ".py",
   "mimetype": "text/x-python",
   "name": "python",
   "nbconvert_exporter": "python",
   "pygments_lexer": "ipython3",
   "version": "3.10.10"
  }
 },
 "nbformat": 4,
 "nbformat_minor": 1
}
