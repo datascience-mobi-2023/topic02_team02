{
 "cells": [
  {
   "cell_type": "code",
   "execution_count": 2,
   "metadata": {
    "collapsed": true,
    "ExecuteTime": {
     "end_time": "2023-06-30T13:40:19.924174600Z",
     "start_time": "2023-06-30T13:40:19.017297600Z"
    }
   },
   "outputs": [],
   "source": [
    "import numpy as np\n",
    "import pandas as pd\n",
    "import seaborn as sns\n",
    "from sklearn.cluster import AgglomerativeClustering\n",
    "import data_exploration as de"
   ]
  },
  {
   "cell_type": "code",
   "execution_count": 3,
   "outputs": [
    {
     "ename": "ValueError",
     "evalue": "could not convert string to float: 'M1A'",
     "output_type": "error",
     "traceback": [
      "\u001B[1;31m---------------------------------------------------------------------------\u001B[0m",
      "\u001B[1;31mValueError\u001B[0m                                Traceback (most recent call last)",
      "Cell \u001B[1;32mIn[3], line 5\u001B[0m\n\u001B[0;32m      2\u001B[0m df \u001B[38;5;241m=\u001B[39m pd\u001B[38;5;241m.\u001B[39mread_csv(fpath)\n\u001B[0;32m      4\u001B[0m \u001B[38;5;66;03m# Distanzmatrix erstellen\u001B[39;00m\n\u001B[1;32m----> 5\u001B[0m X\u001B[38;5;241m=\u001B[39m\u001B[43mde\u001B[49m\u001B[38;5;241;43m.\u001B[39;49m\u001B[43mdms_distance_matrix\u001B[49m\u001B[43m(\u001B[49m\u001B[43mdf\u001B[49m\u001B[43m)\u001B[49m\n\u001B[0;32m      7\u001B[0m \u001B[38;5;66;03m#Diagonale enthält NAs, die für Clustering rausgelöscht werden müssen\u001B[39;00m\n\u001B[0;32m      8\u001B[0m \u001B[38;5;66;03m#um zu überprüfen, ob nur die Diagonale NAs enthält, müssen genau 20 NA Werte (die Diagonale) vorliegen\u001B[39;00m\n\u001B[0;32m      9\u001B[0m \u001B[38;5;28;01mif\u001B[39;00m X\u001B[38;5;241m.\u001B[39misna()\u001B[38;5;241m.\u001B[39msum()\u001B[38;5;241m.\u001B[39msum() \u001B[38;5;241m==\u001B[39m \u001B[38;5;241m20\u001B[39m:\n\u001B[0;32m     10\u001B[0m \n\u001B[0;32m     11\u001B[0m     \u001B[38;5;66;03m#vielleicht sollten wir auch mit einer anderen Zahl ersetzen? Ich kann nicht einschätzen, welchen Effekt die Zahl hier auf das Clustering an sich hat...\u001B[39;00m\n",
      "File \u001B[1;32m~\\Enno_PC\\Bioinfo Projekt\\topic02_team02\\data_exploration\\statistical_functions.py:43\u001B[0m, in \u001B[0;36mdms_distance_matrix\u001B[1;34m(frame)\u001B[0m\n\u001B[0;32m     41\u001B[0m \u001B[38;5;28;01mdef\u001B[39;00m \u001B[38;5;21mdms_distance_matrix\u001B[39m(frame: pd\u001B[38;5;241m.\u001B[39mDataFrame) \u001B[38;5;241m-\u001B[39m\u001B[38;5;241m>\u001B[39m pd\u001B[38;5;241m.\u001B[39mDataFrame:\n\u001B[0;32m     42\u001B[0m     \u001B[38;5;124;03m\"\"\"calculates the distances of the AA to each other based on the DMS-Scores when interchanged with another AA\"\"\"\u001B[39;00m\n\u001B[1;32m---> 43\u001B[0m     dms_distances \u001B[38;5;241m=\u001B[39m \u001B[43meuclidean_distances\u001B[49m\u001B[43m(\u001B[49m\u001B[43mframe\u001B[49m\u001B[38;5;241;43m.\u001B[39;49m\u001B[43mvalues\u001B[49m\u001B[43m)\u001B[49m\n\u001B[0;32m     44\u001B[0m     frame \u001B[38;5;241m=\u001B[39m pd\u001B[38;5;241m.\u001B[39mDataFrame(dms_distances, index\u001B[38;5;241m=\u001B[39mframe\u001B[38;5;241m.\u001B[39mindex, columns\u001B[38;5;241m=\u001B[39mframe\u001B[38;5;241m.\u001B[39mindex)\n\u001B[0;32m     45\u001B[0m     \u001B[38;5;28;01mreturn\u001B[39;00m frame\n",
      "File \u001B[1;32m~\\anaconda3\\envs\\dms\\lib\\site-packages\\sklearn\\metrics\\pairwise.py:300\u001B[0m, in \u001B[0;36meuclidean_distances\u001B[1;34m(X, Y, Y_norm_squared, squared, X_norm_squared)\u001B[0m\n\u001B[0;32m    224\u001B[0m \u001B[38;5;28;01mdef\u001B[39;00m \u001B[38;5;21meuclidean_distances\u001B[39m(\n\u001B[0;32m    225\u001B[0m     X, Y\u001B[38;5;241m=\u001B[39m\u001B[38;5;28;01mNone\u001B[39;00m, \u001B[38;5;241m*\u001B[39m, Y_norm_squared\u001B[38;5;241m=\u001B[39m\u001B[38;5;28;01mNone\u001B[39;00m, squared\u001B[38;5;241m=\u001B[39m\u001B[38;5;28;01mFalse\u001B[39;00m, X_norm_squared\u001B[38;5;241m=\u001B[39m\u001B[38;5;28;01mNone\u001B[39;00m\n\u001B[0;32m    226\u001B[0m ):\n\u001B[0;32m    227\u001B[0m     \u001B[38;5;124;03m\"\"\"\u001B[39;00m\n\u001B[0;32m    228\u001B[0m \u001B[38;5;124;03m    Compute the distance matrix between each pair from a vector array X and Y.\u001B[39;00m\n\u001B[0;32m    229\u001B[0m \n\u001B[1;32m   (...)\u001B[0m\n\u001B[0;32m    298\u001B[0m \u001B[38;5;124;03m           [1.41421356]])\u001B[39;00m\n\u001B[0;32m    299\u001B[0m \u001B[38;5;124;03m    \"\"\"\u001B[39;00m\n\u001B[1;32m--> 300\u001B[0m     X, Y \u001B[38;5;241m=\u001B[39m \u001B[43mcheck_pairwise_arrays\u001B[49m\u001B[43m(\u001B[49m\u001B[43mX\u001B[49m\u001B[43m,\u001B[49m\u001B[43m \u001B[49m\u001B[43mY\u001B[49m\u001B[43m)\u001B[49m\n\u001B[0;32m    302\u001B[0m     \u001B[38;5;28;01mif\u001B[39;00m X_norm_squared \u001B[38;5;129;01mis\u001B[39;00m \u001B[38;5;129;01mnot\u001B[39;00m \u001B[38;5;28;01mNone\u001B[39;00m:\n\u001B[0;32m    303\u001B[0m         X_norm_squared \u001B[38;5;241m=\u001B[39m check_array(X_norm_squared, ensure_2d\u001B[38;5;241m=\u001B[39m\u001B[38;5;28;01mFalse\u001B[39;00m)\n",
      "File \u001B[1;32m~\\anaconda3\\envs\\dms\\lib\\site-packages\\sklearn\\metrics\\pairwise.py:146\u001B[0m, in \u001B[0;36mcheck_pairwise_arrays\u001B[1;34m(X, Y, precomputed, dtype, accept_sparse, force_all_finite, copy)\u001B[0m\n\u001B[0;32m    143\u001B[0m     dtype \u001B[38;5;241m=\u001B[39m dtype_float\n\u001B[0;32m    145\u001B[0m \u001B[38;5;28;01mif\u001B[39;00m Y \u001B[38;5;129;01mis\u001B[39;00m X \u001B[38;5;129;01mor\u001B[39;00m Y \u001B[38;5;129;01mis\u001B[39;00m \u001B[38;5;28;01mNone\u001B[39;00m:\n\u001B[1;32m--> 146\u001B[0m     X \u001B[38;5;241m=\u001B[39m Y \u001B[38;5;241m=\u001B[39m \u001B[43mcheck_array\u001B[49m\u001B[43m(\u001B[49m\n\u001B[0;32m    147\u001B[0m \u001B[43m        \u001B[49m\u001B[43mX\u001B[49m\u001B[43m,\u001B[49m\n\u001B[0;32m    148\u001B[0m \u001B[43m        \u001B[49m\u001B[43maccept_sparse\u001B[49m\u001B[38;5;241;43m=\u001B[39;49m\u001B[43maccept_sparse\u001B[49m\u001B[43m,\u001B[49m\n\u001B[0;32m    149\u001B[0m \u001B[43m        \u001B[49m\u001B[43mdtype\u001B[49m\u001B[38;5;241;43m=\u001B[39;49m\u001B[43mdtype\u001B[49m\u001B[43m,\u001B[49m\n\u001B[0;32m    150\u001B[0m \u001B[43m        \u001B[49m\u001B[43mcopy\u001B[49m\u001B[38;5;241;43m=\u001B[39;49m\u001B[43mcopy\u001B[49m\u001B[43m,\u001B[49m\n\u001B[0;32m    151\u001B[0m \u001B[43m        \u001B[49m\u001B[43mforce_all_finite\u001B[49m\u001B[38;5;241;43m=\u001B[39;49m\u001B[43mforce_all_finite\u001B[49m\u001B[43m,\u001B[49m\n\u001B[0;32m    152\u001B[0m \u001B[43m        \u001B[49m\u001B[43mestimator\u001B[49m\u001B[38;5;241;43m=\u001B[39;49m\u001B[43mestimator\u001B[49m\u001B[43m,\u001B[49m\n\u001B[0;32m    153\u001B[0m \u001B[43m    \u001B[49m\u001B[43m)\u001B[49m\n\u001B[0;32m    154\u001B[0m \u001B[38;5;28;01melse\u001B[39;00m:\n\u001B[0;32m    155\u001B[0m     X \u001B[38;5;241m=\u001B[39m check_array(\n\u001B[0;32m    156\u001B[0m         X,\n\u001B[0;32m    157\u001B[0m         accept_sparse\u001B[38;5;241m=\u001B[39maccept_sparse,\n\u001B[1;32m   (...)\u001B[0m\n\u001B[0;32m    161\u001B[0m         estimator\u001B[38;5;241m=\u001B[39mestimator,\n\u001B[0;32m    162\u001B[0m     )\n",
      "File \u001B[1;32m~\\anaconda3\\envs\\dms\\lib\\site-packages\\sklearn\\utils\\validation.py:879\u001B[0m, in \u001B[0;36mcheck_array\u001B[1;34m(array, accept_sparse, accept_large_sparse, dtype, order, copy, force_all_finite, ensure_2d, allow_nd, ensure_min_samples, ensure_min_features, estimator, input_name)\u001B[0m\n\u001B[0;32m    877\u001B[0m         array \u001B[38;5;241m=\u001B[39m xp\u001B[38;5;241m.\u001B[39mastype(array, dtype, copy\u001B[38;5;241m=\u001B[39m\u001B[38;5;28;01mFalse\u001B[39;00m)\n\u001B[0;32m    878\u001B[0m     \u001B[38;5;28;01melse\u001B[39;00m:\n\u001B[1;32m--> 879\u001B[0m         array \u001B[38;5;241m=\u001B[39m \u001B[43m_asarray_with_order\u001B[49m\u001B[43m(\u001B[49m\u001B[43marray\u001B[49m\u001B[43m,\u001B[49m\u001B[43m \u001B[49m\u001B[43morder\u001B[49m\u001B[38;5;241;43m=\u001B[39;49m\u001B[43morder\u001B[49m\u001B[43m,\u001B[49m\u001B[43m \u001B[49m\u001B[43mdtype\u001B[49m\u001B[38;5;241;43m=\u001B[39;49m\u001B[43mdtype\u001B[49m\u001B[43m,\u001B[49m\u001B[43m \u001B[49m\u001B[43mxp\u001B[49m\u001B[38;5;241;43m=\u001B[39;49m\u001B[43mxp\u001B[49m\u001B[43m)\u001B[49m\n\u001B[0;32m    880\u001B[0m \u001B[38;5;28;01mexcept\u001B[39;00m ComplexWarning \u001B[38;5;28;01mas\u001B[39;00m complex_warning:\n\u001B[0;32m    881\u001B[0m     \u001B[38;5;28;01mraise\u001B[39;00m \u001B[38;5;167;01mValueError\u001B[39;00m(\n\u001B[0;32m    882\u001B[0m         \u001B[38;5;124m\"\u001B[39m\u001B[38;5;124mComplex data not supported\u001B[39m\u001B[38;5;130;01m\\n\u001B[39;00m\u001B[38;5;132;01m{}\u001B[39;00m\u001B[38;5;130;01m\\n\u001B[39;00m\u001B[38;5;124m\"\u001B[39m\u001B[38;5;241m.\u001B[39mformat(array)\n\u001B[0;32m    883\u001B[0m     ) \u001B[38;5;28;01mfrom\u001B[39;00m \u001B[38;5;21;01mcomplex_warning\u001B[39;00m\n",
      "File \u001B[1;32m~\\anaconda3\\envs\\dms\\lib\\site-packages\\sklearn\\utils\\_array_api.py:185\u001B[0m, in \u001B[0;36m_asarray_with_order\u001B[1;34m(array, dtype, order, copy, xp)\u001B[0m\n\u001B[0;32m    182\u001B[0m     xp, _ \u001B[38;5;241m=\u001B[39m get_namespace(array)\n\u001B[0;32m    183\u001B[0m \u001B[38;5;28;01mif\u001B[39;00m xp\u001B[38;5;241m.\u001B[39m\u001B[38;5;18m__name__\u001B[39m \u001B[38;5;129;01min\u001B[39;00m {\u001B[38;5;124m\"\u001B[39m\u001B[38;5;124mnumpy\u001B[39m\u001B[38;5;124m\"\u001B[39m, \u001B[38;5;124m\"\u001B[39m\u001B[38;5;124mnumpy.array_api\u001B[39m\u001B[38;5;124m\"\u001B[39m}:\n\u001B[0;32m    184\u001B[0m     \u001B[38;5;66;03m# Use NumPy API to support order\u001B[39;00m\n\u001B[1;32m--> 185\u001B[0m     array \u001B[38;5;241m=\u001B[39m \u001B[43mnumpy\u001B[49m\u001B[38;5;241;43m.\u001B[39;49m\u001B[43masarray\u001B[49m\u001B[43m(\u001B[49m\u001B[43marray\u001B[49m\u001B[43m,\u001B[49m\u001B[43m \u001B[49m\u001B[43morder\u001B[49m\u001B[38;5;241;43m=\u001B[39;49m\u001B[43morder\u001B[49m\u001B[43m,\u001B[49m\u001B[43m \u001B[49m\u001B[43mdtype\u001B[49m\u001B[38;5;241;43m=\u001B[39;49m\u001B[43mdtype\u001B[49m\u001B[43m)\u001B[49m\n\u001B[0;32m    186\u001B[0m     \u001B[38;5;28;01mreturn\u001B[39;00m xp\u001B[38;5;241m.\u001B[39masarray(array, copy\u001B[38;5;241m=\u001B[39mcopy)\n\u001B[0;32m    187\u001B[0m \u001B[38;5;28;01melse\u001B[39;00m:\n",
      "\u001B[1;31mValueError\u001B[0m: could not convert string to float: 'M1A'"
     ]
    }
   ],
   "source": [
    "fpath = '../DMS_data/P53_HUMAN_Giacomelli_NULL_Etoposide_2018.csv'\n",
    "df = pd.read_csv(fpath)\n",
    "\n",
    "# Distanzmatrix erstellen\n",
    "X=de.dms_distance_matrix(df)\n",
    "\n",
    "#Diagonale enthält NAs, die für Clustering rausgelöscht werden müssen\n",
    "#um zu überprüfen, ob nur die Diagonale NAs enthält, müssen genau 20 NA Werte (die Diagonale) vorliegen\n",
    "if X.isna().sum().sum() == 20:\n",
    "\n",
    "    #vielleicht sollten wir auch mit einer anderen Zahl ersetzen? Ich kann nicht einschätzen, welchen Effekt die Zahl hier auf das Clustering an sich hat...\n",
    "    X=X.fillna(0)\n",
    "\n",
    "else:\n",
    "    print(f'NAs außerhalb der Diagonale!')\n",
    "\n",
    "#Weitere Option: np.fill_diagonal(X,0) kann für Ersetzen von Diagonalen verwendet werden, muss allerdings auf ein Array angewendet werden, funktioniert nicht auf ein DataFrame.\n",
    "\n"
   ],
   "metadata": {
    "collapsed": false,
    "ExecuteTime": {
     "end_time": "2023-06-30T13:40:21.263451Z",
     "start_time": "2023-06-30T13:40:20.391625300Z"
    }
   }
  },
  {
   "cell_type": "code",
   "execution_count": null,
   "outputs": [],
   "source": [
    "# Plotten der geclusterten heatmap\n",
    "sns.clustermap(X, method=\"ward\" ,cmap=\"vlag\")\n",
    "     #‘ward’ minimizes the variance of the clusters being merged.\n",
    "        #‘average’ uses the average of the distances of each observation of the two sets.\n",
    "        #‘complete’ or ‘maximum’ linkage uses the maximum distances between all observations of the two sets.\n",
    "        #‘single’ uses the minimum of the distances between all observations of the two sets.\n",
    "\n",
    "#hier passiert das Clustering in einem Befehl mit der Darstellung"
   ],
   "metadata": {
    "collapsed": false
   }
  },
  {
   "cell_type": "code",
   "execution_count": 8,
   "outputs": [],
   "source": [
    "# Entweder muss n_clusters oder distance_threshold angegeben werden. Ist irgendwie blöd, ich kann beides nicht einschätzen\n",
    "clustering = AgglomerativeClustering(n_clusters=10, distance_threshold=None, linkage='ward').fit(X)\n",
    "labels = clustering.labels_\n",
    "\n",
    "\n",
    "#so wurde zwar das Clustering durchgeführt, aber nicht abgebildet"
   ],
   "metadata": {
    "collapsed": false,
    "ExecuteTime": {
     "end_time": "2023-06-08T23:13:39.606417Z",
     "start_time": "2023-06-08T23:13:39.604814Z"
    }
   }
  }
 ],
 "metadata": {
  "kernelspec": {
   "display_name": "Python 3",
   "language": "python",
   "name": "python3"
  },
  "language_info": {
   "codemirror_mode": {
    "name": "ipython",
    "version": 2
   },
   "file_extension": ".py",
   "mimetype": "text/x-python",
   "name": "python",
   "nbconvert_exporter": "python",
   "pygments_lexer": "ipython2",
   "version": "2.7.6"
  }
 },
 "nbformat": 4,
 "nbformat_minor": 0
}
