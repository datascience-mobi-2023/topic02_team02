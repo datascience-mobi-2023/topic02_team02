{
 "cells": [
  {
   "cell_type": "code",
   "execution_count": 9,
   "outputs": [],
   "source": [
    "# Hier berechne ich einen Distanzmatrix aus den Datensätzen"
   ],
   "metadata": {
    "collapsed": false,
    "ExecuteTime": {
     "end_time": "2023-07-03T17:03:50.243680Z",
     "start_time": "2023-07-03T17:03:50.222104Z"
    }
   }
  },
  {
   "cell_type": "code",
   "execution_count": 16,
   "outputs": [],
   "source": [
    "import pandas as pd\n",
    "import data_cleanup as dc\n",
    "import data_exploration as de"
   ],
   "metadata": {
    "collapsed": false,
    "ExecuteTime": {
     "end_time": "2023-07-03T17:04:40.514057Z",
     "start_time": "2023-07-03T17:04:40.505140Z"
    }
   }
  },
  {
   "cell_type": "code",
   "execution_count": 17,
   "outputs": [],
   "source": [
    "fpath = '../DMS_data/P53_HUMAN_Giacomelli_NULL_Etoposide_2018.csv'\n",
    "df = pd.read_csv(fpath)"
   ],
   "metadata": {
    "collapsed": false,
    "ExecuteTime": {
     "end_time": "2023-07-03T17:04:40.748930Z",
     "start_time": "2023-07-03T17:04:40.702491Z"
    }
   }
  },
  {
   "cell_type": "code",
   "execution_count": 18,
   "outputs": [],
   "source": [
    "# Auftrennen der Mutante in alte und neue AS\n",
    "mutations_df = dc.aufteilung_mut_pos(df)"
   ],
   "metadata": {
    "collapsed": false,
    "ExecuteTime": {
     "end_time": "2023-07-03T17:04:40.905561Z",
     "start_time": "2023-07-03T17:04:40.900740Z"
    }
   }
  },
  {
   "cell_type": "code",
   "execution_count": 19,
   "outputs": [],
   "source": [
    "# Gruppieren der Substitutionen, geordnet erst nach alter und dann nach neuer AS mit Inspiration von ChatGPT (.groupby in der Pandas Dokumentation beschreibt nur das groupen nach einem Parameter)\n",
    "subs_df = mutations_df.groupby([\"AS_old\", \"AS_new\"])\n",
    "\n",
    "# Berechnen des means für jede Kombination\n",
    "mean_scores = subs_df.DMS_score.mean()\n",
    "# Es gibt 380 Möglichkeiten, 20 AS mit Reihenfolge und ohne zurücklegen zu kombinieren. Aus den Mittelwerten dieser 380 möglichen Substitutionen soll nun eine Distanzmatrix erstellt werden."
   ],
   "metadata": {
    "collapsed": false,
    "ExecuteTime": {
     "end_time": "2023-07-03T17:04:41.105352Z",
     "start_time": "2023-07-03T17:04:41.097910Z"
    }
   }
  },
  {
   "cell_type": "code",
   "execution_count": 20,
   "outputs": [
    {
     "name": "stdout",
     "output_type": "stream",
     "text": [
      "Index(['A', 'C', 'D', 'E', 'F', 'G', 'H', 'I', 'K', 'L', 'M', 'N', 'P', 'Q',\n",
      "       'R', 'S', 'T', 'V', 'W', 'Y'],\n",
      "      dtype='object', name='AS_new')\n"
     ]
    }
   ],
   "source": [
    "# Da \"mean_scores\" eine Serie ist, muss diese erst wieder in ein Data Frame umgewandelt werden. Dafür müssen den einzelnen Zeilen wieder konkrete Indizes zugewiesen werden, damit wieder ein Data Frame entsteht.\n",
    "mean_scores_df = mean_scores.reset_index()\n",
    "\n",
    "# Pivot erstellt aus unserer in einem Data Frame aufgelisteten Substitutionen ein Data Frame, das in Form einer Tabelle eine Übersicht der Mittelwerte zeigt. Die Reihen sind die alten AS, die Spalten die neuen AS.\n",
    "mean_substitutions = mean_scores_df.pivot(index=\"AS_old\", columns=\"AS_new\", values= \"DMS_score\")\n",
    "dc.rmv_na(mean_substitutions)\n",
    "\n",
    "print(mean_substitutions.columns)"
   ],
   "metadata": {
    "collapsed": false,
    "ExecuteTime": {
     "end_time": "2023-07-03T17:04:41.310160Z",
     "start_time": "2023-07-03T17:04:41.301837Z"
    }
   }
  },
  {
   "cell_type": "markdown",
   "source": [
    "b### Ergänzungen von Frido für Distanzmatrix"
   ],
   "metadata": {
    "collapsed": false
   }
  },
  {
   "cell_type": "code",
   "execution_count": 21,
   "outputs": [
    {
     "ename": "ValueError",
     "evalue": "Die Funktion 'aufteilung_mut_pos()' muss vorher ausgeführt werden.",
     "output_type": "error",
     "traceback": [
      "\u001B[0;31m---------------------------------------------------------------------------\u001B[0m",
      "\u001B[0;31mValueError\u001B[0m                                Traceback (most recent call last)",
      "Cell \u001B[0;32mIn[21], line 3\u001B[0m\n\u001B[1;32m      1\u001B[0m mean_substitutions\u001B[38;5;241m.\u001B[39mhead(\u001B[38;5;241m20\u001B[39m)\n\u001B[0;32m----> 3\u001B[0m \u001B[43mde\u001B[49m\u001B[38;5;241;43m.\u001B[39;49m\u001B[43mdms_distance_matrix\u001B[49m\u001B[43m(\u001B[49m\u001B[43mmean_substitutions\u001B[49m\u001B[43m)\u001B[49m\n",
      "File \u001B[0;32m~/Documents/GitHub/topic02_team02/data_exploration/statistical_functions.py:51\u001B[0m, in \u001B[0;36mdms_distance_matrix\u001B[0;34m(frame)\u001B[0m\n\u001B[1;32m     49\u001B[0m \u001B[38;5;28;01mdef\u001B[39;00m \u001B[38;5;21mdms_distance_matrix\u001B[39m(frame: pd\u001B[38;5;241m.\u001B[39mDataFrame) \u001B[38;5;241m-\u001B[39m\u001B[38;5;241m>\u001B[39m pd\u001B[38;5;241m.\u001B[39mDataFrame:\n\u001B[1;32m     50\u001B[0m \u001B[38;5;250m    \u001B[39m\u001B[38;5;124;03m\"\"\"calculates the distances of the AA to each other based on the DMS-Scores when interchanged with another AA\"\"\"\u001B[39;00m\n\u001B[0;32m---> 51\u001B[0m     frame_prep \u001B[38;5;241m=\u001B[39m dc\u001B[38;5;241m.\u001B[39mrmv_na(\u001B[43mde\u001B[49m\u001B[38;5;241;43m.\u001B[39;49m\u001B[43mmean_substitutions\u001B[49m\u001B[43m(\u001B[49m\u001B[43mframe\u001B[49m\u001B[43m)\u001B[49m)\n\u001B[1;32m     52\u001B[0m     dms_distances \u001B[38;5;241m=\u001B[39m euclidean_distances(frame_prep\u001B[38;5;241m.\u001B[39mvalues)\n\u001B[1;32m     53\u001B[0m     frame_prep \u001B[38;5;241m=\u001B[39m pd\u001B[38;5;241m.\u001B[39mDataFrame(dms_distances, index\u001B[38;5;241m=\u001B[39mframe_prep\u001B[38;5;241m.\u001B[39mindex, columns\u001B[38;5;241m=\u001B[39mframe_prep\u001B[38;5;241m.\u001B[39mindex)\n",
      "File \u001B[0;32m~/Documents/GitHub/topic02_team02/data_exploration/statistical_functions.py:15\u001B[0m, in \u001B[0;36mmean_substitutions\u001B[0;34m(frame)\u001B[0m\n\u001B[1;32m     13\u001B[0m \u001B[38;5;66;03m# Check for dependencies\u001B[39;00m\n\u001B[1;32m     14\u001B[0m \u001B[38;5;28;01mif\u001B[39;00m \u001B[38;5;124m\"\u001B[39m\u001B[38;5;124mAS_new\u001B[39m\u001B[38;5;124m\"\u001B[39m \u001B[38;5;129;01mnot\u001B[39;00m \u001B[38;5;129;01min\u001B[39;00m frame\u001B[38;5;241m.\u001B[39mcolumns:\n\u001B[0;32m---> 15\u001B[0m     \u001B[38;5;28;01mraise\u001B[39;00m \u001B[38;5;167;01mValueError\u001B[39;00m(\u001B[38;5;124mf\u001B[39m\u001B[38;5;124m\"\u001B[39m\u001B[38;5;124mDie Funktion \u001B[39m\u001B[38;5;124m'\u001B[39m\u001B[38;5;124maufteilung_mut_pos()\u001B[39m\u001B[38;5;124m'\u001B[39m\u001B[38;5;124m muss vorher ausgeführt werden.\u001B[39m\u001B[38;5;124m\"\u001B[39m)\n\u001B[1;32m     17\u001B[0m subs_df \u001B[38;5;241m=\u001B[39m frame\u001B[38;5;241m.\u001B[39mgroupby([\u001B[38;5;124m\"\u001B[39m\u001B[38;5;124mAS_old\u001B[39m\u001B[38;5;124m\"\u001B[39m, \u001B[38;5;124m\"\u001B[39m\u001B[38;5;124mAS_new\u001B[39m\u001B[38;5;124m\"\u001B[39m])\n\u001B[1;32m     18\u001B[0m mean_scores \u001B[38;5;241m=\u001B[39m subs_df\u001B[38;5;241m.\u001B[39mDMS_score\u001B[38;5;241m.\u001B[39mmean()\n",
      "\u001B[0;31mValueError\u001B[0m: Die Funktion 'aufteilung_mut_pos()' muss vorher ausgeführt werden."
     ]
    }
   ],
   "source": [
    "mean_substitutions.head(20)\n",
    "\n",
    "de.dms_distance_matrix(mean_substitutions)"
   ],
   "metadata": {
    "collapsed": false,
    "ExecuteTime": {
     "end_time": "2023-07-03T17:04:41.749642Z",
     "start_time": "2023-07-03T17:04:41.733984Z"
    }
   }
  },
  {
   "cell_type": "code",
   "execution_count": 22,
   "outputs": [],
   "source": [
    "from sklearn.metrics.pairwise import euclidean_distances\n",
    "\n",
    "# Berechnen der Distanzen der AA zueinander\n",
    "dms_distances = euclidean_distances(mean_substitutions.values)\n",
    "\n",
    "# Umwandeln zurück in einen DF zur besseren Übersicht\n",
    "mean_substitutions_df = pd.DataFrame(dms_distances, index=mean_substitutions.index, columns=mean_substitutions.index)\n",
    "\n",
    "# Print the first 20 rows of mean_substitutions\n",
    "mean_substitutions_df.head(20)\n"
   ],
   "metadata": {
    "collapsed": false
   }
  },
  {
   "cell_type": "code",
   "execution_count": 23,
   "outputs": [],
   "source": [
    "mean_substitutions.to_csv('./mean_subst.csv')\n",
    "mean_substitutions_df.to_csv('./mean_subst_df.csv')"
   ],
   "metadata": {
    "collapsed": false
   }
  },
  {
   "cell_type": "markdown",
   "source": [
    "### Kommentar von Enno:\n",
    "Ich glaube du kannst statt mit mean_distances.T einfach mit der Funktion mean_distances_inverted von Dario arbeiten... Ach und kannst du das ganze noch in ne Funktion umschreiben und in statistical functions importieren? Für das AS Datenset hab ich das schon gemacht. Das brauche ich, damit ich das dann schön und sleak in dem Documentations File einfach als eine Funktion benutzen kann. Das wäre niceeee"
   ],
   "metadata": {
    "collapsed": false
   }
  },
  {
   "cell_type": "code",
   "execution_count": null,
   "outputs": [],
   "source": [],
   "metadata": {
    "collapsed": false
   }
  }
 ],
 "metadata": {
  "kernelspec": {
   "display_name": "Python 3",
   "language": "python",
   "name": "python3"
  },
  "language_info": {
   "codemirror_mode": {
    "name": "ipython",
    "version": 2
   },
   "file_extension": ".py",
   "mimetype": "text/x-python",
   "name": "python",
   "nbconvert_exporter": "python",
   "pygments_lexer": "ipython2",
   "version": "2.7.6"
  }
 },
 "nbformat": 4,
 "nbformat_minor": 0
}
