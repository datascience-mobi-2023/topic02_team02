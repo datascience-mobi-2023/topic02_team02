{
 "cells": [
  {
   "cell_type": "code",
   "execution_count": 9,
   "outputs": [],
   "source": [
    "# Hier berechne ich einen Distanzmatrix aus den Datensätzen"
   ],
   "metadata": {
    "collapsed": false,
    "ExecuteTime": {
     "end_time": "2023-07-03T17:39:56.894355Z",
     "start_time": "2023-07-03T17:39:56.882642Z"
    }
   }
  },
  {
   "cell_type": "code",
   "execution_count": 10,
   "outputs": [],
   "source": [
    "import pandas as pd\n",
    "import data_cleanup as dc\n",
    "import data_exploration as de"
   ],
   "metadata": {
    "collapsed": false,
    "ExecuteTime": {
     "end_time": "2023-07-03T17:39:57.384217Z",
     "start_time": "2023-07-03T17:39:57.382018Z"
    }
   }
  },
  {
   "cell_type": "code",
   "execution_count": 11,
   "outputs": [],
   "source": [
    "fpath = '../DMS_data/P53_HUMAN_Giacomelli_NULL_Etoposide_2018.csv'\n",
    "df = pd.read_csv(fpath)"
   ],
   "metadata": {
    "collapsed": false,
    "ExecuteTime": {
     "end_time": "2023-07-03T17:39:58.055219Z",
     "start_time": "2023-07-03T17:39:58.018821Z"
    }
   }
  },
  {
   "cell_type": "code",
   "execution_count": 12,
   "outputs": [],
   "source": [
    "# Auftrennen der Mutante in alte und neue AS\n",
    "mutations_df = dc.aufteilung_mut_pos(df)"
   ],
   "metadata": {
    "collapsed": false,
    "ExecuteTime": {
     "end_time": "2023-07-03T17:39:58.579820Z",
     "start_time": "2023-07-03T17:39:58.564776Z"
    }
   }
  },
  {
   "cell_type": "code",
   "execution_count": 18,
   "outputs": [],
   "source": [
    "# Gruppieren der Substitutionen, geordnet erst nach alter und dann nach neuer AS mit Inspiration von ChatGPT (.groupby in der Pandas Dokumentation beschreibt nur das groupen nach einem Parameter)\n",
    "subs_df = mutations_df.groupby([\"AS_old\", \"AS_new\"])\n",
    "\n",
    "# Berechnen des means für jede Kombination\n",
    "mean_scores = subs_df.DMS_score.mean()\n",
    "# Es gibt 380 Möglichkeiten, 20 AS mit Reihenfolge und ohne zurücklegen zu kombinieren. Aus den Mittelwerten dieser 380 möglichen Substitutionen soll nun eine Distanzmatrix erstellt werden."
   ],
   "metadata": {
    "collapsed": false,
    "ExecuteTime": {
     "end_time": "2023-07-03T17:40:07.462548Z",
     "start_time": "2023-07-03T17:40:07.454582Z"
    }
   }
  },
  {
   "cell_type": "code",
   "execution_count": 19,
   "outputs": [
    {
     "name": "stdout",
     "output_type": "stream",
     "text": [
      "Index(['A', 'C', 'D', 'E', 'F', 'G', 'H', 'I', 'K', 'L', 'M', 'N', 'P', 'Q',\n",
      "       'R', 'S', 'T', 'V', 'W', 'Y'],\n",
      "      dtype='object', name='AS_new')\n"
     ]
    }
   ],
   "source": [
    "# Da \"mean_scores\" eine Serie ist, muss diese erst wieder in ein Data Frame umgewandelt werden. Dafür müssen den einzelnen Zeilen wieder konkrete Indizes zugewiesen werden, damit wieder ein Data Frame entsteht.\n",
    "mean_scores_df = mean_scores.reset_index()\n",
    "\n",
    "# Pivot erstellt aus unserer in einem Data Frame aufgelisteten Substitutionen ein Data Frame, das in Form einer Tabelle eine Übersicht der Mittelwerte zeigt. Die Reihen sind die alten AS, die Spalten die neuen AS.\n",
    "mean_substitutions = mean_scores_df.pivot(index=\"AS_old\", columns=\"AS_new\", values= \"DMS_score\")\n",
    "dc.rmv_na(mean_substitutions)\n",
    "\n",
    "print(mean_substitutions.columns)"
   ],
   "metadata": {
    "collapsed": false,
    "ExecuteTime": {
     "end_time": "2023-07-03T17:40:08.081718Z",
     "start_time": "2023-07-03T17:40:08.074388Z"
    }
   }
  },
  {
   "cell_type": "markdown",
   "source": [
    "b### Ergänzungen von Frido für Distanzmatrix"
   ],
   "metadata": {
    "collapsed": false
   }
  },
  {
   "cell_type": "code",
   "execution_count": 20,
   "outputs": [
    {
     "ename": "ValueError",
     "evalue": "Die Funktion 'aufteilung_mut_pos()' muss vorher ausgeführt werden.",
     "output_type": "error",
     "traceback": [
      "\u001B[0;31m---------------------------------------------------------------------------\u001B[0m",
      "\u001B[0;31mValueError\u001B[0m                                Traceback (most recent call last)",
      "Cell \u001B[0;32mIn[20], line 3\u001B[0m\n\u001B[1;32m      1\u001B[0m mean_substitutions\u001B[38;5;241m.\u001B[39mhead(\u001B[38;5;241m20\u001B[39m)\n\u001B[0;32m----> 3\u001B[0m \u001B[43mde\u001B[49m\u001B[38;5;241;43m.\u001B[39;49m\u001B[43mdms_distance_matrix\u001B[49m\u001B[43m(\u001B[49m\u001B[43mmean_substitutions\u001B[49m\u001B[43m)\u001B[49m\n",
      "File \u001B[0;32m~/Documents/GitHub/topic02_team02/data_exploration/statistical_functions.py:51\u001B[0m, in \u001B[0;36mdms_distance_matrix\u001B[0;34m(frame)\u001B[0m\n\u001B[1;32m     49\u001B[0m \u001B[38;5;28;01mdef\u001B[39;00m \u001B[38;5;21mdms_distance_matrix\u001B[39m(frame: pd\u001B[38;5;241m.\u001B[39mDataFrame) \u001B[38;5;241m-\u001B[39m\u001B[38;5;241m>\u001B[39m pd\u001B[38;5;241m.\u001B[39mDataFrame:\n\u001B[1;32m     50\u001B[0m \u001B[38;5;250m    \u001B[39m\u001B[38;5;124;03m\"\"\"calculates the distances of the AA to each other based on the DMS-Scores when interchanged with another AA\"\"\"\u001B[39;00m\n\u001B[0;32m---> 51\u001B[0m     frame_prep \u001B[38;5;241m=\u001B[39m dc\u001B[38;5;241m.\u001B[39mrmv_na(\u001B[43mde\u001B[49m\u001B[38;5;241;43m.\u001B[39;49m\u001B[43mmean_substitutions\u001B[49m\u001B[43m(\u001B[49m\u001B[43mframe\u001B[49m\u001B[43m)\u001B[49m)\n\u001B[1;32m     52\u001B[0m     dms_distances \u001B[38;5;241m=\u001B[39m euclidean_distances(frame_prep\u001B[38;5;241m.\u001B[39mvalues)\n\u001B[1;32m     53\u001B[0m     frame_prep \u001B[38;5;241m=\u001B[39m pd\u001B[38;5;241m.\u001B[39mDataFrame(dms_distances, index\u001B[38;5;241m=\u001B[39mframe_prep\u001B[38;5;241m.\u001B[39mindex, columns\u001B[38;5;241m=\u001B[39mframe_prep\u001B[38;5;241m.\u001B[39mindex)\n",
      "File \u001B[0;32m~/Documents/GitHub/topic02_team02/data_exploration/statistical_functions.py:15\u001B[0m, in \u001B[0;36mmean_substitutions\u001B[0;34m(frame)\u001B[0m\n\u001B[1;32m     13\u001B[0m \u001B[38;5;66;03m# Check for dependencies\u001B[39;00m\n\u001B[1;32m     14\u001B[0m \u001B[38;5;28;01mif\u001B[39;00m \u001B[38;5;124m\"\u001B[39m\u001B[38;5;124mAS_new\u001B[39m\u001B[38;5;124m\"\u001B[39m \u001B[38;5;129;01mnot\u001B[39;00m \u001B[38;5;129;01min\u001B[39;00m frame\u001B[38;5;241m.\u001B[39mcolumns:\n\u001B[0;32m---> 15\u001B[0m     \u001B[38;5;28;01mraise\u001B[39;00m \u001B[38;5;167;01mValueError\u001B[39;00m(\u001B[38;5;124mf\u001B[39m\u001B[38;5;124m\"\u001B[39m\u001B[38;5;124mDie Funktion \u001B[39m\u001B[38;5;124m'\u001B[39m\u001B[38;5;124maufteilung_mut_pos()\u001B[39m\u001B[38;5;124m'\u001B[39m\u001B[38;5;124m muss vorher ausgeführt werden.\u001B[39m\u001B[38;5;124m\"\u001B[39m)\n\u001B[1;32m     17\u001B[0m subs_df \u001B[38;5;241m=\u001B[39m frame\u001B[38;5;241m.\u001B[39mgroupby([\u001B[38;5;124m\"\u001B[39m\u001B[38;5;124mAS_old\u001B[39m\u001B[38;5;124m\"\u001B[39m, \u001B[38;5;124m\"\u001B[39m\u001B[38;5;124mAS_new\u001B[39m\u001B[38;5;124m\"\u001B[39m])\n\u001B[1;32m     18\u001B[0m mean_scores \u001B[38;5;241m=\u001B[39m subs_df\u001B[38;5;241m.\u001B[39mDMS_score\u001B[38;5;241m.\u001B[39mmean()\n",
      "\u001B[0;31mValueError\u001B[0m: Die Funktion 'aufteilung_mut_pos()' muss vorher ausgeführt werden."
     ]
    }
   ],
   "source": [
    "mean_substitutions.head(20)\n",
    "\n",
    "de.dms_distance_matrix(mean_substitutions)"
   ],
   "metadata": {
    "collapsed": false,
    "ExecuteTime": {
     "end_time": "2023-07-03T17:40:09.570336Z",
     "start_time": "2023-07-03T17:40:09.513602Z"
    }
   }
  },
  {
   "cell_type": "code",
   "execution_count": 16,
   "outputs": [
    {
     "data": {
      "text/plain": "AS_old         A         C         D         E         F         G         H   \nAS_old                                                                         \nA       0.000000  5.118419  1.001127  0.950791  3.865506  1.093999  1.727396  \\\nC       5.118419  0.000000  5.157128  5.225621  2.266408  4.671423  4.215585   \nD       1.001127  5.157128  0.000000  0.981280  3.758420  1.082337  1.656670   \nE       0.950791  5.225621  0.981280  0.000000  3.851885  0.958826  1.639293   \nF       3.865506  2.266408  3.758420  3.851885  0.000000  3.462147  2.805199   \nG       1.093999  4.671423  1.082337  0.958826  3.462147  0.000000  1.322393   \nH       1.727396  4.215585  1.656670  1.639293  2.805199  1.322393  0.000000   \nI       5.869602  2.799431  6.041829  5.929282  3.117083  5.478072  5.192499   \nK       1.354001  5.807398  1.354857  1.079586  4.394297  1.584928  2.217342   \nL       1.858657  4.018940  2.016012  1.820398  2.539148  1.630219  1.468733   \nM       1.982457  3.878780  1.948455  1.895125  2.594098  1.579012  1.719725   \nN       1.449749  4.844397  1.268876  1.302363  3.492566  1.216704  1.441529   \nP       0.619728  5.130724  0.886359  0.923046  3.820806  0.958718  1.681892   \nQ       1.422936  6.064423  1.481424  1.366785  4.605781  1.847809  2.346398   \nR       2.382516  3.461968  2.328884  2.307710  2.295875  1.846426  1.849399   \nS       0.879574  5.276711  0.981295  1.034484  3.973795  1.157093  1.679055   \nT       1.428805  4.375534  1.516787  1.386531  3.162375  1.073299  1.373227   \nV       3.844111  2.457430  3.841171  3.846769  1.985099  3.380896  3.283270   \nW       2.678816  3.015105  2.628414  2.680332  2.091920  2.270993  1.932457   \nY       5.224924  2.006232  5.168214  5.261142  2.351548  4.789685  4.188192   \n\nAS_old         I         K         L         M         N         P         Q   \nAS_old                                                                         \nA       5.869602  1.354001  1.858657  1.982457  1.449749  0.619728  1.422936  \\\nC       2.799431  5.807398  4.018940  3.878780  4.844397  5.130724  6.064423   \nD       6.041829  1.354857  2.016012  1.948455  1.268876  0.886359  1.481424   \nE       5.929282  1.079586  1.820398  1.895125  1.302363  0.923046  1.366785   \nF       3.117083  4.394297  2.539148  2.594098  3.492566  3.820806  4.605781   \nG       5.478072  1.584928  1.630219  1.579012  1.216704  0.958718  1.847809   \nH       5.192499  2.217342  1.468733  1.719725  1.441529  1.681892  2.346398   \nI       0.000000  6.404813  4.593600  4.560649  5.714493  5.889325  6.628173   \nK       6.404813  0.000000  2.334108  2.444159  1.628534  1.270695  1.173660   \nL       4.593600  2.334108  0.000000  1.411209  1.904752  1.821470  2.641414   \nM       4.560649  2.444159  1.411209  0.000000  1.708736  1.977489  2.749234   \nN       5.714493  1.628534  1.904752  1.708736  0.000000  1.360297  1.698381   \nP       5.889325  1.270695  1.821470  1.977489  1.360297  0.000000  1.296426   \nQ       6.628173  1.173660  2.641414  2.749234  1.698381  1.296426  0.000000   \nR       4.191128  2.859190  1.651514  1.186636  1.991329  2.223477  3.056467   \nS       6.130616  1.243476  1.970667  2.119863  1.412119  0.569588  1.235255   \nT       5.075546  1.835478  1.508891  1.300202  1.330474  1.399877  2.120157   \nV       2.830290  4.438679  2.683475  2.433833  3.659424  3.876165  4.741112   \nW       4.264680  3.420946  1.860435  1.657435  2.547367  2.725597  3.700534   \nY       3.487852  5.984730  4.185850  4.206093  4.965471  5.251457  6.097839   \n\nAS_old         R         S         T         V         W         Y  \nAS_old                                                              \nA       2.382516  0.879574  1.428805  3.844111  2.678816  5.224924  \nC       3.461968  5.276711  4.375534  2.457430  3.015105  2.006232  \nD       2.328884  0.981295  1.516787  3.841171  2.628414  5.168214  \nE       2.307710  1.034484  1.386531  3.846769  2.680332  5.261142  \nF       2.295875  3.973795  3.162375  1.985099  2.091920  2.351548  \nG       1.846426  1.157093  1.073299  3.380896  2.270993  4.789685  \nH       1.849399  1.679055  1.373227  3.283270  1.932457  4.188192  \nI       4.191128  6.130616  5.075546  2.830290  4.264680  3.487852  \nK       2.859190  1.243476  1.835478  4.438679  3.420946  5.984730  \nL       1.651514  1.970667  1.508891  2.683475  1.860435  4.185850  \nM       1.186636  2.119863  1.300202  2.433833  1.657435  4.206093  \nN       1.991329  1.412119  1.330474  3.659424  2.547367  4.965471  \nP       2.223477  0.569588  1.399877  3.876165  2.725597  5.251457  \nQ       3.056467  1.235255  2.120157  4.741112  3.700534  6.097839  \nR       0.000000  2.412057  1.480730  2.450930  1.552885  3.889725  \nS       2.412057  0.000000  1.535992  4.063649  2.868598  5.435527  \nT       1.480730  1.535992  0.000000  3.108446  2.142796  4.757717  \nV       2.450930  4.063649  3.108446  0.000000  2.189338  2.955542  \nW       1.552885  2.868598  2.142796  2.189338  0.000000  3.131668  \nY       3.889725  5.435527  4.757717  2.955542  3.131668  0.000000  ",
      "text/html": "<div>\n<style scoped>\n    .dataframe tbody tr th:only-of-type {\n        vertical-align: middle;\n    }\n\n    .dataframe tbody tr th {\n        vertical-align: top;\n    }\n\n    .dataframe thead th {\n        text-align: right;\n    }\n</style>\n<table border=\"1\" class=\"dataframe\">\n  <thead>\n    <tr style=\"text-align: right;\">\n      <th>AS_old</th>\n      <th>A</th>\n      <th>C</th>\n      <th>D</th>\n      <th>E</th>\n      <th>F</th>\n      <th>G</th>\n      <th>H</th>\n      <th>I</th>\n      <th>K</th>\n      <th>L</th>\n      <th>M</th>\n      <th>N</th>\n      <th>P</th>\n      <th>Q</th>\n      <th>R</th>\n      <th>S</th>\n      <th>T</th>\n      <th>V</th>\n      <th>W</th>\n      <th>Y</th>\n    </tr>\n    <tr>\n      <th>AS_old</th>\n      <th></th>\n      <th></th>\n      <th></th>\n      <th></th>\n      <th></th>\n      <th></th>\n      <th></th>\n      <th></th>\n      <th></th>\n      <th></th>\n      <th></th>\n      <th></th>\n      <th></th>\n      <th></th>\n      <th></th>\n      <th></th>\n      <th></th>\n      <th></th>\n      <th></th>\n      <th></th>\n    </tr>\n  </thead>\n  <tbody>\n    <tr>\n      <th>A</th>\n      <td>0.000000</td>\n      <td>5.118419</td>\n      <td>1.001127</td>\n      <td>0.950791</td>\n      <td>3.865506</td>\n      <td>1.093999</td>\n      <td>1.727396</td>\n      <td>5.869602</td>\n      <td>1.354001</td>\n      <td>1.858657</td>\n      <td>1.982457</td>\n      <td>1.449749</td>\n      <td>0.619728</td>\n      <td>1.422936</td>\n      <td>2.382516</td>\n      <td>0.879574</td>\n      <td>1.428805</td>\n      <td>3.844111</td>\n      <td>2.678816</td>\n      <td>5.224924</td>\n    </tr>\n    <tr>\n      <th>C</th>\n      <td>5.118419</td>\n      <td>0.000000</td>\n      <td>5.157128</td>\n      <td>5.225621</td>\n      <td>2.266408</td>\n      <td>4.671423</td>\n      <td>4.215585</td>\n      <td>2.799431</td>\n      <td>5.807398</td>\n      <td>4.018940</td>\n      <td>3.878780</td>\n      <td>4.844397</td>\n      <td>5.130724</td>\n      <td>6.064423</td>\n      <td>3.461968</td>\n      <td>5.276711</td>\n      <td>4.375534</td>\n      <td>2.457430</td>\n      <td>3.015105</td>\n      <td>2.006232</td>\n    </tr>\n    <tr>\n      <th>D</th>\n      <td>1.001127</td>\n      <td>5.157128</td>\n      <td>0.000000</td>\n      <td>0.981280</td>\n      <td>3.758420</td>\n      <td>1.082337</td>\n      <td>1.656670</td>\n      <td>6.041829</td>\n      <td>1.354857</td>\n      <td>2.016012</td>\n      <td>1.948455</td>\n      <td>1.268876</td>\n      <td>0.886359</td>\n      <td>1.481424</td>\n      <td>2.328884</td>\n      <td>0.981295</td>\n      <td>1.516787</td>\n      <td>3.841171</td>\n      <td>2.628414</td>\n      <td>5.168214</td>\n    </tr>\n    <tr>\n      <th>E</th>\n      <td>0.950791</td>\n      <td>5.225621</td>\n      <td>0.981280</td>\n      <td>0.000000</td>\n      <td>3.851885</td>\n      <td>0.958826</td>\n      <td>1.639293</td>\n      <td>5.929282</td>\n      <td>1.079586</td>\n      <td>1.820398</td>\n      <td>1.895125</td>\n      <td>1.302363</td>\n      <td>0.923046</td>\n      <td>1.366785</td>\n      <td>2.307710</td>\n      <td>1.034484</td>\n      <td>1.386531</td>\n      <td>3.846769</td>\n      <td>2.680332</td>\n      <td>5.261142</td>\n    </tr>\n    <tr>\n      <th>F</th>\n      <td>3.865506</td>\n      <td>2.266408</td>\n      <td>3.758420</td>\n      <td>3.851885</td>\n      <td>0.000000</td>\n      <td>3.462147</td>\n      <td>2.805199</td>\n      <td>3.117083</td>\n      <td>4.394297</td>\n      <td>2.539148</td>\n      <td>2.594098</td>\n      <td>3.492566</td>\n      <td>3.820806</td>\n      <td>4.605781</td>\n      <td>2.295875</td>\n      <td>3.973795</td>\n      <td>3.162375</td>\n      <td>1.985099</td>\n      <td>2.091920</td>\n      <td>2.351548</td>\n    </tr>\n    <tr>\n      <th>G</th>\n      <td>1.093999</td>\n      <td>4.671423</td>\n      <td>1.082337</td>\n      <td>0.958826</td>\n      <td>3.462147</td>\n      <td>0.000000</td>\n      <td>1.322393</td>\n      <td>5.478072</td>\n      <td>1.584928</td>\n      <td>1.630219</td>\n      <td>1.579012</td>\n      <td>1.216704</td>\n      <td>0.958718</td>\n      <td>1.847809</td>\n      <td>1.846426</td>\n      <td>1.157093</td>\n      <td>1.073299</td>\n      <td>3.380896</td>\n      <td>2.270993</td>\n      <td>4.789685</td>\n    </tr>\n    <tr>\n      <th>H</th>\n      <td>1.727396</td>\n      <td>4.215585</td>\n      <td>1.656670</td>\n      <td>1.639293</td>\n      <td>2.805199</td>\n      <td>1.322393</td>\n      <td>0.000000</td>\n      <td>5.192499</td>\n      <td>2.217342</td>\n      <td>1.468733</td>\n      <td>1.719725</td>\n      <td>1.441529</td>\n      <td>1.681892</td>\n      <td>2.346398</td>\n      <td>1.849399</td>\n      <td>1.679055</td>\n      <td>1.373227</td>\n      <td>3.283270</td>\n      <td>1.932457</td>\n      <td>4.188192</td>\n    </tr>\n    <tr>\n      <th>I</th>\n      <td>5.869602</td>\n      <td>2.799431</td>\n      <td>6.041829</td>\n      <td>5.929282</td>\n      <td>3.117083</td>\n      <td>5.478072</td>\n      <td>5.192499</td>\n      <td>0.000000</td>\n      <td>6.404813</td>\n      <td>4.593600</td>\n      <td>4.560649</td>\n      <td>5.714493</td>\n      <td>5.889325</td>\n      <td>6.628173</td>\n      <td>4.191128</td>\n      <td>6.130616</td>\n      <td>5.075546</td>\n      <td>2.830290</td>\n      <td>4.264680</td>\n      <td>3.487852</td>\n    </tr>\n    <tr>\n      <th>K</th>\n      <td>1.354001</td>\n      <td>5.807398</td>\n      <td>1.354857</td>\n      <td>1.079586</td>\n      <td>4.394297</td>\n      <td>1.584928</td>\n      <td>2.217342</td>\n      <td>6.404813</td>\n      <td>0.000000</td>\n      <td>2.334108</td>\n      <td>2.444159</td>\n      <td>1.628534</td>\n      <td>1.270695</td>\n      <td>1.173660</td>\n      <td>2.859190</td>\n      <td>1.243476</td>\n      <td>1.835478</td>\n      <td>4.438679</td>\n      <td>3.420946</td>\n      <td>5.984730</td>\n    </tr>\n    <tr>\n      <th>L</th>\n      <td>1.858657</td>\n      <td>4.018940</td>\n      <td>2.016012</td>\n      <td>1.820398</td>\n      <td>2.539148</td>\n      <td>1.630219</td>\n      <td>1.468733</td>\n      <td>4.593600</td>\n      <td>2.334108</td>\n      <td>0.000000</td>\n      <td>1.411209</td>\n      <td>1.904752</td>\n      <td>1.821470</td>\n      <td>2.641414</td>\n      <td>1.651514</td>\n      <td>1.970667</td>\n      <td>1.508891</td>\n      <td>2.683475</td>\n      <td>1.860435</td>\n      <td>4.185850</td>\n    </tr>\n    <tr>\n      <th>M</th>\n      <td>1.982457</td>\n      <td>3.878780</td>\n      <td>1.948455</td>\n      <td>1.895125</td>\n      <td>2.594098</td>\n      <td>1.579012</td>\n      <td>1.719725</td>\n      <td>4.560649</td>\n      <td>2.444159</td>\n      <td>1.411209</td>\n      <td>0.000000</td>\n      <td>1.708736</td>\n      <td>1.977489</td>\n      <td>2.749234</td>\n      <td>1.186636</td>\n      <td>2.119863</td>\n      <td>1.300202</td>\n      <td>2.433833</td>\n      <td>1.657435</td>\n      <td>4.206093</td>\n    </tr>\n    <tr>\n      <th>N</th>\n      <td>1.449749</td>\n      <td>4.844397</td>\n      <td>1.268876</td>\n      <td>1.302363</td>\n      <td>3.492566</td>\n      <td>1.216704</td>\n      <td>1.441529</td>\n      <td>5.714493</td>\n      <td>1.628534</td>\n      <td>1.904752</td>\n      <td>1.708736</td>\n      <td>0.000000</td>\n      <td>1.360297</td>\n      <td>1.698381</td>\n      <td>1.991329</td>\n      <td>1.412119</td>\n      <td>1.330474</td>\n      <td>3.659424</td>\n      <td>2.547367</td>\n      <td>4.965471</td>\n    </tr>\n    <tr>\n      <th>P</th>\n      <td>0.619728</td>\n      <td>5.130724</td>\n      <td>0.886359</td>\n      <td>0.923046</td>\n      <td>3.820806</td>\n      <td>0.958718</td>\n      <td>1.681892</td>\n      <td>5.889325</td>\n      <td>1.270695</td>\n      <td>1.821470</td>\n      <td>1.977489</td>\n      <td>1.360297</td>\n      <td>0.000000</td>\n      <td>1.296426</td>\n      <td>2.223477</td>\n      <td>0.569588</td>\n      <td>1.399877</td>\n      <td>3.876165</td>\n      <td>2.725597</td>\n      <td>5.251457</td>\n    </tr>\n    <tr>\n      <th>Q</th>\n      <td>1.422936</td>\n      <td>6.064423</td>\n      <td>1.481424</td>\n      <td>1.366785</td>\n      <td>4.605781</td>\n      <td>1.847809</td>\n      <td>2.346398</td>\n      <td>6.628173</td>\n      <td>1.173660</td>\n      <td>2.641414</td>\n      <td>2.749234</td>\n      <td>1.698381</td>\n      <td>1.296426</td>\n      <td>0.000000</td>\n      <td>3.056467</td>\n      <td>1.235255</td>\n      <td>2.120157</td>\n      <td>4.741112</td>\n      <td>3.700534</td>\n      <td>6.097839</td>\n    </tr>\n    <tr>\n      <th>R</th>\n      <td>2.382516</td>\n      <td>3.461968</td>\n      <td>2.328884</td>\n      <td>2.307710</td>\n      <td>2.295875</td>\n      <td>1.846426</td>\n      <td>1.849399</td>\n      <td>4.191128</td>\n      <td>2.859190</td>\n      <td>1.651514</td>\n      <td>1.186636</td>\n      <td>1.991329</td>\n      <td>2.223477</td>\n      <td>3.056467</td>\n      <td>0.000000</td>\n      <td>2.412057</td>\n      <td>1.480730</td>\n      <td>2.450930</td>\n      <td>1.552885</td>\n      <td>3.889725</td>\n    </tr>\n    <tr>\n      <th>S</th>\n      <td>0.879574</td>\n      <td>5.276711</td>\n      <td>0.981295</td>\n      <td>1.034484</td>\n      <td>3.973795</td>\n      <td>1.157093</td>\n      <td>1.679055</td>\n      <td>6.130616</td>\n      <td>1.243476</td>\n      <td>1.970667</td>\n      <td>2.119863</td>\n      <td>1.412119</td>\n      <td>0.569588</td>\n      <td>1.235255</td>\n      <td>2.412057</td>\n      <td>0.000000</td>\n      <td>1.535992</td>\n      <td>4.063649</td>\n      <td>2.868598</td>\n      <td>5.435527</td>\n    </tr>\n    <tr>\n      <th>T</th>\n      <td>1.428805</td>\n      <td>4.375534</td>\n      <td>1.516787</td>\n      <td>1.386531</td>\n      <td>3.162375</td>\n      <td>1.073299</td>\n      <td>1.373227</td>\n      <td>5.075546</td>\n      <td>1.835478</td>\n      <td>1.508891</td>\n      <td>1.300202</td>\n      <td>1.330474</td>\n      <td>1.399877</td>\n      <td>2.120157</td>\n      <td>1.480730</td>\n      <td>1.535992</td>\n      <td>0.000000</td>\n      <td>3.108446</td>\n      <td>2.142796</td>\n      <td>4.757717</td>\n    </tr>\n    <tr>\n      <th>V</th>\n      <td>3.844111</td>\n      <td>2.457430</td>\n      <td>3.841171</td>\n      <td>3.846769</td>\n      <td>1.985099</td>\n      <td>3.380896</td>\n      <td>3.283270</td>\n      <td>2.830290</td>\n      <td>4.438679</td>\n      <td>2.683475</td>\n      <td>2.433833</td>\n      <td>3.659424</td>\n      <td>3.876165</td>\n      <td>4.741112</td>\n      <td>2.450930</td>\n      <td>4.063649</td>\n      <td>3.108446</td>\n      <td>0.000000</td>\n      <td>2.189338</td>\n      <td>2.955542</td>\n    </tr>\n    <tr>\n      <th>W</th>\n      <td>2.678816</td>\n      <td>3.015105</td>\n      <td>2.628414</td>\n      <td>2.680332</td>\n      <td>2.091920</td>\n      <td>2.270993</td>\n      <td>1.932457</td>\n      <td>4.264680</td>\n      <td>3.420946</td>\n      <td>1.860435</td>\n      <td>1.657435</td>\n      <td>2.547367</td>\n      <td>2.725597</td>\n      <td>3.700534</td>\n      <td>1.552885</td>\n      <td>2.868598</td>\n      <td>2.142796</td>\n      <td>2.189338</td>\n      <td>0.000000</td>\n      <td>3.131668</td>\n    </tr>\n    <tr>\n      <th>Y</th>\n      <td>5.224924</td>\n      <td>2.006232</td>\n      <td>5.168214</td>\n      <td>5.261142</td>\n      <td>2.351548</td>\n      <td>4.789685</td>\n      <td>4.188192</td>\n      <td>3.487852</td>\n      <td>5.984730</td>\n      <td>4.185850</td>\n      <td>4.206093</td>\n      <td>4.965471</td>\n      <td>5.251457</td>\n      <td>6.097839</td>\n      <td>3.889725</td>\n      <td>5.435527</td>\n      <td>4.757717</td>\n      <td>2.955542</td>\n      <td>3.131668</td>\n      <td>0.000000</td>\n    </tr>\n  </tbody>\n</table>\n</div>"
     },
     "execution_count": 16,
     "metadata": {},
     "output_type": "execute_result"
    }
   ],
   "source": [
    "from sklearn.metrics.pairwise import euclidean_distances\n",
    "\n",
    "# Berechnen der Distanzen der AA zueinander\n",
    "dms_distances = euclidean_distances(mean_substitutions.values)\n",
    "\n",
    "# Umwandeln zurück in einen DF zur besseren Übersicht\n",
    "mean_substitutions_df = pd.DataFrame(dms_distances, index=mean_substitutions.index, columns=mean_substitutions.index)\n",
    "\n",
    "# Print the first 20 rows of mean_substitutions\n",
    "mean_substitutions_df.head(20)\n"
   ],
   "metadata": {
    "collapsed": false,
    "ExecuteTime": {
     "end_time": "2023-07-03T17:40:02.382493Z",
     "start_time": "2023-07-03T17:40:02.371932Z"
    }
   }
  },
  {
   "cell_type": "code",
   "execution_count": 17,
   "outputs": [],
   "source": [
    "mean_substitutions.to_csv('./mean_subst.csv')\n",
    "mean_substitutions_df.to_csv('./mean_subst_df.csv')"
   ],
   "metadata": {
    "collapsed": false,
    "ExecuteTime": {
     "end_time": "2023-07-03T17:40:03.521390Z",
     "start_time": "2023-07-03T17:40:03.514190Z"
    }
   }
  },
  {
   "cell_type": "markdown",
   "source": [
    "### Kommentar von Enno:\n",
    "Ich glaube du kannst statt mit mean_distances.T einfach mit der Funktion mean_distances_inverted von Dario arbeiten... Ach und kannst du das ganze noch in ne Funktion umschreiben und in statistical functions importieren? Für das AS Datenset hab ich das schon gemacht. Das brauche ich, damit ich das dann schön und sleak in dem Documentations File einfach als eine Funktion benutzen kann. Das wäre niceeee"
   ],
   "metadata": {
    "collapsed": false
   }
  },
  {
   "cell_type": "code",
   "execution_count": null,
   "outputs": [],
   "source": [],
   "metadata": {
    "collapsed": false
   }
  }
 ],
 "metadata": {
  "kernelspec": {
   "display_name": "Python 3",
   "language": "python",
   "name": "python3"
  },
  "language_info": {
   "codemirror_mode": {
    "name": "ipython",
    "version": 2
   },
   "file_extension": ".py",
   "mimetype": "text/x-python",
   "name": "python",
   "nbconvert_exporter": "python",
   "pygments_lexer": "ipython2",
   "version": "2.7.6"
  }
 },
 "nbformat": 4,
 "nbformat_minor": 0
}
