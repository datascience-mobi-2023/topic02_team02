{
 "cells": [
  {
   "cell_type": "code",
   "execution_count": 7,
   "outputs": [],
   "source": [
    "# Hier berechne ich einen Mittelwert für jede Substitution"
   ],
   "metadata": {
    "collapsed": false,
    "ExecuteTime": {
     "start_time": "2023-06-14T15:33:44.425702Z",
     "end_time": "2023-06-14T15:33:44.427117Z"
    }
   }
  },
  {
   "cell_type": "code",
   "execution_count": 8,
   "outputs": [],
   "source": [
    "import pandas as pd\n",
    "import data_cleanup as dc\n",
    "import data_exploration as de"
   ],
   "metadata": {
    "collapsed": false,
    "ExecuteTime": {
     "start_time": "2023-06-14T15:33:44.431900Z",
     "end_time": "2023-06-14T15:33:44.434569Z"
    }
   }
  },
  {
   "cell_type": "code",
   "execution_count": 9,
   "outputs": [],
   "source": [
    "fpath = '../DMS_data/P53_HUMAN_Giacomelli_NULL_Etoposide_2018.csv'\n",
    "df = pd.read_csv(fpath)\n"
   ],
   "metadata": {
    "collapsed": false,
    "ExecuteTime": {
     "start_time": "2023-06-14T15:33:45.145579Z",
     "end_time": "2023-06-14T15:33:45.181296Z"
    }
   }
  },
  {
   "cell_type": "code",
   "execution_count": 10,
   "outputs": [],
   "source": [
    "# Auftrennen der Mutante in alte und neue AS\n",
    "mutations_df = dc.aufteilung_mut_pos(df)"
   ],
   "metadata": {
    "collapsed": false,
    "ExecuteTime": {
     "start_time": "2023-06-14T15:33:45.877787Z",
     "end_time": "2023-06-14T15:33:45.889326Z"
    }
   }
  },
  {
   "cell_type": "code",
   "execution_count": 19,
   "outputs": [],
   "source": [
    "# Gruppieren der Substitutionen, geordnet erst nach alter und dann nach neuer AS mit Inspiration von ChatGPT (.groupby in der Pandas Dokumentation beschreibt nur das groupen nach einem Parameter)\n",
    "subs_df = mutations_df.groupby([\"AS_old\", \"AS_new\"])\n",
    "\n",
    "# Berechnen des means für jede Kombination\n",
    "mean_scores = subs_df.DMS_score.mean()\n",
    "# Es gibt 380 Möglichkeiten, 20 AS mit Reihenfolge und ohne zurücklegen zu kombinieren. Aus den Mittelwerten dieser 380 möglichen Substitutionen soll nun eine Distanzmatrix erstellt werden."
   ],
   "metadata": {
    "collapsed": false,
    "ExecuteTime": {
     "start_time": "2023-06-14T15:41:10.850742Z",
     "end_time": "2023-06-14T15:41:10.857654Z"
    }
   }
  },
  {
   "cell_type": "code",
   "execution_count": 32,
   "outputs": [
    {
     "name": "stdout",
     "output_type": "stream",
     "text": [
      "Index(['A', 'C', 'D', 'E', 'F', 'G', 'H', 'I', 'K', 'L', 'M', 'N', 'P', 'Q',\n",
      "       'R', 'S', 'T', 'V', 'W', 'Y'],\n",
      "      dtype='object', name='AS_new')\n"
     ]
    }
   ],
   "source": [
    "# Da \"mean_scores\" eine Serie ist, muss diese erst wieder in ein Data Frame umgewandelt werden. Dafür müssen den einzelnen Zeilen wieder konkrete Indizes zugewiesen werden, damit wieder ein Data Frame entsteht.\n",
    "mean_scores_df = mean_scores.reset_index()\n",
    "\n",
    "# Pivot erstellt aus unserer in einem Data Frame aufgelisteten Substitutionen ein Data Frame, das in Form einer Tabelle eine Übersicht der Mittelwerte zeigt. Die Reihen sind die alten AS, die Spalten die neuen AS.\n",
    "mean_substitutions = mean_scores_df.pivot(index=\"AS_old\", columns=\"AS_new\", values= \"DMS_score\")\n",
    "dc.rmv_na(mean_substitutions)\n",
    "\n",
    "print(mean_substitutions.columns)"
   ],
   "metadata": {
    "collapsed": false,
    "ExecuteTime": {
     "start_time": "2023-06-14T15:48:21.335670Z",
     "end_time": "2023-06-14T15:48:21.352449Z"
    }
   }
  },
  {
   "cell_type": "markdown",
   "source": [
    "### Ergänzungen von Frido für Distanzmatrix"
   ],
   "metadata": {
    "collapsed": false
   }
  },
  {
   "cell_type": "code",
   "execution_count": 39,
   "outputs": [
    {
     "data": {
      "text/plain": "AS_new         A         C         D         E         F         G         H  \\\nAS_new                                                                         \nA       0.000000  1.870447  2.057424  1.677953  2.074712  1.800098  1.616680   \nC       1.870447  0.000000  2.932487  2.646722  1.435872  2.400857  2.179488   \nD       2.057424  2.932487  0.000000  1.147741  2.851973  1.623479  1.562002   \nE       1.677953  2.646722  1.147741  0.000000  2.716283  1.383653  1.591554   \nF       2.074712  1.435872  2.851973  2.716283  0.000000  2.604831  1.940718   \nG       1.800098  2.400857  1.623479  1.383653  2.604831  0.000000  1.812648   \nH       1.616680  2.179488  1.562002  1.591554  1.940718  1.812648  0.000000   \nI       1.972078  1.457241  3.116516  2.687395  1.640068  2.646116  2.420617   \nK       1.663155  2.341538  1.675408  1.266700  2.634391  1.241790  1.625366   \nL       1.731438  1.861285  2.846908  2.444568  1.889827  2.267662  2.212610   \nM       2.464359  1.543734  3.331162  3.072152  1.739786  2.792097  2.622430   \nN       1.605218  1.546109  1.705688  1.613702  1.771891  1.595640  1.331438   \nP       2.599323  3.430827  1.851973  1.688013  3.318476  1.669550  2.415598   \nQ       1.324979  2.037637  1.845346  1.448361  2.286170  1.808504  1.438266   \nR       1.734199  2.128601  1.894457  1.697370  2.310283  1.539402  1.746828   \nS       1.334446  1.433622  2.039805  1.790569  1.752132  1.626238  1.538785   \nT       1.719908  1.808142  2.226007  1.874593  2.095080  1.924800  1.981881   \nV       2.085699  1.330392  3.020563  2.744142  1.503799  2.621017  2.435773   \nW       1.770016  2.086560  1.912520  1.711126  1.734475  1.822127  1.111196   \nY       1.858589  1.847943  2.303482  2.160131  1.324595  2.155682  1.259381   \n\nAS_new         I         K         L         M         N         P         Q  \\\nAS_new                                                                         \nA       1.972078  1.663155  1.731438  2.464359  1.605218  2.599323  1.324979   \nC       1.457241  2.341538  1.861285  1.543734  1.546109  3.430827  2.037637   \nD       3.116516  1.675408  2.846908  3.331162  1.705688  1.851973  1.845346   \nE       2.687395  1.266700  2.444568  3.072152  1.613702  1.688013  1.448361   \nF       1.640068  2.634391  1.889827  1.739786  1.771891  3.318476  2.286170   \nG       2.646116  1.241790  2.267662  2.792097  1.595640  1.669550  1.808504   \nH       2.420617  1.625366  2.212610  2.622430  1.331438  2.415598  1.438266   \nI       0.000000  2.528704  1.504370  1.357431  2.109293  3.210016  2.202334   \nK       2.528704  0.000000  2.065978  2.711528  1.464649  2.097893  1.391438   \nL       1.504370  2.065978  0.000000  1.329744  1.942971  2.858723  2.105607   \nM       1.357431  2.711528  1.329744  0.000000  2.076730  3.472305  2.573854   \nN       2.109293  1.464649  1.942971  2.076730  0.000000  2.438327  1.303982   \nP       3.210016  2.097893  2.858723  3.472305  2.438327  0.000000  2.276721   \nQ       2.202334  1.391438  2.105607  2.573854  1.303982  2.276721  0.000000   \nR       2.317928  1.339549  2.167016  2.604194  1.534418  2.084335  1.206475   \nS       1.955986  1.518363  1.824881  2.274703  1.264255  2.467711  1.329373   \nT       1.579251  1.716352  1.656438  2.122515  1.604616  2.407898  1.786966   \nV       0.918103  2.545937  1.319766  0.939865  1.918190  3.226790  2.361544   \nW       2.373551  1.814540  2.247970  2.612387  1.395493  2.434034  1.467078   \nY       2.249416  2.160693  2.243036  2.369041  1.486437  3.003647  1.752471   \n\nAS_new         R         S         T         V         W         Y  \nAS_new                                                              \nA       1.734199  1.334446  1.719908  2.085699  1.770016  1.858589  \nC       2.128601  1.433622  1.808142  1.330392  2.086560  1.847943  \nD       1.894457  2.039805  2.226007  3.020563  1.912520  2.303482  \nE       1.697370  1.790569  1.874593  2.744142  1.711126  2.160131  \nF       2.310283  1.752132  2.095080  1.503799  1.734475  1.324595  \nG       1.539402  1.626238  1.924800  2.621017  1.822127  2.155682  \nH       1.746828  1.538785  1.981881  2.435773  1.111196  1.259381  \nI       2.317928  1.955986  1.579251  0.918103  2.373551  2.249416  \nK       1.339549  1.518363  1.716352  2.545937  1.814540  2.160693  \nL       2.167016  1.824881  1.656438  1.319766  2.247970  2.243036  \nM       2.604194  2.274703  2.122515  0.939865  2.612387  2.369041  \nN       1.534418  1.264255  1.604616  1.918190  1.395493  1.486437  \nP       2.084335  2.467711  2.407898  3.226790  2.434034  3.003647  \nQ       1.206475  1.329373  1.786966  2.361544  1.467078  1.752471  \nR       0.000000  1.271253  1.825460  2.433945  1.496404  1.960535  \nS       1.271253  0.000000  1.463185  1.882802  1.403927  1.665950  \nT       1.825460  1.463185  0.000000  1.582955  2.164303  2.341283  \nV       2.433945  1.882802  1.582955  0.000000  2.483342  2.294857  \nW       1.496404  1.403927  2.164303  2.483342  0.000000  0.969899  \nY       1.960535  1.665950  2.341283  2.294857  0.969899  0.000000  ",
      "text/html": "<div>\n<style scoped>\n    .dataframe tbody tr th:only-of-type {\n        vertical-align: middle;\n    }\n\n    .dataframe tbody tr th {\n        vertical-align: top;\n    }\n\n    .dataframe thead th {\n        text-align: right;\n    }\n</style>\n<table border=\"1\" class=\"dataframe\">\n  <thead>\n    <tr style=\"text-align: right;\">\n      <th>AS_new</th>\n      <th>A</th>\n      <th>C</th>\n      <th>D</th>\n      <th>E</th>\n      <th>F</th>\n      <th>G</th>\n      <th>H</th>\n      <th>I</th>\n      <th>K</th>\n      <th>L</th>\n      <th>M</th>\n      <th>N</th>\n      <th>P</th>\n      <th>Q</th>\n      <th>R</th>\n      <th>S</th>\n      <th>T</th>\n      <th>V</th>\n      <th>W</th>\n      <th>Y</th>\n    </tr>\n    <tr>\n      <th>AS_new</th>\n      <th></th>\n      <th></th>\n      <th></th>\n      <th></th>\n      <th></th>\n      <th></th>\n      <th></th>\n      <th></th>\n      <th></th>\n      <th></th>\n      <th></th>\n      <th></th>\n      <th></th>\n      <th></th>\n      <th></th>\n      <th></th>\n      <th></th>\n      <th></th>\n      <th></th>\n      <th></th>\n    </tr>\n  </thead>\n  <tbody>\n    <tr>\n      <th>A</th>\n      <td>0.000000</td>\n      <td>1.870447</td>\n      <td>2.057424</td>\n      <td>1.677953</td>\n      <td>2.074712</td>\n      <td>1.800098</td>\n      <td>1.616680</td>\n      <td>1.972078</td>\n      <td>1.663155</td>\n      <td>1.731438</td>\n      <td>2.464359</td>\n      <td>1.605218</td>\n      <td>2.599323</td>\n      <td>1.324979</td>\n      <td>1.734199</td>\n      <td>1.334446</td>\n      <td>1.719908</td>\n      <td>2.085699</td>\n      <td>1.770016</td>\n      <td>1.858589</td>\n    </tr>\n    <tr>\n      <th>C</th>\n      <td>1.870447</td>\n      <td>0.000000</td>\n      <td>2.932487</td>\n      <td>2.646722</td>\n      <td>1.435872</td>\n      <td>2.400857</td>\n      <td>2.179488</td>\n      <td>1.457241</td>\n      <td>2.341538</td>\n      <td>1.861285</td>\n      <td>1.543734</td>\n      <td>1.546109</td>\n      <td>3.430827</td>\n      <td>2.037637</td>\n      <td>2.128601</td>\n      <td>1.433622</td>\n      <td>1.808142</td>\n      <td>1.330392</td>\n      <td>2.086560</td>\n      <td>1.847943</td>\n    </tr>\n    <tr>\n      <th>D</th>\n      <td>2.057424</td>\n      <td>2.932487</td>\n      <td>0.000000</td>\n      <td>1.147741</td>\n      <td>2.851973</td>\n      <td>1.623479</td>\n      <td>1.562002</td>\n      <td>3.116516</td>\n      <td>1.675408</td>\n      <td>2.846908</td>\n      <td>3.331162</td>\n      <td>1.705688</td>\n      <td>1.851973</td>\n      <td>1.845346</td>\n      <td>1.894457</td>\n      <td>2.039805</td>\n      <td>2.226007</td>\n      <td>3.020563</td>\n      <td>1.912520</td>\n      <td>2.303482</td>\n    </tr>\n    <tr>\n      <th>E</th>\n      <td>1.677953</td>\n      <td>2.646722</td>\n      <td>1.147741</td>\n      <td>0.000000</td>\n      <td>2.716283</td>\n      <td>1.383653</td>\n      <td>1.591554</td>\n      <td>2.687395</td>\n      <td>1.266700</td>\n      <td>2.444568</td>\n      <td>3.072152</td>\n      <td>1.613702</td>\n      <td>1.688013</td>\n      <td>1.448361</td>\n      <td>1.697370</td>\n      <td>1.790569</td>\n      <td>1.874593</td>\n      <td>2.744142</td>\n      <td>1.711126</td>\n      <td>2.160131</td>\n    </tr>\n    <tr>\n      <th>F</th>\n      <td>2.074712</td>\n      <td>1.435872</td>\n      <td>2.851973</td>\n      <td>2.716283</td>\n      <td>0.000000</td>\n      <td>2.604831</td>\n      <td>1.940718</td>\n      <td>1.640068</td>\n      <td>2.634391</td>\n      <td>1.889827</td>\n      <td>1.739786</td>\n      <td>1.771891</td>\n      <td>3.318476</td>\n      <td>2.286170</td>\n      <td>2.310283</td>\n      <td>1.752132</td>\n      <td>2.095080</td>\n      <td>1.503799</td>\n      <td>1.734475</td>\n      <td>1.324595</td>\n    </tr>\n    <tr>\n      <th>G</th>\n      <td>1.800098</td>\n      <td>2.400857</td>\n      <td>1.623479</td>\n      <td>1.383653</td>\n      <td>2.604831</td>\n      <td>0.000000</td>\n      <td>1.812648</td>\n      <td>2.646116</td>\n      <td>1.241790</td>\n      <td>2.267662</td>\n      <td>2.792097</td>\n      <td>1.595640</td>\n      <td>1.669550</td>\n      <td>1.808504</td>\n      <td>1.539402</td>\n      <td>1.626238</td>\n      <td>1.924800</td>\n      <td>2.621017</td>\n      <td>1.822127</td>\n      <td>2.155682</td>\n    </tr>\n    <tr>\n      <th>H</th>\n      <td>1.616680</td>\n      <td>2.179488</td>\n      <td>1.562002</td>\n      <td>1.591554</td>\n      <td>1.940718</td>\n      <td>1.812648</td>\n      <td>0.000000</td>\n      <td>2.420617</td>\n      <td>1.625366</td>\n      <td>2.212610</td>\n      <td>2.622430</td>\n      <td>1.331438</td>\n      <td>2.415598</td>\n      <td>1.438266</td>\n      <td>1.746828</td>\n      <td>1.538785</td>\n      <td>1.981881</td>\n      <td>2.435773</td>\n      <td>1.111196</td>\n      <td>1.259381</td>\n    </tr>\n    <tr>\n      <th>I</th>\n      <td>1.972078</td>\n      <td>1.457241</td>\n      <td>3.116516</td>\n      <td>2.687395</td>\n      <td>1.640068</td>\n      <td>2.646116</td>\n      <td>2.420617</td>\n      <td>0.000000</td>\n      <td>2.528704</td>\n      <td>1.504370</td>\n      <td>1.357431</td>\n      <td>2.109293</td>\n      <td>3.210016</td>\n      <td>2.202334</td>\n      <td>2.317928</td>\n      <td>1.955986</td>\n      <td>1.579251</td>\n      <td>0.918103</td>\n      <td>2.373551</td>\n      <td>2.249416</td>\n    </tr>\n    <tr>\n      <th>K</th>\n      <td>1.663155</td>\n      <td>2.341538</td>\n      <td>1.675408</td>\n      <td>1.266700</td>\n      <td>2.634391</td>\n      <td>1.241790</td>\n      <td>1.625366</td>\n      <td>2.528704</td>\n      <td>0.000000</td>\n      <td>2.065978</td>\n      <td>2.711528</td>\n      <td>1.464649</td>\n      <td>2.097893</td>\n      <td>1.391438</td>\n      <td>1.339549</td>\n      <td>1.518363</td>\n      <td>1.716352</td>\n      <td>2.545937</td>\n      <td>1.814540</td>\n      <td>2.160693</td>\n    </tr>\n    <tr>\n      <th>L</th>\n      <td>1.731438</td>\n      <td>1.861285</td>\n      <td>2.846908</td>\n      <td>2.444568</td>\n      <td>1.889827</td>\n      <td>2.267662</td>\n      <td>2.212610</td>\n      <td>1.504370</td>\n      <td>2.065978</td>\n      <td>0.000000</td>\n      <td>1.329744</td>\n      <td>1.942971</td>\n      <td>2.858723</td>\n      <td>2.105607</td>\n      <td>2.167016</td>\n      <td>1.824881</td>\n      <td>1.656438</td>\n      <td>1.319766</td>\n      <td>2.247970</td>\n      <td>2.243036</td>\n    </tr>\n    <tr>\n      <th>M</th>\n      <td>2.464359</td>\n      <td>1.543734</td>\n      <td>3.331162</td>\n      <td>3.072152</td>\n      <td>1.739786</td>\n      <td>2.792097</td>\n      <td>2.622430</td>\n      <td>1.357431</td>\n      <td>2.711528</td>\n      <td>1.329744</td>\n      <td>0.000000</td>\n      <td>2.076730</td>\n      <td>3.472305</td>\n      <td>2.573854</td>\n      <td>2.604194</td>\n      <td>2.274703</td>\n      <td>2.122515</td>\n      <td>0.939865</td>\n      <td>2.612387</td>\n      <td>2.369041</td>\n    </tr>\n    <tr>\n      <th>N</th>\n      <td>1.605218</td>\n      <td>1.546109</td>\n      <td>1.705688</td>\n      <td>1.613702</td>\n      <td>1.771891</td>\n      <td>1.595640</td>\n      <td>1.331438</td>\n      <td>2.109293</td>\n      <td>1.464649</td>\n      <td>1.942971</td>\n      <td>2.076730</td>\n      <td>0.000000</td>\n      <td>2.438327</td>\n      <td>1.303982</td>\n      <td>1.534418</td>\n      <td>1.264255</td>\n      <td>1.604616</td>\n      <td>1.918190</td>\n      <td>1.395493</td>\n      <td>1.486437</td>\n    </tr>\n    <tr>\n      <th>P</th>\n      <td>2.599323</td>\n      <td>3.430827</td>\n      <td>1.851973</td>\n      <td>1.688013</td>\n      <td>3.318476</td>\n      <td>1.669550</td>\n      <td>2.415598</td>\n      <td>3.210016</td>\n      <td>2.097893</td>\n      <td>2.858723</td>\n      <td>3.472305</td>\n      <td>2.438327</td>\n      <td>0.000000</td>\n      <td>2.276721</td>\n      <td>2.084335</td>\n      <td>2.467711</td>\n      <td>2.407898</td>\n      <td>3.226790</td>\n      <td>2.434034</td>\n      <td>3.003647</td>\n    </tr>\n    <tr>\n      <th>Q</th>\n      <td>1.324979</td>\n      <td>2.037637</td>\n      <td>1.845346</td>\n      <td>1.448361</td>\n      <td>2.286170</td>\n      <td>1.808504</td>\n      <td>1.438266</td>\n      <td>2.202334</td>\n      <td>1.391438</td>\n      <td>2.105607</td>\n      <td>2.573854</td>\n      <td>1.303982</td>\n      <td>2.276721</td>\n      <td>0.000000</td>\n      <td>1.206475</td>\n      <td>1.329373</td>\n      <td>1.786966</td>\n      <td>2.361544</td>\n      <td>1.467078</td>\n      <td>1.752471</td>\n    </tr>\n    <tr>\n      <th>R</th>\n      <td>1.734199</td>\n      <td>2.128601</td>\n      <td>1.894457</td>\n      <td>1.697370</td>\n      <td>2.310283</td>\n      <td>1.539402</td>\n      <td>1.746828</td>\n      <td>2.317928</td>\n      <td>1.339549</td>\n      <td>2.167016</td>\n      <td>2.604194</td>\n      <td>1.534418</td>\n      <td>2.084335</td>\n      <td>1.206475</td>\n      <td>0.000000</td>\n      <td>1.271253</td>\n      <td>1.825460</td>\n      <td>2.433945</td>\n      <td>1.496404</td>\n      <td>1.960535</td>\n    </tr>\n    <tr>\n      <th>S</th>\n      <td>1.334446</td>\n      <td>1.433622</td>\n      <td>2.039805</td>\n      <td>1.790569</td>\n      <td>1.752132</td>\n      <td>1.626238</td>\n      <td>1.538785</td>\n      <td>1.955986</td>\n      <td>1.518363</td>\n      <td>1.824881</td>\n      <td>2.274703</td>\n      <td>1.264255</td>\n      <td>2.467711</td>\n      <td>1.329373</td>\n      <td>1.271253</td>\n      <td>0.000000</td>\n      <td>1.463185</td>\n      <td>1.882802</td>\n      <td>1.403927</td>\n      <td>1.665950</td>\n    </tr>\n    <tr>\n      <th>T</th>\n      <td>1.719908</td>\n      <td>1.808142</td>\n      <td>2.226007</td>\n      <td>1.874593</td>\n      <td>2.095080</td>\n      <td>1.924800</td>\n      <td>1.981881</td>\n      <td>1.579251</td>\n      <td>1.716352</td>\n      <td>1.656438</td>\n      <td>2.122515</td>\n      <td>1.604616</td>\n      <td>2.407898</td>\n      <td>1.786966</td>\n      <td>1.825460</td>\n      <td>1.463185</td>\n      <td>0.000000</td>\n      <td>1.582955</td>\n      <td>2.164303</td>\n      <td>2.341283</td>\n    </tr>\n    <tr>\n      <th>V</th>\n      <td>2.085699</td>\n      <td>1.330392</td>\n      <td>3.020563</td>\n      <td>2.744142</td>\n      <td>1.503799</td>\n      <td>2.621017</td>\n      <td>2.435773</td>\n      <td>0.918103</td>\n      <td>2.545937</td>\n      <td>1.319766</td>\n      <td>0.939865</td>\n      <td>1.918190</td>\n      <td>3.226790</td>\n      <td>2.361544</td>\n      <td>2.433945</td>\n      <td>1.882802</td>\n      <td>1.582955</td>\n      <td>0.000000</td>\n      <td>2.483342</td>\n      <td>2.294857</td>\n    </tr>\n    <tr>\n      <th>W</th>\n      <td>1.770016</td>\n      <td>2.086560</td>\n      <td>1.912520</td>\n      <td>1.711126</td>\n      <td>1.734475</td>\n      <td>1.822127</td>\n      <td>1.111196</td>\n      <td>2.373551</td>\n      <td>1.814540</td>\n      <td>2.247970</td>\n      <td>2.612387</td>\n      <td>1.395493</td>\n      <td>2.434034</td>\n      <td>1.467078</td>\n      <td>1.496404</td>\n      <td>1.403927</td>\n      <td>2.164303</td>\n      <td>2.483342</td>\n      <td>0.000000</td>\n      <td>0.969899</td>\n    </tr>\n    <tr>\n      <th>Y</th>\n      <td>1.858589</td>\n      <td>1.847943</td>\n      <td>2.303482</td>\n      <td>2.160131</td>\n      <td>1.324595</td>\n      <td>2.155682</td>\n      <td>1.259381</td>\n      <td>2.249416</td>\n      <td>2.160693</td>\n      <td>2.243036</td>\n      <td>2.369041</td>\n      <td>1.486437</td>\n      <td>3.003647</td>\n      <td>1.752471</td>\n      <td>1.960535</td>\n      <td>1.665950</td>\n      <td>2.341283</td>\n      <td>2.294857</td>\n      <td>0.969899</td>\n      <td>0.000000</td>\n    </tr>\n  </tbody>\n</table>\n</div>"
     },
     "execution_count": 39,
     "metadata": {},
     "output_type": "execute_result"
    }
   ],
   "source": [
    "from sklearn.metrics.pairwise import euclidean_distances\n",
    "\n",
    "# Speichern der \"AS_new\"-Spalte für Benennung der neuen Spalten\n",
    "labels_column = 'AS_new'\n",
    "\n",
    "# Transpose the DataFrame\n",
    "mean_substitutions_t = mean_substitutions.T\n",
    "\n",
    "# Berechnen der Distanzen der AA zueinander\n",
    "dms_distances = euclidean_distances(mean_substitutions_t.values)\n",
    "\n",
    "# Umwandeln zurück in einen DF zur besseren Übersicht\n",
    "mean_substitutions_df = pd.DataFrame(dms_distances, index=mean_substitutions_t.index, columns=mean_substitutions_t.index)\n",
    "\n",
    "# Print the first 20 rows of mean_substitutions\n",
    "mean_substitutions_df.head(20)\n"
   ],
   "metadata": {
    "collapsed": false,
    "ExecuteTime": {
     "start_time": "2023-06-14T15:54:25.454001Z",
     "end_time": "2023-06-14T15:54:25.467687Z"
    }
   }
  },
  {
   "cell_type": "code",
   "execution_count": 26,
   "outputs": [],
   "source": [],
   "metadata": {
    "collapsed": false,
    "ExecuteTime": {
     "start_time": "2023-06-14T15:42:50.725055Z",
     "end_time": "2023-06-14T15:42:50.745883Z"
    }
   }
  },
  {
   "cell_type": "code",
   "execution_count": null,
   "outputs": [],
   "source": [],
   "metadata": {
    "collapsed": false
   }
  }
 ],
 "metadata": {
  "kernelspec": {
   "display_name": "Python 3",
   "language": "python",
   "name": "python3"
  },
  "language_info": {
   "codemirror_mode": {
    "name": "ipython",
    "version": 2
   },
   "file_extension": ".py",
   "mimetype": "text/x-python",
   "name": "python",
   "nbconvert_exporter": "python",
   "pygments_lexer": "ipython2",
   "version": "2.7.6"
  }
 },
 "nbformat": 4,
 "nbformat_minor": 0
}
