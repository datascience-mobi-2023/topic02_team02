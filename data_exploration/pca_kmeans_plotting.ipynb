{
 "cells": [
  {
   "cell_type": "markdown",
   "source": [
    "#### PCA, K-means and plotting\n",
    "In this notebook, the kmeans clustering worked! Here, it is implemented in the same form as the \"de.pca_hierarchical_plot\" function. This way, both clustering methods can be compared visually."
   ],
   "metadata": {
    "collapsed": false
   }
  },
  {
   "cell_type": "code",
   "execution_count": null,
   "outputs": [],
   "source": [
    "import numpy as np\n",
    "import data_cleanup as dc\n",
    "import data_exploration as de\n",
    "import pandas as pd\n",
    "import seaborn as sns\n",
    "import matplotlib.pyplot as plt\n",
    "\n",
    "from sklearn.cluster import KMeans\n",
    "from sklearn.metrics import silhouette_score\n",
    "from sklearn.decomposition import PCA\n",
    "\n",
    "\n",
    "aa = pd.read_csv('../DMS_data/aminoacids.csv')\n",
    "\n",
    "gia_null_eto: pd.DataFrame = pd.read_csv('../DMS_data/P53_HUMAN_Giacomelli_NULL_Etoposide_2018.csv')\n",
    "norm_frame = dc.aufteilung_mut_pos(dc.norm(gia_null_eto))"
   ],
   "metadata": {
    "collapsed": false
   }
  },
  {
   "cell_type": "code",
   "execution_count": null,
   "outputs": [],
   "source": [
    "dist_chem = de.aa_distance_matrix(aa)\n",
    "dist_p53 = de.dms_distance_matrix_wt(norm_frame)"
   ],
   "metadata": {
    "collapsed": false
   }
  },
  {
   "cell_type": "code",
   "execution_count": null,
   "outputs": [],
   "source": [
    "def determine_clusters_kmeans(data, max_clusters):\n",
    "    silhouette_scores = []\n",
    "\n",
    "    for k in range(2, max_clusters + 1):\n",
    "        kmeans = KMeans(n_clusters=k, random_state=42)\n",
    "        cluster_labels = kmeans.fit_predict(data)\n",
    "        silhouette_avg = silhouette_score(data, cluster_labels)\n",
    "        silhouette_scores.append(silhouette_avg)\n",
    "\n",
    "    # Plotting the Silhouette scores\n",
    "    #plt.figure(figsize=(10, 6))\n",
    "    #plt.plot(range(2, max_clusters + 1), silhouette_scores, marker='o')\n",
    "    #plt.xlabel('Number of Clusters')\n",
    "    #plt.ylabel('Average Silhouette Score')\n",
    "    #plt.title('Silhouette Method: Determining Optimal Number of Clusters')\n",
    "    #plt.show()\n",
    "\n",
    "    # Find the optimal number of clusters using the maximum Silhouette score\n",
    "    optimal_clusters = np.argmax(silhouette_scores) + 1  # Adding 1 to account for zero-based indexing\n",
    "\n",
    "    return optimal_clusters\n",
    "\n",
    "\n",
    "# Example usage\n",
    "data = dc.rmv_na(dc.df_transform(dc.norm(gia_null_eto)))\n",
    "determine_clusters_kmeans(data, max_clusters=10)\n"
   ],
   "metadata": {
    "collapsed": false
   }
  },
  {
   "cell_type": "code",
   "execution_count": null,
   "outputs": [],
   "source": [
    "def pca_kmeans_plot (dist_matrix: pd.DataFrame, optimal_num_cluster: int, title: str):\n",
    "    pca = PCA(n_components=2)\n",
    "    pca_result = pca.fit_transform(dist_matrix.values)\n",
    "\n",
    "    kmeans = KMeans(n_clusters = optimal_num_cluster, random_state=42)\n",
    "    clusters = kmeans.fit_predict(pca_result)\n",
    "\n",
    "    df = pd.DataFrame(data = pca_result, columns=['PC1', 'PC2'])\n",
    "    df['Cluster'] = clusters\n",
    "    df['Label'] = dist_matrix.index\n",
    "\n",
    "    plt.figure(figsize=(10, 8))\n",
    "    sns.scatterplot(data=df, x='PC1', y='PC2', hue='Cluster', palette='Set1').set(\n",
    "    title=f\"PCA with K-means Clustering of {title} \")\n",
    "\n",
    "    for i, point in df.iterrows():\n",
    "        plt.annotate(point['Label'], (point['PC1'], point['PC2']), textcoords=\"offset points\", xytext=(0, -10), ha='center')\n",
    "\n",
    "    plt.legend(title='Cluster', loc='lower right')\n",
    "    return plt.show()\n",
    "\n",
    "pca_kmeans_plot(dist_p53,4 , title = \"p53 distance matrix\")"
   ],
   "metadata": {
    "collapsed": false
   }
  },
  {
   "cell_type": "markdown",
   "source": [
    " just to possibly \"overwrite\" Fridos push on the Documentation"
   ],
   "metadata": {
    "collapsed": false
   }
  }
 ],
 "metadata": {
  "kernelspec": {
   "display_name": "Python 3",
   "language": "python",
   "name": "python3"
  },
  "language_info": {
   "codemirror_mode": {
    "name": "ipython",
    "version": 2
   },
   "file_extension": ".py",
   "mimetype": "text/x-python",
   "name": "python",
   "nbconvert_exporter": "python",
   "pygments_lexer": "ipython2",
   "version": "2.7.6"
  }
 },
 "nbformat": 4,
 "nbformat_minor": 0
}
