{
 "cells": [
  {
   "cell_type": "code",
   "execution_count": 1,
   "metadata": {
    "collapsed": true,
    "ExecuteTime": {
     "end_time": "2023-06-01T09:12:58.304016400Z",
     "start_time": "2023-06-01T09:12:57.068759200Z"
    }
   },
   "outputs": [],
   "source": [
    "# ich dachte ich kopiere hier einfach schonmal den Code von dem Python Intro rüber, dann gehts schneller, wenn wir hier wirklich anfangen dran zu arbeiten\n",
    "import numpy as np\n",
    "#... startet bei Iteration 103"
   ]
  },
  {
   "cell_type": "code",
   "execution_count": 2,
   "outputs": [],
   "source": [
    "data = np.random.randint(0,101,(100,2))\n",
    "centers = np.random.randint(0,101,(4,2))"
   ],
   "metadata": {
    "collapsed": false,
    "ExecuteTime": {
     "end_time": "2023-06-01T09:12:58.419489600Z",
     "start_time": "2023-06-01T09:12:58.309636Z"
    }
   }
  },
  {
   "cell_type": "code",
   "execution_count": 3,
   "outputs": [],
   "source": [
    "clusters = np.expand_dims(centers, axis=1)\n",
    "data = np.expand_dims(data, axis=0)\n",
    "\n",
    "eucl = np.linalg.norm(clusters - data, axis=2)\n",
    "\n",
    "labels = np.argmin(eucl, axis = 0)"
   ],
   "metadata": {
    "collapsed": false,
    "ExecuteTime": {
     "end_time": "2023-06-01T09:12:58.419489600Z",
     "start_time": "2023-06-01T09:12:58.354967900Z"
    }
   }
  },
  {
   "cell_type": "code",
   "execution_count": 4,
   "outputs": [],
   "source": [
    "def calc_distance(data,centers):\n",
    "    clusters = np.expand_dims(centers, axis=1)\n",
    "    data = np.expand_dims(data, axis=0)\n",
    "\n",
    "    eucl = np.linalg.norm(clusters - data, axis=2)\n",
    "\n",
    "    labels = np.argmin(eucl, axis = 0)\n",
    "    return labels"
   ],
   "metadata": {
    "collapsed": false,
    "ExecuteTime": {
     "end_time": "2023-06-01T09:13:15.154662100Z",
     "start_time": "2023-06-01T09:13:15.091752100Z"
    }
   }
  },
  {
   "cell_type": "code",
   "execution_count": 5,
   "outputs": [
    {
     "ename": "AxisError",
     "evalue": "axis 1 is out of bounds for array of dimension 1",
     "output_type": "error",
     "traceback": [
      "\u001B[1;31m---------------------------------------------------------------------------\u001B[0m",
      "\u001B[1;31mAxisError\u001B[0m                                 Traceback (most recent call last)",
      "Cell \u001B[1;32mIn[5], line 1\u001B[0m\n\u001B[1;32m----> 1\u001B[0m \u001B[43mcalc_distance\u001B[49m\u001B[43m(\u001B[49m\u001B[43mdata\u001B[49m\u001B[43m,\u001B[49m\u001B[43m \u001B[49m\u001B[38;5;241;43m3\u001B[39;49m\u001B[43m)\u001B[49m\n",
      "Cell \u001B[1;32mIn[4], line 2\u001B[0m, in \u001B[0;36mcalc_distance\u001B[1;34m(data, centers)\u001B[0m\n\u001B[0;32m      1\u001B[0m \u001B[38;5;28;01mdef\u001B[39;00m \u001B[38;5;21mcalc_distance\u001B[39m(data,centers):\n\u001B[1;32m----> 2\u001B[0m     clusters \u001B[38;5;241m=\u001B[39m \u001B[43mnp\u001B[49m\u001B[38;5;241;43m.\u001B[39;49m\u001B[43mexpand_dims\u001B[49m\u001B[43m(\u001B[49m\u001B[43mcenters\u001B[49m\u001B[43m,\u001B[49m\u001B[43m \u001B[49m\u001B[43maxis\u001B[49m\u001B[38;5;241;43m=\u001B[39;49m\u001B[38;5;241;43m1\u001B[39;49m\u001B[43m)\u001B[49m\n\u001B[0;32m      3\u001B[0m     data \u001B[38;5;241m=\u001B[39m np\u001B[38;5;241m.\u001B[39mexpand_dims(data, axis\u001B[38;5;241m=\u001B[39m\u001B[38;5;241m0\u001B[39m)\n\u001B[0;32m      5\u001B[0m     eucl \u001B[38;5;241m=\u001B[39m np\u001B[38;5;241m.\u001B[39mlinalg\u001B[38;5;241m.\u001B[39mnorm(clusters \u001B[38;5;241m-\u001B[39m data, axis\u001B[38;5;241m=\u001B[39m\u001B[38;5;241m2\u001B[39m)\n",
      "File \u001B[1;32m<__array_function__ internals>:200\u001B[0m, in \u001B[0;36mexpand_dims\u001B[1;34m(*args, **kwargs)\u001B[0m\n",
      "File \u001B[1;32m~\\Documents\\Uni\\SS_2023\\Bioinfo\\Projekt\\venv\\lib\\site-packages\\numpy\\lib\\shape_base.py:597\u001B[0m, in \u001B[0;36mexpand_dims\u001B[1;34m(a, axis)\u001B[0m\n\u001B[0;32m    594\u001B[0m     axis \u001B[38;5;241m=\u001B[39m (axis,)\n\u001B[0;32m    596\u001B[0m out_ndim \u001B[38;5;241m=\u001B[39m \u001B[38;5;28mlen\u001B[39m(axis) \u001B[38;5;241m+\u001B[39m a\u001B[38;5;241m.\u001B[39mndim\n\u001B[1;32m--> 597\u001B[0m axis \u001B[38;5;241m=\u001B[39m \u001B[43mnormalize_axis_tuple\u001B[49m\u001B[43m(\u001B[49m\u001B[43maxis\u001B[49m\u001B[43m,\u001B[49m\u001B[43m \u001B[49m\u001B[43mout_ndim\u001B[49m\u001B[43m)\u001B[49m\n\u001B[0;32m    599\u001B[0m shape_it \u001B[38;5;241m=\u001B[39m \u001B[38;5;28miter\u001B[39m(a\u001B[38;5;241m.\u001B[39mshape)\n\u001B[0;32m    600\u001B[0m shape \u001B[38;5;241m=\u001B[39m [\u001B[38;5;241m1\u001B[39m \u001B[38;5;28;01mif\u001B[39;00m ax \u001B[38;5;129;01min\u001B[39;00m axis \u001B[38;5;28;01melse\u001B[39;00m \u001B[38;5;28mnext\u001B[39m(shape_it) \u001B[38;5;28;01mfor\u001B[39;00m ax \u001B[38;5;129;01min\u001B[39;00m \u001B[38;5;28mrange\u001B[39m(out_ndim)]\n",
      "File \u001B[1;32m~\\Documents\\Uni\\SS_2023\\Bioinfo\\Projekt\\venv\\lib\\site-packages\\numpy\\core\\numeric.py:1398\u001B[0m, in \u001B[0;36mnormalize_axis_tuple\u001B[1;34m(axis, ndim, argname, allow_duplicate)\u001B[0m\n\u001B[0;32m   1396\u001B[0m         \u001B[38;5;28;01mpass\u001B[39;00m\n\u001B[0;32m   1397\u001B[0m \u001B[38;5;66;03m# Going via an iterator directly is slower than via list comprehension.\u001B[39;00m\n\u001B[1;32m-> 1398\u001B[0m axis \u001B[38;5;241m=\u001B[39m \u001B[38;5;28mtuple\u001B[39m([normalize_axis_index(ax, ndim, argname) \u001B[38;5;28;01mfor\u001B[39;00m ax \u001B[38;5;129;01min\u001B[39;00m axis])\n\u001B[0;32m   1399\u001B[0m \u001B[38;5;28;01mif\u001B[39;00m \u001B[38;5;129;01mnot\u001B[39;00m allow_duplicate \u001B[38;5;129;01mand\u001B[39;00m \u001B[38;5;28mlen\u001B[39m(\u001B[38;5;28mset\u001B[39m(axis)) \u001B[38;5;241m!=\u001B[39m \u001B[38;5;28mlen\u001B[39m(axis):\n\u001B[0;32m   1400\u001B[0m     \u001B[38;5;28;01mif\u001B[39;00m argname:\n",
      "File \u001B[1;32m~\\Documents\\Uni\\SS_2023\\Bioinfo\\Projekt\\venv\\lib\\site-packages\\numpy\\core\\numeric.py:1398\u001B[0m, in \u001B[0;36m<listcomp>\u001B[1;34m(.0)\u001B[0m\n\u001B[0;32m   1396\u001B[0m         \u001B[38;5;28;01mpass\u001B[39;00m\n\u001B[0;32m   1397\u001B[0m \u001B[38;5;66;03m# Going via an iterator directly is slower than via list comprehension.\u001B[39;00m\n\u001B[1;32m-> 1398\u001B[0m axis \u001B[38;5;241m=\u001B[39m \u001B[38;5;28mtuple\u001B[39m([\u001B[43mnormalize_axis_index\u001B[49m\u001B[43m(\u001B[49m\u001B[43max\u001B[49m\u001B[43m,\u001B[49m\u001B[43m \u001B[49m\u001B[43mndim\u001B[49m\u001B[43m,\u001B[49m\u001B[43m \u001B[49m\u001B[43margname\u001B[49m\u001B[43m)\u001B[49m \u001B[38;5;28;01mfor\u001B[39;00m ax \u001B[38;5;129;01min\u001B[39;00m axis])\n\u001B[0;32m   1399\u001B[0m \u001B[38;5;28;01mif\u001B[39;00m \u001B[38;5;129;01mnot\u001B[39;00m allow_duplicate \u001B[38;5;129;01mand\u001B[39;00m \u001B[38;5;28mlen\u001B[39m(\u001B[38;5;28mset\u001B[39m(axis)) \u001B[38;5;241m!=\u001B[39m \u001B[38;5;28mlen\u001B[39m(axis):\n\u001B[0;32m   1400\u001B[0m     \u001B[38;5;28;01mif\u001B[39;00m argname:\n",
      "\u001B[1;31mAxisError\u001B[0m: axis 1 is out of bounds for array of dimension 1"
     ]
    }
   ],
   "source": [
    "calc_distance(data, 3)"
   ],
   "metadata": {
    "collapsed": false,
    "ExecuteTime": {
     "end_time": "2023-06-01T09:13:47.135022100Z",
     "start_time": "2023-06-01T09:13:44.965630800Z"
    }
   }
  }
 ],
 "metadata": {
  "kernelspec": {
   "display_name": "Python 3",
   "language": "python",
   "name": "python3"
  },
  "language_info": {
   "codemirror_mode": {
    "name": "ipython",
    "version": 2
   },
   "file_extension": ".py",
   "mimetype": "text/x-python",
   "name": "python",
   "nbconvert_exporter": "python",
   "pygments_lexer": "ipython2",
   "version": "2.7.6"
  }
 },
 "nbformat": 4,
 "nbformat_minor": 0
}
