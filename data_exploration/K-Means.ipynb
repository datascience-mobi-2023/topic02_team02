{
 "cells": [
  {
   "cell_type": "code",
   "execution_count": 1,
   "metadata": {
    "collapsed": true,
    "ExecuteTime": {
     "end_time": "2023-05-31T12:56:21.562922900Z",
     "start_time": "2023-05-31T12:56:21.554398200Z"
    }
   },
   "outputs": [],
   "source": [
    "# ich dachte ich kopiere hier einfach schonmal den Code von dem Python Intro rüber, dann gehts schneller, wenn wir hier wirklich anfangen dran zu arbeiten\n",
    "\n",
    "#... startet bei Iteration 103"
   ]
  },
  {
   "cell_type": "code",
   "execution_count": null,
   "outputs": [],
   "source": [
    "data = np.random.randint(0,101,(100,2))\n",
    "centers = np.random.randint(0,101,(4,2))"
   ],
   "metadata": {
    "collapsed": false
   }
  },
  {
   "cell_type": "code",
   "execution_count": null,
   "outputs": [],
   "source": [
    "clusters = np.expand_dims(centers, axis=1)\n",
    "data = np.expand_dims(data, axis=0)\n",
    "\n",
    "eucl = np.linalg.norm(clusters - data, axis=2)\n",
    "\n",
    "labels = np.argmin(eucl, axis = 0)"
   ],
   "metadata": {
    "collapsed": false
   }
  },
  {
   "cell_type": "code",
   "execution_count": null,
   "outputs": [],
   "source": [
    "def calc_distance(data,center):\n",
    "    clusters = np.expand_dims(centers, axis=1)\n",
    "    data = np.expand_dims(data, axis=0)\n",
    "\n",
    "    eucl = np.linalg.norm(clusters - data, axis=2)\n",
    "\n",
    "    labels = np.argmin(eucl, axis = 0)\n",
    "    return labels"
   ],
   "metadata": {
    "collapsed": false
   }
  },
  {
   "cell_type": "code",
   "execution_count": null,
   "outputs": [],
   "source": [],
   "metadata": {
    "collapsed": false
   }
  }
 ],
 "metadata": {
  "kernelspec": {
   "display_name": "Python 3",
   "language": "python",
   "name": "python3"
  },
  "language_info": {
   "codemirror_mode": {
    "name": "ipython",
    "version": 2
   },
   "file_extension": ".py",
   "mimetype": "text/x-python",
   "name": "python",
   "nbconvert_exporter": "python",
   "pygments_lexer": "ipython2",
   "version": "2.7.6"
  }
 },
 "nbformat": 4,
 "nbformat_minor": 0
}
