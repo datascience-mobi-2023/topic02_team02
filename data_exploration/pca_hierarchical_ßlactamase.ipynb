{
 "cells": [
  {
   "cell_type": "markdown",
   "source": [
    "#### PCA, Hierarchical clustering and plotting\n",
    "In this notebook, we performed a pca dimension reduction, continued with a hierarchical clustering and plotted the results for different datasets."
   ],
   "metadata": {
    "collapsed": false
   }
  },
  {
   "cell_type": "code",
   "execution_count": null,
   "outputs": [],
   "source": [
    "%load_ext autoreload\n",
    "%autoreload 2\n",
    "\n",
    "import pandas as pd\n",
    "import data_exploration as de\n",
    "import data_cleanup as dc\n",
    "import scipy.stats as stats"
   ],
   "metadata": {
    "collapsed": false
   }
  },
  {
   "cell_type": "code",
   "execution_count": null,
   "outputs": [],
   "source": [
    "aa = pd.read_csv('../DMS_data/aminoacids.csv')\n",
    "gia_null_eto: pd.DataFrame = pd.read_csv('../DMS_data/P53_HUMAN_Giacomelli_NULL_Etoposide_2018.csv')\n",
    "betalac: pd.DataFrame = pd.read_csv('../DMS_data/BLAT_ECOLX_Stiffler_2015.csv')\n",
    "\n",
    "#Data cleaning\n",
    "norm_frame_p53 = dc.aufteilung_mut_pos(dc.norm(gia_null_eto))\n",
    "\n",
    "norm_frame_betalac = dc.aufteilung_mut_pos(dc.norm(betalac))"
   ],
   "metadata": {
    "collapsed": false
   }
  },
  {
   "cell_type": "code",
   "execution_count": null,
   "outputs": [],
   "source": [
    "dist_wt_p53 = de.dms_distance_matrix_wt(norm_frame_p53)\n",
    "dist_mut_p53 = de.dms_distance_matrix_mutated(norm_frame_p53)\n",
    "\n",
    "dist_mut_betalac = de.dms_distance_matrix_wt(norm_frame_betalac)\n",
    "dist_wt_betalac = de.dms_distance_matrix_mutated(norm_frame_betalac)"
   ],
   "metadata": {
    "collapsed": false
   }
  },
  {
   "cell_type": "code",
   "execution_count": null,
   "outputs": [],
   "source": [
    "# hierarchical ward clustering\n",
    "de.plot_hier_clust(dist_wt_p53, title = \"p53 distance matrix of WT AAs\")\n",
    "de.plot_hier_clust(dist_mut_p53, title = \"p53 distance matrix of mutated AAs\")\n",
    "\n",
    "de.plot_hier_clust(dist_wt_betalac, title = \"betalac distance matrix of WT AAs\")\n",
    "de.plot_hier_clust(dist_mut_betalac, title = \"betalac distance matrix of mutated AAs\")"
   ],
   "metadata": {
    "collapsed": false
   }
  },
  {
   "cell_type": "code",
   "execution_count": null,
   "outputs": [],
   "source": [
    "#determine optimal amount of clusters. Algorithm not optimized, but quite a good estimation\n",
    "clusters_by_sil_p53 = de.determine_clusters_silhouette(dc.rmv_na(dc.df_transform(norm_frame_p53)))\n",
    "#clusters_by_sil_betalac = de.determine_clusters_silhouette(dc.rmv_na(dc.df_transform(norm_frame_betalac)))\n",
    "# does not work here, because dataset contains missing values outside of those, that are supposed to be zero (e.g. distance from E to E is always NaN)\n",
    "\n",
    "print (clusters_by_sil_p53)\n",
    "print (\"---\")\n",
    "#print (clusters_by_sil_betalac)"
   ],
   "metadata": {
    "collapsed": false
   }
  },
  {
   "cell_type": "code",
   "execution_count": null,
   "outputs": [],
   "source": [
    "# Plotting, after pca and hierarchical clustering. clusters are defined by the colors shown in the legend.\n",
    "\n",
    "de.pca_hierarchical_plot(dist_wt_p53, optimal_num_cluster=clusters_by_sil_p53, title = \"p53 clustered by distance matrix of WT AAs\")\n",
    "de.pca_hierarchical_plot(dist_mut_p53, optimal_num_cluster=clusters_by_sil_p53, title = \"p53 clustered by distance matrix of mutated AAs\")\n",
    "\n",
    "de.pca_hierarchical_plot(dist_wt_betalac, optimal_num_cluster=4, title = \"betalac clustered by distance matrix of WT AAs\")\n",
    "de.pca_hierarchical_plot(dist_mut_betalac, optimal_num_cluster=4, title = \"betalac clustered by distance matrix of mutated AAs\")"
   ],
   "metadata": {
    "collapsed": false
   }
  }
 ],
 "metadata": {
  "kernelspec": {
   "display_name": "Python 3",
   "language": "python",
   "name": "python3"
  },
  "language_info": {
   "codemirror_mode": {
    "name": "ipython",
    "version": 2
   },
   "file_extension": ".py",
   "mimetype": "text/x-python",
   "name": "python",
   "nbconvert_exporter": "python",
   "pygments_lexer": "ipython2",
   "version": "2.7.6"
  }
 },
 "nbformat": 4,
 "nbformat_minor": 0
}
