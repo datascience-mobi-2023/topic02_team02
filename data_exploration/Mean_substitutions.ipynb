{
 "cells": [
  {
   "cell_type": "markdown",
   "source": [
    "#### Mean substitutions\n",
    "In this notebook, we took the steps to calculate the mean values for each substitution. This function is called \"de.mean_substitutions\". It is used to then calculate the distance matrix."
   ],
   "metadata": {
    "collapsed": false
   }
  },
  {
   "cell_type": "code",
   "execution_count": 2,
   "outputs": [],
   "source": [
    "import pandas as pd\n",
    "import data_cleanup as dc\n",
    "import data_exploration as de"
   ],
   "metadata": {
    "collapsed": false,
    "ExecuteTime": {
     "end_time": "2023-07-03T17:22:45.135061800Z",
     "start_time": "2023-07-03T17:22:44.533900100Z"
    }
   }
  },
  {
   "cell_type": "code",
   "execution_count": 3,
   "outputs": [],
   "source": [
    "fpath = '../DMS_data/P53_HUMAN_Giacomelli_NULL_Etoposide_2018.csv'\n",
    "df = pd.read_csv(fpath)\n"
   ],
   "metadata": {
    "collapsed": false,
    "ExecuteTime": {
     "end_time": "2023-07-03T17:22:45.207346300Z",
     "start_time": "2023-07-03T17:22:45.142754300Z"
    }
   }
  },
  {
   "cell_type": "code",
   "execution_count": 4,
   "outputs": [],
   "source": [
    "# Split up mutations in new and old AA\n",
    "mutations_df = dc.aufteilung_mut_pos(df)"
   ],
   "metadata": {
    "collapsed": false,
    "ExecuteTime": {
     "end_time": "2023-07-03T17:22:45.242773800Z",
     "start_time": "2023-07-03T17:22:45.212740100Z"
    }
   }
  },
  {
   "cell_type": "code",
   "execution_count": 5,
   "outputs": [],
   "source": [
    "# Group AA by old and new AA\n",
    "subs_df = mutations_df.groupby([\"AS_old\", \"AS_new\"])\n",
    "mean_scores = subs_df.DMS_score.mean()\n",
    "\n",
    "\n",
    "# There are 380 substitutions that are all present in the datasets by Giacomelli."
   ],
   "metadata": {
    "collapsed": false,
    "ExecuteTime": {
     "end_time": "2023-07-03T17:22:45.258508300Z",
     "start_time": "2023-07-03T17:22:45.242773800Z"
    }
   }
  },
  {
   "cell_type": "code",
   "execution_count": 6,
   "outputs": [],
   "source": [
    "# \"mean_scores\" is a pd.Series, which has to be converted back to a pd.DataFrame\n",
    "mean_scores_df = mean_scores.reset_index()\n",
    "\n",
    "# Reshape the DataFrame\n",
    "mean_substitutions = mean_scores_df.pivot(index=\"AS_old\", columns=\"AS_new\", values= \"DMS_score\")"
   ],
   "metadata": {
    "collapsed": false,
    "ExecuteTime": {
     "end_time": "2023-07-03T17:22:45.297871500Z",
     "start_time": "2023-07-03T17:22:45.258508300Z"
    }
   }
  }
 ],
 "metadata": {
  "kernelspec": {
   "display_name": "Python 3",
   "language": "python",
   "name": "python3"
  },
  "language_info": {
   "codemirror_mode": {
    "name": "ipython",
    "version": 2
   },
   "file_extension": ".py",
   "mimetype": "text/x-python",
   "name": "python",
   "nbconvert_exporter": "python",
   "pygments_lexer": "ipython2",
   "version": "2.7.6"
  }
 },
 "nbformat": 4,
 "nbformat_minor": 0
}
