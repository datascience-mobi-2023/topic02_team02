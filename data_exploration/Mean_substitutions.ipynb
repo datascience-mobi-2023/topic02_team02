{
 "cells": [
  {
   "cell_type": "code",
   "execution_count": 1,
   "outputs": [],
   "source": [
    "# Hier berechne ich einen Mittelwert für jede Substitution"
   ],
   "metadata": {
    "collapsed": false,
    "ExecuteTime": {
     "end_time": "2023-07-03T16:25:56.573297Z",
     "start_time": "2023-07-03T16:25:56.571911Z"
    }
   }
  },
  {
   "cell_type": "code",
   "execution_count": 2,
   "outputs": [],
   "source": [
    "import pandas as pd\n",
    "import data_cleanup as dc\n",
    "import data_exploration as de"
   ],
   "metadata": {
    "collapsed": false,
    "ExecuteTime": {
     "end_time": "2023-07-03T16:25:56.769201Z",
     "start_time": "2023-07-03T16:25:56.573698Z"
    }
   }
  },
  {
   "cell_type": "code",
   "execution_count": 3,
   "outputs": [],
   "source": [
    "fpath = '../DMS_data/P53_HUMAN_Giacomelli_NULL_Etoposide_2018.csv'\n",
    "df = pd.read_csv(fpath)\n"
   ],
   "metadata": {
    "collapsed": false,
    "ExecuteTime": {
     "end_time": "2023-07-03T16:25:56.810666Z",
     "start_time": "2023-07-03T16:25:56.769691Z"
    }
   }
  },
  {
   "cell_type": "code",
   "execution_count": 4,
   "outputs": [],
   "source": [
    "# Auftrennen der Mutante in alte und neue AS\n",
    "mutations_df = dc.aufteilung_mut_pos(df)"
   ],
   "metadata": {
    "collapsed": false,
    "ExecuteTime": {
     "end_time": "2023-07-03T16:25:56.810913Z",
     "start_time": "2023-07-03T16:25:56.803860Z"
    }
   }
  },
  {
   "cell_type": "code",
   "execution_count": 5,
   "outputs": [],
   "source": [
    "# Gruppieren der Substitutionen, geordnet erst nach alter und dann nach neuer AS mit Inspiration von ChatGPT (.groupby in der Pandas Dokumentation beschreibt nur das groupen nach einem Parameter)\n",
    "subs_df = mutations_df.groupby([\"AS_old\", \"AS_new\"])\n",
    "\n",
    "# Berechnen des means für jede Kombination\n",
    "mean_scores = subs_df.DMS_score.mean()\n",
    "\n",
    "\n",
    "# Es gibt 380 Möglichkeiten, 20 AS mit Reihenfolge und ohne zurücklegen zu kombinieren. Aus den Mittelwerten dieser 380 möglichen Substitutionen soll nun eine Distanzmatrix erstellt werden."
   ],
   "metadata": {
    "collapsed": false,
    "ExecuteTime": {
     "end_time": "2023-07-03T16:25:56.810996Z",
     "start_time": "2023-07-03T16:25:56.806883Z"
    }
   }
  },
  {
   "cell_type": "code",
   "execution_count": 6,
   "outputs": [],
   "source": [
    "# Da \"mean_scores\" eine Serie ist, muss diese erst wieder in ein Data Frame umgewandelt werden. Dafür müssen den einzelnen Zeilen wieder konkrete Indizes zugewiesen werden, damit wieder ein Data Frame entsteht.\n",
    "mean_scores_df = mean_scores.reset_index()\n",
    "\n",
    "# Pivot erstellt aus unserer in einem Data Frame aufgelisteten Substitutionen ein Data Frame, das in Form einer Tabelle eine Übersicht der Mittelwerte zeigt. Die Reihen sind die alten AS, die Spalten die neuen AS.\n",
    "mean_substitutions = mean_scores_df.pivot(index=\"AS_old\", columns=\"AS_new\", values= \"DMS_score\")"
   ],
   "metadata": {
    "collapsed": false,
    "ExecuteTime": {
     "end_time": "2023-07-03T16:25:56.817952Z",
     "start_time": "2023-07-03T16:25:56.813828Z"
    }
   }
  }
 ],
 "metadata": {
  "kernelspec": {
   "display_name": "Python 3",
   "language": "python",
   "name": "python3"
  },
  "language_info": {
   "codemirror_mode": {
    "name": "ipython",
    "version": 2
   },
   "file_extension": ".py",
   "mimetype": "text/x-python",
   "name": "python",
   "nbconvert_exporter": "python",
   "pygments_lexer": "ipython2",
   "version": "2.7.6"
  }
 },
 "nbformat": 4,
 "nbformat_minor": 0
}
