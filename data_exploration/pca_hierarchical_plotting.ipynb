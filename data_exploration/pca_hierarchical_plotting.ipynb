{
 "cells": [
  {
   "cell_type": "markdown",
   "source": [
    "#### PCA, Hierarchical clustering and plotting\n",
    "In this notebook, we performed a pca dimension reduction, continued with a hierarchical clustering and plotted the results for different datasets."
   ],
   "metadata": {
    "collapsed": false
   }
  },
  {
   "cell_type": "code",
   "execution_count": null,
   "outputs": [],
   "source": [
    "%load_ext autoreload\n",
    "%autoreload 2\n",
    "\n",
    "import pandas as pd\n",
    "import data_exploration as de\n",
    "import data_cleanup as dc"
   ],
   "metadata": {
    "collapsed": false
   }
  },
  {
   "cell_type": "code",
   "execution_count": null,
   "outputs": [],
   "source": [
    "aa = pd.read_csv('../DMS_data/aminoacids.csv')\n",
    "gia_null_eto: pd.DataFrame = pd.read_csv('../DMS_data/P53_HUMAN_Giacomelli_NULL_Etoposide_2018.csv')\n",
    "\n",
    "#Data cleaning\n",
    "norm_frame_p53 = dc.aufteilung_mut_pos(dc.norm(gia_null_eto))\n",
    "feature_matrix_aa = dc.clean_aa(aa)"
   ],
   "metadata": {
    "collapsed": false
   }
  },
  {
   "cell_type": "code",
   "execution_count": null,
   "outputs": [],
   "source": [
    "dist_chem = de.aa_distance_matrix(aa)\n",
    "\n",
    "dist_wt_p53 = de.dms_distance_matrix_wt(norm_frame_p53)\n",
    "dist_mut_p53 = de.dms_distance_matrix_mutated(norm_frame_p53)\n",
    "\n",
    "mean_subs_wt_p53 = dc.rmv_na(de.mean_substitutions(norm_frame_p53))\n",
    "mean_subs_mut_p53 = dc.rmv_na(de.mean_substitutions(norm_frame_p53).T)"
   ],
   "metadata": {
    "collapsed": false
   }
  },
  {
   "cell_type": "code",
   "execution_count": null,
   "outputs": [],
   "source": [
    "# hierarchical ward clustering\n",
    "de.plot_hier_clust(dist_chem, title = \"AAs chemical properties\")\n",
    "print(\"---\")\n",
    "de.plot_hier_clust(dist_wt_p53, title = \"p53 distance matrix of WT AAs\")\n",
    "de.plot_hier_clust(dist_mut_p53, title = \"p53 distance matrix of mutated AAs\")\n",
    "print(\"---\")\n",
    "de.plot_hier_clust(mean_subs_wt_p53, title = \"p53 mean substitutions for WT AAs\")\n",
    "de.plot_hier_clust(mean_subs_mut_p53, title = \"p53 mean substitutions for mutated AAs\")"
   ],
   "metadata": {
    "collapsed": false
   }
  },
  {
   "cell_type": "code",
   "execution_count": null,
   "outputs": [],
   "source": [
    "#determine optimal amount of clusters. Algorithm not optimized, but quite a good estimation\n",
    "clusters_by_sil_chem = de.determine_clusters_silhouette(feature_matrix_aa)\n",
    "\n",
    "clusters_by_sil_p53 = de.determine_clusters_silhouette(dc.rmv_na(dc.df_transform(norm_frame_p53)))\n",
    "\n",
    "\n",
    "print (clusters_by_sil_chem)\n",
    "print (\"---\")\n",
    "print (clusters_by_sil_p53)"
   ],
   "metadata": {
    "collapsed": false
   }
  },
  {
   "cell_type": "code",
   "execution_count": null,
   "outputs": [],
   "source": [
    "# Plotting, after pca and hierarchical clustering. clusters are defined by the colors shown in the legend.\n",
    "de.pca_hierarchical_plot(dist_chem, optimal_num_cluster= clusters_by_sil_chem, title = \"AAs clustered by chemical properties\", show_var=True)\n",
    "\n",
    "de.pca_hierarchical_plot(dist_wt_p53, optimal_num_cluster=clusters_by_sil_p53, title = \"p53 clustered by distance matrix of WT AAs\")\n",
    "de.pca_hierarchical_plot(dist_mut_p53, optimal_num_cluster=clusters_by_sil_p53, title = \"p53 clustered by distance matrix of mutated AAs\", show_var=True)\n",
    "\n",
    "de.pca_hierarchical_plot(mean_subs_wt_p53, optimal_num_cluster=clusters_by_sil_p53, title = \"p53 clustered by mean substitutions\")\n",
    "de.pca_hierarchical_plot(mean_subs_mut_p53, optimal_num_cluster=clusters_by_sil_p53, title = \"p53 clustered by mean substitutions inverted\")"
   ],
   "metadata": {
    "collapsed": false
   }
  }
 ],
 "metadata": {
  "kernelspec": {
   "display_name": "Python 3",
   "language": "python",
   "name": "python3"
  },
  "language_info": {
   "codemirror_mode": {
    "name": "ipython",
    "version": 2
   },
   "file_extension": ".py",
   "mimetype": "text/x-python",
   "name": "python",
   "nbconvert_exporter": "python",
   "pygments_lexer": "ipython2",
   "version": "2.7.6"
  }
 },
 "nbformat": 4,
 "nbformat_minor": 0
}
