{
 "cells": [
  {
   "cell_type": "code",
   "execution_count": null,
   "outputs": [],
   "source": [
    "# Hier erstelle ich eine Distanzmatrix aus der ursprünglichen Datei für die Substitution"
   ],
   "metadata": {
    "collapsed": false
   }
  },
  {
   "cell_type": "code",
   "execution_count": 98,
   "outputs": [],
   "source": [
    "import pandas as pd\n",
    "import data_cleanup as dc\n",
    "import data_exploration as de"
   ],
   "metadata": {
    "collapsed": false,
    "ExecuteTime": {
     "end_time": "2023-05-31T12:23:52.692169600Z",
     "start_time": "2023-05-31T12:23:52.637340Z"
    }
   }
  },
  {
   "cell_type": "code",
   "execution_count": 80,
   "outputs": [
    {
     "data": {
      "text/plain": "     mutant                                   mutated_sequence  DMS_score  \\\n0       M1A  AEEPQSDPSVEPPLSQETFSDLWKLLPENNVLSPLPSQAMDDLMLS...  -0.788753   \n1       M1C  CEEPQSDPSVEPPLSQETFSDLWKLLPENNVLSPLPSQAMDDLMLS...  -1.969077   \n2       M1Y  YEEPQSDPSVEPPLSQETFSDLWKLLPENNVLSPLPSQAMDDLMLS...  -1.333315   \n3       M1W  WEEPQSDPSVEPPLSQETFSDLWKLLPENNVLSPLPSQAMDDLMLS...  -2.219256   \n4       M1V  VEEPQSDPSVEPPLSQETFSDLWKLLPENNVLSPLPSQAMDDLMLS...  -0.669727   \n...     ...                                                ...        ...   \n7462  D393E  MEEPQSDPSVEPPLSQETFSDLWKLLPENNVLSPLPSQAMDDLMLS...   0.701935   \n7463  D393C  MEEPQSDPSVEPPLSQETFSDLWKLLPENNVLSPLPSQAMDDLMLS...   0.458008   \n7464  D393A  MEEPQSDPSVEPPLSQETFSDLWKLLPENNVLSPLPSQAMDDLMLS...   1.132786   \n7465  D393M  MEEPQSDPSVEPPLSQETFSDLWKLLPENNVLSPLPSQAMDDLMLS...   1.269649   \n7466  D393Y  MEEPQSDPSVEPPLSQETFSDLWKLLPENNVLSPLPSQAMDDLMLS...   0.774152   \n\n      DMS_score_bin  \n0                 0  \n1                 0  \n2                 0  \n3                 0  \n4                 0  \n...             ...  \n7462              1  \n7463              1  \n7464              1  \n7465              1  \n7466              1  \n\n[7467 rows x 4 columns]",
      "text/html": "<div>\n<style scoped>\n    .dataframe tbody tr th:only-of-type {\n        vertical-align: middle;\n    }\n\n    .dataframe tbody tr th {\n        vertical-align: top;\n    }\n\n    .dataframe thead th {\n        text-align: right;\n    }\n</style>\n<table border=\"1\" class=\"dataframe\">\n  <thead>\n    <tr style=\"text-align: right;\">\n      <th></th>\n      <th>mutant</th>\n      <th>mutated_sequence</th>\n      <th>DMS_score</th>\n      <th>DMS_score_bin</th>\n    </tr>\n  </thead>\n  <tbody>\n    <tr>\n      <th>0</th>\n      <td>M1A</td>\n      <td>AEEPQSDPSVEPPLSQETFSDLWKLLPENNVLSPLPSQAMDDLMLS...</td>\n      <td>-0.788753</td>\n      <td>0</td>\n    </tr>\n    <tr>\n      <th>1</th>\n      <td>M1C</td>\n      <td>CEEPQSDPSVEPPLSQETFSDLWKLLPENNVLSPLPSQAMDDLMLS...</td>\n      <td>-1.969077</td>\n      <td>0</td>\n    </tr>\n    <tr>\n      <th>2</th>\n      <td>M1Y</td>\n      <td>YEEPQSDPSVEPPLSQETFSDLWKLLPENNVLSPLPSQAMDDLMLS...</td>\n      <td>-1.333315</td>\n      <td>0</td>\n    </tr>\n    <tr>\n      <th>3</th>\n      <td>M1W</td>\n      <td>WEEPQSDPSVEPPLSQETFSDLWKLLPENNVLSPLPSQAMDDLMLS...</td>\n      <td>-2.219256</td>\n      <td>0</td>\n    </tr>\n    <tr>\n      <th>4</th>\n      <td>M1V</td>\n      <td>VEEPQSDPSVEPPLSQETFSDLWKLLPENNVLSPLPSQAMDDLMLS...</td>\n      <td>-0.669727</td>\n      <td>0</td>\n    </tr>\n    <tr>\n      <th>...</th>\n      <td>...</td>\n      <td>...</td>\n      <td>...</td>\n      <td>...</td>\n    </tr>\n    <tr>\n      <th>7462</th>\n      <td>D393E</td>\n      <td>MEEPQSDPSVEPPLSQETFSDLWKLLPENNVLSPLPSQAMDDLMLS...</td>\n      <td>0.701935</td>\n      <td>1</td>\n    </tr>\n    <tr>\n      <th>7463</th>\n      <td>D393C</td>\n      <td>MEEPQSDPSVEPPLSQETFSDLWKLLPENNVLSPLPSQAMDDLMLS...</td>\n      <td>0.458008</td>\n      <td>1</td>\n    </tr>\n    <tr>\n      <th>7464</th>\n      <td>D393A</td>\n      <td>MEEPQSDPSVEPPLSQETFSDLWKLLPENNVLSPLPSQAMDDLMLS...</td>\n      <td>1.132786</td>\n      <td>1</td>\n    </tr>\n    <tr>\n      <th>7465</th>\n      <td>D393M</td>\n      <td>MEEPQSDPSVEPPLSQETFSDLWKLLPENNVLSPLPSQAMDDLMLS...</td>\n      <td>1.269649</td>\n      <td>1</td>\n    </tr>\n    <tr>\n      <th>7466</th>\n      <td>D393Y</td>\n      <td>MEEPQSDPSVEPPLSQETFSDLWKLLPENNVLSPLPSQAMDDLMLS...</td>\n      <td>0.774152</td>\n      <td>1</td>\n    </tr>\n  </tbody>\n</table>\n<p>7467 rows × 4 columns</p>\n</div>"
     },
     "execution_count": 80,
     "metadata": {},
     "output_type": "execute_result"
    }
   ],
   "source": [
    "fpath = '../DMS_data/P53_HUMAN_Giacomelli_NULL_Etoposide_2018.csv'\n",
    "df = pd.read_csv(fpath)\n"
   ],
   "metadata": {
    "collapsed": false,
    "ExecuteTime": {
     "end_time": "2023-05-31T11:25:38.052995300Z",
     "start_time": "2023-05-31T11:25:37.979112700Z"
    }
   }
  },
  {
   "cell_type": "code",
   "execution_count": 81,
   "outputs": [],
   "source": [
    "# Auftrennen der Mutante in alte und neue AS\n",
    "mutations_df = dc.aufteilung_mut_pos(df)"
   ],
   "metadata": {
    "collapsed": false,
    "ExecuteTime": {
     "end_time": "2023-05-31T11:28:12.311422500Z",
     "start_time": "2023-05-31T11:28:12.241208200Z"
    }
   }
  },
  {
   "cell_type": "code",
   "execution_count": 83,
   "outputs": [],
   "source": [
    "# Gruppieren der Substitutionen, geordnet erst nach alter und dann nach neuer AS mit Inspiration von ChatGPT (.groupby in der Pandas Dokumentation beschreibt nur das groupen nach einem Parameter)\n",
    "subs_df = mutations_df.groupby([\"AS_old\", \"AS_new\"])\n",
    "\n",
    "# Berechnen des means für jede Kombination\n",
    "mean_scores = subs_df.DMS_score.mean()\n",
    "\n",
    "\n",
    "# Es gibt 380 Möglichkeiten, 20 AS mit Reihenfolge und ohne zurücklegen zu kombinieren. Aus den Mittelwerten dieser 380 möglichen Substitutionen soll nun eine Distanzmatrix erstellt werden."
   ],
   "metadata": {
    "collapsed": false,
    "ExecuteTime": {
     "end_time": "2023-05-31T11:32:50.001862900Z",
     "start_time": "2023-05-31T11:32:49.961708300Z"
    }
   }
  },
  {
   "cell_type": "code",
   "execution_count": 95,
   "outputs": [
    {
     "data": {
      "text/plain": "(20, 20)"
     },
     "execution_count": 95,
     "metadata": {},
     "output_type": "execute_result"
    }
   ],
   "source": [
    "# Da \"mean_scores\" eine Serie ist, muss diese erst wieder in ein Data Frame umgewandelt werden. Dafür müssen den einzelnen Zeilen wieder konkrete Indizes zugewiesen werden, damit wieder ein Data Frame entsteht.\n",
    "mean_scores_df = mean_scores.reset_index()\n",
    "\n",
    "# Pivot erstellt aus unserer in einem Data Frame aufgelisteten Substitutionen ein Data Frame, das in Form einer Tabelle eine Distanzmatrix zeigt. Die Reihen sind die alten AS, die Spalten die neuen AS.\n",
    "distancematrix = mean_scores_df.pivot(index=\"AS_old\", columns=\"AS_new\", values= \"DMS_score\")\n",
    "\n",
    "\n",
    "distancematrix.head(20)\n",
    "\n",
    "#Zur Kontrolle: Muss 20x20 sein\n",
    "distancematrix.shape\n"
   ],
   "metadata": {
    "collapsed": false,
    "ExecuteTime": {
     "end_time": "2023-05-31T12:17:51.515911500Z",
     "start_time": "2023-05-31T12:17:51.463053400Z"
    }
   }
  }
 ],
 "metadata": {
  "kernelspec": {
   "display_name": "Python 3",
   "language": "python",
   "name": "python3"
  },
  "language_info": {
   "codemirror_mode": {
    "name": "ipython",
    "version": 2
   },
   "file_extension": ".py",
   "mimetype": "text/x-python",
   "name": "python",
   "nbconvert_exporter": "python",
   "pygments_lexer": "ipython2",
   "version": "2.7.6"
  }
 },
 "nbformat": 4,
 "nbformat_minor": 0
}
