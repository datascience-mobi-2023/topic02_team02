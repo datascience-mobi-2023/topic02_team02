{
 "cells": [
  {
   "cell_type": "markdown",
   "source": [
    "#### PCA, Hierarchical clustering and plotting on E. coli ß-Lactamase\n",
    "This notebook is supposed to be a proof a concept, to show that our code runs on other datasets then our own (if sufficient data cleanup is performed)."
   ],
   "metadata": {
    "collapsed": false
   }
  },
  {
   "cell_type": "code",
   "execution_count": null,
   "outputs": [],
   "source": [
    "%load_ext autoreload\n",
    "%autoreload 2\n",
    "\n",
    "import pandas as pd\n",
    "import data_exploration as de\n",
    "import data_cleanup as dc"
   ],
   "metadata": {
    "collapsed": false
   }
  },
  {
   "cell_type": "code",
   "execution_count": null,
   "outputs": [],
   "source": [
    "betalac: pd.DataFrame = pd.read_csv('../DMS_data/BLAT_ECOLX_Stiffler_2015.csv')\n",
    "\n",
    "#Data cleaning\n",
    "norm_frame_betalac = dc.aufteilung_mut_pos(dc.norm(betalac))"
   ],
   "metadata": {
    "collapsed": false
   }
  },
  {
   "cell_type": "code",
   "execution_count": null,
   "outputs": [],
   "source": [
    "dist_mut_betalac = de.dms_distance_matrix_wt(norm_frame_betalac)\n",
    "dist_wt_betalac = de.dms_distance_matrix_mutated(norm_frame_betalac)"
   ],
   "metadata": {
    "collapsed": false
   }
  },
  {
   "cell_type": "code",
   "execution_count": null,
   "outputs": [],
   "source": [
    "# hierarchical ward clustering\n",
    "de.plot_hier_clust(dist_wt_betalac, title = \"betalac distance matrix of WT AAs\")\n",
    "de.plot_hier_clust(dist_mut_betalac, title = \"betalac distance matrix of mutated AAs\")"
   ],
   "metadata": {
    "collapsed": false
   }
  },
  {
   "cell_type": "code",
   "execution_count": null,
   "outputs": [],
   "source": [
    "#determine optimal amount of clusters. Algorithm not optimized, but quite a good estimation\n",
    "\n",
    "#clusters_by_sil_betalac = de.determine_clusters_silhouette(dc.rmv_na(dc.df_transform(norm_frame_betalac)))\n",
    "# does not work here, because dataset contains missing values outside of those, that are supposed to be zero (e.g. distance from E to E is always NaN)\n",
    "\n",
    "#print (clusters_by_sil_betalac)"
   ],
   "metadata": {
    "collapsed": false
   }
  },
  {
   "cell_type": "code",
   "execution_count": null,
   "outputs": [],
   "source": [
    "# Plotting, after pca and hierarchical clustering. clusters are defined by the colors shown in the legend.\n",
    "\n",
    "de.pca_hierarchical_plot(dist_wt_betalac, optimal_num_cluster=4, title = \"betalac clustered by distance matrix of WT AAs\")\n",
    "de.pca_hierarchical_plot(dist_mut_betalac, optimal_num_cluster=4, title = \"betalac clustered by distance matrix of mutated AAs\")"
   ],
   "metadata": {
    "collapsed": false
   }
  }
 ],
 "metadata": {
  "kernelspec": {
   "display_name": "Python 3",
   "language": "python",
   "name": "python3"
  },
  "language_info": {
   "codemirror_mode": {
    "name": "ipython",
    "version": 2
   },
   "file_extension": ".py",
   "mimetype": "text/x-python",
   "name": "python",
   "nbconvert_exporter": "python",
   "pygments_lexer": "ipython2",
   "version": "2.7.6"
  }
 },
 "nbformat": 4,
 "nbformat_minor": 0
}
