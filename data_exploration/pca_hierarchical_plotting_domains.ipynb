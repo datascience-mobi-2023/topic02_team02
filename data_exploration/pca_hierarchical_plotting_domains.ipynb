{
 "cells": [
  {
   "cell_type": "markdown",
   "source": [
    "#### PCA, Hierarchical clustering and plotting implemented for each domain\n",
    "In this notebook, we performed a pca dimension reduction, continued with a hierarchical clustering and plotted the results for different domains. To plot the different domains, you need to select the domain you want to plot in the cell labeled with \"### EDIT FOR THE DOMAIN OF YOUR LIKING ###\"."
   ],
   "metadata": {
    "collapsed": false
   }
  },
  {
   "cell_type": "code",
   "execution_count": null,
   "outputs": [],
   "source": [
    "%load_ext autoreload\n",
    "%autoreload 2\n",
    "\n",
    "import pandas as pd\n",
    "import data_exploration as de\n",
    "import data_cleanup as dc\n",
    "import domain_comparison as doc"
   ],
   "metadata": {
    "collapsed": false
   }
  },
  {
   "cell_type": "code",
   "execution_count": null,
   "outputs": [],
   "source": [
    "aa = pd.read_csv('../DMS_data/aminoacids.csv')\n",
    "\n",
    "df: pd.DataFrame = dc.norm(pd.read_csv('../DMS_data/P53_HUMAN_Giacomelli_NULL_Etoposide_2018.csv'))\n",
    "norm_frame = dc.aufteilung_mut_pos(dc.norm(df))"
   ],
   "metadata": {
    "collapsed": false
   }
  },
  {
   "cell_type": "code",
   "execution_count": null,
   "outputs": [],
   "source": [
    "# Saving the different domains for better accessibility\n",
    "\n",
    "#Transactivation Domain 1\n",
    "t1_start = 1\n",
    "t1_end = 43\n",
    "\n",
    "#Transactivation Domain 2\n",
    "t2_start = 44\n",
    "t2_end = 63\n",
    "\n",
    "#Proline-rich Region\n",
    "pr_start = 64\n",
    "pr_end = 92\n",
    "\n",
    "#DNA Binding Domain\n",
    "dna_start = 102\n",
    "dna_end = 292\n",
    "\n",
    "#Tetramerization Domain\n",
    "tetra_start = 320\n",
    "tetra_end = 355\n",
    "\n",
    "#Regulatory Domain\n",
    "reg_start = 356\n",
    "reg_end = 393\n",
    "\n",
    "\n",
    "\n",
    "t1_domain = dc.rmv_na(dc.df_transform(doc.slice_domain(df, start= t1_start, end= t1_end)))\n",
    "t1_list = doc.slice_domain(df, start= t1_start, end= t1_end)\n",
    "t1_dist = de.dms_distance_matrix_wt(t1_list)\n",
    "\n",
    "t2_domain = dc.rmv_na(dc.df_transform(doc.slice_domain(df, start= t2_start, end= t2_end)))\n",
    "t2_list = doc.slice_domain(df, start= t2_start, end= t2_end)\n",
    "t2_dist = de.dms_distance_matrix_wt(t2_list)\n",
    "\n",
    "pr_domain = dc.rmv_na(dc.df_transform(doc.slice_domain(df, start= pr_start, end= pr_end)))\n",
    "pr_list = doc.slice_domain(df, start= pr_start, end= pr_end)\n",
    "pr_dist = de.dms_distance_matrix_wt(pr_list)\n",
    "\n",
    "dna_domain = dc.rmv_na(dc.df_transform(doc.slice_domain(df, start= dna_start, end= dna_end)))\n",
    "dna_list = doc.slice_domain(df, start= dna_start, end= dna_end)\n",
    "dna_dist = de.dms_distance_matrix_wt(dna_list)\n",
    "\n",
    "tetra_domain = dc.rmv_na(dc.df_transform(doc.slice_domain(df, start= tetra_start, end= tetra_end)))\n",
    "tetra_list = doc.slice_domain(df, start= tetra_start, end= tetra_end)\n",
    "tetra_dist = de.dms_distance_matrix_wt(tetra_list)\n",
    "\n",
    "reg_domain = dc.rmv_na(dc.df_transform(doc.slice_domain(df, start= reg_start, end= reg_end)))\n",
    "reg_list = doc.slice_domain(df, start= reg_start, end= reg_end)\n",
    "reg_dist = de.dms_distance_matrix_wt(reg_list)\n",
    "\n",
    "# to be more efficient for greater amounts of domains: Transfer into a dictionary"
   ],
   "metadata": {
    "collapsed": false
   }
  },
  {
   "cell_type": "code",
   "execution_count": null,
   "outputs": [],
   "source": [
    "t2_dist.shape\n",
    "## some domains don't contain all substitutions, so the distance matrices are of lower dimension than 20x20. Thus, there cannot be 20 datapoints in the plots created further down."
   ],
   "metadata": {
    "collapsed": false
   }
  },
  {
   "cell_type": "code",
   "execution_count": null,
   "outputs": [],
   "source": [
    "### EDIT FOR THE DOMAIN OF YOUR LIKING ###\n",
    "\n",
    "#Variable containing the domain, the plots are created for\n",
    "domain = dna_dist\n",
    "\n",
    "#Variable to print correct plot titles\n",
    "title = \"DNA-binding domain of p53\"\n"
   ],
   "metadata": {
    "collapsed": false
   }
  },
  {
   "cell_type": "code",
   "execution_count": null,
   "outputs": [],
   "source": [
    "de.plot_hier_clust(domain, title = title)"
   ],
   "metadata": {
    "collapsed": false
   }
  },
  {
   "cell_type": "markdown",
   "source": [],
   "metadata": {
    "collapsed": false
   }
  },
  {
   "cell_type": "code",
   "execution_count": null,
   "outputs": [],
   "source": [
    "best_clusters = de.determine_clusters_silhouette(domain)\n",
    "print(best_clusters)"
   ],
   "metadata": {
    "collapsed": false
   }
  },
  {
   "cell_type": "code",
   "execution_count": null,
   "outputs": [],
   "source": [
    "de.pca_hierarchical_plot(domain, optimal_num_cluster= best_clusters, title= title)"
   ],
   "metadata": {
    "collapsed": false
   }
  }
 ],
 "metadata": {
  "kernelspec": {
   "display_name": "Python 3",
   "language": "python",
   "name": "python3"
  },
  "language_info": {
   "codemirror_mode": {
    "name": "ipython",
    "version": 2
   },
   "file_extension": ".py",
   "mimetype": "text/x-python",
   "name": "python",
   "nbconvert_exporter": "python",
   "pygments_lexer": "ipython2",
   "version": "2.7.6"
  }
 },
 "nbformat": 4,
 "nbformat_minor": 0
}
